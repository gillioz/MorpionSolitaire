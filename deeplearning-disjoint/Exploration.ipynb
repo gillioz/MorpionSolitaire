{
 "cells": [
  {
   "cell_type": "markdown",
   "metadata": {},
   "source": [
    "# Morpion Solitaire: exploration with a model"
   ]
  },
  {
   "cell_type": "code",
   "execution_count": 1,
   "metadata": {},
   "outputs": [],
   "source": [
    "import sys, os\n",
    "sys.path.append(os.getcwd() + '/../cpp/bin')\n",
    "\n",
    "import PyMorpionSolitaire"
   ]
  },
  {
   "cell_type": "code",
   "execution_count": 2,
   "metadata": {},
   "outputs": [
    {
     "data": {
      "text/plain": [
       "device(type='cpu')"
      ]
     },
     "execution_count": 2,
     "metadata": {},
     "output_type": "execute_result"
    }
   ],
   "source": [
    "import torch\n",
    "\n",
    "device = torch.device('cuda' if torch.cuda.is_available() else 'cpu')\n",
    "device"
   ]
  },
  {
   "cell_type": "code",
   "execution_count": 3,
   "metadata": {},
   "outputs": [],
   "source": [
    "import numpy as np\n",
    "import matplotlib.pyplot as plt\n",
    "from tqdm.notebook import tqdm, trange"
   ]
  },
  {
   "cell_type": "markdown",
   "metadata": {},
   "source": [
    "## Model"
   ]
  },
  {
   "cell_type": "code",
   "execution_count": 4,
   "metadata": {},
   "outputs": [],
   "source": [
    "class ResNet(torch.nn.Module):\n",
    "    def __init__(self, module):\n",
    "        super().__init__()\n",
    "        self.module = module\n",
    "\n",
    "    def forward(self, inputs):\n",
    "        return self.module(inputs) + inputs"
   ]
  },
  {
   "cell_type": "code",
   "execution_count": 5,
   "metadata": {},
   "outputs": [
    {
     "data": {
      "text/plain": [
       "Sequential(\n",
       "  (0): Conv2d(2, 32, kernel_size=(3, 3), stride=(3, 3))\n",
       "  (1): ReLU()\n",
       "  (2): Conv2d(32, 64, kernel_size=(2, 2), stride=(1, 1))\n",
       "  (3): ReLU()\n",
       "  (4): Conv2d(64, 128, kernel_size=(2, 2), stride=(1, 1))\n",
       "  (5): ReLU()\n",
       "  (6): Conv2d(128, 128, kernel_size=(2, 2), stride=(1, 1))\n",
       "  (7): ReLU()\n",
       "  (8): Conv2d(128, 128, kernel_size=(2, 2), stride=(1, 1))\n",
       "  (9): ReLU()\n",
       "  (10): ResNet(\n",
       "    (module): Sequential(\n",
       "      (0): Conv2d(128, 128, kernel_size=(3, 3), stride=(1, 1), padding=(1, 1))\n",
       "      (1): BatchNorm2d(128, eps=1e-05, momentum=0.1, affine=True, track_running_stats=True)\n",
       "      (2): ReLU()\n",
       "      (3): Conv2d(128, 128, kernel_size=(3, 3), stride=(1, 1), padding=(1, 1))\n",
       "      (4): BatchNorm2d(128, eps=1e-05, momentum=0.1, affine=True, track_running_stats=True)\n",
       "      (5): ReLU()\n",
       "    )\n",
       "  )\n",
       "  (11): ResNet(\n",
       "    (module): Sequential(\n",
       "      (0): Conv2d(128, 128, kernel_size=(3, 3), stride=(1, 1), padding=(1, 1))\n",
       "      (1): BatchNorm2d(128, eps=1e-05, momentum=0.1, affine=True, track_running_stats=True)\n",
       "      (2): ReLU()\n",
       "      (3): Conv2d(128, 128, kernel_size=(3, 3), stride=(1, 1), padding=(1, 1))\n",
       "      (4): BatchNorm2d(128, eps=1e-05, momentum=0.1, affine=True, track_running_stats=True)\n",
       "      (5): ReLU()\n",
       "    )\n",
       "  )\n",
       "  (12): ResNet(\n",
       "    (module): Sequential(\n",
       "      (0): Conv2d(128, 128, kernel_size=(3, 3), stride=(1, 1), padding=(1, 1))\n",
       "      (1): BatchNorm2d(128, eps=1e-05, momentum=0.1, affine=True, track_running_stats=True)\n",
       "      (2): ReLU()\n",
       "      (3): Conv2d(128, 128, kernel_size=(3, 3), stride=(1, 1), padding=(1, 1))\n",
       "      (4): BatchNorm2d(128, eps=1e-05, momentum=0.1, affine=True, track_running_stats=True)\n",
       "      (5): ReLU()\n",
       "    )\n",
       "  )\n",
       "  (13): ResNet(\n",
       "    (module): Sequential(\n",
       "      (0): Conv2d(128, 128, kernel_size=(3, 3), stride=(1, 1), padding=(1, 1))\n",
       "      (1): BatchNorm2d(128, eps=1e-05, momentum=0.1, affine=True, track_running_stats=True)\n",
       "      (2): ReLU()\n",
       "      (3): Conv2d(128, 128, kernel_size=(3, 3), stride=(1, 1), padding=(1, 1))\n",
       "      (4): BatchNorm2d(128, eps=1e-05, momentum=0.1, affine=True, track_running_stats=True)\n",
       "      (5): ReLU()\n",
       "    )\n",
       "  )\n",
       "  (14): AdaptiveAvgPool2d(output_size=1)\n",
       "  (15): Flatten(start_dim=1, end_dim=-1)\n",
       "  (16): Linear(in_features=128, out_features=64, bias=True)\n",
       "  (17): ReLU()\n",
       "  (18): Linear(in_features=64, out_features=32, bias=True)\n",
       "  (19): ReLU()\n",
       "  (20): Linear(in_features=32, out_features=1, bias=True)\n",
       ")"
      ]
     },
     "execution_count": 5,
     "metadata": {},
     "output_type": "execute_result"
    }
   ],
   "source": [
    "net = torch.load('models/model-128-res-4.pt', map_location=device)\n",
    "net.eval()"
   ]
  },
  {
   "cell_type": "markdown",
   "metadata": {},
   "source": [
    "## Game"
   ]
  },
  {
   "cell_type": "code",
   "execution_count": 6,
   "metadata": {},
   "outputs": [],
   "source": [
    "game = PyMorpionSolitaire.Game5T('c')"
   ]
  },
  {
   "cell_type": "code",
   "execution_count": 7,
   "metadata": {},
   "outputs": [
    {
     "data": {
      "text/plain": [
       "torch.Size([28, 2, 96, 96])"
      ]
     },
     "execution_count": 7,
     "metadata": {},
     "output_type": "execute_result"
    }
   ],
   "source": [
    "state = game.image()[48:144, 48:144]\n",
    "actions = game.getMoveImages()[:, 48:144, 48:144]\n",
    "\n",
    "state = np.expand_dims(state, 0).repeat(actions.shape[0], axis=0)\n",
    "actions = actions ^ state\n",
    "\n",
    "x = torch.tensor(np.concatenate([np.expand_dims(state, 1), np.expand_dims(actions, 1)], axis = 1)).float()\n",
    "x.shape"
   ]
  },
  {
   "cell_type": "code",
   "execution_count": 8,
   "metadata": {},
   "outputs": [],
   "source": [
    "with torch.no_grad():\n",
    "    y = net(x).data"
   ]
  },
  {
   "cell_type": "code",
   "execution_count": 9,
   "metadata": {},
   "outputs": [
    {
     "data": {
      "text/plain": [
       "(0.0007973574101924896, 0.0007973574101924896, 0.0007973574101924896)"
      ]
     },
     "execution_count": 9,
     "metadata": {},
     "output_type": "execute_result"
    }
   ],
   "source": [
    "y.min().item(), y.mean().item(), y.max().item()"
   ]
  },
  {
   "cell_type": "code",
   "execution_count": 10,
   "metadata": {},
   "outputs": [
    {
     "name": "stdout",
     "output_type": "stream",
     "text": [
      "  0   0.001   0.001   0.001\n",
      "  1   0.001   0.001   0.001\n",
      "  2   0.001   0.001   0.001\n",
      "  3   0.001   0.001   0.001\n",
      "  4   0.001   0.001   0.001\n",
      "  5   0.001   0.001   0.001\n",
      "  6   0.001   0.001   0.001\n",
      "  7   0.001   0.001   0.001\n",
      "  8   0.001   0.001   0.001\n",
      "  9   0.001   0.001   0.001\n",
      " 10  -0.009  -0.000   0.001\n",
      " 11  -0.007  -0.000   0.001\n",
      " 12   0.001   0.001   0.001\n",
      " 13  -0.009  -0.000   0.001\n",
      " 14  -0.012  -0.002   0.001\n",
      " 15  -0.007  -0.001   0.001\n",
      " 16   0.001   0.001   0.001\n",
      " 17  -0.015  -0.001   0.001\n",
      " 18  -0.013  -0.001   0.006\n",
      " 19  -0.015  -0.002   0.006\n",
      " 20  -0.014  -0.003   0.001\n",
      " 21  -0.011  -0.001   0.001\n",
      " 22  -0.007  -0.000   0.001\n",
      " 23  -0.007  -0.000   0.001\n",
      " 24  -0.012  -0.002   0.001\n",
      " 25  -0.010  -0.001   0.001\n",
      " 26  -0.007  -0.001   0.001\n",
      " 27  -0.010  -0.002   0.001\n",
      " 28  -0.012  -0.006   0.001\n",
      " 29  -0.010  -0.004   0.001\n",
      " 30  -0.017  -0.007   0.001\n",
      " 31  -0.015  -0.007   0.001\n",
      " 32  -0.016  -0.008   0.001\n",
      " 33  -0.019  -0.005   0.001\n",
      " 34  -0.017  -0.006   0.001\n",
      " 35  -0.016  -0.007   0.012\n",
      " 36  -0.016  -0.007   0.001\n",
      " 37  -0.015  -0.007   0.001\n",
      " 38  -0.018  -0.009   0.001\n",
      " 39  -0.018  -0.010   0.001\n",
      " 40  -0.021  -0.005   0.027\n",
      " 41  -0.022  -0.006   0.024\n",
      " 42  -0.024  -0.009   0.005\n",
      " 43  -0.024  -0.010   0.009\n",
      " 44  -0.025  -0.011   0.001\n",
      " 45  -0.018  -0.010   0.001\n",
      " 46  -0.025  -0.004   0.027\n",
      " 47  -0.027  -0.007   0.016\n",
      " 48  -0.019  -0.005   0.034\n",
      " 49  -0.018  -0.003   0.034\n",
      " 50  -0.027  -0.008   0.016\n",
      " 51  -0.031  -0.006   0.029\n",
      " 52  -0.035  -0.010   0.001\n",
      " 53  -0.054  -0.009   0.067\n",
      " 54  -0.059  -0.011   0.046\n",
      " 55  -0.066  -0.016   0.060\n",
      " 56  -0.076  -0.027  -0.004\n",
      " 57  -0.234  -0.058   0.039\n",
      " 58  -0.098  -0.049   0.068\n",
      " 59  -0.130  -0.069  -0.036\n",
      " 60  -0.064  -0.010   0.151\n",
      " 61  -0.065  -0.029   0.032\n",
      " 62  -0.075  -0.008   0.081\n",
      " 63  -0.076  -0.025   0.022\n",
      " 64  -0.117  -0.027   0.063\n",
      " 65  -0.049   0.007   0.170\n",
      " 66  -0.064  -0.004   0.145\n",
      " 67  -0.072  -0.020   0.075\n",
      " 68  -0.088  -0.047  -0.014\n",
      " 69  -0.113  -0.068  -0.023\n",
      " 70   0.452   0.452   0.452\n"
     ]
    },
    {
     "data": {
      "image/png": "[encoded data removed]",
      "text/plain": [
       "<Figure size 500x500 with 1 Axes>"
      ]
     },
     "metadata": {},
     "output_type": "display_data"
    }
   ],
   "source": [
    "game = PyMorpionSolitaire.Game5T('c')\n",
    "\n",
    "with torch.no_grad():\n",
    "    while game.getNumberOfMoves() > 0:\n",
    "        state = game.image()[48:144, 48:144]\n",
    "        actions = game.getMoveImages()[:, 48:144, 48:144]\n",
    "        \n",
    "        state = np.expand_dims(state, 0).repeat(actions.shape[0], axis=0)\n",
    "        actions = actions ^ state\n",
    "        \n",
    "        x = torch.tensor(np.concatenate([np.expand_dims(state, 1), np.expand_dims(actions, 1)], axis = 1)).float()\n",
    "        y = net(x).data.squeeze(1)\n",
    "        i = np.argmax(y).item()\n",
    "        s = game.getScore()\n",
    "        game.playByIndex(i)\n",
    "        print(\"%3d %7.3f %7.3f %7.3f\" % (s, y.min().item(), y.mean().item(), y[i].item()))\n",
    "\n",
    "game.print()"
   ]
  },
  {
   "cell_type": "code",
   "execution_count": 11,
   "metadata": {},
   "outputs": [],
   "source": [
    "scores = {1e-6: [game.getScore()]}"
   ]
  },
  {
   "cell_type": "code",
   "execution_count": 12,
   "metadata": {},
   "outputs": [],
   "source": [
    "def play_random():\n",
    "    game = PyMorpionSolitaire.Game5T('c')\n",
    "    game.playAtRandom()\n",
    "    return game.getScore()"
   ]
  },
  {
   "cell_type": "code",
   "execution_count": 13,
   "metadata": {},
   "outputs": [],
   "source": [
    "scores[100] = [play_random() for _ in range(10000)]"
   ]
  },
  {
   "cell_type": "code",
   "execution_count": 14,
   "metadata": {},
   "outputs": [],
   "source": [
    "def play(t):\n",
    "    game = PyMorpionSolitaire.Game5T('c')\n",
    "    while True:\n",
    "        n = game.getNumberOfMoves()\n",
    "        if n == 0:\n",
    "            return game.getScore()\n",
    "        if n == 1:\n",
    "            game.playByIndex(0)\n",
    "        else:\n",
    "            state = game.image()[48:144, 48:144]\n",
    "            actions = game.getMoveImages()[:, 48:144, 48:144]\n",
    "            \n",
    "            state = np.expand_dims(state, 0).repeat(actions.shape[0], axis=0)\n",
    "            actions = actions ^ state\n",
    "            \n",
    "            x = torch.tensor(np.concatenate([np.expand_dims(state, 1), np.expand_dims(actions, 1)], axis = 1)).float()\n",
    "            y = net(x).data.squeeze()\n",
    "            p = torch.exp((y - y.max()) / t)\n",
    "            p /= p.sum()\n",
    "            index = np.random.choice(range(len(p)), p=np.array(p))\n",
    "            game.playByIndex(index)"
   ]
  },
  {
   "cell_type": "code",
   "execution_count": 15,
   "metadata": {},
   "outputs": [
    {
     "data": {
      "application/vnd.jupyter.widget-view+json": {
       "model_id": "60763acb5be841c3b2458a3328ad977e",
       "version_major": 2,
       "version_minor": 0
      },
      "text/plain": [
       "  0%|          | 0/10 [00:00<?, ?it/s]"
      ]
     },
     "metadata": {},
     "output_type": "display_data"
    },
    {
     "data": {
      "application/vnd.jupyter.widget-view+json": {
       "model_id": "",
       "version_major": 2,
       "version_minor": 0
      },
      "text/plain": [
       "  0%|          | 0/10 [00:00<?, ?it/s]"
      ]
     },
     "metadata": {},
     "output_type": "display_data"
    },
    {
     "data": {
      "application/vnd.jupyter.widget-view+json": {
       "model_id": "",
       "version_major": 2,
       "version_minor": 0
      },
      "text/plain": [
       "  0%|          | 0/10 [00:00<?, ?it/s]"
      ]
     },
     "metadata": {},
     "output_type": "display_data"
    },
    {
     "data": {
      "application/vnd.jupyter.widget-view+json": {
       "model_id": "",
       "version_major": 2,
       "version_minor": 0
      },
      "text/plain": [
       "  0%|          | 0/10 [00:00<?, ?it/s]"
      ]
     },
     "metadata": {},
     "output_type": "display_data"
    },
    {
     "data": {
      "application/vnd.jupyter.widget-view+json": {
       "model_id": "",
       "version_major": 2,
       "version_minor": 0
      },
      "text/plain": [
       "  0%|          | 0/10 [00:00<?, ?it/s]"
      ]
     },
     "metadata": {},
     "output_type": "display_data"
    },
    {
     "data": {
      "application/vnd.jupyter.widget-view+json": {
       "model_id": "",
       "version_major": 2,
       "version_minor": 0
      },
      "text/plain": [
       "  0%|          | 0/10 [00:00<?, ?it/s]"
      ]
     },
     "metadata": {},
     "output_type": "display_data"
    },
    {
     "data": {
      "application/vnd.jupyter.widget-view+json": {
       "model_id": "",
       "version_major": 2,
       "version_minor": 0
      },
      "text/plain": [
       "  0%|          | 0/10 [00:00<?, ?it/s]"
      ]
     },
     "metadata": {},
     "output_type": "display_data"
    },
    {
     "data": {
      "application/vnd.jupyter.widget-view+json": {
       "model_id": "",
       "version_major": 2,
       "version_minor": 0
      },
      "text/plain": [
       "  0%|          | 0/10 [00:00<?, ?it/s]"
      ]
     },
     "metadata": {},
     "output_type": "display_data"
    },
    {
     "data": {
      "application/vnd.jupyter.widget-view+json": {
       "model_id": "",
       "version_major": 2,
       "version_minor": 0
      },
      "text/plain": [
       "  0%|          | 0/10 [00:00<?, ?it/s]"
      ]
     },
     "metadata": {},
     "output_type": "display_data"
    },
    {
     "data": {
      "application/vnd.jupyter.widget-view+json": {
       "model_id": "",
       "version_major": 2,
       "version_minor": 0
      },
      "text/plain": [
       "  0%|          | 0/10 [00:00<?, ?it/s]"
      ]
     },
     "metadata": {},
     "output_type": "display_data"
    },
    {
     "data": {
      "application/vnd.jupyter.widget-view+json": {
       "model_id": "",
       "version_major": 2,
       "version_minor": 0
      },
      "text/plain": [
       "  0%|          | 0/10 [00:00<?, ?it/s]"
      ]
     },
     "metadata": {},
     "output_type": "display_data"
    }
   ],
   "source": [
    "t_list = [1e-4, 3e-4, 1e-3, 3e-3, 1e-2, 3e-2, 1e-1, 3e-1, 1, 3]\n",
    "for t in tqdm(t_list):\n",
    "    if t not in scores:\n",
    "        scores[t] = []\n",
    "    for _ in tqdm(range(10), leave=False):\n",
    "        s = play(t)\n",
    "        # print(s)\n",
    "        scores[t] = scores[t] + [s]"
   ]
  },
  {
   "cell_type": "code",
   "execution_count": 30,
   "metadata": {},
   "outputs": [
    {
     "data": {
      "text/plain": [
       "[(1e-06, 71.0),\n",
       " (0.0001, 73.92),\n",
       " (0.0003, 74.4),\n",
       " (0.001, 74.86),\n",
       " (0.003, 74.6),\n",
       " (0.01, 70.5),\n",
       " (0.03, 66.5),\n",
       " (0.1, 67.4),\n",
       " (0.3, 64.88888888888889),\n",
       " (1, 66.28571428571429),\n",
       " (3, 66.25),\n",
       " (100, 63.80878552971576)]"
      ]
     },
     "execution_count": 30,
     "metadata": {},
     "output_type": "execute_result"
    }
   ],
   "source": [
    "scores_mean = {t: np.mean(score, where = np.array(score) > 45).item() for t, score in scores.items()}\n",
    "sorted(scores_mean.items())"
   ]
  },
  {
   "cell_type": "code",
   "execution_count": 31,
   "metadata": {},
   "outputs": [
    {
     "data": {
      "text/plain": [
       "[(1e-06, 0.0),\n",
       " (0.0001, 5.14136168733537),\n",
       " (0.0003, 3.1368774282716245),\n",
       " (0.001, 5.878809403272061),\n",
       " (0.003, 5.219195340279955),\n",
       " (0.01, 4.883646178829912),\n",
       " (0.03, 3.6124783736376886),\n",
       " (0.1, 5.678027826631356),\n",
       " (0.3, 6.556497107525303),\n",
       " (1, 2.602981022612657),\n",
       " (3, 6.475916923494309),\n",
       " (100, 4.475254239777447)]"
      ]
     },
     "execution_count": 31,
     "metadata": {},
     "output_type": "execute_result"
    }
   ],
   "source": [
    "scores_std = {t: np.std(score, where = np.array(score) > 45).item() for t, score in scores.items()}\n",
    "sorted(scores_std.items())"
   ]
  },
  {
   "cell_type": "code",
   "execution_count": 32,
   "metadata": {},
   "outputs": [
    {
     "data": {
      "text/plain": [
       "[(1e-06, 71),\n",
       " (0.0001, 90),\n",
       " (0.0003, 80),\n",
       " (0.001, 91),\n",
       " (0.003, 82),\n",
       " (0.01, 81),\n",
       " (0.03, 74),\n",
       " (0.1, 76),\n",
       " (0.3, 71),\n",
       " (1, 71),\n",
       " (3, 81),\n",
       " (100, 85)]"
      ]
     },
     "execution_count": 32,
     "metadata": {},
     "output_type": "execute_result"
    }
   ],
   "source": [
    "scores_max = {t: np.max(score).item() for t, score in scores.items()}\n",
    "sorted(scores_max.items())"
   ]
  },
  {
   "cell_type": "code",
   "execution_count": 33,
   "metadata": {},
   "outputs": [
    {
     "data": {
      "image/png": "[encoded data removed]",
      "text/plain": [
       "<Figure size 640x480 with 1 Axes>"
      ]
     },
     "metadata": {},
     "output_type": "display_data"
    }
   ],
   "source": [
    "x = sorted(list(scores_mean.keys()))\n",
    "\n",
    "plt.errorbar(x, [scores_mean[i] for i in x], [scores_std[i] for i in x], capsize = 3)\n",
    "plt.plot(x, [scores_max[i] for i in x], label=\"max\")\n",
    "plt.xscale('log')\n",
    "plt.show()"
   ]
  },
  {
   "cell_type": "code",
   "execution_count": 26,
   "metadata": {},
   "outputs": [
    {
     "data": {
      "image/png": "[encoded data removed]",
      "text/plain": [
       "<Figure size 640x480 with 1 Axes>"
      ]
     },
     "metadata": {},
     "output_type": "display_data"
    }
   ],
   "source": [
    "bins = [i - 0.5 for i in range(100)]\n",
    "\n",
    "dist_0, bins = np.histogram(scores[100], bins, density=True)\n",
    "dist, bins = np.histogram(scores[1e-3], bins, density=True)\n",
    "\n",
    "plt.step(bins[:-1], dist_0)\n",
    "plt.step(bins[:-1], dist)\n",
    "plt.xlim(0)\n",
    "plt.ylim(0)\n",
    "plt.show()"
   ]
  },
  {
   "cell_type": "code",
   "execution_count": 24,
   "metadata": {},
   "outputs": [],
   "source": [
    "# scores[1e-4] = scores[1e-4] + [play(1e-4) for _ in trange(40)]"
   ]
  },
  {
   "cell_type": "code",
   "execution_count": 25,
   "metadata": {},
   "outputs": [
    {
     "data": {
      "application/vnd.jupyter.widget-view+json": {
       "model_id": "c23fdafd99b0468c8fb6b7ac2c89bb7b",
       "version_major": 2,
       "version_minor": 0
      },
      "text/plain": [
       "  0%|          | 0/40 [00:00<?, ?it/s]"
      ]
     },
     "metadata": {},
     "output_type": "display_data"
    }
   ],
   "source": [
    "scores[1e-3] = scores[1e-3] + [play(1e-3) for _ in trange(40)]"
   ]
  },
  {
   "cell_type": "code",
   "execution_count": null,
   "metadata": {},
   "outputs": [],
   "source": []
  }
 ],
 "metadata": {
  "kernelspec": {
   "display_name": "Python 3 (ipykernel)",
   "language": "python",
   "name": "python3"
  },
  "language_info": {
   "codemirror_mode": {
    "name": "ipython",
    "version": 3
   },
   "file_extension": ".py",
   "mimetype": "text/x-python",
   "name": "python",
   "nbconvert_exporter": "python",
   "pygments_lexer": "ipython3",
   "version": "3.12.4"
  }
 },
 "nbformat": 4,
 "nbformat_minor": 4
}
