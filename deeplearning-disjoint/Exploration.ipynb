{
 "cells": [
  {
   "cell_type": "markdown",
   "metadata": {},
   "source": [
    "# Morpion Solitaire: exploration with a model"
   ]
  },
  {
   "cell_type": "code",
   "execution_count": 1,
   "metadata": {},
   "outputs": [],
   "source": [
    "import sys, os\n",
    "sys.path.append(os.getcwd() + '/../cpp/bin')\n",
    "\n",
    "import PyMorpionSolitaire"
   ]
  },
  {
   "cell_type": "code",
   "execution_count": 2,
   "metadata": {},
   "outputs": [
    {
     "data": {
      "text/plain": [
       "device(type='cpu')"
      ]
     },
     "execution_count": 2,
     "metadata": {},
     "output_type": "execute_result"
    }
   ],
   "source": [
    "import torch\n",
    "\n",
    "device = torch.device('cuda' if torch.cuda.is_available() else 'cpu')\n",
    "device"
   ]
  },
  {
   "cell_type": "code",
   "execution_count": 3,
   "metadata": {},
   "outputs": [],
   "source": [
    "import numpy as np\n",
    "import matplotlib.pyplot as plt\n",
    "from tqdm.notebook import tqdm, trange"
   ]
  },
  {
   "cell_type": "markdown",
   "metadata": {},
   "source": [
    "## Model"
   ]
  },
  {
   "cell_type": "code",
   "execution_count": 4,
   "metadata": {},
   "outputs": [],
   "source": [
    "class ResNet(torch.nn.Module):\n",
    "    def __init__(self, module):\n",
    "        super().__init__()\n",
    "        self.module = module\n",
    "\n",
    "    def forward(self, inputs):\n",
    "        return self.module(inputs) + inputs"
   ]
  },
  {
   "cell_type": "code",
   "execution_count": 5,
   "metadata": {},
   "outputs": [
    {
     "data": {
      "text/plain": [
       "Sequential(\n",
       "  (0): Conv2d(2, 32, kernel_size=(3, 3), stride=(3, 3))\n",
       "  (1): ReLU()\n",
       "  (2): Conv2d(32, 64, kernel_size=(2, 2), stride=(1, 1))\n",
       "  (3): ReLU()\n",
       "  (4): Conv2d(64, 64, kernel_size=(2, 2), stride=(1, 1))\n",
       "  (5): ReLU()\n",
       "  (6): Conv2d(64, 64, kernel_size=(2, 2), stride=(1, 1))\n",
       "  (7): ReLU()\n",
       "  (8): Conv2d(64, 64, kernel_size=(2, 2), stride=(1, 1))\n",
       "  (9): ReLU()\n",
       "  (10): ResNet(\n",
       "    (module): Sequential(\n",
       "      (0): Conv2d(64, 64, kernel_size=(3, 3), stride=(1, 1), padding=(1, 1))\n",
       "      (1): BatchNorm2d(64, eps=1e-05, momentum=0.1, affine=True, track_running_stats=True)\n",
       "      (2): ReLU()\n",
       "      (3): Conv2d(64, 64, kernel_size=(3, 3), stride=(1, 1), padding=(1, 1))\n",
       "      (4): BatchNorm2d(64, eps=1e-05, momentum=0.1, affine=True, track_running_stats=True)\n",
       "      (5): ReLU()\n",
       "    )\n",
       "  )\n",
       "  (11): ResNet(\n",
       "    (module): Sequential(\n",
       "      (0): Conv2d(64, 64, kernel_size=(3, 3), stride=(1, 1), padding=(1, 1))\n",
       "      (1): BatchNorm2d(64, eps=1e-05, momentum=0.1, affine=True, track_running_stats=True)\n",
       "      (2): ReLU()\n",
       "      (3): Conv2d(64, 64, kernel_size=(3, 3), stride=(1, 1), padding=(1, 1))\n",
       "      (4): BatchNorm2d(64, eps=1e-05, momentum=0.1, affine=True, track_running_stats=True)\n",
       "      (5): ReLU()\n",
       "    )\n",
       "  )\n",
       "  (12): ResNet(\n",
       "    (module): Sequential(\n",
       "      (0): Conv2d(64, 64, kernel_size=(3, 3), stride=(1, 1), padding=(1, 1))\n",
       "      (1): BatchNorm2d(64, eps=1e-05, momentum=0.1, affine=True, track_running_stats=True)\n",
       "      (2): ReLU()\n",
       "      (3): Conv2d(64, 64, kernel_size=(3, 3), stride=(1, 1), padding=(1, 1))\n",
       "      (4): BatchNorm2d(64, eps=1e-05, momentum=0.1, affine=True, track_running_stats=True)\n",
       "      (5): ReLU()\n",
       "    )\n",
       "  )\n",
       "  (13): ResNet(\n",
       "    (module): Sequential(\n",
       "      (0): Conv2d(64, 64, kernel_size=(3, 3), stride=(1, 1), padding=(1, 1))\n",
       "      (1): BatchNorm2d(64, eps=1e-05, momentum=0.1, affine=True, track_running_stats=True)\n",
       "      (2): ReLU()\n",
       "      (3): Conv2d(64, 64, kernel_size=(3, 3), stride=(1, 1), padding=(1, 1))\n",
       "      (4): BatchNorm2d(64, eps=1e-05, momentum=0.1, affine=True, track_running_stats=True)\n",
       "      (5): ReLU()\n",
       "    )\n",
       "  )\n",
       "  (14): AdaptiveAvgPool2d(output_size=1)\n",
       "  (15): Flatten(start_dim=1, end_dim=-1)\n",
       "  (16): Linear(in_features=64, out_features=32, bias=True)\n",
       "  (17): ReLU()\n",
       "  (18): Linear(in_features=32, out_features=16, bias=True)\n",
       "  (19): ReLU()\n",
       "  (20): Linear(in_features=16, out_features=1, bias=True)\n",
       ")"
      ]
     },
     "execution_count": 5,
     "metadata": {},
     "output_type": "execute_result"
    }
   ],
   "source": [
    "net = torch.load('models/model-64-res-4.pt', map_location=device)\n",
    "net.eval()"
   ]
  },
  {
   "cell_type": "markdown",
   "metadata": {},
   "source": [
    "## Game"
   ]
  },
  {
   "cell_type": "code",
   "execution_count": 6,
   "metadata": {},
   "outputs": [],
   "source": [
    "game = PyMorpionSolitaire.Game5T('c')"
   ]
  },
  {
   "cell_type": "code",
   "execution_count": 7,
   "metadata": {},
   "outputs": [
    {
     "data": {
      "text/plain": [
       "torch.Size([28, 2, 96, 96])"
      ]
     },
     "execution_count": 7,
     "metadata": {},
     "output_type": "execute_result"
    }
   ],
   "source": [
    "state = game.image()[48:144, 48:144]\n",
    "actions = game.getMoveImages()[:, 48:144, 48:144]\n",
    "\n",
    "state = np.expand_dims(state, 0).repeat(actions.shape[0], axis=0)\n",
    "actions = actions ^ state\n",
    "\n",
    "x = torch.tensor(np.concatenate([np.expand_dims(state, 1), np.expand_dims(actions, 1)], axis = 1)).float()\n",
    "x.shape"
   ]
  },
  {
   "cell_type": "code",
   "execution_count": 8,
   "metadata": {},
   "outputs": [],
   "source": [
    "with torch.no_grad():\n",
    "    y = net(x).data"
   ]
  },
  {
   "cell_type": "code",
   "execution_count": 9,
   "metadata": {},
   "outputs": [
    {
     "data": {
      "text/plain": [
       "(0.0022752881050109863, 0.011451019905507565, 0.024571049958467484)"
      ]
     },
     "execution_count": 9,
     "metadata": {},
     "output_type": "execute_result"
    }
   ],
   "source": [
    "y.min().item(), y.mean().item(), y.max().item()"
   ]
  },
  {
   "cell_type": "code",
   "execution_count": 10,
   "metadata": {},
   "outputs": [
    {
     "name": "stdout",
     "output_type": "stream",
     "text": [
      "  0   0.002   0.011   0.025\n",
      "  1   0.005   0.011   0.018\n",
      "  2   0.003   0.009   0.016\n",
      "  3   0.004   0.010   0.017\n",
      "  4   0.002   0.007   0.013\n",
      "  5   0.001   0.006   0.012\n",
      "  6  -0.001   0.005   0.014\n",
      "  7  -0.001   0.004   0.012\n",
      "  8  -0.003   0.002   0.008\n",
      "  9  -0.002   0.003   0.007\n",
      " 10  -0.002   0.001   0.005\n",
      " 11  -0.004   0.000   0.005\n",
      " 12   0.002   0.004   0.006\n",
      " 13  -0.001   0.003   0.006\n",
      " 14  -0.005   0.002   0.006\n",
      " 15   0.005   0.009   0.014\n",
      " 16  -0.000   0.004   0.009\n",
      " 17  -0.005   0.004   0.012\n",
      " 18  -0.005   0.003   0.006\n",
      " 19  -0.005   0.004   0.008\n",
      " 20  -0.003   0.004   0.008\n",
      " 21  -0.006   0.001   0.007\n",
      " 22  -0.008   0.001   0.006\n",
      " 23  -0.008  -0.001   0.006\n",
      " 24  -0.002   0.001   0.004\n",
      " 25  -0.012  -0.001   0.006\n",
      " 26  -0.008  -0.002   0.007\n",
      " 27  -0.007  -0.000   0.006\n",
      " 28  -0.010   0.004   0.039\n",
      " 29  -0.007   0.002   0.012\n",
      " 30  -0.007   0.000   0.007\n",
      " 31  -0.014  -0.000   0.019\n",
      " 32  -0.008  -0.001   0.005\n",
      " 33  -0.007   0.004   0.015\n",
      " 34  -0.006   0.003   0.016\n",
      " 35  -0.007   0.001   0.010\n",
      " 36  -0.006   0.001   0.010\n",
      " 37  -0.010  -0.000   0.006\n",
      " 38  -0.009  -0.001   0.008\n",
      " 39  -0.009   0.001   0.012\n",
      " 40  -0.010   0.005   0.029\n",
      " 41  -0.010   0.001   0.009\n",
      " 42  -0.014  -0.003   0.007\n",
      " 43  -0.019  -0.008   0.000\n",
      " 44  -0.111  -0.034  -0.005\n",
      " 45  -0.045  -0.009   0.009\n",
      " 46  -0.048  -0.019  -0.004\n",
      " 47  -0.032  -0.012   0.006\n",
      " 48  -0.040  -0.015   0.012\n",
      " 49  -0.050  -0.026   0.001\n",
      " 50  -0.053  -0.016   0.036\n",
      " 51  -0.052  -0.021   0.003\n",
      " 52  -0.049  -0.008   0.034\n",
      " 53  -0.050  -0.015   0.006\n",
      " 54  -0.057  -0.008   0.070\n",
      " 55  -0.051  -0.021   0.048\n",
      " 56  -0.056  -0.025   0.003\n",
      " 57  -0.072  -0.034   0.005\n",
      " 58  -0.099  -0.034   0.069\n",
      " 59  -0.069  -0.021   0.056\n",
      " 60  -0.122  -0.035   0.046\n",
      " 61  -0.167  -0.051   0.004\n",
      " 62  -0.099  -0.016   0.128\n",
      " 63  -0.082  -0.009   0.142\n",
      " 64  -0.045  -0.002   0.122\n",
      " 65  -0.048   0.002   0.158\n",
      " 66  -0.048  -0.009   0.059\n",
      " 67  -0.053  -0.021   0.054\n",
      " 68  -0.068  -0.006   0.146\n",
      " 69  -0.072  -0.023   0.041\n",
      " 70  -0.096  -0.044  -0.005\n",
      " 71  -0.031   0.046   0.178\n",
      " 72  -0.018   0.019   0.090\n",
      " 73  -0.054   0.005   0.061\n",
      " 74  -0.094  -0.022   0.039\n",
      " 75  -0.038   0.001   0.063\n",
      " 76  -0.053   0.021   0.131\n",
      " 77  -0.027   0.026   0.122\n",
      " 78  -0.019  -0.018  -0.016\n",
      " 79   0.002   0.007   0.012\n",
      " 80   0.002   0.080   0.233\n",
      " 81  -0.021  -0.005   0.011\n",
      " 82  -0.189   0.098   0.273\n",
      " 83  -0.192   0.062   0.305\n",
      " 84  -0.264  -0.076   0.112\n",
      " 85  -0.122   0.068   0.258\n",
      " 86   0.474   0.474   0.474\n",
      " 87  -0.272  -0.076   0.121\n",
      " 88   0.342   0.342   0.342\n"
     ]
    },
    {
     "data": {
      "image/png": "[encoded data removed]",
      "text/plain": [
       "<Figure size 500x500 with 1 Axes>"
      ]
     },
     "metadata": {},
     "output_type": "display_data"
    }
   ],
   "source": [
    "game = PyMorpionSolitaire.Game5T('c')\n",
    "\n",
    "with torch.no_grad():\n",
    "    while game.getNumberOfMoves() > 0:\n",
    "        state = game.image()[48:144, 48:144]\n",
    "        actions = game.getMoveImages()[:, 48:144, 48:144]\n",
    "        \n",
    "        state = np.expand_dims(state, 0).repeat(actions.shape[0], axis=0)\n",
    "        actions = actions ^ state\n",
    "        \n",
    "        x = torch.tensor(np.concatenate([np.expand_dims(state, 1), np.expand_dims(actions, 1)], axis = 1)).float()\n",
    "        y = net(x).data.squeeze(1)\n",
    "        i = np.argmax(y).item()\n",
    "        s = game.getScore()\n",
    "        game.playByIndex(i)\n",
    "        print(\"%3d %7.3f %7.3f %7.3f\" % (s, y.min().item(), y.mean().item(), y[i].item()))\n",
    "\n",
    "game.print()"
   ]
  },
  {
   "cell_type": "code",
   "execution_count": 11,
   "metadata": {},
   "outputs": [],
   "source": [
    "scores = {1e-6: [game.getScore()]}"
   ]
  },
  {
   "cell_type": "code",
   "execution_count": 12,
   "metadata": {},
   "outputs": [],
   "source": [
    "def play_random():\n",
    "    game = PyMorpionSolitaire.Game5T('c')\n",
    "    game.playAtRandom()\n",
    "    return game.getScore()"
   ]
  },
  {
   "cell_type": "code",
   "execution_count": 13,
   "metadata": {},
   "outputs": [],
   "source": [
    "scores[1000] = [play_random() for _ in range(10000)]"
   ]
  },
  {
   "cell_type": "code",
   "execution_count": 14,
   "metadata": {},
   "outputs": [],
   "source": [
    "def play(t):\n",
    "    game = PyMorpionSolitaire.Game5T('c')\n",
    "    while True:\n",
    "        n = game.getNumberOfMoves()\n",
    "        if n == 0:\n",
    "            return game.getScore()\n",
    "        if n == 1:\n",
    "            game.playByIndex(0)\n",
    "        else:\n",
    "            state = game.image()[48:144, 48:144]\n",
    "            actions = game.getMoveImages()[:, 48:144, 48:144]\n",
    "            \n",
    "            state = np.expand_dims(state, 0).repeat(actions.shape[0], axis=0)\n",
    "            actions = actions ^ state\n",
    "            \n",
    "            x = torch.tensor(np.concatenate([np.expand_dims(state, 1), np.expand_dims(actions, 1)], axis = 1)).float()\n",
    "            y = net(x).data.squeeze()\n",
    "            p = torch.exp((y - y.max()) / t)\n",
    "            p /= p.sum()\n",
    "            index = np.random.choice(range(len(p)), p=np.array(p))\n",
    "            game.playByIndex(index)"
   ]
  },
  {
   "cell_type": "code",
   "execution_count": 15,
   "metadata": {},
   "outputs": [
    {
     "data": {
      "application/vnd.jupyter.widget-view+json": {
       "model_id": "d159ecd18142409caaa57cae791c9b0d",
       "version_major": 2,
       "version_minor": 0
      },
      "text/plain": [
       "  0%|          | 0/10 [00:00<?, ?it/s]"
      ]
     },
     "metadata": {},
     "output_type": "display_data"
    },
    {
     "data": {
      "application/vnd.jupyter.widget-view+json": {
       "model_id": "",
       "version_major": 2,
       "version_minor": 0
      },
      "text/plain": [
       "  0%|          | 0/100 [00:00<?, ?it/s]"
      ]
     },
     "metadata": {},
     "output_type": "display_data"
    },
    {
     "data": {
      "application/vnd.jupyter.widget-view+json": {
       "model_id": "",
       "version_major": 2,
       "version_minor": 0
      },
      "text/plain": [
       "  0%|          | 0/100 [00:00<?, ?it/s]"
      ]
     },
     "metadata": {},
     "output_type": "display_data"
    },
    {
     "data": {
      "application/vnd.jupyter.widget-view+json": {
       "model_id": "",
       "version_major": 2,
       "version_minor": 0
      },
      "text/plain": [
       "  0%|          | 0/100 [00:00<?, ?it/s]"
      ]
     },
     "metadata": {},
     "output_type": "display_data"
    },
    {
     "data": {
      "application/vnd.jupyter.widget-view+json": {
       "model_id": "",
       "version_major": 2,
       "version_minor": 0
      },
      "text/plain": [
       "  0%|          | 0/100 [00:00<?, ?it/s]"
      ]
     },
     "metadata": {},
     "output_type": "display_data"
    },
    {
     "data": {
      "application/vnd.jupyter.widget-view+json": {
       "model_id": "",
       "version_major": 2,
       "version_minor": 0
      },
      "text/plain": [
       "  0%|          | 0/100 [00:00<?, ?it/s]"
      ]
     },
     "metadata": {},
     "output_type": "display_data"
    },
    {
     "data": {
      "application/vnd.jupyter.widget-view+json": {
       "model_id": "",
       "version_major": 2,
       "version_minor": 0
      },
      "text/plain": [
       "  0%|          | 0/100 [00:00<?, ?it/s]"
      ]
     },
     "metadata": {},
     "output_type": "display_data"
    },
    {
     "data": {
      "application/vnd.jupyter.widget-view+json": {
       "model_id": "",
       "version_major": 2,
       "version_minor": 0
      },
      "text/plain": [
       "  0%|          | 0/100 [00:00<?, ?it/s]"
      ]
     },
     "metadata": {},
     "output_type": "display_data"
    },
    {
     "data": {
      "application/vnd.jupyter.widget-view+json": {
       "model_id": "",
       "version_major": 2,
       "version_minor": 0
      },
      "text/plain": [
       "  0%|          | 0/100 [00:00<?, ?it/s]"
      ]
     },
     "metadata": {},
     "output_type": "display_data"
    },
    {
     "data": {
      "application/vnd.jupyter.widget-view+json": {
       "model_id": "",
       "version_major": 2,
       "version_minor": 0
      },
      "text/plain": [
       "  0%|          | 0/100 [00:00<?, ?it/s]"
      ]
     },
     "metadata": {},
     "output_type": "display_data"
    },
    {
     "data": {
      "application/vnd.jupyter.widget-view+json": {
       "model_id": "",
       "version_major": 2,
       "version_minor": 0
      },
      "text/plain": [
       "  0%|          | 0/100 [00:00<?, ?it/s]"
      ]
     },
     "metadata": {},
     "output_type": "display_data"
    }
   ],
   "source": [
    "t_list = [1e-4, 3e-4, 1e-3, 3e-3, 1e-2, 3e-2, 1e-1, 3e-1, 1, 3]\n",
    "for t in tqdm(t_list):\n",
    "    if t not in scores:\n",
    "        scores[t] = []\n",
    "    for _ in tqdm(range(100), leave=False):\n",
    "        s = play(t)\n",
    "        # print(s)\n",
    "        scores[t] = scores[t] + [s]"
   ]
  },
  {
   "cell_type": "code",
   "execution_count": 24,
   "metadata": {},
   "outputs": [
    {
     "data": {
      "text/plain": [
       "[(1e-06, 89.0),\n",
       " (0.0001, 72.65),\n",
       " (0.0003, 71.0),\n",
       " (0.001, 71.07),\n",
       " (0.003, 71.86),\n",
       " (0.01, 70.30927835051547),\n",
       " (0.03, 67.34343434343434),\n",
       " (0.1, 64.57291666666667),\n",
       " (0.3, 64.40860215053763),\n",
       " (1, 64.2),\n",
       " (3, 63.76),\n",
       " (1000, 63.69326818675353)]"
      ]
     },
     "execution_count": 24,
     "metadata": {},
     "output_type": "execute_result"
    }
   ],
   "source": [
    "scores_mean = {t: np.mean(score, where = np.array(score) > 45).item() for t, score in scores.items()}\n",
    "sorted(scores_mean.items())"
   ]
  },
  {
   "cell_type": "code",
   "execution_count": 25,
   "metadata": {},
   "outputs": [
    {
     "data": {
      "text/plain": [
       "[(1e-06, 0.0),\n",
       " (0.0001, 6.130864539361475),\n",
       " (0.0003, 4.7736651315188405),\n",
       " (0.001, 6.945869276051774),\n",
       " (0.003, 5.815530930190295),\n",
       " (0.01, 4.945811150138091),\n",
       " (0.03, 4.472500975177305),\n",
       " (0.1, 4.7406592185463925),\n",
       " (0.3, 4.470299980648349),\n",
       " (1, 3.8157568056677826),\n",
       " (3, 4.072149309639812),\n",
       " (1000, 4.5562116221812765)]"
      ]
     },
     "execution_count": 25,
     "metadata": {},
     "output_type": "execute_result"
    }
   ],
   "source": [
    "scores_std = {t: np.std(score, where = np.array(score) > 45).item() for t, score in scores.items()}\n",
    "sorted(scores_std.items())"
   ]
  },
  {
   "cell_type": "code",
   "execution_count": 26,
   "metadata": {},
   "outputs": [
    {
     "data": {
      "text/plain": [
       "[(1e-06, 89),\n",
       " (0.0001, 89),\n",
       " (0.0003, 83),\n",
       " (0.001, 87),\n",
       " (0.003, 90),\n",
       " (0.01, 87),\n",
       " (0.03, 84),\n",
       " (0.1, 75),\n",
       " (0.3, 84),\n",
       " (1, 79),\n",
       " (3, 76),\n",
       " (1000, 86)]"
      ]
     },
     "execution_count": 26,
     "metadata": {},
     "output_type": "execute_result"
    }
   ],
   "source": [
    "scores_max = {t: np.max(score).item() for t, score in scores.items()}\n",
    "sorted(scores_max.items())"
   ]
  },
  {
   "cell_type": "code",
   "execution_count": 27,
   "metadata": {},
   "outputs": [
    {
     "data": {
      "image/png": "[encoded data removed]",
      "text/plain": [
       "<Figure size 640x480 with 1 Axes>"
      ]
     },
     "metadata": {},
     "output_type": "display_data"
    }
   ],
   "source": [
    "x = sorted(list(scores_mean.keys()))\n",
    "\n",
    "plt.errorbar(x, [scores_mean[i] for i in x], [scores_std[i] for i in x], capsize = 3)\n",
    "plt.plot(x, [scores_max[i] for i in x], label=\"max\")\n",
    "plt.xscale('log')\n",
    "plt.show()"
   ]
  },
  {
   "cell_type": "code",
   "execution_count": 45,
   "metadata": {},
   "outputs": [
    {
     "data": {
      "image/png": "[encoded data removed]",
      "text/plain": [
       "<Figure size 640x480 with 1 Axes>"
      ]
     },
     "metadata": {},
     "output_type": "display_data"
    }
   ],
   "source": [
    "bins = [i - 0.5 for i in range(100)]\n",
    "\n",
    "dist_0, bins = np.histogram(scores[1000], bins, density=True)\n",
    "dist, bins = np.histogram(scores[1e-3], bins, density=True)\n",
    "\n",
    "plt.step(bins[:-1], dist_0)\n",
    "plt.step(bins[:-1], dist)\n",
    "plt.xlim(0)\n",
    "plt.ylim(0)\n",
    "plt.show()"
   ]
  },
  {
   "cell_type": "code",
   "execution_count": 46,
   "metadata": {},
   "outputs": [
    {
     "data": {
      "image/png": "[encoded data removed]",
      "text/plain": [
       "<Figure size 640x480 with 1 Axes>"
      ]
     },
     "metadata": {},
     "output_type": "display_data"
    }
   ],
   "source": [
    "bins = [i - 0.5 for i in range(100)]\n",
    "\n",
    "dist_0, bins = np.histogram(scores[1000], bins, density=True)\n",
    "dist, bins = np.histogram(scores[3e-3], bins, density=True)\n",
    "\n",
    "plt.step(bins[:-1], dist_0)\n",
    "plt.step(bins[:-1], dist)\n",
    "plt.xlim(0)\n",
    "plt.ylim(0)\n",
    "plt.show()"
   ]
  },
  {
   "cell_type": "code",
   "execution_count": null,
   "metadata": {},
   "outputs": [],
   "source": [
    "# scores[1e-4] = scores[1e-4] + [play(1e-4) for _ in trange(40)]"
   ]
  },
  {
   "cell_type": "code",
   "execution_count": 30,
   "metadata": {},
   "outputs": [
    {
     "data": {
      "application/vnd.jupyter.widget-view+json": {
       "model_id": "b1bd8dd042be4ca595ce425590c5bf4a",
       "version_major": 2,
       "version_minor": 0
      },
      "text/plain": [
       "  0%|          | 0/100 [00:00<?, ?it/s]"
      ]
     },
     "metadata": {},
     "output_type": "display_data"
    }
   ],
   "source": [
    "scores[1e-3] = scores[1e-3] + [play(1e-3) for _ in trange(100)]"
   ]
  },
  {
   "cell_type": "code",
   "execution_count": 38,
   "metadata": {},
   "outputs": [
    {
     "data": {
      "application/vnd.jupyter.widget-view+json": {
       "model_id": "a6f6a6457aab40bfaae3aeeb42ecf063",
       "version_major": 2,
       "version_minor": 0
      },
      "text/plain": [
       "  0%|          | 0/100 [00:00<?, ?it/s]"
      ]
     },
     "metadata": {},
     "output_type": "display_data"
    }
   ],
   "source": [
    "scores[3e-3] = scores[3e-3] + [play(3e-3) for _ in trange(100)]"
   ]
  },
  {
   "cell_type": "code",
   "execution_count": null,
   "metadata": {},
   "outputs": [],
   "source": []
  }
 ],
 "metadata": {
  "kernelspec": {
   "display_name": "Python 3 (ipykernel)",
   "language": "python",
   "name": "python3"
  },
  "language_info": {
   "codemirror_mode": {
    "name": "ipython",
    "version": 3
   },
   "file_extension": ".py",
   "mimetype": "text/x-python",
   "name": "python",
   "nbconvert_exporter": "python",
   "pygments_lexer": "ipython3",
   "version": "3.12.4"
  }
 },
 "nbformat": 4,
 "nbformat_minor": 4
}
