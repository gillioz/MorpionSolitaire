{
 "cells": [
  {
   "cell_type": "markdown",
   "metadata": {},
   "source": [
    "# A simple binary problem: is there a legal move or not?\n",
    "\n",
    "This is a simplified version in which the model only answers the question whether there is at least one legal move or not."
   ]
  },
  {
   "cell_type": "code",
   "execution_count": 1,
   "metadata": {},
   "outputs": [],
   "source": [
    "import sys\n",
    "sys.path.append(sys.path[0] + '/../cpp/bin')\n",
    "\n",
    "import PyMorpionSolitaire"
   ]
  },
  {
   "cell_type": "code",
   "execution_count": 61,
   "metadata": {},
   "outputs": [],
   "source": [
    "import numpy as np\n",
    "import torch\n",
    "import matplotlib.pyplot as plt\n",
    "from PIL import Image\n",
    "from tqdm.notebook import trange"
   ]
  },
  {
   "cell_type": "markdown",
   "metadata": {},
   "source": [
    "## Data generation"
   ]
  },
  {
   "cell_type": "markdown",
   "metadata": {},
   "source": [
    "This function plays one game at random until there are no more moves, stores the grid as `grid1`, then rewinds the game to an interemediate stage, and stores the resulting grid as `grid2`. The output of the function is a tensor containing the two grids. By construction the first grid has no legal moves and the second one has at least one legal move.\n",
    "\n",
    "1/3 of the time the game is taken back to an arbitrary intermediate step.\n",
    "The other 2/3 of the time we rewind the game by only one step, so that the network gets used to identify a single allowed move. If we did not do that the training process would result in a relatively high accuracy by only identifying some types of allowed moves instead of all of them."
   ]
  },
  {
   "cell_type": "code",
   "execution_count": 4,
   "metadata": {},
   "outputs": [],
   "source": [
    "def play_one_game(host = 0): # dummy argument needed for passing to pool.map\n",
    "    game = PyMorpionSolitaire.Game5T('c');\n",
    "    game.playAtRandom()\n",
    "    grid1 = game.image()[48:144, 48:144]\n",
    "    if np.random.randint(3) == 0:\n",
    "        game.undo(np.random.randint(game.getScore() - 1) + 2)\n",
    "    else:\n",
    "        game.undo()\n",
    "    grid2 = game.image()[48:144, 48:144]\n",
    "    return np.stack((grid1, grid2))"
   ]
  },
  {
   "cell_type": "markdown",
   "metadata": {},
   "source": [
    "Mini-batches contains a certain number of grids obtained in the way described above (computed in parallel to gain time), as well as a labels (0 for no legal moves, 1 for at least one legal move)."
   ]
  },
  {
   "cell_type": "code",
   "execution_count": 5,
   "metadata": {},
   "outputs": [],
   "source": [
    "def generate_batch(batch_size = 200):\n",
    "    x = []\n",
    "    for _ in range(batch_size // 2):\n",
    "        x.append(play_one_game())\n",
    "    x = torch.tensor(np.concatenate(x)).float().unsqueeze(1)\n",
    "    y = torch.tensor([0.,1.]).repeat(batch_size // 2).unsqueeze(1)\n",
    "    return x, y"
   ]
  },
  {
   "cell_type": "markdown",
   "metadata": {},
   "source": [
    "## Example"
   ]
  },
  {
   "cell_type": "code",
   "execution_count": 85,
   "metadata": {},
   "outputs": [],
   "source": [
    "x, y = generate_batch()"
   ]
  },
  {
   "cell_type": "code",
   "execution_count": 86,
   "metadata": {},
   "outputs": [
    {
     "data": {
      "text/plain": [
       "(torch.Size([200, 1, 96, 96]), torch.Size([200, 1]))"
      ]
     },
     "execution_count": 86,
     "metadata": {},
     "output_type": "execute_result"
    }
   ],
   "source": [
    "x.shape, y.shape"
   ]
  },
  {
   "cell_type": "code",
   "execution_count": 88,
   "metadata": {},
   "outputs": [],
   "source": [
    "def visualize(x):\n",
    "    return Image.fromarray(~np.array(torch.squeeze(x)).astype(bool))    "
   ]
  },
  {
   "cell_type": "code",
   "execution_count": 89,
   "metadata": {},
   "outputs": [
    {
     "data": {
      "image/png": "[encoded data removed]",
      "text/plain": [
       "<PIL.Image.Image image mode=1 size=96x96>"
      ]
     },
     "execution_count": 89,
     "metadata": {},
     "output_type": "execute_result"
    }
   ],
   "source": [
    "visualize(x[0])"
   ]
  },
  {
   "cell_type": "code",
   "execution_count": 90,
   "metadata": {},
   "outputs": [
    {
     "data": {
      "text/plain": [
       "tensor([0.])"
      ]
     },
     "execution_count": 90,
     "metadata": {},
     "output_type": "execute_result"
    }
   ],
   "source": [
    "y[0]"
   ]
  },
  {
   "cell_type": "code",
   "execution_count": 91,
   "metadata": {},
   "outputs": [
    {
     "data": {
      "image/png": "[encoded data removed]",
      "text/plain": [
       "<PIL.Image.Image image mode=1 size=96x96>"
      ]
     },
     "execution_count": 91,
     "metadata": {},
     "output_type": "execute_result"
    }
   ],
   "source": [
    "visualize(x[1])"
   ]
  },
  {
   "cell_type": "code",
   "execution_count": 92,
   "metadata": {},
   "outputs": [
    {
     "data": {
      "text/plain": [
       "tensor([1.])"
      ]
     },
     "execution_count": 92,
     "metadata": {},
     "output_type": "execute_result"
    }
   ],
   "source": [
    "y[1]"
   ]
  },
  {
   "cell_type": "code",
   "execution_count": 93,
   "metadata": {},
   "outputs": [
    {
     "data": {
      "image/png": "[encoded data removed]",
      "text/plain": [
       "<PIL.Image.Image image mode=1 size=96x96>"
      ]
     },
     "execution_count": 93,
     "metadata": {},
     "output_type": "execute_result"
    }
   ],
   "source": [
    "visualize(x[1] - x[0])"
   ]
  },
  {
   "cell_type": "markdown",
   "metadata": {},
   "source": [
    "## Accuracy function"
   ]
  },
  {
   "cell_type": "code",
   "execution_count": 16,
   "metadata": {},
   "outputs": [],
   "source": [
    "def accuracy(outputs, labels):\n",
    "    return ((outputs > 0.5) == labels).float().mean()"
   ]
  },
  {
   "cell_type": "markdown",
   "metadata": {},
   "source": [
    "## Model"
   ]
  },
  {
   "cell_type": "code",
   "execution_count": 49,
   "metadata": {},
   "outputs": [],
   "source": [
    "net = torch.nn.Sequential(\n",
    "#     torch.nn.Conv2d(1, 40, stride = 3, kernel_size = 13, padding = 2),\n",
    "    torch.nn.Conv2d(1, 40, stride = 3, kernel_size = 15, padding = 0),\n",
    "    torch.nn.AdaptiveMaxPool2d(1),\n",
    "    torch.nn.Flatten(),\n",
    "    torch.nn.Linear(40, 4),\n",
    "    torch.nn.ReLU(),\n",
    "    torch.nn.Linear(4, 2),\n",
    "    torch.nn.ReLU(),\n",
    "    torch.nn.Linear(2, 1)\n",
    ")"
   ]
  },
  {
   "cell_type": "markdown",
   "metadata": {},
   "source": [
    "Number of parameters in the model:"
   ]
  },
  {
   "cell_type": "code",
   "execution_count": 50,
   "metadata": {},
   "outputs": [
    {
     "data": {
      "text/plain": [
       "9217"
      ]
     },
     "execution_count": 50,
     "metadata": {},
     "output_type": "execute_result"
    }
   ],
   "source": [
    "sum(p.numel() for p in net.parameters())"
   ]
  },
  {
   "cell_type": "code",
   "execution_count": 51,
   "metadata": {},
   "outputs": [
    {
     "data": {
      "text/plain": [
       "torch.Size([200, 1])"
      ]
     },
     "execution_count": 51,
     "metadata": {},
     "output_type": "execute_result"
    }
   ],
   "source": [
    "y_pred = net(x)\n",
    "y_pred.shape"
   ]
  },
  {
   "cell_type": "code",
   "execution_count": 53,
   "metadata": {},
   "outputs": [
    {
     "data": {
      "text/plain": [
       "tensor(0.5000)"
      ]
     },
     "execution_count": 53,
     "metadata": {},
     "output_type": "execute_result"
    }
   ],
   "source": [
    "accuracy(y_pred, y)"
   ]
  },
  {
   "cell_type": "markdown",
   "metadata": {},
   "source": [
    "## Training"
   ]
  },
  {
   "cell_type": "code",
   "execution_count": 55,
   "metadata": {},
   "outputs": [],
   "source": [
    "loss_func = torch.nn.MSELoss()"
   ]
  },
  {
   "cell_type": "code",
   "execution_count": 54,
   "metadata": {},
   "outputs": [],
   "source": [
    "# optimizer = torch.optim.Adam(filter(lambda p: p.requires_grad, net.parameters()), lr=0.005)\n",
    "\n",
    "optimizer = torch.optim.SGD(filter(lambda p: p.requires_grad, net.parameters()), lr=0.005, momentum=0.9)"
   ]
  },
  {
   "cell_type": "code",
   "execution_count": null,
   "metadata": {},
   "outputs": [],
   "source": [
    "running_loss_data = []\n",
    "running_accuracy_data = []"
   ]
  },
  {
   "cell_type": "code",
   "execution_count": 58,
   "metadata": {},
   "outputs": [
    {
     "data": {
      "application/vnd.jupyter.widget-view+json": {
       "model_id": "3e6a0e3370284682bc07ffd9d52616ea",
       "version_major": 2,
       "version_minor": 0
      },
      "text/plain": [
       "  0%|          | 0/10001 [00:00<?, ?it/s]"
      ]
     },
     "metadata": {},
     "output_type": "display_data"
    },
    {
     "name": "stdout",
     "output_type": "stream",
     "text": [
      "[     0] loss:  0.21972  accuracy: 0.62\n",
      "[   100] loss:  0.21421  accuracy: 0.65\n",
      "[   200] loss:  0.21074  accuracy: 0.66\n",
      "[   300] loss:  0.21023  accuracy: 0.66\n",
      "[   400] loss:  0.20785  accuracy: 0.67\n",
      "[   500] loss:  0.20626  accuracy: 0.67\n",
      "[   600] loss:  0.20308  accuracy: 0.68\n",
      "[   700] loss:  0.20357  accuracy: 0.68\n",
      "[   800] loss:  0.20148  accuracy: 0.68\n",
      "[   900] loss:  0.20012  accuracy: 0.69\n",
      "[  1000] loss:  0.19882  accuracy: 0.69\n",
      "[  1100] loss:  0.19687  accuracy: 0.70\n",
      "[  1200] loss:  0.19620  accuracy: 0.70\n",
      "[  1300] loss:  0.19515  accuracy: 0.70\n",
      "[  1400] loss:  0.19410  accuracy: 0.70\n",
      "[  1500] loss:  0.19266  accuracy: 0.71\n",
      "[  1600] loss:  0.19056  accuracy: 0.71\n",
      "[  1700] loss:  0.18731  accuracy: 0.72\n",
      "[  1800] loss:  0.18581  accuracy: 0.72\n",
      "[  1900] loss:  0.18444  accuracy: 0.73\n",
      "[  2000] loss:  0.18258  accuracy: 0.73\n",
      "[  2100] loss:  0.18177  accuracy: 0.73\n",
      "[  2200] loss:  0.17833  accuracy: 0.75\n",
      "[  2300] loss:  0.17587  accuracy: 0.75\n",
      "[  2400] loss:  0.17201  accuracy: 0.76\n",
      "[  2500] loss:  0.17213  accuracy: 0.76\n",
      "[  2600] loss:  0.16630  accuracy: 0.78\n",
      "[  2700] loss:  0.16606  accuracy: 0.78\n",
      "[  2800] loss:  0.16450  accuracy: 0.78\n",
      "[  2900] loss:  0.16274  accuracy: 0.79\n",
      "[  3000] loss:  0.15905  accuracy: 0.80\n",
      "[  3100] loss:  0.15693  accuracy: 0.80\n",
      "[  3200] loss:  0.15610  accuracy: 0.80\n",
      "[  3300] loss:  0.15285  accuracy: 0.81\n",
      "[  3400] loss:  0.15274  accuracy: 0.81\n",
      "[  3500] loss:  0.14838  accuracy: 0.82\n",
      "[  3600] loss:  0.14473  accuracy: 0.84\n",
      "[  3700] loss:  0.14562  accuracy: 0.83\n",
      "[  3800] loss:  0.14231  accuracy: 0.84\n",
      "[  3900] loss:  0.14602  accuracy: 0.83\n",
      "[  4000] loss:  0.14071  accuracy: 0.84\n",
      "[  4100] loss:  0.13962  accuracy: 0.85\n",
      "[  4200] loss:  0.13767  accuracy: 0.85\n",
      "[  4300] loss:  0.13774  accuracy: 0.85\n",
      "[  4400] loss:  0.13719  accuracy: 0.85\n",
      "[  4500] loss:  0.13359  accuracy: 0.86\n",
      "[  4600] loss:  0.13491  accuracy: 0.85\n",
      "[  4700] loss:  0.13668  accuracy: 0.85\n",
      "[  4800] loss:  0.12996  accuracy: 0.86\n",
      "[  4900] loss:  0.13281  accuracy: 0.86\n",
      "[  5000] loss:  0.13137  accuracy: 0.86\n",
      "[  5100] loss:  0.12824  accuracy: 0.86\n",
      "[  5200] loss:  0.12330  accuracy: 0.87\n",
      "[  5300] loss:  0.12373  accuracy: 0.87\n",
      "[  5400] loss:  0.11636  accuracy: 0.87\n",
      "[  5500] loss:  0.11223  accuracy: 0.88\n",
      "[  5600] loss:  0.10826  accuracy: 0.88\n",
      "[  5700] loss:  0.10094  accuracy: 0.89\n",
      "[  5800] loss:  0.09311  accuracy: 0.90\n",
      "[  5900] loss:  0.09122  accuracy: 0.90\n",
      "[  6000] loss:  0.08211  accuracy: 0.91\n",
      "[  6100] loss:  0.09265  accuracy: 0.89\n",
      "[  6200] loss:  0.07252  accuracy: 0.92\n",
      "[  6300] loss:  0.05858  accuracy: 0.94\n",
      "[  6400] loss:  0.06613  accuracy: 0.93\n",
      "[  6500] loss:  0.06179  accuracy: 0.93\n",
      "[  6600] loss:  0.07163  accuracy: 0.91\n",
      "[  6700] loss:  0.06278  accuracy: 0.93\n",
      "[  6800] loss:  0.07411  accuracy: 0.91\n",
      "[  6900] loss:  0.03576  accuracy: 0.97\n",
      "[  7000] loss:  0.06782  accuracy: 0.92\n",
      "[  7100] loss:  0.02901  accuracy: 0.98\n",
      "[  7200] loss:  0.03352  accuracy: 0.98\n",
      "[  7300] loss:  0.03901  accuracy: 0.97\n",
      "[  7400] loss:  0.02267  accuracy: 0.99\n",
      "[  7500] loss:  0.01486  accuracy: 0.99\n",
      "[  7600] loss:  0.01436  accuracy: 0.99\n",
      "[  7700] loss:  0.01586  accuracy: 0.99\n",
      "[  7800] loss:  0.01281  accuracy: 0.99\n",
      "[  7900] loss:  0.01287  accuracy: 0.99\n",
      "[  8000] loss:  0.01163  accuracy: 0.99\n",
      "[  8100] loss:  0.01242  accuracy: 0.99\n",
      "[  8200] loss:  0.01240  accuracy: 0.99\n",
      "[  8300] loss:  0.01105  accuracy: 0.99\n",
      "[  8400] loss:  0.01248  accuracy: 0.99\n",
      "[  8500] loss:  0.01213  accuracy: 0.99\n",
      "[  8600] loss:  0.01045  accuracy: 0.99\n",
      "[  8700] loss:  0.01063  accuracy: 0.99\n",
      "[  8800] loss:  0.00978  accuracy: 0.99\n",
      "[  8900] loss:  0.00914  accuracy: 0.99\n",
      "[  9000] loss:  0.01030  accuracy: 0.99\n",
      "[  9100] loss:  0.01069  accuracy: 0.99\n",
      "[  9200] loss:  0.01049  accuracy: 0.99\n",
      "[  9300] loss:  0.01035  accuracy: 0.99\n",
      "[  9400] loss:  0.01138  accuracy: 0.99\n",
      "[  9500] loss:  0.01015  accuracy: 0.99\n",
      "[  9600] loss:  0.00993  accuracy: 0.99\n",
      "[  9700] loss:  0.00985  accuracy: 0.99\n",
      "[  9800] loss:  0.01079  accuracy: 0.99\n",
      "[  9900] loss:  0.01075  accuracy: 0.99\n",
      "[ 10000] loss:  0.01050  accuracy: 0.99\n"
     ]
    }
   ],
   "source": [
    "epoch_size = 100\n",
    "n_epochs = 100\n",
    "\n",
    "running_loss = []\n",
    "running_accuracy = []\n",
    "\n",
    "for i in trange(n_epochs * epoch_size + 1):\n",
    "    inputs, labels = generate_batch()\n",
    "    optimizer.zero_grad()\n",
    "    outputs = net(inputs)\n",
    "    loss = loss_func(outputs, labels)\n",
    "    loss.backward()\n",
    "    optimizer.step()\n",
    "    running_loss.append(loss.item())\n",
    "    running_accuracy.append(accuracy(outputs, labels))\n",
    "    if i % epoch_size == 0:\n",
    "        running_loss_data.append(np.mean(running_loss))\n",
    "        running_accuracy_data.append(np.mean(running_accuracy))\n",
    "        print('[%6d] loss: %8.5f  accuracy: %4.2f' % (i, running_loss_data[-1], running_accuracy_data[-1]))\n",
    "        running_loss = []\n",
    "        running_accuracy = []"
   ]
  },
  {
   "cell_type": "code",
   "execution_count": 59,
   "metadata": {},
   "outputs": [],
   "source": [
    "# torch.save(net, 'models/Democritus.pt')"
   ]
  },
  {
   "cell_type": "code",
   "execution_count": 68,
   "metadata": {},
   "outputs": [
    {
     "data": {
      "image/png": "[encoded data removed]",
      "text/plain": [
       "<Figure size 640x480 with 1 Axes>"
      ]
     },
     "metadata": {},
     "output_type": "display_data"
    }
   ],
   "source": [
    "plt.plot(running_loss_data, color='red')\n",
    "plt.xlabel('Epochs')\n",
    "plt.xlim(0, len(running_loss_data) - 1)\n",
    "plt.ylabel('Loss function (MSE)')\n",
    "plt.yscale('log')\n",
    "# plt.savefig('Democritus_loss.png', bbox_inches='tight')\n",
    "plt.show()"
   ]
  },
  {
   "cell_type": "code",
   "execution_count": 71,
   "metadata": {},
   "outputs": [
    {
     "data": {
      "image/png": "[encoded data removed]",
      "text/plain": [
       "<Figure size 640x480 with 1 Axes>"
      ]
     },
     "metadata": {},
     "output_type": "display_data"
    }
   ],
   "source": [
    "plt.plot(running_accuracy_data, color='blue')\n",
    "plt.xlabel('Epochs')\n",
    "plt.ylabel('Accuracy')\n",
    "plt.xlim(0, len(running_accuracy_data) - 1)\n",
    "plt.ylim(0.5, 1)\n",
    "# plt.savefig('Democritus_accuracy.png', bbox_inches='tight')\n",
    "plt.show()"
   ]
  },
  {
   "cell_type": "code",
   "execution_count": 74,
   "metadata": {},
   "outputs": [],
   "source": [
    "running_error_data = [1.0 - x for x in running_accuracy_data]"
   ]
  },
  {
   "cell_type": "code",
   "execution_count": 140,
   "metadata": {},
   "outputs": [
    {
     "data": {
      "image/png": "[encoded data removed]",
      "text/plain": [
       "<Figure size 640x480 with 1 Axes>"
      ]
     },
     "metadata": {},
     "output_type": "display_data"
    }
   ],
   "source": [
    "plt.plot(running_error_data, color='green')\n",
    "plt.xlabel('Epochs')\n",
    "plt.ylabel('Error')\n",
    "plt.xlim(0, len(running_error_data) - 1)\n",
    "plt.yscale('log')\n",
    "plt.show()"
   ]
  },
  {
   "cell_type": "markdown",
   "metadata": {},
   "source": [
    "## Loading the model\n",
    "\n",
    "Once the model has been trained, this can be used to load its state dictionary:"
   ]
  },
  {
   "cell_type": "code",
   "execution_count": 77,
   "metadata": {},
   "outputs": [
    {
     "data": {
      "text/plain": [
       "Sequential(\n",
       "  (0): Conv2d(1, 40, kernel_size=(15, 15), stride=(3, 3))\n",
       "  (1): AdaptiveMaxPool2d(output_size=1)\n",
       "  (2): Flatten(start_dim=1, end_dim=-1)\n",
       "  (3): Linear(in_features=40, out_features=4, bias=True)\n",
       "  (4): ReLU()\n",
       "  (5): Linear(in_features=4, out_features=2, bias=True)\n",
       "  (6): ReLU()\n",
       "  (7): Linear(in_features=2, out_features=1, bias=True)\n",
       ")"
      ]
     },
     "execution_count": 77,
     "metadata": {},
     "output_type": "execute_result"
    }
   ],
   "source": [
    "net = torch.load('models/Democritus.pt')\n",
    "net.eval()"
   ]
  },
  {
   "cell_type": "markdown",
   "metadata": {},
   "source": [
    "## Validation"
   ]
  },
  {
   "cell_type": "code",
   "execution_count": 78,
   "metadata": {},
   "outputs": [],
   "source": [
    "x, y = generate_batch(1000)"
   ]
  },
  {
   "cell_type": "code",
   "execution_count": 79,
   "metadata": {},
   "outputs": [],
   "source": [
    "y_preds = net(x).data"
   ]
  },
  {
   "cell_type": "code",
   "execution_count": 80,
   "metadata": {},
   "outputs": [
    {
     "data": {
      "text/plain": [
       "tensor(0.9910)"
      ]
     },
     "execution_count": 80,
     "metadata": {},
     "output_type": "execute_result"
    }
   ],
   "source": [
    "accuracy(y_preds, y)"
   ]
  },
  {
   "cell_type": "code",
   "execution_count": 81,
   "metadata": {},
   "outputs": [
    {
     "data": {
      "text/plain": [
       "(tensor(0.5000), tensor(0.5003), tensor(0.4716), tensor(0.4647))"
      ]
     },
     "execution_count": 81,
     "metadata": {},
     "output_type": "execute_result"
    }
   ],
   "source": [
    "y.mean(), y.std(), y_preds.mean(), y_preds.std()"
   ]
  },
  {
   "cell_type": "code",
   "execution_count": 82,
   "metadata": {},
   "outputs": [
    {
     "data": {
      "text/plain": [
       "[[0.0, 0.8252942562103271, 28],\n",
       " [0.0, 0.8256768584251404, 106],\n",
       " [0.0, 0.85272216796875, 148],\n",
       " [0.0, 0.8425812721252441, 286],\n",
       " [0.0, 0.879586398601532, 440],\n",
       " [0.0, 0.8495593667030334, 590],\n",
       " [0.0, 0.8502621650695801, 598],\n",
       " [0.0, 0.788440465927124, 808],\n",
       " [0.0, 0.8710340261459351, 916]]"
      ]
     },
     "execution_count": 82,
     "metadata": {},
     "output_type": "execute_result"
    }
   ],
   "source": [
    "mistakes = []\n",
    "for i in range(y.shape[0]):\n",
    "    if (y_preds[i] > 0.5) != y[i]:\n",
    "        mistakes.append([y[i].item(), y_preds[i].item(), i])\n",
    "mistakes"
   ]
  },
  {
   "cell_type": "code",
   "execution_count": 94,
   "metadata": {},
   "outputs": [
    {
     "data": {
      "image/png": "[encoded data removed]",
      "text/plain": [
       "<PIL.Image.Image image mode=1 size=96x96>"
      ]
     },
     "execution_count": 94,
     "metadata": {},
     "output_type": "execute_result"
    }
   ],
   "source": [
    "visualize(x[mistakes[0][2]])"
   ]
  },
  {
   "cell_type": "code",
   "execution_count": 95,
   "metadata": {},
   "outputs": [
    {
     "data": {
      "image/png": "[encoded data removed]",
      "text/plain": [
       "<PIL.Image.Image image mode=1 size=96x96>"
      ]
     },
     "execution_count": 95,
     "metadata": {},
     "output_type": "execute_result"
    }
   ],
   "source": [
    "visualize(x[mistakes[1][2]])"
   ]
  },
  {
   "cell_type": "code",
   "execution_count": 96,
   "metadata": {},
   "outputs": [
    {
     "data": {
      "image/png": "[encoded data removed]",
      "text/plain": [
       "<PIL.Image.Image image mode=1 size=96x96>"
      ]
     },
     "execution_count": 96,
     "metadata": {},
     "output_type": "execute_result"
    }
   ],
   "source": [
    "visualize(x[mistakes[2][2]])"
   ]
  },
  {
   "cell_type": "markdown",
   "metadata": {},
   "source": [
    "To test the network we create a fake grid for which there should not be any possible move:"
   ]
  },
  {
   "cell_type": "code",
   "execution_count": 99,
   "metadata": {},
   "outputs": [],
   "source": [
    "# testgrid = torch.zeros([1,1,94,94])\n",
    "# testgrid[0,0, 48, 39:58] = torch.tensor([1,1,1,1,0,0,1,0,0,1,0,0,1,0,0,1,1,1,1]).float()\n",
    "# visualize(testgrid)"
   ]
  },
  {
   "cell_type": "markdown",
   "metadata": {},
   "source": [
    "The answer of the network is however that there is a move"
   ]
  },
  {
   "cell_type": "code",
   "execution_count": 100,
   "metadata": {},
   "outputs": [],
   "source": [
    "# net(testgrid)"
   ]
  },
  {
   "cell_type": "markdown",
   "metadata": {},
   "source": [
    "## Network state"
   ]
  },
  {
   "cell_type": "code",
   "execution_count": 101,
   "metadata": {},
   "outputs": [
    {
     "name": "stdout",
     "output_type": "stream",
     "text": [
      "torch.Size([40, 1, 15, 15])\n",
      "torch.Size([40])\n",
      "torch.Size([4, 40])\n",
      "torch.Size([4])\n",
      "torch.Size([2, 4])\n",
      "torch.Size([2])\n",
      "torch.Size([1, 2])\n",
      "torch.Size([1])\n"
     ]
    }
   ],
   "source": [
    "params = []\n",
    "for param in net.parameters():\n",
    "    params.append(param.data)\n",
    "    print(param.size())"
   ]
  },
  {
   "cell_type": "code",
   "execution_count": 102,
   "metadata": {},
   "outputs": [],
   "source": [
    "def divisors(x):\n",
    "    i = np.round(np.sqrt(x)).astype(int)\n",
    "    for j in range(i - 1):\n",
    "        if x % (i - j) == 0:\n",
    "            n = x // (i - j)\n",
    "            return (n, x // n)\n",
    "    return (x, 1)"
   ]
  },
  {
   "cell_type": "code",
   "execution_count": null,
   "metadata": {},
   "outputs": [],
   "source": [
    "# par = np.array(params[0].squeeze())\n",
    "# par *= -1.0\n",
    "# par = par - np.min(par)\n",
    "# par = par / np.max(par)\n",
    "# par = np.round(255 * par)\n",
    "# w, h = divisors(par.shape[0])\n",
    "# im = np.zeros((15 * h, 15 * w), dtype = int)\n",
    "# for i in range(h):\n",
    "#     for j in range(w):\n",
    "#         im[15*i+1:15*i+14,15*j+1:15*j+14] = par[w*i + j]\n",
    "# image = Image.fromarray(np.uint8(im), 'L').resize((w*60, h*60), resample=0, box=None)\n",
    "# image"
   ]
  },
  {
   "cell_type": "code",
   "execution_count": 106,
   "metadata": {},
   "outputs": [
    {
     "data": {
      "text/plain": [
       "(40, 3, 15, 15)"
      ]
     },
     "execution_count": 106,
     "metadata": {},
     "output_type": "execute_result"
    }
   ],
   "source": [
    "par.shape"
   ]
  },
  {
   "cell_type": "code",
   "execution_count": 122,
   "metadata": {},
   "outputs": [
    {
     "data": {
      "image/png": "[encoded data removed]",
      "text/plain": [
       "<PIL.Image.Image image mode=RGB size=480x300>"
      ]
     },
     "execution_count": 122,
     "metadata": {},
     "output_type": "execute_result"
    }
   ],
   "source": [
    "par = params[0].squeeze()\n",
    "par /= torch.max(torch.abs(par))\n",
    "blue = torch.tensor([1,1,0]).unsqueeze(1).unsqueeze(2)\n",
    "red = torch.tensor([0,1,1]).unsqueeze(1).unsqueeze(2)\n",
    "par = (blue * torch.where(par > 0, par, 0.0 * par).unsqueeze(1)\n",
    "       + red * torch.where(par < 0, -1.0 * par, 0.0 * par).unsqueeze(1))\n",
    "par = np.round(255 * par)\n",
    "par = np.array(par).astype(int)\n",
    "w, h = divisors(par.shape[0])\n",
    "im = np.zeros((17 * h, 17 * w, 3), dtype = int)\n",
    "for i in range(h):\n",
    "    for j in range(w):\n",
    "        for c in range(3):\n",
    "            im[17*i+1:17*i+16,17*j+1:17*j+16,c] = 255 - par[w*i + j, c]\n",
    "image = Image.fromarray(np.uint8(im), 'RGB').resize((w*60, h*60), resample=0, box=None)\n",
    "image"
   ]
  },
  {
   "cell_type": "code",
   "execution_count": null,
   "metadata": {},
   "outputs": [],
   "source": [
    "# image.save('Democritus_convlayer.png')"
   ]
  },
  {
   "cell_type": "code",
   "execution_count": 133,
   "metadata": {},
   "outputs": [
    {
     "data": {
      "text/plain": [
       "torch.Size([15, 15])"
      ]
     },
     "execution_count": 133,
     "metadata": {},
     "output_type": "execute_result"
    }
   ],
   "source": [
    "kernel = params[0][37].squeeze()\n",
    "kernel.shape"
   ]
  },
  {
   "cell_type": "code",
   "execution_count": 134,
   "metadata": {},
   "outputs": [
    {
     "data": {
      "text/plain": [
       "tensor([-0.0097,  0.8440, -0.7936, -0.8659,  0.8453, -0.0422, -0.0363,  0.8358,\n",
       "        -0.1833, -0.1666,  0.8433, -0.9112, -0.7496,  0.8415, -0.0127])"
      ]
     },
     "execution_count": 134,
     "metadata": {},
     "output_type": "execute_result"
    }
   ],
   "source": [
    "segment = kernel[:,7]\n",
    "segment"
   ]
  },
  {
   "cell_type": "code",
   "execution_count": 138,
   "metadata": {},
   "outputs": [
    {
     "data": {
      "text/plain": [
       "tensor(4.2100)"
      ]
     },
     "execution_count": 138,
     "metadata": {},
     "output_type": "execute_result"
    }
   ],
   "source": [
    "val = segment * torch.tensor([0, 1, 0, 0, 1, 0, 0, 1, 0, 0, 1, 0, 0, 1, 0])\n",
    "val = val.sum()\n",
    "val"
   ]
  },
  {
   "cell_type": "markdown",
   "metadata": {},
   "source": [
    "## Remarks\n",
    "\n",
    "- Training with smaller mini-batches means quicker learning, but often saturation at accuracies way below 99%. With batch size 50 I got up to around 90% accuracy at best, with batch size 100 up to 95-98%.\n",
    "\n",
    "- Most of the first layer is ends up unused, but working with fewer channels does not work: either some features are missing in the end, resulting in low accuracy, or the neural net gets stuck in a state where it always returns 0.5 after the first few training steps, yielding a loss function 0.25 and accuracy 0.5. "
   ]
  }
 ],
 "metadata": {
  "kernelspec": {
   "display_name": "Python 3 (ipykernel)",
   "language": "python",
   "name": "python3"
  },
  "language_info": {
   "codemirror_mode": {
    "name": "ipython",
    "version": 3
   },
   "file_extension": ".py",
   "mimetype": "text/x-python",
   "name": "python",
   "nbconvert_exporter": "python",
   "pygments_lexer": "ipython3",
   "version": "3.10.11"
  }
 },
 "nbformat": 4,
 "nbformat_minor": 4
}
