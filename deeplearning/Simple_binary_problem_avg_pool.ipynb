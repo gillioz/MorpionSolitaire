{
 "cells": [
  {
   "cell_type": "markdown",
   "metadata": {},
   "source": [
    "# A simple binary problem: is there a legal move or not? - Average pooling\n",
    "\n",
    "This is a simplified version in which the model only answers the question whether there is at least one legal move or not."
   ]
  },
  {
   "cell_type": "code",
   "execution_count": 1,
   "metadata": {},
   "outputs": [],
   "source": [
    "import sys\n",
    "sys.path.append(sys.path[0] + '/../cpp/bin')\n",
    "\n",
    "import PyMorpionSolitaire"
   ]
  },
  {
   "cell_type": "code",
   "execution_count": 2,
   "metadata": {},
   "outputs": [],
   "source": [
    "import numpy as np\n",
    "import torch\n",
    "import matplotlib.pyplot as plt\n",
    "from PIL import Image\n",
    "from tqdm.notebook import trange"
   ]
  },
  {
   "cell_type": "markdown",
   "metadata": {},
   "source": [
    "## Data generation"
   ]
  },
  {
   "cell_type": "markdown",
   "metadata": {},
   "source": [
    "This function plays one game at random until there are no more moves, stores the grid as `grid1`, then rewinds the game to an interemediate stage, and stores the resulting grid as `grid2`. The output of the function is a tensor containing the two grids. By construction the first grid has no legal moves and the second one has at least one legal move.\n",
    "\n",
    "1/3 of the time the game is taken back to an arbitrary intermediate step.\n",
    "The other 2/3 of the time we rewind the game by only one step, so that the network gets used to identify a single allowed move. If we did not do that the training process would result in a relatively high accuracy by only identifying some types of allowed moves instead of all of them."
   ]
  },
  {
   "cell_type": "code",
   "execution_count": 3,
   "metadata": {},
   "outputs": [],
   "source": [
    "def play_one_game(host = 0): # dummy argument needed for passing to pool.map\n",
    "    game = PyMorpionSolitaire.Game5T('c');\n",
    "    game.playAtRandom()\n",
    "    grid1 = game.image()[48:144, 48:144]\n",
    "    if np.random.randint(3) == 0:\n",
    "        game.undo(np.random.randint(game.getScore() - 1) + 2)\n",
    "    else:\n",
    "        game.undo()\n",
    "    grid2 = game.image()[48:144, 48:144]\n",
    "    return np.stack((grid1, grid2))"
   ]
  },
  {
   "cell_type": "markdown",
   "metadata": {},
   "source": [
    "Mini-batches contains a certain number of grids obtained in the way described above (computed in parallel to gain time), as well as a labels (0 for no legal moves, 1 for at least one legal move)."
   ]
  },
  {
   "cell_type": "code",
   "execution_count": 4,
   "metadata": {},
   "outputs": [],
   "source": [
    "def generate_batch(batch_size = 200):\n",
    "    x = []\n",
    "    for _ in range(batch_size // 2):\n",
    "        x.append(play_one_game())\n",
    "    x = torch.tensor(np.concatenate(x)).float().unsqueeze(1)\n",
    "    y = torch.tensor([0.,1.]).repeat(batch_size // 2).unsqueeze(1)\n",
    "    return x, y"
   ]
  },
  {
   "cell_type": "markdown",
   "metadata": {},
   "source": [
    "## Example"
   ]
  },
  {
   "cell_type": "code",
   "execution_count": 5,
   "metadata": {},
   "outputs": [],
   "source": [
    "x, y = generate_batch()"
   ]
  },
  {
   "cell_type": "code",
   "execution_count": 6,
   "metadata": {},
   "outputs": [
    {
     "data": {
      "text/plain": [
       "(torch.Size([200, 1, 96, 96]), torch.Size([200, 1]))"
      ]
     },
     "execution_count": 6,
     "metadata": {},
     "output_type": "execute_result"
    }
   ],
   "source": [
    "x.shape, y.shape"
   ]
  },
  {
   "cell_type": "code",
   "execution_count": 7,
   "metadata": {},
   "outputs": [],
   "source": [
    "def visualize(x):\n",
    "    return Image.fromarray(~np.array(torch.squeeze(x)).astype(bool))    "
   ]
  },
  {
   "cell_type": "code",
   "execution_count": 8,
   "metadata": {},
   "outputs": [
    {
     "data": {
      "image/png": "[encoded data removed]",
      "text/plain": [
       "<PIL.Image.Image image mode=1 size=96x96>"
      ]
     },
     "execution_count": 8,
     "metadata": {},
     "output_type": "execute_result"
    }
   ],
   "source": [
    "visualize(x[0])"
   ]
  },
  {
   "cell_type": "code",
   "execution_count": 9,
   "metadata": {},
   "outputs": [
    {
     "data": {
      "text/plain": [
       "tensor([0.])"
      ]
     },
     "execution_count": 9,
     "metadata": {},
     "output_type": "execute_result"
    }
   ],
   "source": [
    "y[0]"
   ]
  },
  {
   "cell_type": "code",
   "execution_count": 10,
   "metadata": {},
   "outputs": [
    {
     "data": {
      "image/png": "[encoded data removed]",
      "text/plain": [
       "<PIL.Image.Image image mode=1 size=96x96>"
      ]
     },
     "execution_count": 10,
     "metadata": {},
     "output_type": "execute_result"
    }
   ],
   "source": [
    "visualize(x[1])"
   ]
  },
  {
   "cell_type": "code",
   "execution_count": 11,
   "metadata": {},
   "outputs": [
    {
     "data": {
      "text/plain": [
       "tensor([1.])"
      ]
     },
     "execution_count": 11,
     "metadata": {},
     "output_type": "execute_result"
    }
   ],
   "source": [
    "y[1]"
   ]
  },
  {
   "cell_type": "code",
   "execution_count": 12,
   "metadata": {},
   "outputs": [
    {
     "data": {
      "image/png": "[encoded data removed]",
      "text/plain": [
       "<PIL.Image.Image image mode=1 size=96x96>"
      ]
     },
     "execution_count": 12,
     "metadata": {},
     "output_type": "execute_result"
    }
   ],
   "source": [
    "visualize(x[1]-x[0])"
   ]
  },
  {
   "cell_type": "markdown",
   "metadata": {},
   "source": [
    "## Accuracy function"
   ]
  },
  {
   "cell_type": "code",
   "execution_count": 13,
   "metadata": {},
   "outputs": [],
   "source": [
    "def accuracy(outputs, labels):\n",
    "    return ((outputs > 0.5) == labels).float().mean()"
   ]
  },
  {
   "cell_type": "markdown",
   "metadata": {},
   "source": [
    "## Model"
   ]
  },
  {
   "cell_type": "markdown",
   "metadata": {},
   "source": [
    "We are going to use *transfer learning*: the convolutional layers are directly imported from a pre-trained model, while the rest of the network is initialized at random:"
   ]
  },
  {
   "cell_type": "code",
   "execution_count": 14,
   "metadata": {},
   "outputs": [
    {
     "data": {
      "text/plain": [
       "Sequential(\n",
       "  (0): Conv2d(1, 20, kernel_size=(3, 3), stride=(3, 3))\n",
       "  (1): ReLU()\n",
       "  (2): Conv2d(20, 40, kernel_size=(2, 2), stride=(1, 1))\n",
       "  (3): ReLU()\n",
       "  (4): Conv2d(40, 40, kernel_size=(2, 2), stride=(1, 1))\n",
       "  (5): ReLU()\n",
       "  (6): Conv2d(40, 40, kernel_size=(2, 2), stride=(1, 1))\n",
       "  (7): ReLU()\n",
       "  (8): Conv2d(40, 40, kernel_size=(2, 2), stride=(1, 1))\n",
       "  (9): AdaptiveMaxPool2d(output_size=1)\n",
       "  (10): Flatten(start_dim=1, end_dim=-1)\n",
       "  (11): Linear(in_features=40, out_features=10, bias=True)\n",
       "  (12): ReLU()\n",
       "  (13): Linear(in_features=10, out_features=1, bias=True)\n",
       ")"
      ]
     },
     "execution_count": 14,
     "metadata": {},
     "output_type": "execute_result"
    }
   ],
   "source": [
    "template = torch.load('models/Bacon.pt')\n",
    "template.train()\n",
    "template"
   ]
  },
  {
   "cell_type": "code",
   "execution_count": 15,
   "metadata": {},
   "outputs": [
    {
     "data": {
      "text/plain": [
       "Sequential(\n",
       "  (0): Conv2d(1, 20, kernel_size=(3, 3), stride=(3, 3))\n",
       "  (1): ReLU()\n",
       "  (2): Conv2d(20, 40, kernel_size=(2, 2), stride=(1, 1))\n",
       "  (3): ReLU()\n",
       "  (4): Conv2d(40, 40, kernel_size=(2, 2), stride=(1, 1))\n",
       "  (5): ReLU()\n",
       "  (6): Conv2d(40, 40, kernel_size=(2, 2), stride=(1, 1))\n",
       "  (7): ReLU()\n",
       "  (8): Conv2d(40, 40, kernel_size=(2, 2), stride=(1, 1))\n",
       "  (9): ReLU()\n",
       "  (10): AdaptiveAvgPool2d(output_size=1)\n",
       "  (11): Flatten(start_dim=1, end_dim=-1)\n",
       "  (12): Linear(in_features=40, out_features=20, bias=True)\n",
       "  (13): ReLU()\n",
       "  (14): Linear(in_features=20, out_features=10, bias=True)\n",
       "  (15): ReLU()\n",
       "  (16): Linear(in_features=10, out_features=1, bias=True)\n",
       ")"
      ]
     },
     "execution_count": 15,
     "metadata": {},
     "output_type": "execute_result"
    }
   ],
   "source": [
    "modules = [template[i] for i in range(9)]\n",
    "modules.extend([torch.nn.ReLU(),\n",
    "                torch.nn.AdaptiveAvgPool2d(1),\n",
    "                torch.nn.Flatten(),\n",
    "                torch.nn.Linear(40, 20),\n",
    "                torch.nn.ReLU(),\n",
    "                torch.nn.Linear(20, 10),\n",
    "                torch.nn.ReLU(),\n",
    "                torch.nn.Linear(10, 1)])\n",
    "net = torch.nn.Sequential(*modules)\n",
    "net"
   ]
  },
  {
   "cell_type": "markdown",
   "metadata": {},
   "source": [
    "Number of parameters in the model:"
   ]
  },
  {
   "cell_type": "code",
   "execution_count": 16,
   "metadata": {},
   "outputs": [
    {
     "data": {
      "text/plain": [
       "23801"
      ]
     },
     "execution_count": 16,
     "metadata": {},
     "output_type": "execute_result"
    }
   ],
   "source": [
    "sum(p.numel() for p in net.parameters())"
   ]
  },
  {
   "cell_type": "code",
   "execution_count": 17,
   "metadata": {},
   "outputs": [
    {
     "data": {
      "text/plain": [
       "torch.Size([200, 1])"
      ]
     },
     "execution_count": 17,
     "metadata": {},
     "output_type": "execute_result"
    }
   ],
   "source": [
    "y_pred = net(x)\n",
    "y_pred.shape"
   ]
  },
  {
   "cell_type": "code",
   "execution_count": 18,
   "metadata": {},
   "outputs": [
    {
     "data": {
      "text/plain": [
       "tensor(0.5000)"
      ]
     },
     "execution_count": 18,
     "metadata": {},
     "output_type": "execute_result"
    }
   ],
   "source": [
    "accuracy(y_pred, y)"
   ]
  },
  {
   "cell_type": "markdown",
   "metadata": {},
   "source": [
    "## Training"
   ]
  },
  {
   "cell_type": "code",
   "execution_count": 19,
   "metadata": {},
   "outputs": [],
   "source": [
    "loss_func = torch.nn.MSELoss()"
   ]
  },
  {
   "cell_type": "code",
   "execution_count": 20,
   "metadata": {},
   "outputs": [],
   "source": [
    "# optimizer = torch.optim.Adam(filter(lambda p: p.requires_grad, net.parameters()), lr=0.01)\n",
    "\n",
    "optimizer = torch.optim.SGD(filter(lambda p: p.requires_grad, net.parameters()), lr=0.01, momentum=0.9)"
   ]
  },
  {
   "cell_type": "code",
   "execution_count": 22,
   "metadata": {},
   "outputs": [],
   "source": [
    "running_loss_data = []\n",
    "running_accuracy_data = []"
   ]
  },
  {
   "cell_type": "code",
   "execution_count": 23,
   "metadata": {},
   "outputs": [
    {
     "data": {
      "application/vnd.jupyter.widget-view+json": {
       "model_id": "e2374b8542df4acbae336b55a02a1fd0",
       "version_major": 2,
       "version_minor": 0
      },
      "text/plain": [
       "  0%|          | 0/20001 [00:00<?, ?it/s]"
      ]
     },
     "metadata": {},
     "output_type": "display_data"
    },
    {
     "name": "stdout",
     "output_type": "stream",
     "text": [
      "[     0] loss:  0.71794  accuracy: 0.500\n",
      "[   100] loss:  0.27255  accuracy: 0.501\n",
      "[   200] loss:  0.24999  accuracy: 0.538\n",
      "[   300] loss:  0.24998  accuracy: 0.614\n",
      "[   400] loss:  0.24998  accuracy: 0.623\n",
      "[   500] loss:  0.24997  accuracy: 0.630\n",
      "[   600] loss:  0.24997  accuracy: 0.630\n",
      "[   700] loss:  0.24996  accuracy: 0.636\n",
      "[   800] loss:  0.24996  accuracy: 0.635\n",
      "[   900] loss:  0.24995  accuracy: 0.634\n",
      "[  1000] loss:  0.24994  accuracy: 0.633\n",
      "[  1100] loss:  0.24994  accuracy: 0.632\n",
      "[  1200] loss:  0.24993  accuracy: 0.629\n",
      "[  1300] loss:  0.24992  accuracy: 0.630\n",
      "[  1400] loss:  0.24991  accuracy: 0.626\n",
      "[  1500] loss:  0.24990  accuracy: 0.628\n",
      "[  1600] loss:  0.24989  accuracy: 0.628\n",
      "[  1700] loss:  0.24987  accuracy: 0.625\n",
      "[  1800] loss:  0.24985  accuracy: 0.628\n",
      "[  1900] loss:  0.24983  accuracy: 0.626\n",
      "[  2000] loss:  0.24981  accuracy: 0.621\n",
      "[  2100] loss:  0.24977  accuracy: 0.627\n",
      "[  2200] loss:  0.24974  accuracy: 0.627\n",
      "[  2300] loss:  0.24967  accuracy: 0.621\n",
      "[  2400] loss:  0.24960  accuracy: 0.622\n",
      "[  2500] loss:  0.24952  accuracy: 0.619\n",
      "[  2600] loss:  0.24940  accuracy: 0.621\n",
      "[  2700] loss:  0.24923  accuracy: 0.619\n",
      "[  2800] loss:  0.24897  accuracy: 0.620\n",
      "[  2900] loss:  0.24857  accuracy: 0.614\n",
      "[  3000] loss:  0.24783  accuracy: 0.613\n",
      "[  3100] loss:  0.24645  accuracy: 0.603\n",
      "[  3200] loss:  0.24233  accuracy: 0.599\n",
      "[  3300] loss:  0.23507  accuracy: 0.594\n",
      "[  3400] loss:  0.23180  accuracy: 0.591\n",
      "[  3500] loss:  0.23041  accuracy: 0.594\n",
      "[  3600] loss:  0.23071  accuracy: 0.587\n",
      "[  3700] loss:  0.22929  accuracy: 0.589\n",
      "[  3800] loss:  0.22843  accuracy: 0.591\n",
      "[  3900] loss:  0.22742  accuracy: 0.588\n",
      "[  4000] loss:  0.22776  accuracy: 0.587\n",
      "[  4100] loss:  0.22687  accuracy: 0.589\n",
      "[  4200] loss:  0.22549  accuracy: 0.593\n",
      "[  4300] loss:  0.22466  accuracy: 0.596\n",
      "[  4400] loss:  0.22346  accuracy: 0.604\n",
      "[  4500] loss:  0.22169  accuracy: 0.617\n",
      "[  4600] loss:  0.21920  accuracy: 0.634\n",
      "[  4700] loss:  0.21747  accuracy: 0.637\n",
      "[  4800] loss:  0.21428  accuracy: 0.647\n",
      "[  4900] loss:  0.21128  accuracy: 0.657\n",
      "[  5000] loss:  0.20715  accuracy: 0.668\n",
      "[  5100] loss:  0.20621  accuracy: 0.667\n",
      "[  5200] loss:  0.20277  accuracy: 0.676\n",
      "[  5300] loss:  0.20193  accuracy: 0.678\n",
      "[  5400] loss:  0.20226  accuracy: 0.675\n",
      "[  5500] loss:  0.20033  accuracy: 0.680\n",
      "[  5600] loss:  0.20051  accuracy: 0.683\n",
      "[  5700] loss:  0.19723  accuracy: 0.691\n",
      "[  5800] loss:  0.19552  accuracy: 0.694\n",
      "[  5900] loss:  0.19700  accuracy: 0.689\n",
      "[  6000] loss:  0.19604  accuracy: 0.693\n",
      "[  6100] loss:  0.19254  accuracy: 0.700\n",
      "[  6200] loss:  0.19395  accuracy: 0.696\n",
      "[  6300] loss:  0.19347  accuracy: 0.698\n",
      "[  6400] loss:  0.19130  accuracy: 0.703\n",
      "[  6500] loss:  0.18939  accuracy: 0.711\n",
      "[  6600] loss:  0.18791  accuracy: 0.712\n",
      "[  6700] loss:  0.18494  accuracy: 0.719\n",
      "[  6800] loss:  0.18598  accuracy: 0.714\n",
      "[  6900] loss:  0.18240  accuracy: 0.727\n",
      "[  7000] loss:  0.17996  accuracy: 0.732\n",
      "[  7100] loss:  0.17954  accuracy: 0.731\n",
      "[  7200] loss:  0.17587  accuracy: 0.742\n",
      "[  7300] loss:  0.17280  accuracy: 0.749\n",
      "[  7400] loss:  0.16771  accuracy: 0.760\n",
      "[  7500] loss:  0.16808  accuracy: 0.759\n",
      "[  7600] loss:  0.16701  accuracy: 0.753\n",
      "[  7700] loss:  0.15991  accuracy: 0.770\n",
      "[  7800] loss:  0.15906  accuracy: 0.774\n",
      "[  7900] loss:  0.15020  accuracy: 0.792\n",
      "[  8000] loss:  0.14597  accuracy: 0.801\n",
      "[  8100] loss:  0.14948  accuracy: 0.789\n",
      "[  8200] loss:  0.13344  accuracy: 0.820\n",
      "[  8300] loss:  0.13749  accuracy: 0.803\n",
      "[  8400] loss:  0.12486  accuracy: 0.832\n",
      "[  8500] loss:  0.12702  accuracy: 0.821\n",
      "[  8600] loss:  0.11570  accuracy: 0.845\n",
      "[  8700] loss:  0.11740  accuracy: 0.839\n",
      "[  8800] loss:  0.10362  accuracy: 0.864\n",
      "[  8900] loss:  0.09350  accuracy: 0.884\n",
      "[  9000] loss:  0.11642  accuracy: 0.844\n",
      "[  9100] loss:  0.10587  accuracy: 0.862\n",
      "[  9200] loss:  0.07858  accuracy: 0.901\n",
      "[  9300] loss:  0.07150  accuracy: 0.911\n",
      "[  9400] loss:  0.07929  accuracy: 0.899\n",
      "[  9500] loss:  0.06560  accuracy: 0.918\n",
      "[  9600] loss:  0.06498  accuracy: 0.918\n",
      "[  9700] loss:  0.06422  accuracy: 0.919\n",
      "[  9800] loss:  0.05758  accuracy: 0.927\n",
      "[  9900] loss:  0.06504  accuracy: 0.918\n",
      "[ 10000] loss:  0.05207  accuracy: 0.933\n",
      "[ 10100] loss:  0.05062  accuracy: 0.936\n",
      "[ 10200] loss:  0.04786  accuracy: 0.937\n",
      "[ 10300] loss:  0.10475  accuracy: 0.858\n",
      "[ 10400] loss:  0.09582  accuracy: 0.876\n",
      "[ 10500] loss:  0.04752  accuracy: 0.939\n",
      "[ 10600] loss:  0.04134  accuracy: 0.945\n",
      "[ 10700] loss:  0.07656  accuracy: 0.897\n",
      "[ 10800] loss:  0.14932  accuracy: 0.785\n",
      "[ 10900] loss:  0.10361  accuracy: 0.869\n",
      "[ 11000] loss:  0.10731  accuracy: 0.863\n",
      "[ 11100] loss:  0.09975  accuracy: 0.874\n",
      "[ 11200] loss:  0.09878  accuracy: 0.875\n",
      "[ 11300] loss:  0.09795  accuracy: 0.877\n",
      "[ 11400] loss:  0.11909  accuracy: 0.843\n",
      "[ 11500] loss:  0.21365  accuracy: 0.640\n",
      "[ 11600] loss:  0.22911  accuracy: 0.588\n",
      "[ 11700] loss:  0.19509  accuracy: 0.682\n",
      "[ 11800] loss:  0.19361  accuracy: 0.684\n",
      "[ 11900] loss:  0.18798  accuracy: 0.700\n",
      "[ 12000] loss:  0.19182  accuracy: 0.690\n",
      "[ 12100] loss:  0.19136  accuracy: 0.694\n",
      "[ 12200] loss:  0.18123  accuracy: 0.714\n",
      "[ 12300] loss:  0.15609  accuracy: 0.774\n",
      "[ 12400] loss:  0.15538  accuracy: 0.774\n",
      "[ 12500] loss:  0.15965  accuracy: 0.769\n",
      "[ 12600] loss:  0.13332  accuracy: 0.813\n",
      "[ 12700] loss:  0.08444  accuracy: 0.890\n",
      "[ 12800] loss:  0.03448  accuracy: 0.956\n",
      "[ 12900] loss:  0.03429  accuracy: 0.957\n",
      "[ 13000] loss:  0.03142  accuracy: 0.961\n",
      "[ 13100] loss:  0.02619  accuracy: 0.967\n",
      "[ 13200] loss:  0.02797  accuracy: 0.966\n",
      "[ 13300] loss:  0.02353  accuracy: 0.972\n",
      "[ 13400] loss:  0.02037  accuracy: 0.975\n",
      "[ 13500] loss:  0.02298  accuracy: 0.973\n",
      "[ 13600] loss:  0.01918  accuracy: 0.978\n",
      "[ 13700] loss:  0.02201  accuracy: 0.974\n",
      "[ 13800] loss:  0.03162  accuracy: 0.963\n",
      "[ 13900] loss:  0.06074  accuracy: 0.930\n",
      "[ 14000] loss:  0.03270  accuracy: 0.962\n",
      "[ 14100] loss:  0.01768  accuracy: 0.979\n",
      "[ 14200] loss:  0.01635  accuracy: 0.981\n",
      "[ 14300] loss:  0.01481  accuracy: 0.982\n",
      "[ 14400] loss:  0.01643  accuracy: 0.980\n",
      "[ 14500] loss:  0.01486  accuracy: 0.983\n",
      "[ 14600] loss:  0.01362  accuracy: 0.985\n",
      "[ 14700] loss:  0.01662  accuracy: 0.981\n",
      "[ 14800] loss:  0.01496  accuracy: 0.982\n",
      "[ 14900] loss:  0.01461  accuracy: 0.983\n",
      "[ 15000] loss:  0.01215  accuracy: 0.986\n",
      "[ 15100] loss:  0.01271  accuracy: 0.985\n",
      "[ 15200] loss:  0.01360  accuracy: 0.984\n",
      "[ 15300] loss:  0.01169  accuracy: 0.987\n",
      "[ 15400] loss:  0.01178  accuracy: 0.987\n",
      "[ 15500] loss:  0.01028  accuracy: 0.988\n",
      "[ 15600] loss:  0.01163  accuracy: 0.987\n",
      "[ 15700] loss:  0.01190  accuracy: 0.987\n",
      "[ 15800] loss:  0.01366  accuracy: 0.984\n",
      "[ 15900] loss:  0.01588  accuracy: 0.982\n",
      "[ 16000] loss:  0.00897  accuracy: 0.990\n",
      "[ 16100] loss:  0.00974  accuracy: 0.989\n",
      "[ 16200] loss:  0.00835  accuracy: 0.991\n",
      "[ 16300] loss:  0.00885  accuracy: 0.990\n",
      "[ 16400] loss:  0.01032  accuracy: 0.987\n",
      "[ 16500] loss:  0.00891  accuracy: 0.990\n",
      "[ 16600] loss:  0.00951  accuracy: 0.989\n",
      "[ 16700] loss:  0.00814  accuracy: 0.991\n",
      "[ 16800] loss:  0.01114  accuracy: 0.987\n",
      "[ 16900] loss:  0.00890  accuracy: 0.990\n",
      "[ 17000] loss:  0.01072  accuracy: 0.987\n",
      "[ 17100] loss:  0.00825  accuracy: 0.991\n",
      "[ 17200] loss:  0.01090  accuracy: 0.988\n",
      "[ 17300] loss:  0.00744  accuracy: 0.992\n",
      "[ 17400] loss:  0.00650  accuracy: 0.993\n",
      "[ 17500] loss:  0.00860  accuracy: 0.990\n",
      "[ 17600] loss:  0.00795  accuracy: 0.991\n",
      "[ 17700] loss:  0.00614  accuracy: 0.993\n",
      "[ 17800] loss:  0.00600  accuracy: 0.993\n",
      "[ 17900] loss:  0.00821  accuracy: 0.991\n",
      "[ 18000] loss:  0.00769  accuracy: 0.992\n",
      "[ 18100] loss:  0.00835  accuracy: 0.991\n",
      "[ 18200] loss:  0.00755  accuracy: 0.991\n",
      "[ 18300] loss:  0.00634  accuracy: 0.993\n",
      "[ 18400] loss:  0.00592  accuracy: 0.994\n",
      "[ 18500] loss:  0.00807  accuracy: 0.991\n",
      "[ 18600] loss:  0.00724  accuracy: 0.993\n",
      "[ 18700] loss:  0.00707  accuracy: 0.992\n",
      "[ 18800] loss:  0.00533  accuracy: 0.994\n",
      "[ 18900] loss:  0.00544  accuracy: 0.994\n",
      "[ 19000] loss:  0.00639  accuracy: 0.993\n",
      "[ 19100] loss:  0.00622  accuracy: 0.993\n",
      "[ 19200] loss:  0.00880  accuracy: 0.991\n",
      "[ 19300] loss:  0.00635  accuracy: 0.993\n",
      "[ 19400] loss:  0.00478  accuracy: 0.995\n",
      "[ 19500] loss:  0.00436  accuracy: 0.995\n",
      "[ 19600] loss:  0.00740  accuracy: 0.992\n",
      "[ 19700] loss:  0.00615  accuracy: 0.993\n",
      "[ 19800] loss:  0.00594  accuracy: 0.993\n",
      "[ 19900] loss:  0.00530  accuracy: 0.994\n"
     ]
    },
    {
     "name": "stdout",
     "output_type": "stream",
     "text": [
      "[ 20000] loss:  0.00581  accuracy: 0.994\n"
     ]
    }
   ],
   "source": [
    "epoch_size = 100\n",
    "n_epochs = 200\n",
    "\n",
    "running_loss = []\n",
    "running_accuracy = []\n",
    "\n",
    "for i in trange(n_epochs * epoch_size + 1):\n",
    "    inputs, labels = generate_batch()\n",
    "    optimizer.zero_grad()\n",
    "    outputs = net(inputs)\n",
    "    loss = loss_func(outputs, labels)\n",
    "    loss.backward()\n",
    "    optimizer.step()\n",
    "    running_loss.append(loss.item())\n",
    "    running_accuracy.append(accuracy(outputs, labels))\n",
    "    if i % epoch_size == 0:\n",
    "        running_loss_data.append(np.mean(running_loss))\n",
    "        running_accuracy_data.append(np.mean(running_accuracy))\n",
    "        print('[%6d] loss: %8.5f  accuracy: %5.3f' % (i, running_loss_data[-1], running_accuracy_data[-1]))\n",
    "        running_loss = []\n",
    "        running_accuracy = []"
   ]
  },
  {
   "cell_type": "code",
   "execution_count": 24,
   "metadata": {},
   "outputs": [],
   "source": [
    "torch.save(net, 'models/Descartes_binary.pt')"
   ]
  },
  {
   "cell_type": "code",
   "execution_count": 25,
   "metadata": {},
   "outputs": [
    {
     "data": {
      "image/png": "[encoded data removed]",
      "text/plain": [
       "<Figure size 640x480 with 1 Axes>"
      ]
     },
     "metadata": {},
     "output_type": "display_data"
    }
   ],
   "source": [
    "plt.plot(running_loss_data, color='red')\n",
    "plt.xlabel('Epochs')\n",
    "plt.xlim(0, len(running_loss_data) - 1)\n",
    "plt.ylabel('Loss function (MSE)')\n",
    "plt.yscale('log')\n",
    "# plt.savefig('Descartes_binary_loss.png', bbox_inches='tight')\n",
    "plt.show()"
   ]
  },
  {
   "cell_type": "code",
   "execution_count": 26,
   "metadata": {},
   "outputs": [
    {
     "data": {
      "image/png": "[encoded data removed]",
      "text/plain": [
       "<Figure size 640x480 with 1 Axes>"
      ]
     },
     "metadata": {},
     "output_type": "display_data"
    }
   ],
   "source": [
    "plt.plot(running_accuracy_data, color='blue')\n",
    "plt.xlabel('Epochs')\n",
    "plt.ylabel('Accuracy')\n",
    "plt.xlim(0, len(running_accuracy_data) - 1)\n",
    "plt.ylim(0.5, 1)\n",
    "# plt.savefig('Descartes_binary_accuracy.png', bbox_inches='tight')\n",
    "plt.show()"
   ]
  },
  {
   "cell_type": "code",
   "execution_count": 27,
   "metadata": {},
   "outputs": [],
   "source": [
    "running_error_data = [1.0 - x for x in running_accuracy_data]"
   ]
  },
  {
   "cell_type": "code",
   "execution_count": 28,
   "metadata": {},
   "outputs": [
    {
     "data": {
      "image/png": "[encoded data removed]",
      "text/plain": [
       "<Figure size 640x480 with 1 Axes>"
      ]
     },
     "metadata": {},
     "output_type": "display_data"
    }
   ],
   "source": [
    "plt.plot(running_error_data, color='green')\n",
    "plt.xlabel('Epochs')\n",
    "plt.ylabel('Error')\n",
    "plt.xlim(0, len(running_error_data) - 1)\n",
    "plt.yscale('log')\n",
    "plt.show()"
   ]
  },
  {
   "cell_type": "markdown",
   "metadata": {},
   "source": [
    "## Loading the model\n",
    "\n",
    "Once the model has been trained, this can be used to load its state dictionary:"
   ]
  },
  {
   "cell_type": "code",
   "execution_count": 29,
   "metadata": {},
   "outputs": [
    {
     "data": {
      "text/plain": [
       "Sequential(\n",
       "  (0): Conv2d(1, 20, kernel_size=(3, 3), stride=(3, 3))\n",
       "  (1): ReLU()\n",
       "  (2): Conv2d(20, 40, kernel_size=(2, 2), stride=(1, 1))\n",
       "  (3): ReLU()\n",
       "  (4): Conv2d(40, 40, kernel_size=(2, 2), stride=(1, 1))\n",
       "  (5): ReLU()\n",
       "  (6): Conv2d(40, 40, kernel_size=(2, 2), stride=(1, 1))\n",
       "  (7): ReLU()\n",
       "  (8): Conv2d(40, 40, kernel_size=(2, 2), stride=(1, 1))\n",
       "  (9): ReLU()\n",
       "  (10): AdaptiveAvgPool2d(output_size=1)\n",
       "  (11): Flatten(start_dim=1, end_dim=-1)\n",
       "  (12): Linear(in_features=40, out_features=20, bias=True)\n",
       "  (13): ReLU()\n",
       "  (14): Linear(in_features=20, out_features=10, bias=True)\n",
       "  (15): ReLU()\n",
       "  (16): Linear(in_features=10, out_features=1, bias=True)\n",
       ")"
      ]
     },
     "execution_count": 29,
     "metadata": {},
     "output_type": "execute_result"
    }
   ],
   "source": [
    "net2 = torch.load('models/Descartes_binary.pt')\n",
    "net2.eval()"
   ]
  },
  {
   "cell_type": "markdown",
   "metadata": {},
   "source": [
    "## Validation"
   ]
  },
  {
   "cell_type": "code",
   "execution_count": 30,
   "metadata": {},
   "outputs": [],
   "source": [
    "x, y = generate_batch(1000)"
   ]
  },
  {
   "cell_type": "code",
   "execution_count": 31,
   "metadata": {},
   "outputs": [],
   "source": [
    "y_preds = net2(x).data"
   ]
  },
  {
   "cell_type": "code",
   "execution_count": 32,
   "metadata": {},
   "outputs": [
    {
     "data": {
      "text/plain": [
       "tensor(0.9990)"
      ]
     },
     "execution_count": 32,
     "metadata": {},
     "output_type": "execute_result"
    }
   ],
   "source": [
    "accuracy(y_preds, y)"
   ]
  },
  {
   "cell_type": "code",
   "execution_count": 33,
   "metadata": {},
   "outputs": [
    {
     "data": {
      "text/plain": [
       "(tensor(0.5000), tensor(0.5003), tensor(0.4884), tensor(0.4843))"
      ]
     },
     "execution_count": 33,
     "metadata": {},
     "output_type": "execute_result"
    }
   ],
   "source": [
    "y.mean(), y.std(), y_preds.mean(), y_preds.std()"
   ]
  },
  {
   "cell_type": "code",
   "execution_count": 34,
   "metadata": {},
   "outputs": [
    {
     "data": {
      "text/plain": [
       "[[663, 1.0, 0.11436343938112259]]"
      ]
     },
     "execution_count": 34,
     "metadata": {},
     "output_type": "execute_result"
    }
   ],
   "source": [
    "mistakes = []\n",
    "for i in range(y.shape[0]):\n",
    "    if (y_preds[i] > 0.5) != y[i]:\n",
    "        mistakes.append([i, y[i].item(), y_preds[i].item()])\n",
    "mistakes"
   ]
  },
  {
   "cell_type": "code",
   "execution_count": 36,
   "metadata": {},
   "outputs": [
    {
     "data": {
      "image/png": "[encoded data removed]",
      "text/plain": [
       "<PIL.Image.Image image mode=1 size=96x96>"
      ]
     },
     "execution_count": 36,
     "metadata": {},
     "output_type": "execute_result"
    }
   ],
   "source": [
    "visualize(x[mistakes[0][0]])"
   ]
  },
  {
   "cell_type": "code",
   "execution_count": null,
   "metadata": {},
   "outputs": [],
   "source": []
  }
 ],
 "metadata": {
  "kernelspec": {
   "display_name": "Python 3 (ipykernel)",
   "language": "python",
   "name": "python3"
  },
  "language_info": {
   "codemirror_mode": {
    "name": "ipython",
    "version": 3
   },
   "file_extension": ".py",
   "mimetype": "text/x-python",
   "name": "python",
   "nbconvert_exporter": "python",
   "pygments_lexer": "ipython3",
   "version": "3.10.11"
  }
 },
 "nbformat": 4,
 "nbformat_minor": 4
}
