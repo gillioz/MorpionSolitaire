{
 "cells": [
  {
   "cell_type": "code",
   "execution_count": 1,
   "id": "947fdaf7",
   "metadata": {},
   "outputs": [],
   "source": [
    "import sys\n",
    "sys.path.append(sys.path[0] + '/../cpp/bin')\n",
    "\n",
    "import PyMorpionSolitaire"
   ]
  },
  {
   "cell_type": "code",
   "execution_count": 2,
   "id": "9f81d971",
   "metadata": {},
   "outputs": [],
   "source": [
    "import numpy as np\n",
    "import matplotlib.pyplot as plt\n",
    "import matplotlib\n",
    "\n",
    "from random import randrange\n",
    "from tqdm import trange"
   ]
  },
  {
   "cell_type": "code",
   "execution_count": 3,
   "id": "20f7bf95",
   "metadata": {},
   "outputs": [],
   "source": [
    "seed_game = PyMorpionSolitaire.Game5T('c')"
   ]
  },
  {
   "cell_type": "code",
   "execution_count": 4,
   "id": "39ce12ce",
   "metadata": {},
   "outputs": [],
   "source": [
    "def one_game(game, N):\n",
    "    game.restart()\n",
    "    game.playAtRandom()\n",
    "    game.undo(N)\n",
    "    if game.exploreDepth(N + 1) != N:\n",
    "        return one_game(game, N)\n",
    "    grid = game.image()[48:144, 48:144]\n",
    "    score = game.getScore()\n",
    "    number_of_moves = game.getNumberOfMoves()\n",
    "    return grid, score, number_of_moves"
   ]
  },
  {
   "cell_type": "code",
   "execution_count": 5,
   "id": "475d9539",
   "metadata": {},
   "outputs": [],
   "source": [
    "def one_batch(game, N, batch_size):\n",
    "    grids, scores, moves = list(zip(*[one_game(game, N) for _ in trange(batch_size)]))\n",
    "    return np.array(grids), np.array(scores), np.array(moves),"
   ]
  },
  {
   "cell_type": "markdown",
   "id": "1b373cae",
   "metadata": {},
   "source": [
    "# Analyze big batches"
   ]
  },
  {
   "cell_type": "code",
   "execution_count": 6,
   "id": "9cd743cf",
   "metadata": {},
   "outputs": [],
   "source": [
    "grids = {}\n",
    "scores = {}\n",
    "moves = {}"
   ]
  },
  {
   "cell_type": "code",
   "execution_count": 7,
   "id": "09df9621",
   "metadata": {},
   "outputs": [
    {
     "name": "stderr",
     "output_type": "stream",
     "text": [
      "100%|██████████████████████████████████| 10000/10000 [00:00<00:00, 25656.52it/s]\n"
     ]
    },
    {
     "name": "stdout",
     "output_type": "stream",
     "text": [
      "CPU times: user 289 ms, sys: 144 ms, total: 433 ms\n",
      "Wall time: 434 ms\n"
     ]
    }
   ],
   "source": [
    "%%time\n",
    "grids[0], scores[0], moves[0] = one_batch(seed_game, 0, 10000)"
   ]
  },
  {
   "cell_type": "code",
   "execution_count": 8,
   "id": "1d484f43",
   "metadata": {},
   "outputs": [
    {
     "name": "stderr",
     "output_type": "stream",
     "text": [
      "100%|██████████████████████████████████| 10000/10000 [00:00<00:00, 30041.95it/s]"
     ]
    },
    {
     "name": "stdout",
     "output_type": "stream",
     "text": [
      "CPU times: user 356 ms, sys: 12.6 ms, total: 368 ms\n",
      "Wall time: 369 ms\n"
     ]
    },
    {
     "name": "stderr",
     "output_type": "stream",
     "text": [
      "\n"
     ]
    }
   ],
   "source": [
    "%%time\n",
    "grids[1], scores[1], moves[1] = one_batch(seed_game, 1, 10000)"
   ]
  },
  {
   "cell_type": "code",
   "execution_count": 9,
   "id": "0a89cdc7",
   "metadata": {},
   "outputs": [
    {
     "name": "stderr",
     "output_type": "stream",
     "text": [
      "100%|██████████████████████████████████| 10000/10000 [00:00<00:00, 26884.03it/s]\n"
     ]
    },
    {
     "name": "stdout",
     "output_type": "stream",
     "text": [
      "CPU times: user 419 ms, sys: 14.8 ms, total: 433 ms\n",
      "Wall time: 433 ms\n"
     ]
    }
   ],
   "source": [
    "%%time\n",
    "grids[2], scores[2], moves[2] = one_batch(seed_game, 2, 10000)"
   ]
  },
  {
   "cell_type": "code",
   "execution_count": 10,
   "id": "595bf374",
   "metadata": {},
   "outputs": [
    {
     "name": "stderr",
     "output_type": "stream",
     "text": [
      "100%|██████████████████████████████████| 10000/10000 [00:00<00:00, 22751.58it/s]"
     ]
    },
    {
     "name": "stdout",
     "output_type": "stream",
     "text": [
      "CPU times: user 461 ms, sys: 15.9 ms, total: 476 ms\n",
      "Wall time: 476 ms\n"
     ]
    },
    {
     "name": "stderr",
     "output_type": "stream",
     "text": [
      "\n"
     ]
    }
   ],
   "source": [
    "%%time\n",
    "grids[3], scores[3], moves[3] = one_batch(seed_game, 3, 10000)"
   ]
  },
  {
   "cell_type": "code",
   "execution_count": 11,
   "id": "5ec8b9df",
   "metadata": {},
   "outputs": [
    {
     "name": "stderr",
     "output_type": "stream",
     "text": [
      "100%|██████████████████████████████████| 10000/10000 [00:00<00:00, 17986.85it/s]"
     ]
    },
    {
     "name": "stdout",
     "output_type": "stream",
     "text": [
      "CPU times: user 580 ms, sys: 11.9 ms, total: 591 ms\n",
      "Wall time: 592 ms\n"
     ]
    },
    {
     "name": "stderr",
     "output_type": "stream",
     "text": [
      "\n"
     ]
    }
   ],
   "source": [
    "%%time\n",
    "grids[4], scores[4], moves[4] = one_batch(seed_game, 4, 10000)"
   ]
  },
  {
   "cell_type": "code",
   "execution_count": 12,
   "id": "4de7efac",
   "metadata": {},
   "outputs": [
    {
     "name": "stderr",
     "output_type": "stream",
     "text": [
      "100%|██████████████████████████████████| 10000/10000 [00:00<00:00, 11489.41it/s]\n"
     ]
    },
    {
     "name": "stdout",
     "output_type": "stream",
     "text": [
      "CPU times: user 896 ms, sys: 12.3 ms, total: 908 ms\n",
      "Wall time: 908 ms\n"
     ]
    }
   ],
   "source": [
    "%%time\n",
    "grids[5], scores[5], moves[5] = one_batch(seed_game, 5, 10000)"
   ]
  },
  {
   "cell_type": "code",
   "execution_count": 13,
   "id": "5ae2ae1e",
   "metadata": {},
   "outputs": [
    {
     "name": "stderr",
     "output_type": "stream",
     "text": [
      "100%|███████████████████████████████████| 10000/10000 [00:02<00:00, 4763.11it/s]"
     ]
    },
    {
     "name": "stdout",
     "output_type": "stream",
     "text": [
      "CPU times: user 2.1 s, sys: 31.5 ms, total: 2.14 s\n",
      "Wall time: 2.14 s\n"
     ]
    },
    {
     "name": "stderr",
     "output_type": "stream",
     "text": [
      "\n"
     ]
    }
   ],
   "source": [
    "%%time\n",
    "grids[6], scores[6], moves[6] = one_batch(seed_game, 6, 10000)"
   ]
  },
  {
   "cell_type": "code",
   "execution_count": 14,
   "id": "844162c0",
   "metadata": {},
   "outputs": [
    {
     "name": "stderr",
     "output_type": "stream",
     "text": [
      "100%|███████████████████████████████████| 10000/10000 [00:08<00:00, 1165.04it/s]"
     ]
    },
    {
     "name": "stdout",
     "output_type": "stream",
     "text": [
      "CPU times: user 8.63 s, sys: 43.3 ms, total: 8.68 s\n",
      "Wall time: 8.64 s\n"
     ]
    },
    {
     "name": "stderr",
     "output_type": "stream",
     "text": [
      "\n"
     ]
    }
   ],
   "source": [
    "%%time\n",
    "grids[7], scores[7], moves[7] = one_batch(seed_game, 7, 10000)"
   ]
  },
  {
   "cell_type": "code",
   "execution_count": 15,
   "id": "344aab73",
   "metadata": {},
   "outputs": [
    {
     "name": "stderr",
     "output_type": "stream",
     "text": [
      "100%|████████████████████████████████████| 10000/10000 [00:44<00:00, 226.30it/s]"
     ]
    },
    {
     "name": "stdout",
     "output_type": "stream",
     "text": [
      "CPU times: user 44.1 s, sys: 99.6 ms, total: 44.2 s\n",
      "Wall time: 44.2 s\n"
     ]
    },
    {
     "name": "stderr",
     "output_type": "stream",
     "text": [
      "\n"
     ]
    }
   ],
   "source": [
    "%%time\n",
    "grids[8], scores[8], moves[8] = one_batch(seed_game, 8, 10000)"
   ]
  },
  {
   "cell_type": "code",
   "execution_count": 16,
   "id": "65dd7c99",
   "metadata": {
    "scrolled": true
   },
   "outputs": [
    {
     "data": {
      "image/png": "[encoded data removed]",
      "text/plain": [
       "<Figure size 640x480 with 1 Axes>"
      ]
     },
     "metadata": {},
     "output_type": "display_data"
    }
   ],
   "source": [
    "plt.scatter(range(9), [0.329, 0.366, 0.404, 0.473, 0.588, 0.908, 2.16, 8.52, 48.1])\n",
    "plt.xlabel('N')\n",
    "plt.ylabel('Time (s)')\n",
    "plt.yscale('log')\n",
    "plt.show()"
   ]
  },
  {
   "cell_type": "code",
   "execution_count": 18,
   "id": "44261d82",
   "metadata": {},
   "outputs": [],
   "source": [
    "colormap = matplotlib.colormaps['viridis']\n",
    "colormap\n",
    "\n",
    "def color_fct(N):\n",
    "    return colormap(28 * N)\n",
    "\n",
    "def plot_histogram(data, color_N = 0, xlabel = \"\", ylabel = \"Count\", **kwargs):\n",
    "    bins = [n - 0.5 for n in range(max(data) + 2)]\n",
    "    count, bins = np.histogram(data, bins=bins)\n",
    "    plt.step(bins, np.insert(count, 0, 0), color=color_fct(color_N),  **kwargs)\n",
    "    plt.xlim((-0.5, max(data) + 0.5))\n",
    "    plt.ylim(0)\n",
    "    plt.xlabel(xlabel)\n",
    "    plt.ylabel(ylabel)"
   ]
  },
  {
   "cell_type": "code",
   "execution_count": 20,
   "id": "1d585db6",
   "metadata": {},
   "outputs": [
    {
     "data": {
      "image/png": "[encoded data removed]",
      "text/plain": [
       "<Figure size 640x480 with 1 Axes>"
      ]
     },
     "metadata": {},
     "output_type": "display_data"
    }
   ],
   "source": [
    "for N in range(9):\n",
    "    plot_histogram(scores[N], N, \"Scores\")\n",
    "plt.ylim(0, 1200)\n",
    "plt.show()"
   ]
  },
  {
   "cell_type": "code",
   "execution_count": 33,
   "id": "7e11623c",
   "metadata": {},
   "outputs": [],
   "source": [
    "def count_occurences(array, value):\n",
    "    if value == 0:\n",
    "        return len(array) - np.count_nonzero(array)\n",
    "    return "
   ]
  },
  {
   "cell_type": "code",
   "execution_count": 47,
   "id": "e15f3130",
   "metadata": {},
   "outputs": [
    {
     "data": {
      "image/png": "[encoded data removed]",
      "text/plain": [
       "<Figure size 746.667x480 with 1 Axes>"
      ]
     },
     "metadata": {},
     "output_type": "display_data"
    }
   ],
   "source": [
    "moves_by_depth = np.array([[np.count_nonzero(moves[N] == i) for i in range( 14)] for N in range(9)])\n",
    "\n",
    "plt.matshow(moves_by_depth)\n",
    "plt.xlabel('Number of moves')\n",
    "plt.ylabel('Depth')\n",
    "plt.show()"
   ]
  },
  {
   "cell_type": "markdown",
   "id": "6a936e87",
   "metadata": {},
   "source": [
    "# Store data"
   ]
  },
  {
   "cell_type": "code",
   "execution_count": 9,
   "id": "be16a0de",
   "metadata": {},
   "outputs": [
    {
     "name": "stderr",
     "output_type": "stream",
     "text": [
      "100%|████████████████████████████████| 100000/100000 [00:02<00:00, 33388.17it/s]\n",
      "100%|████████████████████████████████| 100000/100000 [00:02<00:00, 33413.46it/s]\n",
      "100%|████████████████████████████████| 100000/100000 [00:03<00:00, 33133.96it/s]\n",
      "100%|████████████████████████████████| 100000/100000 [00:02<00:00, 33460.89it/s]\n",
      "100%|████████████████████████████████| 100000/100000 [00:03<00:00, 32935.03it/s]\n",
      "100%|████████████████████████████████| 100000/100000 [00:03<00:00, 33214.54it/s]\n",
      "100%|████████████████████████████████| 100000/100000 [00:03<00:00, 33307.59it/s]\n",
      "100%|████████████████████████████████| 100000/100000 [00:02<00:00, 33533.41it/s]\n",
      "100%|████████████████████████████████| 100000/100000 [00:02<00:00, 33491.38it/s]\n",
      "100%|████████████████████████████████| 100000/100000 [00:02<00:00, 33546.05it/s]\n"
     ]
    }
   ],
   "source": [
    "for i in range(10):\n",
    "    grids, scores, moves = one_batch(seed_game, 0, 100000)\n",
    "    np.savez_compressed('data/grids-0-%03d.npz' % i, grids=grids)"
   ]
  },
  {
   "cell_type": "code",
   "execution_count": 10,
   "id": "2fbbb1be",
   "metadata": {},
   "outputs": [
    {
     "name": "stderr",
     "output_type": "stream",
     "text": [
      "100%|████████████████████████████████| 100000/100000 [00:03<00:00, 29727.84it/s]\n",
      "100%|████████████████████████████████| 100000/100000 [00:03<00:00, 29815.35it/s]\n",
      "100%|████████████████████████████████| 100000/100000 [00:03<00:00, 29881.24it/s]\n",
      "100%|████████████████████████████████| 100000/100000 [00:03<00:00, 29895.23it/s]\n",
      "100%|████████████████████████████████| 100000/100000 [00:03<00:00, 29845.77it/s]\n",
      "100%|████████████████████████████████| 100000/100000 [00:03<00:00, 29445.22it/s]\n",
      "100%|████████████████████████████████| 100000/100000 [00:03<00:00, 29778.77it/s]\n",
      "100%|████████████████████████████████| 100000/100000 [00:03<00:00, 28596.97it/s]\n",
      "100%|████████████████████████████████| 100000/100000 [00:03<00:00, 30297.85it/s]\n",
      "100%|████████████████████████████████| 100000/100000 [00:03<00:00, 29977.74it/s]\n"
     ]
    }
   ],
   "source": [
    "for i in range(10):\n",
    "    grids, scores, moves = one_batch(seed_game, 1, 100000)\n",
    "    np.savez_compressed('data/grids-1-%03d.npz' % i, grids=grids)"
   ]
  },
  {
   "cell_type": "code",
   "execution_count": 12,
   "id": "090510da",
   "metadata": {},
   "outputs": [
    {
     "name": "stderr",
     "output_type": "stream",
     "text": [
      "100%|████████████████████████████████| 100000/100000 [00:03<00:00, 26028.99it/s]\n",
      "100%|████████████████████████████████| 100000/100000 [00:03<00:00, 26089.25it/s]\n",
      "100%|████████████████████████████████| 100000/100000 [00:03<00:00, 26550.80it/s]\n",
      "100%|████████████████████████████████| 100000/100000 [00:03<00:00, 26304.80it/s]\n",
      "100%|████████████████████████████████| 100000/100000 [00:03<00:00, 26676.52it/s]\n",
      "100%|████████████████████████████████| 100000/100000 [00:03<00:00, 26780.20it/s]\n",
      "100%|████████████████████████████████| 100000/100000 [00:03<00:00, 26233.94it/s]\n",
      "100%|████████████████████████████████| 100000/100000 [00:03<00:00, 25472.43it/s]\n",
      "100%|████████████████████████████████| 100000/100000 [00:03<00:00, 26733.44it/s]\n",
      "100%|████████████████████████████████| 100000/100000 [00:03<00:00, 26402.54it/s]\n"
     ]
    }
   ],
   "source": [
    "for i in range(10):\n",
    "    grids, scores, moves = one_batch(seed_game, 2, 100000)\n",
    "    np.savez_compressed('data/grids-2-%03d.npz' % i, grids=grids)"
   ]
  },
  {
   "cell_type": "code",
   "execution_count": null,
   "id": "cd3b382e",
   "metadata": {},
   "outputs": [],
   "source": []
  }
 ],
 "metadata": {
  "kernelspec": {
   "display_name": "Python 3 (ipykernel)",
   "language": "python",
   "name": "python3"
  },
  "language_info": {
   "codemirror_mode": {
    "name": "ipython",
    "version": 3
   },
   "file_extension": ".py",
   "mimetype": "text/x-python",
   "name": "python",
   "nbconvert_exporter": "python",
   "pygments_lexer": "ipython3",
   "version": "3.10.11"
  }
 },
 "nbformat": 4,
 "nbformat_minor": 5
}
