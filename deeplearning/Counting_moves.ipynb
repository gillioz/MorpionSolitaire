{
 "cells": [
  {
   "cell_type": "markdown",
   "metadata": {},
   "source": [
    "# Counting legal moves\n"
   ]
  },
  {
   "cell_type": "code",
   "execution_count": 1,
   "metadata": {},
   "outputs": [],
   "source": [
    "import sys\n",
    "sys.path.append('../python/')"
   ]
  },
  {
   "cell_type": "code",
   "execution_count": 2,
   "metadata": {
    "scrolled": true
   },
   "outputs": [],
   "source": [
    "from MorpionSolitaire import *\n",
    "from DeepLearningMS import *"
   ]
  },
  {
   "cell_type": "code",
   "execution_count": 3,
   "metadata": {},
   "outputs": [],
   "source": [
    "from multiprocess import Pool\n",
    "pool = Pool()"
   ]
  },
  {
   "cell_type": "markdown",
   "metadata": {},
   "source": [
    "## Mini-batches"
   ]
  },
  {
   "cell_type": "markdown",
   "metadata": {},
   "source": [
    "This function plays one game at random until there are no more moves, then rewinds the game to an arbitrary interemediate stage, and returns the final grid.\n",
    "\n",
    "The label $y$ is related to the number of legal moves $N$ by the equation\n",
    "$$\n",
    "    y = \\frac{N}{N + 5}\n",
    "$$\n",
    "so that it is equal to zero if there are no moves, and approaches one if there are many moves."
   ]
  },
  {
   "cell_type": "code",
   "execution_count": 17,
   "metadata": {},
   "outputs": [],
   "source": [
    "def play_one_game(host = 0): # dummy argument needed for passing to pool.map\n",
    "    game = NewGame('cross').play()\n",
    "    game = game.unplay(np.random.randint(game.score + 1))\n",
    "    n = len(game.moves)\n",
    "    return game.grid.image(), n / (n + 5)"
   ]
  },
  {
   "cell_type": "markdown",
   "metadata": {},
   "source": [
    "Mini-batches contains a certain number of grids obtained in the way described above (computed in parallel to gain time), as well as a labels (0 for no legal moves, 1 for at least one legal move)."
   ]
  },
  {
   "cell_type": "code",
   "execution_count": 18,
   "metadata": {},
   "outputs": [],
   "source": [
    "def generate_batch(batch_size = 200):\n",
    "    xy = pool.map(play_one_game, range(batch_size))\n",
    "    x = torch.tensor(np.array([e[0] for e in xy])).float().unsqueeze(1)\n",
    "    y = torch.tensor([e[1] for e in xy]).unsqueeze(1)\n",
    "    return x, y"
   ]
  },
  {
   "cell_type": "markdown",
   "metadata": {},
   "source": [
    "20,000 grids and labels computed in this way are saved once and for all:"
   ]
  },
  {
   "cell_type": "code",
   "execution_count": null,
   "metadata": {},
   "outputs": [],
   "source": [
    "# xy = pool.map(play_one_game, range(20000))\n",
    "# np.save('data/counting_problem_grids.npy', np.stack([e[0] for e in xy]))\n",
    "# np.save('data/counting_problem_labels.npy', np.stack([e[1] for e in xy]))"
   ]
  },
  {
   "cell_type": "markdown",
   "metadata": {},
   "source": [
    "## Data frame"
   ]
  },
  {
   "cell_type": "markdown",
   "metadata": {},
   "source": [
    "**Possible improvement (?):** reduce the value of `repeat` to 8 (or even lower).\n",
    "This slows down the training process but it might increase its accuracy."
   ]
  },
  {
   "cell_type": "code",
   "execution_count": 6,
   "metadata": {},
   "outputs": [
    {
     "ename": "FileNotFoundError",
     "evalue": "[Errno 2] No such file or directory: 'data/counting_problem_grids.npy'",
     "output_type": "error",
     "traceback": [
      "\u001b[1;31m---------------------------------------------------------------------------\u001b[0m",
      "\u001b[1;31mFileNotFoundError\u001b[0m                         Traceback (most recent call last)",
      "\u001b[1;32m~\\AppData\\Local\\Temp\\ipykernel_7144\\1674236928.py\u001b[0m in \u001b[0;36m<module>\u001b[1;34m\u001b[0m\n\u001b[1;32m----> 1\u001b[1;33m data = MSDataFrame(batch_size = 200, length = 100,\n\u001b[0m\u001b[0;32m      2\u001b[0m                    \u001b[0mbatch_fct\u001b[0m \u001b[1;33m=\u001b[0m \u001b[0mgenerate_batch\u001b[0m\u001b[1;33m,\u001b[0m \u001b[0mrepeat\u001b[0m \u001b[1;33m=\u001b[0m \u001b[1;36m16\u001b[0m\u001b[1;33m,\u001b[0m\u001b[1;33m\u001b[0m\u001b[1;33m\u001b[0m\u001b[0m\n\u001b[0;32m      3\u001b[0m                    \u001b[0mdata\u001b[0m \u001b[1;33m=\u001b[0m \u001b[1;34m'data/counting_problem_grids.npy'\u001b[0m\u001b[1;33m,\u001b[0m\u001b[1;33m\u001b[0m\u001b[1;33m\u001b[0m\u001b[0m\n\u001b[0;32m      4\u001b[0m                    labels = 'data/counting_problem_labels.npy')\n\u001b[0;32m      5\u001b[0m \u001b[0mdata\u001b[0m\u001b[1;33m.\u001b[0m\u001b[0minfo\u001b[0m\u001b[1;33m(\u001b[0m\u001b[1;33m)\u001b[0m\u001b[1;33m\u001b[0m\u001b[1;33m\u001b[0m\u001b[0m\n",
      "\u001b[1;32md:\\Private\\MorpionSolitaire\\deeplearning\\DeepLearningMS.py\u001b[0m in \u001b[0;36m__init__\u001b[1;34m(self, batch_fct, batch_size, repeat, length, data, labels)\u001b[0m\n\u001b[0;32m     45\u001b[0m         \u001b[0mself\u001b[0m\u001b[1;33m.\u001b[0m\u001b[0mdata\u001b[0m \u001b[1;33m=\u001b[0m \u001b[1;33m[\u001b[0m\u001b[1;33m]\u001b[0m\u001b[1;33m\u001b[0m\u001b[1;33m\u001b[0m\u001b[0m\n\u001b[0;32m     46\u001b[0m         \u001b[1;32mif\u001b[0m \u001b[1;33m(\u001b[0m\u001b[0mdata\u001b[0m \u001b[1;32mis\u001b[0m \u001b[1;32mnot\u001b[0m \u001b[1;32mNone\u001b[0m\u001b[1;33m)\u001b[0m \u001b[1;32mand\u001b[0m \u001b[1;33m(\u001b[0m\u001b[0mlabels\u001b[0m \u001b[1;32mis\u001b[0m \u001b[1;32mnot\u001b[0m \u001b[1;32mNone\u001b[0m\u001b[1;33m)\u001b[0m\u001b[1;33m:\u001b[0m\u001b[1;33m\u001b[0m\u001b[1;33m\u001b[0m\u001b[0m\n\u001b[1;32m---> 47\u001b[1;33m             \u001b[0mx\u001b[0m \u001b[1;33m=\u001b[0m \u001b[0mnp\u001b[0m\u001b[1;33m.\u001b[0m\u001b[0mload\u001b[0m\u001b[1;33m(\u001b[0m\u001b[0mdata\u001b[0m\u001b[1;33m)\u001b[0m\u001b[1;33m\u001b[0m\u001b[1;33m\u001b[0m\u001b[0m\n\u001b[0m\u001b[0;32m     48\u001b[0m             \u001b[0my\u001b[0m \u001b[1;33m=\u001b[0m \u001b[0mnp\u001b[0m\u001b[1;33m.\u001b[0m\u001b[0mload\u001b[0m\u001b[1;33m(\u001b[0m\u001b[0mlabels\u001b[0m\u001b[1;33m)\u001b[0m\u001b[1;33m\u001b[0m\u001b[1;33m\u001b[0m\u001b[0m\n\u001b[0;32m     49\u001b[0m             \u001b[1;32mif\u001b[0m \u001b[0mx\u001b[0m\u001b[1;33m.\u001b[0m\u001b[0mshape\u001b[0m\u001b[1;33m[\u001b[0m\u001b[1;36m0\u001b[0m\u001b[1;33m]\u001b[0m \u001b[1;33m==\u001b[0m \u001b[0my\u001b[0m\u001b[1;33m.\u001b[0m\u001b[0mshape\u001b[0m\u001b[1;33m[\u001b[0m\u001b[1;36m0\u001b[0m\u001b[1;33m]\u001b[0m\u001b[1;33m:\u001b[0m\u001b[1;33m\u001b[0m\u001b[1;33m\u001b[0m\u001b[0m\n",
      "\u001b[1;32m~\\Anaconda3\\lib\\site-packages\\numpy\\lib\\npyio.py\u001b[0m in \u001b[0;36mload\u001b[1;34m(file, mmap_mode, allow_pickle, fix_imports, encoding)\u001b[0m\n\u001b[0;32m    415\u001b[0m             \u001b[0mown_fid\u001b[0m \u001b[1;33m=\u001b[0m \u001b[1;32mFalse\u001b[0m\u001b[1;33m\u001b[0m\u001b[1;33m\u001b[0m\u001b[0m\n\u001b[0;32m    416\u001b[0m         \u001b[1;32melse\u001b[0m\u001b[1;33m:\u001b[0m\u001b[1;33m\u001b[0m\u001b[1;33m\u001b[0m\u001b[0m\n\u001b[1;32m--> 417\u001b[1;33m             \u001b[0mfid\u001b[0m \u001b[1;33m=\u001b[0m \u001b[0mstack\u001b[0m\u001b[1;33m.\u001b[0m\u001b[0menter_context\u001b[0m\u001b[1;33m(\u001b[0m\u001b[0mopen\u001b[0m\u001b[1;33m(\u001b[0m\u001b[0mos_fspath\u001b[0m\u001b[1;33m(\u001b[0m\u001b[0mfile\u001b[0m\u001b[1;33m)\u001b[0m\u001b[1;33m,\u001b[0m \u001b[1;34m\"rb\"\u001b[0m\u001b[1;33m)\u001b[0m\u001b[1;33m)\u001b[0m\u001b[1;33m\u001b[0m\u001b[1;33m\u001b[0m\u001b[0m\n\u001b[0m\u001b[0;32m    418\u001b[0m             \u001b[0mown_fid\u001b[0m \u001b[1;33m=\u001b[0m \u001b[1;32mTrue\u001b[0m\u001b[1;33m\u001b[0m\u001b[1;33m\u001b[0m\u001b[0m\n\u001b[0;32m    419\u001b[0m \u001b[1;33m\u001b[0m\u001b[0m\n",
      "\u001b[1;31mFileNotFoundError\u001b[0m: [Errno 2] No such file or directory: 'data/counting_problem_grids.npy'"
     ]
    }
   ],
   "source": [
    "data = MSDataFrame(batch_size = 200, length = 100,\n",
    "                   batch_fct = generate_batch, repeat = 16,\n",
    "                   data = 'data/counting_problem_grids.npy',\n",
    "                   labels = 'data/counting_problem_labels.npy')\n",
    "data.info()"
   ]
  },
  {
   "cell_type": "code",
   "execution_count": null,
   "metadata": {},
   "outputs": [
    {
     "data": {
      "text/plain": [
       "(torch.Size([200, 1, 94, 94]), torch.Size([200, 1]))"
      ]
     },
     "execution_count": null,
     "metadata": {},
     "output_type": "execute_result"
    }
   ],
   "source": [
    "x, y = data.data[0]\n",
    "x.shape, y.shape"
   ]
  },
  {
   "cell_type": "code",
   "execution_count": null,
   "metadata": {},
   "outputs": [
    {
     "data": {
      "image/png": "[encoded data removed]",
      "text/plain": [
       "<PIL.Image.Image image mode=1 size=94x94 at 0x7F04DF762AC0>"
      ]
     },
     "execution_count": null,
     "metadata": {},
     "output_type": "execute_result"
    }
   ],
   "source": [
    "MSvisualize(x[0])"
   ]
  },
  {
   "cell_type": "code",
   "execution_count": null,
   "metadata": {},
   "outputs": [
    {
     "data": {
      "text/plain": [
       "tensor([0.7917])"
      ]
     },
     "execution_count": null,
     "metadata": {},
     "output_type": "execute_result"
    }
   ],
   "source": [
    "y[0]"
   ]
  },
  {
   "cell_type": "code",
   "execution_count": null,
   "metadata": {},
   "outputs": [
    {
     "data": {
      "text/plain": [
       "tensor([19.0000])"
      ]
     },
     "execution_count": null,
     "metadata": {},
     "output_type": "execute_result"
    }
   ],
   "source": [
    "5.0 * y[0] / (1.0 - y[0])"
   ]
  },
  {
   "cell_type": "markdown",
   "metadata": {},
   "source": [
    "Distribution of labels:"
   ]
  },
  {
   "cell_type": "code",
   "execution_count": null,
   "metadata": {},
   "outputs": [],
   "source": [
    "ydata = torch.cat([data.data[i][1].squeeze() for i in range(len(data.data))])\n",
    "ndata = torch.round(5.0 * ydata / (1.0 - ydata))\n",
    "nmax = ndata.max().int().item()\n",
    "ndistribution = [torch.where(ndata == i, 1.0, 0.0).mean().item() for i in range(nmax + 1)]"
   ]
  },
  {
   "cell_type": "code",
   "execution_count": null,
   "metadata": {},
   "outputs": [
    {
     "data": {
      "text/plain": [
       "(tensor(0.6357), tensor(0.1900), tensor(0.), tensor(0.8684))"
      ]
     },
     "execution_count": null,
     "metadata": {},
     "output_type": "execute_result"
    }
   ],
   "source": [
    "ydata.mean(), ydata.std(), ydata.min(), ydata.max()"
   ]
  },
  {
   "cell_type": "code",
   "execution_count": null,
   "metadata": {},
   "outputs": [
    {
     "data": {
      "image/png": "[encoded data removed]",
      "text/plain": [
       "<Figure size 432x288 with 1 Axes>"
      ]
     },
     "metadata": {
      "needs_background": "light"
     },
     "output_type": "display_data"
    }
   ],
   "source": [
    "plt.scatter([y / (y + 5) for y in range(nmax + 1)], ndistribution, color='green', marker = '+')\n",
    "plt.xlabel('Label')\n",
    "plt.ylabel('Frequency')\n",
    "plt.xlim(-0.03, 1)\n",
    "plt.ylim(0, 0.1)\n",
    "plt.show()"
   ]
  },
  {
   "cell_type": "code",
   "execution_count": null,
   "metadata": {},
   "outputs": [
    {
     "data": {
      "image/png": "[encoded data removed]",
      "text/plain": [
       "<Figure size 432x288 with 1 Axes>"
      ]
     },
     "metadata": {
      "needs_background": "light"
     },
     "output_type": "display_data"
    }
   ],
   "source": [
    "plt.step(np.array(range(nmax + 1)), ndistribution, where='mid', color='green')\n",
    "plt.xlabel('Label (number of possible moves)')\n",
    "plt.ylabel('Frequency')\n",
    "plt.xlim(0, nmax)\n",
    "plt.ylim(0, 0.07)\n",
    "# plt.savefig('blog/Part_4_Counting_images/labels_counting.png', bbox_inches='tight')\n",
    "plt.show()"
   ]
  },
  {
   "cell_type": "markdown",
   "metadata": {},
   "source": [
    "### Loss and accuracy\n",
    "\n",
    "The accuracy is computed after inverting the relation between the label $y$ and the corresponding number of moves $N$:\n",
    "$$\n",
    "N = \\frac{5 y}{1 - y}\n",
    "$$\n",
    "The value $N_\\text{output}$ computed from the network output is rounded to the nearest integer, and compared with the label $N_\\text{label}$ (also rounded to nearest integer to avoid numerical inaccuracies). The function `accuracy` counts how many times the two integer match. The functions `plusminusone` and `plusminustwo` count how many times $N_\\text{output}$ and $N_\\text{label}$ differ at most by one or two units."
   ]
  },
  {
   "cell_type": "code",
   "execution_count": 12,
   "metadata": {},
   "outputs": [],
   "source": [
    "def accuracy(outputs, labels, plusminus = 0.0):\n",
    "    noutputs = torch.round(5.0 * outputs / (1.0 - outputs))\n",
    "    nlabels = torch.round(5.0 * labels / (1.0 - labels))\n",
    "    return torch.where(torch.abs(noutputs - nlabels) <= plusminus, 1.0, 0.0).mean()"
   ]
  },
  {
   "cell_type": "code",
   "execution_count": 13,
   "metadata": {},
   "outputs": [],
   "source": [
    "def plusminusone(outputs, labels):\n",
    "    return accuracy(outputs, labels, plusminus = 1.0)\n",
    "def plusminustwo(outputs, labels):\n",
    "    return accuracy(outputs, labels, plusminus = 2.0)"
   ]
  },
  {
   "cell_type": "markdown",
   "metadata": {},
   "source": [
    "The loss function is chosen to be the mean square error in terms of the variable $N$, i.e.\n",
    "$$\n",
    "    L \\approx \\sum_i (N_\\text{output} - N_\\text{label})^2\n",
    "    \\propto \n",
    "    \\sum_i  \\left( \\frac{y_\\text{output}}{1 - y_\\text{output}} - \\frac{y_\\text{label}}{1 - y_\\text{label}} \\right)^2\n",
    "$$\n",
    "However, to avoid the divergence when $y_\\text{output} = 1$, we use the following variant:\n",
    "$$\n",
    "    L = \\sum_i \\left( \\frac{y_\\text{output} - y_\\text{label}}{1 - y_\\text{label}} \\right)^2\n",
    "$$"
   ]
  },
  {
   "cell_type": "code",
   "execution_count": null,
   "metadata": {},
   "outputs": [],
   "source": [
    "def nloss(outputs, labels):\n",
    "    return torch.square((outputs - labels) / (1.0 - labels)).mean()"
   ]
  },
  {
   "cell_type": "markdown",
   "metadata": {},
   "source": [
    "## Model and training"
   ]
  },
  {
   "cell_type": "markdown",
   "metadata": {},
   "source": [
    "We use *transfer learning*: instead of training the model from scratch (which seems nearly impossible), we use a model pre-trained on the binary problem:"
   ]
  },
  {
   "cell_type": "code",
   "execution_count": 7,
   "metadata": {},
   "outputs": [
    {
     "data": {
      "text/plain": [
       "Sequential(\n",
       "  (0): Conv2d(1, 20, kernel_size=(3, 3), stride=(3, 3), padding=(1, 1))\n",
       "  (1): ReLU()\n",
       "  (2): Conv2d(20, 40, kernel_size=(2, 2), stride=(1, 1))\n",
       "  (3): ReLU()\n",
       "  (4): Conv2d(40, 40, kernel_size=(2, 2), stride=(1, 1))\n",
       "  (5): ReLU()\n",
       "  (6): Conv2d(40, 40, kernel_size=(2, 2), stride=(1, 1))\n",
       "  (7): ReLU()\n",
       "  (8): Conv2d(40, 40, kernel_size=(2, 2), stride=(1, 1))\n",
       "  (9): ReLU()\n",
       "  (10): AdaptiveAvgPool2d(output_size=1)\n",
       "  (11): Flatten(start_dim=1, end_dim=-1)\n",
       "  (12): Linear(in_features=40, out_features=20, bias=True)\n",
       "  (13): ReLU()\n",
       "  (14): Linear(in_features=20, out_features=10, bias=True)\n",
       "  (15): ReLU()\n",
       "  (16): Linear(in_features=10, out_features=1, bias=True)\n",
       ")"
      ]
     },
     "execution_count": 7,
     "metadata": {},
     "output_type": "execute_result"
    }
   ],
   "source": [
    "net = torch.load('models/Descartes_binary.pt')\n",
    "net.train()\n",
    "net"
   ]
  },
  {
   "cell_type": "markdown",
   "metadata": {},
   "source": [
    "**Possible modification:** we could also try to freeze all parameters of the convolutional layers and only train the last 3 linear layers (this does not seem to work though)"
   ]
  },
  {
   "cell_type": "code",
   "execution_count": null,
   "metadata": {},
   "outputs": [],
   "source": [
    "# for i in range(10):\n",
    "#     for param in net[i].parameters():\n",
    "#         param.requires_grad = False"
   ]
  },
  {
   "cell_type": "markdown",
   "metadata": {},
   "source": [
    "**Other possible modification:** we could also modify the linear layer part of the network:"
   ]
  },
  {
   "cell_type": "code",
   "execution_count": null,
   "metadata": {},
   "outputs": [],
   "source": [
    "# modules = [net[i] for i in range(12)]\n",
    "# modules.extend([torch.nn.Linear(40, 10),\n",
    "#                 torch.nn.ReLU(),\n",
    "#                 torch.nn.Linear(10, 4),\n",
    "#                 torch.nn.ReLU(),\n",
    "#                 torch.nn.Linear(4, 1)])\n",
    "# net = torch.nn.Sequential(*modules)\n",
    "# net"
   ]
  },
  {
   "cell_type": "markdown",
   "metadata": {},
   "source": [
    "Number of parameters in the model:"
   ]
  },
  {
   "cell_type": "code",
   "execution_count": null,
   "metadata": {},
   "outputs": [
    {
     "data": {
      "text/plain": [
       "23801"
      ]
     },
     "execution_count": null,
     "metadata": {},
     "output_type": "execute_result"
    }
   ],
   "source": [
    "sum(p.numel() for p in net.parameters())"
   ]
  },
  {
   "cell_type": "markdown",
   "metadata": {},
   "source": [
    "Number of trainable parameters in the model (only relevant with freezing):"
   ]
  },
  {
   "cell_type": "code",
   "execution_count": null,
   "metadata": {},
   "outputs": [],
   "source": [
    "# sum(p.numel() for p in net.parameters() if p.requires_grad)"
   ]
  },
  {
   "cell_type": "code",
   "execution_count": null,
   "metadata": {},
   "outputs": [
    {
     "data": {
      "text/plain": [
       "torch.Size([200, 1])"
      ]
     },
     "execution_count": null,
     "metadata": {},
     "output_type": "execute_result"
    }
   ],
   "source": [
    "y_pred = net(x)\n",
    "y_pred.shape"
   ]
  },
  {
   "cell_type": "code",
   "execution_count": null,
   "metadata": {},
   "outputs": [
    {
     "data": {
      "text/plain": [
       "(tensor(0.0250), tensor(0.0300), tensor(0.0300))"
      ]
     },
     "execution_count": null,
     "metadata": {},
     "output_type": "execute_result"
    }
   ],
   "source": [
    "accuracy(y_pred, y), plusminusone(y_pred, y), plusminustwo(y_pred, y)"
   ]
  },
  {
   "cell_type": "code",
   "execution_count": null,
   "metadata": {},
   "outputs": [
    {
     "data": {
      "text/plain": [
       "tensor(1.1581, grad_fn=<MeanBackward0>)"
      ]
     },
     "execution_count": null,
     "metadata": {},
     "output_type": "execute_result"
    }
   ],
   "source": [
    "nloss(y_pred, y)"
   ]
  },
  {
   "cell_type": "markdown",
   "metadata": {},
   "source": [
    "## Training"
   ]
  },
  {
   "cell_type": "code",
   "execution_count": null,
   "metadata": {},
   "outputs": [],
   "source": [
    "running_loss_data = []\n",
    "accuracy_data = []"
   ]
  },
  {
   "cell_type": "markdown",
   "metadata": {},
   "source": [
    "Remark: in this case we changed optimizer from SGD to Adam"
   ]
  },
  {
   "cell_type": "code",
   "execution_count": null,
   "metadata": {},
   "outputs": [
    {
     "data": {
      "application/vnd.jupyter.widget-view+json": {
       "model_id": "dd20f3e3192e4141bcfeb8af327f66b8",
       "version_major": 2,
       "version_minor": 0
      },
      "text/plain": [
       "HBox(children=(HTML(value=''), FloatProgress(value=0.0, max=500.0), HTML(value='')))"
      ]
     },
     "metadata": {},
     "output_type": "display_data"
    },
    {
     "name": "stderr",
     "output_type": "stream",
     "text": [
      "/home/marc/anaconda3/lib/python3.8/site-packages/torch/autograd/__init__.py:130: UserWarning: CUDA initialization: Found no NVIDIA driver on your system. Please check that you have an NVIDIA GPU and installed a driver from http://www.nvidia.com/Download/index.aspx (Triggered internally at  /pytorch/c10/cuda/CUDAFunctions.cpp:100.)\n",
      "  Variable._execution_engine.run_backward(\n"
     ]
    },
    {
     "name": "stdout",
     "output_type": "stream",
     "text": [
      "[0]  loss: 0.13209  accuracy: 0.10  0.28  0.43  \n",
      "[1]  loss: 0.02164  accuracy: 0.22  0.55  0.75  \n",
      "[2]  loss: 0.01396  accuracy: 0.26  0.64  0.84  \n",
      "[3]  loss: 0.01068  accuracy: 0.31  0.71  0.88  \n",
      "[4]  loss: 0.00962  accuracy: 0.32  0.73  0.89  \n",
      "[5]  loss: 0.00815  accuracy: 0.36  0.76  0.91  \n",
      "[6]  loss: 0.00770  accuracy: 0.37  0.77  0.92  \n",
      "[7]  loss: 0.00698  accuracy: 0.38  0.79  0.93  \n",
      "[8]  loss: 0.00677  accuracy: 0.38  0.79  0.93  \n",
      "[9]  loss: 0.00630  accuracy: 0.39  0.81  0.94  \n",
      "[10]  loss: 0.00593  accuracy: 0.41  0.81  0.94  \n",
      "[11]  loss: 0.00551  accuracy: 0.43  0.83  0.95  \n",
      "[12]  loss: 0.00557  accuracy: 0.41  0.82  0.95  \n",
      "[13]  loss: 0.00510  accuracy: 0.42  0.84  0.95  \n",
      "[14]  loss: 0.00482  accuracy: 0.44  0.85  0.96  \n",
      "[15]  loss: 0.00463  accuracy: 0.45  0.85  0.96  \n",
      "[16]  loss: 0.00520  accuracy: 0.40  0.82  0.95  \n",
      "[17]  loss: 0.00439  accuracy: 0.46  0.86  0.97  \n",
      "[18]  loss: 0.00419  accuracy: 0.46  0.87  0.97  \n",
      "[19]  loss: 0.00447  accuracy: 0.44  0.85  0.96  \n",
      "[20]  loss: 0.00399  accuracy: 0.46  0.87  0.97  \n",
      "[21]  loss: 0.00380  accuracy: 0.48  0.88  0.98  \n",
      "[22]  loss: 0.00428  accuracy: 0.46  0.86  0.96  \n",
      "[23]  loss: 0.00366  accuracy: 0.49  0.89  0.98  \n",
      "[24]  loss: 0.00379  accuracy: 0.47  0.88  0.97  \n",
      "[25]  loss: 0.00318  accuracy: 0.52  0.91  0.98  \n",
      "[26]  loss: 0.00353  accuracy: 0.49  0.89  0.98  \n",
      "[27]  loss: 0.00345  accuracy: 0.49  0.89  0.97  \n",
      "[28]  loss: 0.00311  accuracy: 0.53  0.91  0.98  \n",
      "[29]  loss: 0.00308  accuracy: 0.52  0.91  0.98  \n",
      "[30]  loss: 0.00294  accuracy: 0.54  0.92  0.99  \n",
      "[31]  loss: 0.00291  accuracy: 0.55  0.92  0.99  \n",
      "[32]  loss: 0.00291  accuracy: 0.54  0.92  0.98  \n",
      "[33]  loss: 0.00294  accuracy: 0.54  0.91  0.98  \n",
      "[34]  loss: 0.00271  accuracy: 0.55  0.92  0.98  \n",
      "[35]  loss: 0.00298  accuracy: 0.52  0.90  0.98  \n",
      "[36]  loss: 0.00270  accuracy: 0.55  0.92  0.99  \n",
      "[37]  loss: 0.00245  accuracy: 0.58  0.93  0.99  \n",
      "[38]  loss: 0.00235  accuracy: 0.59  0.94  0.99  \n",
      "[39]  loss: 0.00285  accuracy: 0.53  0.90  0.98  \n",
      "[40]  loss: 0.00232  accuracy: 0.59  0.94  0.99  \n",
      "[41]  loss: 0.00247  accuracy: 0.57  0.93  0.99  \n",
      "[42]  loss: 0.00262  accuracy: 0.55  0.91  0.98  \n",
      "[43]  loss: 0.00235  accuracy: 0.59  0.93  0.99  \n",
      "[44]  loss: 0.00218  accuracy: 0.60  0.94  0.99  \n",
      "[45]  loss: 0.00195  accuracy: 0.61  0.95  0.99  \n",
      "[46]  loss: 0.00229  accuracy: 0.57  0.93  0.99  \n",
      "[47]  loss: 0.00235  accuracy: 0.57  0.93  0.99  \n",
      "[48]  loss: 0.00196  accuracy: 0.62  0.95  0.99  \n",
      "[49]  loss: 0.00211  accuracy: 0.59  0.94  0.99  \n",
      "[50]  loss: 0.00188  accuracy: 0.62  0.95  0.99  \n",
      "[51]  loss: 0.00191  accuracy: 0.60  0.95  0.99  \n",
      "[52]  loss: 0.00195  accuracy: 0.61  0.94  0.99  \n",
      "[53]  loss: 0.00230  accuracy: 0.56  0.92  0.99  \n",
      "[54]  loss: 0.00209  accuracy: 0.59  0.93  0.99  \n",
      "[55]  loss: 0.00212  accuracy: 0.57  0.93  0.99  \n",
      "[56]  loss: 0.00191  accuracy: 0.60  0.95  0.99  \n",
      "[57]  loss: 0.00205  accuracy: 0.58  0.93  0.99  \n",
      "[58]  loss: 0.00158  accuracy: 0.64  0.97  1.00  \n",
      "[59]  loss: 0.00193  accuracy: 0.58  0.94  0.99  \n",
      "[60]  loss: 0.00187  accuracy: 0.60  0.95  0.99  \n",
      "[61]  loss: 0.00182  accuracy: 0.62  0.95  0.99  \n",
      "[62]  loss: 0.00165  accuracy: 0.63  0.96  0.99  \n",
      "[63]  loss: 0.00168  accuracy: 0.63  0.95  0.99  \n",
      "[64]  loss: 0.00162  accuracy: 0.64  0.96  0.99  \n",
      "[65]  loss: 0.00149  accuracy: 0.66  0.97  1.00  \n",
      "[66]  loss: 0.00164  accuracy: 0.63  0.96  1.00  \n",
      "[67]  loss: 0.00155  accuracy: 0.65  0.96  0.99  \n",
      "[68]  loss: 0.00135  accuracy: 0.68  0.97  1.00  \n",
      "[69]  loss: 0.00145  accuracy: 0.67  0.97  1.00  \n",
      "[70]  loss: 0.00169  accuracy: 0.61  0.95  0.99  \n",
      "[71]  loss: 0.00159  accuracy: 0.64  0.96  0.99  \n",
      "[72]  loss: 0.00125  accuracy: 0.70  0.98  1.00  \n",
      "[73]  loss: 0.00159  accuracy: 0.63  0.95  0.99  \n",
      "[74]  loss: 0.00166  accuracy: 0.61  0.95  0.99  \n",
      "[75]  loss: 0.00168  accuracy: 0.62  0.95  0.99  \n",
      "[76]  loss: 0.00151  accuracy: 0.65  0.97  0.99  \n",
      "[77]  loss: 0.00124  accuracy: 0.71  0.98  1.00  \n",
      "[78]  loss: 0.00136  accuracy: 0.69  0.97  0.99  \n",
      "[79]  loss: 0.00178  accuracy: 0.60  0.94  0.99  \n",
      "[80]  loss: 0.00151  accuracy: 0.66  0.96  0.99  \n",
      "[81]  loss: 0.00148  accuracy: 0.66  0.96  0.99  \n",
      "[82]  loss: 0.00142  accuracy: 0.66  0.97  1.00  \n",
      "[83]  loss: 0.00164  accuracy: 0.64  0.95  0.99  \n",
      "[84]  loss: 0.00127  accuracy: 0.71  0.97  1.00  \n",
      "[85]  loss: 0.00165  accuracy: 0.62  0.95  0.99  \n",
      "[86]  loss: 0.00159  accuracy: 0.62  0.96  0.99  \n",
      "[87]  loss: 0.00161  accuracy: 0.63  0.95  0.99  \n",
      "[88]  loss: 0.00130  accuracy: 0.69  0.97  1.00  \n",
      "[89]  loss: 0.00137  accuracy: 0.68  0.96  0.99  \n",
      "[90]  loss: 0.00145  accuracy: 0.65  0.96  1.00  \n",
      "[91]  loss: 0.00132  accuracy: 0.68  0.97  1.00  \n",
      "[92]  loss: 0.00114  accuracy: 0.71  0.98  1.00  \n",
      "[93]  loss: 0.00106  accuracy: 0.74  0.98  1.00  \n",
      "[94]  loss: 0.00106  accuracy: 0.73  0.98  1.00  \n",
      "[95]  loss: 0.00109  accuracy: 0.71  0.98  1.00  \n",
      "[96]  loss: 0.00106  accuracy: 0.73  0.98  1.00  \n",
      "[97]  loss: 0.00100  accuracy: 0.75  0.98  1.00  \n",
      "[98]  loss: 0.00120  accuracy: 0.69  0.97  1.00  \n",
      "[99]  loss: 0.00106  accuracy: 0.71  0.98  1.00  \n",
      "[100]  loss: 0.00093  accuracy: 0.76  0.99  1.00  \n",
      "[101]  loss: 0.00131  accuracy: 0.66  0.96  1.00  \n",
      "[102]  loss: 0.00112  accuracy: 0.71  0.98  1.00  \n",
      "[103]  loss: 0.00103  accuracy: 0.73  0.98  1.00  \n",
      "[104]  loss: 0.00114  accuracy: 0.71  0.98  1.00  \n",
      "[105]  loss: 0.00109  accuracy: 0.71  0.98  1.00  \n",
      "[106]  loss: 0.00109  accuracy: 0.71  0.98  1.00  \n",
      "[107]  loss: 0.00096  accuracy: 0.75  0.98  1.00  \n",
      "[108]  loss: 0.00100  accuracy: 0.73  0.98  1.00  \n",
      "[109]  loss: 0.00102  accuracy: 0.74  0.98  1.00  \n",
      "[110]  loss: 0.00149  accuracy: 0.63  0.95  0.99  \n",
      "[111]  loss: 0.00093  accuracy: 0.75  0.98  1.00  \n",
      "[112]  loss: 0.00116  accuracy: 0.69  0.97  1.00  \n",
      "[113]  loss: 0.00089  accuracy: 0.77  0.99  1.00  \n",
      "[114]  loss: 0.00116  accuracy: 0.69  0.97  1.00  \n",
      "[115]  loss: 0.00093  accuracy: 0.75  0.98  1.00  \n",
      "[116]  loss: 0.00087  accuracy: 0.76  0.98  1.00  \n",
      "[117]  loss: 0.00089  accuracy: 0.75  0.98  1.00  \n",
      "[118]  loss: 0.00077  accuracy: 0.78  0.99  1.00  \n",
      "[119]  loss: 0.00082  accuracy: 0.75  0.99  1.00  \n",
      "[120]  loss: 0.00098  accuracy: 0.72  0.98  1.00  \n",
      "[121]  loss: 0.00114  accuracy: 0.68  0.97  1.00  \n",
      "[122]  loss: 0.00072  accuracy: 0.79  0.99  1.00  \n",
      "[123]  loss: 0.00082  accuracy: 0.76  0.99  1.00  \n",
      "[124]  loss: 0.00089  accuracy: 0.73  0.98  1.00  \n",
      "[125]  loss: 0.00071  accuracy: 0.78  0.99  1.00  \n",
      "[126]  loss: 0.00078  accuracy: 0.77  0.99  1.00  \n",
      "[127]  loss: 0.00086  accuracy: 0.74  0.98  1.00  \n",
      "[128]  loss: 0.00089  accuracy: 0.73  0.98  1.00  \n",
      "[129]  loss: 0.00066  accuracy: 0.80  0.99  1.00  \n",
      "[130]  loss: 0.00062  accuracy: 0.82  0.99  1.00  \n",
      "[131]  loss: 0.00061  accuracy: 0.82  0.99  1.00  \n",
      "[132]  loss: 0.00065  accuracy: 0.80  0.99  1.00  \n",
      "[133]  loss: 0.00057  accuracy: 0.83  1.00  1.00  \n",
      "[134]  loss: 0.00060  accuracy: 0.81  0.99  1.00  \n",
      "[135]  loss: 0.00062  accuracy: 0.82  0.99  1.00  \n",
      "[136]  loss: 0.00057  accuracy: 0.83  0.99  1.00  \n",
      "[137]  loss: 0.00063  accuracy: 0.80  0.99  1.00  \n",
      "[138]  loss: 0.00073  accuracy: 0.77  0.99  1.00  \n",
      "[139]  loss: 0.00062  accuracy: 0.82  0.99  1.00  \n",
      "[140]  loss: 0.00064  accuracy: 0.80  0.99  1.00  \n",
      "[141]  loss: 0.00066  accuracy: 0.80  0.99  1.00  \n",
      "[142]  loss: 0.00069  accuracy: 0.79  0.99  1.00  \n",
      "[143]  loss: 0.00065  accuracy: 0.80  0.99  1.00  \n",
      "[144]  loss: 0.00057  accuracy: 0.84  1.00  1.00  \n",
      "[145]  loss: 0.00066  accuracy: 0.80  0.99  1.00  \n",
      "[146]  loss: 0.00065  accuracy: 0.80  0.99  1.00  \n",
      "[147]  loss: 0.00063  accuracy: 0.81  0.99  1.00  \n",
      "[148]  loss: 0.00065  accuracy: 0.80  0.99  1.00  \n",
      "[149]  loss: 0.00073  accuracy: 0.78  0.99  1.00  \n",
      "[150]  loss: 0.00067  accuracy: 0.80  0.99  1.00  \n",
      "[151]  loss: 0.00067  accuracy: 0.80  0.99  1.00  \n",
      "[152]  loss: 0.00059  accuracy: 0.83  0.99  1.00  \n",
      "[153]  loss: 0.00058  accuracy: 0.84  0.99  1.00  \n",
      "[154]  loss: 0.00092  accuracy: 0.71  0.98  1.00  \n",
      "[155]  loss: 0.00109  accuracy: 0.67  0.97  1.00  \n",
      "[156]  loss: 0.00059  accuracy: 0.83  1.00  1.00  \n",
      "[157]  loss: 0.00070  accuracy: 0.76  0.99  1.00  \n",
      "[158]  loss: 0.00074  accuracy: 0.76  0.99  1.00  \n",
      "[159]  loss: 0.00078  accuracy: 0.75  0.98  1.00  \n",
      "[160]  loss: 0.00066  accuracy: 0.79  0.99  1.00  \n",
      "[161]  loss: 0.00081  accuracy: 0.74  0.98  1.00  \n",
      "[162]  loss: 0.00060  accuracy: 0.81  0.99  1.00  \n"
     ]
    },
    {
     "name": "stdout",
     "output_type": "stream",
     "text": [
      "[163]  loss: 0.00057  accuracy: 0.82  1.00  1.00  \n",
      "[164]  loss: 0.00080  accuracy: 0.74  0.98  1.00  \n",
      "[165]  loss: 0.00051  accuracy: 0.84  1.00  1.00  \n",
      "[166]  loss: 0.00050  accuracy: 0.84  1.00  1.00  \n",
      "[167]  loss: 0.00073  accuracy: 0.76  0.99  1.00  \n",
      "[168]  loss: 0.00083  accuracy: 0.75  0.98  1.00  \n",
      "[169]  loss: 0.00056  accuracy: 0.83  0.99  1.00  \n",
      "[170]  loss: 0.00049  accuracy: 0.85  1.00  1.00  \n",
      "[171]  loss: 0.00052  accuracy: 0.85  1.00  1.00  \n",
      "[172]  loss: 0.00053  accuracy: 0.84  0.99  1.00  \n",
      "[173]  loss: 0.00052  accuracy: 0.84  1.00  1.00  \n",
      "[174]  loss: 0.00050  accuracy: 0.85  1.00  1.00  \n",
      "[175]  loss: 0.00047  accuracy: 0.86  1.00  1.00  \n",
      "[176]  loss: 0.00045  accuracy: 0.86  1.00  1.00  \n",
      "[177]  loss: 0.00046  accuracy: 0.86  1.00  1.00  \n",
      "[178]  loss: 0.00056  accuracy: 0.81  0.99  1.00  \n",
      "[179]  loss: 0.00054  accuracy: 0.83  0.99  1.00  \n",
      "[180]  loss: 0.00044  accuracy: 0.86  1.00  1.00  \n",
      "[181]  loss: 0.00045  accuracy: 0.86  1.00  1.00  \n",
      "[182]  loss: 0.00052  accuracy: 0.83  0.99  1.00  \n",
      "[183]  loss: 0.00066  accuracy: 0.77  0.99  1.00  \n",
      "[184]  loss: 0.00066  accuracy: 0.77  0.99  1.00  \n",
      "[185]  loss: 0.00044  accuracy: 0.87  1.00  1.00  \n",
      "[186]  loss: 0.00037  accuracy: 0.89  1.00  1.00  \n",
      "[187]  loss: 0.00036  accuracy: 0.90  1.00  1.00  \n",
      "[188]  loss: 0.00034  accuracy: 0.90  1.00  1.00  \n",
      "[189]  loss: 0.00042  accuracy: 0.87  1.00  1.00  \n",
      "[190]  loss: 0.00041  accuracy: 0.87  1.00  1.00  \n",
      "[191]  loss: 0.00036  accuracy: 0.89  1.00  1.00  \n",
      "[192]  loss: 0.00043  accuracy: 0.85  1.00  1.00  \n",
      "[193]  loss: 0.00044  accuracy: 0.84  1.00  1.00  \n",
      "[194]  loss: 0.00038  accuracy: 0.89  1.00  1.00  \n",
      "[195]  loss: 0.00046  accuracy: 0.83  1.00  1.00  \n",
      "[196]  loss: 0.00034  accuracy: 0.90  1.00  1.00  \n",
      "[197]  loss: 0.00173  accuracy: 0.66  0.94  0.98  \n",
      "[198]  loss: 0.00047  accuracy: 0.84  1.00  1.00  \n",
      "[199]  loss: 0.00037  accuracy: 0.89  1.00  1.00  \n",
      "[200]  loss: 0.00035  accuracy: 0.89  1.00  1.00  \n",
      "[201]  loss: 0.00037  accuracy: 0.88  1.00  1.00  \n",
      "[202]  loss: 0.00039  accuracy: 0.87  1.00  1.00  \n",
      "[203]  loss: 0.00040  accuracy: 0.86  1.00  1.00  \n",
      "[204]  loss: 0.00034  accuracy: 0.90  1.00  1.00  \n",
      "[205]  loss: 0.00040  accuracy: 0.86  1.00  1.00  \n",
      "[206]  loss: 0.00043  accuracy: 0.85  1.00  1.00  \n",
      "[207]  loss: 0.00037  accuracy: 0.88  1.00  1.00  \n",
      "[208]  loss: 0.00033  accuracy: 0.89  1.00  1.00  \n",
      "[209]  loss: 0.00039  accuracy: 0.86  1.00  1.00  \n",
      "[210]  loss: 0.00032  accuracy: 0.90  1.00  1.00  \n",
      "[211]  loss: 0.00039  accuracy: 0.87  1.00  1.00  \n",
      "[212]  loss: 0.00041  accuracy: 0.85  1.00  1.00  \n",
      "[213]  loss: 0.00035  accuracy: 0.88  1.00  1.00  \n",
      "[214]  loss: 0.00033  accuracy: 0.89  1.00  1.00  \n",
      "[215]  loss: 0.00040  accuracy: 0.86  1.00  1.00  \n",
      "[216]  loss: 0.00037  accuracy: 0.87  1.00  1.00  \n",
      "[217]  loss: 0.00036  accuracy: 0.87  1.00  1.00  \n",
      "[218]  loss: 0.00039  accuracy: 0.86  1.00  1.00  \n",
      "[219]  loss: 0.00031  accuracy: 0.90  1.00  1.00  \n",
      "[220]  loss: 0.00040  accuracy: 0.85  1.00  1.00  \n",
      "[221]  loss: 0.00038  accuracy: 0.86  1.00  1.00  \n",
      "[222]  loss: 0.00038  accuracy: 0.87  1.00  1.00  \n",
      "[223]  loss: 0.00037  accuracy: 0.87  1.00  1.00  \n",
      "[224]  loss: 0.00033  accuracy: 0.89  1.00  1.00  \n",
      "[225]  loss: 0.00029  accuracy: 0.91  1.00  1.00  \n",
      "[226]  loss: 0.00038  accuracy: 0.87  1.00  1.00  \n",
      "[227]  loss: 0.00040  accuracy: 0.87  1.00  1.00  \n",
      "[228]  loss: 0.00032  accuracy: 0.90  1.00  1.00  \n",
      "[229]  loss: 0.00038  accuracy: 0.86  1.00  1.00  \n",
      "[230]  loss: 0.00039  accuracy: 0.87  1.00  1.00  \n",
      "[231]  loss: 0.00039  accuracy: 0.86  1.00  1.00  \n",
      "[232]  loss: 0.00038  accuracy: 0.88  1.00  1.00  \n",
      "[233]  loss: 0.00034  accuracy: 0.88  1.00  1.00  \n",
      "[234]  loss: 0.00030  accuracy: 0.91  1.00  1.00  \n",
      "[235]  loss: 0.00029  accuracy: 0.91  1.00  1.00  \n",
      "[236]  loss: 0.00031  accuracy: 0.90  1.00  1.00  \n",
      "[237]  loss: 0.00033  accuracy: 0.89  1.00  1.00  \n",
      "[238]  loss: 0.00032  accuracy: 0.90  1.00  1.00  \n",
      "[239]  loss: 0.00038  accuracy: 0.87  1.00  1.00  \n",
      "[240]  loss: 0.00044  accuracy: 0.84  1.00  1.00  \n",
      "[241]  loss: 0.00036  accuracy: 0.87  1.00  1.00  \n",
      "[242]  loss: 0.00028  accuracy: 0.91  1.00  1.00  \n",
      "[243]  loss: 0.00025  accuracy: 0.94  1.00  1.00  \n",
      "[244]  loss: 0.00031  accuracy: 0.90  1.00  1.00  \n",
      "[245]  loss: 0.01342  accuracy: 0.72  0.88  0.91  \n",
      "[246]  loss: 0.02347  accuracy: 0.20  0.56  0.77  \n",
      "[247]  loss: 0.01170  accuracy: 0.29  0.74  0.91  \n",
      "[248]  loss: 0.00948  accuracy: 0.33  0.78  0.93  \n",
      "[249]  loss: 0.00803  accuracy: 0.35  0.81  0.95  \n",
      "[250]  loss: 0.00606  accuracy: 0.40  0.85  0.96  \n",
      "[251]  loss: 0.00257  accuracy: 0.59  0.94  0.99  \n",
      "[252]  loss: 0.00120  accuracy: 0.73  0.98  1.00  \n",
      "[253]  loss: 0.00082  accuracy: 0.80  0.99  1.00  \n",
      "[254]  loss: 0.00068  accuracy: 0.83  0.99  1.00  \n",
      "[255]  loss: 0.00064  accuracy: 0.83  1.00  1.00  \n",
      "[256]  loss: 0.00054  accuracy: 0.87  1.00  1.00  \n",
      "[257]  loss: 0.00049  accuracy: 0.88  1.00  1.00  \n",
      "[258]  loss: 0.00048  accuracy: 0.88  1.00  1.00  \n",
      "[259]  loss: 0.00048  accuracy: 0.87  1.00  1.00  \n",
      "[260]  loss: 0.00043  accuracy: 0.89  1.00  1.00  \n",
      "[261]  loss: 0.00040  accuracy: 0.89  1.00  1.00  \n",
      "[262]  loss: 0.00042  accuracy: 0.88  1.00  1.00  \n",
      "[263]  loss: 0.00039  accuracy: 0.89  1.00  1.00  \n",
      "[264]  loss: 0.00035  accuracy: 0.91  1.00  1.00  \n",
      "[265]  loss: 0.00035  accuracy: 0.91  1.00  1.00  \n",
      "[266]  loss: 0.00033  accuracy: 0.91  1.00  1.00  \n",
      "[267]  loss: 0.00035  accuracy: 0.90  1.00  1.00  \n",
      "[268]  loss: 0.00033  accuracy: 0.90  1.00  1.00  \n",
      "[269]  loss: 0.00031  accuracy: 0.91  1.00  1.00  \n",
      "[270]  loss: 0.00038  accuracy: 0.88  1.00  1.00  \n",
      "[271]  loss: 0.00031  accuracy: 0.91  1.00  1.00  \n",
      "[272]  loss: 0.00031  accuracy: 0.90  1.00  1.00  \n",
      "[273]  loss: 0.00031  accuracy: 0.90  1.00  1.00  \n",
      "[274]  loss: 0.00039  accuracy: 0.86  1.00  1.00  \n",
      "[275]  loss: 0.00032  accuracy: 0.89  1.00  1.00  \n",
      "[276]  loss: 0.00025  accuracy: 0.94  1.00  1.00  \n",
      "[277]  loss: 0.00028  accuracy: 0.92  1.00  1.00  \n",
      "[278]  loss: 0.00034  accuracy: 0.89  1.00  1.00  \n",
      "[279]  loss: 0.00031  accuracy: 0.91  1.00  1.00  \n",
      "[280]  loss: 0.00027  accuracy: 0.93  1.00  1.00  \n",
      "[281]  loss: 0.00030  accuracy: 0.90  1.00  1.00  \n",
      "[282]  loss: 0.00035  accuracy: 0.87  1.00  1.00  \n",
      "[283]  loss: 0.00032  accuracy: 0.89  1.00  1.00  \n",
      "[284]  loss: 0.00024  accuracy: 0.93  1.00  1.00  \n",
      "[285]  loss: 0.00034  accuracy: 0.87  1.00  1.00  \n",
      "[286]  loss: 0.00040  accuracy: 0.84  1.00  1.00  \n",
      "[287]  loss: 0.00026  accuracy: 0.93  1.00  1.00  \n",
      "[288]  loss: 0.00026  accuracy: 0.92  1.00  1.00  \n",
      "[289]  loss: 0.00030  accuracy: 0.88  1.00  1.00  \n",
      "[290]  loss: 0.00036  accuracy: 0.87  1.00  1.00  \n",
      "[291]  loss: 0.00023  accuracy: 0.95  1.00  1.00  \n",
      "[292]  loss: 0.00022  accuracy: 0.94  1.00  1.00  \n",
      "[293]  loss: 0.00025  accuracy: 0.92  1.00  1.00  \n",
      "[294]  loss: 0.00023  accuracy: 0.93  1.00  1.00  \n",
      "[295]  loss: 0.00022  accuracy: 0.94  1.00  1.00  \n",
      "[296]  loss: 0.00023  accuracy: 0.94  1.00  1.00  \n",
      "[297]  loss: 0.00022  accuracy: 0.94  1.00  1.00  \n",
      "[298]  loss: 0.00020  accuracy: 0.95  1.00  1.00  \n",
      "[299]  loss: 0.00027  accuracy: 0.91  1.00  1.00  \n",
      "[300]  loss: 0.00025  accuracy: 0.92  1.00  1.00  \n",
      "[301]  loss: 0.00031  accuracy: 0.89  1.00  1.00  \n",
      "[302]  loss: 0.00024  accuracy: 0.92  1.00  1.00  \n",
      "[303]  loss: 0.00024  accuracy: 0.93  1.00  1.00  \n",
      "[304]  loss: 0.00023  accuracy: 0.93  1.00  1.00  \n",
      "[305]  loss: 0.00020  accuracy: 0.95  1.00  1.00  \n",
      "[306]  loss: 0.00027  accuracy: 0.90  1.00  1.00  \n",
      "[307]  loss: 0.00023  accuracy: 0.92  1.00  1.00  \n",
      "[308]  loss: 0.00023  accuracy: 0.92  1.00  1.00  \n",
      "[309]  loss: 0.00021  accuracy: 0.94  1.00  1.00  \n",
      "[310]  loss: 0.00019  accuracy: 0.95  1.00  1.00  \n",
      "[311]  loss: 0.00026  accuracy: 0.90  1.00  1.00  \n",
      "[312]  loss: 0.00026  accuracy: 0.91  1.00  1.00  \n",
      "[313]  loss: 0.00022  accuracy: 0.93  1.00  1.00  \n",
      "[314]  loss: 0.00017  accuracy: 0.96  1.00  1.00  \n",
      "[315]  loss: 0.00030  accuracy: 0.88  1.00  1.00  \n",
      "[316]  loss: 0.00023  accuracy: 0.92  1.00  1.00  \n",
      "[317]  loss: 0.00019  accuracy: 0.94  1.00  1.00  \n",
      "[318]  loss: 0.00028  accuracy: 0.90  1.00  1.00  \n",
      "[319]  loss: 0.00018  accuracy: 0.96  1.00  1.00  \n",
      "[320]  loss: 0.00019  accuracy: 0.94  1.00  1.00  \n",
      "[321]  loss: 0.00021  accuracy: 0.93  1.00  1.00  \n",
      "[322]  loss: 0.00029  accuracy: 0.89  1.00  1.00  \n",
      "[323]  loss: 0.00035  accuracy: 0.86  1.00  1.00  \n"
     ]
    },
    {
     "name": "stdout",
     "output_type": "stream",
     "text": [
      "[324]  loss: 0.00019  accuracy: 0.95  1.00  1.00  \n",
      "[325]  loss: 0.00019  accuracy: 0.95  1.00  1.00  \n",
      "[326]  loss: 0.00018  accuracy: 0.95  1.00  1.00  \n",
      "[327]  loss: 0.00017  accuracy: 0.96  1.00  1.00  \n",
      "[328]  loss: 0.00019  accuracy: 0.94  1.00  1.00  \n",
      "[329]  loss: 0.00016  accuracy: 0.96  1.00  1.00  \n",
      "[330]  loss: 0.00020  accuracy: 0.93  1.00  1.00  \n",
      "[331]  loss: 0.00023  accuracy: 0.92  1.00  1.00  \n",
      "[332]  loss: 0.00016  accuracy: 0.96  1.00  1.00  \n",
      "[333]  loss: 0.00019  accuracy: 0.94  1.00  1.00  \n",
      "[334]  loss: 0.00020  accuracy: 0.93  1.00  1.00  \n",
      "[335]  loss: 0.00027  accuracy: 0.90  1.00  1.00  \n",
      "[336]  loss: 0.00015  accuracy: 0.97  1.00  1.00  \n",
      "[337]  loss: 0.00015  accuracy: 0.97  1.00  1.00  \n",
      "[338]  loss: 0.00018  accuracy: 0.95  1.00  1.00  \n",
      "[339]  loss: 0.00017  accuracy: 0.96  1.00  1.00  \n",
      "[340]  loss: 0.00023  accuracy: 0.92  1.00  1.00  \n",
      "[341]  loss: 0.00027  accuracy: 0.89  1.00  1.00  \n",
      "[342]  loss: 0.00017  accuracy: 0.95  1.00  1.00  \n",
      "[343]  loss: 0.00019  accuracy: 0.94  1.00  1.00  \n",
      "[344]  loss: 0.00015  accuracy: 0.97  1.00  1.00  \n",
      "[345]  loss: 0.00023  accuracy: 0.92  1.00  1.00  \n",
      "[346]  loss: 0.00021  accuracy: 0.93  1.00  1.00  \n",
      "[347]  loss: 0.00017  accuracy: 0.96  1.00  1.00  \n",
      "[348]  loss: 0.00017  accuracy: 0.96  1.00  1.00  \n",
      "[349]  loss: 0.00019  accuracy: 0.94  1.00  1.00  \n",
      "[350]  loss: 0.00025  accuracy: 0.90  1.00  1.00  \n",
      "[351]  loss: 0.00015  accuracy: 0.97  1.00  1.00  \n",
      "[352]  loss: 0.00021  accuracy: 0.93  1.00  1.00  \n",
      "[353]  loss: 0.00019  accuracy: 0.94  1.00  1.00  \n",
      "[354]  loss: 0.00019  accuracy: 0.94  1.00  1.00  \n",
      "[355]  loss: 0.00017  accuracy: 0.95  1.00  1.00  \n",
      "[356]  loss: 0.00019  accuracy: 0.94  1.00  1.00  \n",
      "[357]  loss: 0.00014  accuracy: 0.97  1.00  1.00  \n",
      "[358]  loss: 0.00021  accuracy: 0.93  1.00  1.00  \n",
      "[359]  loss: 0.00015  accuracy: 0.97  1.00  1.00  \n",
      "[360]  loss: 0.00020  accuracy: 0.93  1.00  1.00  \n",
      "[361]  loss: 0.00018  accuracy: 0.95  1.00  1.00  \n",
      "[362]  loss: 0.00015  accuracy: 0.96  1.00  1.00  \n",
      "[363]  loss: 0.00026  accuracy: 0.89  1.00  1.00  \n",
      "[364]  loss: 0.00014  accuracy: 0.97  1.00  1.00  \n",
      "[365]  loss: 0.00014  accuracy: 0.96  1.00  1.00  \n",
      "[366]  loss: 0.00019  accuracy: 0.93  1.00  1.00  \n",
      "[367]  loss: 0.00016  accuracy: 0.95  1.00  1.00  \n",
      "[368]  loss: 0.00024  accuracy: 0.90  1.00  1.00  \n",
      "[369]  loss: 0.00014  accuracy: 0.97  1.00  1.00  \n",
      "[370]  loss: 0.00015  accuracy: 0.96  1.00  1.00  \n",
      "[371]  loss: 0.00016  accuracy: 0.96  1.00  1.00  \n",
      "[372]  loss: 0.00016  accuracy: 0.96  1.00  1.00  \n",
      "[373]  loss: 0.00029  accuracy: 0.88  1.00  1.00  \n",
      "[374]  loss: 0.00016  accuracy: 0.96  1.00  1.00  \n",
      "[375]  loss: 0.00013  accuracy: 0.97  1.00  1.00  \n",
      "[376]  loss: 0.00020  accuracy: 0.93  1.00  1.00  \n",
      "[377]  loss: 0.00023  accuracy: 0.91  1.00  1.00  \n",
      "[378]  loss: 0.00022  accuracy: 0.91  1.00  1.00  \n",
      "[379]  loss: 0.00017  accuracy: 0.95  1.00  1.00  \n",
      "[380]  loss: 0.00022  accuracy: 0.91  1.00  1.00  \n",
      "[381]  loss: 0.00022  accuracy: 0.91  1.00  1.00  \n",
      "[382]  loss: 0.00018  accuracy: 0.94  1.00  1.00  \n",
      "[383]  loss: 0.00019  accuracy: 0.94  1.00  1.00  \n",
      "[384]  loss: 0.00016  accuracy: 0.95  1.00  1.00  \n",
      "[385]  loss: 0.00018  accuracy: 0.94  1.00  1.00  \n",
      "[386]  loss: 0.00015  accuracy: 0.96  1.00  1.00  \n",
      "[387]  loss: 0.00017  accuracy: 0.94  1.00  1.00  \n",
      "[388]  loss: 0.00019  accuracy: 0.93  1.00  1.00  \n",
      "[389]  loss: 0.00017  accuracy: 0.95  1.00  1.00  \n",
      "[390]  loss: 0.00021  accuracy: 0.93  1.00  1.00  \n",
      "[391]  loss: 0.00018  accuracy: 0.94  1.00  1.00  \n",
      "[392]  loss: 0.00019  accuracy: 0.93  1.00  1.00  \n",
      "[393]  loss: 0.00017  accuracy: 0.95  1.00  1.00  \n",
      "[394]  loss: 0.00014  accuracy: 0.97  1.00  1.00  \n",
      "[395]  loss: 0.00018  accuracy: 0.94  1.00  1.00  \n",
      "[396]  loss: 0.00019  accuracy: 0.94  1.00  1.00  \n",
      "[397]  loss: 0.00023  accuracy: 0.91  1.00  1.00  \n",
      "[398]  loss: 0.00016  accuracy: 0.96  1.00  1.00  \n",
      "[399]  loss: 0.00020  accuracy: 0.92  1.00  1.00  \n",
      "[400]  loss: 0.00016  accuracy: 0.95  1.00  1.00  \n",
      "[401]  loss: 0.00016  accuracy: 0.95  1.00  1.00  \n",
      "[402]  loss: 0.00017  accuracy: 0.95  1.00  1.00  \n",
      "[403]  loss: 0.00014  accuracy: 0.96  1.00  1.00  \n",
      "[404]  loss: 0.00018  accuracy: 0.94  1.00  1.00  \n",
      "[405]  loss: 0.00016  accuracy: 0.95  1.00  1.00  \n",
      "[406]  loss: 0.00013  accuracy: 0.97  1.00  1.00  \n",
      "[407]  loss: 0.00018  accuracy: 0.94  1.00  1.00  \n",
      "[408]  loss: 0.00020  accuracy: 0.92  1.00  1.00  \n",
      "[409]  loss: 0.00013  accuracy: 0.97  1.00  1.00  \n",
      "[410]  loss: 0.00015  accuracy: 0.96  1.00  1.00  \n",
      "[411]  loss: 0.00019  accuracy: 0.93  1.00  1.00  \n",
      "[412]  loss: 0.00011  accuracy: 0.98  1.00  1.00  \n",
      "[413]  loss: 0.00016  accuracy: 0.94  1.00  1.00  \n",
      "[414]  loss: 0.00017  accuracy: 0.94  1.00  1.00  \n",
      "[415]  loss: 0.00017  accuracy: 0.95  1.00  1.00  \n",
      "[416]  loss: 0.00013  accuracy: 0.96  1.00  1.00  \n",
      "[417]  loss: 0.00013  accuracy: 0.97  1.00  1.00  \n",
      "[418]  loss: 0.00014  accuracy: 0.96  1.00  1.00  \n",
      "[419]  loss: 0.00012  accuracy: 0.97  1.00  1.00  \n",
      "[420]  loss: 0.00015  accuracy: 0.95  1.00  1.00  \n",
      "[421]  loss: 0.00014  accuracy: 0.96  1.00  1.00  \n",
      "[422]  loss: 0.00014  accuracy: 0.96  1.00  1.00  \n",
      "[423]  loss: 0.00016  accuracy: 0.94  1.00  1.00  \n",
      "[424]  loss: 0.00012  accuracy: 0.97  1.00  1.00  \n",
      "[425]  loss: 0.00011  accuracy: 0.98  1.00  1.00  \n",
      "[426]  loss: 0.00012  accuracy: 0.97  1.00  1.00  \n",
      "[427]  loss: 0.00015  accuracy: 0.96  1.00  1.00  \n",
      "[428]  loss: 0.00018  accuracy: 0.93  1.00  1.00  \n",
      "[429]  loss: 0.00014  accuracy: 0.96  1.00  1.00  \n",
      "[430]  loss: 0.00013  accuracy: 0.97  1.00  1.00  \n",
      "[431]  loss: 0.00011  accuracy: 0.98  1.00  1.00  \n",
      "[432]  loss: 0.00010  accuracy: 0.98  1.00  1.00  \n",
      "[433]  loss: 0.00013  accuracy: 0.96  1.00  1.00  \n",
      "[434]  loss: 0.00011  accuracy: 0.98  1.00  1.00  \n",
      "[435]  loss: 0.00014  accuracy: 0.95  1.00  1.00  \n",
      "[436]  loss: 0.00015  accuracy: 0.95  1.00  1.00  \n",
      "[437]  loss: 0.00026  accuracy: 0.89  1.00  1.00  \n",
      "[438]  loss: 0.00011  accuracy: 0.98  1.00  1.00  \n",
      "[439]  loss: 0.00011  accuracy: 0.98  1.00  1.00  \n",
      "[440]  loss: 0.00012  accuracy: 0.97  1.00  1.00  \n",
      "[441]  loss: 0.00013  accuracy: 0.96  1.00  1.00  \n",
      "[442]  loss: 0.00023  accuracy: 0.90  1.00  1.00  \n",
      "[443]  loss: 0.00012  accuracy: 0.96  1.00  1.00  \n",
      "[444]  loss: 0.00017  accuracy: 0.93  1.00  1.00  \n",
      "[445]  loss: 0.00014  accuracy: 0.95  1.00  1.00  \n",
      "[446]  loss: 0.00014  accuracy: 0.95  1.00  1.00  \n",
      "[447]  loss: 0.00015  accuracy: 0.95  1.00  1.00  \n",
      "[448]  loss: 0.00010  accuracy: 0.98  1.00  1.00  \n",
      "[449]  loss: 0.00011  accuracy: 0.97  1.00  1.00  \n",
      "[450]  loss: 0.00011  accuracy: 0.97  1.00  1.00  \n",
      "[451]  loss: 0.00008  accuracy: 0.99  1.00  1.00  \n",
      "[452]  loss: 0.00010  accuracy: 0.97  1.00  1.00  \n",
      "[453]  loss: 0.00011  accuracy: 0.97  1.00  1.00  \n",
      "[454]  loss: 0.00010  accuracy: 0.98  1.00  1.00  \n",
      "[455]  loss: 0.00011  accuracy: 0.97  1.00  1.00  \n",
      "[456]  loss: 0.00012  accuracy: 0.96  1.00  1.00  \n",
      "[457]  loss: 0.00013  accuracy: 0.96  1.00  1.00  \n",
      "[458]  loss: 0.00010  accuracy: 0.98  1.00  1.00  \n",
      "[459]  loss: 0.00010  accuracy: 0.98  1.00  1.00  \n",
      "[460]  loss: 0.00012  accuracy: 0.96  1.00  1.00  \n",
      "[461]  loss: 0.00882  accuracy: 0.61  0.83  0.90  \n",
      "[462]  loss: 0.00053  accuracy: 0.86  1.00  1.00  \n",
      "[463]  loss: 0.00028  accuracy: 0.94  1.00  1.00  \n",
      "[464]  loss: 0.00023  accuracy: 0.96  1.00  1.00  \n",
      "[465]  loss: 0.00020  accuracy: 0.96  1.00  1.00  \n",
      "[466]  loss: 0.00018  accuracy: 0.97  1.00  1.00  \n",
      "[467]  loss: 0.00017  accuracy: 0.97  1.00  1.00  \n",
      "[468]  loss: 0.00016  accuracy: 0.98  1.00  1.00  \n",
      "[469]  loss: 0.00015  accuracy: 0.98  1.00  1.00  \n",
      "[470]  loss: 0.00014  accuracy: 0.98  1.00  1.00  \n",
      "[471]  loss: 0.00013  accuracy: 0.98  1.00  1.00  \n",
      "[472]  loss: 0.00013  accuracy: 0.98  1.00  1.00  \n",
      "[473]  loss: 0.00012  accuracy: 0.99  1.00  1.00  \n",
      "[474]  loss: 0.00013  accuracy: 0.98  1.00  1.00  \n",
      "[475]  loss: 0.00013  accuracy: 0.98  1.00  1.00  \n",
      "[476]  loss: 0.00013  accuracy: 0.98  1.00  1.00  \n",
      "[477]  loss: 0.00013  accuracy: 0.98  1.00  1.00  \n",
      "[478]  loss: 0.00012  accuracy: 0.98  1.00  1.00  \n",
      "[479]  loss: 0.00012  accuracy: 0.98  1.00  1.00  \n",
      "[480]  loss: 0.00011  accuracy: 0.98  1.00  1.00  \n",
      "[481]  loss: 0.00011  accuracy: 0.99  1.00  1.00  \n",
      "[482]  loss: 0.00011  accuracy: 0.99  1.00  1.00  \n",
      "[483]  loss: 0.00011  accuracy: 0.98  1.00  1.00  \n",
      "[484]  loss: 0.00012  accuracy: 0.98  1.00  1.00  \n"
     ]
    },
    {
     "name": "stdout",
     "output_type": "stream",
     "text": [
      "[485]  loss: 0.00011  accuracy: 0.98  1.00  1.00  \n",
      "[486]  loss: 0.00012  accuracy: 0.98  1.00  1.00  \n",
      "[487]  loss: 0.00011  accuracy: 0.98  1.00  1.00  \n",
      "[488]  loss: 0.00010  accuracy: 0.99  1.00  1.00  \n",
      "[489]  loss: 0.00009  accuracy: 0.99  1.00  1.00  \n",
      "[490]  loss: 0.00010  accuracy: 0.99  1.00  1.00  \n",
      "[491]  loss: 0.00010  accuracy: 0.98  1.00  1.00  \n",
      "[492]  loss: 0.00009  accuracy: 0.99  1.00  1.00  \n",
      "[493]  loss: 0.00010  accuracy: 0.98  1.00  1.00  \n",
      "[494]  loss: 0.00011  accuracy: 0.98  1.00  1.00  \n",
      "[495]  loss: 0.00012  accuracy: 0.97  1.00  1.00  \n",
      "[496]  loss: 0.00009  accuracy: 0.99  1.00  1.00  \n",
      "[497]  loss: 0.00009  accuracy: 0.99  1.00  1.00  \n",
      "[498]  loss: 0.00009  accuracy: 0.99  1.00  1.00  \n",
      "[499]  loss: 0.00011  accuracy: 0.97  1.00  1.00  \n",
      "\n"
     ]
    }
   ],
   "source": [
    "data.train_model(net, n_epochs = 500, lr=0.001, optim = 'Adam',\n",
    "                 loss_func = nloss,\n",
    "                 accuracy_func = [accuracy, plusminusone, plusminustwo],\n",
    "                 loss_monitoring = running_loss_data,\n",
    "                 accuracy_monitoring = accuracy_data)"
   ]
  },
  {
   "cell_type": "code",
   "execution_count": null,
   "metadata": {},
   "outputs": [],
   "source": [
    "torch.save(net, 'models/Descartes.pt')"
   ]
  },
  {
   "cell_type": "code",
   "execution_count": null,
   "metadata": {},
   "outputs": [
    {
     "name": "stdout",
     "output_type": "stream",
     "text": [
      "Number of mini-batches stored: 100\n",
      "Number of mini-batches created: 3124\n"
     ]
    }
   ],
   "source": [
    "data.info()"
   ]
  },
  {
   "cell_type": "code",
   "execution_count": null,
   "metadata": {},
   "outputs": [
    {
     "data": {
      "image/png": "[encoded data removed]",
      "text/plain": [
       "<Figure size 432x288 with 1 Axes>"
      ]
     },
     "metadata": {
      "needs_background": "light"
     },
     "output_type": "display_data"
    }
   ],
   "source": [
    "plt.plot(running_loss_data, color='red')\n",
    "plt.xlabel('Epochs')\n",
    "plt.xlim(0, 500)\n",
    "plt.ylabel('Loss function (MSE)')\n",
    "plt.yscale('log')\n",
    "# plt.savefig('blog/Part_4_Counting_images/Descartes_loss.png', bbox_inches='tight')\n",
    "plt.show()"
   ]
  },
  {
   "cell_type": "code",
   "execution_count": null,
   "metadata": {},
   "outputs": [],
   "source": [
    "accuracy_data = np.array(accuracy_data)"
   ]
  },
  {
   "cell_type": "code",
   "execution_count": null,
   "metadata": {},
   "outputs": [
    {
     "data": {
      "image/png": "[encoded data removed]",
      "text/plain": [
       "<Figure size 432x288 with 1 Axes>"
      ]
     },
     "metadata": {
      "needs_background": "light"
     },
     "output_type": "display_data"
    }
   ],
   "source": [
    "plt.plot(accuracy_data[:,2], color='lightblue')\n",
    "plt.plot(accuracy_data[:,1], color='blue')\n",
    "plt.plot(accuracy_data[:,0], color='darkblue')\n",
    "plt.xlabel('Epochs')\n",
    "plt.ylabel('Accuracy')\n",
    "plt.xlim(0, 500)\n",
    "plt.ylim(0, 1)\n",
    "# plt.savefig('blog/Part_4_Counting_images/Descartes_accuracy.png', bbox_inches='tight')\n",
    "plt.show()"
   ]
  },
  {
   "cell_type": "code",
   "execution_count": null,
   "metadata": {},
   "outputs": [],
   "source": [
    "error_data = 1.0 - accuracy_data"
   ]
  },
  {
   "cell_type": "code",
   "execution_count": null,
   "metadata": {},
   "outputs": [
    {
     "data": {
      "image/png": "[encoded data removed]",
      "text/plain": [
       "<Figure size 432x288 with 1 Axes>"
      ]
     },
     "metadata": {
      "needs_background": "light"
     },
     "output_type": "display_data"
    }
   ],
   "source": [
    "plt.plot(error_data[:,2], color='lightblue')\n",
    "plt.plot(error_data[:,1], color='blue')\n",
    "plt.plot(error_data[:,0], color='darkblue')\n",
    "plt.xlabel('Epochs')\n",
    "plt.xlim(0, 500)\n",
    "plt.ylabel('Error')\n",
    "plt.ylim(0.0001,1)\n",
    "plt.yscale('log')\n",
    "plt.savefig('blog/Part_4_Counting_images/Descartes_error.png', bbox_inches='tight')\n",
    "plt.show()"
   ]
  },
  {
   "cell_type": "markdown",
   "metadata": {},
   "source": [
    "## Loading the model\n",
    "\n",
    "Once the model has been trained, this can be used to load its state dictionary:"
   ]
  },
  {
   "cell_type": "code",
   "execution_count": 10,
   "metadata": {},
   "outputs": [
    {
     "data": {
      "text/plain": [
       "Sequential(\n",
       "  (0): Conv2d(1, 20, kernel_size=(3, 3), stride=(3, 3), padding=(1, 1))\n",
       "  (1): ReLU()\n",
       "  (2): Conv2d(20, 40, kernel_size=(2, 2), stride=(1, 1))\n",
       "  (3): ReLU()\n",
       "  (4): Conv2d(40, 40, kernel_size=(2, 2), stride=(1, 1))\n",
       "  (5): ReLU()\n",
       "  (6): Conv2d(40, 40, kernel_size=(2, 2), stride=(1, 1))\n",
       "  (7): ReLU()\n",
       "  (8): Conv2d(40, 40, kernel_size=(2, 2), stride=(1, 1))\n",
       "  (9): ReLU()\n",
       "  (10): AdaptiveAvgPool2d(output_size=1)\n",
       "  (11): Flatten(start_dim=1, end_dim=-1)\n",
       "  (12): Linear(in_features=40, out_features=20, bias=True)\n",
       "  (13): ReLU()\n",
       "  (14): Linear(in_features=20, out_features=10, bias=True)\n",
       "  (15): ReLU()\n",
       "  (16): Linear(in_features=10, out_features=1, bias=True)\n",
       ")"
      ]
     },
     "execution_count": 10,
     "metadata": {},
     "output_type": "execute_result"
    }
   ],
   "source": [
    "net2 = torch.load('models/Descartes.pt')\n",
    "net2.eval()"
   ]
  },
  {
   "cell_type": "code",
   "execution_count": 31,
   "metadata": {},
   "outputs": [],
   "source": [
    "xy = [play_one_game() for _ in range(100)]\n",
    "x = torch.tensor(np.array([e[0] for e in xy])).float().unsqueeze(1)\n",
    "y = torch.tensor([e[1] for e in xy]).unsqueeze(1)"
   ]
  },
  {
   "cell_type": "code",
   "execution_count": 37,
   "metadata": {},
   "outputs": [],
   "source": [
    "torch.onnx.export(net2, x, 'models/Descartes.onnx', export_params=True, input_names=[\"images\"], output_names=[\"branches_count\"],  dynamic_axes={'images' : {0 : 'batch_size'}, 'branches_count' : {0 : 'batch_size'}})"
   ]
  },
  {
   "cell_type": "code",
   "execution_count": 39,
   "metadata": {},
   "outputs": [
    {
     "data": {
      "text/plain": [
       "torch.Size([100, 1, 94, 94])"
      ]
     },
     "execution_count": 39,
     "metadata": {},
     "output_type": "execute_result"
    }
   ],
   "source": [
    "x.shape"
   ]
  },
  {
   "cell_type": "markdown",
   "metadata": {},
   "source": [
    "## Validation"
   ]
  },
  {
   "cell_type": "code",
   "execution_count": 32,
   "metadata": {},
   "outputs": [],
   "source": [
    "y_preds = net2(x).data"
   ]
  },
  {
   "cell_type": "code",
   "execution_count": 33,
   "metadata": {},
   "outputs": [
    {
     "data": {
      "text/plain": [
       "tensor(0.9900)"
      ]
     },
     "execution_count": 33,
     "metadata": {},
     "output_type": "execute_result"
    }
   ],
   "source": [
    "accuracy(y_preds, y)"
   ]
  },
  {
   "cell_type": "code",
   "execution_count": 34,
   "metadata": {},
   "outputs": [
    {
     "data": {
      "text/plain": [
       "tensor(1.)"
      ]
     },
     "execution_count": 34,
     "metadata": {},
     "output_type": "execute_result"
    }
   ],
   "source": [
    "plusminusone(y_preds, y)"
   ]
  },
  {
   "cell_type": "code",
   "execution_count": 35,
   "metadata": {},
   "outputs": [
    {
     "data": {
      "text/plain": [
       "tensor(1.)"
      ]
     },
     "execution_count": 35,
     "metadata": {},
     "output_type": "execute_result"
    }
   ],
   "source": [
    "plusminustwo(y_preds, y)"
   ]
  },
  {
   "cell_type": "code",
   "execution_count": null,
   "metadata": {},
   "outputs": [
    {
     "data": {
      "text/plain": [
       "(tensor(0.6365), tensor(0.1825), tensor(0.6346), tensor(0.1827))"
      ]
     },
     "execution_count": null,
     "metadata": {},
     "output_type": "execute_result"
    }
   ],
   "source": [
    "y.mean(), y.std(), y_preds.mean(), y_preds.std()"
   ]
  },
  {
   "cell_type": "code",
   "execution_count": null,
   "metadata": {},
   "outputs": [
    {
     "data": {
      "text/plain": [
       "(tensor([[ 9.0000],\n",
       "         [17.0000],\n",
       "         [ 6.0000],\n",
       "         [ 9.0000],\n",
       "         [ 5.0000],\n",
       "         [ 5.0000],\n",
       "         [ 8.0000],\n",
       "         [11.0000],\n",
       "         [14.0000],\n",
       "         [11.0000]]),\n",
       " tensor([[ 8.9532],\n",
       "         [16.4720],\n",
       "         [ 6.0598],\n",
       "         [ 9.0252],\n",
       "         [ 4.8649],\n",
       "         [ 4.8303],\n",
       "         [ 7.8765],\n",
       "         [10.9559],\n",
       "         [14.3144],\n",
       "         [10.7942]]))"
      ]
     },
     "execution_count": null,
     "metadata": {},
     "output_type": "execute_result"
    }
   ],
   "source": [
    "n = 5.0 * y / (1.0 - y)\n",
    "n_preds = 5.0 * y_preds / (1.0 - y_preds)\n",
    "n[0:10], n_preds[0:10]"
   ]
  },
  {
   "cell_type": "code",
   "execution_count": null,
   "metadata": {},
   "outputs": [],
   "source": [
    "mistakes = [i for i in range(y.shape[0])\n",
    "            if torch.abs(n[i] - n_preds[i]) >= 0.5]"
   ]
  },
  {
   "cell_type": "code",
   "execution_count": null,
   "metadata": {},
   "outputs": [
    {
     "data": {
      "image/png": "[encoded data removed]",
      "text/plain": [
       "<PIL.Image.Image image mode=1 size=94x94 at 0x7F04DCDB41F0>"
      ]
     },
     "execution_count": null,
     "metadata": {},
     "output_type": "execute_result"
    }
   ],
   "source": [
    "MSvisualize(x[mistakes[0]])"
   ]
  },
  {
   "cell_type": "code",
   "execution_count": null,
   "metadata": {},
   "outputs": [
    {
     "data": {
      "text/plain": [
       "(tensor([17.0000]), tensor([16.4720]))"
      ]
     },
     "execution_count": null,
     "metadata": {},
     "output_type": "execute_result"
    }
   ],
   "source": [
    "n[mistakes[0]], n_preds[mistakes[0]]"
   ]
  },
  {
   "cell_type": "code",
   "execution_count": null,
   "metadata": {},
   "outputs": [
    {
     "data": {
      "text/plain": [
       "[tensor([17.0000]),\n",
       " tensor([20.0000]),\n",
       " tensor([20.0000]),\n",
       " tensor([26.0000]),\n",
       " tensor([19.0000]),\n",
       " tensor([24.0000]),\n",
       " tensor([17.0000]),\n",
       " tensor([24.0000]),\n",
       " tensor([20.0000]),\n",
       " tensor([26.0000]),\n",
       " tensor([26.0000]),\n",
       " tensor([19.0000]),\n",
       " tensor([19.0000]),\n",
       " tensor([13.]),\n",
       " tensor([13.]),\n",
       " tensor([13.]),\n",
       " tensor([17.0000]),\n",
       " tensor([17.0000])]"
      ]
     },
     "execution_count": null,
     "metadata": {},
     "output_type": "execute_result"
    }
   ],
   "source": [
    "[n[i] for i in mistakes]"
   ]
  },
  {
   "cell_type": "markdown",
   "metadata": {},
   "source": [
    "## Inference\n",
    "\n",
    "To verify how good the model is, we can test it on a type of grid that it has never seen before:"
   ]
  },
  {
   "cell_type": "code",
   "execution_count": null,
   "metadata": {},
   "outputs": [],
   "source": [
    "game = NewGame('pipe')\n",
    "x = torch.tensor(game.grid.image()).float().unsqueeze(0).unsqueeze(0)\n",
    "n = len(game.moves)"
   ]
  },
  {
   "cell_type": "code",
   "execution_count": null,
   "metadata": {},
   "outputs": [
    {
     "data": {
      "image/png": "[encoded data removed]",
      "text/plain": [
       "<PIL.Image.Image image mode=1 size=94x94 at 0x7F04DDE3A5B0>"
      ]
     },
     "execution_count": null,
     "metadata": {},
     "output_type": "execute_result"
    }
   ],
   "source": [
    "MSvisualize(x)"
   ]
  },
  {
   "cell_type": "code",
   "execution_count": null,
   "metadata": {},
   "outputs": [
    {
     "data": {
      "text/plain": [
       "24"
      ]
     },
     "execution_count": null,
     "metadata": {},
     "output_type": "execute_result"
    }
   ],
   "source": [
    "n"
   ]
  },
  {
   "cell_type": "code",
   "execution_count": null,
   "metadata": {},
   "outputs": [
    {
     "data": {
      "text/plain": [
       "tensor([[23.8890]])"
      ]
     },
     "execution_count": null,
     "metadata": {},
     "output_type": "execute_result"
    }
   ],
   "source": [
    "y = net2(x).data\n",
    "5.0 * y / (1.0 - y)"
   ]
  },
  {
   "cell_type": "code",
   "execution_count": null,
   "metadata": {},
   "outputs": [],
   "source": [
    "game = game.play(depth = 10)\n",
    "x = torch.tensor(game.grid.image()).float().unsqueeze(0).unsqueeze(0)\n",
    "n = len(game.moves)"
   ]
  },
  {
   "cell_type": "code",
   "execution_count": null,
   "metadata": {},
   "outputs": [
    {
     "data": {
      "image/png": "[encoded data removed]",
      "text/plain": [
       "<PIL.Image.Image image mode=1 size=94x94 at 0x7F04DDE7C280>"
      ]
     },
     "execution_count": null,
     "metadata": {},
     "output_type": "execute_result"
    }
   ],
   "source": [
    "MSvisualize(x)"
   ]
  },
  {
   "cell_type": "code",
   "execution_count": null,
   "metadata": {},
   "outputs": [
    {
     "data": {
      "text/plain": [
       "7"
      ]
     },
     "execution_count": null,
     "metadata": {},
     "output_type": "execute_result"
    }
   ],
   "source": [
    "n"
   ]
  },
  {
   "cell_type": "code",
   "execution_count": null,
   "metadata": {},
   "outputs": [
    {
     "data": {
      "text/plain": [
       "tensor([[7.0484]])"
      ]
     },
     "execution_count": null,
     "metadata": {},
     "output_type": "execute_result"
    }
   ],
   "source": [
    "y = net2(x).data\n",
    "5.0 * y / (1.0 - y)"
   ]
  },
  {
   "cell_type": "code",
   "execution_count": null,
   "metadata": {},
   "outputs": [],
   "source": []
  }
 ],
 "metadata": {
  "kernelspec": {
   "display_name": "Python 3 (ipykernel)",
   "language": "python",
   "name": "python3"
  },
  "language_info": {
   "codemirror_mode": {
    "name": "ipython",
    "version": 3
   },
   "file_extension": ".py",
   "mimetype": "text/x-python",
   "name": "python",
   "nbconvert_exporter": "python",
   "pygments_lexer": "ipython3",
   "version": "3.9.13"
  }
 },
 "nbformat": 4,
 "nbformat_minor": 4
}
