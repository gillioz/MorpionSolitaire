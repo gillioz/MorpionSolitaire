{
 "cells": [
  {
   "cell_type": "markdown",
   "metadata": {
    "id": "6QqEjNob_nJV"
   },
   "source": [
    "# Counting legal moves\n"
   ]
  },
  {
   "cell_type": "code",
   "execution_count": 2,
   "metadata": {
    "executionInfo": {
     "elapsed": 5608,
     "status": "ok",
     "timestamp": 1693307579507,
     "user": {
      "displayName": "Marc Gillioz",
      "userId": "05048493031573274543"
     },
     "user_tz": -120
    },
    "id": "ZG3DxXGX_nJj"
   },
   "outputs": [],
   "source": [
    "import numpy as np\n",
    "import torch\n",
    "import matplotlib.pyplot as plt\n",
    "from PIL import Image\n",
    "from tqdm.notebook import trange"
   ]
  },
  {
   "cell_type": "code",
   "execution_count": 3,
   "metadata": {
    "colab": {
     "base_uri": "https://localhost:8080/"
    },
    "executionInfo": {
     "elapsed": 388,
     "status": "ok",
     "timestamp": 1693307579877,
     "user": {
      "displayName": "Marc Gillioz",
      "userId": "05048493031573274543"
     },
     "user_tz": -120
    },
    "id": "NCgFsCbg_nJs",
    "outputId": "e2e1a718-6257-4985-ffd2-41fee5339d5e"
   },
   "outputs": [
    {
     "data": {
      "text/plain": [
       "device(type='cpu')"
      ]
     },
     "execution_count": 3,
     "metadata": {},
     "output_type": "execute_result"
    }
   ],
   "source": [
    "device = torch.device('cuda' if torch.cuda.is_available() else 'cpu')\n",
    "device"
   ]
  },
  {
   "cell_type": "markdown",
   "metadata": {
    "id": "zcShazYM_nJu"
   },
   "source": [
    "## Download data (Google Colab only)"
   ]
  },
  {
   "cell_type": "code",
   "execution_count": 4,
   "metadata": {
    "colab": {
     "base_uri": "https://localhost:8080/"
    },
    "executionInfo": {
     "elapsed": 34832,
     "status": "ok",
     "timestamp": 1693307714243,
     "user": {
      "displayName": "Marc Gillioz",
      "userId": "05048493031573274543"
     },
     "user_tz": -120
    },
    "id": "4BXkigiG_nJv",
    "outputId": "49000b58-ee62-4431-f94b-7f8bbac0a24c"
   },
   "outputs": [],
   "source": [
    "# from google.colab import drive\n",
    "# drive.mount('/content/drive')\n",
    "\n",
    "# !cp '/content/drive/MyDrive/Colab Notebooks/grids.tar.gz' .\n",
    "# !cp '/content/drive/MyDrive/Colab Notebooks/moves.tar.gz' .\n",
    "\n",
    "# !mkdir data models\n",
    "# !tar -xf grids.tar.gz --directory data/\n",
    "# !tar -xf moves.tar.gz --directory data/"
   ]
  },
  {
   "cell_type": "markdown",
   "metadata": {
    "id": "w5TpKeb2_nJw"
   },
   "source": [
    "## Mini-batches"
   ]
  },
  {
   "cell_type": "markdown",
   "metadata": {
    "id": "ekUrtsU-_nJw"
   },
   "source": [
    "Batches are imported from the data folder.\n",
    "\n",
    "The label $y$ is related to the number of legal moves $N$ by the equation\n",
    "$$\n",
    "    y = \\frac{N}{N + 5}\n",
    "$$\n",
    "so that it is equal to zero if there are no moves, and approaches one if there are many moves."
   ]
  },
  {
   "cell_type": "code",
   "execution_count": 5,
   "metadata": {
    "executionInfo": {
     "elapsed": 288,
     "status": "ok",
     "timestamp": 1693307722710,
     "user": {
      "displayName": "Marc Gillioz",
      "userId": "05048493031573274543"
     },
     "user_tz": -120
    },
    "id": "TkTrqyA4_nJx"
   },
   "outputs": [],
   "source": [
    "def get_batch(index):\n",
    "    x = torch.from_numpy(np.load('data/grids_%05d.npy' % index)).unsqueeze(1).float().to(device)\n",
    "    n = torch.from_numpy(np.load('data/moves_%05d.npy' % index)).unsqueeze(1).to(device)\n",
    "    y = n / (n + 5.0)\n",
    "    return x, y"
   ]
  },
  {
   "cell_type": "code",
   "execution_count": 6,
   "metadata": {
    "colab": {
     "base_uri": "https://localhost:8080/"
    },
    "executionInfo": {
     "elapsed": 5471,
     "status": "ok",
     "timestamp": 1693307729256,
     "user": {
      "displayName": "Marc Gillioz",
      "userId": "05048493031573274543"
     },
     "user_tz": -120
    },
    "id": "OWfuuX15_nJy",
    "outputId": "a30fe195-5997-47c3-baf7-dbc41102edca"
   },
   "outputs": [
    {
     "data": {
      "text/plain": [
       "(torch.Size([200, 1, 96, 96]), torch.Size([200, 1]))"
      ]
     },
     "execution_count": 6,
     "metadata": {},
     "output_type": "execute_result"
    }
   ],
   "source": [
    "x, y = get_batch(0)\n",
    "x.shape, y.shape"
   ]
  },
  {
   "cell_type": "code",
   "execution_count": 7,
   "metadata": {
    "executionInfo": {
     "elapsed": 5,
     "status": "ok",
     "timestamp": 1693307729257,
     "user": {
      "displayName": "Marc Gillioz",
      "userId": "05048493031573274543"
     },
     "user_tz": -120
    },
    "id": "XRBxzZC5_nJ7"
   },
   "outputs": [],
   "source": [
    "def visualize(x):\n",
    "    return Image.fromarray(~np.array(torch.squeeze(x).cpu()).astype(bool))"
   ]
  },
  {
   "cell_type": "code",
   "execution_count": 8,
   "metadata": {
    "colab": {
     "base_uri": "https://localhost:8080/",
     "height": 113
    },
    "executionInfo": {
     "elapsed": 20,
     "status": "ok",
     "timestamp": 1693307730326,
     "user": {
      "displayName": "Marc Gillioz",
      "userId": "05048493031573274543"
     },
     "user_tz": -120
    },
    "id": "uUCPY9gQ_nJ9",
    "outputId": "81c246d1-088a-41e3-8ba5-d8c7c467316d"
   },
   "outputs": [
    {
     "data": {
      "image/png": "[encoded data removed]",
      "text/plain": [
       "<PIL.Image.Image image mode=1 size=96x96>"
      ]
     },
     "execution_count": 8,
     "metadata": {},
     "output_type": "execute_result"
    }
   ],
   "source": [
    "visualize(x[0])"
   ]
  },
  {
   "cell_type": "code",
   "execution_count": 9,
   "metadata": {
    "colab": {
     "base_uri": "https://localhost:8080/"
    },
    "executionInfo": {
     "elapsed": 588,
     "status": "ok",
     "timestamp": 1693307732153,
     "user": {
      "displayName": "Marc Gillioz",
      "userId": "05048493031573274543"
     },
     "user_tz": -120
    },
    "id": "7mBnKhbP_nJ-",
    "outputId": "59fb7b17-9f50-4152-be76-628f10b14387"
   },
   "outputs": [
    {
     "data": {
      "text/plain": [
       "tensor([0.8333])"
      ]
     },
     "execution_count": 9,
     "metadata": {},
     "output_type": "execute_result"
    }
   ],
   "source": [
    "y[0]"
   ]
  },
  {
   "cell_type": "code",
   "execution_count": 10,
   "metadata": {
    "colab": {
     "base_uri": "https://localhost:8080/"
    },
    "executionInfo": {
     "elapsed": 5,
     "status": "ok",
     "timestamp": 1693307732641,
     "user": {
      "displayName": "Marc Gillioz",
      "userId": "05048493031573274543"
     },
     "user_tz": -120
    },
    "id": "A37akPHN_nJ_",
    "outputId": "d6536feb-33b5-4f01-941d-78eafe2c1b1b"
   },
   "outputs": [
    {
     "data": {
      "text/plain": [
       "tensor([25.0000])"
      ]
     },
     "execution_count": 10,
     "metadata": {},
     "output_type": "execute_result"
    }
   ],
   "source": [
    "5.0 * y[0] / (1.0 - y[0])"
   ]
  },
  {
   "cell_type": "code",
   "execution_count": 11,
   "metadata": {
    "colab": {
     "base_uri": "https://localhost:8080/",
     "height": 113
    },
    "executionInfo": {
     "elapsed": 6,
     "status": "ok",
     "timestamp": 1693307732893,
     "user": {
      "displayName": "Marc Gillioz",
      "userId": "05048493031573274543"
     },
     "user_tz": -120
    },
    "id": "I7tYMnzE_nJ_",
    "outputId": "f98ae10d-4d98-4f38-8f9b-6b88fc6227cd"
   },
   "outputs": [
    {
     "data": {
      "image/png": "[encoded data removed]",
      "text/plain": [
       "<PIL.Image.Image image mode=1 size=96x96>"
      ]
     },
     "execution_count": 11,
     "metadata": {},
     "output_type": "execute_result"
    }
   ],
   "source": [
    "visualize(x[1])"
   ]
  },
  {
   "cell_type": "code",
   "execution_count": 12,
   "metadata": {
    "colab": {
     "base_uri": "https://localhost:8080/"
    },
    "executionInfo": {
     "elapsed": 13,
     "status": "ok",
     "timestamp": 1693307733343,
     "user": {
      "displayName": "Marc Gillioz",
      "userId": "05048493031573274543"
     },
     "user_tz": -120
    },
    "id": "OnNGxSt3_nKA",
    "outputId": "e2d8922b-873f-4bb4-82b4-daef419647be"
   },
   "outputs": [
    {
     "data": {
      "text/plain": [
       "tensor([0.7917])"
      ]
     },
     "execution_count": 12,
     "metadata": {},
     "output_type": "execute_result"
    }
   ],
   "source": [
    "y[1]"
   ]
  },
  {
   "cell_type": "code",
   "execution_count": 13,
   "metadata": {
    "colab": {
     "base_uri": "https://localhost:8080/"
    },
    "executionInfo": {
     "elapsed": 10,
     "status": "ok",
     "timestamp": 1693307733344,
     "user": {
      "displayName": "Marc Gillioz",
      "userId": "05048493031573274543"
     },
     "user_tz": -120
    },
    "id": "zHve9ar-_nKG",
    "outputId": "e6ab473b-2470-4165-e859-e23c171f1d37"
   },
   "outputs": [
    {
     "data": {
      "text/plain": [
       "tensor([19.0000])"
      ]
     },
     "execution_count": 13,
     "metadata": {},
     "output_type": "execute_result"
    }
   ],
   "source": [
    "5.0 * y[1] / (1.0 - y[1])"
   ]
  },
  {
   "cell_type": "markdown",
   "metadata": {
    "id": "DY_CiAzP_nKG"
   },
   "source": [
    "Distribution of labels:"
   ]
  },
  {
   "cell_type": "code",
   "execution_count": 14,
   "metadata": {
    "executionInfo": {
     "elapsed": 1815,
     "status": "ok",
     "timestamp": 1693307736590,
     "user": {
      "displayName": "Marc Gillioz",
      "userId": "05048493031573274543"
     },
     "user_tz": -120
    },
    "id": "-w94dgXR_nKH"
   },
   "outputs": [],
   "source": [
    "ydata = torch.cat([get_batch(i)[1].squeeze() for i in range(100)])\n",
    "ndata = torch.round(5.0 * ydata / (1.0 - ydata))\n",
    "nmax = ndata.max().int().item()\n",
    "ndistribution = [torch.where(ndata == i, 1.0, 0.0).mean().item() for i in range(nmax + 1)]"
   ]
  },
  {
   "cell_type": "code",
   "execution_count": 15,
   "metadata": {
    "colab": {
     "base_uri": "https://localhost:8080/"
    },
    "executionInfo": {
     "elapsed": 24,
     "status": "ok",
     "timestamp": 1693307736591,
     "user": {
      "displayName": "Marc Gillioz",
      "userId": "05048493031573274543"
     },
     "user_tz": -120
    },
    "id": "N9WoTCN4_nKH",
    "outputId": "12d84a33-b37d-4913-d363-6d3e47bdc4f7"
   },
   "outputs": [
    {
     "data": {
      "text/plain": [
       "(tensor(0.6292), tensor(0.1924), tensor(0.), tensor(0.8684))"
      ]
     },
     "execution_count": 15,
     "metadata": {},
     "output_type": "execute_result"
    }
   ],
   "source": [
    "ydata.mean(), ydata.std(), ydata.min(), ydata.max()"
   ]
  },
  {
   "cell_type": "code",
   "execution_count": 16,
   "metadata": {
    "colab": {
     "base_uri": "https://localhost:8080/",
     "height": 455
    },
    "executionInfo": {
     "elapsed": 661,
     "status": "ok",
     "timestamp": 1693307737246,
     "user": {
      "displayName": "Marc Gillioz",
      "userId": "05048493031573274543"
     },
     "user_tz": -120
    },
    "id": "hqRzC0q2_nKI",
    "outputId": "f8443012-8d52-4043-f596-6cbbd10d7141"
   },
   "outputs": [
    {
     "data": {
      "image/png": "[encoded data removed]",
      "text/plain": [
       "<Figure size 640x480 with 1 Axes>"
      ]
     },
     "metadata": {},
     "output_type": "display_data"
    }
   ],
   "source": [
    "plt.scatter([y / (y + 5) for y in range(nmax + 1)], ndistribution, color='green', marker = '+')\n",
    "plt.xlabel('Label')\n",
    "plt.ylabel('Frequency')\n",
    "plt.xlim(-0.03, 1)\n",
    "plt.ylim(0, 0.1)\n",
    "plt.show()"
   ]
  },
  {
   "cell_type": "code",
   "execution_count": 17,
   "metadata": {
    "colab": {
     "base_uri": "https://localhost:8080/",
     "height": 455
    },
    "executionInfo": {
     "elapsed": 491,
     "status": "ok",
     "timestamp": 1693307738341,
     "user": {
      "displayName": "Marc Gillioz",
      "userId": "05048493031573274543"
     },
     "user_tz": -120
    },
    "id": "MTJ_Lix2_nKI",
    "outputId": "97233567-5909-4850-a336-dae14086283a"
   },
   "outputs": [
    {
     "data": {
      "image/png": "[encoded data removed]",
      "text/plain": [
       "<Figure size 640x480 with 1 Axes>"
      ]
     },
     "metadata": {},
     "output_type": "display_data"
    }
   ],
   "source": [
    "plt.step(np.array(range(nmax + 1)), ndistribution, where='mid', color='green')\n",
    "plt.xlabel('Label (number of possible moves)')\n",
    "plt.ylabel('Frequency')\n",
    "plt.xlim(0, nmax)\n",
    "plt.ylim(0, 0.07)\n",
    "# plt.savefig('blog/Part_4_Counting_images/labels_counting.png', bbox_inches='tight')\n",
    "plt.show()"
   ]
  },
  {
   "cell_type": "markdown",
   "metadata": {
    "id": "wWVR9d02_nKJ"
   },
   "source": [
    "### Data augmentation"
   ]
  },
  {
   "cell_type": "code",
   "execution_count": 18,
   "metadata": {
    "executionInfo": {
     "elapsed": 9,
     "status": "ok",
     "timestamp": 1693307740005,
     "user": {
      "displayName": "Marc Gillioz",
      "userId": "05048493031573274543"
     },
     "user_tz": -120
    },
    "id": "WaeGGiAF_nKJ"
   },
   "outputs": [],
   "source": [
    "def flip_grids(grids):\n",
    "    return torch.flip(grids, dims=[-1])"
   ]
  },
  {
   "cell_type": "code",
   "execution_count": 19,
   "metadata": {
    "executionInfo": {
     "elapsed": 2,
     "status": "ok",
     "timestamp": 1693307740930,
     "user": {
      "displayName": "Marc Gillioz",
      "userId": "05048493031573274543"
     },
     "user_tz": -120
    },
    "id": "OaxuD6hP_nKJ"
   },
   "outputs": [],
   "source": [
    "def rotate_grids(grids, quarter_turns=1):\n",
    "    match quarter_turns % 4:\n",
    "        case 1:\n",
    "            return torch.rot90(grids, dims=[-2,-1])\n",
    "        case 2:\n",
    "            return torch.flip(grids, dims=[-2,-1])\n",
    "        case 3:\n",
    "            return torch.rot90(grids, dims=[-1,-2])\n",
    "        case _:\n",
    "            return grids"
   ]
  },
  {
   "cell_type": "code",
   "execution_count": 20,
   "metadata": {
    "executionInfo": {
     "elapsed": 2422,
     "status": "ok",
     "timestamp": 1693307753967,
     "user": {
      "displayName": "Marc Gillioz",
      "userId": "05048493031573274543"
     },
     "user_tz": -120
    },
    "id": "k1S9uQxJ_nKK"
   },
   "outputs": [],
   "source": [
    "def transform_grids(grids, seed):\n",
    "    return rotate_grids(grids if seed % 8 < 4 else flip_grids(grids), seed)"
   ]
  },
  {
   "cell_type": "code",
   "execution_count": 21,
   "metadata": {
    "colab": {
     "base_uri": "https://localhost:8080/",
     "height": 113
    },
    "executionInfo": {
     "elapsed": 11,
     "status": "ok",
     "timestamp": 1693307754277,
     "user": {
      "displayName": "Marc Gillioz",
      "userId": "05048493031573274543"
     },
     "user_tz": -120
    },
    "id": "8LykZGCK_nKK",
    "outputId": "360f062e-a6e0-41ae-8ba1-30597a84449e"
   },
   "outputs": [
    {
     "data": {
      "image/png": "[encoded data removed]",
      "text/plain": [
       "<PIL.Image.Image image mode=1 size=96x96>"
      ]
     },
     "execution_count": 21,
     "metadata": {},
     "output_type": "execute_result"
    }
   ],
   "source": [
    "visualize(transform_grids(x,0)[0])"
   ]
  },
  {
   "cell_type": "code",
   "execution_count": 22,
   "metadata": {
    "colab": {
     "base_uri": "https://localhost:8080/",
     "height": 113
    },
    "executionInfo": {
     "elapsed": 52,
     "status": "ok",
     "timestamp": 1693307754782,
     "user": {
      "displayName": "Marc Gillioz",
      "userId": "05048493031573274543"
     },
     "user_tz": -120
    },
    "id": "Q4tFbm8b_nKL",
    "outputId": "ba88717a-9e21-45ff-bf5e-22210a5b35d1"
   },
   "outputs": [
    {
     "data": {
      "image/png": "[encoded data removed]",
      "text/plain": [
       "<PIL.Image.Image image mode=1 size=96x96>"
      ]
     },
     "execution_count": 22,
     "metadata": {},
     "output_type": "execute_result"
    }
   ],
   "source": [
    "visualize(transform_grids(x,1)[0])"
   ]
  },
  {
   "cell_type": "code",
   "execution_count": 23,
   "metadata": {
    "colab": {
     "base_uri": "https://localhost:8080/",
     "height": 113
    },
    "executionInfo": {
     "elapsed": 52,
     "status": "ok",
     "timestamp": 1693307754786,
     "user": {
      "displayName": "Marc Gillioz",
      "userId": "05048493031573274543"
     },
     "user_tz": -120
    },
    "id": "4QIIROkw_nKL",
    "outputId": "33444a5f-5bbd-4acf-a30f-f8992d115432"
   },
   "outputs": [
    {
     "data": {
      "image/png": "[encoded data removed]",
      "text/plain": [
       "<PIL.Image.Image image mode=1 size=96x96>"
      ]
     },
     "execution_count": 23,
     "metadata": {},
     "output_type": "execute_result"
    }
   ],
   "source": [
    "visualize(transform_grids(x,2)[0])"
   ]
  },
  {
   "cell_type": "code",
   "execution_count": 24,
   "metadata": {
    "colab": {
     "base_uri": "https://localhost:8080/",
     "height": 113
    },
    "executionInfo": {
     "elapsed": 51,
     "status": "ok",
     "timestamp": 1693307754787,
     "user": {
      "displayName": "Marc Gillioz",
      "userId": "05048493031573274543"
     },
     "user_tz": -120
    },
    "id": "WMhiO6-Y_nKL",
    "outputId": "fb517399-d140-4973-bc12-324535df97a4"
   },
   "outputs": [
    {
     "data": {
      "image/png": "[encoded data removed]",
      "text/plain": [
       "<PIL.Image.Image image mode=1 size=96x96>"
      ]
     },
     "execution_count": 24,
     "metadata": {},
     "output_type": "execute_result"
    }
   ],
   "source": [
    "visualize(transform_grids(x,3)[0])"
   ]
  },
  {
   "cell_type": "code",
   "execution_count": 25,
   "metadata": {
    "colab": {
     "base_uri": "https://localhost:8080/",
     "height": 113
    },
    "executionInfo": {
     "elapsed": 48,
     "status": "ok",
     "timestamp": 1693307754787,
     "user": {
      "displayName": "Marc Gillioz",
      "userId": "05048493031573274543"
     },
     "user_tz": -120
    },
    "id": "iPn87eGg_nKM",
    "outputId": "7d4d5520-41b5-4fd6-c742-78f47f7a7f9c"
   },
   "outputs": [
    {
     "data": {
      "image/png": "[encoded data removed]",
      "text/plain": [
       "<PIL.Image.Image image mode=1 size=96x96>"
      ]
     },
     "execution_count": 25,
     "metadata": {},
     "output_type": "execute_result"
    }
   ],
   "source": [
    "visualize(transform_grids(x,4)[0])"
   ]
  },
  {
   "cell_type": "code",
   "execution_count": 26,
   "metadata": {
    "colab": {
     "base_uri": "https://localhost:8080/",
     "height": 113
    },
    "executionInfo": {
     "elapsed": 47,
     "status": "ok",
     "timestamp": 1693307754788,
     "user": {
      "displayName": "Marc Gillioz",
      "userId": "05048493031573274543"
     },
     "user_tz": -120
    },
    "id": "i6UcNf77_nKM",
    "outputId": "e22e40a5-b03f-4b86-e42d-a45416a3db8e"
   },
   "outputs": [
    {
     "data": {
      "image/png": "[encoded data removed]",
      "text/plain": [
       "<PIL.Image.Image image mode=1 size=96x96>"
      ]
     },
     "execution_count": 26,
     "metadata": {},
     "output_type": "execute_result"
    }
   ],
   "source": [
    "visualize(transform_grids(x,5)[0])"
   ]
  },
  {
   "cell_type": "code",
   "execution_count": 27,
   "metadata": {
    "colab": {
     "base_uri": "https://localhost:8080/",
     "height": 113
    },
    "executionInfo": {
     "elapsed": 47,
     "status": "ok",
     "timestamp": 1693307754789,
     "user": {
      "displayName": "Marc Gillioz",
      "userId": "05048493031573274543"
     },
     "user_tz": -120
    },
    "id": "HCFYazYJ_nKN",
    "outputId": "731e6695-8c08-4fcd-b745-1ba3e45505f2"
   },
   "outputs": [
    {
     "data": {
      "image/png": "[encoded data removed]",
      "text/plain": [
       "<PIL.Image.Image image mode=1 size=96x96>"
      ]
     },
     "execution_count": 27,
     "metadata": {},
     "output_type": "execute_result"
    }
   ],
   "source": [
    "visualize(transform_grids(x,6)[0])"
   ]
  },
  {
   "cell_type": "code",
   "execution_count": 28,
   "metadata": {
    "colab": {
     "base_uri": "https://localhost:8080/",
     "height": 113
    },
    "executionInfo": {
     "elapsed": 45,
     "status": "ok",
     "timestamp": 1693307754789,
     "user": {
      "displayName": "Marc Gillioz",
      "userId": "05048493031573274543"
     },
     "user_tz": -120
    },
    "id": "lCFczu-e_nKN",
    "outputId": "80037c91-0914-426f-d899-5f2a3962fe20"
   },
   "outputs": [
    {
     "data": {
      "image/png": "[encoded data removed]",
      "text/plain": [
       "<PIL.Image.Image image mode=1 size=96x96>"
      ]
     },
     "execution_count": 28,
     "metadata": {},
     "output_type": "execute_result"
    }
   ],
   "source": [
    "visualize(transform_grids(x,7)[0])"
   ]
  },
  {
   "cell_type": "markdown",
   "metadata": {
    "id": "2QqS1pVw_nKO"
   },
   "source": [
    "### Loss and accuracy\n",
    "\n",
    "The accuracy is computed after inverting the relation between the label $y$ and the corresponding number of moves $N$:\n",
    "$$\n",
    "N = \\frac{5 y}{1 - y}\n",
    "$$\n",
    "The value $N_\\text{output}$ computed from the network output is rounded to the nearest integer, and compared with the label $N_\\text{label}$ (also rounded to nearest integer to avoid numerical inaccuracies). The function `accuracy` counts how many times the two integer match. The functions `plusminusone` and `plusminustwo` count how many times $N_\\text{output}$ and $N_\\text{label}$ differ at most by one or two units."
   ]
  },
  {
   "cell_type": "code",
   "execution_count": 29,
   "metadata": {
    "executionInfo": {
     "elapsed": 43,
     "status": "ok",
     "timestamp": 1693307754789,
     "user": {
      "displayName": "Marc Gillioz",
      "userId": "05048493031573274543"
     },
     "user_tz": -120
    },
    "id": "G2oZy3wC_nKO"
   },
   "outputs": [],
   "source": [
    "def accuracy(outputs, labels, plusminus = 0.0):\n",
    "    noutputs = torch.round(5.0 * outputs / (1.0 - outputs))\n",
    "    nlabels = torch.round(5.0 * labels / (1.0 - labels))\n",
    "    return torch.where(torch.abs(noutputs - nlabels) <= plusminus, 1.0, 0.0).mean()"
   ]
  },
  {
   "cell_type": "code",
   "execution_count": 30,
   "metadata": {
    "executionInfo": {
     "elapsed": 6,
     "status": "ok",
     "timestamp": 1693307755320,
     "user": {
      "displayName": "Marc Gillioz",
      "userId": "05048493031573274543"
     },
     "user_tz": -120
    },
    "id": "vd7CHR5a_nKO"
   },
   "outputs": [],
   "source": [
    "def plusminusone(outputs, labels):\n",
    "    return accuracy(outputs, labels, plusminus = 1.0)\n",
    "def plusminustwo(outputs, labels):\n",
    "    return accuracy(outputs, labels, plusminus = 2.0)"
   ]
  },
  {
   "cell_type": "markdown",
   "metadata": {
    "id": "3CZGHRGV_nKP"
   },
   "source": [
    "The loss function is chosen to be the mean square error in terms of the variable $N$, i.e.\n",
    "$$\n",
    "    L \\approx \\sum_i (N_\\text{output} - N_\\text{label})^2\n",
    "    \\propto\n",
    "    \\sum_i  \\left( \\frac{y_\\text{output}}{1 - y_\\text{output}} - \\frac{y_\\text{label}}{1 - y_\\text{label}} \\right)^2\n",
    "$$\n",
    "However, to avoid the divergence when $y_\\text{output} = 1$, we use the following variant:\n",
    "$$\n",
    "    L = \\sum_i \\left( \\frac{y_\\text{output} - y_\\text{label}}{1 - y_\\text{label}} \\right)^2\n",
    "$$"
   ]
  },
  {
   "cell_type": "code",
   "execution_count": 31,
   "metadata": {
    "executionInfo": {
     "elapsed": 8,
     "status": "ok",
     "timestamp": 1693307755990,
     "user": {
      "displayName": "Marc Gillioz",
      "userId": "05048493031573274543"
     },
     "user_tz": -120
    },
    "id": "mWJ1-S47_nKP"
   },
   "outputs": [],
   "source": [
    "def nloss(outputs, labels):\n",
    "    return torch.square((outputs - labels) / (1.0 - labels)).mean()"
   ]
  },
  {
   "cell_type": "markdown",
   "metadata": {
    "id": "Tokh1hv__nKQ"
   },
   "source": [
    "## Model and training"
   ]
  },
  {
   "cell_type": "code",
   "execution_count": 32,
   "metadata": {
    "executionInfo": {
     "elapsed": 3,
     "status": "ok",
     "timestamp": 1693307757554,
     "user": {
      "displayName": "Marc Gillioz",
      "userId": "05048493031573274543"
     },
     "user_tz": -120
    },
    "id": "9Ddbaq1H_nKX"
   },
   "outputs": [],
   "source": [
    "net = torch.nn.Sequential(\n",
    "    torch.nn.Conv2d(1, 20, stride = 3, kernel_size = 3, padding = 0), # output 32 x 32 pixels\n",
    "    torch.nn.ReLU(),\n",
    "    torch.nn.Conv2d(20, 40, stride = 1, kernel_size = 2, padding = 0), # output 31 x 31 pixels\n",
    "    torch.nn.ReLU(),\n",
    "    torch.nn.Conv2d(40, 40, stride = 1, kernel_size = 2, padding = 0), # output 30 x 30 pixels\n",
    "    torch.nn.ReLU(),\n",
    "    torch.nn.Conv2d(40, 40, stride = 1, kernel_size = 2, padding = 0), # output 29 x 29 pixels\n",
    "    torch.nn.ReLU(),\n",
    "    torch.nn.Conv2d(40, 40, stride = 1, kernel_size = 2, padding = 0), # output 28 x 28 pixels\n",
    "    torch.nn.ReLU(),\n",
    "    torch.nn.AdaptiveAvgPool2d(1),\n",
    "    torch.nn.Flatten(),\n",
    "    torch.nn.Linear(40, 20),\n",
    "    torch.nn.ReLU(),\n",
    "    torch.nn.Linear(20, 10),\n",
    "    torch.nn.ReLU(),\n",
    "    torch.nn.Linear(10, 1)\n",
    ").to(device)"
   ]
  },
  {
   "cell_type": "markdown",
   "metadata": {
    "id": "kLD6uhQS_nKX"
   },
   "source": [
    "We use *transfer learning*: instead of training the model from scratch (which seems nearly impossible), we use a model pre-trained on the binary problem:"
   ]
  },
  {
   "cell_type": "code",
   "execution_count": 33,
   "metadata": {
    "id": "121JbSiE_nKY"
   },
   "outputs": [],
   "source": [
    "# net = torch.load('models/Descartes_binary.pt').to(device)\n",
    "# net.train()\n",
    "# net"
   ]
  },
  {
   "cell_type": "markdown",
   "metadata": {
    "id": "0TU8oEVt_nKY"
   },
   "source": [
    "**Possible modification:** we could also try to freeze all parameters of the convolutional layers and only train the last 3 linear layers (this does not seem to work though)"
   ]
  },
  {
   "cell_type": "code",
   "execution_count": 34,
   "metadata": {
    "id": "Lh9Vasgj_nKY"
   },
   "outputs": [],
   "source": [
    "# for i in range(10):\n",
    "#     for param in net[i].parameters():\n",
    "#         param.requires_grad = False"
   ]
  },
  {
   "cell_type": "markdown",
   "metadata": {
    "id": "1KGbWM5K_nKZ"
   },
   "source": [
    "**Other possible modification:** we could also modify the linear layer part of the network:"
   ]
  },
  {
   "cell_type": "code",
   "execution_count": 35,
   "metadata": {
    "id": "4YxBxRci_nKZ"
   },
   "outputs": [],
   "source": [
    "# modules = [net[i] for i in range(12)]\n",
    "# modules.extend([torch.nn.Linear(40, 10),\n",
    "#                 torch.nn.ReLU(),\n",
    "#                 torch.nn.Linear(10, 4),\n",
    "#                 torch.nn.ReLU(),\n",
    "#                 torch.nn.Linear(4, 1)])\n",
    "# net = torch.nn.Sequential(*modules)\n",
    "# net"
   ]
  },
  {
   "cell_type": "markdown",
   "metadata": {
    "id": "P0aYNRNn_nKa"
   },
   "source": [
    "Number of parameters in the model:"
   ]
  },
  {
   "cell_type": "code",
   "execution_count": 36,
   "metadata": {
    "colab": {
     "base_uri": "https://localhost:8080/"
    },
    "executionInfo": {
     "elapsed": 5,
     "status": "ok",
     "timestamp": 1693307763681,
     "user": {
      "displayName": "Marc Gillioz",
      "userId": "05048493031573274543"
     },
     "user_tz": -120
    },
    "id": "S-3Zstm7_nKa",
    "outputId": "b72b357f-10d1-4953-bc13-8a53d8aaafe3"
   },
   "outputs": [
    {
     "data": {
      "text/plain": [
       "23801"
      ]
     },
     "execution_count": 36,
     "metadata": {},
     "output_type": "execute_result"
    }
   ],
   "source": [
    "sum(p.numel() for p in net.parameters())"
   ]
  },
  {
   "cell_type": "markdown",
   "metadata": {
    "id": "uBhYQY9m_nKb"
   },
   "source": [
    "Number of trainable parameters in the model (only relevant with freezing):"
   ]
  },
  {
   "cell_type": "code",
   "execution_count": 37,
   "metadata": {
    "id": "fq1i4MJI_nKb"
   },
   "outputs": [],
   "source": [
    "# sum(p.numel() for p in net.parameters() if p.requires_grad)"
   ]
  },
  {
   "cell_type": "code",
   "execution_count": 38,
   "metadata": {
    "colab": {
     "base_uri": "https://localhost:8080/"
    },
    "executionInfo": {
     "elapsed": 6616,
     "status": "ok",
     "timestamp": 1693307771895,
     "user": {
      "displayName": "Marc Gillioz",
      "userId": "05048493031573274543"
     },
     "user_tz": -120
    },
    "id": "jbB3Ngwj_nKc",
    "outputId": "d411ade3-2ae0-48ff-c4b2-7cc2a1346061"
   },
   "outputs": [
    {
     "data": {
      "text/plain": [
       "torch.Size([200, 1])"
      ]
     },
     "execution_count": 38,
     "metadata": {},
     "output_type": "execute_result"
    }
   ],
   "source": [
    "y_pred = net(x)\n",
    "y_pred.shape"
   ]
  },
  {
   "cell_type": "code",
   "execution_count": 39,
   "metadata": {
    "colab": {
     "base_uri": "https://localhost:8080/"
    },
    "executionInfo": {
     "elapsed": 31,
     "status": "ok",
     "timestamp": 1693307771896,
     "user": {
      "displayName": "Marc Gillioz",
      "userId": "05048493031573274543"
     },
     "user_tz": -120
    },
    "id": "l7-L4iAl_nKc",
    "outputId": "04e94c61-c375-465b-d837-d12620b1502e"
   },
   "outputs": [
    {
     "data": {
      "text/plain": [
       "tensor(8.9193, grad_fn=<MeanBackward0>)"
      ]
     },
     "execution_count": 39,
     "metadata": {},
     "output_type": "execute_result"
    }
   ],
   "source": [
    "nloss(y_pred, y)"
   ]
  },
  {
   "cell_type": "code",
   "execution_count": 40,
   "metadata": {
    "colab": {
     "base_uri": "https://localhost:8080/"
    },
    "executionInfo": {
     "elapsed": 21,
     "status": "ok",
     "timestamp": 1693307771897,
     "user": {
      "displayName": "Marc Gillioz",
      "userId": "05048493031573274543"
     },
     "user_tz": -120
    },
    "id": "8-a6PhHY_nKc",
    "outputId": "7497b06f-3c63-4345-bcbd-b3dc2975ea24"
   },
   "outputs": [
    {
     "data": {
      "text/plain": [
       "(tensor(0.0400), tensor(0.0550), tensor(0.1050))"
      ]
     },
     "execution_count": 40,
     "metadata": {},
     "output_type": "execute_result"
    }
   ],
   "source": [
    "accuracy(y_pred, y), plusminusone(y_pred, y), plusminustwo(y_pred, y)"
   ]
  },
  {
   "cell_type": "markdown",
   "metadata": {
    "id": "2aVLsOuN_nKd"
   },
   "source": [
    "## Training"
   ]
  },
  {
   "cell_type": "code",
   "execution_count": 39,
   "metadata": {
    "executionInfo": {
     "elapsed": 288,
     "status": "ok",
     "timestamp": 1693307779372,
     "user": {
      "displayName": "Marc Gillioz",
      "userId": "05048493031573274543"
     },
     "user_tz": -120
    },
    "id": "WHbj0iIW_nKd"
   },
   "outputs": [],
   "source": [
    "running_loss_data = []\n",
    "running_accuracy_data = []\n",
    "running_plusminusone_data = []\n",
    "running_plusminustwo_data = []"
   ]
  },
  {
   "cell_type": "markdown",
   "metadata": {
    "id": "lYrL8x3d_nKe"
   },
   "source": [
    "Remark: in this case we changed optimizer from SGD to Adam"
   ]
  },
  {
   "cell_type": "code",
   "execution_count": 40,
   "metadata": {
    "executionInfo": {
     "elapsed": 9,
     "status": "ok",
     "timestamp": 1693307780507,
     "user": {
      "displayName": "Marc Gillioz",
      "userId": "05048493031573274543"
     },
     "user_tz": -120
    },
    "id": "w8OOPPs5_nKe"
   },
   "outputs": [],
   "source": [
    "optimizer = torch.optim.Adam(filter(lambda p: p.requires_grad, net.parameters()), lr=0.001)"
   ]
  },
  {
   "cell_type": "code",
   "execution_count": 41,
   "metadata": {
    "colab": {
     "base_uri": "https://localhost:8080/",
     "height": 1000,
     "referenced_widgets": [
      "898d6effe4874d2f86bf9a9d7dfe21f1",
      "0b4153603a2843d68eaca642a971d786",
      "3505234c1452400da6d5a7263e0fee38",
      "94d16d90df79469d8365286cb057cc98",
      "c1cff46144934d2ca349071153b9e7ea",
      "f4b6eb7c33f243068ea2a94e9792252d",
      "a8bb6040af7642edb77085248bf97805",
      "f00d5530e63c4ccaab1f97593803d99a",
      "a05ac733ca954ec3a413485ff2d30a5a",
      "595732e25a7c47c7b1e04cfae30e6fff",
      "b5557f4159504f0d80eb2c6e09c52741"
     ]
    },
    "executionInfo": {
     "elapsed": 2602867,
     "status": "ok",
     "timestamp": 1693310822267,
     "user": {
      "displayName": "Marc Gillioz",
      "userId": "05048493031573274543"
     },
     "user_tz": -120
    },
    "id": "PaGoJlTj_nKe",
    "outputId": "ace3bb32-1336-4fd2-c8ff-ffe9617a9e8d"
   },
   "outputs": [
    {
     "data": {
      "application/vnd.jupyter.widget-view+json": {
       "model_id": "898d6effe4874d2f86bf9a9d7dfe21f1",
       "version_major": 2,
       "version_minor": 0
      },
      "text/plain": [
       "  0%|          | 0/240001 [00:00<?, ?it/s]"
      ]
     },
     "metadata": {},
     "output_type": "display_data"
    },
    {
     "name": "stdout",
     "output_type": "stream",
     "text": [
      "[     0] loss: 13.49772  accuracy: 0.00 0.04 0.05\n",
      "[   100] loss:  2.49621  accuracy: 0.03 0.08 0.13\n",
      "[   200] loss:  0.18750  accuracy: 0.03 0.10 0.16\n",
      "[   300] loss:  0.11853  accuracy: 0.05 0.16 0.27\n",
      "[   400] loss:  0.09978  accuracy: 0.08 0.24 0.38\n",
      "[   500] loss:  0.09887  accuracy: 0.08 0.24 0.39\n",
      "[   600] loss:  0.09796  accuracy: 0.08 0.25 0.40\n",
      "[   700] loss:  0.10003  accuracy: 0.08 0.23 0.37\n",
      "[   800] loss:  0.09558  accuracy: 0.09 0.25 0.41\n",
      "[   900] loss:  0.08083  accuracy: 0.09 0.28 0.44\n",
      "[  1000] loss:  0.06218  accuracy: 0.12 0.33 0.52\n",
      "[  1100] loss:  0.05203  accuracy: 0.13 0.38 0.58\n",
      "[  1200] loss:  0.04809  accuracy: 0.13 0.39 0.60\n",
      "[  1300] loss:  0.04222  accuracy: 0.15 0.43 0.64\n",
      "[  1400] loss:  0.04028  accuracy: 0.16 0.44 0.65\n",
      "[  1500] loss:  0.03954  accuracy: 0.15 0.43 0.64\n",
      "[  1600] loss:  0.03694  accuracy: 0.16 0.44 0.66\n",
      "[  1700] loss:  0.03778  accuracy: 0.16 0.44 0.66\n",
      "[  1800] loss:  0.03463  accuracy: 0.16 0.45 0.68\n",
      "[  1900] loss:  0.03121  accuracy: 0.18 0.50 0.72\n",
      "[  2000] loss:  0.03270  accuracy: 0.17 0.47 0.70\n",
      "[  2100] loss:  0.03160  accuracy: 0.17 0.48 0.71\n",
      "[  2200] loss:  0.03326  accuracy: 0.16 0.45 0.68\n",
      "[  2300] loss:  0.02993  accuracy: 0.18 0.49 0.72\n",
      "[  2400] loss:  0.03021  accuracy: 0.17 0.48 0.72\n",
      "[  2500] loss:  0.03222  accuracy: 0.16 0.47 0.69\n",
      "[  2600] loss:  0.02966  accuracy: 0.17 0.48 0.71\n",
      "[  2700] loss:  0.03087  accuracy: 0.17 0.47 0.69\n",
      "[  2800] loss:  0.03047  accuracy: 0.17 0.47 0.70\n",
      "[  2900] loss:  0.02887  accuracy: 0.18 0.50 0.72\n",
      "[  3000] loss:  0.02841  accuracy: 0.18 0.50 0.73\n",
      "[  3100] loss:  0.03002  accuracy: 0.17 0.48 0.71\n",
      "[  3200] loss:  0.02850  accuracy: 0.18 0.49 0.72\n",
      "[  3300] loss:  0.02855  accuracy: 0.17 0.49 0.72\n",
      "[  3400] loss:  0.02843  accuracy: 0.18 0.49 0.72\n",
      "[  3500] loss:  0.02691  accuracy: 0.19 0.52 0.75\n",
      "[  3600] loss:  0.02812  accuracy: 0.17 0.50 0.72\n",
      "[  3700] loss:  0.02846  accuracy: 0.17 0.47 0.70\n",
      "[  3800] loss:  0.02777  accuracy: 0.18 0.50 0.73\n",
      "[  3900] loss:  0.02627  accuracy: 0.19 0.51 0.74\n",
      "[  4000] loss:  0.02715  accuracy: 0.19 0.50 0.73\n",
      "[  4100] loss:  0.03015  accuracy: 0.16 0.46 0.69\n",
      "[  4200] loss:  0.02679  accuracy: 0.18 0.50 0.73\n",
      "[  4300] loss:  0.02624  accuracy: 0.18 0.51 0.74\n",
      "[  4400] loss:  0.02558  accuracy: 0.19 0.53 0.75\n",
      "[  4500] loss:  0.02598  accuracy: 0.19 0.52 0.74\n",
      "[  4600] loss:  0.02732  accuracy: 0.17 0.49 0.72\n",
      "[  4700] loss:  0.02535  accuracy: 0.19 0.52 0.75\n",
      "[  4800] loss:  0.02601  accuracy: 0.18 0.51 0.74\n",
      "[  4900] loss:  0.02787  accuracy: 0.17 0.49 0.71\n",
      "[  5000] loss:  0.02675  accuracy: 0.18 0.50 0.72\n",
      "[  5100] loss:  0.02661  accuracy: 0.18 0.50 0.72\n",
      "[  5200] loss:  0.02643  accuracy: 0.18 0.50 0.73\n",
      "[  5300] loss:  0.02555  accuracy: 0.19 0.52 0.75\n",
      "[  5400] loss:  0.02523  accuracy: 0.19 0.52 0.75\n",
      "[  5500] loss:  0.02664  accuracy: 0.18 0.50 0.73\n",
      "[  5600] loss:  0.02561  accuracy: 0.18 0.51 0.74\n",
      "[  5700] loss:  0.02523  accuracy: 0.19 0.52 0.75\n",
      "[  5800] loss:  0.02529  accuracy: 0.19 0.53 0.75\n",
      "[  5900] loss:  0.02401  accuracy: 0.20 0.55 0.77\n",
      "[  6000] loss:  0.02566  accuracy: 0.18 0.51 0.74\n",
      "[  6100] loss:  0.02538  accuracy: 0.19 0.50 0.74\n",
      "[  6200] loss:  0.02472  accuracy: 0.19 0.53 0.76\n",
      "[  6300] loss:  0.02341  accuracy: 0.20 0.55 0.77\n",
      "[  6400] loss:  0.02431  accuracy: 0.19 0.53 0.76\n",
      "[  6500] loss:  0.02876  accuracy: 0.16 0.46 0.69\n",
      "[  6600] loss:  0.02450  accuracy: 0.19 0.53 0.76\n",
      "[  6700] loss:  0.02398  accuracy: 0.19 0.53 0.77\n",
      "[  6800] loss:  0.02358  accuracy: 0.20 0.55 0.77\n",
      "[  6900] loss:  0.02390  accuracy: 0.20 0.54 0.77\n",
      "[  7000] loss:  0.02637  accuracy: 0.17 0.49 0.72\n",
      "[  7100] loss:  0.02332  accuracy: 0.20 0.55 0.77\n",
      "[  7200] loss:  0.02360  accuracy: 0.19 0.53 0.76\n",
      "[  7300] loss:  0.02509  accuracy: 0.19 0.52 0.75\n",
      "[  7400] loss:  0.02423  accuracy: 0.19 0.52 0.75\n",
      "[  7500] loss:  0.02501  accuracy: 0.18 0.51 0.74\n",
      "[  7600] loss:  0.02388  accuracy: 0.19 0.53 0.76\n",
      "[  7700] loss:  0.02347  accuracy: 0.20 0.54 0.77\n",
      "[  7800] loss:  0.02351  accuracy: 0.20 0.54 0.77\n",
      "[  7900] loss:  0.02406  accuracy: 0.19 0.53 0.76\n",
      "[  8000] loss:  0.02482  accuracy: 0.18 0.51 0.74\n",
      "[  8100] loss:  0.02326  accuracy: 0.20 0.55 0.78\n",
      "[  8200] loss:  0.02296  accuracy: 0.20 0.55 0.78\n",
      "[  8300] loss:  0.02246  accuracy: 0.20 0.56 0.78\n",
      "[  8400] loss:  0.02398  accuracy: 0.19 0.53 0.76\n",
      "[  8500] loss:  0.02307  accuracy: 0.20 0.54 0.76\n",
      "[  8600] loss:  0.02279  accuracy: 0.20 0.56 0.79\n",
      "[  8700] loss:  0.02214  accuracy: 0.20 0.55 0.78\n",
      "[  8800] loss:  0.02254  accuracy: 0.20 0.54 0.77\n",
      "[  8900] loss:  0.02683  accuracy: 0.17 0.48 0.71\n",
      "[  9000] loss:  0.02309  accuracy: 0.19 0.54 0.77\n",
      "[  9100] loss:  0.02234  accuracy: 0.20 0.56 0.78\n",
      "[  9200] loss:  0.02232  accuracy: 0.20 0.56 0.78\n",
      "[  9300] loss:  0.02265  accuracy: 0.20 0.55 0.77\n",
      "[  9400] loss:  0.02426  accuracy: 0.18 0.51 0.74\n",
      "[  9500] loss:  0.02205  accuracy: 0.20 0.56 0.78\n",
      "[  9600] loss:  0.02215  accuracy: 0.20 0.54 0.78\n",
      "[  9700] loss:  0.02280  accuracy: 0.20 0.55 0.77\n",
      "[  9800] loss:  0.02215  accuracy: 0.20 0.55 0.78\n",
      "[  9900] loss:  0.02255  accuracy: 0.20 0.54 0.77\n",
      "[ 10000] loss:  0.02289  accuracy: 0.19 0.53 0.76\n",
      "[ 10100] loss:  0.02148  accuracy: 0.20 0.56 0.79\n",
      "[ 10200] loss:  0.02159  accuracy: 0.21 0.56 0.79\n",
      "[ 10300] loss:  0.02192  accuracy: 0.21 0.56 0.78\n",
      "[ 10400] loss:  0.02324  accuracy: 0.18 0.51 0.75\n",
      "[ 10500] loss:  0.02141  accuracy: 0.21 0.57 0.79\n",
      "[ 10600] loss:  0.02063  accuracy: 0.21 0.58 0.80\n",
      "[ 10700] loss:  0.02071  accuracy: 0.21 0.57 0.79\n",
      "[ 10800] loss:  0.02129  accuracy: 0.21 0.56 0.78\n",
      "[ 10900] loss:  0.02113  accuracy: 0.20 0.56 0.78\n",
      "[ 11000] loss:  0.02103  accuracy: 0.22 0.57 0.80\n",
      "[ 11100] loss:  0.02006  accuracy: 0.21 0.57 0.80\n",
      "[ 11200] loss:  0.02045  accuracy: 0.21 0.58 0.80\n",
      "[ 11300] loss:  0.02318  accuracy: 0.19 0.53 0.75\n",
      "[ 11400] loss:  0.02112  accuracy: 0.21 0.56 0.79\n",
      "[ 11500] loss:  0.02030  accuracy: 0.21 0.57 0.80\n",
      "[ 11600] loss:  0.02018  accuracy: 0.22 0.59 0.80\n",
      "[ 11700] loss:  0.02055  accuracy: 0.21 0.57 0.79\n",
      "[ 11800] loss:  0.02148  accuracy: 0.20 0.55 0.78\n",
      "[ 11900] loss:  0.02005  accuracy: 0.21 0.57 0.79\n",
      "[ 12000] loss:  0.02000  accuracy: 0.21 0.57 0.80\n",
      "[ 12100] loss:  0.02011  accuracy: 0.22 0.58 0.80\n",
      "[ 12200] loss:  0.02015  accuracy: 0.21 0.57 0.80\n",
      "[ 12300] loss:  0.01990  accuracy: 0.22 0.58 0.80\n",
      "[ 12400] loss:  0.02050  accuracy: 0.21 0.56 0.78\n",
      "[ 12500] loss:  0.01915  accuracy: 0.23 0.61 0.82\n",
      "[ 12600] loss:  0.01996  accuracy: 0.22 0.58 0.80\n",
      "[ 12700] loss:  0.01987  accuracy: 0.22 0.59 0.80\n",
      "[ 12800] loss:  0.02061  accuracy: 0.20 0.56 0.78\n",
      "[ 12900] loss:  0.01956  accuracy: 0.22 0.59 0.81\n",
      "[ 13000] loss:  0.01886  accuracy: 0.23 0.60 0.82\n",
      "[ 13100] loss:  0.01908  accuracy: 0.22 0.59 0.81\n",
      "[ 13200] loss:  0.01934  accuracy: 0.22 0.60 0.82\n",
      "[ 13300] loss:  0.01929  accuracy: 0.23 0.59 0.81\n",
      "[ 13400] loss:  0.01942  accuracy: 0.22 0.59 0.82\n",
      "[ 13500] loss:  0.01828  accuracy: 0.23 0.61 0.82\n",
      "[ 13600] loss:  0.01896  accuracy: 0.22 0.60 0.82\n",
      "[ 13700] loss:  0.02116  accuracy: 0.21 0.56 0.78\n",
      "[ 13800] loss:  0.01914  accuracy: 0.23 0.60 0.82\n",
      "[ 13900] loss:  0.01857  accuracy: 0.23 0.61 0.83\n",
      "[ 14000] loss:  0.01838  accuracy: 0.24 0.62 0.82\n",
      "[ 14100] loss:  0.02014  accuracy: 0.20 0.56 0.79\n",
      "[ 14200] loss:  0.01995  accuracy: 0.21 0.57 0.80\n",
      "[ 14300] loss:  0.01840  accuracy: 0.23 0.61 0.82\n",
      "[ 14400] loss:  0.01838  accuracy: 0.23 0.61 0.82\n",
      "[ 14500] loss:  0.01913  accuracy: 0.22 0.59 0.81\n",
      "[ 14600] loss:  0.01898  accuracy: 0.22 0.59 0.81\n",
      "[ 14700] loss:  0.01872  accuracy: 0.22 0.60 0.81\n",
      "[ 14800] loss:  0.01900  accuracy: 0.22 0.58 0.80\n",
      "[ 14900] loss:  0.01810  accuracy: 0.24 0.62 0.83\n",
      "[ 15000] loss:  0.01898  accuracy: 0.22 0.60 0.81\n",
      "[ 15100] loss:  0.01950  accuracy: 0.22 0.59 0.80\n",
      "[ 15200] loss:  0.02088  accuracy: 0.20 0.55 0.78\n",
      "[ 15300] loss:  0.01958  accuracy: 0.22 0.57 0.79\n",
      "[ 15400] loss:  0.01811  accuracy: 0.23 0.61 0.83\n",
      "[ 15500] loss:  0.01889  accuracy: 0.22 0.59 0.80\n",
      "[ 15600] loss:  0.01911  accuracy: 0.22 0.59 0.81\n",
      "[ 15700] loss:  0.01865  accuracy: 0.22 0.59 0.81\n",
      "[ 15800] loss:  0.01860  accuracy: 0.23 0.61 0.83\n",
      "[ 15900] loss:  0.01750  accuracy: 0.23 0.62 0.82\n",
      "[ 16000] loss:  0.01760  accuracy: 0.24 0.62 0.83\n",
      "[ 16100] loss:  0.01930  accuracy: 0.22 0.60 0.81\n",
      "[ 16200] loss:  0.01795  accuracy: 0.24 0.62 0.83\n",
      "[ 16300] loss:  0.01801  accuracy: 0.24 0.62 0.83\n",
      "[ 16400] loss:  0.01740  accuracy: 0.25 0.64 0.84\n",
      "[ 16500] loss:  0.01960  accuracy: 0.21 0.57 0.79\n",
      "[ 16600] loss:  0.01823  accuracy: 0.23 0.61 0.83\n",
      "[ 16700] loss:  0.01727  accuracy: 0.25 0.64 0.84\n",
      "[ 16800] loss:  0.01813  accuracy: 0.23 0.61 0.82\n",
      "[ 16900] loss:  0.01813  accuracy: 0.23 0.62 0.83\n",
      "[ 17000] loss:  0.01840  accuracy: 0.22 0.59 0.82\n",
      "[ 17100] loss:  0.01768  accuracy: 0.23 0.62 0.83\n",
      "[ 17200] loss:  0.01852  accuracy: 0.22 0.58 0.80\n",
      "[ 17300] loss:  0.01734  accuracy: 0.25 0.64 0.84\n",
      "[ 17400] loss:  0.01775  accuracy: 0.24 0.62 0.83\n",
      "[ 17500] loss:  0.01815  accuracy: 0.23 0.61 0.82\n",
      "[ 17600] loss:  0.01909  accuracy: 0.21 0.58 0.81\n",
      "[ 17700] loss:  0.01832  accuracy: 0.23 0.60 0.81\n",
      "[ 17800] loss:  0.01722  accuracy: 0.24 0.62 0.84\n",
      "[ 17900] loss:  0.01810  accuracy: 0.23 0.60 0.81\n",
      "[ 18000] loss:  0.01794  accuracy: 0.23 0.61 0.83\n",
      "[ 18100] loss:  0.01814  accuracy: 0.22 0.59 0.81\n",
      "[ 18200] loss:  0.01853  accuracy: 0.23 0.60 0.82\n",
      "[ 18300] loss:  0.01677  accuracy: 0.24 0.63 0.84\n",
      "[ 18400] loss:  0.01737  accuracy: 0.24 0.62 0.83\n",
      "[ 18500] loss:  0.01795  accuracy: 0.24 0.63 0.83\n",
      "[ 18600] loss:  0.01708  accuracy: 0.24 0.64 0.84\n",
      "[ 18700] loss:  0.01692  accuracy: 0.25 0.64 0.84\n",
      "[ 18800] loss:  0.01648  accuracy: 0.25 0.65 0.85\n",
      "[ 18900] loss:  0.01737  accuracy: 0.24 0.62 0.83\n",
      "[ 19000] loss:  0.01722  accuracy: 0.24 0.63 0.83\n",
      "[ 19100] loss:  0.01643  accuracy: 0.26 0.65 0.85\n",
      "[ 19200] loss:  0.01722  accuracy: 0.24 0.62 0.83\n",
      "[ 19300] loss:  0.01706  accuracy: 0.24 0.63 0.84\n",
      "[ 19400] loss:  0.01712  accuracy: 0.24 0.62 0.83\n",
      "[ 19500] loss:  0.01689  accuracy: 0.24 0.63 0.83\n",
      "[ 19600] loss:  0.01808  accuracy: 0.22 0.59 0.80\n",
      "[ 19700] loss:  0.01656  accuracy: 0.25 0.65 0.85\n",
      "[ 19800] loss:  0.01695  accuracy: 0.25 0.63 0.84\n",
      "[ 19900] loss:  0.01655  accuracy: 0.25 0.64 0.84\n",
      "[ 20000] loss:  0.01787  accuracy: 0.23 0.61 0.82\n",
      "[ 20100] loss:  0.01751  accuracy: 0.24 0.61 0.82\n",
      "[ 20200] loss:  0.01638  accuracy: 0.24 0.64 0.85\n",
      "[ 20300] loss:  0.01708  accuracy: 0.24 0.62 0.83\n",
      "[ 20400] loss:  0.01689  accuracy: 0.25 0.63 0.84\n",
      "[ 20500] loss:  0.01727  accuracy: 0.23 0.61 0.82\n",
      "[ 20600] loss:  0.01733  accuracy: 0.24 0.62 0.84\n",
      "[ 20700] loss:  0.01594  accuracy: 0.25 0.64 0.85\n",
      "[ 20800] loss:  0.01669  accuracy: 0.24 0.63 0.83\n",
      "[ 20900] loss:  0.01674  accuracy: 0.25 0.65 0.85\n",
      "[ 21000] loss:  0.01634  accuracy: 0.25 0.65 0.85\n",
      "[ 21100] loss:  0.01634  accuracy: 0.25 0.64 0.84\n",
      "[ 21200] loss:  0.01571  accuracy: 0.26 0.66 0.85\n",
      "[ 21300] loss:  0.01642  accuracy: 0.25 0.63 0.84\n",
      "[ 21400] loss:  0.01657  accuracy: 0.24 0.63 0.84\n",
      "[ 21500] loss:  0.01557  accuracy: 0.26 0.66 0.85\n",
      "[ 21600] loss:  0.01619  accuracy: 0.25 0.64 0.84\n",
      "[ 21700] loss:  0.01619  accuracy: 0.25 0.65 0.85\n",
      "[ 21800] loss:  0.01604  accuracy: 0.25 0.64 0.85\n",
      "[ 21900] loss:  0.01622  accuracy: 0.25 0.64 0.84\n",
      "[ 22000] loss:  0.01759  accuracy: 0.22 0.59 0.81\n",
      "[ 22100] loss:  0.01613  accuracy: 0.25 0.65 0.85\n",
      "[ 22200] loss:  0.01612  accuracy: 0.25 0.64 0.84\n",
      "[ 22300] loss:  0.01566  accuracy: 0.26 0.65 0.85\n",
      "[ 22400] loss:  0.01731  accuracy: 0.23 0.62 0.83\n",
      "[ 22500] loss:  0.01627  accuracy: 0.25 0.64 0.84\n",
      "[ 22600] loss:  0.01555  accuracy: 0.25 0.65 0.86\n",
      "[ 22700] loss:  0.01641  accuracy: 0.24 0.63 0.84\n",
      "[ 22800] loss:  0.01579  accuracy: 0.26 0.65 0.85\n",
      "[ 22900] loss:  0.01620  accuracy: 0.24 0.63 0.84\n",
      "[ 23000] loss:  0.01633  accuracy: 0.25 0.64 0.85\n",
      "[ 23100] loss:  0.01486  accuracy: 0.27 0.66 0.86\n",
      "[ 23200] loss:  0.01583  accuracy: 0.25 0.64 0.85\n",
      "[ 23300] loss:  0.01557  accuracy: 0.26 0.67 0.86\n",
      "[ 23400] loss:  0.01574  accuracy: 0.26 0.66 0.85\n",
      "[ 23500] loss:  0.01545  accuracy: 0.26 0.66 0.85\n",
      "[ 23600] loss:  0.01519  accuracy: 0.27 0.67 0.86\n",
      "[ 23700] loss:  0.01558  accuracy: 0.26 0.65 0.85\n",
      "[ 23800] loss:  0.01602  accuracy: 0.25 0.64 0.84\n",
      "[ 23900] loss:  0.01484  accuracy: 0.27 0.67 0.86\n",
      "[ 24000] loss:  0.01536  accuracy: 0.26 0.65 0.85\n",
      "[ 24100] loss:  0.01535  accuracy: 0.26 0.66 0.86\n",
      "[ 24200] loss:  0.01482  accuracy: 0.27 0.67 0.86\n",
      "[ 24300] loss:  0.01533  accuracy: 0.26 0.66 0.85\n",
      "[ 24400] loss:  0.01647  accuracy: 0.24 0.61 0.83\n",
      "[ 24500] loss:  0.01527  accuracy: 0.26 0.66 0.86\n",
      "[ 24600] loss:  0.01540  accuracy: 0.25 0.65 0.85\n",
      "[ 24700] loss:  0.01518  accuracy: 0.26 0.66 0.85\n",
      "[ 24800] loss:  0.01610  accuracy: 0.25 0.64 0.84\n",
      "[ 24900] loss:  0.01536  accuracy: 0.26 0.66 0.86\n",
      "[ 25000] loss:  0.01473  accuracy: 0.26 0.67 0.86\n",
      "[ 25100] loss:  0.01535  accuracy: 0.25 0.65 0.85\n",
      "[ 25200] loss:  0.01504  accuracy: 0.27 0.67 0.86\n",
      "[ 25300] loss:  0.01516  accuracy: 0.25 0.65 0.85\n",
      "[ 25400] loss:  0.01546  accuracy: 0.26 0.66 0.86\n",
      "[ 25500] loss:  0.01417  accuracy: 0.27 0.67 0.87\n",
      "[ 25600] loss:  0.01524  accuracy: 0.25 0.65 0.85\n",
      "[ 25700] loss:  0.01489  accuracy: 0.27 0.68 0.86\n",
      "[ 25800] loss:  0.01551  accuracy: 0.26 0.65 0.85\n",
      "[ 25900] loss:  0.01439  accuracy: 0.27 0.68 0.87\n",
      "[ 26000] loss:  0.01453  accuracy: 0.27 0.68 0.87\n",
      "[ 26100] loss:  0.01467  accuracy: 0.27 0.67 0.86\n",
      "[ 26200] loss:  0.01517  accuracy: 0.26 0.65 0.85\n",
      "[ 26300] loss:  0.01421  accuracy: 0.28 0.68 0.87\n",
      "[ 26400] loss:  0.01478  accuracy: 0.26 0.66 0.86\n",
      "[ 26500] loss:  0.01465  accuracy: 0.28 0.68 0.87\n",
      "[ 26600] loss:  0.01432  accuracy: 0.27 0.67 0.87\n",
      "[ 26700] loss:  0.01453  accuracy: 0.27 0.67 0.86\n",
      "[ 26800] loss:  0.01518  accuracy: 0.25 0.64 0.85\n",
      "[ 26900] loss:  0.01478  accuracy: 0.27 0.67 0.86\n",
      "[ 27000] loss:  0.01485  accuracy: 0.26 0.66 0.86\n",
      "[ 27100] loss:  0.01480  accuracy: 0.26 0.67 0.86\n",
      "[ 27200] loss:  0.01470  accuracy: 0.26 0.67 0.86\n",
      "[ 27300] loss:  0.01467  accuracy: 0.26 0.66 0.86\n",
      "[ 27400] loss:  0.01393  accuracy: 0.27 0.68 0.87\n",
      "[ 27500] loss:  0.01417  accuracy: 0.27 0.68 0.87\n",
      "[ 27600] loss:  0.01441  accuracy: 0.27 0.68 0.87\n",
      "[ 27700] loss:  0.01416  accuracy: 0.27 0.67 0.86\n",
      "[ 27800] loss:  0.01448  accuracy: 0.27 0.67 0.87\n",
      "[ 27900] loss:  0.01344  accuracy: 0.28 0.69 0.87\n",
      "[ 28000] loss:  0.01459  accuracy: 0.26 0.66 0.86\n",
      "[ 28100] loss:  0.01434  accuracy: 0.27 0.69 0.87\n",
      "[ 28200] loss:  0.01487  accuracy: 0.26 0.67 0.86\n",
      "[ 28300] loss:  0.01356  accuracy: 0.29 0.70 0.88\n",
      "[ 28400] loss:  0.01375  accuracy: 0.28 0.70 0.88\n",
      "[ 28500] loss:  0.01407  accuracy: 0.27 0.68 0.87\n",
      "[ 28600] loss:  0.01446  accuracy: 0.27 0.67 0.86\n",
      "[ 28700] loss:  0.01352  accuracy: 0.28 0.69 0.88\n",
      "[ 28800] loss:  0.01370  accuracy: 0.27 0.69 0.87\n",
      "[ 28900] loss:  0.01395  accuracy: 0.28 0.69 0.87\n",
      "[ 29000] loss:  0.01397  accuracy: 0.27 0.68 0.87\n",
      "[ 29100] loss:  0.01368  accuracy: 0.28 0.69 0.87\n",
      "[ 29200] loss:  0.01421  accuracy: 0.26 0.66 0.87\n",
      "[ 29300] loss:  0.01414  accuracy: 0.27 0.67 0.86\n",
      "[ 29400] loss:  0.01426  accuracy: 0.26 0.67 0.87\n",
      "[ 29500] loss:  0.01410  accuracy: 0.27 0.68 0.87\n",
      "[ 29600] loss:  0.01402  accuracy: 0.27 0.67 0.87\n",
      "[ 29700] loss:  0.01400  accuracy: 0.27 0.68 0.87\n",
      "[ 29800] loss:  0.01318  accuracy: 0.28 0.70 0.88\n",
      "[ 29900] loss:  0.01337  accuracy: 0.28 0.69 0.87\n",
      "[ 30000] loss:  0.01378  accuracy: 0.27 0.68 0.87\n",
      "[ 30100] loss:  0.01347  accuracy: 0.28 0.68 0.87\n",
      "[ 30200] loss:  0.01370  accuracy: 0.27 0.68 0.88\n",
      "[ 30300] loss:  0.01273  accuracy: 0.29 0.70 0.88\n",
      "[ 30400] loss:  0.01370  accuracy: 0.27 0.68 0.87\n",
      "[ 30500] loss:  0.01359  accuracy: 0.29 0.71 0.88\n",
      "[ 30600] loss:  0.01451  accuracy: 0.26 0.67 0.86\n",
      "[ 30700] loss:  0.01283  accuracy: 0.30 0.71 0.89\n",
      "[ 30800] loss:  0.01301  accuracy: 0.29 0.71 0.89\n",
      "[ 30900] loss:  0.01353  accuracy: 0.28 0.69 0.87\n",
      "[ 31000] loss:  0.01404  accuracy: 0.27 0.67 0.86\n",
      "[ 31100] loss:  0.01282  accuracy: 0.29 0.71 0.88\n",
      "[ 31200] loss:  0.01310  accuracy: 0.28 0.69 0.88\n",
      "[ 31300] loss:  0.01348  accuracy: 0.29 0.70 0.88\n",
      "[ 31400] loss:  0.01337  accuracy: 0.28 0.69 0.88\n",
      "[ 31500] loss:  0.01282  accuracy: 0.29 0.71 0.88\n",
      "[ 31600] loss:  0.01329  accuracy: 0.28 0.68 0.88\n",
      "[ 31700] loss:  0.01319  accuracy: 0.28 0.69 0.88\n",
      "[ 31800] loss:  0.01345  accuracy: 0.28 0.69 0.88\n",
      "[ 31900] loss:  0.01321  accuracy: 0.29 0.70 0.88\n",
      "[ 32000] loss:  0.01315  accuracy: 0.28 0.70 0.88\n",
      "[ 32100] loss:  0.01304  accuracy: 0.29 0.70 0.88\n",
      "[ 32200] loss:  0.01274  accuracy: 0.29 0.70 0.88\n",
      "[ 32300] loss:  0.01266  accuracy: 0.28 0.70 0.88\n",
      "[ 32400] loss:  0.01330  accuracy: 0.28 0.69 0.88\n",
      "[ 32500] loss:  0.01276  accuracy: 0.29 0.70 0.88\n",
      "[ 32600] loss:  0.01302  accuracy: 0.27 0.69 0.88\n",
      "[ 32700] loss:  0.01215  accuracy: 0.29 0.71 0.89\n",
      "[ 32800] loss:  0.01308  accuracy: 0.28 0.69 0.88\n",
      "[ 32900] loss:  0.01305  accuracy: 0.29 0.71 0.88\n",
      "[ 33000] loss:  0.01373  accuracy: 0.27 0.68 0.87\n",
      "[ 33100] loss:  0.01217  accuracy: 0.31 0.72 0.89\n",
      "[ 33200] loss:  0.01239  accuracy: 0.30 0.72 0.89\n",
      "[ 33300] loss:  0.01320  accuracy: 0.28 0.69 0.88\n",
      "[ 33400] loss:  0.01303  accuracy: 0.28 0.69 0.87\n",
      "[ 33500] loss:  0.01225  accuracy: 0.30 0.71 0.89\n",
      "[ 33600] loss:  0.01255  accuracy: 0.28 0.71 0.89\n",
      "[ 33700] loss:  0.01285  accuracy: 0.30 0.71 0.89\n",
      "[ 33800] loss:  0.01271  accuracy: 0.29 0.70 0.88\n",
      "[ 33900] loss:  0.01234  accuracy: 0.30 0.71 0.89\n",
      "[ 34000] loss:  0.01244  accuracy: 0.29 0.70 0.89\n",
      "[ 34100] loss:  0.01252  accuracy: 0.29 0.70 0.88\n",
      "[ 34200] loss:  0.01284  accuracy: 0.29 0.71 0.89\n",
      "[ 34300] loss:  0.01248  accuracy: 0.30 0.71 0.88\n",
      "[ 34400] loss:  0.01261  accuracy: 0.29 0.70 0.88\n",
      "[ 34500] loss:  0.01243  accuracy: 0.30 0.71 0.89\n",
      "[ 34600] loss:  0.01214  accuracy: 0.29 0.72 0.89\n",
      "[ 34700] loss:  0.01201  accuracy: 0.29 0.72 0.89\n",
      "[ 34800] loss:  0.01254  accuracy: 0.29 0.71 0.89\n",
      "[ 34900] loss:  0.01205  accuracy: 0.29 0.71 0.88\n",
      "[ 35000] loss:  0.01267  accuracy: 0.27 0.70 0.89\n",
      "[ 35100] loss:  0.01167  accuracy: 0.29 0.72 0.89\n",
      "[ 35200] loss:  0.01217  accuracy: 0.29 0.71 0.89\n",
      "[ 35300] loss:  0.01244  accuracy: 0.30 0.72 0.89\n",
      "[ 35400] loss:  0.01332  accuracy: 0.28 0.69 0.87\n",
      "[ 35500] loss:  0.01173  accuracy: 0.31 0.73 0.89\n",
      "[ 35600] loss:  0.01171  accuracy: 0.31 0.74 0.90\n",
      "[ 35700] loss:  0.01258  accuracy: 0.29 0.71 0.88\n",
      "[ 35800] loss:  0.01243  accuracy: 0.29 0.71 0.88\n",
      "[ 35900] loss:  0.01173  accuracy: 0.31 0.72 0.90\n",
      "[ 36000] loss:  0.01186  accuracy: 0.30 0.72 0.89\n",
      "[ 36100] loss:  0.01234  accuracy: 0.31 0.72 0.89\n",
      "[ 36200] loss:  0.01196  accuracy: 0.30 0.72 0.89\n",
      "[ 36300] loss:  0.01182  accuracy: 0.31 0.72 0.89\n",
      "[ 36400] loss:  0.01191  accuracy: 0.30 0.72 0.89\n",
      "[ 36500] loss:  0.01182  accuracy: 0.30 0.72 0.89\n",
      "[ 36600] loss:  0.01235  accuracy: 0.29 0.71 0.89\n",
      "[ 36700] loss:  0.01195  accuracy: 0.30 0.72 0.89\n",
      "[ 36800] loss:  0.01194  accuracy: 0.30 0.72 0.89\n",
      "[ 36900] loss:  0.01176  accuracy: 0.31 0.73 0.90\n",
      "[ 37000] loss:  0.01170  accuracy: 0.30 0.73 0.90\n",
      "[ 37100] loss:  0.01149  accuracy: 0.30 0.72 0.89\n",
      "[ 37200] loss:  0.01203  accuracy: 0.29 0.72 0.89\n",
      "[ 37300] loss:  0.01164  accuracy: 0.29 0.72 0.89\n",
      "[ 37400] loss:  0.01194  accuracy: 0.29 0.72 0.89\n",
      "[ 37500] loss:  0.01132  accuracy: 0.30 0.73 0.90\n",
      "[ 37600] loss:  0.01169  accuracy: 0.30 0.72 0.89\n",
      "[ 37700] loss:  0.01182  accuracy: 0.31 0.73 0.89\n",
      "[ 37800] loss:  0.01216  accuracy: 0.30 0.72 0.89\n",
      "[ 37900] loss:  0.01129  accuracy: 0.32 0.74 0.90\n",
      "[ 38000] loss:  0.01120  accuracy: 0.32 0.74 0.90\n",
      "[ 38100] loss:  0.01196  accuracy: 0.30 0.72 0.89\n",
      "[ 38200] loss:  0.01183  accuracy: 0.30 0.72 0.89\n",
      "[ 38300] loss:  0.01127  accuracy: 0.31 0.73 0.90\n",
      "[ 38400] loss:  0.01133  accuracy: 0.31 0.73 0.90\n",
      "[ 38500] loss:  0.01166  accuracy: 0.32 0.73 0.90\n",
      "[ 38600] loss:  0.01142  accuracy: 0.30 0.73 0.90\n",
      "[ 38700] loss:  0.01138  accuracy: 0.31 0.73 0.90\n",
      "[ 38800] loss:  0.01147  accuracy: 0.30 0.72 0.90\n",
      "[ 38900] loss:  0.01126  accuracy: 0.31 0.73 0.90\n",
      "[ 39000] loss:  0.01169  accuracy: 0.31 0.72 0.89\n",
      "[ 39100] loss:  0.01140  accuracy: 0.31 0.73 0.89\n",
      "[ 39200] loss:  0.01146  accuracy: 0.31 0.73 0.90\n",
      "[ 39300] loss:  0.01136  accuracy: 0.31 0.74 0.90\n",
      "[ 39400] loss:  0.01122  accuracy: 0.31 0.74 0.90\n",
      "[ 39500] loss:  0.01095  accuracy: 0.31 0.74 0.90\n",
      "[ 39600] loss:  0.01142  accuracy: 0.31 0.74 0.90\n",
      "[ 39700] loss:  0.01113  accuracy: 0.31 0.73 0.90\n",
      "[ 39800] loss:  0.01134  accuracy: 0.31 0.74 0.90\n",
      "[ 39900] loss:  0.01086  accuracy: 0.31 0.74 0.90\n",
      "[ 40000] loss:  0.01099  accuracy: 0.32 0.74 0.90\n",
      "[ 40100] loss:  0.01135  accuracy: 0.31 0.74 0.90\n",
      "[ 40200] loss:  0.01150  accuracy: 0.31 0.73 0.89\n",
      "[ 40300] loss:  0.01087  accuracy: 0.33 0.74 0.91\n",
      "[ 40400] loss:  0.01064  accuracy: 0.34 0.76 0.91\n",
      "[ 40500] loss:  0.01166  accuracy: 0.30 0.72 0.89\n",
      "[ 40600] loss:  0.01109  accuracy: 0.32 0.74 0.90\n",
      "[ 40700] loss:  0.01085  accuracy: 0.32 0.75 0.91\n",
      "[ 40800] loss:  0.01087  accuracy: 0.31 0.74 0.90\n",
      "[ 40900] loss:  0.01138  accuracy: 0.32 0.74 0.90\n",
      "[ 41000] loss:  0.01119  accuracy: 0.32 0.73 0.90\n",
      "[ 41100] loss:  0.01111  accuracy: 0.31 0.74 0.90\n",
      "[ 41200] loss:  0.01084  accuracy: 0.31 0.74 0.90\n",
      "[ 41300] loss:  0.01090  accuracy: 0.31 0.74 0.90\n",
      "[ 41400] loss:  0.01094  accuracy: 0.32 0.74 0.90\n",
      "[ 41500] loss:  0.01092  accuracy: 0.32 0.74 0.90\n",
      "[ 41600] loss:  0.01088  accuracy: 0.32 0.75 0.90\n",
      "[ 41700] loss:  0.01110  accuracy: 0.32 0.74 0.90\n",
      "[ 41800] loss:  0.01072  accuracy: 0.32 0.75 0.91\n",
      "[ 41900] loss:  0.01048  accuracy: 0.32 0.75 0.90\n",
      "[ 42000] loss:  0.01085  accuracy: 0.33 0.75 0.90\n",
      "[ 42100] loss:  0.01063  accuracy: 0.32 0.75 0.90\n",
      "[ 42200] loss:  0.01081  accuracy: 0.32 0.75 0.91\n",
      "[ 42300] loss:  0.01048  accuracy: 0.32 0.75 0.91\n",
      "[ 42400] loss:  0.01059  accuracy: 0.32 0.75 0.90\n",
      "[ 42500] loss:  0.01075  accuracy: 0.33 0.75 0.90\n",
      "[ 42600] loss:  0.01069  accuracy: 0.33 0.76 0.90\n",
      "[ 42700] loss:  0.01030  accuracy: 0.34 0.76 0.91\n",
      "[ 42800] loss:  0.01026  accuracy: 0.35 0.76 0.91\n",
      "[ 42900] loss:  0.01110  accuracy: 0.31 0.73 0.90\n",
      "[ 43000] loss:  0.01066  accuracy: 0.33 0.75 0.90\n",
      "[ 43100] loss:  0.01046  accuracy: 0.33 0.75 0.91\n",
      "[ 43200] loss:  0.01038  accuracy: 0.32 0.76 0.91\n",
      "[ 43300] loss:  0.01080  accuracy: 0.34 0.75 0.90\n",
      "[ 43400] loss:  0.01063  accuracy: 0.33 0.75 0.90\n",
      "[ 43500] loss:  0.01078  accuracy: 0.32 0.75 0.90\n",
      "[ 43600] loss:  0.01043  accuracy: 0.32 0.75 0.91\n",
      "[ 43700] loss:  0.01044  accuracy: 0.32 0.75 0.90\n",
      "[ 43800] loss:  0.01048  accuracy: 0.33 0.74 0.91\n",
      "[ 43900] loss:  0.01043  accuracy: 0.33 0.75 0.90\n",
      "[ 44000] loss:  0.01035  accuracy: 0.34 0.76 0.91\n",
      "[ 44100] loss:  0.01067  accuracy: 0.33 0.75 0.91\n",
      "[ 44200] loss:  0.01034  accuracy: 0.34 0.76 0.91\n",
      "[ 44300] loss:  0.01006  accuracy: 0.34 0.76 0.91\n",
      "[ 44400] loss:  0.01043  accuracy: 0.34 0.76 0.91\n",
      "[ 44500] loss:  0.01035  accuracy: 0.33 0.75 0.91\n",
      "[ 44600] loss:  0.01023  accuracy: 0.33 0.76 0.91\n",
      "[ 44700] loss:  0.01003  accuracy: 0.32 0.76 0.91\n",
      "[ 44800] loss:  0.01017  accuracy: 0.32 0.76 0.91\n",
      "[ 44900] loss:  0.01028  accuracy: 0.35 0.76 0.91\n",
      "[ 45000] loss:  0.01038  accuracy: 0.33 0.76 0.91\n",
      "[ 45100] loss:  0.00994  accuracy: 0.35 0.77 0.91\n",
      "[ 45200] loss:  0.00987  accuracy: 0.35 0.77 0.92\n",
      "[ 45300] loss:  0.01070  accuracy: 0.31 0.75 0.90\n",
      "[ 45400] loss:  0.01008  accuracy: 0.35 0.77 0.91\n",
      "[ 45500] loss:  0.01003  accuracy: 0.33 0.76 0.91\n",
      "[ 45600] loss:  0.00999  accuracy: 0.33 0.76 0.91\n",
      "[ 45700] loss:  0.01042  accuracy: 0.34 0.76 0.91\n",
      "[ 45800] loss:  0.01044  accuracy: 0.33 0.75 0.90\n",
      "[ 45900] loss:  0.01034  accuracy: 0.33 0.76 0.91\n",
      "[ 46000] loss:  0.01009  accuracy: 0.33 0.76 0.91\n",
      "[ 46100] loss:  0.00997  accuracy: 0.34 0.76 0.91\n",
      "[ 46200] loss:  0.01007  accuracy: 0.33 0.76 0.91\n",
      "[ 46300] loss:  0.01001  accuracy: 0.33 0.76 0.91\n",
      "[ 46400] loss:  0.00988  accuracy: 0.35 0.77 0.91\n",
      "[ 46500] loss:  0.01025  accuracy: 0.33 0.76 0.91\n",
      "[ 46600] loss:  0.00984  accuracy: 0.36 0.78 0.91\n",
      "[ 46700] loss:  0.00973  accuracy: 0.35 0.77 0.91\n",
      "[ 46800] loss:  0.01007  accuracy: 0.35 0.77 0.91\n",
      "[ 46900] loss:  0.01000  accuracy: 0.33 0.76 0.91\n",
      "[ 47000] loss:  0.00990  accuracy: 0.35 0.77 0.91\n",
      "[ 47100] loss:  0.00977  accuracy: 0.33 0.76 0.91\n",
      "[ 47200] loss:  0.00961  accuracy: 0.34 0.77 0.91\n",
      "[ 47300] loss:  0.00992  accuracy: 0.35 0.76 0.91\n",
      "[ 47400] loss:  0.00997  accuracy: 0.33 0.76 0.91\n",
      "[ 47500] loss:  0.00954  accuracy: 0.36 0.78 0.92\n",
      "[ 47600] loss:  0.00972  accuracy: 0.35 0.78 0.92\n",
      "[ 47700] loss:  0.01025  accuracy: 0.33 0.76 0.91\n",
      "[ 47800] loss:  0.00991  accuracy: 0.34 0.76 0.91\n",
      "[ 47900] loss:  0.00968  accuracy: 0.34 0.77 0.92\n",
      "[ 48000] loss:  0.00961  accuracy: 0.34 0.77 0.92\n",
      "[ 48100] loss:  0.01010  accuracy: 0.34 0.76 0.91\n",
      "[ 48200] loss:  0.01012  accuracy: 0.33 0.75 0.91\n",
      "[ 48300] loss:  0.00992  accuracy: 0.34 0.77 0.91\n",
      "[ 48400] loss:  0.00965  accuracy: 0.34 0.77 0.92\n",
      "[ 48500] loss:  0.00967  accuracy: 0.35 0.77 0.91\n",
      "[ 48600] loss:  0.00966  accuracy: 0.34 0.77 0.92\n",
      "[ 48700] loss:  0.00961  accuracy: 0.35 0.77 0.91\n",
      "[ 48800] loss:  0.00957  accuracy: 0.36 0.78 0.92\n",
      "[ 48900] loss:  0.00980  accuracy: 0.34 0.77 0.92\n",
      "[ 49000] loss:  0.00943  accuracy: 0.36 0.78 0.92\n",
      "[ 49100] loss:  0.00935  accuracy: 0.36 0.78 0.91\n",
      "[ 49200] loss:  0.00971  accuracy: 0.35 0.77 0.91\n",
      "[ 49300] loss:  0.00970  accuracy: 0.34 0.76 0.91\n",
      "[ 49400] loss:  0.00959  accuracy: 0.35 0.78 0.92\n",
      "[ 49500] loss:  0.00954  accuracy: 0.34 0.76 0.92\n",
      "[ 49600] loss:  0.00931  accuracy: 0.35 0.77 0.92\n",
      "[ 49700] loss:  0.00959  accuracy: 0.35 0.77 0.91\n",
      "[ 49800] loss:  0.00955  accuracy: 0.34 0.77 0.91\n",
      "[ 49900] loss:  0.00923  accuracy: 0.36 0.78 0.92\n",
      "[ 50000] loss:  0.00944  accuracy: 0.35 0.78 0.92\n",
      "[ 50100] loss:  0.00980  accuracy: 0.34 0.77 0.91\n",
      "[ 50200] loss:  0.00949  accuracy: 0.36 0.77 0.92\n",
      "[ 50300] loss:  0.00950  accuracy: 0.34 0.77 0.92\n",
      "[ 50400] loss:  0.00951  accuracy: 0.34 0.77 0.92\n",
      "[ 50500] loss:  0.00971  accuracy: 0.35 0.77 0.91\n",
      "[ 50600] loss:  0.00990  accuracy: 0.34 0.76 0.91\n",
      "[ 50700] loss:  0.00948  accuracy: 0.35 0.78 0.92\n",
      "[ 50800] loss:  0.00922  accuracy: 0.36 0.78 0.92\n",
      "[ 50900] loss:  0.00928  accuracy: 0.36 0.78 0.91\n",
      "[ 51000] loss:  0.00943  accuracy: 0.35 0.77 0.92\n",
      "[ 51100] loss:  0.00933  accuracy: 0.35 0.77 0.92\n",
      "[ 51200] loss:  0.00926  accuracy: 0.36 0.78 0.92\n",
      "[ 51300] loss:  0.00938  accuracy: 0.36 0.78 0.92\n",
      "[ 51400] loss:  0.00911  accuracy: 0.37 0.79 0.92\n",
      "[ 51500] loss:  0.00913  accuracy: 0.35 0.78 0.92\n",
      "[ 51600] loss:  0.00937  accuracy: 0.36 0.78 0.92\n",
      "[ 51700] loss:  0.00930  accuracy: 0.35 0.77 0.92\n",
      "[ 51800] loss:  0.00923  accuracy: 0.35 0.79 0.92\n",
      "[ 51900] loss:  0.00907  accuracy: 0.36 0.78 0.92\n",
      "[ 52000] loss:  0.00902  accuracy: 0.35 0.78 0.92\n",
      "[ 52100] loss:  0.00930  accuracy: 0.36 0.77 0.92\n",
      "[ 52200] loss:  0.00926  accuracy: 0.35 0.78 0.92\n",
      "[ 52300] loss:  0.00904  accuracy: 0.36 0.78 0.92\n",
      "[ 52400] loss:  0.00901  accuracy: 0.36 0.79 0.92\n",
      "[ 52500] loss:  0.00970  accuracy: 0.33 0.77 0.91\n",
      "[ 52600] loss:  0.00932  accuracy: 0.35 0.77 0.92\n",
      "[ 52700] loss:  0.00910  accuracy: 0.35 0.78 0.92\n",
      "[ 52800] loss:  0.00922  accuracy: 0.34 0.78 0.92\n",
      "[ 52900] loss:  0.00925  accuracy: 0.37 0.78 0.92\n",
      "[ 53000] loss:  0.00955  accuracy: 0.34 0.77 0.91\n",
      "[ 53100] loss:  0.00914  accuracy: 0.37 0.78 0.92\n",
      "[ 53200] loss:  0.00889  accuracy: 0.37 0.78 0.92\n",
      "[ 53300] loss:  0.00902  accuracy: 0.37 0.79 0.92\n",
      "[ 53400] loss:  0.00902  accuracy: 0.36 0.78 0.92\n",
      "[ 53500] loss:  0.00903  accuracy: 0.36 0.78 0.92\n",
      "[ 53600] loss:  0.00893  accuracy: 0.37 0.79 0.92\n",
      "[ 53700] loss:  0.00908  accuracy: 0.36 0.79 0.92\n",
      "[ 53800] loss:  0.00883  accuracy: 0.37 0.79 0.92\n",
      "[ 53900] loss:  0.00889  accuracy: 0.36 0.79 0.92\n",
      "[ 54000] loss:  0.00905  accuracy: 0.37 0.79 0.92\n",
      "[ 54100] loss:  0.00891  accuracy: 0.36 0.78 0.92\n",
      "[ 54200] loss:  0.00893  accuracy: 0.36 0.79 0.92\n",
      "[ 54300] loss:  0.00875  accuracy: 0.37 0.78 0.92\n",
      "[ 54400] loss:  0.00869  accuracy: 0.37 0.79 0.92\n",
      "[ 54500] loss:  0.00895  accuracy: 0.36 0.78 0.92\n",
      "[ 54600] loss:  0.00893  accuracy: 0.35 0.78 0.92\n",
      "[ 54700] loss:  0.00867  accuracy: 0.37 0.80 0.93\n",
      "[ 54800] loss:  0.00880  accuracy: 0.36 0.79 0.93\n",
      "[ 54900] loss:  0.00935  accuracy: 0.35 0.78 0.92\n",
      "[ 55000] loss:  0.00902  accuracy: 0.36 0.78 0.92\n",
      "[ 55100] loss:  0.00879  accuracy: 0.36 0.79 0.92\n",
      "[ 55200] loss:  0.00879  accuracy: 0.36 0.79 0.92\n",
      "[ 55300] loss:  0.00883  accuracy: 0.38 0.79 0.92\n",
      "[ 55400] loss:  0.00921  accuracy: 0.35 0.77 0.92\n",
      "[ 55500] loss:  0.00889  accuracy: 0.36 0.79 0.92\n",
      "[ 55600] loss:  0.00863  accuracy: 0.38 0.79 0.92\n",
      "[ 55700] loss:  0.00871  accuracy: 0.38 0.79 0.92\n",
      "[ 55800] loss:  0.00872  accuracy: 0.37 0.79 0.92\n",
      "[ 55900] loss:  0.00872  accuracy: 0.37 0.78 0.92\n",
      "[ 56000] loss:  0.00860  accuracy: 0.38 0.80 0.92\n",
      "[ 56100] loss:  0.00871  accuracy: 0.38 0.79 0.93\n",
      "[ 56200] loss:  0.00860  accuracy: 0.38 0.80 0.92\n",
      "[ 56300] loss:  0.00872  accuracy: 0.36 0.79 0.92\n",
      "[ 56400] loss:  0.00882  accuracy: 0.37 0.79 0.92\n",
      "[ 56500] loss:  0.00857  accuracy: 0.37 0.79 0.93\n",
      "[ 56600] loss:  0.00852  accuracy: 0.37 0.80 0.93\n",
      "[ 56700] loss:  0.00841  accuracy: 0.38 0.79 0.93\n",
      "[ 56800] loss:  0.00843  accuracy: 0.37 0.79 0.93\n",
      "[ 56900] loss:  0.00865  accuracy: 0.37 0.79 0.92\n",
      "[ 57000] loss:  0.00862  accuracy: 0.36 0.79 0.92\n",
      "[ 57100] loss:  0.00826  accuracy: 0.39 0.80 0.93\n",
      "[ 57200] loss:  0.00849  accuracy: 0.38 0.80 0.93\n",
      "[ 57300] loss:  0.00896  accuracy: 0.36 0.78 0.92\n",
      "[ 57400] loss:  0.00869  accuracy: 0.38 0.79 0.93\n",
      "[ 57500] loss:  0.00840  accuracy: 0.37 0.79 0.93\n",
      "[ 57600] loss:  0.00838  accuracy: 0.38 0.80 0.93\n",
      "[ 57700] loss:  0.00856  accuracy: 0.39 0.79 0.93\n",
      "[ 57800] loss:  0.00918  accuracy: 0.34 0.77 0.92\n",
      "[ 57900] loss:  0.00855  accuracy: 0.37 0.80 0.92\n",
      "[ 58000] loss:  0.00819  accuracy: 0.39 0.80 0.93\n",
      "[ 58100] loss:  0.00833  accuracy: 0.39 0.80 0.92\n",
      "[ 58200] loss:  0.00836  accuracy: 0.38 0.80 0.93\n",
      "[ 58300] loss:  0.00838  accuracy: 0.37 0.79 0.93\n",
      "[ 58400] loss:  0.00826  accuracy: 0.39 0.80 0.93\n",
      "[ 58500] loss:  0.00833  accuracy: 0.38 0.80 0.93\n",
      "[ 58600] loss:  0.00831  accuracy: 0.39 0.80 0.93\n",
      "[ 58700] loss:  0.00832  accuracy: 0.37 0.80 0.93\n",
      "[ 58800] loss:  0.00841  accuracy: 0.39 0.80 0.93\n",
      "[ 58900] loss:  0.00822  accuracy: 0.38 0.79 0.93\n",
      "[ 59000] loss:  0.00817  accuracy: 0.38 0.81 0.93\n",
      "[ 59100] loss:  0.00813  accuracy: 0.38 0.80 0.93\n",
      "[ 59200] loss:  0.00806  accuracy: 0.38 0.80 0.93\n",
      "[ 59300] loss:  0.00830  accuracy: 0.38 0.80 0.93\n",
      "[ 59400] loss:  0.00820  accuracy: 0.38 0.80 0.93\n",
      "[ 59500] loss:  0.00788  accuracy: 0.40 0.82 0.93\n",
      "[ 59600] loss:  0.00811  accuracy: 0.39 0.81 0.93\n",
      "[ 59700] loss:  0.00853  accuracy: 0.37 0.79 0.92\n",
      "[ 59800] loss:  0.00834  accuracy: 0.38 0.80 0.93\n",
      "[ 59900] loss:  0.00812  accuracy: 0.38 0.80 0.93\n",
      "[ 60000] loss:  0.00805  accuracy: 0.38 0.81 0.93\n",
      "[ 60100] loss:  0.00836  accuracy: 0.39 0.80 0.93\n",
      "[ 60200] loss:  0.00869  accuracy: 0.35 0.78 0.93\n",
      "[ 60300] loss:  0.00822  accuracy: 0.38 0.80 0.93\n",
      "[ 60400] loss:  0.00806  accuracy: 0.39 0.81 0.93\n",
      "[ 60500] loss:  0.00806  accuracy: 0.39 0.80 0.93\n",
      "[ 60600] loss:  0.00813  accuracy: 0.38 0.80 0.93\n",
      "[ 60700] loss:  0.00809  accuracy: 0.38 0.80 0.93\n",
      "[ 60800] loss:  0.00793  accuracy: 0.39 0.81 0.93\n",
      "[ 60900] loss:  0.00801  accuracy: 0.39 0.81 0.93\n",
      "[ 61000] loss:  0.00806  accuracy: 0.39 0.81 0.93\n",
      "[ 61100] loss:  0.00793  accuracy: 0.38 0.81 0.93\n",
      "[ 61200] loss:  0.00811  accuracy: 0.39 0.80 0.93\n",
      "[ 61300] loss:  0.00796  accuracy: 0.38 0.80 0.93\n",
      "[ 61400] loss:  0.00782  accuracy: 0.39 0.81 0.93\n",
      "[ 61500] loss:  0.00786  accuracy: 0.39 0.81 0.93\n",
      "[ 61600] loss:  0.00780  accuracy: 0.38 0.80 0.93\n",
      "[ 61700] loss:  0.00796  accuracy: 0.39 0.81 0.93\n",
      "[ 61800] loss:  0.00786  accuracy: 0.39 0.81 0.93\n",
      "[ 61900] loss:  0.00761  accuracy: 0.41 0.82 0.93\n",
      "[ 62000] loss:  0.00782  accuracy: 0.39 0.81 0.93\n",
      "[ 62100] loss:  0.00824  accuracy: 0.37 0.79 0.93\n",
      "[ 62200] loss:  0.00794  accuracy: 0.40 0.81 0.93\n",
      "[ 62300] loss:  0.00781  accuracy: 0.39 0.81 0.93\n",
      "[ 62400] loss:  0.00778  accuracy: 0.39 0.81 0.93\n",
      "[ 62500] loss:  0.00799  accuracy: 0.40 0.81 0.93\n",
      "[ 62600] loss:  0.00875  accuracy: 0.34 0.78 0.92\n",
      "[ 62700] loss:  0.00789  accuracy: 0.38 0.81 0.93\n",
      "[ 62800] loss:  0.00767  accuracy: 0.40 0.82 0.93\n",
      "[ 62900] loss:  0.00780  accuracy: 0.39 0.81 0.93\n",
      "[ 63000] loss:  0.00777  accuracy: 0.40 0.81 0.93\n",
      "[ 63100] loss:  0.00771  accuracy: 0.40 0.81 0.93\n",
      "[ 63200] loss:  0.00762  accuracy: 0.40 0.82 0.93\n",
      "[ 63300] loss:  0.00765  accuracy: 0.39 0.82 0.94\n",
      "[ 63400] loss:  0.00782  accuracy: 0.39 0.81 0.93\n",
      "[ 63500] loss:  0.00762  accuracy: 0.39 0.81 0.93\n",
      "[ 63600] loss:  0.00776  accuracy: 0.41 0.81 0.93\n",
      "[ 63700] loss:  0.00762  accuracy: 0.40 0.81 0.93\n",
      "[ 63800] loss:  0.00751  accuracy: 0.40 0.82 0.94\n",
      "[ 63900] loss:  0.00756  accuracy: 0.40 0.81 0.94\n",
      "[ 64000] loss:  0.00752  accuracy: 0.39 0.81 0.93\n",
      "[ 64100] loss:  0.00770  accuracy: 0.39 0.81 0.93\n",
      "[ 64200] loss:  0.00751  accuracy: 0.40 0.82 0.93\n",
      "[ 64300] loss:  0.00726  accuracy: 0.43 0.83 0.94\n",
      "[ 64400] loss:  0.00753  accuracy: 0.40 0.82 0.94\n",
      "[ 64500] loss:  0.00794  accuracy: 0.37 0.80 0.93\n",
      "[ 64600] loss:  0.00772  accuracy: 0.39 0.81 0.93\n",
      "[ 64700] loss:  0.00752  accuracy: 0.40 0.81 0.93\n",
      "[ 64800] loss:  0.00745  accuracy: 0.40 0.82 0.94\n",
      "[ 64900] loss:  0.00764  accuracy: 0.41 0.81 0.94\n",
      "[ 65000] loss:  0.00827  accuracy: 0.35 0.79 0.93\n",
      "[ 65100] loss:  0.00761  accuracy: 0.40 0.82 0.94\n",
      "[ 65200] loss:  0.00748  accuracy: 0.41 0.82 0.93\n",
      "[ 65300] loss:  0.00758  accuracy: 0.40 0.81 0.93\n",
      "[ 65400] loss:  0.00750  accuracy: 0.40 0.82 0.94\n",
      "[ 65500] loss:  0.00743  accuracy: 0.40 0.81 0.93\n",
      "[ 65600] loss:  0.00734  accuracy: 0.41 0.82 0.94\n",
      "[ 65700] loss:  0.00735  accuracy: 0.40 0.82 0.94\n",
      "[ 65800] loss:  0.00758  accuracy: 0.40 0.81 0.94\n",
      "[ 65900] loss:  0.00732  accuracy: 0.40 0.82 0.94\n",
      "[ 66000] loss:  0.00739  accuracy: 0.42 0.82 0.94\n",
      "[ 66100] loss:  0.00735  accuracy: 0.41 0.82 0.94\n",
      "[ 66200] loss:  0.00724  accuracy: 0.41 0.83 0.94\n",
      "[ 66300] loss:  0.00735  accuracy: 0.40 0.82 0.94\n",
      "[ 66400] loss:  0.00719  accuracy: 0.40 0.81 0.94\n",
      "[ 66500] loss:  0.00740  accuracy: 0.40 0.82 0.94\n",
      "[ 66600] loss:  0.00723  accuracy: 0.41 0.82 0.94\n",
      "[ 66700] loss:  0.00694  accuracy: 0.44 0.83 0.94\n",
      "[ 66800] loss:  0.00736  accuracy: 0.40 0.82 0.94\n",
      "[ 66900] loss:  0.00761  accuracy: 0.38 0.80 0.93\n",
      "[ 67000] loss:  0.00744  accuracy: 0.40 0.82 0.94\n",
      "[ 67100] loss:  0.00723  accuracy: 0.42 0.82 0.94\n",
      "[ 67200] loss:  0.00729  accuracy: 0.40 0.82 0.94\n",
      "[ 67300] loss:  0.00744  accuracy: 0.41 0.82 0.94\n",
      "[ 67400] loss:  0.00804  accuracy: 0.36 0.80 0.93\n",
      "[ 67500] loss:  0.00727  accuracy: 0.40 0.82 0.94\n",
      "[ 67600] loss:  0.00709  accuracy: 0.42 0.83 0.94\n",
      "[ 67700] loss:  0.00728  accuracy: 0.40 0.81 0.94\n",
      "[ 67800] loss:  0.00715  accuracy: 0.41 0.82 0.94\n",
      "[ 67900] loss:  0.00717  accuracy: 0.40 0.82 0.94\n",
      "[ 68000] loss:  0.00707  accuracy: 0.41 0.83 0.94\n",
      "[ 68100] loss:  0.00707  accuracy: 0.42 0.83 0.94\n",
      "[ 68200] loss:  0.00740  accuracy: 0.40 0.82 0.94\n",
      "[ 68300] loss:  0.00690  accuracy: 0.42 0.83 0.94\n",
      "[ 68400] loss:  0.00709  accuracy: 0.42 0.82 0.94\n",
      "[ 68500] loss:  0.00706  accuracy: 0.41 0.82 0.94\n",
      "[ 68600] loss:  0.00693  accuracy: 0.42 0.83 0.94\n",
      "[ 68700] loss:  0.00703  accuracy: 0.41 0.83 0.94\n",
      "[ 68800] loss:  0.00690  accuracy: 0.41 0.82 0.94\n",
      "[ 68900] loss:  0.00707  accuracy: 0.41 0.83 0.94\n",
      "[ 69000] loss:  0.00691  accuracy: 0.41 0.83 0.94\n",
      "[ 69100] loss:  0.00664  accuracy: 0.45 0.84 0.95\n",
      "[ 69200] loss:  0.00689  accuracy: 0.41 0.83 0.94\n",
      "[ 69300] loss:  0.00723  accuracy: 0.40 0.81 0.94\n",
      "[ 69400] loss:  0.00712  accuracy: 0.41 0.82 0.94\n",
      "[ 69500] loss:  0.00687  accuracy: 0.43 0.83 0.94\n",
      "[ 69600] loss:  0.00696  accuracy: 0.41 0.83 0.94\n",
      "[ 69700] loss:  0.00707  accuracy: 0.42 0.83 0.94\n",
      "[ 69800] loss:  0.00764  accuracy: 0.36 0.81 0.94\n",
      "[ 69900] loss:  0.00705  accuracy: 0.40 0.83 0.94\n",
      "[ 70000] loss:  0.00668  accuracy: 0.45 0.84 0.94\n",
      "[ 70100] loss:  0.00701  accuracy: 0.40 0.82 0.94\n",
      "[ 70200] loss:  0.00681  accuracy: 0.42 0.83 0.94\n",
      "[ 70300] loss:  0.00683  accuracy: 0.41 0.83 0.94\n",
      "[ 70400] loss:  0.00673  accuracy: 0.42 0.83 0.94\n",
      "[ 70500] loss:  0.00676  accuracy: 0.42 0.84 0.95\n",
      "[ 70600] loss:  0.00703  accuracy: 0.40 0.82 0.94\n",
      "[ 70700] loss:  0.00661  accuracy: 0.42 0.83 0.95\n",
      "[ 70800] loss:  0.00678  accuracy: 0.43 0.83 0.94\n",
      "[ 70900] loss:  0.00674  accuracy: 0.42 0.83 0.95\n",
      "[ 71000] loss:  0.00663  accuracy: 0.43 0.84 0.95\n",
      "[ 71100] loss:  0.00676  accuracy: 0.42 0.83 0.95\n",
      "[ 71200] loss:  0.00655  accuracy: 0.41 0.83 0.95\n",
      "[ 71300] loss:  0.00667  accuracy: 0.43 0.84 0.94\n",
      "[ 71400] loss:  0.00652  accuracy: 0.42 0.84 0.95\n",
      "[ 71500] loss:  0.00630  accuracy: 0.45 0.84 0.95\n",
      "[ 71600] loss:  0.00637  accuracy: 0.43 0.84 0.95\n",
      "[ 71700] loss:  0.00685  accuracy: 0.40 0.82 0.94\n",
      "[ 71800] loss:  0.00668  accuracy: 0.42 0.83 0.95\n",
      "[ 71900] loss:  0.00645  accuracy: 0.44 0.84 0.95\n",
      "[ 72000] loss:  0.00659  accuracy: 0.42 0.84 0.95\n",
      "[ 72100] loss:  0.00673  accuracy: 0.42 0.83 0.94\n",
      "[ 72200] loss:  0.00706  accuracy: 0.38 0.82 0.94\n",
      "[ 72300] loss:  0.00664  accuracy: 0.42 0.84 0.95\n",
      "[ 72400] loss:  0.00619  accuracy: 0.46 0.85 0.95\n",
      "[ 72500] loss:  0.00652  accuracy: 0.42 0.84 0.95\n",
      "[ 72600] loss:  0.00662  accuracy: 0.42 0.83 0.95\n",
      "[ 72700] loss:  0.00644  accuracy: 0.41 0.83 0.95\n",
      "[ 72800] loss:  0.00628  accuracy: 0.44 0.84 0.95\n",
      "[ 72900] loss:  0.00630  accuracy: 0.43 0.85 0.95\n",
      "[ 73000] loss:  0.00652  accuracy: 0.42 0.84 0.95\n",
      "[ 73100] loss:  0.00609  accuracy: 0.44 0.85 0.95\n",
      "[ 73200] loss:  0.00627  accuracy: 0.44 0.84 0.95\n",
      "[ 73300] loss:  0.00626  accuracy: 0.43 0.84 0.95\n",
      "[ 73400] loss:  0.00622  accuracy: 0.44 0.85 0.95\n",
      "[ 73500] loss:  0.00633  accuracy: 0.42 0.84 0.95\n",
      "[ 73600] loss:  0.00614  accuracy: 0.43 0.84 0.95\n",
      "[ 73700] loss:  0.00617  accuracy: 0.45 0.85 0.95\n",
      "[ 73800] loss:  0.00607  accuracy: 0.43 0.85 0.96\n",
      "[ 73900] loss:  0.00587  accuracy: 0.46 0.85 0.96\n",
      "[ 74000] loss:  0.00595  accuracy: 0.44 0.85 0.96\n",
      "[ 74100] loss:  0.00624  accuracy: 0.42 0.84 0.95\n",
      "[ 74200] loss:  0.00612  accuracy: 0.43 0.85 0.95\n",
      "[ 74300] loss:  0.00594  accuracy: 0.45 0.85 0.96\n",
      "[ 74400] loss:  0.00594  accuracy: 0.44 0.86 0.96\n",
      "[ 74500] loss:  0.00612  accuracy: 0.44 0.85 0.95\n",
      "[ 74600] loss:  0.00628  accuracy: 0.40 0.84 0.95\n",
      "[ 74700] loss:  0.00618  accuracy: 0.43 0.85 0.95\n",
      "[ 74800] loss:  0.00577  accuracy: 0.46 0.86 0.96\n",
      "[ 74900] loss:  0.00602  accuracy: 0.43 0.85 0.95\n",
      "[ 75000] loss:  0.00585  accuracy: 0.45 0.86 0.96\n",
      "[ 75100] loss:  0.00580  accuracy: 0.43 0.85 0.95\n",
      "[ 75200] loss:  0.00590  accuracy: 0.44 0.85 0.96\n",
      "[ 75300] loss:  0.00584  accuracy: 0.44 0.86 0.96\n",
      "[ 75400] loss:  0.00588  accuracy: 0.44 0.86 0.96\n",
      "[ 75500] loss:  0.00565  accuracy: 0.44 0.86 0.96\n",
      "[ 75600] loss:  0.00581  accuracy: 0.43 0.85 0.96\n",
      "[ 75700] loss:  0.00576  accuracy: 0.43 0.85 0.96\n",
      "[ 75800] loss:  0.00570  accuracy: 0.45 0.86 0.96\n",
      "[ 75900] loss:  0.00576  accuracy: 0.43 0.86 0.96\n",
      "[ 76000] loss:  0.00563  accuracy: 0.44 0.85 0.96\n",
      "[ 76100] loss:  0.00558  accuracy: 0.46 0.86 0.96\n",
      "[ 76200] loss:  0.00557  accuracy: 0.45 0.86 0.96\n",
      "[ 76300] loss:  0.00537  accuracy: 0.47 0.87 0.96\n",
      "[ 76400] loss:  0.00539  accuracy: 0.45 0.87 0.96\n",
      "[ 76500] loss:  0.00566  accuracy: 0.43 0.85 0.96\n",
      "[ 76600] loss:  0.00556  accuracy: 0.44 0.86 0.96\n",
      "[ 76700] loss:  0.00536  accuracy: 0.47 0.87 0.96\n",
      "[ 76800] loss:  0.00542  accuracy: 0.45 0.87 0.96\n",
      "[ 76900] loss:  0.00555  accuracy: 0.46 0.86 0.96\n",
      "[ 77000] loss:  0.00552  accuracy: 0.44 0.87 0.96\n",
      "[ 77100] loss:  0.00547  accuracy: 0.45 0.86 0.96\n",
      "[ 77200] loss:  0.00533  accuracy: 0.47 0.87 0.96\n",
      "[ 77300] loss:  0.00546  accuracy: 0.45 0.86 0.96\n",
      "[ 77400] loss:  0.00530  accuracy: 0.46 0.87 0.97\n",
      "[ 77500] loss:  0.00525  accuracy: 0.45 0.87 0.96\n",
      "[ 77600] loss:  0.00546  accuracy: 0.43 0.87 0.96\n",
      "[ 77700] loss:  0.00539  accuracy: 0.45 0.87 0.97\n",
      "[ 77800] loss:  0.00533  accuracy: 0.46 0.87 0.96\n",
      "[ 77900] loss:  0.00511  accuracy: 0.46 0.87 0.97\n",
      "[ 78000] loss:  0.00524  accuracy: 0.45 0.86 0.97\n",
      "[ 78100] loss:  0.00529  accuracy: 0.44 0.87 0.97\n",
      "[ 78200] loss:  0.00510  accuracy: 0.48 0.88 0.97\n",
      "[ 78300] loss:  0.00518  accuracy: 0.46 0.87 0.97\n",
      "[ 78400] loss:  0.00516  accuracy: 0.45 0.87 0.97\n",
      "[ 78500] loss:  0.00504  accuracy: 0.48 0.87 0.97\n",
      "[ 78600] loss:  0.00505  accuracy: 0.47 0.88 0.97\n",
      "[ 78700] loss:  0.00490  accuracy: 0.48 0.88 0.97\n",
      "[ 78800] loss:  0.00496  accuracy: 0.45 0.88 0.97\n",
      "[ 78900] loss:  0.00510  accuracy: 0.45 0.87 0.97\n",
      "[ 79000] loss:  0.00496  accuracy: 0.47 0.88 0.97\n",
      "[ 79100] loss:  0.00492  accuracy: 0.47 0.88 0.97\n",
      "[ 79200] loss:  0.00495  accuracy: 0.46 0.88 0.97\n",
      "[ 79300] loss:  0.00497  accuracy: 0.48 0.88 0.97\n",
      "[ 79400] loss:  0.00492  accuracy: 0.47 0.88 0.97\n",
      "[ 79500] loss:  0.00489  accuracy: 0.47 0.88 0.97\n",
      "[ 79600] loss:  0.00479  accuracy: 0.49 0.88 0.97\n",
      "[ 79700] loss:  0.00494  accuracy: 0.46 0.87 0.97\n",
      "[ 79800] loss:  0.00482  accuracy: 0.48 0.88 0.97\n",
      "[ 79900] loss:  0.00476  accuracy: 0.48 0.88 0.97\n",
      "[ 80000] loss:  0.00484  accuracy: 0.47 0.88 0.97\n",
      "[ 80100] loss:  0.00494  accuracy: 0.46 0.88 0.97\n",
      "[ 80200] loss:  0.00478  accuracy: 0.48 0.88 0.97\n",
      "[ 80300] loss:  0.00465  accuracy: 0.47 0.88 0.97\n",
      "[ 80400] loss:  0.00469  accuracy: 0.48 0.88 0.97\n",
      "[ 80500] loss:  0.00478  accuracy: 0.46 0.88 0.97\n",
      "[ 80600] loss:  0.00460  accuracy: 0.50 0.89 0.97\n",
      "[ 80700] loss:  0.00469  accuracy: 0.47 0.89 0.97\n",
      "[ 80800] loss:  0.00468  accuracy: 0.47 0.88 0.97\n",
      "[ 80900] loss:  0.00460  accuracy: 0.48 0.89 0.97\n",
      "[ 81000] loss:  0.00470  accuracy: 0.48 0.88 0.97\n",
      "[ 81100] loss:  0.00441  accuracy: 0.50 0.89 0.97\n",
      "[ 81200] loss:  0.00443  accuracy: 0.48 0.89 0.98\n",
      "[ 81300] loss:  0.00464  accuracy: 0.47 0.88 0.97\n",
      "[ 81400] loss:  0.00447  accuracy: 0.48 0.89 0.97\n",
      "[ 81500] loss:  0.00446  accuracy: 0.48 0.89 0.98\n",
      "[ 81600] loss:  0.00438  accuracy: 0.50 0.89 0.98\n",
      "[ 81700] loss:  0.00458  accuracy: 0.48 0.89 0.97\n",
      "[ 81800] loss:  0.00450  accuracy: 0.48 0.89 0.97\n",
      "[ 81900] loss:  0.00433  accuracy: 0.48 0.89 0.98\n",
      "[ 82000] loss:  0.00432  accuracy: 0.51 0.89 0.97\n",
      "[ 82100] loss:  0.00452  accuracy: 0.47 0.89 0.97\n",
      "[ 82200] loss:  0.00437  accuracy: 0.50 0.89 0.98\n",
      "[ 82300] loss:  0.00428  accuracy: 0.49 0.89 0.97\n",
      "[ 82400] loss:  0.00429  accuracy: 0.50 0.90 0.98\n",
      "[ 82500] loss:  0.00446  accuracy: 0.48 0.89 0.98\n",
      "[ 82600] loss:  0.00431  accuracy: 0.49 0.89 0.98\n",
      "[ 82700] loss:  0.00420  accuracy: 0.49 0.90 0.98\n",
      "[ 82800] loss:  0.00420  accuracy: 0.50 0.90 0.98\n",
      "[ 82900] loss:  0.00427  accuracy: 0.48 0.89 0.98\n",
      "[ 83000] loss:  0.00417  accuracy: 0.50 0.90 0.98\n",
      "[ 83100] loss:  0.00414  accuracy: 0.49 0.90 0.98\n",
      "[ 83200] loss:  0.00512  accuracy: 0.44 0.86 0.96\n",
      "[ 83300] loss:  0.00407  accuracy: 0.51 0.90 0.98\n",
      "[ 83400] loss:  0.00411  accuracy: 0.51 0.90 0.98\n",
      "[ 83500] loss:  0.00392  accuracy: 0.52 0.91 0.98\n",
      "[ 83600] loss:  0.00392  accuracy: 0.51 0.91 0.98\n",
      "[ 83700] loss:  0.00409  accuracy: 0.50 0.90 0.98\n",
      "[ 83800] loss:  0.00398  accuracy: 0.50 0.90 0.98\n",
      "[ 83900] loss:  0.00403  accuracy: 0.50 0.90 0.98\n",
      "[ 84000] loss:  0.00395  accuracy: 0.52 0.91 0.98\n",
      "[ 84100] loss:  0.00411  accuracy: 0.50 0.90 0.98\n",
      "[ 84200] loss:  0.00399  accuracy: 0.50 0.91 0.98\n",
      "[ 84300] loss:  0.00386  accuracy: 0.51 0.91 0.98\n",
      "[ 84400] loss:  0.00386  accuracy: 0.51 0.91 0.98\n",
      "[ 84500] loss:  0.00406  accuracy: 0.48 0.90 0.98\n",
      "[ 84600] loss:  0.00394  accuracy: 0.52 0.91 0.98\n",
      "[ 84700] loss:  0.00383  accuracy: 0.51 0.90 0.98\n",
      "[ 84800] loss:  0.00383  accuracy: 0.52 0.91 0.98\n",
      "[ 84900] loss:  0.00388  accuracy: 0.50 0.91 0.98\n",
      "[ 85000] loss:  0.00372  accuracy: 0.53 0.91 0.98\n",
      "[ 85100] loss:  0.00370  accuracy: 0.51 0.91 0.98\n",
      "[ 85200] loss:  0.00367  accuracy: 0.53 0.91 0.98\n",
      "[ 85300] loss:  0.00375  accuracy: 0.51 0.91 0.98\n",
      "[ 85400] loss:  0.00369  accuracy: 0.52 0.91 0.98\n",
      "[ 85500] loss:  0.00365  accuracy: 0.52 0.91 0.98\n",
      "[ 85600] loss:  0.00368  accuracy: 0.52 0.91 0.98\n",
      "[ 85700] loss:  0.00356  accuracy: 0.54 0.91 0.98\n",
      "[ 85800] loss:  0.00357  accuracy: 0.53 0.92 0.99\n",
      "[ 85900] loss:  0.00347  accuracy: 0.54 0.92 0.99\n",
      "[ 86000] loss:  0.00340  accuracy: 0.53 0.92 0.99\n",
      "[ 86100] loss:  0.00350  accuracy: 0.54 0.92 0.99\n",
      "[ 86200] loss:  0.00353  accuracy: 0.52 0.92 0.98\n",
      "[ 86300] loss:  0.00348  accuracy: 0.53 0.92 0.98\n",
      "[ 86400] loss:  0.00344  accuracy: 0.54 0.92 0.99\n",
      "[ 86500] loss:  0.00358  accuracy: 0.52 0.92 0.98\n",
      "[ 86600] loss:  0.00346  accuracy: 0.53 0.92 0.98\n",
      "[ 86700] loss:  0.00341  accuracy: 0.53 0.92 0.99\n",
      "[ 86800] loss:  0.00330  accuracy: 0.54 0.92 0.99\n",
      "[ 86900] loss:  0.00343  accuracy: 0.52 0.91 0.98\n",
      "[ 87000] loss:  0.00341  accuracy: 0.55 0.92 0.99\n",
      "[ 87100] loss:  0.00328  accuracy: 0.54 0.92 0.99\n",
      "[ 87200] loss:  0.00328  accuracy: 0.55 0.92 0.99\n",
      "[ 87300] loss:  0.00328  accuracy: 0.53 0.92 0.99\n",
      "[ 87400] loss:  0.00323  accuracy: 0.55 0.92 0.99\n",
      "[ 87500] loss:  0.00313  accuracy: 0.55 0.93 0.99\n",
      "[ 87600] loss:  0.00315  accuracy: 0.55 0.93 0.99\n",
      "[ 87700] loss:  0.00314  accuracy: 0.54 0.93 0.99\n",
      "[ 87800] loss:  0.00321  accuracy: 0.55 0.92 0.99\n",
      "[ 87900] loss:  0.00313  accuracy: 0.54 0.93 0.99\n",
      "[ 88000] loss:  0.00316  accuracy: 0.54 0.92 0.99\n",
      "[ 88100] loss:  0.00307  accuracy: 0.55 0.93 0.99\n",
      "[ 88200] loss:  0.00300  accuracy: 0.57 0.93 0.99\n",
      "[ 88300] loss:  0.00294  accuracy: 0.57 0.93 0.99\n",
      "[ 88400] loss:  0.00288  accuracy: 0.58 0.94 0.99\n",
      "[ 88500] loss:  0.00295  accuracy: 0.57 0.93 0.99\n",
      "[ 88600] loss:  0.00294  accuracy: 0.56 0.93 0.99\n",
      "[ 88700] loss:  0.00297  accuracy: 0.56 0.93 0.99\n",
      "[ 88800] loss:  0.00300  accuracy: 0.56 0.93 0.99\n",
      "[ 88900] loss:  0.00304  accuracy: 0.55 0.93 0.99\n",
      "[ 89000] loss:  0.00293  accuracy: 0.56 0.94 0.99\n",
      "[ 89100] loss:  0.00299  accuracy: 0.55 0.93 0.99\n",
      "[ 89200] loss:  0.00280  accuracy: 0.58 0.94 0.99\n",
      "[ 89300] loss:  0.00285  accuracy: 0.56 0.93 0.99\n",
      "[ 89400] loss:  0.00292  accuracy: 0.56 0.93 0.99\n",
      "[ 89500] loss:  0.00278  accuracy: 0.57 0.94 0.99\n",
      "[ 89600] loss:  0.00280  accuracy: 0.58 0.94 0.99\n",
      "[ 89700] loss:  0.00280  accuracy: 0.56 0.94 0.99\n",
      "[ 89800] loss:  0.00278  accuracy: 0.58 0.94 0.99\n",
      "[ 89900] loss:  0.00270  accuracy: 0.58 0.94 0.99\n",
      "[ 90000] loss:  0.00271  accuracy: 0.58 0.94 0.99\n",
      "[ 90100] loss:  0.00269  accuracy: 0.57 0.94 0.99\n",
      "[ 90200] loss:  0.00267  accuracy: 0.59 0.94 0.99\n",
      "[ 90300] loss:  0.00265  accuracy: 0.58 0.94 0.99\n",
      "[ 90400] loss:  0.00274  accuracy: 0.57 0.94 0.99\n",
      "[ 90500] loss:  0.00264  accuracy: 0.59 0.94 0.99\n",
      "[ 90600] loss:  0.00255  accuracy: 0.60 0.94 0.99\n",
      "[ 90700] loss:  0.00250  accuracy: 0.61 0.95 0.99\n",
      "[ 90800] loss:  0.00247  accuracy: 0.61 0.95 0.99\n",
      "[ 90900] loss:  0.00249  accuracy: 0.61 0.94 0.99\n",
      "[ 91000] loss:  0.00254  accuracy: 0.59 0.95 0.99\n",
      "[ 91100] loss:  0.00259  accuracy: 0.59 0.94 0.99\n",
      "[ 91200] loss:  0.00261  accuracy: 0.59 0.94 0.99\n",
      "[ 91300] loss:  0.00260  accuracy: 0.58 0.94 0.99\n",
      "[ 91400] loss:  0.00242  accuracy: 0.61 0.95 0.99\n",
      "[ 91500] loss:  0.00259  accuracy: 0.57 0.94 0.99\n",
      "[ 91600] loss:  0.00239  accuracy: 0.62 0.95 0.99\n",
      "[ 91700] loss:  0.00245  accuracy: 0.59 0.94 0.99\n",
      "[ 91800] loss:  0.00248  accuracy: 0.59 0.95 0.99\n",
      "[ 91900] loss:  0.00237  accuracy: 0.60 0.95 0.99\n",
      "[ 92000] loss:  0.00239  accuracy: 0.61 0.95 0.99\n",
      "[ 92100] loss:  0.00235  accuracy: 0.60 0.95 0.99\n",
      "[ 92200] loss:  0.00239  accuracy: 0.61 0.95 0.99\n",
      "[ 92300] loss:  0.00224  accuracy: 0.63 0.95 0.99\n",
      "[ 92400] loss:  0.00233  accuracy: 0.60 0.95 0.99\n",
      "[ 92500] loss:  0.00235  accuracy: 0.59 0.95 0.99\n",
      "[ 92600] loss:  0.00227  accuracy: 0.63 0.95 0.99\n",
      "[ 92700] loss:  0.00236  accuracy: 0.60 0.95 0.99\n",
      "[ 92800] loss:  0.00242  accuracy: 0.59 0.95 0.99\n",
      "[ 92900] loss:  0.00228  accuracy: 0.61 0.95 0.99\n",
      "[ 93000] loss:  0.00217  accuracy: 0.62 0.96 0.99\n",
      "[ 93100] loss:  0.00212  accuracy: 0.65 0.96 1.00\n",
      "[ 93200] loss:  0.00214  accuracy: 0.64 0.96 0.99\n",
      "[ 93300] loss:  0.00212  accuracy: 0.64 0.96 1.00\n",
      "[ 93400] loss:  0.00216  accuracy: 0.62 0.96 0.99\n",
      "[ 93500] loss:  0.00220  accuracy: 0.62 0.95 0.99\n",
      "[ 93600] loss:  0.00227  accuracy: 0.62 0.95 1.00\n",
      "[ 93700] loss:  0.00218  accuracy: 0.61 0.95 0.99\n",
      "[ 93800] loss:  0.00206  accuracy: 0.65 0.96 0.99\n",
      "[ 93900] loss:  0.00222  accuracy: 0.60 0.95 0.99\n",
      "[ 94000] loss:  0.00210  accuracy: 0.63 0.96 0.99\n",
      "[ 94100] loss:  0.00211  accuracy: 0.62 0.96 0.99\n",
      "[ 94200] loss:  0.00214  accuracy: 0.62 0.96 1.00\n",
      "[ 94300] loss:  0.00203  accuracy: 0.64 0.96 1.00\n",
      "[ 94400] loss:  0.00205  accuracy: 0.64 0.96 1.00\n",
      "[ 94500] loss:  0.00200  accuracy: 0.64 0.96 1.00\n",
      "[ 94600] loss:  0.00207  accuracy: 0.64 0.96 0.99\n",
      "[ 94700] loss:  0.00191  accuracy: 0.65 0.96 1.00\n",
      "[ 94800] loss:  0.00196  accuracy: 0.65 0.96 1.00\n",
      "[ 94900] loss:  0.00199  accuracy: 0.63 0.96 0.99\n",
      "[ 95000] loss:  0.00199  accuracy: 0.65 0.96 1.00\n",
      "[ 95100] loss:  0.00209  accuracy: 0.61 0.96 1.00\n",
      "[ 95200] loss:  0.00207  accuracy: 0.62 0.96 0.99\n",
      "[ 95300] loss:  0.00197  accuracy: 0.64 0.96 1.00\n",
      "[ 95400] loss:  0.00189  accuracy: 0.65 0.96 1.00\n",
      "[ 95500] loss:  0.00181  accuracy: 0.68 0.96 1.00\n",
      "[ 95600] loss:  0.00185  accuracy: 0.67 0.96 1.00\n",
      "[ 95700] loss:  0.00183  accuracy: 0.67 0.97 1.00\n",
      "[ 95800] loss:  0.00189  accuracy: 0.64 0.96 1.00\n",
      "[ 95900] loss:  0.00189  accuracy: 0.66 0.96 1.00\n",
      "[ 96000] loss:  0.00197  accuracy: 0.64 0.96 1.00\n",
      "[ 96100] loss:  0.00186  accuracy: 0.65 0.96 1.00\n",
      "[ 96200] loss:  0.00180  accuracy: 0.68 0.97 1.00\n",
      "[ 96300] loss:  0.00186  accuracy: 0.65 0.96 1.00\n",
      "[ 96400] loss:  0.00185  accuracy: 0.66 0.97 1.00\n",
      "[ 96500] loss:  0.00186  accuracy: 0.65 0.96 1.00\n",
      "[ 96600] loss:  0.00188  accuracy: 0.64 0.96 1.00\n",
      "[ 96700] loss:  0.00175  accuracy: 0.67 0.97 1.00\n",
      "[ 96800] loss:  0.00174  accuracy: 0.68 0.97 1.00\n",
      "[ 96900] loss:  0.00174  accuracy: 0.67 0.97 1.00\n",
      "[ 97000] loss:  0.00197  accuracy: 0.62 0.96 1.00\n",
      "[ 97100] loss:  0.00167  accuracy: 0.68 0.97 1.00\n",
      "[ 97200] loss:  0.00172  accuracy: 0.67 0.97 1.00\n",
      "[ 97300] loss:  0.00172  accuracy: 0.66 0.97 1.00\n",
      "[ 97400] loss:  0.00176  accuracy: 0.67 0.96 1.00\n",
      "[ 97500] loss:  0.00183  accuracy: 0.64 0.96 1.00\n",
      "[ 97600] loss:  0.00183  accuracy: 0.64 0.96 1.00\n",
      "[ 97700] loss:  0.00171  accuracy: 0.68 0.97 1.00\n",
      "[ 97800] loss:  0.00164  accuracy: 0.68 0.97 1.00\n",
      "[ 97900] loss:  0.00158  accuracy: 0.70 0.97 1.00\n",
      "[ 98000] loss:  0.00160  accuracy: 0.70 0.97 1.00\n",
      "[ 98100] loss:  0.00161  accuracy: 0.69 0.97 1.00\n",
      "[ 98200] loss:  0.00168  accuracy: 0.66 0.97 1.00\n",
      "[ 98300] loss:  0.00165  accuracy: 0.69 0.97 1.00\n",
      "[ 98400] loss:  0.00169  accuracy: 0.67 0.97 1.00\n",
      "[ 98500] loss:  0.00164  accuracy: 0.68 0.97 1.00\n",
      "[ 98600] loss:  0.00159  accuracy: 0.69 0.97 1.00\n",
      "[ 98700] loss:  0.00165  accuracy: 0.67 0.97 1.00\n",
      "[ 98800] loss:  0.00165  accuracy: 0.68 0.97 1.00\n",
      "[ 98900] loss:  0.00164  accuracy: 0.67 0.97 1.00\n",
      "[ 99000] loss:  0.00166  accuracy: 0.66 0.97 1.00\n",
      "[ 99100] loss:  0.00151  accuracy: 0.69 0.97 1.00\n",
      "[ 99200] loss:  0.00151  accuracy: 0.71 0.97 1.00\n",
      "[ 99300] loss:  0.00152  accuracy: 0.71 0.97 1.00\n",
      "[ 99400] loss:  0.00160  accuracy: 0.68 0.97 1.00\n",
      "[ 99500] loss:  0.00146  accuracy: 0.71 0.98 1.00\n",
      "[ 99600] loss:  0.00153  accuracy: 0.68 0.97 1.00\n",
      "[ 99700] loss:  0.00150  accuracy: 0.69 0.97 1.00\n",
      "[ 99800] loss:  0.00153  accuracy: 0.70 0.97 1.00\n",
      "[ 99900] loss:  0.00160  accuracy: 0.67 0.97 1.00\n",
      "[100000] loss:  0.00156  accuracy: 0.68 0.97 1.00\n",
      "[100100] loss:  0.00153  accuracy: 0.70 0.97 1.00\n",
      "[100200] loss:  0.00146  accuracy: 0.71 0.98 1.00\n",
      "[100300] loss:  0.00140  accuracy: 0.72 0.98 1.00\n",
      "[100400] loss:  0.00142  accuracy: 0.72 0.98 1.00\n",
      "[100500] loss:  0.00144  accuracy: 0.71 0.98 1.00\n",
      "[100600] loss:  0.00148  accuracy: 0.69 0.97 1.00\n",
      "[100700] loss:  0.00145  accuracy: 0.71 0.98 1.00\n",
      "[100800] loss:  0.00151  accuracy: 0.69 0.97 1.00\n",
      "[100900] loss:  0.00143  accuracy: 0.71 0.98 1.00\n",
      "[101000] loss:  0.00141  accuracy: 0.72 0.98 1.00\n",
      "[101100] loss:  0.00146  accuracy: 0.70 0.98 1.00\n",
      "[101200] loss:  0.00148  accuracy: 0.70 0.97 1.00\n",
      "[101300] loss:  0.00144  accuracy: 0.69 0.97 1.00\n",
      "[101400] loss:  0.00147  accuracy: 0.68 0.97 1.00\n",
      "[101500] loss:  0.00133  accuracy: 0.72 0.98 1.00\n",
      "[101600] loss:  0.00132  accuracy: 0.74 0.98 1.00\n",
      "[101700] loss:  0.00133  accuracy: 0.73 0.98 1.00\n",
      "[101800] loss:  0.00138  accuracy: 0.72 0.98 1.00\n",
      "[101900] loss:  0.00129  accuracy: 0.72 0.98 1.00\n",
      "[102000] loss:  0.00139  accuracy: 0.70 0.98 1.00\n",
      "[102100] loss:  0.00134  accuracy: 0.71 0.98 1.00\n",
      "[102200] loss:  0.00135  accuracy: 0.72 0.98 1.00\n",
      "[102300] loss:  0.00145  accuracy: 0.68 0.97 1.00\n",
      "[102400] loss:  0.00140  accuracy: 0.70 0.98 1.00\n",
      "[102500] loss:  0.00135  accuracy: 0.72 0.98 1.00\n",
      "[102600] loss:  0.00131  accuracy: 0.73 0.98 1.00\n",
      "[102700] loss:  0.00124  accuracy: 0.75 0.98 1.00\n",
      "[102800] loss:  0.00125  accuracy: 0.74 0.98 1.00\n",
      "[102900] loss:  0.00128  accuracy: 0.72 0.98 1.00\n",
      "[103000] loss:  0.00131  accuracy: 0.71 0.98 1.00\n",
      "[103100] loss:  0.00129  accuracy: 0.73 0.98 1.00\n",
      "[103200] loss:  0.00136  accuracy: 0.70 0.98 1.00\n",
      "[103300] loss:  0.00126  accuracy: 0.74 0.98 1.00\n",
      "[103400] loss:  0.00127  accuracy: 0.73 0.98 1.00\n",
      "[103500] loss:  0.00131  accuracy: 0.72 0.98 1.00\n",
      "[103600] loss:  0.00132  accuracy: 0.72 0.98 1.00\n",
      "[103700] loss:  0.00127  accuracy: 0.72 0.98 1.00\n",
      "[103800] loss:  0.00128  accuracy: 0.71 0.98 1.00\n",
      "[103900] loss:  0.00120  accuracy: 0.74 0.98 1.00\n",
      "[104000] loss:  0.00117  accuracy: 0.76 0.98 1.00\n",
      "[104100] loss:  0.00119  accuracy: 0.76 0.98 1.00\n",
      "[104200] loss:  0.00122  accuracy: 0.74 0.98 1.00\n",
      "[104300] loss:  0.00117  accuracy: 0.74 0.98 1.00\n",
      "[104400] loss:  0.00127  accuracy: 0.71 0.98 1.00\n",
      "[104500] loss:  0.00121  accuracy: 0.72 0.98 1.00\n",
      "[104600] loss:  0.00122  accuracy: 0.74 0.98 1.00\n",
      "[104700] loss:  0.00128  accuracy: 0.71 0.98 1.00\n",
      "[104800] loss:  0.00125  accuracy: 0.72 0.98 1.00\n",
      "[104900] loss:  0.00119  accuracy: 0.75 0.98 1.00\n",
      "[105000] loss:  0.00121  accuracy: 0.74 0.98 1.00\n",
      "[105100] loss:  0.00111  accuracy: 0.76 0.98 1.00\n",
      "[105200] loss:  0.00111  accuracy: 0.76 0.99 1.00\n",
      "[105300] loss:  0.00115  accuracy: 0.74 0.98 1.00\n",
      "[105400] loss:  0.00119  accuracy: 0.73 0.98 1.00\n",
      "[105500] loss:  0.00118  accuracy: 0.73 0.98 1.00\n",
      "[105600] loss:  0.00123  accuracy: 0.72 0.98 1.00\n",
      "[105700] loss:  0.00112  accuracy: 0.76 0.98 1.00\n",
      "[105800] loss:  0.00114  accuracy: 0.74 0.98 1.00\n",
      "[105900] loss:  0.00118  accuracy: 0.74 0.98 1.00\n",
      "[106000] loss:  0.00117  accuracy: 0.74 0.98 1.00\n",
      "[106100] loss:  0.00111  accuracy: 0.75 0.99 1.00\n",
      "[106200] loss:  0.00114  accuracy: 0.73 0.98 1.00\n",
      "[106300] loss:  0.00107  accuracy: 0.76 0.99 1.00\n",
      "[106400] loss:  0.00105  accuracy: 0.78 0.99 1.00\n",
      "[106500] loss:  0.00107  accuracy: 0.77 0.99 1.00\n",
      "[106600] loss:  0.00109  accuracy: 0.76 0.98 1.00\n",
      "[106700] loss:  0.00103  accuracy: 0.76 0.99 1.00\n",
      "[106800] loss:  0.00112  accuracy: 0.73 0.99 1.00\n",
      "[106900] loss:  0.00110  accuracy: 0.73 0.98 1.00\n",
      "[107000] loss:  0.00108  accuracy: 0.76 0.99 1.00\n",
      "[107100] loss:  0.00117  accuracy: 0.72 0.98 1.00\n",
      "[107200] loss:  0.00112  accuracy: 0.74 0.98 1.00\n",
      "[107300] loss:  0.00105  accuracy: 0.77 0.99 1.00\n",
      "[107400] loss:  0.00109  accuracy: 0.76 0.99 1.00\n",
      "[107500] loss:  0.00101  accuracy: 0.77 0.99 1.00\n",
      "[107600] loss:  0.00099  accuracy: 0.78 0.99 1.00\n",
      "[107700] loss:  0.00104  accuracy: 0.76 0.99 1.00\n",
      "[107800] loss:  0.00109  accuracy: 0.74 0.99 1.00\n",
      "[107900] loss:  0.00104  accuracy: 0.76 0.99 1.00\n",
      "[108000] loss:  0.00109  accuracy: 0.75 0.99 1.00\n",
      "[108100] loss:  0.00100  accuracy: 0.78 0.99 1.00\n",
      "[108200] loss:  0.00101  accuracy: 0.77 0.99 1.00\n",
      "[108300] loss:  0.00109  accuracy: 0.75 0.98 1.00\n",
      "[108400] loss:  0.00105  accuracy: 0.76 0.99 1.00\n",
      "[108500] loss:  0.00101  accuracy: 0.76 0.99 1.00\n",
      "[108600] loss:  0.00102  accuracy: 0.76 0.99 1.00\n",
      "[108700] loss:  0.00098  accuracy: 0.77 0.99 1.00\n",
      "[108800] loss:  0.00094  accuracy: 0.79 0.99 1.00\n",
      "[108900] loss:  0.00098  accuracy: 0.77 0.99 1.00\n",
      "[109000] loss:  0.00099  accuracy: 0.77 0.99 1.00\n",
      "[109100] loss:  0.00092  accuracy: 0.78 0.99 1.00\n",
      "[109200] loss:  0.00102  accuracy: 0.74 0.99 1.00\n",
      "[109300] loss:  0.00100  accuracy: 0.75 0.99 1.00\n",
      "[109400] loss:  0.00098  accuracy: 0.77 0.99 1.00\n",
      "[109500] loss:  0.00105  accuracy: 0.74 0.99 1.00\n",
      "[109600] loss:  0.00100  accuracy: 0.76 0.99 1.00\n",
      "[109700] loss:  0.00094  accuracy: 0.78 0.99 1.00\n",
      "[109800] loss:  0.00100  accuracy: 0.77 0.99 1.00\n",
      "[109900] loss:  0.00092  accuracy: 0.79 0.99 1.00\n",
      "[110000] loss:  0.00090  accuracy: 0.79 0.99 1.00\n",
      "[110100] loss:  0.00094  accuracy: 0.78 0.99 1.00\n",
      "[110200] loss:  0.00097  accuracy: 0.76 0.99 1.00\n",
      "[110300] loss:  0.00095  accuracy: 0.78 0.99 1.00\n",
      "[110400] loss:  0.00097  accuracy: 0.77 0.99 1.00\n",
      "[110500] loss:  0.00090  accuracy: 0.80 0.99 1.00\n",
      "[110600] loss:  0.00090  accuracy: 0.79 0.99 1.00\n",
      "[110700] loss:  0.00102  accuracy: 0.74 0.99 1.00\n",
      "[110800] loss:  0.00096  accuracy: 0.78 0.99 1.00\n",
      "[110900] loss:  0.00089  accuracy: 0.79 0.99 1.00\n",
      "[111000] loss:  0.00090  accuracy: 0.79 0.99 1.00\n",
      "[111100] loss:  0.00089  accuracy: 0.78 0.99 1.00\n",
      "[111200] loss:  0.00085  accuracy: 0.81 0.99 1.00\n",
      "[111300] loss:  0.00089  accuracy: 0.79 0.99 1.00\n",
      "[111400] loss:  0.00090  accuracy: 0.78 0.99 1.00\n",
      "[111500] loss:  0.00085  accuracy: 0.79 0.99 1.00\n",
      "[111600] loss:  0.00095  accuracy: 0.75 0.99 1.00\n",
      "[111700] loss:  0.00089  accuracy: 0.78 0.99 1.00\n",
      "[111800] loss:  0.00089  accuracy: 0.78 0.99 1.00\n",
      "[111900] loss:  0.00094  accuracy: 0.76 0.99 1.00\n",
      "[112000] loss:  0.00090  accuracy: 0.78 0.99 1.00\n",
      "[112100] loss:  0.00087  accuracy: 0.79 0.99 1.00\n",
      "[112200] loss:  0.00090  accuracy: 0.79 0.99 1.00\n",
      "[112300] loss:  0.00083  accuracy: 0.80 0.99 1.00\n",
      "[112400] loss:  0.00083  accuracy: 0.80 0.99 1.00\n",
      "[112500] loss:  0.00084  accuracy: 0.80 0.99 1.00\n",
      "[112600] loss:  0.00085  accuracy: 0.78 0.99 1.00\n",
      "[112700] loss:  0.00085  accuracy: 0.80 0.99 1.00\n",
      "[112800] loss:  0.00088  accuracy: 0.78 0.99 1.00\n",
      "[112900] loss:  0.00082  accuracy: 0.81 0.99 1.00\n",
      "[113000] loss:  0.00080  accuracy: 0.81 0.99 1.00\n",
      "[113100] loss:  0.00092  accuracy: 0.76 0.99 1.00\n",
      "[113200] loss:  0.00088  accuracy: 0.79 0.99 1.00\n",
      "[113300] loss:  0.00079  accuracy: 0.81 0.99 1.00\n",
      "[113400] loss:  0.00079  accuracy: 0.81 0.99 1.00\n",
      "[113500] loss:  0.00083  accuracy: 0.79 0.99 1.00\n",
      "[113600] loss:  0.00077  accuracy: 0.82 0.99 1.00\n",
      "[113700] loss:  0.00080  accuracy: 0.80 0.99 1.00\n",
      "[113800] loss:  0.00083  accuracy: 0.79 0.99 1.00\n",
      "[113900] loss:  0.00078  accuracy: 0.80 0.99 1.00\n",
      "[114000] loss:  0.00082  accuracy: 0.79 0.99 1.00\n",
      "[114100] loss:  0.00080  accuracy: 0.79 0.99 1.00\n",
      "[114200] loss:  0.00078  accuracy: 0.81 0.99 1.00\n",
      "[114300] loss:  0.00081  accuracy: 0.79 0.99 1.00\n",
      "[114400] loss:  0.00083  accuracy: 0.79 0.99 1.00\n",
      "[114500] loss:  0.00082  accuracy: 0.79 0.99 1.00\n",
      "[114600] loss:  0.00081  accuracy: 0.80 0.99 1.00\n",
      "[114700] loss:  0.00077  accuracy: 0.81 0.99 1.00\n",
      "[114800] loss:  0.00076  accuracy: 0.81 0.99 1.00\n",
      "[114900] loss:  0.00075  accuracy: 0.82 0.99 1.00\n",
      "[115000] loss:  0.00076  accuracy: 0.81 0.99 1.00\n",
      "[115100] loss:  0.00077  accuracy: 0.81 0.99 1.00\n",
      "[115200] loss:  0.00082  accuracy: 0.78 0.99 1.00\n",
      "[115300] loss:  0.00075  accuracy: 0.82 0.99 1.00\n",
      "[115400] loss:  0.00071  accuracy: 0.82 0.99 1.00\n",
      "[115500] loss:  0.00082  accuracy: 0.78 0.99 1.00\n",
      "[115600] loss:  0.00081  accuracy: 0.79 0.99 1.00\n",
      "[115700] loss:  0.00073  accuracy: 0.82 0.99 1.00\n",
      "[115800] loss:  0.00071  accuracy: 0.83 0.99 1.00\n",
      "[115900] loss:  0.00075  accuracy: 0.80 0.99 1.00\n",
      "[116000] loss:  0.00070  accuracy: 0.83 0.99 1.00\n",
      "[116100] loss:  0.00072  accuracy: 0.82 0.99 1.00\n",
      "[116200] loss:  0.00076  accuracy: 0.80 0.99 1.00\n",
      "[116300] loss:  0.00070  accuracy: 0.82 0.99 1.00\n",
      "[116400] loss:  0.00074  accuracy: 0.81 0.99 1.00\n",
      "[116500] loss:  0.00073  accuracy: 0.81 0.99 1.00\n",
      "[116600] loss:  0.00071  accuracy: 0.82 0.99 1.00\n",
      "[116700] loss:  0.00074  accuracy: 0.80 0.99 1.00\n",
      "[116800] loss:  0.00075  accuracy: 0.80 0.99 1.00\n",
      "[116900] loss:  0.00074  accuracy: 0.81 0.99 1.00\n",
      "[117000] loss:  0.00074  accuracy: 0.81 0.99 1.00\n",
      "[117100] loss:  0.00071  accuracy: 0.82 0.99 1.00\n",
      "[117200] loss:  0.00070  accuracy: 0.82 0.99 1.00\n",
      "[117300] loss:  0.00069  accuracy: 0.83 0.99 1.00\n",
      "[117400] loss:  0.00069  accuracy: 0.82 0.99 1.00\n",
      "[117500] loss:  0.00071  accuracy: 0.82 0.99 1.00\n",
      "[117600] loss:  0.00074  accuracy: 0.80 0.99 1.00\n",
      "[117700] loss:  0.00068  accuracy: 0.83 0.99 1.00\n",
      "[117800] loss:  0.00065  accuracy: 0.84 1.00 1.00\n",
      "[117900] loss:  0.00073  accuracy: 0.80 0.99 1.00\n",
      "[118000] loss:  0.00074  accuracy: 0.81 0.99 1.00\n",
      "[118100] loss:  0.00066  accuracy: 0.84 1.00 1.00\n",
      "[118200] loss:  0.00064  accuracy: 0.84 0.99 1.00\n",
      "[118300] loss:  0.00069  accuracy: 0.81 0.99 1.00\n",
      "[118400] loss:  0.00064  accuracy: 0.84 1.00 1.00\n",
      "[118500] loss:  0.00066  accuracy: 0.83 0.99 1.00\n",
      "[118600] loss:  0.00069  accuracy: 0.82 0.99 1.00\n",
      "[118700] loss:  0.00064  accuracy: 0.84 1.00 1.00\n",
      "[118800] loss:  0.00067  accuracy: 0.82 0.99 1.00\n",
      "[118900] loss:  0.00066  accuracy: 0.83 0.99 1.00\n",
      "[119000] loss:  0.00065  accuracy: 0.84 0.99 1.00\n",
      "[119100] loss:  0.00066  accuracy: 0.83 1.00 1.00\n",
      "[119200] loss:  0.00066  accuracy: 0.82 0.99 1.00\n",
      "[119300] loss:  0.00069  accuracy: 0.81 0.99 1.00\n",
      "[119400] loss:  0.00068  accuracy: 0.83 0.99 1.00\n",
      "[119500] loss:  0.00066  accuracy: 0.82 1.00 1.00\n",
      "[119600] loss:  0.00063  accuracy: 0.84 1.00 1.00\n",
      "[119700] loss:  0.00063  accuracy: 0.84 1.00 1.00\n",
      "[119800] loss:  0.00064  accuracy: 0.83 1.00 1.00\n",
      "[119900] loss:  0.00065  accuracy: 0.83 0.99 1.00\n",
      "[120000] loss:  0.00067  accuracy: 0.82 0.99 1.00\n",
      "[120100] loss:  0.00062  accuracy: 0.84 1.00 1.00\n",
      "[120200] loss:  0.00059  accuracy: 0.85 1.00 1.00\n",
      "[120300] loss:  0.00065  accuracy: 0.82 1.00 1.00\n",
      "[120400] loss:  0.00068  accuracy: 0.82 0.99 1.00\n",
      "[120500] loss:  0.00060  accuracy: 0.85 1.00 1.00\n",
      "[120600] loss:  0.00058  accuracy: 0.85 1.00 1.00\n",
      "[120700] loss:  0.00064  accuracy: 0.82 1.00 1.00\n",
      "[120800] loss:  0.00058  accuracy: 0.85 1.00 1.00\n",
      "[120900] loss:  0.00059  accuracy: 0.85 1.00 1.00\n",
      "[121000] loss:  0.00062  accuracy: 0.83 0.99 1.00\n",
      "[121100] loss:  0.00058  accuracy: 0.84 1.00 1.00\n",
      "[121200] loss:  0.00060  accuracy: 0.83 1.00 1.00\n",
      "[121300] loss:  0.00060  accuracy: 0.84 1.00 1.00\n",
      "[121400] loss:  0.00059  accuracy: 0.85 1.00 1.00\n",
      "[121500] loss:  0.00060  accuracy: 0.84 1.00 1.00\n",
      "[121600] loss:  0.00060  accuracy: 0.84 1.00 1.00\n",
      "[121700] loss:  0.00065  accuracy: 0.82 1.00 1.00\n",
      "[121800] loss:  0.00061  accuracy: 0.84 1.00 1.00\n",
      "[121900] loss:  0.00061  accuracy: 0.83 1.00 1.00\n",
      "[122000] loss:  0.00057  accuracy: 0.85 1.00 1.00\n",
      "[122100] loss:  0.00058  accuracy: 0.85 1.00 1.00\n",
      "[122200] loss:  0.00058  accuracy: 0.85 1.00 1.00\n",
      "[122300] loss:  0.00058  accuracy: 0.84 1.00 1.00\n",
      "[122400] loss:  0.00061  accuracy: 0.83 1.00 1.00\n",
      "[122500] loss:  0.00056  accuracy: 0.86 1.00 1.00\n",
      "[122600] loss:  0.00054  accuracy: 0.86 1.00 1.00\n",
      "[122700] loss:  0.00059  accuracy: 0.84 1.00 1.00\n",
      "[122800] loss:  0.00062  accuracy: 0.83 0.99 1.00\n",
      "[122900] loss:  0.00054  accuracy: 0.87 1.00 1.00\n",
      "[123000] loss:  0.00053  accuracy: 0.87 1.00 1.00\n",
      "[123100] loss:  0.00058  accuracy: 0.84 1.00 1.00\n",
      "[123200] loss:  0.00054  accuracy: 0.85 1.00 1.00\n",
      "[123300] loss:  0.00054  accuracy: 0.86 1.00 1.00\n",
      "[123400] loss:  0.00058  accuracy: 0.84 1.00 1.00\n",
      "[123500] loss:  0.00054  accuracy: 0.85 1.00 1.00\n",
      "[123600] loss:  0.00055  accuracy: 0.85 1.00 1.00\n",
      "[123700] loss:  0.00055  accuracy: 0.85 1.00 1.00\n",
      "[123800] loss:  0.00054  accuracy: 0.86 1.00 1.00\n",
      "[123900] loss:  0.00055  accuracy: 0.85 1.00 1.00\n",
      "[124000] loss:  0.00055  accuracy: 0.85 1.00 1.00\n",
      "[124100] loss:  0.00060  accuracy: 0.83 1.00 1.00\n",
      "[124200] loss:  0.00055  accuracy: 0.86 1.00 1.00\n",
      "[124300] loss:  0.00055  accuracy: 0.84 1.00 1.00\n",
      "[124400] loss:  0.00052  accuracy: 0.86 1.00 1.00\n",
      "[124500] loss:  0.00052  accuracy: 0.87 1.00 1.00\n",
      "[124600] loss:  0.00054  accuracy: 0.86 1.00 1.00\n",
      "[124700] loss:  0.00053  accuracy: 0.86 1.00 1.00\n",
      "[124800] loss:  0.00055  accuracy: 0.85 1.00 1.00\n",
      "[124900] loss:  0.00051  accuracy: 0.87 1.00 1.00\n",
      "[125000] loss:  0.00050  accuracy: 0.87 1.00 1.00\n",
      "[125100] loss:  0.00052  accuracy: 0.86 1.00 1.00\n",
      "[125200] loss:  0.00055  accuracy: 0.85 1.00 1.00\n",
      "[125300] loss:  0.00050  accuracy: 0.87 1.00 1.00\n",
      "[125400] loss:  0.00048  accuracy: 0.88 1.00 1.00\n",
      "[125500] loss:  0.00053  accuracy: 0.85 1.00 1.00\n",
      "[125600] loss:  0.00051  accuracy: 0.86 1.00 1.00\n",
      "[125700] loss:  0.00050  accuracy: 0.87 1.00 1.00\n",
      "[125800] loss:  0.00057  accuracy: 0.83 1.00 1.00\n",
      "[125900] loss:  0.00049  accuracy: 0.86 1.00 1.00\n",
      "[126000] loss:  0.00050  accuracy: 0.86 1.00 1.00\n",
      "[126100] loss:  0.00050  accuracy: 0.86 1.00 1.00\n",
      "[126200] loss:  0.00049  accuracy: 0.88 1.00 1.00\n",
      "[126300] loss:  0.00049  accuracy: 0.87 1.00 1.00\n",
      "[126400] loss:  0.00049  accuracy: 0.86 1.00 1.00\n",
      "[126500] loss:  0.00053  accuracy: 0.85 1.00 1.00\n",
      "[126600] loss:  0.00049  accuracy: 0.88 1.00 1.00\n",
      "[126700] loss:  0.00049  accuracy: 0.86 1.00 1.00\n",
      "[126800] loss:  0.00047  accuracy: 0.88 1.00 1.00\n",
      "[126900] loss:  0.00049  accuracy: 0.87 1.00 1.00\n",
      "[127000] loss:  0.00048  accuracy: 0.88 1.00 1.00\n",
      "[127100] loss:  0.00048  accuracy: 0.87 1.00 1.00\n",
      "[127200] loss:  0.00050  accuracy: 0.86 1.00 1.00\n",
      "[127300] loss:  0.00047  accuracy: 0.88 1.00 1.00\n",
      "[127400] loss:  0.00046  accuracy: 0.87 1.00 1.00\n",
      "[127500] loss:  0.00047  accuracy: 0.87 1.00 1.00\n",
      "[127600] loss:  0.00049  accuracy: 0.87 1.00 1.00\n",
      "[127700] loss:  0.00046  accuracy: 0.88 1.00 1.00\n",
      "[127800] loss:  0.00044  accuracy: 0.89 1.00 1.00\n",
      "[127900] loss:  0.00050  accuracy: 0.85 1.00 1.00\n",
      "[128000] loss:  0.00046  accuracy: 0.87 1.00 1.00\n",
      "[128100] loss:  0.00047  accuracy: 0.87 1.00 1.00\n",
      "[128200] loss:  0.00050  accuracy: 0.86 1.00 1.00\n",
      "[128300] loss:  0.00045  accuracy: 0.88 1.00 1.00\n",
      "[128400] loss:  0.00045  accuracy: 0.88 1.00 1.00\n",
      "[128500] loss:  0.00046  accuracy: 0.87 1.00 1.00\n",
      "[128600] loss:  0.00046  accuracy: 0.88 1.00 1.00\n",
      "[128700] loss:  0.00046  accuracy: 0.88 1.00 1.00\n",
      "[128800] loss:  0.00045  accuracy: 0.88 1.00 1.00\n",
      "[128900] loss:  0.00046  accuracy: 0.88 1.00 1.00\n",
      "[129000] loss:  0.00045  accuracy: 0.89 1.00 1.00\n",
      "[129100] loss:  0.00044  accuracy: 0.88 1.00 1.00\n",
      "[129200] loss:  0.00044  accuracy: 0.88 1.00 1.00\n",
      "[129300] loss:  0.00046  accuracy: 0.88 1.00 1.00\n",
      "[129400] loss:  0.00044  accuracy: 0.89 1.00 1.00\n",
      "[129500] loss:  0.00044  accuracy: 0.88 1.00 1.00\n",
      "[129600] loss:  0.00045  accuracy: 0.87 1.00 1.00\n",
      "[129700] loss:  0.00043  accuracy: 0.89 1.00 1.00\n",
      "[129800] loss:  0.00042  accuracy: 0.89 1.00 1.00\n",
      "[129900] loss:  0.00043  accuracy: 0.89 1.00 1.00\n",
      "[130000] loss:  0.00044  accuracy: 0.88 1.00 1.00\n",
      "[130100] loss:  0.00041  accuracy: 0.89 1.00 1.00\n",
      "[130200] loss:  0.00040  accuracy: 0.90 1.00 1.00\n",
      "[130300] loss:  0.00046  accuracy: 0.86 1.00 1.00\n",
      "[130400] loss:  0.00042  accuracy: 0.88 1.00 1.00\n",
      "[130500] loss:  0.00043  accuracy: 0.88 1.00 1.00\n",
      "[130600] loss:  0.00046  accuracy: 0.87 1.00 1.00\n",
      "[130700] loss:  0.00040  accuracy: 0.89 1.00 1.00\n",
      "[130800] loss:  0.00041  accuracy: 0.89 1.00 1.00\n",
      "[130900] loss:  0.00042  accuracy: 0.89 1.00 1.00\n",
      "[131000] loss:  0.00042  accuracy: 0.88 1.00 1.00\n",
      "[131100] loss:  0.00041  accuracy: 0.89 1.00 1.00\n",
      "[131200] loss:  0.00041  accuracy: 0.89 1.00 1.00\n",
      "[131300] loss:  0.00041  accuracy: 0.89 1.00 1.00\n",
      "[131400] loss:  0.00041  accuracy: 0.90 1.00 1.00\n",
      "[131500] loss:  0.00040  accuracy: 0.89 1.00 1.00\n",
      "[131600] loss:  0.00040  accuracy: 0.89 1.00 1.00\n",
      "[131700] loss:  0.00042  accuracy: 0.88 1.00 1.00\n",
      "[131800] loss:  0.00040  accuracy: 0.90 1.00 1.00\n",
      "[131900] loss:  0.00041  accuracy: 0.88 1.00 1.00\n",
      "[132000] loss:  0.00041  accuracy: 0.89 1.00 1.00\n",
      "[132100] loss:  0.00040  accuracy: 0.90 1.00 1.00\n",
      "[132200] loss:  0.00038  accuracy: 0.91 1.00 1.00\n",
      "[132300] loss:  0.00039  accuracy: 0.90 1.00 1.00\n",
      "[132400] loss:  0.00040  accuracy: 0.89 1.00 1.00\n",
      "[132500] loss:  0.00037  accuracy: 0.90 1.00 1.00\n",
      "[132600] loss:  0.00037  accuracy: 0.90 1.00 1.00\n",
      "[132700] loss:  0.00041  accuracy: 0.88 1.00 1.00\n",
      "[132800] loss:  0.00039  accuracy: 0.89 1.00 1.00\n",
      "[132900] loss:  0.00041  accuracy: 0.88 1.00 1.00\n",
      "[133000] loss:  0.00043  accuracy: 0.88 1.00 1.00\n",
      "[133100] loss:  0.00037  accuracy: 0.90 1.00 1.00\n",
      "[133200] loss:  0.00037  accuracy: 0.90 1.00 1.00\n",
      "[133300] loss:  0.00038  accuracy: 0.90 1.00 1.00\n",
      "[133400] loss:  0.00038  accuracy: 0.90 1.00 1.00\n",
      "[133500] loss:  0.00037  accuracy: 0.90 1.00 1.00\n",
      "[133600] loss:  0.00036  accuracy: 0.90 1.00 1.00\n",
      "[133700] loss:  0.00037  accuracy: 0.90 1.00 1.00\n",
      "[133800] loss:  0.00037  accuracy: 0.91 1.00 1.00\n",
      "[133900] loss:  0.00036  accuracy: 0.90 1.00 1.00\n",
      "[134000] loss:  0.00036  accuracy: 0.90 1.00 1.00\n",
      "[134100] loss:  0.00038  accuracy: 0.90 1.00 1.00\n",
      "[134200] loss:  0.00037  accuracy: 0.91 1.00 1.00\n",
      "[134300] loss:  0.00036  accuracy: 0.90 1.00 1.00\n",
      "[134400] loss:  0.00037  accuracy: 0.90 1.00 1.00\n",
      "[134500] loss:  0.00037  accuracy: 0.90 1.00 1.00\n",
      "[134600] loss:  0.00035  accuracy: 0.91 1.00 1.00\n",
      "[134700] loss:  0.00036  accuracy: 0.91 1.00 1.00\n",
      "[134800] loss:  0.00036  accuracy: 0.90 1.00 1.00\n",
      "[134900] loss:  0.00033  accuracy: 0.91 1.00 1.00\n",
      "[135000] loss:  0.00034  accuracy: 0.91 1.00 1.00\n",
      "[135100] loss:  0.00037  accuracy: 0.89 1.00 1.00\n",
      "[135200] loss:  0.00035  accuracy: 0.90 1.00 1.00\n",
      "[135300] loss:  0.00037  accuracy: 0.89 1.00 1.00\n",
      "[135400] loss:  0.00038  accuracy: 0.89 1.00 1.00\n",
      "[135500] loss:  0.00034  accuracy: 0.91 1.00 1.00\n",
      "[135600] loss:  0.00034  accuracy: 0.91 1.00 1.00\n",
      "[135700] loss:  0.00034  accuracy: 0.91 1.00 1.00\n",
      "[135800] loss:  0.00034  accuracy: 0.91 1.00 1.00\n",
      "[135900] loss:  0.00033  accuracy: 0.91 1.00 1.00\n",
      "[136000] loss:  0.00032  accuracy: 0.92 1.00 1.00\n",
      "[136100] loss:  0.00034  accuracy: 0.91 1.00 1.00\n",
      "[136200] loss:  0.00034  accuracy: 0.92 1.00 1.00\n",
      "[136300] loss:  0.00034  accuracy: 0.90 1.00 1.00\n",
      "[136400] loss:  0.00033  accuracy: 0.91 1.00 1.00\n",
      "[136500] loss:  0.00034  accuracy: 0.91 1.00 1.00\n",
      "[136600] loss:  0.00034  accuracy: 0.91 1.00 1.00\n",
      "[136700] loss:  0.00034  accuracy: 0.90 1.00 1.00\n",
      "[136800] loss:  0.00034  accuracy: 0.91 1.00 1.00\n",
      "[136900] loss:  0.00033  accuracy: 0.91 1.00 1.00\n",
      "[137000] loss:  0.00033  accuracy: 0.91 1.00 1.00\n",
      "[137100] loss:  0.00033  accuracy: 0.91 1.00 1.00\n",
      "[137200] loss:  0.00033  accuracy: 0.91 1.00 1.00\n",
      "[137300] loss:  0.00031  accuracy: 0.92 1.00 1.00\n",
      "[137400] loss:  0.00031  accuracy: 0.92 1.00 1.00\n",
      "[137500] loss:  0.00035  accuracy: 0.89 1.00 1.00\n",
      "[137600] loss:  0.00031  accuracy: 0.92 1.00 1.00\n",
      "[137700] loss:  0.00035  accuracy: 0.90 1.00 1.00\n",
      "[137800] loss:  0.00035  accuracy: 0.90 1.00 1.00\n",
      "[137900] loss:  0.00032  accuracy: 0.91 1.00 1.00\n",
      "[138000] loss:  0.00031  accuracy: 0.92 1.00 1.00\n",
      "[138100] loss:  0.00031  accuracy: 0.91 1.00 1.00\n",
      "[138200] loss:  0.00031  accuracy: 0.93 1.00 1.00\n",
      "[138300] loss:  0.00031  accuracy: 0.92 1.00 1.00\n",
      "[138400] loss:  0.00030  accuracy: 0.93 1.00 1.00\n",
      "[138500] loss:  0.00031  accuracy: 0.92 1.00 1.00\n",
      "[138600] loss:  0.00031  accuracy: 0.92 1.00 1.00\n",
      "[138700] loss:  0.00032  accuracy: 0.91 1.00 1.00\n",
      "[138800] loss:  0.00031  accuracy: 0.92 1.00 1.00\n",
      "[138900] loss:  0.00031  accuracy: 0.92 1.00 1.00\n",
      "[139000] loss:  0.00031  accuracy: 0.92 1.00 1.00\n",
      "[139100] loss:  0.00032  accuracy: 0.91 1.00 1.00\n",
      "[139200] loss:  0.00032  accuracy: 0.91 1.00 1.00\n",
      "[139300] loss:  0.00031  accuracy: 0.91 1.00 1.00\n",
      "[139400] loss:  0.00031  accuracy: 0.92 1.00 1.00\n",
      "[139500] loss:  0.00031  accuracy: 0.91 1.00 1.00\n",
      "[139600] loss:  0.00030  accuracy: 0.92 1.00 1.00\n",
      "[139700] loss:  0.00028  accuracy: 0.93 1.00 1.00\n",
      "[139800] loss:  0.00029  accuracy: 0.93 1.00 1.00\n",
      "[139900] loss:  0.00033  accuracy: 0.90 1.00 1.00\n",
      "[140000] loss:  0.00029  accuracy: 0.93 1.00 1.00\n",
      "[140100] loss:  0.00032  accuracy: 0.91 1.00 1.00\n",
      "[140200] loss:  0.00031  accuracy: 0.92 1.00 1.00\n",
      "[140300] loss:  0.00029  accuracy: 0.92 1.00 1.00\n",
      "[140400] loss:  0.00029  accuracy: 0.92 1.00 1.00\n",
      "[140500] loss:  0.00029  accuracy: 0.92 1.00 1.00\n",
      "[140600] loss:  0.00029  accuracy: 0.93 1.00 1.00\n",
      "[140700] loss:  0.00029  accuracy: 0.93 1.00 1.00\n",
      "[140800] loss:  0.00028  accuracy: 0.93 1.00 1.00\n",
      "[140900] loss:  0.00029  accuracy: 0.92 1.00 1.00\n",
      "[141000] loss:  0.00029  accuracy: 0.93 1.00 1.00\n",
      "[141100] loss:  0.00030  accuracy: 0.92 1.00 1.00\n",
      "[141200] loss:  0.00028  accuracy: 0.93 1.00 1.00\n",
      "[141300] loss:  0.00029  accuracy: 0.92 1.00 1.00\n",
      "[141400] loss:  0.00029  accuracy: 0.93 1.00 1.00\n",
      "[141500] loss:  0.00030  accuracy: 0.92 1.00 1.00\n",
      "[141600] loss:  0.00029  accuracy: 0.92 1.00 1.00\n",
      "[141700] loss:  0.00029  accuracy: 0.92 1.00 1.00\n",
      "[141800] loss:  0.00028  accuracy: 0.93 1.00 1.00\n",
      "[141900] loss:  0.00029  accuracy: 0.92 1.00 1.00\n",
      "[142000] loss:  0.00028  accuracy: 0.93 1.00 1.00\n",
      "[142100] loss:  0.00027  accuracy: 0.93 1.00 1.00\n",
      "[142200] loss:  0.00027  accuracy: 0.93 1.00 1.00\n",
      "[142300] loss:  0.00031  accuracy: 0.90 1.00 1.00\n",
      "[142400] loss:  0.00027  accuracy: 0.93 1.00 1.00\n",
      "[142500] loss:  0.00029  accuracy: 0.92 1.00 1.00\n",
      "[142600] loss:  0.00029  accuracy: 0.93 1.00 1.00\n",
      "[142700] loss:  0.00027  accuracy: 0.93 1.00 1.00\n",
      "[142800] loss:  0.00028  accuracy: 0.92 1.00 1.00\n",
      "[142900] loss:  0.00026  accuracy: 0.93 1.00 1.00\n",
      "[143000] loss:  0.00027  accuracy: 0.94 1.00 1.00\n",
      "[143100] loss:  0.00027  accuracy: 0.94 1.00 1.00\n",
      "[143200] loss:  0.00026  accuracy: 0.94 1.00 1.00\n",
      "[143300] loss:  0.00027  accuracy: 0.93 1.00 1.00\n",
      "[143400] loss:  0.00027  accuracy: 0.94 1.00 1.00\n",
      "[143500] loss:  0.00028  accuracy: 0.92 1.00 1.00\n",
      "[143600] loss:  0.00026  accuracy: 0.93 1.00 1.00\n",
      "[143700] loss:  0.00027  accuracy: 0.93 1.00 1.00\n",
      "[143800] loss:  0.00027  accuracy: 0.93 1.00 1.00\n",
      "[143900] loss:  0.00028  accuracy: 0.92 1.00 1.00\n",
      "[144000] loss:  0.00027  accuracy: 0.93 1.00 1.00\n",
      "[144100] loss:  0.00027  accuracy: 0.93 1.00 1.00\n",
      "[144200] loss:  0.00026  accuracy: 0.93 1.00 1.00\n",
      "[144300] loss:  0.00028  accuracy: 0.92 1.00 1.00\n",
      "[144400] loss:  0.00026  accuracy: 0.94 1.00 1.00\n",
      "[144500] loss:  0.00025  accuracy: 0.94 1.00 1.00\n",
      "[144600] loss:  0.00025  accuracy: 0.94 1.00 1.00\n",
      "[144700] loss:  0.00029  accuracy: 0.91 1.00 1.00\n",
      "[144800] loss:  0.00025  accuracy: 0.94 1.00 1.00\n",
      "[144900] loss:  0.00027  accuracy: 0.93 1.00 1.00\n",
      "[145000] loss:  0.00028  accuracy: 0.93 1.00 1.00\n",
      "[145100] loss:  0.00025  accuracy: 0.93 1.00 1.00\n",
      "[145200] loss:  0.00027  accuracy: 0.92 1.00 1.00\n",
      "[145300] loss:  0.00024  accuracy: 0.94 1.00 1.00\n",
      "[145400] loss:  0.00025  accuracy: 0.94 1.00 1.00\n",
      "[145500] loss:  0.00025  accuracy: 0.94 1.00 1.00\n",
      "[145600] loss:  0.00025  accuracy: 0.94 1.00 1.00\n",
      "[145700] loss:  0.00025  accuracy: 0.94 1.00 1.00\n",
      "[145800] loss:  0.00025  accuracy: 0.94 1.00 1.00\n",
      "[145900] loss:  0.00026  accuracy: 0.92 1.00 1.00\n",
      "[146000] loss:  0.00024  accuracy: 0.94 1.00 1.00\n",
      "[146100] loss:  0.00026  accuracy: 0.93 1.00 1.00\n",
      "[146200] loss:  0.00025  accuracy: 0.94 1.00 1.00\n",
      "[146300] loss:  0.00026  accuracy: 0.92 1.00 1.00\n",
      "[146400] loss:  0.00025  accuracy: 0.93 1.00 1.00\n",
      "[146500] loss:  0.00025  accuracy: 0.93 1.00 1.00\n",
      "[146600] loss:  0.00024  accuracy: 0.94 1.00 1.00\n",
      "[146700] loss:  0.00027  accuracy: 0.92 1.00 1.00\n",
      "[146800] loss:  0.00024  accuracy: 0.94 1.00 1.00\n",
      "[146900] loss:  0.00024  accuracy: 0.94 1.00 1.00\n",
      "[147000] loss:  0.00023  accuracy: 0.94 1.00 1.00\n",
      "[147100] loss:  0.00026  accuracy: 0.93 1.00 1.00\n",
      "[147200] loss:  0.00024  accuracy: 0.94 1.00 1.00\n",
      "[147300] loss:  0.00026  accuracy: 0.93 1.00 1.00\n",
      "[147400] loss:  0.00026  accuracy: 0.94 1.00 1.00\n",
      "[147500] loss:  0.00024  accuracy: 0.94 1.00 1.00\n",
      "[147600] loss:  0.00024  accuracy: 0.94 1.00 1.00\n",
      "[147700] loss:  0.00023  accuracy: 0.94 1.00 1.00\n",
      "[147800] loss:  0.00025  accuracy: 0.94 1.00 1.00\n",
      "[147900] loss:  0.00023  accuracy: 0.95 1.00 1.00\n",
      "[148000] loss:  0.00023  accuracy: 0.95 1.00 1.00\n",
      "[148100] loss:  0.00024  accuracy: 0.94 1.00 1.00\n",
      "[148200] loss:  0.00023  accuracy: 0.95 1.00 1.00\n",
      "[148300] loss:  0.00025  accuracy: 0.93 1.00 1.00\n",
      "[148400] loss:  0.00023  accuracy: 0.95 1.00 1.00\n",
      "[148500] loss:  0.00024  accuracy: 0.94 1.00 1.00\n",
      "[148600] loss:  0.00023  accuracy: 0.95 1.00 1.00\n",
      "[148700] loss:  0.00024  accuracy: 0.93 1.00 1.00\n",
      "[148800] loss:  0.00024  accuracy: 0.94 1.00 1.00\n",
      "[148900] loss:  0.00024  accuracy: 0.94 1.00 1.00\n",
      "[149000] loss:  0.00023  accuracy: 0.94 1.00 1.00\n",
      "[149100] loss:  0.00025  accuracy: 0.93 1.00 1.00\n",
      "[149200] loss:  0.00023  accuracy: 0.95 1.00 1.00\n",
      "[149300] loss:  0.00022  accuracy: 0.95 1.00 1.00\n",
      "[149400] loss:  0.00022  accuracy: 0.95 1.00 1.00\n",
      "[149500] loss:  0.00023  accuracy: 0.94 1.00 1.00\n",
      "[149600] loss:  0.00022  accuracy: 0.95 1.00 1.00\n",
      "[149700] loss:  0.00025  accuracy: 0.93 1.00 1.00\n",
      "[149800] loss:  0.00024  accuracy: 0.94 1.00 1.00\n",
      "[149900] loss:  0.00022  accuracy: 0.94 1.00 1.00\n",
      "[150000] loss:  0.00022  accuracy: 0.95 1.00 1.00\n",
      "[150100] loss:  0.00021  accuracy: 0.95 1.00 1.00\n",
      "[150200] loss:  0.00025  accuracy: 0.93 1.00 1.00\n",
      "[150300] loss:  0.00022  accuracy: 0.95 1.00 1.00\n",
      "[150400] loss:  0.00021  accuracy: 0.95 1.00 1.00\n",
      "[150500] loss:  0.00022  accuracy: 0.95 1.00 1.00\n",
      "[150600] loss:  0.00022  accuracy: 0.95 1.00 1.00\n",
      "[150700] loss:  0.00023  accuracy: 0.94 1.00 1.00\n",
      "[150800] loss:  0.00022  accuracy: 0.95 1.00 1.00\n",
      "[150900] loss:  0.00022  accuracy: 0.95 1.00 1.00\n",
      "[151000] loss:  0.00021  accuracy: 0.95 1.00 1.00\n",
      "[151100] loss:  0.00022  accuracy: 0.94 1.00 1.00\n",
      "[151200] loss:  0.00022  accuracy: 0.95 1.00 1.00\n",
      "[151300] loss:  0.00022  accuracy: 0.94 1.00 1.00\n",
      "[151400] loss:  0.00021  accuracy: 0.95 1.00 1.00\n",
      "[151500] loss:  0.00022  accuracy: 0.95 1.00 1.00\n",
      "[151600] loss:  0.00021  accuracy: 0.95 1.00 1.00\n",
      "[151700] loss:  0.00023  accuracy: 0.94 1.00 1.00\n",
      "[151800] loss:  0.00021  accuracy: 0.95 1.00 1.00\n",
      "[151900] loss:  0.00022  accuracy: 0.95 1.00 1.00\n",
      "[152000] loss:  0.00021  accuracy: 0.96 1.00 1.00\n",
      "[152100] loss:  0.00024  accuracy: 0.93 1.00 1.00\n",
      "[152200] loss:  0.00022  accuracy: 0.95 1.00 1.00\n",
      "[152300] loss:  0.00022  accuracy: 0.94 1.00 1.00\n",
      "[152400] loss:  0.00020  accuracy: 0.96 1.00 1.00\n",
      "[152500] loss:  0.00020  accuracy: 0.95 1.00 1.00\n",
      "[152600] loss:  0.00023  accuracy: 0.94 1.00 1.00\n",
      "[152700] loss:  0.00021  accuracy: 0.96 1.00 1.00\n",
      "[152800] loss:  0.00020  accuracy: 0.96 1.00 1.00\n",
      "[152900] loss:  0.00021  accuracy: 0.95 1.00 1.00\n",
      "[153000] loss:  0.00020  accuracy: 0.96 1.00 1.00\n",
      "[153100] loss:  0.00023  accuracy: 0.94 1.00 1.00\n",
      "[153200] loss:  0.00021  accuracy: 0.95 1.00 1.00\n",
      "[153300] loss:  0.00021  accuracy: 0.95 1.00 1.00\n",
      "[153400] loss:  0.00020  accuracy: 0.96 1.00 1.00\n",
      "[153500] loss:  0.00021  accuracy: 0.94 1.00 1.00\n",
      "[153600] loss:  0.00020  accuracy: 0.96 1.00 1.00\n",
      "[153700] loss:  0.00021  accuracy: 0.95 1.00 1.00\n",
      "[153800] loss:  0.00019  accuracy: 0.96 1.00 1.00\n",
      "[153900] loss:  0.00020  accuracy: 0.95 1.00 1.00\n",
      "[154000] loss:  0.00021  accuracy: 0.95 1.00 1.00\n",
      "[154100] loss:  0.00023  accuracy: 0.93 1.00 1.00\n",
      "[154200] loss:  0.00019  accuracy: 0.96 1.00 1.00\n",
      "[154300] loss:  0.00020  accuracy: 0.95 1.00 1.00\n",
      "[154400] loss:  0.00019  accuracy: 0.96 1.00 1.00\n",
      "[154500] loss:  0.00022  accuracy: 0.94 1.00 1.00\n",
      "[154600] loss:  0.00021  accuracy: 0.95 1.00 1.00\n",
      "[154700] loss:  0.00020  accuracy: 0.95 1.00 1.00\n",
      "[154800] loss:  0.00019  accuracy: 0.96 1.00 1.00\n",
      "[154900] loss:  0.00019  accuracy: 0.96 1.00 1.00\n",
      "[155000] loss:  0.00022  accuracy: 0.95 1.00 1.00\n",
      "[155100] loss:  0.00020  accuracy: 0.96 1.00 1.00\n",
      "[155200] loss:  0.00019  accuracy: 0.96 1.00 1.00\n",
      "[155300] loss:  0.00020  accuracy: 0.96 1.00 1.00\n",
      "[155400] loss:  0.00019  accuracy: 0.96 1.00 1.00\n",
      "[155500] loss:  0.00022  accuracy: 0.94 1.00 1.00\n",
      "[155600] loss:  0.00019  accuracy: 0.95 1.00 1.00\n",
      "[155700] loss:  0.00019  accuracy: 0.96 1.00 1.00\n",
      "[155800] loss:  0.00018  accuracy: 0.96 1.00 1.00\n",
      "[155900] loss:  0.00019  accuracy: 0.96 1.00 1.00\n",
      "[156000] loss:  0.00019  accuracy: 0.96 1.00 1.00\n",
      "[156100] loss:  0.00020  accuracy: 0.95 1.00 1.00\n",
      "[156200] loss:  0.00018  accuracy: 0.96 1.00 1.00\n",
      "[156300] loss:  0.00019  accuracy: 0.96 1.00 1.00\n",
      "[156400] loss:  0.00020  accuracy: 0.95 1.00 1.00\n",
      "[156500] loss:  0.00022  accuracy: 0.93 1.00 1.00\n",
      "[156600] loss:  0.00018  accuracy: 0.96 1.00 1.00\n",
      "[156700] loss:  0.00019  accuracy: 0.96 1.00 1.00\n",
      "[156800] loss:  0.00018  accuracy: 0.96 1.00 1.00\n",
      "[156900] loss:  0.00021  accuracy: 0.95 1.00 1.00\n",
      "[157000] loss:  0.00019  accuracy: 0.96 1.00 1.00\n",
      "[157100] loss:  0.00019  accuracy: 0.95 1.00 1.00\n",
      "[157200] loss:  0.00017  accuracy: 0.97 1.00 1.00\n",
      "[157300] loss:  0.00018  accuracy: 0.96 1.00 1.00\n",
      "[157400] loss:  0.00021  accuracy: 0.95 1.00 1.00\n",
      "[157500] loss:  0.00018  accuracy: 0.96 1.00 1.00\n",
      "[157600] loss:  0.00018  accuracy: 0.97 1.00 1.00\n",
      "[157700] loss:  0.00018  accuracy: 0.96 1.00 1.00\n",
      "[157800] loss:  0.00018  accuracy: 0.97 1.00 1.00\n",
      "[157900] loss:  0.00021  accuracy: 0.94 1.00 1.00\n",
      "[158000] loss:  0.00018  accuracy: 0.96 1.00 1.00\n",
      "[158100] loss:  0.00019  accuracy: 0.96 1.00 1.00\n",
      "[158200] loss:  0.00017  accuracy: 0.97 1.00 1.00\n",
      "[158300] loss:  0.00017  accuracy: 0.96 1.00 1.00\n",
      "[158400] loss:  0.00018  accuracy: 0.96 1.00 1.00\n",
      "[158500] loss:  0.00019  accuracy: 0.96 1.00 1.00\n",
      "[158600] loss:  0.00017  accuracy: 0.96 1.00 1.00\n",
      "[158700] loss:  0.00018  accuracy: 0.96 1.00 1.00\n",
      "[158800] loss:  0.00019  accuracy: 0.95 1.00 1.00\n",
      "[158900] loss:  0.00020  accuracy: 0.94 1.00 1.00\n",
      "[159000] loss:  0.00017  accuracy: 0.97 1.00 1.00\n",
      "[159100] loss:  0.00017  accuracy: 0.97 1.00 1.00\n",
      "[159200] loss:  0.00017  accuracy: 0.97 1.00 1.00\n",
      "[159300] loss:  0.00019  accuracy: 0.96 1.00 1.00\n",
      "[159400] loss:  0.00017  accuracy: 0.97 1.00 1.00\n",
      "[159500] loss:  0.00018  accuracy: 0.96 1.00 1.00\n",
      "[159600] loss:  0.00017  accuracy: 0.97 1.00 1.00\n",
      "[159700] loss:  0.00018  accuracy: 0.96 1.00 1.00\n",
      "[159800] loss:  0.00020  accuracy: 0.95 1.00 1.00\n",
      "[159900] loss:  0.00017  accuracy: 0.96 1.00 1.00\n",
      "[160000] loss:  0.00017  accuracy: 0.96 1.00 1.00\n",
      "[160100] loss:  0.00017  accuracy: 0.96 1.00 1.00\n",
      "[160200] loss:  0.00017  accuracy: 0.97 1.00 1.00\n",
      "[160300] loss:  0.00020  accuracy: 0.94 1.00 1.00\n",
      "[160400] loss:  0.00018  accuracy: 0.96 1.00 1.00\n",
      "[160500] loss:  0.00018  accuracy: 0.96 1.00 1.00\n",
      "[160600] loss:  0.00016  accuracy: 0.97 1.00 1.00\n",
      "[160700] loss:  0.00017  accuracy: 0.97 1.00 1.00\n",
      "[160800] loss:  0.00017  accuracy: 0.97 1.00 1.00\n",
      "[160900] loss:  0.00017  accuracy: 0.97 1.00 1.00\n",
      "[161000] loss:  0.00016  accuracy: 0.97 1.00 1.00\n",
      "[161100] loss:  0.00016  accuracy: 0.97 1.00 1.00\n",
      "[161200] loss:  0.00018  accuracy: 0.96 1.00 1.00\n",
      "[161300] loss:  0.00019  accuracy: 0.95 1.00 1.00\n",
      "[161400] loss:  0.00017  accuracy: 0.97 1.00 1.00\n",
      "[161500] loss:  0.00016  accuracy: 0.97 1.00 1.00\n",
      "[161600] loss:  0.00016  accuracy: 0.97 1.00 1.00\n",
      "[161700] loss:  0.00018  accuracy: 0.96 1.00 1.00\n",
      "[161800] loss:  0.00016  accuracy: 0.97 1.00 1.00\n",
      "[161900] loss:  0.00017  accuracy: 0.96 1.00 1.00\n",
      "[162000] loss:  0.00016  accuracy: 0.97 1.00 1.00\n",
      "[162100] loss:  0.00017  accuracy: 0.96 1.00 1.00\n",
      "[162200] loss:  0.00018  accuracy: 0.96 1.00 1.00\n",
      "[162300] loss:  0.00016  accuracy: 0.97 1.00 1.00\n",
      "[162400] loss:  0.00016  accuracy: 0.97 1.00 1.00\n",
      "[162500] loss:  0.00016  accuracy: 0.97 1.00 1.00\n",
      "[162600] loss:  0.00016  accuracy: 0.97 1.00 1.00\n",
      "[162700] loss:  0.00018  accuracy: 0.95 1.00 1.00\n",
      "[162800] loss:  0.00016  accuracy: 0.97 1.00 1.00\n",
      "[162900] loss:  0.00016  accuracy: 0.97 1.00 1.00\n",
      "[163000] loss:  0.00015  accuracy: 0.98 1.00 1.00\n",
      "[163100] loss:  0.00015  accuracy: 0.97 1.00 1.00\n",
      "[163200] loss:  0.00016  accuracy: 0.97 1.00 1.00\n",
      "[163300] loss:  0.00017  accuracy: 0.96 1.00 1.00\n",
      "[163400] loss:  0.00015  accuracy: 0.97 1.00 1.00\n",
      "[163500] loss:  0.00015  accuracy: 0.97 1.00 1.00\n",
      "[163600] loss:  0.00017  accuracy: 0.96 1.00 1.00\n",
      "[163700] loss:  0.00018  accuracy: 0.95 1.00 1.00\n",
      "[163800] loss:  0.00015  accuracy: 0.97 1.00 1.00\n",
      "[163900] loss:  0.00015  accuracy: 0.97 1.00 1.00\n",
      "[164000] loss:  0.00016  accuracy: 0.97 1.00 1.00\n",
      "[164100] loss:  0.00017  accuracy: 0.97 1.00 1.00\n",
      "[164200] loss:  0.00015  accuracy: 0.97 1.00 1.00\n",
      "[164300] loss:  0.00016  accuracy: 0.96 1.00 1.00\n",
      "[164400] loss:  0.00015  accuracy: 0.97 1.00 1.00\n",
      "[164500] loss:  0.00016  accuracy: 0.96 1.00 1.00\n",
      "[164600] loss:  0.00016  accuracy: 0.97 1.00 1.00\n",
      "[164700] loss:  0.00015  accuracy: 0.97 1.00 1.00\n",
      "[164800] loss:  0.00016  accuracy: 0.97 1.00 1.00\n",
      "[164900] loss:  0.00016  accuracy: 0.97 1.00 1.00\n",
      "[165000] loss:  0.00015  accuracy: 0.97 1.00 1.00\n",
      "[165100] loss:  0.00017  accuracy: 0.96 1.00 1.00\n",
      "[165200] loss:  0.00015  accuracy: 0.97 1.00 1.00\n",
      "[165300] loss:  0.00015  accuracy: 0.97 1.00 1.00\n",
      "[165400] loss:  0.00014  accuracy: 0.98 1.00 1.00\n",
      "[165500] loss:  0.00015  accuracy: 0.98 1.00 1.00\n",
      "[165600] loss:  0.00015  accuracy: 0.97 1.00 1.00\n",
      "[165700] loss:  0.00016  accuracy: 0.97 1.00 1.00\n",
      "[165800] loss:  0.00015  accuracy: 0.98 1.00 1.00\n",
      "[165900] loss:  0.00015  accuracy: 0.97 1.00 1.00\n",
      "[166000] loss:  0.00016  accuracy: 0.96 1.00 1.00\n",
      "[166100] loss:  0.00017  accuracy: 0.95 1.00 1.00\n",
      "[166200] loss:  0.00015  accuracy: 0.97 1.00 1.00\n",
      "[166300] loss:  0.00014  accuracy: 0.97 1.00 1.00\n",
      "[166400] loss:  0.00015  accuracy: 0.98 1.00 1.00\n",
      "[166500] loss:  0.00016  accuracy: 0.97 1.00 1.00\n",
      "[166600] loss:  0.00014  accuracy: 0.98 1.00 1.00\n",
      "[166700] loss:  0.00015  accuracy: 0.97 1.00 1.00\n",
      "[166800] loss:  0.00014  accuracy: 0.98 1.00 1.00\n",
      "[166900] loss:  0.00015  accuracy: 0.97 1.00 1.00\n",
      "[167000] loss:  0.00015  accuracy: 0.97 1.00 1.00\n",
      "[167100] loss:  0.00015  accuracy: 0.97 1.00 1.00\n",
      "[167200] loss:  0.00015  accuracy: 0.97 1.00 1.00\n",
      "[167300] loss:  0.00015  accuracy: 0.97 1.00 1.00\n",
      "[167400] loss:  0.00015  accuracy: 0.97 1.00 1.00\n",
      "[167500] loss:  0.00016  accuracy: 0.96 1.00 1.00\n",
      "[167600] loss:  0.00014  accuracy: 0.98 1.00 1.00\n",
      "[167700] loss:  0.00014  accuracy: 0.97 1.00 1.00\n",
      "[167800] loss:  0.00014  accuracy: 0.98 1.00 1.00\n",
      "[167900] loss:  0.00014  accuracy: 0.98 1.00 1.00\n",
      "[168000] loss:  0.00014  accuracy: 0.97 1.00 1.00\n",
      "[168100] loss:  0.00015  accuracy: 0.97 1.00 1.00\n",
      "[168200] loss:  0.00014  accuracy: 0.98 1.00 1.00\n",
      "[168300] loss:  0.00014  accuracy: 0.98 1.00 1.00\n",
      "[168400] loss:  0.00015  accuracy: 0.97 1.00 1.00\n",
      "[168500] loss:  0.00016  accuracy: 0.96 1.00 1.00\n",
      "[168600] loss:  0.00014  accuracy: 0.97 1.00 1.00\n",
      "[168700] loss:  0.00014  accuracy: 0.97 1.00 1.00\n",
      "[168800] loss:  0.00014  accuracy: 0.98 1.00 1.00\n",
      "[168900] loss:  0.00015  accuracy: 0.97 1.00 1.00\n",
      "[169000] loss:  0.00014  accuracy: 0.98 1.00 1.00\n",
      "[169100] loss:  0.00014  accuracy: 0.97 1.00 1.00\n",
      "[169200] loss:  0.00013  accuracy: 0.98 1.00 1.00\n",
      "[169300] loss:  0.00015  accuracy: 0.97 1.00 1.00\n",
      "[169400] loss:  0.00014  accuracy: 0.98 1.00 1.00\n",
      "[169500] loss:  0.00014  accuracy: 0.98 1.00 1.00\n",
      "[169600] loss:  0.00014  accuracy: 0.98 1.00 1.00\n",
      "[169700] loss:  0.00014  accuracy: 0.97 1.00 1.00\n",
      "[169800] loss:  0.00014  accuracy: 0.98 1.00 1.00\n",
      "[169900] loss:  0.00015  accuracy: 0.97 1.00 1.00\n",
      "[170000] loss:  0.00013  accuracy: 0.98 1.00 1.00\n",
      "[170100] loss:  0.00013  accuracy: 0.98 1.00 1.00\n",
      "[170200] loss:  0.00013  accuracy: 0.98 1.00 1.00\n",
      "[170300] loss:  0.00013  accuracy: 0.98 1.00 1.00\n",
      "[170400] loss:  0.00014  accuracy: 0.97 1.00 1.00\n",
      "[170500] loss:  0.00015  accuracy: 0.97 1.00 1.00\n",
      "[170600] loss:  0.00013  accuracy: 0.98 1.00 1.00\n",
      "[170700] loss:  0.00013  accuracy: 0.98 1.00 1.00\n",
      "[170800] loss:  0.00014  accuracy: 0.97 1.00 1.00\n",
      "[170900] loss:  0.00015  accuracy: 0.96 1.00 1.00\n",
      "[171000] loss:  0.00014  accuracy: 0.97 1.00 1.00\n",
      "[171100] loss:  0.00013  accuracy: 0.98 1.00 1.00\n",
      "[171200] loss:  0.00013  accuracy: 0.98 1.00 1.00\n",
      "[171300] loss:  0.00015  accuracy: 0.97 1.00 1.00\n",
      "[171400] loss:  0.00013  accuracy: 0.98 1.00 1.00\n",
      "[171500] loss:  0.00014  accuracy: 0.97 1.00 1.00\n",
      "[171600] loss:  0.00013  accuracy: 0.98 1.00 1.00\n",
      "[171700] loss:  0.00014  accuracy: 0.98 1.00 1.00\n",
      "[171800] loss:  0.00013  accuracy: 0.98 1.00 1.00\n",
      "[171900] loss:  0.00013  accuracy: 0.98 1.00 1.00\n",
      "[172000] loss:  0.00013  accuracy: 0.98 1.00 1.00\n",
      "[172100] loss:  0.00013  accuracy: 0.98 1.00 1.00\n",
      "[172200] loss:  0.00013  accuracy: 0.98 1.00 1.00\n",
      "[172300] loss:  0.00013  accuracy: 0.98 1.00 1.00\n",
      "[172400] loss:  0.00012  accuracy: 0.98 1.00 1.00\n",
      "[172500] loss:  0.00012  accuracy: 0.98 1.00 1.00\n",
      "[172600] loss:  0.00013  accuracy: 0.98 1.00 1.00\n",
      "[172700] loss:  0.00013  accuracy: 0.98 1.00 1.00\n",
      "[172800] loss:  0.00014  accuracy: 0.98 1.00 1.00\n",
      "[172900] loss:  0.00014  accuracy: 0.97 1.00 1.00\n",
      "[173000] loss:  0.00012  accuracy: 0.98 1.00 1.00\n",
      "[173100] loss:  0.00013  accuracy: 0.98 1.00 1.00\n",
      "[173200] loss:  0.00013  accuracy: 0.97 1.00 1.00\n",
      "[173300] loss:  0.00014  accuracy: 0.97 1.00 1.00\n",
      "[173400] loss:  0.00013  accuracy: 0.98 1.00 1.00\n",
      "[173500] loss:  0.00013  accuracy: 0.98 1.00 1.00\n",
      "[173600] loss:  0.00012  accuracy: 0.98 1.00 1.00\n",
      "[173700] loss:  0.00014  accuracy: 0.97 1.00 1.00\n",
      "[173800] loss:  0.00013  accuracy: 0.98 1.00 1.00\n",
      "[173900] loss:  0.00013  accuracy: 0.98 1.00 1.00\n",
      "[174000] loss:  0.00012  accuracy: 0.98 1.00 1.00\n",
      "[174100] loss:  0.00013  accuracy: 0.98 1.00 1.00\n",
      "[174200] loss:  0.00012  accuracy: 0.98 1.00 1.00\n",
      "[174300] loss:  0.00013  accuracy: 0.98 1.00 1.00\n",
      "[174400] loss:  0.00012  accuracy: 0.98 1.00 1.00\n",
      "[174500] loss:  0.00013  accuracy: 0.98 1.00 1.00\n",
      "[174600] loss:  0.00012  accuracy: 0.99 1.00 1.00\n",
      "[174700] loss:  0.00012  accuracy: 0.98 1.00 1.00\n",
      "[174800] loss:  0.00012  accuracy: 0.98 1.00 1.00\n",
      "[174900] loss:  0.00012  accuracy: 0.98 1.00 1.00\n",
      "[175000] loss:  0.00012  accuracy: 0.98 1.00 1.00\n",
      "[175100] loss:  0.00013  accuracy: 0.98 1.00 1.00\n",
      "[175200] loss:  0.00013  accuracy: 0.98 1.00 1.00\n",
      "[175300] loss:  0.00014  accuracy: 0.97 1.00 1.00\n",
      "[175400] loss:  0.00011  accuracy: 0.99 1.00 1.00\n",
      "[175500] loss:  0.00012  accuracy: 0.98 1.00 1.00\n",
      "[175600] loss:  0.00013  accuracy: 0.98 1.00 1.00\n",
      "[175700] loss:  0.00013  accuracy: 0.97 1.00 1.00\n",
      "[175800] loss:  0.00012  accuracy: 0.98 1.00 1.00\n",
      "[175900] loss:  0.00012  accuracy: 0.98 1.00 1.00\n",
      "[176000] loss:  0.00012  accuracy: 0.99 1.00 1.00\n",
      "[176100] loss:  0.00013  accuracy: 0.98 1.00 1.00\n",
      "[176200] loss:  0.00012  accuracy: 0.98 1.00 1.00\n",
      "[176300] loss:  0.00013  accuracy: 0.98 1.00 1.00\n",
      "[176400] loss:  0.00012  accuracy: 0.98 1.00 1.00\n",
      "[176500] loss:  0.00013  accuracy: 0.98 1.00 1.00\n",
      "[176600] loss:  0.00012  accuracy: 0.98 1.00 1.00\n",
      "[176700] loss:  0.00012  accuracy: 0.98 1.00 1.00\n",
      "[176800] loss:  0.00011  accuracy: 0.99 1.00 1.00\n",
      "[176900] loss:  0.00012  accuracy: 0.98 1.00 1.00\n",
      "[177000] loss:  0.00011  accuracy: 0.99 1.00 1.00\n",
      "[177100] loss:  0.00011  accuracy: 0.98 1.00 1.00\n",
      "[177200] loss:  0.00011  accuracy: 0.98 1.00 1.00\n",
      "[177300] loss:  0.00011  accuracy: 0.99 1.00 1.00\n",
      "[177400] loss:  0.00012  accuracy: 0.98 1.00 1.00\n",
      "[177500] loss:  0.00013  accuracy: 0.98 1.00 1.00\n",
      "[177600] loss:  0.00013  accuracy: 0.98 1.00 1.00\n",
      "[177700] loss:  0.00013  accuracy: 0.98 1.00 1.00\n",
      "[177800] loss:  0.00011  accuracy: 0.99 1.00 1.00\n",
      "[177900] loss:  0.00012  accuracy: 0.98 1.00 1.00\n",
      "[178000] loss:  0.00012  accuracy: 0.98 1.00 1.00\n",
      "[178100] loss:  0.00013  accuracy: 0.97 1.00 1.00\n",
      "[178200] loss:  0.00011  accuracy: 0.98 1.00 1.00\n",
      "[178300] loss:  0.00011  accuracy: 0.99 1.00 1.00\n",
      "[178400] loss:  0.00011  accuracy: 0.99 1.00 1.00\n",
      "[178500] loss:  0.00012  accuracy: 0.98 1.00 1.00\n",
      "[178600] loss:  0.00012  accuracy: 0.98 1.00 1.00\n",
      "[178700] loss:  0.00012  accuracy: 0.98 1.00 1.00\n",
      "[178800] loss:  0.00011  accuracy: 0.98 1.00 1.00\n",
      "[178900] loss:  0.00012  accuracy: 0.98 1.00 1.00\n",
      "[179000] loss:  0.00011  accuracy: 0.99 1.00 1.00\n",
      "[179100] loss:  0.00011  accuracy: 0.98 1.00 1.00\n",
      "[179200] loss:  0.00011  accuracy: 0.99 1.00 1.00\n",
      "[179300] loss:  0.00011  accuracy: 0.99 1.00 1.00\n",
      "[179400] loss:  0.00011  accuracy: 0.99 1.00 1.00\n",
      "[179500] loss:  0.00011  accuracy: 0.99 1.00 1.00\n",
      "[179600] loss:  0.00011  accuracy: 0.99 1.00 1.00\n",
      "[179700] loss:  0.00010  accuracy: 0.99 1.00 1.00\n",
      "[179800] loss:  0.00012  accuracy: 0.98 1.00 1.00\n",
      "[179900] loss:  0.00012  accuracy: 0.98 1.00 1.00\n",
      "[180000] loss:  0.00012  accuracy: 0.98 1.00 1.00\n",
      "[180100] loss:  0.00012  accuracy: 0.98 1.00 1.00\n",
      "[180200] loss:  0.00010  accuracy: 0.99 1.00 1.00\n",
      "[180300] loss:  0.00011  accuracy: 0.98 1.00 1.00\n",
      "[180400] loss:  0.00012  accuracy: 0.98 1.00 1.00\n",
      "[180500] loss:  0.00012  accuracy: 0.98 1.00 1.00\n",
      "[180600] loss:  0.00011  accuracy: 0.98 1.00 1.00\n",
      "[180700] loss:  0.00011  accuracy: 0.99 1.00 1.00\n",
      "[180800] loss:  0.00011  accuracy: 0.99 1.00 1.00\n",
      "[180900] loss:  0.00011  accuracy: 0.98 1.00 1.00\n",
      "[181000] loss:  0.00011  accuracy: 0.98 1.00 1.00\n",
      "[181100] loss:  0.00012  accuracy: 0.98 1.00 1.00\n",
      "[181200] loss:  0.00010  accuracy: 0.99 1.00 1.00\n",
      "[181300] loss:  0.00011  accuracy: 0.98 1.00 1.00\n",
      "[181400] loss:  0.00011  accuracy: 0.99 1.00 1.00\n",
      "[181500] loss:  0.00011  accuracy: 0.99 1.00 1.00\n",
      "[181600] loss:  0.00010  accuracy: 0.99 1.00 1.00\n",
      "[181700] loss:  0.00011  accuracy: 0.99 1.00 1.00\n",
      "[181800] loss:  0.00010  accuracy: 0.99 1.00 1.00\n",
      "[181900] loss:  0.00010  accuracy: 0.99 1.00 1.00\n",
      "[182000] loss:  0.00010  accuracy: 0.99 1.00 1.00\n",
      "[182100] loss:  0.00010  accuracy: 0.99 1.00 1.00\n",
      "[182200] loss:  0.00011  accuracy: 0.98 1.00 1.00\n",
      "[182300] loss:  0.00011  accuracy: 0.98 1.00 1.00\n",
      "[182400] loss:  0.00011  accuracy: 0.98 1.00 1.00\n",
      "[182500] loss:  0.00012  accuracy: 0.98 1.00 1.00\n",
      "[182600] loss:  0.00010  accuracy: 0.99 1.00 1.00\n",
      "[182700] loss:  0.00011  accuracy: 0.98 1.00 1.00\n",
      "[182800] loss:  0.00011  accuracy: 0.98 1.00 1.00\n",
      "[182900] loss:  0.00011  accuracy: 0.99 1.00 1.00\n",
      "[183000] loss:  0.00011  accuracy: 0.98 1.00 1.00\n",
      "[183100] loss:  0.00011  accuracy: 0.99 1.00 1.00\n",
      "[183200] loss:  0.00010  accuracy: 0.99 1.00 1.00\n",
      "[183300] loss:  0.00010  accuracy: 0.99 1.00 1.00\n",
      "[183400] loss:  0.00011  accuracy: 0.99 1.00 1.00\n",
      "[183500] loss:  0.00011  accuracy: 0.99 1.00 1.00\n",
      "[183600] loss:  0.00010  accuracy: 0.99 1.00 1.00\n",
      "[183700] loss:  0.00011  accuracy: 0.99 1.00 1.00\n",
      "[183800] loss:  0.00010  accuracy: 0.99 1.00 1.00\n",
      "[183900] loss:  0.00010  accuracy: 0.99 1.00 1.00\n",
      "[184000] loss:  0.00010  accuracy: 0.99 1.00 1.00\n",
      "[184100] loss:  0.00010  accuracy: 0.99 1.00 1.00\n",
      "[184200] loss:  0.00010  accuracy: 0.99 1.00 1.00\n",
      "[184300] loss:  0.00010  accuracy: 0.99 1.00 1.00\n",
      "[184400] loss:  0.00010  accuracy: 0.99 1.00 1.00\n",
      "[184500] loss:  0.00009  accuracy: 0.99 1.00 1.00\n",
      "[184600] loss:  0.00011  accuracy: 0.98 1.00 1.00\n",
      "[184700] loss:  0.00011  accuracy: 0.98 1.00 1.00\n",
      "[184800] loss:  0.00011  accuracy: 0.98 1.00 1.00\n",
      "[184900] loss:  0.00011  accuracy: 0.98 1.00 1.00\n",
      "[185000] loss:  0.00009  accuracy: 0.99 1.00 1.00\n",
      "[185100] loss:  0.00010  accuracy: 0.99 1.00 1.00\n",
      "[185200] loss:  0.00011  accuracy: 0.98 1.00 1.00\n",
      "[185300] loss:  0.00010  accuracy: 0.99 1.00 1.00\n",
      "[185400] loss:  0.00011  accuracy: 0.98 1.00 1.00\n",
      "[185500] loss:  0.00010  accuracy: 0.99 1.00 1.00\n",
      "[185600] loss:  0.00010  accuracy: 0.99 1.00 1.00\n",
      "[185700] loss:  0.00010  accuracy: 0.99 1.00 1.00\n",
      "[185800] loss:  0.00010  accuracy: 0.99 1.00 1.00\n",
      "[185900] loss:  0.00011  accuracy: 0.98 1.00 1.00\n",
      "[186000] loss:  0.00009  accuracy: 0.99 1.00 1.00\n",
      "[186100] loss:  0.00010  accuracy: 0.99 1.00 1.00\n",
      "[186200] loss:  0.00010  accuracy: 0.99 1.00 1.00\n",
      "[186300] loss:  0.00010  accuracy: 0.99 1.00 1.00\n",
      "[186400] loss:  0.00009  accuracy: 0.99 1.00 1.00\n",
      "[186500] loss:  0.00009  accuracy: 0.99 1.00 1.00\n",
      "[186600] loss:  0.00009  accuracy: 0.99 1.00 1.00\n",
      "[186700] loss:  0.00009  accuracy: 0.99 1.00 1.00\n",
      "[186800] loss:  0.00009  accuracy: 0.99 1.00 1.00\n",
      "[186900] loss:  0.00009  accuracy: 0.99 1.00 1.00\n",
      "[187000] loss:  0.00011  accuracy: 0.98 1.00 1.00\n",
      "[187100] loss:  0.00011  accuracy: 0.98 1.00 1.00\n",
      "[187200] loss:  0.00010  accuracy: 0.99 1.00 1.00\n",
      "[187300] loss:  0.00010  accuracy: 0.99 1.00 1.00\n",
      "[187400] loss:  0.00009  accuracy: 0.99 1.00 1.00\n",
      "[187500] loss:  0.00010  accuracy: 0.99 1.00 1.00\n",
      "[187600] loss:  0.00010  accuracy: 0.99 1.00 1.00\n",
      "[187700] loss:  0.00009  accuracy: 0.99 1.00 1.00\n",
      "[187800] loss:  0.00011  accuracy: 0.98 1.00 1.00\n",
      "[187900] loss:  0.00009  accuracy: 0.99 1.00 1.00\n",
      "[188000] loss:  0.00009  accuracy: 0.99 1.00 1.00\n",
      "[188100] loss:  0.00009  accuracy: 0.99 1.00 1.00\n",
      "[188200] loss:  0.00010  accuracy: 0.99 1.00 1.00\n",
      "[188300] loss:  0.00011  accuracy: 0.98 1.00 1.00\n",
      "[188400] loss:  0.00009  accuracy: 0.99 1.00 1.00\n",
      "[188500] loss:  0.00010  accuracy: 0.99 1.00 1.00\n",
      "[188600] loss:  0.00010  accuracy: 0.98 1.00 1.00\n",
      "[188700] loss:  0.00009  accuracy: 0.99 1.00 1.00\n",
      "[188800] loss:  0.00008  accuracy: 0.99 1.00 1.00\n",
      "[188900] loss:  0.00009  accuracy: 0.99 1.00 1.00\n",
      "[189000] loss:  0.00008  accuracy: 0.99 1.00 1.00\n",
      "[189100] loss:  0.00008  accuracy: 0.99 1.00 1.00\n",
      "[189200] loss:  0.00008  accuracy: 0.99 1.00 1.00\n",
      "[189300] loss:  0.00008  accuracy: 0.99 1.00 1.00\n",
      "[189400] loss:  0.00010  accuracy: 0.98 1.00 1.00\n",
      "[189500] loss:  0.00010  accuracy: 0.98 1.00 1.00\n",
      "[189600] loss:  0.00009  accuracy: 0.99 1.00 1.00\n",
      "[189700] loss:  0.00009  accuracy: 0.99 1.00 1.00\n",
      "[189800] loss:  0.00008  accuracy: 0.99 1.00 1.00\n",
      "[189900] loss:  0.00009  accuracy: 0.99 1.00 1.00\n",
      "[190000] loss:  0.00009  accuracy: 0.99 1.00 1.00\n",
      "[190100] loss:  0.00008  accuracy: 0.99 1.00 1.00\n",
      "[190200] loss:  0.00010  accuracy: 0.98 1.00 1.00\n",
      "[190300] loss:  0.00008  accuracy: 0.99 1.00 1.00\n",
      "[190400] loss:  0.00008  accuracy: 0.99 1.00 1.00\n",
      "[190500] loss:  0.00008  accuracy: 0.99 1.00 1.00\n",
      "[190600] loss:  0.00010  accuracy: 0.98 1.00 1.00\n",
      "[190700] loss:  0.00010  accuracy: 0.98 1.00 1.00\n",
      "[190800] loss:  0.00008  accuracy: 0.99 1.00 1.00\n",
      "[190900] loss:  0.00009  accuracy: 0.99 1.00 1.00\n",
      "[191000] loss:  0.00008  accuracy: 0.99 1.00 1.00\n",
      "[191100] loss:  0.00008  accuracy: 0.99 1.00 1.00\n",
      "[191200] loss:  0.00008  accuracy: 0.99 1.00 1.00\n",
      "[191300] loss:  0.00008  accuracy: 0.99 1.00 1.00\n",
      "[191400] loss:  0.00008  accuracy: 0.99 1.00 1.00\n",
      "[191500] loss:  0.00008  accuracy: 0.99 1.00 1.00\n",
      "[191600] loss:  0.00008  accuracy: 0.99 1.00 1.00\n",
      "[191700] loss:  0.00008  accuracy: 0.99 1.00 1.00\n",
      "[191800] loss:  0.00009  accuracy: 0.99 1.00 1.00\n",
      "[191900] loss:  0.00010  accuracy: 0.98 1.00 1.00\n",
      "[192000] loss:  0.00008  accuracy: 0.99 1.00 1.00\n",
      "[192100] loss:  0.00008  accuracy: 0.99 1.00 1.00\n",
      "[192200] loss:  0.00008  accuracy: 0.99 1.00 1.00\n",
      "[192300] loss:  0.00008  accuracy: 0.99 1.00 1.00\n",
      "[192400] loss:  0.00008  accuracy: 0.99 1.00 1.00\n",
      "[192500] loss:  0.00008  accuracy: 0.99 1.00 1.00\n",
      "[192600] loss:  0.00009  accuracy: 0.99 1.00 1.00\n",
      "[192700] loss:  0.00008  accuracy: 0.99 1.00 1.00\n",
      "[192800] loss:  0.00008  accuracy: 0.99 1.00 1.00\n",
      "[192900] loss:  0.00008  accuracy: 0.99 1.00 1.00\n",
      "[193000] loss:  0.00009  accuracy: 0.99 1.00 1.00\n",
      "[193100] loss:  0.00009  accuracy: 0.99 1.00 1.00\n",
      "[193200] loss:  0.00007  accuracy: 0.99 1.00 1.00\n",
      "[193300] loss:  0.00008  accuracy: 0.99 1.00 1.00\n",
      "[193400] loss:  0.00008  accuracy: 0.99 1.00 1.00\n",
      "[193500] loss:  0.00008  accuracy: 0.99 1.00 1.00\n",
      "[193600] loss:  0.00007  accuracy: 0.99 1.00 1.00\n",
      "[193700] loss:  0.00007  accuracy: 0.99 1.00 1.00\n",
      "[193800] loss:  0.00008  accuracy: 0.99 1.00 1.00\n",
      "[193900] loss:  0.00007  accuracy: 0.99 1.00 1.00\n",
      "[194000] loss:  0.00007  accuracy: 0.99 1.00 1.00\n",
      "[194100] loss:  0.00007  accuracy: 0.99 1.00 1.00\n",
      "[194200] loss:  0.00008  accuracy: 0.99 1.00 1.00\n",
      "[194300] loss:  0.00010  accuracy: 0.98 1.00 1.00\n",
      "[194400] loss:  0.00008  accuracy: 0.99 1.00 1.00\n",
      "[194500] loss:  0.00008  accuracy: 0.99 1.00 1.00\n",
      "[194600] loss:  0.00008  accuracy: 0.99 1.00 1.00\n",
      "[194700] loss:  0.00008  accuracy: 0.99 1.00 1.00\n",
      "[194800] loss:  0.00008  accuracy: 0.99 1.00 1.00\n",
      "[194900] loss:  0.00007  accuracy: 0.99 1.00 1.00\n",
      "[195000] loss:  0.00009  accuracy: 0.99 1.00 1.00\n",
      "[195100] loss:  0.00007  accuracy: 0.99 1.00 1.00\n",
      "[195200] loss:  0.00008  accuracy: 0.99 1.00 1.00\n",
      "[195300] loss:  0.00008  accuracy: 0.99 1.00 1.00\n",
      "[195400] loss:  0.00009  accuracy: 0.99 1.00 1.00\n",
      "[195500] loss:  0.00009  accuracy: 0.99 1.00 1.00\n",
      "[195600] loss:  0.00007  accuracy: 0.99 1.00 1.00\n",
      "[195700] loss:  0.00008  accuracy: 0.99 1.00 1.00\n",
      "[195800] loss:  0.00008  accuracy: 0.99 1.00 1.00\n",
      "[195900] loss:  0.00007  accuracy: 0.99 1.00 1.00\n",
      "[196000] loss:  0.00007  accuracy: 1.00 1.00 1.00\n",
      "[196100] loss:  0.00007  accuracy: 0.99 1.00 1.00\n",
      "[196200] loss:  0.00007  accuracy: 0.99 1.00 1.00\n",
      "[196300] loss:  0.00007  accuracy: 0.99 1.00 1.00\n",
      "[196400] loss:  0.00007  accuracy: 0.99 1.00 1.00\n",
      "[196500] loss:  0.00007  accuracy: 0.99 1.00 1.00\n",
      "[196600] loss:  0.00007  accuracy: 0.99 1.00 1.00\n",
      "[196700] loss:  0.00009  accuracy: 0.98 1.00 1.00\n",
      "[196800] loss:  0.00007  accuracy: 0.99 1.00 1.00\n",
      "[196900] loss:  0.00007  accuracy: 0.99 1.00 1.00\n",
      "[197000] loss:  0.00008  accuracy: 0.99 1.00 1.00\n",
      "[197100] loss:  0.00008  accuracy: 0.99 1.00 1.00\n",
      "[197200] loss:  0.00008  accuracy: 0.99 1.00 1.00\n",
      "[197300] loss:  0.00007  accuracy: 0.99 1.00 1.00\n",
      "[197400] loss:  0.00008  accuracy: 0.99 1.00 1.00\n",
      "[197500] loss:  0.00007  accuracy: 0.99 1.00 1.00\n",
      "[197600] loss:  0.00008  accuracy: 0.99 1.00 1.00\n",
      "[197700] loss:  0.00008  accuracy: 0.99 1.00 1.00\n",
      "[197800] loss:  0.00008  accuracy: 0.99 1.00 1.00\n",
      "[197900] loss:  0.00008  accuracy: 0.99 1.00 1.00\n",
      "[198000] loss:  0.00007  accuracy: 0.99 1.00 1.00\n",
      "[198100] loss:  0.00007  accuracy: 0.99 1.00 1.00\n",
      "[198200] loss:  0.00007  accuracy: 0.99 1.00 1.00\n",
      "[198300] loss:  0.00007  accuracy: 0.99 1.00 1.00\n",
      "[198400] loss:  0.00007  accuracy: 0.99 1.00 1.00\n",
      "[198500] loss:  0.00007  accuracy: 0.99 1.00 1.00\n",
      "[198600] loss:  0.00007  accuracy: 0.99 1.00 1.00\n",
      "[198700] loss:  0.00007  accuracy: 1.00 1.00 1.00\n",
      "[198800] loss:  0.00007  accuracy: 0.99 1.00 1.00\n",
      "[198900] loss:  0.00007  accuracy: 1.00 1.00 1.00\n",
      "[199000] loss:  0.00007  accuracy: 0.99 1.00 1.00\n",
      "[199100] loss:  0.00009  accuracy: 0.98 1.00 1.00\n",
      "[199200] loss:  0.00007  accuracy: 0.99 1.00 1.00\n",
      "[199300] loss:  0.00007  accuracy: 1.00 1.00 1.00\n",
      "[199400] loss:  0.00008  accuracy: 0.99 1.00 1.00\n",
      "[199500] loss:  0.00007  accuracy: 0.99 1.00 1.00\n",
      "[199600] loss:  0.00007  accuracy: 0.99 1.00 1.00\n",
      "[199700] loss:  0.00007  accuracy: 0.99 1.00 1.00\n",
      "[199800] loss:  0.00008  accuracy: 0.99 1.00 1.00\n",
      "[199900] loss:  0.00008  accuracy: 0.99 1.00 1.00\n",
      "[200000] loss:  0.00007  accuracy: 0.99 1.00 1.00\n",
      "[200100] loss:  0.00008  accuracy: 0.99 1.00 1.00\n",
      "[200200] loss:  0.00008  accuracy: 0.99 1.00 1.00\n",
      "[200300] loss:  0.00008  accuracy: 0.99 1.00 1.00\n",
      "[200400] loss:  0.00007  accuracy: 0.99 1.00 1.00\n",
      "[200500] loss:  0.00007  accuracy: 0.99 1.00 1.00\n",
      "[200600] loss:  0.00007  accuracy: 1.00 1.00 1.00\n",
      "[200700] loss:  0.00007  accuracy: 1.00 1.00 1.00\n",
      "[200800] loss:  0.00007  accuracy: 0.99 1.00 1.00\n",
      "[200900] loss:  0.00007  accuracy: 0.99 1.00 1.00\n",
      "[201000] loss:  0.00008  accuracy: 0.99 1.00 1.00\n",
      "[201100] loss:  0.00007  accuracy: 0.99 1.00 1.00\n",
      "[201200] loss:  0.00007  accuracy: 1.00 1.00 1.00\n",
      "[201300] loss:  0.00006  accuracy: 1.00 1.00 1.00\n",
      "[201400] loss:  0.00007  accuracy: 0.99 1.00 1.00\n",
      "[201500] loss:  0.00009  accuracy: 0.98 1.00 1.00\n",
      "[201600] loss:  0.00007  accuracy: 0.99 1.00 1.00\n",
      "[201700] loss:  0.00007  accuracy: 1.00 1.00 1.00\n",
      "[201800] loss:  0.00007  accuracy: 0.99 1.00 1.00\n",
      "[201900] loss:  0.00007  accuracy: 0.99 1.00 1.00\n",
      "[202000] loss:  0.00007  accuracy: 0.99 1.00 1.00\n",
      "[202100] loss:  0.00007  accuracy: 0.99 1.00 1.00\n",
      "[202200] loss:  0.00007  accuracy: 0.99 1.00 1.00\n",
      "[202300] loss:  0.00006  accuracy: 1.00 1.00 1.00\n",
      "[202400] loss:  0.00007  accuracy: 0.99 1.00 1.00\n",
      "[202500] loss:  0.00007  accuracy: 0.99 1.00 1.00\n",
      "[202600] loss:  0.00007  accuracy: 0.99 1.00 1.00\n",
      "[202700] loss:  0.00007  accuracy: 0.99 1.00 1.00\n",
      "[202800] loss:  0.00007  accuracy: 0.99 1.00 1.00\n",
      "[202900] loss:  0.00007  accuracy: 1.00 1.00 1.00\n",
      "[203000] loss:  0.00006  accuracy: 1.00 1.00 1.00\n",
      "[203100] loss:  0.00007  accuracy: 0.99 1.00 1.00\n",
      "[203200] loss:  0.00007  accuracy: 1.00 1.00 1.00\n",
      "[203300] loss:  0.00006  accuracy: 1.00 1.00 1.00\n",
      "[203400] loss:  0.00007  accuracy: 0.99 1.00 1.00\n",
      "[203500] loss:  0.00007  accuracy: 1.00 1.00 1.00\n",
      "[203600] loss:  0.00006  accuracy: 1.00 1.00 1.00\n",
      "[203700] loss:  0.00006  accuracy: 1.00 1.00 1.00\n",
      "[203800] loss:  0.00006  accuracy: 1.00 1.00 1.00\n",
      "[203900] loss:  0.00008  accuracy: 0.99 1.00 1.00\n",
      "[204000] loss:  0.00006  accuracy: 1.00 1.00 1.00\n",
      "[204100] loss:  0.00006  accuracy: 1.00 1.00 1.00\n",
      "[204200] loss:  0.00007  accuracy: 0.99 1.00 1.00\n",
      "[204300] loss:  0.00007  accuracy: 1.00 1.00 1.00\n",
      "[204400] loss:  0.00007  accuracy: 0.99 1.00 1.00\n",
      "[204500] loss:  0.00007  accuracy: 0.99 1.00 1.00\n",
      "[204600] loss:  0.00007  accuracy: 0.99 1.00 1.00\n",
      "[204700] loss:  0.00008  accuracy: 0.99 1.00 1.00\n",
      "[204800] loss:  0.00007  accuracy: 0.99 1.00 1.00\n",
      "[204900] loss:  0.00007  accuracy: 1.00 1.00 1.00\n",
      "[205000] loss:  0.00008  accuracy: 0.99 1.00 1.00\n",
      "[205100] loss:  0.00008  accuracy: 0.99 1.00 1.00\n",
      "[205200] loss:  0.00007  accuracy: 0.99 1.00 1.00\n",
      "[205300] loss:  0.00007  accuracy: 1.00 1.00 1.00\n",
      "[205400] loss:  0.00007  accuracy: 1.00 1.00 1.00\n",
      "[205500] loss:  0.00006  accuracy: 1.00 1.00 1.00\n",
      "[205600] loss:  0.00006  accuracy: 1.00 1.00 1.00\n",
      "[205700] loss:  0.00006  accuracy: 1.00 1.00 1.00\n",
      "[205800] loss:  0.00006  accuracy: 1.00 1.00 1.00\n",
      "[205900] loss:  0.00006  accuracy: 1.00 1.00 1.00\n",
      "[206000] loss:  0.00006  accuracy: 1.00 1.00 1.00\n",
      "[206100] loss:  0.00006  accuracy: 1.00 1.00 1.00\n",
      "[206200] loss:  0.00007  accuracy: 0.99 1.00 1.00\n",
      "[206300] loss:  0.00009  accuracy: 0.98 1.00 1.00\n",
      "[206400] loss:  0.00007  accuracy: 0.99 1.00 1.00\n",
      "[206500] loss:  0.00006  accuracy: 1.00 1.00 1.00\n",
      "[206600] loss:  0.00007  accuracy: 0.99 1.00 1.00\n",
      "[206700] loss:  0.00007  accuracy: 0.99 1.00 1.00\n",
      "[206800] loss:  0.00007  accuracy: 0.99 1.00 1.00\n",
      "[206900] loss:  0.00006  accuracy: 1.00 1.00 1.00\n",
      "[207000] loss:  0.00007  accuracy: 0.99 1.00 1.00\n",
      "[207100] loss:  0.00006  accuracy: 1.00 1.00 1.00\n",
      "[207200] loss:  0.00007  accuracy: 0.99 1.00 1.00\n",
      "[207300] loss:  0.00007  accuracy: 1.00 1.00 1.00\n",
      "[207400] loss:  0.00007  accuracy: 0.99 1.00 1.00\n",
      "[207500] loss:  0.00007  accuracy: 0.99 1.00 1.00\n",
      "[207600] loss:  0.00006  accuracy: 0.99 1.00 1.00\n",
      "[207700] loss:  0.00006  accuracy: 1.00 1.00 1.00\n",
      "[207800] loss:  0.00006  accuracy: 1.00 1.00 1.00\n",
      "[207900] loss:  0.00006  accuracy: 1.00 1.00 1.00\n",
      "[208000] loss:  0.00006  accuracy: 1.00 1.00 1.00\n",
      "[208100] loss:  0.00006  accuracy: 1.00 1.00 1.00\n",
      "[208200] loss:  0.00006  accuracy: 1.00 1.00 1.00\n",
      "[208300] loss:  0.00006  accuracy: 1.00 1.00 1.00\n",
      "[208400] loss:  0.00006  accuracy: 1.00 1.00 1.00\n",
      "[208500] loss:  0.00006  accuracy: 1.00 1.00 1.00\n",
      "[208600] loss:  0.00006  accuracy: 1.00 1.00 1.00\n",
      "[208700] loss:  0.00007  accuracy: 0.99 1.00 1.00\n",
      "[208800] loss:  0.00006  accuracy: 1.00 1.00 1.00\n",
      "[208900] loss:  0.00006  accuracy: 1.00 1.00 1.00\n",
      "[209000] loss:  0.00007  accuracy: 0.99 1.00 1.00\n",
      "[209100] loss:  0.00006  accuracy: 1.00 1.00 1.00\n",
      "[209200] loss:  0.00006  accuracy: 1.00 1.00 1.00\n",
      "[209300] loss:  0.00006  accuracy: 1.00 1.00 1.00\n",
      "[209400] loss:  0.00006  accuracy: 1.00 1.00 1.00\n",
      "[209500] loss:  0.00008  accuracy: 0.98 1.00 1.00\n",
      "[209600] loss:  0.00007  accuracy: 1.00 1.00 1.00\n",
      "[209700] loss:  0.00007  accuracy: 0.99 1.00 1.00\n",
      "[209800] loss:  0.00007  accuracy: 0.99 1.00 1.00\n",
      "[209900] loss:  0.00007  accuracy: 0.99 1.00 1.00\n",
      "[210000] loss:  0.00006  accuracy: 0.99 1.00 1.00\n",
      "[210100] loss:  0.00007  accuracy: 0.99 1.00 1.00\n",
      "[210200] loss:  0.00006  accuracy: 1.00 1.00 1.00\n",
      "[210300] loss:  0.00006  accuracy: 0.99 1.00 1.00\n",
      "[210400] loss:  0.00006  accuracy: 1.00 1.00 1.00\n",
      "[210500] loss:  0.00006  accuracy: 1.00 1.00 1.00\n",
      "[210600] loss:  0.00006  accuracy: 1.00 1.00 1.00\n",
      "[210700] loss:  0.00006  accuracy: 0.99 1.00 1.00\n",
      "[210800] loss:  0.00006  accuracy: 1.00 1.00 1.00\n",
      "[210900] loss:  0.00006  accuracy: 1.00 1.00 1.00\n",
      "[211000] loss:  0.00006  accuracy: 1.00 1.00 1.00\n",
      "[211100] loss:  0.00009  accuracy: 0.98 1.00 1.00\n",
      "[211200] loss:  0.00007  accuracy: 0.99 1.00 1.00\n",
      "[211300] loss:  0.00006  accuracy: 1.00 1.00 1.00\n",
      "[211400] loss:  0.00006  accuracy: 1.00 1.00 1.00\n",
      "[211500] loss:  0.00006  accuracy: 1.00 1.00 1.00\n",
      "[211600] loss:  0.00006  accuracy: 0.99 1.00 1.00\n",
      "[211700] loss:  0.00006  accuracy: 1.00 1.00 1.00\n",
      "[211800] loss:  0.00007  accuracy: 0.99 1.00 1.00\n",
      "[211900] loss:  0.00006  accuracy: 1.00 1.00 1.00\n",
      "[212000] loss:  0.00006  accuracy: 0.99 1.00 1.00\n",
      "[212100] loss:  0.00006  accuracy: 1.00 1.00 1.00\n",
      "[212200] loss:  0.00007  accuracy: 0.99 1.00 1.00\n",
      "[212300] loss:  0.00006  accuracy: 0.99 1.00 1.00\n",
      "[212400] loss:  0.00006  accuracy: 1.00 1.00 1.00\n",
      "[212500] loss:  0.00006  accuracy: 1.00 1.00 1.00\n",
      "[212600] loss:  0.00006  accuracy: 1.00 1.00 1.00\n",
      "[212700] loss:  0.00006  accuracy: 1.00 1.00 1.00\n",
      "[212800] loss:  0.00006  accuracy: 1.00 1.00 1.00\n",
      "[212900] loss:  0.00006  accuracy: 1.00 1.00 1.00\n",
      "[213000] loss:  0.00006  accuracy: 1.00 1.00 1.00\n",
      "[213100] loss:  0.00006  accuracy: 0.99 1.00 1.00\n",
      "[213200] loss:  0.00006  accuracy: 1.00 1.00 1.00\n",
      "[213300] loss:  0.00006  accuracy: 0.99 1.00 1.00\n",
      "[213400] loss:  0.00006  accuracy: 1.00 1.00 1.00\n",
      "[213500] loss:  0.00007  accuracy: 0.99 1.00 1.00\n",
      "[213600] loss:  0.00006  accuracy: 1.00 1.00 1.00\n",
      "[213700] loss:  0.00005  accuracy: 1.00 1.00 1.00\n",
      "[213800] loss:  0.00006  accuracy: 0.99 1.00 1.00\n",
      "[213900] loss:  0.00006  accuracy: 1.00 1.00 1.00\n",
      "[214000] loss:  0.00006  accuracy: 1.00 1.00 1.00\n",
      "[214100] loss:  0.00006  accuracy: 1.00 1.00 1.00\n",
      "[214200] loss:  0.00006  accuracy: 1.00 1.00 1.00\n",
      "[214300] loss:  0.00007  accuracy: 0.99 1.00 1.00\n",
      "[214400] loss:  0.00006  accuracy: 0.99 1.00 1.00\n",
      "[214500] loss:  0.00006  accuracy: 1.00 1.00 1.00\n",
      "[214600] loss:  0.00007  accuracy: 0.99 1.00 1.00\n",
      "[214700] loss:  0.00006  accuracy: 1.00 1.00 1.00\n",
      "[214800] loss:  0.00006  accuracy: 1.00 1.00 1.00\n",
      "[214900] loss:  0.00006  accuracy: 1.00 1.00 1.00\n",
      "[215000] loss:  0.00006  accuracy: 1.00 1.00 1.00\n",
      "[215100] loss:  0.00006  accuracy: 1.00 1.00 1.00\n",
      "[215200] loss:  0.00006  accuracy: 1.00 1.00 1.00\n",
      "[215300] loss:  0.00005  accuracy: 1.00 1.00 1.00\n",
      "[215400] loss:  0.00006  accuracy: 1.00 1.00 1.00\n",
      "[215500] loss:  0.00006  accuracy: 0.99 1.00 1.00\n",
      "[215600] loss:  0.00006  accuracy: 1.00 1.00 1.00\n",
      "[215700] loss:  0.00006  accuracy: 0.99 1.00 1.00\n",
      "[215800] loss:  0.00005  accuracy: 1.00 1.00 1.00\n",
      "[215900] loss:  0.00007  accuracy: 0.99 1.00 1.00\n",
      "[216000] loss:  0.00006  accuracy: 1.00 1.00 1.00\n",
      "[216100] loss:  0.00005  accuracy: 1.00 1.00 1.00\n",
      "[216200] loss:  0.00006  accuracy: 0.99 1.00 1.00\n",
      "[216300] loss:  0.00006  accuracy: 1.00 1.00 1.00\n",
      "[216400] loss:  0.00006  accuracy: 1.00 1.00 1.00\n",
      "[216500] loss:  0.00006  accuracy: 1.00 1.00 1.00\n",
      "[216600] loss:  0.00006  accuracy: 1.00 1.00 1.00\n",
      "[216700] loss:  0.00007  accuracy: 0.99 1.00 1.00\n",
      "[216800] loss:  0.00006  accuracy: 0.99 1.00 1.00\n",
      "[216900] loss:  0.00006  accuracy: 1.00 1.00 1.00\n",
      "[217000] loss:  0.00006  accuracy: 0.99 1.00 1.00\n",
      "[217100] loss:  0.00006  accuracy: 1.00 1.00 1.00\n",
      "[217200] loss:  0.00005  accuracy: 1.00 1.00 1.00\n",
      "[217300] loss:  0.00005  accuracy: 1.00 1.00 1.00\n",
      "[217400] loss:  0.00006  accuracy: 1.00 1.00 1.00\n",
      "[217500] loss:  0.00005  accuracy: 1.00 1.00 1.00\n",
      "[217600] loss:  0.00006  accuracy: 1.00 1.00 1.00\n",
      "[217700] loss:  0.00005  accuracy: 1.00 1.00 1.00\n",
      "[217800] loss:  0.00006  accuracy: 1.00 1.00 1.00\n",
      "[217900] loss:  0.00006  accuracy: 0.99 1.00 1.00\n",
      "[218000] loss:  0.00005  accuracy: 1.00 1.00 1.00\n",
      "[218100] loss:  0.00006  accuracy: 0.99 1.00 1.00\n",
      "[218200] loss:  0.00005  accuracy: 1.00 1.00 1.00\n",
      "[218300] loss:  0.00007  accuracy: 0.99 1.00 1.00\n",
      "[218400] loss:  0.00006  accuracy: 0.99 1.00 1.00\n",
      "[218500] loss:  0.00005  accuracy: 1.00 1.00 1.00\n",
      "[218600] loss:  0.00006  accuracy: 1.00 1.00 1.00\n",
      "[218700] loss:  0.00006  accuracy: 1.00 1.00 1.00\n",
      "[218800] loss:  0.00006  accuracy: 1.00 1.00 1.00\n",
      "[218900] loss:  0.00005  accuracy: 1.00 1.00 1.00\n",
      "[219000] loss:  0.00006  accuracy: 0.99 1.00 1.00\n",
      "[219100] loss:  0.00005  accuracy: 1.00 1.00 1.00\n",
      "[219200] loss:  0.00006  accuracy: 0.99 1.00 1.00\n",
      "[219300] loss:  0.00006  accuracy: 1.00 1.00 1.00\n",
      "[219400] loss:  0.00006  accuracy: 0.99 1.00 1.00\n",
      "[219500] loss:  0.00006  accuracy: 1.00 1.00 1.00\n",
      "[219600] loss:  0.00005  accuracy: 1.00 1.00 1.00\n",
      "[219700] loss:  0.00005  accuracy: 1.00 1.00 1.00\n",
      "[219800] loss:  0.00006  accuracy: 1.00 1.00 1.00\n",
      "[219900] loss:  0.00005  accuracy: 1.00 1.00 1.00\n",
      "[220000] loss:  0.00006  accuracy: 1.00 1.00 1.00\n",
      "[220100] loss:  0.00005  accuracy: 1.00 1.00 1.00\n",
      "[220200] loss:  0.00005  accuracy: 1.00 1.00 1.00\n",
      "[220300] loss:  0.00007  accuracy: 0.99 1.00 1.00\n",
      "[220400] loss:  0.00005  accuracy: 1.00 1.00 1.00\n",
      "[220500] loss:  0.00006  accuracy: 0.99 1.00 1.00\n",
      "[220600] loss:  0.00005  accuracy: 1.00 1.00 1.00\n",
      "[220700] loss:  0.00007  accuracy: 0.99 1.00 1.00\n",
      "[220800] loss:  0.00006  accuracy: 0.99 1.00 1.00\n",
      "[220900] loss:  0.00005  accuracy: 1.00 1.00 1.00\n",
      "[221000] loss:  0.00006  accuracy: 1.00 1.00 1.00\n",
      "[221100] loss:  0.00006  accuracy: 1.00 1.00 1.00\n",
      "[221200] loss:  0.00005  accuracy: 1.00 1.00 1.00\n",
      "[221300] loss:  0.00005  accuracy: 1.00 1.00 1.00\n",
      "[221400] loss:  0.00006  accuracy: 0.99 1.00 1.00\n",
      "[221500] loss:  0.00006  accuracy: 1.00 1.00 1.00\n",
      "[221600] loss:  0.00006  accuracy: 0.99 1.00 1.00\n",
      "[221700] loss:  0.00006  accuracy: 1.00 1.00 1.00\n",
      "[221800] loss:  0.00006  accuracy: 1.00 1.00 1.00\n",
      "[221900] loss:  0.00006  accuracy: 1.00 1.00 1.00\n",
      "[222000] loss:  0.00005  accuracy: 1.00 1.00 1.00\n",
      "[222100] loss:  0.00005  accuracy: 1.00 1.00 1.00\n",
      "[222200] loss:  0.00005  accuracy: 1.00 1.00 1.00\n",
      "[222300] loss:  0.00005  accuracy: 1.00 1.00 1.00\n",
      "[222400] loss:  0.00006  accuracy: 1.00 1.00 1.00\n",
      "[222500] loss:  0.00005  accuracy: 1.00 1.00 1.00\n",
      "[222600] loss:  0.00005  accuracy: 1.00 1.00 1.00\n",
      "[222700] loss:  0.00006  accuracy: 0.99 1.00 1.00\n",
      "[222800] loss:  0.00005  accuracy: 1.00 1.00 1.00\n",
      "[222900] loss:  0.00006  accuracy: 1.00 1.00 1.00\n",
      "[223000] loss:  0.00005  accuracy: 1.00 1.00 1.00\n",
      "[223100] loss:  0.00007  accuracy: 0.99 1.00 1.00\n",
      "[223200] loss:  0.00006  accuracy: 0.99 1.00 1.00\n",
      "[223300] loss:  0.00005  accuracy: 1.00 1.00 1.00\n",
      "[223400] loss:  0.00005  accuracy: 1.00 1.00 1.00\n",
      "[223500] loss:  0.00006  accuracy: 1.00 1.00 1.00\n",
      "[223600] loss:  0.00005  accuracy: 1.00 1.00 1.00\n",
      "[223700] loss:  0.00005  accuracy: 1.00 1.00 1.00\n",
      "[223800] loss:  0.00006  accuracy: 0.99 1.00 1.00\n",
      "[223900] loss:  0.00006  accuracy: 1.00 1.00 1.00\n",
      "[224000] loss:  0.00006  accuracy: 0.99 1.00 1.00\n",
      "[224100] loss:  0.00006  accuracy: 1.00 1.00 1.00\n",
      "[224200] loss:  0.00006  accuracy: 1.00 1.00 1.00\n",
      "[224300] loss:  0.00005  accuracy: 1.00 1.00 1.00\n",
      "[224400] loss:  0.00005  accuracy: 1.00 1.00 1.00\n",
      "[224500] loss:  0.00005  accuracy: 1.00 1.00 1.00\n",
      "[224600] loss:  0.00005  accuracy: 1.00 1.00 1.00\n",
      "[224700] loss:  0.00005  accuracy: 1.00 1.00 1.00\n",
      "[224800] loss:  0.00006  accuracy: 1.00 1.00 1.00\n",
      "[224900] loss:  0.00005  accuracy: 1.00 1.00 1.00\n",
      "[225000] loss:  0.00005  accuracy: 1.00 1.00 1.00\n",
      "[225100] loss:  0.00006  accuracy: 0.99 1.00 1.00\n",
      "[225200] loss:  0.00005  accuracy: 1.00 1.00 1.00\n",
      "[225300] loss:  0.00005  accuracy: 1.00 1.00 1.00\n",
      "[225400] loss:  0.00006  accuracy: 1.00 1.00 1.00\n",
      "[225500] loss:  0.00006  accuracy: 0.99 1.00 1.00\n",
      "[225600] loss:  0.00006  accuracy: 1.00 1.00 1.00\n",
      "[225700] loss:  0.00005  accuracy: 1.00 1.00 1.00\n",
      "[225800] loss:  0.00005  accuracy: 1.00 1.00 1.00\n",
      "[225900] loss:  0.00005  accuracy: 1.00 1.00 1.00\n",
      "[226000] loss:  0.00005  accuracy: 1.00 1.00 1.00\n",
      "[226100] loss:  0.00005  accuracy: 1.00 1.00 1.00\n",
      "[226200] loss:  0.00006  accuracy: 1.00 1.00 1.00\n",
      "[226300] loss:  0.00006  accuracy: 0.99 1.00 1.00\n",
      "[226400] loss:  0.00006  accuracy: 0.99 1.00 1.00\n",
      "[226500] loss:  0.00006  accuracy: 1.00 1.00 1.00\n",
      "[226600] loss:  0.00006  accuracy: 1.00 1.00 1.00\n",
      "[226700] loss:  0.00005  accuracy: 1.00 1.00 1.00\n",
      "[226800] loss:  0.00005  accuracy: 1.00 1.00 1.00\n",
      "[226900] loss:  0.00005  accuracy: 1.00 1.00 1.00\n",
      "[227000] loss:  0.00005  accuracy: 1.00 1.00 1.00\n",
      "[227100] loss:  0.00005  accuracy: 1.00 1.00 1.00\n",
      "[227200] loss:  0.00006  accuracy: 1.00 1.00 1.00\n",
      "[227300] loss:  0.00005  accuracy: 1.00 1.00 1.00\n",
      "[227400] loss:  0.00005  accuracy: 1.00 1.00 1.00\n",
      "[227500] loss:  0.00007  accuracy: 0.99 1.00 1.00\n",
      "[227600] loss:  0.00005  accuracy: 1.00 1.00 1.00\n",
      "[227700] loss:  0.00005  accuracy: 1.00 1.00 1.00\n",
      "[227800] loss:  0.00007  accuracy: 0.99 1.00 1.00\n",
      "[227900] loss:  0.00006  accuracy: 1.00 1.00 1.00\n",
      "[228000] loss:  0.00005  accuracy: 1.00 1.00 1.00\n",
      "[228100] loss:  0.00005  accuracy: 1.00 1.00 1.00\n",
      "[228200] loss:  0.00005  accuracy: 1.00 1.00 1.00\n",
      "[228300] loss:  0.00005  accuracy: 1.00 1.00 1.00\n",
      "[228400] loss:  0.00005  accuracy: 1.00 1.00 1.00\n",
      "[228500] loss:  0.00005  accuracy: 1.00 1.00 1.00\n",
      "[228600] loss:  0.00006  accuracy: 0.99 1.00 1.00\n",
      "[228700] loss:  0.00005  accuracy: 1.00 1.00 1.00\n",
      "[228800] loss:  0.00006  accuracy: 1.00 1.00 1.00\n",
      "[228900] loss:  0.00006  accuracy: 1.00 1.00 1.00\n",
      "[229000] loss:  0.00006  accuracy: 1.00 1.00 1.00\n",
      "[229100] loss:  0.00005  accuracy: 1.00 1.00 1.00\n",
      "[229200] loss:  0.00005  accuracy: 1.00 1.00 1.00\n",
      "[229300] loss:  0.00005  accuracy: 1.00 1.00 1.00\n",
      "[229400] loss:  0.00005  accuracy: 1.00 1.00 1.00\n",
      "[229500] loss:  0.00005  accuracy: 1.00 1.00 1.00\n",
      "[229600] loss:  0.00006  accuracy: 1.00 1.00 1.00\n",
      "[229700] loss:  0.00005  accuracy: 1.00 1.00 1.00\n",
      "[229800] loss:  0.00005  accuracy: 1.00 1.00 1.00\n",
      "[229900] loss:  0.00006  accuracy: 0.99 1.00 1.00\n",
      "[230000] loss:  0.00005  accuracy: 1.00 1.00 1.00\n",
      "[230100] loss:  0.00005  accuracy: 1.00 1.00 1.00\n",
      "[230200] loss:  0.00006  accuracy: 1.00 1.00 1.00\n",
      "[230300] loss:  0.00006  accuracy: 1.00 1.00 1.00\n",
      "[230400] loss:  0.00005  accuracy: 1.00 1.00 1.00\n",
      "[230500] loss:  0.00005  accuracy: 1.00 1.00 1.00\n",
      "[230600] loss:  0.00005  accuracy: 1.00 1.00 1.00\n",
      "[230700] loss:  0.00005  accuracy: 1.00 1.00 1.00\n",
      "[230800] loss:  0.00005  accuracy: 1.00 1.00 1.00\n",
      "[230900] loss:  0.00005  accuracy: 1.00 1.00 1.00\n",
      "[231000] loss:  0.00005  accuracy: 1.00 1.00 1.00\n",
      "[231100] loss:  0.00006  accuracy: 0.99 1.00 1.00\n",
      "[231200] loss:  0.00005  accuracy: 1.00 1.00 1.00\n",
      "[231300] loss:  0.00005  accuracy: 1.00 1.00 1.00\n",
      "[231400] loss:  0.00006  accuracy: 1.00 1.00 1.00\n",
      "[231500] loss:  0.00005  accuracy: 1.00 1.00 1.00\n",
      "[231600] loss:  0.00005  accuracy: 1.00 1.00 1.00\n",
      "[231700] loss:  0.00005  accuracy: 1.00 1.00 1.00\n",
      "[231800] loss:  0.00005  accuracy: 1.00 1.00 1.00\n",
      "[231900] loss:  0.00005  accuracy: 1.00 1.00 1.00\n",
      "[232000] loss:  0.00006  accuracy: 1.00 1.00 1.00\n",
      "[232100] loss:  0.00005  accuracy: 1.00 1.00 1.00\n",
      "[232200] loss:  0.00005  accuracy: 1.00 1.00 1.00\n",
      "[232300] loss:  0.00007  accuracy: 0.99 1.00 1.00\n",
      "[232400] loss:  0.00005  accuracy: 1.00 1.00 1.00\n",
      "[232500] loss:  0.00005  accuracy: 1.00 1.00 1.00\n",
      "[232600] loss:  0.00006  accuracy: 0.99 1.00 1.00\n",
      "[232700] loss:  0.00005  accuracy: 1.00 1.00 1.00\n",
      "[232800] loss:  0.00005  accuracy: 1.00 1.00 1.00\n",
      "[232900] loss:  0.00005  accuracy: 1.00 1.00 1.00\n",
      "[233000] loss:  0.00005  accuracy: 1.00 1.00 1.00\n",
      "[233100] loss:  0.00005  accuracy: 1.00 1.00 1.00\n",
      "[233200] loss:  0.00005  accuracy: 1.00 1.00 1.00\n",
      "[233300] loss:  0.00005  accuracy: 1.00 1.00 1.00\n",
      "[233400] loss:  0.00005  accuracy: 1.00 1.00 1.00\n",
      "[233500] loss:  0.00006  accuracy: 0.99 1.00 1.00\n",
      "[233600] loss:  0.00006  accuracy: 0.99 1.00 1.00\n",
      "[233700] loss:  0.00005  accuracy: 1.00 1.00 1.00\n",
      "[233800] loss:  0.00006  accuracy: 1.00 1.00 1.00\n",
      "[233900] loss:  0.00005  accuracy: 1.00 1.00 1.00\n",
      "[234000] loss:  0.00005  accuracy: 1.00 1.00 1.00\n",
      "[234100] loss:  0.00005  accuracy: 1.00 1.00 1.00\n",
      "[234200] loss:  0.00005  accuracy: 1.00 1.00 1.00\n",
      "[234300] loss:  0.00005  accuracy: 1.00 1.00 1.00\n",
      "[234400] loss:  0.00005  accuracy: 1.00 1.00 1.00\n",
      "[234500] loss:  0.00005  accuracy: 1.00 1.00 1.00\n",
      "[234600] loss:  0.00005  accuracy: 1.00 1.00 1.00\n",
      "[234700] loss:  0.00007  accuracy: 0.99 1.00 1.00\n",
      "[234800] loss:  0.00005  accuracy: 1.00 1.00 1.00\n",
      "[234900] loss:  0.00005  accuracy: 1.00 1.00 1.00\n",
      "[235000] loss:  0.00006  accuracy: 0.99 1.00 1.00\n",
      "[235100] loss:  0.00005  accuracy: 1.00 1.00 1.00\n",
      "[235200] loss:  0.00005  accuracy: 1.00 1.00 1.00\n",
      "[235300] loss:  0.00005  accuracy: 1.00 1.00 1.00\n",
      "[235400] loss:  0.00005  accuracy: 1.00 1.00 1.00\n",
      "[235500] loss:  0.00005  accuracy: 1.00 1.00 1.00\n",
      "[235600] loss:  0.00005  accuracy: 1.00 1.00 1.00\n",
      "[235700] loss:  0.00005  accuracy: 1.00 1.00 1.00\n",
      "[235800] loss:  0.00005  accuracy: 1.00 1.00 1.00\n",
      "[235900] loss:  0.00006  accuracy: 0.99 1.00 1.00\n",
      "[236000] loss:  0.00005  accuracy: 1.00 1.00 1.00\n",
      "[236100] loss:  0.00005  accuracy: 1.00 1.00 1.00\n",
      "[236200] loss:  0.00006  accuracy: 1.00 1.00 1.00\n",
      "[236300] loss:  0.00005  accuracy: 1.00 1.00 1.00\n",
      "[236400] loss:  0.00005  accuracy: 1.00 1.00 1.00\n",
      "[236500] loss:  0.00005  accuracy: 1.00 1.00 1.00\n",
      "[236600] loss:  0.00005  accuracy: 1.00 1.00 1.00\n",
      "[236700] loss:  0.00005  accuracy: 1.00 1.00 1.00\n",
      "[236800] loss:  0.00005  accuracy: 1.00 1.00 1.00\n",
      "[236900] loss:  0.00004  accuracy: 1.00 1.00 1.00\n",
      "[237000] loss:  0.00005  accuracy: 1.00 1.00 1.00\n",
      "[237100] loss:  0.00007  accuracy: 0.99 1.00 1.00\n",
      "[237200] loss:  0.00004  accuracy: 1.00 1.00 1.00\n",
      "[237300] loss:  0.00005  accuracy: 0.99 1.00 1.00\n",
      "[237400] loss:  0.00006  accuracy: 0.99 1.00 1.00\n",
      "[237500] loss:  0.00005  accuracy: 1.00 1.00 1.00\n",
      "[237600] loss:  0.00005  accuracy: 1.00 1.00 1.00\n",
      "[237700] loss:  0.00005  accuracy: 1.00 1.00 1.00\n",
      "[237800] loss:  0.00005  accuracy: 1.00 1.00 1.00\n",
      "[237900] loss:  0.00005  accuracy: 1.00 1.00 1.00\n",
      "[238000] loss:  0.00005  accuracy: 1.00 1.00 1.00\n",
      "[238100] loss:  0.00005  accuracy: 1.00 1.00 1.00\n",
      "[238200] loss:  0.00005  accuracy: 1.00 1.00 1.00\n",
      "[238300] loss:  0.00005  accuracy: 0.99 1.00 1.00\n",
      "[238400] loss:  0.00005  accuracy: 1.00 1.00 1.00\n",
      "[238500] loss:  0.00005  accuracy: 1.00 1.00 1.00\n",
      "[238600] loss:  0.00005  accuracy: 1.00 1.00 1.00\n",
      "[238700] loss:  0.00004  accuracy: 1.00 1.00 1.00\n",
      "[238800] loss:  0.00005  accuracy: 1.00 1.00 1.00\n",
      "[238900] loss:  0.00004  accuracy: 1.00 1.00 1.00\n",
      "[239000] loss:  0.00005  accuracy: 1.00 1.00 1.00\n",
      "[239100] loss:  0.00004  accuracy: 1.00 1.00 1.00\n",
      "[239200] loss:  0.00005  accuracy: 1.00 1.00 1.00\n",
      "[239300] loss:  0.00005  accuracy: 1.00 1.00 1.00\n",
      "[239400] loss:  0.00005  accuracy: 1.00 1.00 1.00\n",
      "[239500] loss:  0.00005  accuracy: 0.99 1.00 1.00\n",
      "[239600] loss:  0.00005  accuracy: 1.00 1.00 1.00\n",
      "[239700] loss:  0.00005  accuracy: 1.00 1.00 1.00\n",
      "[239800] loss:  0.00004  accuracy: 1.00 1.00 1.00\n",
      "[239900] loss:  0.00005  accuracy: 1.00 1.00 1.00\n",
      "[240000] loss:  0.00004  accuracy: 1.00 1.00 1.00\n"
     ]
    }
   ],
   "source": [
    "epoch_size = 2400\n",
    "n_epochs = 100\n",
    "log_cycle = 100\n",
    "\n",
    "running_loss = []\n",
    "running_accuracy = []\n",
    "running_plusminusone = []\n",
    "running_plusminustwo = []\n",
    "\n",
    "for i in trange(n_epochs * epoch_size + 1):\n",
    "    inputs, labels = get_batch(i % epoch_size)\n",
    "    inputs = transform_grids(inputs, i)\n",
    "    optimizer.zero_grad()\n",
    "    outputs = net(inputs)\n",
    "    loss = nloss(outputs, labels)\n",
    "    loss.backward()\n",
    "    optimizer.step()\n",
    "    running_loss.append(loss.item())\n",
    "    running_accuracy.append(accuracy(outputs, labels).item())\n",
    "    running_plusminusone.append(plusminusone(outputs, labels).item())\n",
    "    running_plusminustwo.append(plusminustwo(outputs, labels).item())\n",
    "\n",
    "    if i % log_cycle == 0:\n",
    "        running_loss_data.append(np.mean(running_loss))\n",
    "        running_accuracy_data.append(np.mean(running_accuracy))\n",
    "        running_plusminusone_data.append(np.mean(running_plusminusone))\n",
    "        running_plusminustwo_data.append(np.mean(running_plusminustwo))\n",
    "\n",
    "        print('[%6d] loss: %8.5f  accuracy: %4.2f %4.2f %4.2f' %\n",
    "              (i, running_loss_data[-1], running_accuracy_data[-1],\n",
    "               running_plusminusone_data[-1], running_plusminustwo_data[-1]))\n",
    "\n",
    "        torch.save(net, 'models/Descartes_temp_%05d' % (i / log_cycle))\n",
    "\n",
    "        running_loss = []\n",
    "        running_accuracy = []\n",
    "        running_plusminusone = []\n",
    "        running_plusminustwo = []"
   ]
  },
  {
   "cell_type": "code",
   "execution_count": 42,
   "metadata": {
    "executionInfo": {
     "elapsed": 8,
     "status": "ok",
     "timestamp": 1693310822274,
     "user": {
      "displayName": "Marc Gillioz",
      "userId": "05048493031573274543"
     },
     "user_tz": -120
    },
    "id": "3_t5Whi7_nKf"
   },
   "outputs": [],
   "source": [
    "# torch.save(net, 'models/Descartes_counting.pt')"
   ]
  },
  {
   "cell_type": "code",
   "execution_count": 41,
   "metadata": {
    "executionInfo": {
     "elapsed": 251,
     "status": "ok",
     "timestamp": 1693310822517,
     "user": {
      "displayName": "Marc Gillioz",
      "userId": "05048493031573274543"
     },
     "user_tz": -120
    },
    "id": "8dNU8tz0_nKf"
   },
   "outputs": [],
   "source": [
    "# !cp models/Descartes_counting.pt '/content/drive/MyDrive/Colab Notebooks/'"
   ]
  },
  {
   "cell_type": "code",
   "execution_count": 47,
   "metadata": {
    "colab": {
     "base_uri": "https://localhost:8080/",
     "height": 449
    },
    "executionInfo": {
     "elapsed": 635,
     "status": "ok",
     "timestamp": 1693310906859,
     "user": {
      "displayName": "Marc Gillioz",
      "userId": "05048493031573274543"
     },
     "user_tz": -120
    },
    "id": "SUuYJw0m_nKg",
    "outputId": "804c654b-95dc-4c9a-f280-37e25011aa3c"
   },
   "outputs": [
    {
     "data": {
      "image/png": "[encoded data removed]",
      "text/plain": [
       "<Figure size 640x480 with 1 Axes>"
      ]
     },
     "metadata": {},
     "output_type": "display_data"
    }
   ],
   "source": [
    "plt.plot(running_loss_data, color='red')\n",
    "plt.xlabel('Time')\n",
    "plt.xlim(0, len(running_loss_data) - 1)\n",
    "plt.ylabel('Loss function')\n",
    "plt.yscale('log')\n",
    "# plt.savefig('Descartes_loss.png', bbox_inches='tight')\n",
    "plt.show()"
   ]
  },
  {
   "cell_type": "code",
   "execution_count": 48,
   "metadata": {
    "colab": {
     "base_uri": "https://localhost:8080/",
     "height": 455
    },
    "executionInfo": {
     "elapsed": 405,
     "status": "ok",
     "timestamp": 1693310909941,
     "user": {
      "displayName": "Marc Gillioz",
      "userId": "05048493031573274543"
     },
     "user_tz": -120
    },
    "id": "HZ2ei-q3_nKh",
    "outputId": "3d6eade3-dbf1-4beb-c093-3996dbcec3ff"
   },
   "outputs": [
    {
     "data": {
      "image/png": "[encoded data removed]",
      "text/plain": [
       "<Figure size 640x480 with 1 Axes>"
      ]
     },
     "metadata": {},
     "output_type": "display_data"
    }
   ],
   "source": [
    "plt.plot(running_plusminustwo_data, color='lightblue')\n",
    "plt.plot(running_plusminusone_data, color='blue')\n",
    "plt.plot(running_accuracy_data, color='darkblue')\n",
    "plt.xlabel('Time')\n",
    "plt.ylabel('Accuracy')\n",
    "plt.xlim(0, len(running_accuracy_data) - 1)\n",
    "plt.ylim(0, 1)\n",
    "# plt.savefig('Descartes_accuracy.png', bbox_inches='tight')\n",
    "plt.show()"
   ]
  },
  {
   "cell_type": "code",
   "execution_count": 50,
   "metadata": {
    "executionInfo": {
     "elapsed": 229,
     "status": "ok",
     "timestamp": 1693311013576,
     "user": {
      "displayName": "Marc Gillioz",
      "userId": "05048493031573274543"
     },
     "user_tz": -120
    },
    "id": "vjXxVjfb_nKh"
   },
   "outputs": [],
   "source": [
    "error_data = [1.0 - data for data in running_accuracy_data]\n",
    "error_plusminusone_data = [1.0 - data for data in running_plusminusone_data]\n",
    "error_plusminustwo_data = [1.0 - data for data in running_plusminustwo_data]"
   ]
  },
  {
   "cell_type": "code",
   "execution_count": 52,
   "metadata": {
    "colab": {
     "base_uri": "https://localhost:8080/",
     "height": 457
    },
    "executionInfo": {
     "elapsed": 1436,
     "status": "ok",
     "timestamp": 1693311047451,
     "user": {
      "displayName": "Marc Gillioz",
      "userId": "05048493031573274543"
     },
     "user_tz": -120
    },
    "id": "oXQuSFsl_nKi",
    "outputId": "82918fd6-83ae-42ed-e676-826eeed64362"
   },
   "outputs": [
    {
     "data": {
      "image/png": "[encoded data removed]",
      "text/plain": [
       "<Figure size 640x480 with 1 Axes>"
      ]
     },
     "metadata": {},
     "output_type": "display_data"
    }
   ],
   "source": [
    "plt.plot(error_plusminustwo_data, color='lightblue')\n",
    "plt.plot(error_plusminusone_data, color='blue')\n",
    "plt.plot(error_data, color='darkblue')\n",
    "plt.xlabel('Time')\n",
    "plt.xlim(0, len(error_data) - 1)\n",
    "plt.ylabel('Error')\n",
    "plt.ylim(1e-5,1)\n",
    "plt.yscale('log')\n",
    "# plt.savefig('Descartes_error.png', bbox_inches='tight')\n",
    "plt.show()"
   ]
  },
  {
   "cell_type": "markdown",
   "metadata": {
    "id": "n8GFB2x1_nKm"
   },
   "source": [
    "## Loading the model\n",
    "\n",
    "Once the model has been trained, this can be used to load its state dictionary:"
   ]
  },
  {
   "cell_type": "code",
   "execution_count": 43,
   "metadata": {
    "colab": {
     "base_uri": "https://localhost:8080/"
    },
    "executionInfo": {
     "elapsed": 6,
     "status": "ok",
     "timestamp": 1693311064087,
     "user": {
      "displayName": "Marc Gillioz",
      "userId": "05048493031573274543"
     },
     "user_tz": -120
    },
    "id": "fUjku_Vo_nKn",
    "outputId": "bfde8a6c-58f6-4a44-c695-1c1d3cc12347"
   },
   "outputs": [
    {
     "data": {
      "text/plain": [
       "Sequential(\n",
       "  (0): Conv2d(1, 20, kernel_size=(3, 3), stride=(3, 3))\n",
       "  (1): ReLU()\n",
       "  (2): Conv2d(20, 40, kernel_size=(2, 2), stride=(1, 1))\n",
       "  (3): ReLU()\n",
       "  (4): Conv2d(40, 40, kernel_size=(2, 2), stride=(1, 1))\n",
       "  (5): ReLU()\n",
       "  (6): Conv2d(40, 40, kernel_size=(2, 2), stride=(1, 1))\n",
       "  (7): ReLU()\n",
       "  (8): Conv2d(40, 40, kernel_size=(2, 2), stride=(1, 1))\n",
       "  (9): ReLU()\n",
       "  (10): AdaptiveAvgPool2d(output_size=1)\n",
       "  (11): Flatten(start_dim=1, end_dim=-1)\n",
       "  (12): Linear(in_features=40, out_features=20, bias=True)\n",
       "  (13): ReLU()\n",
       "  (14): Linear(in_features=20, out_features=10, bias=True)\n",
       "  (15): ReLU()\n",
       "  (16): Linear(in_features=10, out_features=1, bias=True)\n",
       ")"
      ]
     },
     "execution_count": 43,
     "metadata": {},
     "output_type": "execute_result"
    }
   ],
   "source": [
    "net2 = torch.load('models/Descartes_counting.pt', map_location=device)\n",
    "net2.eval()"
   ]
  },
  {
   "cell_type": "code",
   "execution_count": 44,
   "metadata": {
    "id": "8BKtlRuf_nKo"
   },
   "outputs": [],
   "source": [
    "# x, y = get_batch(0)"
   ]
  },
  {
   "cell_type": "code",
   "execution_count": null,
   "metadata": {
    "id": "a3EYfIjr_nKo"
   },
   "outputs": [],
   "source": [
    "# torch.onnx.export(net2, x, 'models/Descartes.onnx', export_params=True, input_names=[\"images\"], output_names=[\"branches_count\"],  dynamic_axes={'images' : {0 : 'batch_size'}, 'branches_count' : {0 : 'batch_size'}})"
   ]
  },
  {
   "cell_type": "code",
   "execution_count": null,
   "metadata": {
    "id": "kBGXjKcZ_nKp"
   },
   "outputs": [],
   "source": [
    "# x.shape"
   ]
  },
  {
   "cell_type": "markdown",
   "metadata": {
    "id": "McUPU4Bp_nKq"
   },
   "source": [
    "## Validation"
   ]
  },
  {
   "cell_type": "code",
   "execution_count": 55,
   "metadata": {
    "colab": {
     "base_uri": "https://localhost:8080/"
    },
    "executionInfo": {
     "elapsed": 1593,
     "status": "ok",
     "timestamp": 1693311073091,
     "user": {
      "displayName": "Marc Gillioz",
      "userId": "05048493031573274543"
     },
     "user_tz": -120
    },
    "id": "B7jzNqse_nKq",
    "outputId": "6d4ae0ff-b2ec-4c72-f109-961220b7963e"
   },
   "outputs": [
    {
     "data": {
      "application/vnd.jupyter.widget-view+json": {
       "model_id": "e02fffa2cdbb46e08a6f21e2aa13f1ee",
       "version_major": 2,
       "version_minor": 0
      },
      "text/plain": [
       "  0%|          | 0/100 [00:00<?, ?it/s]"
      ]
     },
     "metadata": {},
     "output_type": "display_data"
    },
    {
     "data": {
      "text/plain": [
       "(torch.Size([20000, 1, 96, 96]),\n",
       " torch.Size([20000, 1]),\n",
       " torch.Size([20000, 1]))"
      ]
     },
     "execution_count": 55,
     "metadata": {},
     "output_type": "execute_result"
    }
   ],
   "source": [
    "x = []\n",
    "y = []\n",
    "y_preds = []\n",
    "for i in trange(2400, 2500):\n",
    "    xi, yi = get_batch(i)\n",
    "    x.append(xi)\n",
    "    y.append(yi)\n",
    "    y_preds.append(net2(xi))\n",
    "x = torch.cat(x)\n",
    "y = torch.cat(y)\n",
    "y_preds = torch.cat(y_preds)\n",
    "x.shape, y.shape, y_preds.shape"
   ]
  },
  {
   "cell_type": "code",
   "execution_count": 60,
   "metadata": {
    "id": "Dt-hZK5I_nKr",
    "outputId": "a571e902-b926-4fdc-cfb0-15fcce41a34d"
   },
   "outputs": [
    {
     "data": {
      "text/plain": [
       "tensor(0.9992)"
      ]
     },
     "execution_count": 60,
     "metadata": {},
     "output_type": "execute_result"
    }
   ],
   "source": [
    "accuracy(y_preds, y)"
   ]
  },
  {
   "cell_type": "code",
   "execution_count": 61,
   "metadata": {
    "id": "1ApISU5e_nKr",
    "outputId": "5019a2cc-509d-4e5e-e9ff-cb57f6320d99"
   },
   "outputs": [
    {
     "data": {
      "text/plain": [
       "tensor(0.9998)"
      ]
     },
     "execution_count": 61,
     "metadata": {},
     "output_type": "execute_result"
    }
   ],
   "source": [
    "plusminusone(y_preds, y)"
   ]
  },
  {
   "cell_type": "code",
   "execution_count": 62,
   "metadata": {
    "id": "0sjWQktD_nKr",
    "outputId": "86512052-ff3f-44fe-c291-b5da4affbde1"
   },
   "outputs": [
    {
     "data": {
      "text/plain": [
       "tensor(0.9999)"
      ]
     },
     "execution_count": 62,
     "metadata": {},
     "output_type": "execute_result"
    }
   ],
   "source": [
    "plusminustwo(y_preds, y)"
   ]
  },
  {
   "cell_type": "code",
   "execution_count": 63,
   "metadata": {
    "id": "jJuz4Hg6_nKs",
    "outputId": "ffe99854-5da4-454c-c297-99d1747dd87f"
   },
   "outputs": [
    {
     "data": {
      "text/plain": [
       "(tensor(0.6284),\n",
       " tensor(0.1918),\n",
       " tensor(0.6285, grad_fn=<MeanBackward0>),\n",
       " tensor(0.1920, grad_fn=<StdBackward0>))"
      ]
     },
     "execution_count": 63,
     "metadata": {},
     "output_type": "execute_result"
    }
   ],
   "source": [
    "y.mean(), y.std(), y_preds.mean(), y_preds.std()"
   ]
  },
  {
   "cell_type": "code",
   "execution_count": 64,
   "metadata": {
    "id": "msUhinjS_nKt",
    "outputId": "d558e4ce-8b58-415c-ae16-0d3495686e3c"
   },
   "outputs": [
    {
     "data": {
      "text/plain": [
       "(tensor([[12.0000],\n",
       "         [17.0000],\n",
       "         [12.0000],\n",
       "         [15.0000],\n",
       "         [10.0000],\n",
       "         [ 0.0000],\n",
       "         [16.0000],\n",
       "         [ 8.0000],\n",
       "         [ 2.0000],\n",
       "         [ 9.0000]]),\n",
       " tensor([[1.2184e+01],\n",
       "         [1.7109e+01],\n",
       "         [1.2038e+01],\n",
       "         [1.5082e+01],\n",
       "         [9.9183e+00],\n",
       "         [8.1831e-04],\n",
       "         [1.5980e+01],\n",
       "         [8.1779e+00],\n",
       "         [2.0171e+00],\n",
       "         [9.0350e+00]], grad_fn=<SliceBackward0>))"
      ]
     },
     "execution_count": 64,
     "metadata": {},
     "output_type": "execute_result"
    }
   ],
   "source": [
    "n = 5.0 * y / (1.0 - y)\n",
    "n_preds = 5.0 * y_preds / (1.0 - y_preds)\n",
    "n[0:10], n_preds[0:10]"
   ]
  },
  {
   "cell_type": "code",
   "execution_count": 65,
   "metadata": {
    "id": "A_gL8c7t_nKt"
   },
   "outputs": [],
   "source": [
    "mistakes = [i for i in range(y.shape[0])\n",
    "            if torch.abs(n[i] - n_preds[i]) >= 0.5]"
   ]
  },
  {
   "cell_type": "code",
   "execution_count": 68,
   "metadata": {},
   "outputs": [
    {
     "data": {
      "text/plain": [
       "[166,\n",
       " 726,\n",
       " 1091,\n",
       " 2524,\n",
       " 2568,\n",
       " 3243,\n",
       " 3319,\n",
       " 5428,\n",
       " 6162,\n",
       " 8160,\n",
       " 8326,\n",
       " 10095,\n",
       " 10964,\n",
       " 17279,\n",
       " 19997]"
      ]
     },
     "execution_count": 68,
     "metadata": {},
     "output_type": "execute_result"
    }
   ],
   "source": [
    "mistakes"
   ]
  },
  {
   "cell_type": "code",
   "execution_count": 70,
   "metadata": {
    "id": "xmSXClLj_nKu",
    "outputId": "3b70cc67-6e7a-4547-ae3e-90f25a823ee2"
   },
   "outputs": [
    {
     "data": {
      "image/png": "[encoded data removed]",
      "text/plain": [
       "<PIL.Image.Image image mode=1 size=96x96>"
      ]
     },
     "execution_count": 70,
     "metadata": {},
     "output_type": "execute_result"
    }
   ],
   "source": [
    "visualize(x[mistakes[0]])"
   ]
  },
  {
   "cell_type": "code",
   "execution_count": 71,
   "metadata": {
    "id": "PWf0RWiG_nKu",
    "outputId": "d30f1afe-98ed-4b5d-910a-b0beef81f956"
   },
   "outputs": [
    {
     "data": {
      "text/plain": [
       "(tensor([30.]), tensor([30.6635], grad_fn=<SelectBackward0>))"
      ]
     },
     "execution_count": 71,
     "metadata": {},
     "output_type": "execute_result"
    }
   ],
   "source": [
    "n[mistakes[0]], n_preds[mistakes[0]]"
   ]
  },
  {
   "cell_type": "code",
   "execution_count": 74,
   "metadata": {
    "id": "KqABUaPo_nKu",
    "outputId": "358b1f2e-df16-4d90-aadb-df29953f2edb"
   },
   "outputs": [
    {
     "data": {
      "text/plain": [
       "[(tensor([30.]), tensor([30.6635], grad_fn=<SelectBackward0>)),\n",
       " (tensor([30.]), tensor([30.5641], grad_fn=<SelectBackward0>)),\n",
       " (tensor([17.0000]), tensor([17.5868], grad_fn=<SelectBackward0>)),\n",
       " (tensor([12.0000]), tensor([12.5024], grad_fn=<SelectBackward0>)),\n",
       " (tensor([29.0000]), tensor([29.5761], grad_fn=<SelectBackward0>)),\n",
       " (tensor([29.0000]), tensor([29.5312], grad_fn=<SelectBackward0>)),\n",
       " (tensor([30.]), tensor([30.7243], grad_fn=<SelectBackward0>)),\n",
       " (tensor([31.0000]), tensor([32.5151], grad_fn=<SelectBackward0>)),\n",
       " (tensor([31.0000]), tensor([31.7370], grad_fn=<SelectBackward0>)),\n",
       " (tensor([8.0000]), tensor([7.4393], grad_fn=<SelectBackward0>)),\n",
       " (tensor([17.0000]), tensor([17.5767], grad_fn=<SelectBackward0>)),\n",
       " (tensor([34.0000]), tensor([36.8700], grad_fn=<SelectBackward0>)),\n",
       " (tensor([17.0000]), tensor([17.6531], grad_fn=<SelectBackward0>)),\n",
       " (tensor([33.0000]), tensor([34.8562], grad_fn=<SelectBackward0>)),\n",
       " (tensor([30.]), tensor([30.8176], grad_fn=<SelectBackward0>))]"
      ]
     },
     "execution_count": 74,
     "metadata": {},
     "output_type": "execute_result"
    }
   ],
   "source": [
    "[(n[i], n_preds[i]) for i in mistakes]"
   ]
  },
  {
   "cell_type": "markdown",
   "metadata": {
    "id": "coZvwGFF_nKv"
   },
   "source": [
    "## Inference\n",
    "\n",
    "To verify how good the model is, we can test it on a type of grid that it has never seen before:"
   ]
  },
  {
   "cell_type": "code",
   "execution_count": 75,
   "metadata": {},
   "outputs": [],
   "source": [
    "import sys\n",
    "sys.path.append(sys.path[0] + '/../cpp/bin')\n",
    "\n",
    "import PyMorpionSolitaire"
   ]
  },
  {
   "cell_type": "code",
   "execution_count": 106,
   "metadata": {},
   "outputs": [],
   "source": [
    "game = PyMorpionSolitaire.Game5T('p')\n",
    "x = torch.tensor(game.image()[48:144, 48:144]).float().unsqueeze(0).unsqueeze(0).to(device)\n",
    "n = game.getNumberOfMoves()"
   ]
  },
  {
   "cell_type": "code",
   "execution_count": 107,
   "metadata": {},
   "outputs": [
    {
     "data": {
      "image/png": "[encoded data removed]",
      "text/plain": [
       "<PIL.Image.Image image mode=1 size=96x96>"
      ]
     },
     "execution_count": 107,
     "metadata": {},
     "output_type": "execute_result"
    }
   ],
   "source": [
    "visualize(x)"
   ]
  },
  {
   "cell_type": "code",
   "execution_count": 108,
   "metadata": {},
   "outputs": [
    {
     "data": {
      "text/plain": [
       "24"
      ]
     },
     "execution_count": 108,
     "metadata": {},
     "output_type": "execute_result"
    }
   ],
   "source": [
    "n"
   ]
  },
  {
   "cell_type": "code",
   "execution_count": 109,
   "metadata": {
    "id": "zvOHBHXr_nKw"
   },
   "outputs": [
    {
     "data": {
      "text/plain": [
       "tensor([[24.4506]])"
      ]
     },
     "execution_count": 109,
     "metadata": {},
     "output_type": "execute_result"
    }
   ],
   "source": [
    "y = net2(x).data\n",
    "5.0 * y / (1.0 - y)"
   ]
  },
  {
   "cell_type": "code",
   "execution_count": 110,
   "metadata": {},
   "outputs": [],
   "source": [
    "game.playAtRandom(10)\n",
    "x = torch.tensor(game.image()[48:144, 48:144]).float().unsqueeze(0).unsqueeze(0).to(device)\n",
    "n = game.getNumberOfMoves()"
   ]
  },
  {
   "cell_type": "code",
   "execution_count": 111,
   "metadata": {
    "id": "avu60shN_nKx"
   },
   "outputs": [
    {
     "data": {
      "image/png": "[encoded data removed]",
      "text/plain": [
       "<PIL.Image.Image image mode=1 size=96x96>"
      ]
     },
     "execution_count": 111,
     "metadata": {},
     "output_type": "execute_result"
    }
   ],
   "source": [
    "visualize(x)"
   ]
  },
  {
   "cell_type": "code",
   "execution_count": 112,
   "metadata": {},
   "outputs": [
    {
     "data": {
      "text/plain": [
       "9"
      ]
     },
     "execution_count": 112,
     "metadata": {},
     "output_type": "execute_result"
    }
   ],
   "source": [
    "n"
   ]
  },
  {
   "cell_type": "code",
   "execution_count": 113,
   "metadata": {
    "id": "sL8_9d-Y_nKy"
   },
   "outputs": [
    {
     "data": {
      "text/plain": [
       "tensor([[8.8333]])"
      ]
     },
     "execution_count": 113,
     "metadata": {},
     "output_type": "execute_result"
    }
   ],
   "source": [
    "y = net2(x).data\n",
    "5.0 * y / (1.0 - y)"
   ]
  }
 ],
 "metadata": {
  "accelerator": "GPU",
  "colab": {
   "gpuType": "V100",
   "provenance": []
  },
  "kernelspec": {
   "display_name": "Python 3 (ipykernel)",
   "language": "python",
   "name": "python3"
  },
  "language_info": {
   "codemirror_mode": {
    "name": "ipython",
    "version": 3
   },
   "file_extension": ".py",
   "mimetype": "text/x-python",
   "name": "python",
   "nbconvert_exporter": "python",
   "pygments_lexer": "ipython3",
   "version": "3.10.11"
  },
  "widgets": {
   "application/vnd.jupyter.widget-state+json": {
    "0b4153603a2843d68eaca642a971d786": {
     "model_module": "@jupyter-widgets/controls",
     "model_module_version": "1.5.0",
     "model_name": "HTMLModel",
     "state": {
      "_dom_classes": [],
      "_model_module": "@jupyter-widgets/controls",
      "_model_module_version": "1.5.0",
      "_model_name": "HTMLModel",
      "_view_count": null,
      "_view_module": "@jupyter-widgets/controls",
      "_view_module_version": "1.5.0",
      "_view_name": "HTMLView",
      "description": "",
      "description_tooltip": null,
      "layout": "IPY_MODEL_f4b6eb7c33f243068ea2a94e9792252d",
      "placeholder": "​",
      "style": "IPY_MODEL_a8bb6040af7642edb77085248bf97805",
      "value": "100%"
     }
    },
    "3505234c1452400da6d5a7263e0fee38": {
     "model_module": "@jupyter-widgets/controls",
     "model_module_version": "1.5.0",
     "model_name": "FloatProgressModel",
     "state": {
      "_dom_classes": [],
      "_model_module": "@jupyter-widgets/controls",
      "_model_module_version": "1.5.0",
      "_model_name": "FloatProgressModel",
      "_view_count": null,
      "_view_module": "@jupyter-widgets/controls",
      "_view_module_version": "1.5.0",
      "_view_name": "ProgressView",
      "bar_style": "success",
      "description": "",
      "description_tooltip": null,
      "layout": "IPY_MODEL_f00d5530e63c4ccaab1f97593803d99a",
      "max": 240001,
      "min": 0,
      "orientation": "horizontal",
      "style": "IPY_MODEL_a05ac733ca954ec3a413485ff2d30a5a",
      "value": 240001
     }
    },
    "595732e25a7c47c7b1e04cfae30e6fff": {
     "model_module": "@jupyter-widgets/base",
     "model_module_version": "1.2.0",
     "model_name": "LayoutModel",
     "state": {
      "_model_module": "@jupyter-widgets/base",
      "_model_module_version": "1.2.0",
      "_model_name": "LayoutModel",
      "_view_count": null,
      "_view_module": "@jupyter-widgets/base",
      "_view_module_version": "1.2.0",
      "_view_name": "LayoutView",
      "align_content": null,
      "align_items": null,
      "align_self": null,
      "border": null,
      "bottom": null,
      "display": null,
      "flex": null,
      "flex_flow": null,
      "grid_area": null,
      "grid_auto_columns": null,
      "grid_auto_flow": null,
      "grid_auto_rows": null,
      "grid_column": null,
      "grid_gap": null,
      "grid_row": null,
      "grid_template_areas": null,
      "grid_template_columns": null,
      "grid_template_rows": null,
      "height": null,
      "justify_content": null,
      "justify_items": null,
      "left": null,
      "margin": null,
      "max_height": null,
      "max_width": null,
      "min_height": null,
      "min_width": null,
      "object_fit": null,
      "object_position": null,
      "order": null,
      "overflow": null,
      "overflow_x": null,
      "overflow_y": null,
      "padding": null,
      "right": null,
      "top": null,
      "visibility": null,
      "width": null
     }
    },
    "898d6effe4874d2f86bf9a9d7dfe21f1": {
     "model_module": "@jupyter-widgets/controls",
     "model_module_version": "1.5.0",
     "model_name": "HBoxModel",
     "state": {
      "_dom_classes": [],
      "_model_module": "@jupyter-widgets/controls",
      "_model_module_version": "1.5.0",
      "_model_name": "HBoxModel",
      "_view_count": null,
      "_view_module": "@jupyter-widgets/controls",
      "_view_module_version": "1.5.0",
      "_view_name": "HBoxView",
      "box_style": "",
      "children": [
       "IPY_MODEL_0b4153603a2843d68eaca642a971d786",
       "IPY_MODEL_3505234c1452400da6d5a7263e0fee38",
       "IPY_MODEL_94d16d90df79469d8365286cb057cc98"
      ],
      "layout": "IPY_MODEL_c1cff46144934d2ca349071153b9e7ea"
     }
    },
    "94d16d90df79469d8365286cb057cc98": {
     "model_module": "@jupyter-widgets/controls",
     "model_module_version": "1.5.0",
     "model_name": "HTMLModel",
     "state": {
      "_dom_classes": [],
      "_model_module": "@jupyter-widgets/controls",
      "_model_module_version": "1.5.0",
      "_model_name": "HTMLModel",
      "_view_count": null,
      "_view_module": "@jupyter-widgets/controls",
      "_view_module_version": "1.5.0",
      "_view_name": "HTMLView",
      "description": "",
      "description_tooltip": null,
      "layout": "IPY_MODEL_595732e25a7c47c7b1e04cfae30e6fff",
      "placeholder": "​",
      "style": "IPY_MODEL_b5557f4159504f0d80eb2c6e09c52741",
      "value": " 240001/240001 [50:24&lt;00:00, 73.13it/s]"
     }
    },
    "a05ac733ca954ec3a413485ff2d30a5a": {
     "model_module": "@jupyter-widgets/controls",
     "model_module_version": "1.5.0",
     "model_name": "ProgressStyleModel",
     "state": {
      "_model_module": "@jupyter-widgets/controls",
      "_model_module_version": "1.5.0",
      "_model_name": "ProgressStyleModel",
      "_view_count": null,
      "_view_module": "@jupyter-widgets/base",
      "_view_module_version": "1.2.0",
      "_view_name": "StyleView",
      "bar_color": null,
      "description_width": ""
     }
    },
    "a8bb6040af7642edb77085248bf97805": {
     "model_module": "@jupyter-widgets/controls",
     "model_module_version": "1.5.0",
     "model_name": "DescriptionStyleModel",
     "state": {
      "_model_module": "@jupyter-widgets/controls",
      "_model_module_version": "1.5.0",
      "_model_name": "DescriptionStyleModel",
      "_view_count": null,
      "_view_module": "@jupyter-widgets/base",
      "_view_module_version": "1.2.0",
      "_view_name": "StyleView",
      "description_width": ""
     }
    },
    "b5557f4159504f0d80eb2c6e09c52741": {
     "model_module": "@jupyter-widgets/controls",
     "model_module_version": "1.5.0",
     "model_name": "DescriptionStyleModel",
     "state": {
      "_model_module": "@jupyter-widgets/controls",
      "_model_module_version": "1.5.0",
      "_model_name": "DescriptionStyleModel",
      "_view_count": null,
      "_view_module": "@jupyter-widgets/base",
      "_view_module_version": "1.2.0",
      "_view_name": "StyleView",
      "description_width": ""
     }
    },
    "c1cff46144934d2ca349071153b9e7ea": {
     "model_module": "@jupyter-widgets/base",
     "model_module_version": "1.2.0",
     "model_name": "LayoutModel",
     "state": {
      "_model_module": "@jupyter-widgets/base",
      "_model_module_version": "1.2.0",
      "_model_name": "LayoutModel",
      "_view_count": null,
      "_view_module": "@jupyter-widgets/base",
      "_view_module_version": "1.2.0",
      "_view_name": "LayoutView",
      "align_content": null,
      "align_items": null,
      "align_self": null,
      "border": null,
      "bottom": null,
      "display": null,
      "flex": null,
      "flex_flow": null,
      "grid_area": null,
      "grid_auto_columns": null,
      "grid_auto_flow": null,
      "grid_auto_rows": null,
      "grid_column": null,
      "grid_gap": null,
      "grid_row": null,
      "grid_template_areas": null,
      "grid_template_columns": null,
      "grid_template_rows": null,
      "height": null,
      "justify_content": null,
      "justify_items": null,
      "left": null,
      "margin": null,
      "max_height": null,
      "max_width": null,
      "min_height": null,
      "min_width": null,
      "object_fit": null,
      "object_position": null,
      "order": null,
      "overflow": null,
      "overflow_x": null,
      "overflow_y": null,
      "padding": null,
      "right": null,
      "top": null,
      "visibility": null,
      "width": null
     }
    },
    "f00d5530e63c4ccaab1f97593803d99a": {
     "model_module": "@jupyter-widgets/base",
     "model_module_version": "1.2.0",
     "model_name": "LayoutModel",
     "state": {
      "_model_module": "@jupyter-widgets/base",
      "_model_module_version": "1.2.0",
      "_model_name": "LayoutModel",
      "_view_count": null,
      "_view_module": "@jupyter-widgets/base",
      "_view_module_version": "1.2.0",
      "_view_name": "LayoutView",
      "align_content": null,
      "align_items": null,
      "align_self": null,
      "border": null,
      "bottom": null,
      "display": null,
      "flex": null,
      "flex_flow": null,
      "grid_area": null,
      "grid_auto_columns": null,
      "grid_auto_flow": null,
      "grid_auto_rows": null,
      "grid_column": null,
      "grid_gap": null,
      "grid_row": null,
      "grid_template_areas": null,
      "grid_template_columns": null,
      "grid_template_rows": null,
      "height": null,
      "justify_content": null,
      "justify_items": null,
      "left": null,
      "margin": null,
      "max_height": null,
      "max_width": null,
      "min_height": null,
      "min_width": null,
      "object_fit": null,
      "object_position": null,
      "order": null,
      "overflow": null,
      "overflow_x": null,
      "overflow_y": null,
      "padding": null,
      "right": null,
      "top": null,
      "visibility": null,
      "width": null
     }
    },
    "f4b6eb7c33f243068ea2a94e9792252d": {
     "model_module": "@jupyter-widgets/base",
     "model_module_version": "1.2.0",
     "model_name": "LayoutModel",
     "state": {
      "_model_module": "@jupyter-widgets/base",
      "_model_module_version": "1.2.0",
      "_model_name": "LayoutModel",
      "_view_count": null,
      "_view_module": "@jupyter-widgets/base",
      "_view_module_version": "1.2.0",
      "_view_name": "LayoutView",
      "align_content": null,
      "align_items": null,
      "align_self": null,
      "border": null,
      "bottom": null,
      "display": null,
      "flex": null,
      "flex_flow": null,
      "grid_area": null,
      "grid_auto_columns": null,
      "grid_auto_flow": null,
      "grid_auto_rows": null,
      "grid_column": null,
      "grid_gap": null,
      "grid_row": null,
      "grid_template_areas": null,
      "grid_template_columns": null,
      "grid_template_rows": null,
      "height": null,
      "justify_content": null,
      "justify_items": null,
      "left": null,
      "margin": null,
      "max_height": null,
      "max_width": null,
      "min_height": null,
      "min_width": null,
      "object_fit": null,
      "object_position": null,
      "order": null,
      "overflow": null,
      "overflow_x": null,
      "overflow_y": null,
      "padding": null,
      "right": null,
      "top": null,
      "visibility": null,
      "width": null
     }
    }
   }
  }
 },
 "nbformat": 4,
 "nbformat_minor": 1
}
