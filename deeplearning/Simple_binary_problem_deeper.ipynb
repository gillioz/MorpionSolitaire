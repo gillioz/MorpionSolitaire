{
 "cells": [
  {
   "cell_type": "markdown",
   "metadata": {},
   "source": [
    "# A simple binary problem: is there a legal move or not? - Deeper network\n",
    "\n",
    "This is a simplified version in which the model only answers the question whether there is at least one legal move or not."
   ]
  },
  {
   "cell_type": "code",
   "execution_count": 1,
   "metadata": {},
   "outputs": [],
   "source": [
    "import sys\n",
    "sys.path.append(sys.path[0] + '/../cpp/bin')\n",
    "\n",
    "import PyMorpionSolitaire"
   ]
  },
  {
   "cell_type": "code",
   "execution_count": 2,
   "metadata": {},
   "outputs": [],
   "source": [
    "import numpy as np\n",
    "import torch\n",
    "import matplotlib.pyplot as plt\n",
    "from PIL import Image\n",
    "from tqdm.notebook import trange"
   ]
  },
  {
   "cell_type": "markdown",
   "metadata": {},
   "source": [
    "## Data generation"
   ]
  },
  {
   "cell_type": "markdown",
   "metadata": {},
   "source": [
    "This function plays one game at random until there are no more moves, stores the grid as `grid1`, then rewinds the game to an interemediate stage, and stores the resulting grid as `grid2`. The output of the function is a tensor containing the two grids. By construction the first grid has no legal moves and the second one has at least one legal move.\n",
    "\n",
    "1/3 of the time the game is taken back to an arbitrary intermediate step.\n",
    "The other 2/3 of the time we rewind the game by only one step, so that the network gets used to identify a single allowed move. If we did not do that the training process would result in a relatively high accuracy by only identifying some types of allowed moves instead of all of them."
   ]
  },
  {
   "cell_type": "code",
   "execution_count": 3,
   "metadata": {},
   "outputs": [],
   "source": [
    "def play_one_game(host = 0): # dummy argument needed for passing to pool.map\n",
    "    game = PyMorpionSolitaire.Game5T('c');\n",
    "    game.playAtRandom()\n",
    "    grid1 = game.image()[48:144, 48:144]\n",
    "    if np.random.randint(3) == 0:\n",
    "        game.undo(np.random.randint(game.getScore() - 1) + 2)\n",
    "    else:\n",
    "        game.undo()\n",
    "    grid2 = game.image()[48:144, 48:144]\n",
    "    return np.stack((grid1, grid2))"
   ]
  },
  {
   "cell_type": "markdown",
   "metadata": {},
   "source": [
    "Mini-batches contains a certain number of grids obtained in the way described above (computed in parallel to gain time), as well as a labels (0 for no legal moves, 1 for at least one legal move)."
   ]
  },
  {
   "cell_type": "code",
   "execution_count": 4,
   "metadata": {},
   "outputs": [],
   "source": [
    "def generate_batch(batch_size = 200):\n",
    "    x = []\n",
    "    for _ in range(batch_size // 2):\n",
    "        x.append(play_one_game())\n",
    "    x = torch.tensor(np.concatenate(x)).float().unsqueeze(1)\n",
    "    y = torch.tensor([0.,1.]).repeat(batch_size // 2).unsqueeze(1)\n",
    "    return x, y"
   ]
  },
  {
   "cell_type": "markdown",
   "metadata": {},
   "source": [
    "## Example"
   ]
  },
  {
   "cell_type": "code",
   "execution_count": 5,
   "metadata": {},
   "outputs": [],
   "source": [
    "x, y = generate_batch()"
   ]
  },
  {
   "cell_type": "code",
   "execution_count": 6,
   "metadata": {},
   "outputs": [
    {
     "data": {
      "text/plain": [
       "(torch.Size([200, 1, 96, 96]), torch.Size([200, 1]))"
      ]
     },
     "execution_count": 6,
     "metadata": {},
     "output_type": "execute_result"
    }
   ],
   "source": [
    "x.shape, y.shape"
   ]
  },
  {
   "cell_type": "code",
   "execution_count": 7,
   "metadata": {},
   "outputs": [],
   "source": [
    "def visualize(x):\n",
    "    return Image.fromarray(~np.array(torch.squeeze(x)).astype(bool))    "
   ]
  },
  {
   "cell_type": "code",
   "execution_count": 8,
   "metadata": {},
   "outputs": [
    {
     "data": {
      "image/png": "[encoded data removed]",
      "text/plain": [
       "<PIL.Image.Image image mode=1 size=96x96>"
      ]
     },
     "execution_count": 8,
     "metadata": {},
     "output_type": "execute_result"
    }
   ],
   "source": [
    "visualize(x[0])"
   ]
  },
  {
   "cell_type": "code",
   "execution_count": 9,
   "metadata": {},
   "outputs": [
    {
     "data": {
      "text/plain": [
       "tensor([0.])"
      ]
     },
     "execution_count": 9,
     "metadata": {},
     "output_type": "execute_result"
    }
   ],
   "source": [
    "y[0]"
   ]
  },
  {
   "cell_type": "code",
   "execution_count": 10,
   "metadata": {},
   "outputs": [
    {
     "data": {
      "image/png": "[encoded data removed]",
      "text/plain": [
       "<PIL.Image.Image image mode=1 size=96x96>"
      ]
     },
     "execution_count": 10,
     "metadata": {},
     "output_type": "execute_result"
    }
   ],
   "source": [
    "visualize(x[1])"
   ]
  },
  {
   "cell_type": "code",
   "execution_count": 11,
   "metadata": {},
   "outputs": [
    {
     "data": {
      "text/plain": [
       "tensor([1.])"
      ]
     },
     "execution_count": 11,
     "metadata": {},
     "output_type": "execute_result"
    }
   ],
   "source": [
    "y[1]"
   ]
  },
  {
   "cell_type": "code",
   "execution_count": 12,
   "metadata": {},
   "outputs": [
    {
     "data": {
      "image/png": "[encoded data removed]",
      "text/plain": [
       "<PIL.Image.Image image mode=1 size=96x96>"
      ]
     },
     "execution_count": 12,
     "metadata": {},
     "output_type": "execute_result"
    }
   ],
   "source": [
    "visualize(x[1] - x[0])"
   ]
  },
  {
   "cell_type": "markdown",
   "metadata": {},
   "source": [
    "## Accuracy function"
   ]
  },
  {
   "cell_type": "code",
   "execution_count": 13,
   "metadata": {},
   "outputs": [],
   "source": [
    "def accuracy(outputs, labels):\n",
    "    return ((outputs > 0.5) == labels).float().mean()"
   ]
  },
  {
   "cell_type": "markdown",
   "metadata": {},
   "source": [
    "## Model"
   ]
  },
  {
   "cell_type": "code",
   "execution_count": 14,
   "metadata": {},
   "outputs": [],
   "source": [
    "net = torch.nn.Sequential(\n",
    "    torch.nn.Conv2d(1, 20, stride = 3, kernel_size = 3, padding = 0), # output 32 x 32 pixels\n",
    "    torch.nn.ReLU(),\n",
    "    torch.nn.Conv2d(20, 40, stride = 1, kernel_size = 2, padding = 0), # output 31 x 31 pixels\n",
    "    torch.nn.ReLU(),\n",
    "    torch.nn.Conv2d(40, 40, stride = 1, kernel_size = 2, padding = 0), # output 30 x 30 pixels\n",
    "    torch.nn.ReLU(),\n",
    "    torch.nn.Conv2d(40, 40, stride = 1, kernel_size = 2, padding = 0), # output 29 x 29 pixels\n",
    "    torch.nn.ReLU(),\n",
    "    torch.nn.Conv2d(40, 40, stride = 1, kernel_size = 2, padding = 0), # output 28 x 28 pixels\n",
    "    torch.nn.AdaptiveMaxPool2d(1),\n",
    "    torch.nn.Flatten(),\n",
    "    torch.nn.Linear(40, 10),\n",
    "    torch.nn.ReLU(),\n",
    "    torch.nn.Linear(10, 1)\n",
    ")"
   ]
  },
  {
   "cell_type": "markdown",
   "metadata": {},
   "source": [
    "Number of parameters in the model:"
   ]
  },
  {
   "cell_type": "code",
   "execution_count": 15,
   "metadata": {},
   "outputs": [
    {
     "data": {
      "text/plain": [
       "23181"
      ]
     },
     "execution_count": 15,
     "metadata": {},
     "output_type": "execute_result"
    }
   ],
   "source": [
    "sum(p.numel() for p in net.parameters())"
   ]
  },
  {
   "cell_type": "code",
   "execution_count": 16,
   "metadata": {},
   "outputs": [
    {
     "data": {
      "text/plain": [
       "torch.Size([200, 1])"
      ]
     },
     "execution_count": 16,
     "metadata": {},
     "output_type": "execute_result"
    }
   ],
   "source": [
    "y_pred = net(x)\n",
    "y_pred.shape"
   ]
  },
  {
   "cell_type": "code",
   "execution_count": 17,
   "metadata": {},
   "outputs": [
    {
     "data": {
      "text/plain": [
       "tensor(0.5000)"
      ]
     },
     "execution_count": 17,
     "metadata": {},
     "output_type": "execute_result"
    }
   ],
   "source": [
    "accuracy(y_pred, y)"
   ]
  },
  {
   "cell_type": "markdown",
   "metadata": {},
   "source": [
    "## Training"
   ]
  },
  {
   "cell_type": "code",
   "execution_count": 18,
   "metadata": {},
   "outputs": [],
   "source": [
    "loss_func = torch.nn.MSELoss()"
   ]
  },
  {
   "cell_type": "code",
   "execution_count": 19,
   "metadata": {},
   "outputs": [],
   "source": [
    "# optimizer = torch.optim.Adam(filter(lambda p: p.requires_grad, net.parameters()), lr=0.01)\n",
    "\n",
    "optimizer = torch.optim.SGD(filter(lambda p: p.requires_grad, net.parameters()), lr=0.01, momentum=0.9)"
   ]
  },
  {
   "cell_type": "code",
   "execution_count": 20,
   "metadata": {},
   "outputs": [],
   "source": [
    "running_loss_data = []\n",
    "running_accuracy_data = []"
   ]
  },
  {
   "cell_type": "code",
   "execution_count": 21,
   "metadata": {},
   "outputs": [
    {
     "data": {
      "application/vnd.jupyter.widget-view+json": {
       "model_id": "d3b297cc81604a6e92c6dc04acd1528c",
       "version_major": 2,
       "version_minor": 0
      },
      "text/plain": [
       "  0%|          | 0/20001 [00:00<?, ?it/s]"
      ]
     },
     "metadata": {},
     "output_type": "display_data"
    },
    {
     "name": "stdout",
     "output_type": "stream",
     "text": [
      "[     0] loss:  0.83235  accuracy: 0.50\n",
      "[   100] loss:  0.28407  accuracy: 0.50\n",
      "[   200] loss:  0.24996  accuracy: 0.54\n",
      "[   300] loss:  0.24994  accuracy: 0.57\n",
      "[   400] loss:  0.24992  accuracy: 0.57\n",
      "[   500] loss:  0.24990  accuracy: 0.58\n",
      "[   600] loss:  0.24987  accuracy: 0.58\n",
      "[   700] loss:  0.24983  accuracy: 0.58\n",
      "[   800] loss:  0.24976  accuracy: 0.58\n",
      "[   900] loss:  0.24966  accuracy: 0.58\n",
      "[  1000] loss:  0.24950  accuracy: 0.58\n",
      "[  1100] loss:  0.24911  accuracy: 0.58\n",
      "[  1200] loss:  0.24827  accuracy: 0.58\n",
      "[  1300] loss:  0.24567  accuracy: 0.58\n",
      "[  1400] loss:  0.24049  accuracy: 0.58\n",
      "[  1500] loss:  0.23869  accuracy: 0.58\n",
      "[  1600] loss:  0.23833  accuracy: 0.58\n",
      "[  1700] loss:  0.23815  accuracy: 0.58\n",
      "[  1800] loss:  0.23640  accuracy: 0.58\n",
      "[  1900] loss:  0.23592  accuracy: 0.58\n",
      "[  2000] loss:  0.23454  accuracy: 0.58\n",
      "[  2100] loss:  0.23296  accuracy: 0.58\n",
      "[  2200] loss:  0.23227  accuracy: 0.58\n",
      "[  2300] loss:  0.23052  accuracy: 0.59\n",
      "[  2400] loss:  0.23010  accuracy: 0.59\n",
      "[  2500] loss:  0.23024  accuracy: 0.59\n",
      "[  2600] loss:  0.22782  accuracy: 0.60\n",
      "[  2700] loss:  0.22707  accuracy: 0.60\n",
      "[  2800] loss:  0.22801  accuracy: 0.60\n",
      "[  2900] loss:  0.22665  accuracy: 0.60\n",
      "[  3000] loss:  0.22550  accuracy: 0.61\n",
      "[  3100] loss:  0.22476  accuracy: 0.61\n",
      "[  3200] loss:  0.22307  accuracy: 0.62\n",
      "[  3300] loss:  0.22346  accuracy: 0.61\n",
      "[  3400] loss:  0.22205  accuracy: 0.62\n",
      "[  3500] loss:  0.22199  accuracy: 0.62\n",
      "[  3600] loss:  0.22319  accuracy: 0.62\n",
      "[  3700] loss:  0.22071  accuracy: 0.62\n",
      "[  3800] loss:  0.22106  accuracy: 0.62\n",
      "[  3900] loss:  0.21968  accuracy: 0.63\n",
      "[  4000] loss:  0.21975  accuracy: 0.63\n",
      "[  4100] loss:  0.21766  accuracy: 0.63\n",
      "[  4200] loss:  0.21834  accuracy: 0.63\n",
      "[  4300] loss:  0.21719  accuracy: 0.63\n",
      "[  4400] loss:  0.21634  accuracy: 0.64\n",
      "[  4500] loss:  0.21382  accuracy: 0.64\n",
      "[  4600] loss:  0.21514  accuracy: 0.64\n",
      "[  4700] loss:  0.21182  accuracy: 0.65\n",
      "[  4800] loss:  0.21120  accuracy: 0.65\n",
      "[  4900] loss:  0.21138  accuracy: 0.65\n",
      "[  5000] loss:  0.20993  accuracy: 0.65\n",
      "[  5100] loss:  0.20533  accuracy: 0.67\n",
      "[  5200] loss:  0.20223  accuracy: 0.67\n",
      "[  5300] loss:  0.20335  accuracy: 0.67\n",
      "[  5400] loss:  0.20296  accuracy: 0.67\n",
      "[  5500] loss:  0.19843  accuracy: 0.68\n",
      "[  5600] loss:  0.19910  accuracy: 0.68\n",
      "[  5700] loss:  0.19480  accuracy: 0.69\n",
      "[  5800] loss:  0.19352  accuracy: 0.70\n",
      "[  5900] loss:  0.19165  accuracy: 0.70\n",
      "[  6000] loss:  0.19463  accuracy: 0.69\n",
      "[  6100] loss:  0.19039  accuracy: 0.70\n",
      "[  6200] loss:  0.18565  accuracy: 0.71\n",
      "[  6300] loss:  0.18408  accuracy: 0.71\n",
      "[  6400] loss:  0.18556  accuracy: 0.71\n",
      "[  6500] loss:  0.18493  accuracy: 0.71\n",
      "[  6600] loss:  0.18456  accuracy: 0.71\n",
      "[  6700] loss:  0.18227  accuracy: 0.72\n",
      "[  6800] loss:  0.17620  accuracy: 0.73\n",
      "[  6900] loss:  0.17791  accuracy: 0.73\n",
      "[  7000] loss:  0.17506  accuracy: 0.73\n",
      "[  7100] loss:  0.16864  accuracy: 0.75\n",
      "[  7200] loss:  0.17105  accuracy: 0.74\n",
      "[  7300] loss:  0.16764  accuracy: 0.75\n",
      "[  7400] loss:  0.16675  accuracy: 0.75\n",
      "[  7500] loss:  0.16375  accuracy: 0.76\n",
      "[  7600] loss:  0.16295  accuracy: 0.76\n",
      "[  7700] loss:  0.16004  accuracy: 0.77\n",
      "[  7800] loss:  0.15807  accuracy: 0.77\n",
      "[  7900] loss:  0.15496  accuracy: 0.78\n",
      "[  8000] loss:  0.15311  accuracy: 0.78\n",
      "[  8100] loss:  0.15204  accuracy: 0.78\n",
      "[  8200] loss:  0.14715  accuracy: 0.79\n",
      "[  8300] loss:  0.14490  accuracy: 0.80\n",
      "[  8400] loss:  0.14027  accuracy: 0.81\n",
      "[  8500] loss:  0.14084  accuracy: 0.80\n",
      "[  8600] loss:  0.13540  accuracy: 0.82\n",
      "[  8700] loss:  0.13069  accuracy: 0.83\n",
      "[  8800] loss:  0.12386  accuracy: 0.84\n",
      "[  8900] loss:  0.12567  accuracy: 0.84\n",
      "[  9000] loss:  0.12342  accuracy: 0.84\n",
      "[  9100] loss:  0.12026  accuracy: 0.85\n",
      "[  9200] loss:  0.11334  accuracy: 0.86\n",
      "[  9300] loss:  0.10447  accuracy: 0.87\n",
      "[  9400] loss:  0.09969  accuracy: 0.88\n",
      "[  9500] loss:  0.10024  accuracy: 0.88\n",
      "[  9600] loss:  0.09480  accuracy: 0.89\n",
      "[  9700] loss:  0.08846  accuracy: 0.90\n",
      "[  9800] loss:  0.08082  accuracy: 0.91\n",
      "[  9900] loss:  0.07898  accuracy: 0.91\n",
      "[ 10000] loss:  0.07553  accuracy: 0.92\n",
      "[ 10100] loss:  0.07518  accuracy: 0.91\n",
      "[ 10200] loss:  0.06848  accuracy: 0.92\n",
      "[ 10300] loss:  0.06007  accuracy: 0.93\n",
      "[ 10400] loss:  0.05480  accuracy: 0.94\n",
      "[ 10500] loss:  0.04699  accuracy: 0.95\n",
      "[ 10600] loss:  0.04500  accuracy: 0.96\n",
      "[ 10700] loss:  0.04328  accuracy: 0.96\n",
      "[ 10800] loss:  0.04044  accuracy: 0.96\n",
      "[ 10900] loss:  0.03308  accuracy: 0.97\n",
      "[ 11000] loss:  0.02969  accuracy: 0.97\n",
      "[ 11100] loss:  0.02255  accuracy: 0.98\n",
      "[ 11200] loss:  0.02008  accuracy: 0.98\n",
      "[ 11300] loss:  0.02758  accuracy: 0.97\n",
      "[ 11400] loss:  0.01692  accuracy: 0.99\n",
      "[ 11500] loss:  0.01480  accuracy: 0.99\n",
      "[ 11600] loss:  0.01281  accuracy: 0.99\n",
      "[ 11700] loss:  0.01157  accuracy: 0.99\n",
      "[ 11800] loss:  0.01236  accuracy: 0.99\n",
      "[ 11900] loss:  0.01389  accuracy: 0.99\n",
      "[ 12000] loss:  0.01237  accuracy: 0.99\n",
      "[ 12100] loss:  0.00849  accuracy: 0.99\n",
      "[ 12200] loss:  0.00939  accuracy: 0.99\n",
      "[ 12300] loss:  0.00861  accuracy: 0.99\n",
      "[ 12400] loss:  0.00811  accuracy: 0.99\n",
      "[ 12500] loss:  0.00883  accuracy: 0.99\n",
      "[ 12600] loss:  0.00736  accuracy: 0.99\n",
      "[ 12700] loss:  0.00711  accuracy: 0.99\n",
      "[ 12800] loss:  0.00936  accuracy: 0.99\n",
      "[ 12900] loss:  0.00552  accuracy: 1.00\n",
      "[ 13000] loss:  0.00670  accuracy: 0.99\n",
      "[ 13100] loss:  0.00681  accuracy: 0.99\n",
      "[ 13200] loss:  0.00577  accuracy: 1.00\n",
      "[ 13300] loss:  0.00588  accuracy: 1.00\n",
      "[ 13400] loss:  0.00565  accuracy: 1.00\n",
      "[ 13500] loss:  0.00483  accuracy: 1.00\n",
      "[ 13600] loss:  0.00594  accuracy: 1.00\n",
      "[ 13700] loss:  0.00554  accuracy: 1.00\n",
      "[ 13800] loss:  0.00636  accuracy: 1.00\n",
      "[ 13900] loss:  0.00401  accuracy: 1.00\n",
      "[ 14000] loss:  0.00480  accuracy: 1.00\n",
      "[ 14100] loss:  0.00556  accuracy: 1.00\n",
      "[ 14200] loss:  0.00626  accuracy: 1.00\n",
      "[ 14300] loss:  0.00576  accuracy: 1.00\n",
      "[ 14400] loss:  0.00511  accuracy: 1.00\n",
      "[ 14500] loss:  0.00506  accuracy: 1.00\n",
      "[ 14600] loss:  0.00430  accuracy: 1.00\n",
      "[ 14700] loss:  0.00405  accuracy: 1.00\n",
      "[ 14800] loss:  0.00453  accuracy: 1.00\n",
      "[ 14900] loss:  0.00323  accuracy: 1.00\n",
      "[ 15000] loss:  0.00348  accuracy: 1.00\n",
      "[ 15100] loss:  0.00351  accuracy: 1.00\n",
      "[ 15200] loss:  0.00439  accuracy: 1.00\n",
      "[ 15300] loss:  0.00383  accuracy: 1.00\n",
      "[ 15400] loss:  0.00294  accuracy: 1.00\n",
      "[ 15500] loss:  0.00389  accuracy: 1.00\n",
      "[ 15600] loss:  0.00406  accuracy: 1.00\n",
      "[ 15700] loss:  0.00404  accuracy: 1.00\n",
      "[ 15800] loss:  0.00274  accuracy: 1.00\n",
      "[ 15900] loss:  0.00342  accuracy: 1.00\n",
      "[ 16000] loss:  0.00356  accuracy: 1.00\n",
      "[ 16100] loss:  0.00310  accuracy: 1.00\n",
      "[ 16200] loss:  0.00306  accuracy: 1.00\n",
      "[ 16300] loss:  0.00376  accuracy: 1.00\n",
      "[ 16400] loss:  0.00211  accuracy: 1.00\n",
      "[ 16500] loss:  0.00348  accuracy: 1.00\n",
      "[ 16600] loss:  0.00314  accuracy: 1.00\n",
      "[ 16700] loss:  0.00265  accuracy: 1.00\n",
      "[ 16800] loss:  0.00281  accuracy: 1.00\n",
      "[ 16900] loss:  0.00239  accuracy: 1.00\n",
      "[ 17000] loss:  0.00337  accuracy: 1.00\n",
      "[ 17100] loss:  0.00352  accuracy: 1.00\n",
      "[ 17200] loss:  0.00318  accuracy: 1.00\n",
      "[ 17300] loss:  0.00309  accuracy: 1.00\n",
      "[ 17400] loss:  0.00261  accuracy: 1.00\n",
      "[ 17500] loss:  0.00259  accuracy: 1.00\n",
      "[ 17600] loss:  0.00280  accuracy: 1.00\n",
      "[ 17700] loss:  0.00229  accuracy: 1.00\n",
      "[ 17800] loss:  0.00335  accuracy: 1.00\n",
      "[ 17900] loss:  0.00232  accuracy: 1.00\n",
      "[ 18000] loss:  0.00272  accuracy: 1.00\n",
      "[ 18100] loss:  0.00480  accuracy: 1.00\n",
      "[ 18200] loss:  0.00220  accuracy: 1.00\n",
      "[ 18300] loss:  0.00214  accuracy: 1.00\n",
      "[ 18400] loss:  0.00252  accuracy: 1.00\n",
      "[ 18500] loss:  0.00284  accuracy: 1.00\n",
      "[ 18600] loss:  0.00253  accuracy: 1.00\n",
      "[ 18700] loss:  0.00279  accuracy: 1.00\n",
      "[ 18800] loss:  0.00238  accuracy: 1.00\n",
      "[ 18900] loss:  0.00231  accuracy: 1.00\n",
      "[ 19000] loss:  0.00232  accuracy: 1.00\n",
      "[ 19100] loss:  0.00240  accuracy: 1.00\n",
      "[ 19200] loss:  0.00251  accuracy: 1.00\n",
      "[ 19300] loss:  0.00314  accuracy: 1.00\n",
      "[ 19400] loss:  0.00219  accuracy: 1.00\n",
      "[ 19500] loss:  0.00231  accuracy: 1.00\n",
      "[ 19600] loss:  0.00225  accuracy: 1.00\n",
      "[ 19700] loss:  0.00266  accuracy: 1.00\n",
      "[ 19800] loss:  0.00201  accuracy: 1.00\n",
      "[ 19900] loss:  0.00213  accuracy: 1.00\n"
     ]
    }
   ],
   "source": [
    "epoch_size = 100\n",
    "n_epochs = 200\n",
    "\n",
    "running_loss = []\n",
    "running_accuracy = []\n",
    "\n",
    "for i in trange(n_epochs * epoch_size + 1):\n",
    "    inputs, labels = generate_batch()\n",
    "    optimizer.zero_grad()\n",
    "    outputs = net(inputs)\n",
    "    loss = loss_func(outputs, labels)\n",
    "    loss.backward()\n",
    "    optimizer.step()\n",
    "    running_loss.append(loss.item())\n",
    "    running_accuracy.append(accuracy(outputs, labels))\n",
    "    if i % epoch_size == 0:\n",
    "        running_loss_data.append(np.mean(running_loss))\n",
    "        running_accuracy_data.append(np.mean(running_accuracy))\n",
    "        print('[%6d] loss: %8.5f  accuracy: %4.2f' % (i, running_loss_data[-1], running_accuracy_data[-1]))\n",
    "        running_loss = []\n",
    "        running_accuracy = []"
   ]
  },
  {
   "cell_type": "code",
   "execution_count": 22,
   "metadata": {},
   "outputs": [],
   "source": [
    "# torch.save(net, 'models/Bacon.pt')"
   ]
  },
  {
   "cell_type": "code",
   "execution_count": 27,
   "metadata": {},
   "outputs": [
    {
     "data": {
      "image/png": "[encoded data removed]",
      "text/plain": [
       "<Figure size 640x480 with 1 Axes>"
      ]
     },
     "metadata": {},
     "output_type": "display_data"
    }
   ],
   "source": [
    "plt.plot(running_loss_data, color='red')\n",
    "plt.xlabel('Epochs')\n",
    "plt.xlim(0, len(running_loss_data) - 1)\n",
    "plt.ylabel('Loss function (MSE)')\n",
    "plt.yscale('log')\n",
    "# plt.savefig('Bacon_loss.png', bbox_inches='tight')\n",
    "plt.show()"
   ]
  },
  {
   "cell_type": "code",
   "execution_count": 28,
   "metadata": {},
   "outputs": [
    {
     "data": {
      "image/png": "[encoded data removed]",
      "text/plain": [
       "<Figure size 640x480 with 1 Axes>"
      ]
     },
     "metadata": {},
     "output_type": "display_data"
    }
   ],
   "source": [
    "plt.plot(running_accuracy_data, color='blue')\n",
    "plt.xlabel('Epochs')\n",
    "plt.ylabel('Accuracy')\n",
    "plt.xlim(0, len(running_accuracy_data) - 1)\n",
    "plt.ylim(0.5, 1)\n",
    "# plt.savefig('Bacon_accuracy.png', bbox_inches='tight')\n",
    "plt.show()"
   ]
  },
  {
   "cell_type": "code",
   "execution_count": 31,
   "metadata": {},
   "outputs": [],
   "source": [
    "running_error_data = [1.0 - x for x in running_accuracy_data]"
   ]
  },
  {
   "cell_type": "code",
   "execution_count": 33,
   "metadata": {},
   "outputs": [
    {
     "data": {
      "image/png": "[encoded data removed]",
      "text/plain": [
       "<Figure size 640x480 with 1 Axes>"
      ]
     },
     "metadata": {},
     "output_type": "display_data"
    }
   ],
   "source": [
    "plt.plot(running_error_data, color='green')\n",
    "plt.xlabel('Epochs')\n",
    "plt.ylabel('Error')\n",
    "plt.xlim(0, len(running_error_data) - 1)\n",
    "plt.yscale('log')\n",
    "plt.show()"
   ]
  },
  {
   "cell_type": "markdown",
   "metadata": {},
   "source": [
    "## Loading the model\n",
    "\n",
    "Once the model has been trained, this can be used to load its state dictionary:"
   ]
  },
  {
   "cell_type": "code",
   "execution_count": 34,
   "metadata": {},
   "outputs": [
    {
     "data": {
      "text/plain": [
       "Sequential(\n",
       "  (0): Conv2d(1, 20, kernel_size=(3, 3), stride=(3, 3))\n",
       "  (1): ReLU()\n",
       "  (2): Conv2d(20, 40, kernel_size=(2, 2), stride=(1, 1))\n",
       "  (3): ReLU()\n",
       "  (4): Conv2d(40, 40, kernel_size=(2, 2), stride=(1, 1))\n",
       "  (5): ReLU()\n",
       "  (6): Conv2d(40, 40, kernel_size=(2, 2), stride=(1, 1))\n",
       "  (7): ReLU()\n",
       "  (8): Conv2d(40, 40, kernel_size=(2, 2), stride=(1, 1))\n",
       "  (9): AdaptiveMaxPool2d(output_size=1)\n",
       "  (10): Flatten(start_dim=1, end_dim=-1)\n",
       "  (11): Linear(in_features=40, out_features=10, bias=True)\n",
       "  (12): ReLU()\n",
       "  (13): Linear(in_features=10, out_features=1, bias=True)\n",
       ")"
      ]
     },
     "execution_count": 34,
     "metadata": {},
     "output_type": "execute_result"
    }
   ],
   "source": [
    "net2 = torch.load('models/Bacon.pt')\n",
    "net2.eval()"
   ]
  },
  {
   "cell_type": "markdown",
   "metadata": {},
   "source": [
    "## Validation"
   ]
  },
  {
   "cell_type": "code",
   "execution_count": 35,
   "metadata": {},
   "outputs": [],
   "source": [
    "x, y = generate_batch(1000)"
   ]
  },
  {
   "cell_type": "code",
   "execution_count": 36,
   "metadata": {},
   "outputs": [],
   "source": [
    "y_preds = net2(x).data"
   ]
  },
  {
   "cell_type": "code",
   "execution_count": 37,
   "metadata": {},
   "outputs": [
    {
     "data": {
      "text/plain": [
       "tensor(0.9980)"
      ]
     },
     "execution_count": 37,
     "metadata": {},
     "output_type": "execute_result"
    }
   ],
   "source": [
    "accuracy(y_preds, y)"
   ]
  },
  {
   "cell_type": "code",
   "execution_count": 38,
   "metadata": {},
   "outputs": [
    {
     "data": {
      "text/plain": [
       "(tensor(0.5000), tensor(0.5003), tensor(0.5010), tensor(0.4953))"
      ]
     },
     "execution_count": 38,
     "metadata": {},
     "output_type": "execute_result"
    }
   ],
   "source": [
    "y.mean(), y.std(), y_preds.mean(), y_preds.std()"
   ]
  },
  {
   "cell_type": "code",
   "execution_count": 39,
   "metadata": {},
   "outputs": [
    {
     "data": {
      "text/plain": [
       "[[102, 0.0, 0.9253812432289124], [231, 1.0, 0.3292655348777771]]"
      ]
     },
     "execution_count": 39,
     "metadata": {},
     "output_type": "execute_result"
    }
   ],
   "source": [
    "mistakes = []\n",
    "for i in range(y.shape[0]):\n",
    "    if (y_preds[i] > 0.5) != y[i]:\n",
    "        mistakes.append([i, y[i].item(), y_preds[i].item()])\n",
    "mistakes"
   ]
  },
  {
   "cell_type": "code",
   "execution_count": 40,
   "metadata": {},
   "outputs": [
    {
     "data": {
      "image/png": "[encoded data removed]",
      "text/plain": [
       "<PIL.Image.Image image mode=1 size=96x96>"
      ]
     },
     "execution_count": 40,
     "metadata": {},
     "output_type": "execute_result"
    }
   ],
   "source": [
    "visualize(x[mistakes[0][0]])"
   ]
  },
  {
   "cell_type": "code",
   "execution_count": null,
   "metadata": {},
   "outputs": [],
   "source": []
  }
 ],
 "metadata": {
  "kernelspec": {
   "display_name": "Python 3 (ipykernel)",
   "language": "python",
   "name": "python3"
  },
  "language_info": {
   "codemirror_mode": {
    "name": "ipython",
    "version": 3
   },
   "file_extension": ".py",
   "mimetype": "text/x-python",
   "name": "python",
   "nbconvert_exporter": "python",
   "pygments_lexer": "ipython3",
   "version": "3.10.11"
  }
 },
 "nbformat": 4,
 "nbformat_minor": 4
}
