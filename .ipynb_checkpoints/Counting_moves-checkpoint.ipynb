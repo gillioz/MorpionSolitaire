{
 "cells": [
  {
   "cell_type": "markdown",
   "metadata": {},
   "source": [
    "# Counting legal moves\n"
   ]
  },
  {
   "cell_type": "markdown",
   "metadata": {},
   "source": [
    "**TO DO**\n",
    "- train model with max pooling on the binary problem, where I know it works, if possible all the way to 100% accuracy; this is a proof-of-principle showing that the model is good; maybe save intermediate versions at different accuracies?\n",
    "- try to solve the counting problem using *transfer learning*: copy the convolutional layers of the solution to the previous problem, then add a different tail with average instead of max pooling (might work better if we also strip off the last conv layer, or at least its bias)"
   ]
  },
  {
   "cell_type": "code",
   "execution_count": null,
   "metadata": {},
   "outputs": [],
   "source": [
    "from MorpionSolitaire import *\n",
    "from DeepLearningMS import *"
   ]
  },
  {
   "cell_type": "code",
   "execution_count": null,
   "metadata": {},
   "outputs": [
    {
     "name": "stderr",
     "output_type": "stream",
     "text": [
      "Process ForkPoolWorker-1:\n",
      "Process ForkPoolWorker-3:\n",
      "Traceback (most recent call last):\n",
      "Process ForkPoolWorker-4:\n",
      "Traceback (most recent call last):\n",
      "Process ForkPoolWorker-2:\n",
      "Traceback (most recent call last):\n",
      "  File \"/home/marc/anaconda3/lib/python3.8/site-packages/multiprocess/process.py\", line 315, in _bootstrap\n",
      "    self.run()\n",
      "Traceback (most recent call last):\n",
      "  File \"/home/marc/anaconda3/lib/python3.8/site-packages/multiprocess/process.py\", line 315, in _bootstrap\n",
      "    self.run()\n",
      "  File \"/home/marc/anaconda3/lib/python3.8/site-packages/multiprocess/process.py\", line 315, in _bootstrap\n",
      "    self.run()\n",
      "  File \"/home/marc/anaconda3/lib/python3.8/site-packages/multiprocess/process.py\", line 315, in _bootstrap\n",
      "    self.run()\n",
      "  File \"/home/marc/anaconda3/lib/python3.8/site-packages/multiprocess/process.py\", line 108, in run\n",
      "    self._target(*self._args, **self._kwargs)\n",
      "  File \"/home/marc/anaconda3/lib/python3.8/site-packages/multiprocess/process.py\", line 108, in run\n",
      "    self._target(*self._args, **self._kwargs)\n",
      "  File \"/home/marc/anaconda3/lib/python3.8/site-packages/multiprocess/process.py\", line 108, in run\n",
      "    self._target(*self._args, **self._kwargs)\n",
      "  File \"/home/marc/anaconda3/lib/python3.8/site-packages/multiprocess/pool.py\", line 114, in worker\n",
      "    task = get()\n",
      "  File \"/home/marc/anaconda3/lib/python3.8/site-packages/multiprocess/pool.py\", line 114, in worker\n",
      "    task = get()\n",
      "  File \"/home/marc/anaconda3/lib/python3.8/site-packages/multiprocess/queues.py\", line 358, in get\n",
      "    with self._rlock:\n",
      "  File \"/home/marc/anaconda3/lib/python3.8/site-packages/multiprocess/synchronize.py\", line 101, in __enter__\n",
      "    return self._semlock.__enter__()\n",
      "KeyboardInterrupt\n",
      "  File \"/home/marc/anaconda3/lib/python3.8/site-packages/multiprocess/queues.py\", line 358, in get\n",
      "    with self._rlock:\n",
      "  File \"/home/marc/anaconda3/lib/python3.8/site-packages/multiprocess/process.py\", line 108, in run\n",
      "    self._target(*self._args, **self._kwargs)\n",
      "  File \"/home/marc/anaconda3/lib/python3.8/site-packages/multiprocess/synchronize.py\", line 101, in __enter__\n",
      "    return self._semlock.__enter__()\n",
      "  File \"/home/marc/anaconda3/lib/python3.8/site-packages/multiprocess/pool.py\", line 114, in worker\n",
      "    task = get()\n",
      "KeyboardInterrupt\n",
      "  File \"/home/marc/anaconda3/lib/python3.8/site-packages/multiprocess/pool.py\", line 114, in worker\n",
      "    task = get()\n",
      "  File \"/home/marc/anaconda3/lib/python3.8/site-packages/multiprocess/queues.py\", line 359, in get\n",
      "    res = self._reader.recv_bytes()\n",
      "  File \"/home/marc/anaconda3/lib/python3.8/site-packages/multiprocess/connection.py\", line 219, in recv_bytes\n",
      "    buf = self._recv_bytes(maxlength)\n",
      "  File \"/home/marc/anaconda3/lib/python3.8/site-packages/multiprocess/queues.py\", line 358, in get\n",
      "    with self._rlock:\n",
      "  File \"/home/marc/anaconda3/lib/python3.8/site-packages/multiprocess/synchronize.py\", line 101, in __enter__\n",
      "    return self._semlock.__enter__()\n",
      "  File \"/home/marc/anaconda3/lib/python3.8/site-packages/multiprocess/connection.py\", line 417, in _recv_bytes\n",
      "    buf = self._recv(4)\n",
      "  File \"/home/marc/anaconda3/lib/python3.8/site-packages/multiprocess/connection.py\", line 382, in _recv\n",
      "    chunk = read(handle, remaining)\n",
      "KeyboardInterrupt\n",
      "KeyboardInterrupt\n"
     ]
    }
   ],
   "source": [
    "from multiprocess import Pool\n",
    "pool = Pool()"
   ]
  },
  {
   "cell_type": "markdown",
   "metadata": {},
   "source": [
    "## Mini-batches"
   ]
  },
  {
   "cell_type": "markdown",
   "metadata": {},
   "source": [
    "This function plays one game at random until there are no more moves, then rewinds the game to an arbitrary interemediate stage, and returns the final grid.\n",
    "\n",
    "When the score of the game played is $n$, the probability to rewind by $i$ steps ($i$ between 1 and $n$) is given by:\n",
    "$$\n",
    "    p_i = \\frac{6 (n-i)^2}{n (n+1) (2n+1)}\n",
    "$$\n",
    "i.e. it decreases with the square of $i$.\n",
    "\n",
    "The label $y$ is related to the number of legal moves $N$ by the equation\n",
    "$$\n",
    "    y = \\frac{N}{N + 5}\n",
    "$$\n",
    "so that it is equal to zero if there are no moves, and approaches one if there are many moves."
   ]
  },
  {
   "cell_type": "code",
   "execution_count": null,
   "metadata": {},
   "outputs": [],
   "source": [
    "def play_one_game(host = 0): # dummy argument needed for passing to pool.map\n",
    "    game = NewGame('cross').play()\n",
    "    n = game.score\n",
    "    m = n * (n + 1) * (2*n + 1) / 6.0\n",
    "    i = np.random.choice([i for i in range(n)],\n",
    "                         p = [(n-i)**2 / m for i in range(n)])\n",
    "    if i > 0:\n",
    "        game = game.unplay(i)\n",
    "    l = len(game.moves)\n",
    "    return game.grid.image(), l / (l + 5)"
   ]
  },
  {
   "cell_type": "markdown",
   "metadata": {},
   "source": [
    "Mini-batches contains a certain number of grids obtained in the way described above (computed in parallel to gain time), as well as a labels (0 for no legal moves, 1 for at least one legal move)."
   ]
  },
  {
   "cell_type": "code",
   "execution_count": null,
   "metadata": {},
   "outputs": [],
   "source": [
    "def generate_batch(batch_size = 200):\n",
    "    xy = pool.map(play_one_game, range(batch_size))\n",
    "    x = torch.tensor(np.array([e[0] for e in xy])).float().unsqueeze(1)\n",
    "    y = torch.tensor([e[1] for e in xy]).unsqueeze(1)\n",
    "    return x, y"
   ]
  },
  {
   "cell_type": "markdown",
   "metadata": {},
   "source": [
    "20,000 grids and labels computed in this way are saved once and for all:"
   ]
  },
  {
   "cell_type": "code",
   "execution_count": null,
   "metadata": {},
   "outputs": [],
   "source": [
    "# xy = pool.map(play_one_game, range(20000))\n",
    "# np.save('data/counting_problem_grids.npy', np.stack([e[0] for e in xy]))\n",
    "# np.save('data/counting_problem_labels.npy', np.stack([e[1] for e in xy]))"
   ]
  },
  {
   "cell_type": "markdown",
   "metadata": {},
   "source": [
    "## Data frame"
   ]
  },
  {
   "cell_type": "code",
   "execution_count": null,
   "metadata": {},
   "outputs": [
    {
     "name": "stdout",
     "output_type": "stream",
     "text": [
      "Number of mini-batches stored: 100\n",
      "Number of mini-batches created: 0\n"
     ]
    }
   ],
   "source": [
    "data = MSDataFrame(batch_size = 200, length = 100,\n",
    "                   batch_fct = generate_batch, repeat = 16,\n",
    "                   data = 'data/counting_problem_grids.npy',\n",
    "                   labels = 'data/counting_problem_labels.npy')\n",
    "data.info()"
   ]
  },
  {
   "cell_type": "code",
   "execution_count": null,
   "metadata": {},
   "outputs": [
    {
     "data": {
      "text/plain": [
       "(torch.Size([200, 1, 94, 94]), torch.Size([200, 1]))"
      ]
     },
     "execution_count": null,
     "metadata": {},
     "output_type": "execute_result"
    }
   ],
   "source": [
    "x, y = data.data[0]\n",
    "x.shape, y.shape"
   ]
  },
  {
   "cell_type": "code",
   "execution_count": null,
   "metadata": {},
   "outputs": [
    {
     "data": {
      "image/png": "[encoded data removed]",
      "text/plain": [
       "<PIL.Image.Image image mode=1 size=94x94 at 0x7F8DDDA6E0A0>"
      ]
     },
     "execution_count": null,
     "metadata": {},
     "output_type": "execute_result"
    }
   ],
   "source": [
    "MSvisualize(x[0])"
   ]
  },
  {
   "cell_type": "code",
   "execution_count": null,
   "metadata": {},
   "outputs": [
    {
     "data": {
      "text/plain": [
       "tensor([0.4444])"
      ]
     },
     "execution_count": null,
     "metadata": {},
     "output_type": "execute_result"
    }
   ],
   "source": [
    "y[0]"
   ]
  },
  {
   "cell_type": "markdown",
   "metadata": {},
   "source": [
    "Distribution of labels:"
   ]
  },
  {
   "cell_type": "code",
   "execution_count": null,
   "metadata": {},
   "outputs": [],
   "source": [
    "ydata = torch.cat([data.data[i][1].squeeze() for i in range(len(data.data))])\n",
    "ndata = torch.round(5.0 * ydata / (1.0 - ydata))\n",
    "nmax = ndata.max().int().item()\n",
    "ndistribution = [torch.where(ndata == i, 1.0, 0.0).mean().item() for i in range(nmax + 1)]"
   ]
  },
  {
   "cell_type": "code",
   "execution_count": null,
   "metadata": {},
   "outputs": [
    {
     "data": {
      "text/plain": [
       "(tensor(0.5009), tensor(0.2270), tensor(0.), tensor(0.8649))"
      ]
     },
     "execution_count": null,
     "metadata": {},
     "output_type": "execute_result"
    }
   ],
   "source": [
    "ydata.mean(), ydata.std(), ydata.min(), ydata.max()"
   ]
  },
  {
   "cell_type": "code",
   "execution_count": null,
   "metadata": {},
   "outputs": [
    {
     "data": {
      "image/png": "[encoded data removed]",
      "text/plain": [
       "<Figure size 432x288 with 1 Axes>"
      ]
     },
     "metadata": {
      "needs_background": "light"
     },
     "output_type": "display_data"
    }
   ],
   "source": [
    "plt.scatter([y / (y + 5) for y in range(nmax + 1)], ndistribution, color='green', marker = '+')\n",
    "plt.xlabel('Label')\n",
    "plt.ylabel('Frequency')\n",
    "plt.xlim(-0.03, 1)\n",
    "plt.ylim(0, 0.1)\n",
    "plt.show()"
   ]
  },
  {
   "cell_type": "code",
   "execution_count": null,
   "metadata": {},
   "outputs": [
    {
     "data": {
      "image/png": "[encoded data removed]",
      "text/plain": [
       "<Figure size 432x288 with 1 Axes>"
      ]
     },
     "metadata": {
      "needs_background": "light"
     },
     "output_type": "display_data"
    }
   ],
   "source": [
    "plt.step(np.array(range(nmax + 1)), ndistribution, where='mid', color='green')\n",
    "plt.xlabel('Label (number of moves)')\n",
    "plt.ylabel('Frequency')\n",
    "plt.xlim(0, nmax)\n",
    "plt.ylim(0, 0.1)\n",
    "# plt.savefig('labels_counting.png', bbox_inches='tight')\n",
    "plt.show()"
   ]
  },
  {
   "cell_type": "markdown",
   "metadata": {},
   "source": [
    "### Accuracy\n",
    "\n",
    "The accuracy is computed after inverting the relation between the label $y$ and the corresponding number of moves $N$:\n",
    "$$\n",
    "N = \\frac{5 y}{1 - y}\n",
    "$$"
   ]
  },
  {
   "cell_type": "code",
   "execution_count": null,
   "metadata": {},
   "outputs": [],
   "source": [
    "def accuracy(outputs, labels):\n",
    "    noutputs = torch.round(5.0 * outputs / (1.0 - outputs))\n",
    "    nlabels = torch.round(5.0 * labels / (1.0 - labels))\n",
    "    return torch.where(noutputs == nlabels, 1.0, 0.0).mean()"
   ]
  },
  {
   "cell_type": "code",
   "execution_count": null,
   "metadata": {},
   "outputs": [],
   "source": [
    "def plusminusone(outputs, labels):\n",
    "    noutputs = torch.round(5.0 * outputs / (1.0 - outputs))\n",
    "    nlabels = torch.round(5.0 * labels / (1.0 - labels))\n",
    "    return torch.where(noutputs - nlabels < 1.5, 1.0, 0.0).mean()"
   ]
  },
  {
   "cell_type": "markdown",
   "metadata": {},
   "source": [
    "## Model and training"
   ]
  },
  {
   "cell_type": "markdown",
   "metadata": {},
   "source": [
    "**Transfer learning**: instead of training the model from scratch, use a template"
   ]
  },
  {
   "cell_type": "code",
   "execution_count": null,
   "metadata": {},
   "outputs": [
    {
     "data": {
      "text/plain": [
       "Sequential(\n",
       "  (0): Conv2d(1, 20, kernel_size=(3, 3), stride=(3, 3), padding=(1, 1))\n",
       "  (1): ReLU()\n",
       "  (2): Conv2d(20, 40, kernel_size=(2, 2), stride=(1, 1))\n",
       "  (3): ReLU()\n",
       "  (4): Conv2d(40, 40, kernel_size=(2, 2), stride=(1, 1))\n",
       "  (5): ReLU()\n",
       "  (6): Conv2d(40, 40, kernel_size=(2, 2), stride=(1, 1))\n",
       "  (7): ReLU()\n",
       "  (8): Conv2d(40, 40, kernel_size=(2, 2), stride=(1, 1))\n",
       "  (9): AdaptiveMaxPool2d(output_size=1)\n",
       "  (10): Flatten(start_dim=1, end_dim=-1)\n",
       "  (11): Linear(in_features=40, out_features=10, bias=True)\n",
       "  (12): ReLU()\n",
       "  (13): Linear(in_features=10, out_features=1, bias=True)\n",
       ")"
      ]
     },
     "execution_count": null,
     "metadata": {},
     "output_type": "execute_result"
    }
   ],
   "source": [
    "template = torch.load('models/Descartes_binary.pt')\n",
    "template.train()\n",
    "template"
   ]
  },
  {
   "cell_type": "markdown",
   "metadata": {},
   "source": [
    "**Possible idea**: freeze all parameters of the template except for the bias of the last conv layer!"
   ]
  },
  {
   "cell_type": "code",
   "execution_count": null,
   "metadata": {},
   "outputs": [
    {
     "data": {
      "text/plain": [
       "Sequential(\n",
       "  (0): Conv2d(1, 20, kernel_size=(3, 3), stride=(3, 3), padding=(1, 1))\n",
       "  (1): ReLU()\n",
       "  (2): Conv2d(20, 40, kernel_size=(2, 2), stride=(1, 1))\n",
       "  (3): ReLU()\n",
       "  (4): Conv2d(40, 40, kernel_size=(2, 2), stride=(1, 1))\n",
       "  (5): ReLU()\n",
       "  (6): Conv2d(40, 40, kernel_size=(2, 2), stride=(1, 1))\n",
       "  (7): ReLU()\n",
       "  (8): Conv2d(40, 40, kernel_size=(2, 2), stride=(1, 1))\n",
       "  (9): AdaptiveMaxPool2d(output_size=1)\n",
       "  (10): Flatten(start_dim=1, end_dim=-1)\n",
       "  (11): Linear(in_features=40, out_features=10, bias=True)\n",
       "  (12): ReLU()\n",
       "  (13): Linear(in_features=10, out_features=1, bias=True)\n",
       ")"
      ]
     },
     "execution_count": null,
     "metadata": {},
     "output_type": "execute_result"
    }
   ],
   "source": [
    "for i in range(8):\n",
    "    for param in template[i].parameters():\n",
    "        param.requires_grad = False\n",
    "for param in template[8].parameters():\n",
    "    param.requires_grad = False\n",
    "    break # break before the bias is frozen\n",
    "template"
   ]
  },
  {
   "cell_type": "code",
   "execution_count": null,
   "metadata": {},
   "outputs": [
    {
     "data": {
      "text/plain": [
       "Sequential(\n",
       "  (0): Conv2d(1, 20, kernel_size=(3, 3), stride=(3, 3), padding=(1, 1))\n",
       "  (1): ReLU()\n",
       "  (2): Conv2d(20, 40, kernel_size=(2, 2), stride=(1, 1))\n",
       "  (3): ReLU()\n",
       "  (4): Conv2d(40, 40, kernel_size=(2, 2), stride=(1, 1))\n",
       "  (5): ReLU()\n",
       "  (6): Conv2d(40, 40, kernel_size=(2, 2), stride=(1, 1))\n",
       "  (7): ReLU()\n",
       "  (8): Conv2d(40, 40, kernel_size=(2, 2), stride=(1, 1))\n",
       "  (9): ReLU()\n",
       "  (10): AdaptiveAvgPool2d(output_size=1)\n",
       "  (11): Flatten(start_dim=1, end_dim=-1)\n",
       "  (12): Linear(in_features=40, out_features=10, bias=True)\n",
       "  (13): ReLU()\n",
       "  (14): Linear(in_features=10, out_features=1, bias=True)\n",
       ")"
      ]
     },
     "execution_count": null,
     "metadata": {},
     "output_type": "execute_result"
    }
   ],
   "source": [
    "modules = [template[i] for i in range(9)]\n",
    "modules.extend([torch.nn.ReLU(),\n",
    "                torch.nn.AdaptiveAvgPool2d(1),\n",
    "                torch.nn.Flatten(),\n",
    "                torch.nn.Linear(40, 10),\n",
    "                torch.nn.ReLU(),\n",
    "                torch.nn.Linear(10, 1)])\n",
    "net = torch.nn.Sequential(*modules)\n",
    "net"
   ]
  },
  {
   "cell_type": "code",
   "execution_count": null,
   "metadata": {},
   "outputs": [],
   "source": [
    "# modules = [template[i] for i in range(8)]\n",
    "# modules.extend([torch.nn.Conv2d(40, 40, stride = 1, kernel_size = 2, padding = 0),\n",
    "#                 torch.nn.ReLU(),\n",
    "#                 torch.nn.AdaptiveAvgPool2d(1),\n",
    "#                 torch.nn.Flatten(),\n",
    "#                 torch.nn.Linear(40, 1)])\n",
    "# net = torch.nn.Sequential(*modules)\n",
    "# net"
   ]
  },
  {
   "cell_type": "code",
   "execution_count": null,
   "metadata": {},
   "outputs": [],
   "source": [
    "# modules = [template[i] for i in range(8)]\n",
    "# modules.extend([torch.nn.Conv2d(40, 20, stride = 1, kernel_size = 2, padding = 0),\n",
    "#                 torch.nn.ReLU(),\n",
    "#                 torch.nn.AdaptiveAvgPool2d(1),\n",
    "#                 torch.nn.Flatten(),\n",
    "#                 torch.nn.Linear(20, 10),\n",
    "#                 torch.nn.ReLU(),\n",
    "#                 torch.nn.Linear(10, 1)])\n",
    "# net = torch.nn.Sequential(*modules)\n",
    "# net"
   ]
  },
  {
   "cell_type": "code",
   "execution_count": null,
   "metadata": {},
   "outputs": [
    {
     "data": {
      "text/plain": [
       "torch.Size([200, 1])"
      ]
     },
     "execution_count": null,
     "metadata": {},
     "output_type": "execute_result"
    }
   ],
   "source": [
    "y_pred = net(x)\n",
    "y_pred.shape"
   ]
  },
  {
   "cell_type": "code",
   "execution_count": null,
   "metadata": {},
   "outputs": [
    {
     "data": {
      "text/plain": [
       "tensor(0.0600)"
      ]
     },
     "execution_count": null,
     "metadata": {},
     "output_type": "execute_result"
    }
   ],
   "source": [
    "accuracy(y_pred, y)"
   ]
  },
  {
   "cell_type": "markdown",
   "metadata": {},
   "source": [
    "## Training"
   ]
  },
  {
   "cell_type": "code",
   "execution_count": null,
   "metadata": {},
   "outputs": [],
   "source": [
    "running_loss_data = []\n",
    "accuracy_data = []"
   ]
  },
  {
   "cell_type": "markdown",
   "metadata": {},
   "source": [
    "**WARNING**: I'm trying a learning rate of 0.02, twice the previous one"
   ]
  },
  {
   "cell_type": "code",
   "execution_count": null,
   "metadata": {},
   "outputs": [],
   "source": [
    "data.train_model(net, n_epochs = 100, lr=0.02, accuracy_func = accuracy,\n",
    "                 loss_monitoring = running_loss_data,\n",
    "                 accuracy_monitoring = accuracy_data)"
   ]
  },
  {
   "cell_type": "code",
   "execution_count": null,
   "metadata": {},
   "outputs": [],
   "source": [
    "# torch.save(net, 'models/Descartes.pt')"
   ]
  },
  {
   "cell_type": "code",
   "execution_count": null,
   "metadata": {},
   "outputs": [
    {
     "name": "stdout",
     "output_type": "stream",
     "text": [
      "Number of mini-batches stored: 100\n",
      "Number of mini-batches created: 112\n"
     ]
    }
   ],
   "source": [
    "data.info()"
   ]
  },
  {
   "cell_type": "code",
   "execution_count": null,
   "metadata": {},
   "outputs": [
    {
     "data": {
      "image/png": "[encoded data removed]",
      "text/plain": [
       "<Figure size 432x288 with 1 Axes>"
      ]
     },
     "metadata": {
      "needs_background": "light"
     },
     "output_type": "display_data"
    }
   ],
   "source": [
    "plt.plot(running_loss_data, color='red')\n",
    "plt.xlabel('Epochs')\n",
    "plt.xlim(0, 199)\n",
    "plt.ylabel('Loss function (MSE)')\n",
    "plt.yscale('log')\n",
    "# plt.savefig('xxx.png', bbox_inches='tight')\n",
    "plt.show()"
   ]
  },
  {
   "cell_type": "code",
   "execution_count": null,
   "metadata": {},
   "outputs": [
    {
     "data": {
      "image/png": "[encoded data removed]",
      "text/plain": [
       "<Figure size 432x288 with 1 Axes>"
      ]
     },
     "metadata": {
      "needs_background": "light"
     },
     "output_type": "display_data"
    }
   ],
   "source": [
    "plt.plot(accuracy_data, color='blue')\n",
    "plt.xlabel('Epochs')\n",
    "plt.ylabel('Accuracy')\n",
    "plt.xlim(0, 199)\n",
    "plt.ylim(0, 1)\n",
    "# plt.savefig('xxx.png', bbox_inches='tight')\n",
    "plt.show()"
   ]
  },
  {
   "cell_type": "code",
   "execution_count": null,
   "metadata": {},
   "outputs": [],
   "source": [
    "error_data = [1.0 - x for x in accuracy_data]"
   ]
  },
  {
   "cell_type": "code",
   "execution_count": null,
   "metadata": {},
   "outputs": [
    {
     "data": {
      "image/png": "[encoded data removed]",
      "text/plain": [
       "<Figure size 432x288 with 1 Axes>"
      ]
     },
     "metadata": {
      "needs_background": "light"
     },
     "output_type": "display_data"
    }
   ],
   "source": [
    "plt.plot(error_data, color='lightblue')\n",
    "plt.xlabel('Epochs')\n",
    "plt.xlim(0, 199)\n",
    "plt.ylabel('Error')\n",
    "plt.yscale('log')\n",
    "plt.show()"
   ]
  },
  {
   "cell_type": "markdown",
   "metadata": {},
   "source": [
    "## Loading the model\n",
    "\n",
    "Once the model has been trained, this can be used to load its state dictionary:"
   ]
  },
  {
   "cell_type": "code",
   "execution_count": null,
   "metadata": {},
   "outputs": [],
   "source": [
    "# net2 = torch.load('models/Descartes_binary.pt')\n",
    "# net2.eval()"
   ]
  },
  {
   "cell_type": "markdown",
   "metadata": {},
   "source": [
    "## Validation"
   ]
  },
  {
   "cell_type": "code",
   "execution_count": null,
   "metadata": {},
   "outputs": [],
   "source": [
    "x, y = generate_batch(1000)"
   ]
  },
  {
   "cell_type": "code",
   "execution_count": null,
   "metadata": {},
   "outputs": [],
   "source": [
    "y_preds = net(x).data"
   ]
  },
  {
   "cell_type": "code",
   "execution_count": null,
   "metadata": {},
   "outputs": [
    {
     "data": {
      "text/plain": [
       "tensor(0.1930)"
      ]
     },
     "execution_count": null,
     "metadata": {},
     "output_type": "execute_result"
    }
   ],
   "source": [
    "accuracy(y_preds, y)"
   ]
  },
  {
   "cell_type": "code",
   "execution_count": null,
   "metadata": {},
   "outputs": [
    {
     "data": {
      "text/plain": [
       "tensor(0.6560)"
      ]
     },
     "execution_count": null,
     "metadata": {},
     "output_type": "execute_result"
    }
   ],
   "source": [
    "plusminusone(y_preds, y)"
   ]
  },
  {
   "cell_type": "code",
   "execution_count": null,
   "metadata": {},
   "outputs": [
    {
     "data": {
      "text/plain": [
       "(tensor(0.5188), tensor(0.2204), tensor(0.5612), tensor(0.1776))"
      ]
     },
     "execution_count": null,
     "metadata": {},
     "output_type": "execute_result"
    }
   ],
   "source": [
    "y.mean(), y.std(), y_preds.mean(), y_preds.std()"
   ]
  },
  {
   "cell_type": "code",
   "execution_count": null,
   "metadata": {},
   "outputs": [],
   "source": [
    "# mistakes = []\n",
    "# for i in range(y.shape[0]):\n",
    "#     if (y_preds[i] > 0.5) != y[i]:\n",
    "#         mistakes.append([i, y[i].item(), y_preds[i].item()])\n",
    "# mistakes"
   ]
  },
  {
   "cell_type": "code",
   "execution_count": null,
   "metadata": {},
   "outputs": [],
   "source": [
    "# MSvisualize(x[mistakes[0][0]])"
   ]
  },
  {
   "cell_type": "code",
   "execution_count": null,
   "metadata": {},
   "outputs": [],
   "source": []
  }
 ],
 "metadata": {
  "kernelspec": {
   "display_name": "Python 3",
   "language": "python",
   "name": "python3"
  }
 },
 "nbformat": 4,
 "nbformat_minor": 4
}
