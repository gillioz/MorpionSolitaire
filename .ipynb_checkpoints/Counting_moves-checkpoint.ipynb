{
 "cells": [
  {
   "cell_type": "markdown",
   "metadata": {},
   "source": [
    "# Counting legal moves\n"
   ]
  },
  {
   "cell_type": "code",
   "execution_count": null,
   "metadata": {},
   "outputs": [],
   "source": [
    "from MorpionSolitaire import *\n",
    "from DeepLearningMS import *"
   ]
  },
  {
   "cell_type": "code",
   "execution_count": null,
   "metadata": {},
   "outputs": [],
   "source": [
    "from multiprocess import Pool\n",
    "pool = Pool()"
   ]
  },
  {
   "cell_type": "markdown",
   "metadata": {},
   "source": [
    "## Mini-batches"
   ]
  },
  {
   "cell_type": "markdown",
   "metadata": {},
   "source": [
    "This function plays one game at random until there are no more moves, then rewinds the game to an arbitrary interemediate stage, and returns the final grid.\n",
    "\n",
    "When the score of the game played is $n$, the probability to rewind by $i$ steps ($i$ between 1 and $n$) is given by:\n",
    "$$\n",
    "    p_i = \\frac{6 (n-i)^2}{n (n+1) (2n+1)}\n",
    "$$\n",
    "i.e. it decreases with the square of $i$.\n",
    "\n",
    "The label $y$ is related to the number of legal moves $N$ by the equation\n",
    "$$\n",
    "    y = \\frac{N}{N + 5}\n",
    "$$\n",
    "so that it is equal to zero if there are no moves, and approaches one if there are many moves."
   ]
  },
  {
   "cell_type": "code",
   "execution_count": null,
   "metadata": {},
   "outputs": [],
   "source": [
    "def play_one_game(host = 0): # dummy argument needed for passing to pool.map\n",
    "    game = NewGame('cross').play()\n",
    "    n = game.score\n",
    "    m = n * (n + 1) * (2*n + 1) / 6.0\n",
    "    i = np.random.choice([i for i in range(n)],\n",
    "                         p = [(n-i)**2 / m for i in range(n)])\n",
    "    if i > 0:\n",
    "        game = game.unplay(i)\n",
    "    l = len(game.moves)\n",
    "    return game.grid.image(), l / (l + 5)"
   ]
  },
  {
   "cell_type": "markdown",
   "metadata": {},
   "source": [
    "Mini-batches contains a certain number of grids obtained in the way described above (computed in parallel to gain time), as well as a labels (0 for no legal moves, 1 for at least one legal move)."
   ]
  },
  {
   "cell_type": "code",
   "execution_count": null,
   "metadata": {},
   "outputs": [],
   "source": [
    "def generate_batch(batch_size = 200):\n",
    "    xy = pool.map(play_one_game, range(batch_size))\n",
    "    x = torch.tensor(np.array([e[0] for e in xy])).float().unsqueeze(1)\n",
    "    y = torch.tensor([e[1] for e in xy]).unsqueeze(1)\n",
    "    return x, y"
   ]
  },
  {
   "cell_type": "markdown",
   "metadata": {},
   "source": [
    "20,000 grids and labels computed in this way are saved once and for all:"
   ]
  },
  {
   "cell_type": "code",
   "execution_count": null,
   "metadata": {},
   "outputs": [],
   "source": [
    "# xy = pool.map(play_one_game, range(20000))\n",
    "# np.save('data/counting_problem_grids.npy', np.stack([e[0] for e in xy]))\n",
    "# np.save('data/counting_problem_labels.npy', np.stack([e[1] for e in xy]))"
   ]
  },
  {
   "cell_type": "markdown",
   "metadata": {},
   "source": [
    "## Data frame"
   ]
  },
  {
   "cell_type": "code",
   "execution_count": null,
   "metadata": {},
   "outputs": [
    {
     "name": "stdout",
     "output_type": "stream",
     "text": [
      "Number of mini-batches stored: 100\n",
      "Number of mini-batches created: 0\n"
     ]
    }
   ],
   "source": [
    "data = MSDataFrame(batch_size = 200, length = 100,\n",
    "                   batch_fct = generate_batch, repeat = 16,\n",
    "                   data = 'data/counting_problem_grids.npy',\n",
    "                   labels = 'data/counting_problem_labels.npy')\n",
    "data.info()"
   ]
  },
  {
   "cell_type": "code",
   "execution_count": null,
   "metadata": {},
   "outputs": [
    {
     "data": {
      "text/plain": [
       "(torch.Size([200, 1, 94, 94]), torch.Size([200, 1]))"
      ]
     },
     "execution_count": null,
     "metadata": {},
     "output_type": "execute_result"
    }
   ],
   "source": [
    "x, y = data.data[0]\n",
    "x.shape, y.shape"
   ]
  },
  {
   "cell_type": "code",
   "execution_count": null,
   "metadata": {},
   "outputs": [
    {
     "data": {
      "image/png": "[encoded data removed]",
      "text/plain": [
       "<PIL.Image.Image image mode=1 size=94x94 at 0x7F246B96A820>"
      ]
     },
     "execution_count": null,
     "metadata": {},
     "output_type": "execute_result"
    }
   ],
   "source": [
    "MSvisualize(x[0])"
   ]
  },
  {
   "cell_type": "code",
   "execution_count": null,
   "metadata": {},
   "outputs": [
    {
     "data": {
      "text/plain": [
       "tensor([0.4444])"
      ]
     },
     "execution_count": null,
     "metadata": {},
     "output_type": "execute_result"
    }
   ],
   "source": [
    "y[0]"
   ]
  },
  {
   "cell_type": "code",
   "execution_count": null,
   "metadata": {},
   "outputs": [
    {
     "data": {
      "text/plain": [
       "tensor([4.])"
      ]
     },
     "execution_count": null,
     "metadata": {},
     "output_type": "execute_result"
    }
   ],
   "source": [
    "5.0 * y[0] / (1.0 - y[0])"
   ]
  },
  {
   "cell_type": "code",
   "execution_count": null,
   "metadata": {},
   "outputs": [
    {
     "data": {
      "text/plain": [
       "(tensor(0.5077), tensor(0.2329), tensor(0.), tensor(0.8214))"
      ]
     },
     "execution_count": null,
     "metadata": {},
     "output_type": "execute_result"
    }
   ],
   "source": [
    "y.mean(), y.std(), y.min(), y.max()"
   ]
  },
  {
   "cell_type": "markdown",
   "metadata": {},
   "source": [
    "Distribution of labels:"
   ]
  },
  {
   "cell_type": "code",
   "execution_count": null,
   "metadata": {},
   "outputs": [],
   "source": [
    "ydata = torch.cat([data.data[i][1].squeeze() for i in range(len(data.data))])\n",
    "ndata = torch.round(5.0 * ydata / (1.0 - ydata))\n",
    "nmax = ndata.max().int().item()\n",
    "ndistribution = [torch.where(ndata == i, 1.0, 0.0).mean().item() for i in range(nmax + 1)]"
   ]
  },
  {
   "cell_type": "code",
   "execution_count": null,
   "metadata": {},
   "outputs": [
    {
     "data": {
      "image/png": "[encoded data removed]",
      "text/plain": [
       "<Figure size 432x288 with 1 Axes>"
      ]
     },
     "metadata": {
      "needs_background": "light"
     },
     "output_type": "display_data"
    }
   ],
   "source": [
    "plt.scatter([y / (y + 5) for y in range(nmax + 1)], ndistribution, color='green', marker = '+')\n",
    "plt.xlabel('Label')\n",
    "plt.ylabel('Frequency')\n",
    "plt.xlim(-0.03, 1)\n",
    "plt.ylim(0, 0.1)\n",
    "plt.show()"
   ]
  },
  {
   "cell_type": "code",
   "execution_count": null,
   "metadata": {},
   "outputs": [
    {
     "data": {
      "image/png": "[encoded data removed]",
      "text/plain": [
       "<Figure size 432x288 with 1 Axes>"
      ]
     },
     "metadata": {
      "needs_background": "light"
     },
     "output_type": "display_data"
    }
   ],
   "source": [
    "plt.step(np.array(range(nmax + 1)), ndistribution, where='mid', color='green')\n",
    "plt.xlabel('Label (number of moves)')\n",
    "plt.ylabel('Frequency')\n",
    "plt.xlim(0, nmax)\n",
    "plt.ylim(0, 0.1)\n",
    "# plt.savefig('labels_counting.png', bbox_inches='tight')\n",
    "plt.show()"
   ]
  },
  {
   "cell_type": "markdown",
   "metadata": {},
   "source": [
    "### Accuracy\n",
    "\n",
    "The accuracy is computed after inverting the relation between the label $y$ and the corresponding number of moves $N$:\n",
    "$$\n",
    "N = \\frac{5 y}{1 - y}\n",
    "$$"
   ]
  },
  {
   "cell_type": "code",
   "execution_count": null,
   "metadata": {},
   "outputs": [],
   "source": [
    "def accuracy(outputs, labels):\n",
    "    noutputs = torch.round(5.0 * outputs / (1.0 - outputs))\n",
    "    nlabels = torch.round(5.0 * labels / (1.0 - labels))\n",
    "    return torch.where(noutputs == nlabels, 1.0, 0.0).mean()"
   ]
  },
  {
   "cell_type": "markdown",
   "metadata": {},
   "source": [
    "## Model and training"
   ]
  },
  {
   "cell_type": "code",
   "execution_count": null,
   "metadata": {},
   "outputs": [],
   "source": [
    "net = torch.nn.Sequential(\n",
    "    torch.nn.Conv2d(1, 20, stride = 3, kernel_size = 3, padding = 1), # output 32 x 32 pixels\n",
    "    torch.nn.ReLU(),\n",
    "    torch.nn.Conv2d(20, 40, stride = 1, kernel_size = 2, padding = 0), # output 31 x 31 pixels\n",
    "    torch.nn.ReLU(),\n",
    "    torch.nn.Conv2d(40, 40, stride = 1, kernel_size = 2, padding = 0), # output 30 x 30 pixels\n",
    "    torch.nn.ReLU(),\n",
    "    torch.nn.Conv2d(40, 40, stride = 1, kernel_size = 2, padding = 0), # output 29 x 29 pixels\n",
    "    torch.nn.ReLU(),\n",
    "    torch.nn.Conv2d(40, 10, stride = 1, kernel_size = 2, padding = 0), # output 28 x 28 pixels\n",
    "    torch.nn.ReLU(),\n",
    "    torch.nn.AdaptiveAvgPool2d(1),\n",
    "    torch.nn.Flatten(),\n",
    "    torch.nn.Linear(10, 3),\n",
    "    torch.nn.ReLU(),\n",
    "    torch.nn.Linear(3, 1),\n",
    "    torch.nn.Sigmoid()\n",
    ")"
   ]
  },
  {
   "cell_type": "markdown",
   "metadata": {},
   "source": [
    "**TO DO HERE**: use the state dictionary of the previous model to initialize all the convolutional layers\n",
    "(this requires running again with the same model);\n",
    "keep the linear layers initalized at random"
   ]
  },
  {
   "cell_type": "code",
   "execution_count": null,
   "metadata": {},
   "outputs": [
    {
     "data": {
      "text/plain": [
       "torch.Size([200, 1])"
      ]
     },
     "execution_count": null,
     "metadata": {},
     "output_type": "execute_result"
    }
   ],
   "source": [
    "y_pred = net(x)\n",
    "y_pred.shape"
   ]
  },
  {
   "cell_type": "code",
   "execution_count": null,
   "metadata": {},
   "outputs": [
    {
     "data": {
      "text/plain": [
       "tensor(0.0700)"
      ]
     },
     "execution_count": null,
     "metadata": {},
     "output_type": "execute_result"
    }
   ],
   "source": [
    "accuracy(y_pred, y)"
   ]
  },
  {
   "cell_type": "markdown",
   "metadata": {},
   "source": [
    "## Training"
   ]
  },
  {
   "cell_type": "code",
   "execution_count": null,
   "metadata": {},
   "outputs": [],
   "source": [
    "running_loss_data = []\n",
    "accuracy_data = []"
   ]
  },
  {
   "cell_type": "code",
   "execution_count": null,
   "metadata": {},
   "outputs": [
    {
     "data": {
      "application/vnd.jupyter.widget-view+json": {
       "model_id": "57aaf313397b4e8c8c517f35808717b2",
       "version_major": 2,
       "version_minor": 0
      },
      "text/plain": [
       "HBox(children=(HTML(value=''), FloatProgress(value=0.0, max=500.0), HTML(value='')))"
      ]
     },
     "metadata": {},
     "output_type": "display_data"
    },
    {
     "name": "stderr",
     "output_type": "stream",
     "text": [
      "/home/marc/anaconda3/lib/python3.8/site-packages/torch/autograd/__init__.py:130: UserWarning: CUDA initialization: Found no NVIDIA driver on your system. Please check that you have an NVIDIA GPU and installed a driver from http://www.nvidia.com/Download/index.aspx (Triggered internally at  /pytorch/c10/cuda/CUDAFunctions.cpp:100.)\n",
      "  Variable._execution_engine.run_backward(\n"
     ]
    },
    {
     "name": "stdout",
     "output_type": "stream",
     "text": [
      "[0]  loss: 0.053   accuracy: 0.07\n",
      "[1]  loss: 0.052   accuracy: 0.07\n",
      "[2]  loss: 0.051   accuracy: 0.07\n",
      "[3]  loss: 0.051   accuracy: 0.07\n",
      "[4]  loss: 0.051   accuracy: 0.07\n",
      "[5]  loss: 0.051   accuracy: 0.07\n",
      "[6]  loss: 0.051   accuracy: 0.07\n",
      "[7]  loss: 0.051   accuracy: 0.07\n",
      "[8]  loss: 0.051   accuracy: 0.07\n",
      "[9]  loss: 0.051   accuracy: 0.07\n",
      "[10]  loss: 0.050   accuracy: 0.07\n",
      "[11]  loss: 0.051   accuracy: 0.07\n",
      "[12]  loss: 0.051   accuracy: 0.07\n",
      "[13]  loss: 0.051   accuracy: 0.07\n",
      "[14]  loss: 0.051   accuracy: 0.07\n",
      "[15]  loss: 0.051   accuracy: 0.07\n",
      "[16]  loss: 0.050   accuracy: 0.07\n",
      "[17]  loss: 0.050   accuracy: 0.07\n",
      "[18]  loss: 0.050   accuracy: 0.07\n",
      "[19]  loss: 0.050   accuracy: 0.07\n",
      "[20]  loss: 0.050   accuracy: 0.08\n",
      "[21]  loss: 0.049   accuracy: 0.08\n",
      "[22]  loss: 0.050   accuracy: 0.08\n",
      "[23]  loss: 0.050   accuracy: 0.08\n",
      "[24]  loss: 0.050   accuracy: 0.08\n",
      "[25]  loss: 0.050   accuracy: 0.08\n",
      "[26]  loss: 0.050   accuracy: 0.08\n",
      "[27]  loss: 0.050   accuracy: 0.08\n",
      "[28]  loss: 0.050   accuracy: 0.08\n",
      "[29]  loss: 0.050   accuracy: 0.08\n",
      "[30]  loss: 0.049   accuracy: 0.08\n",
      "[31]  loss: 0.049   accuracy: 0.08\n",
      "[32]  loss: 0.049   accuracy: 0.08\n",
      "[33]  loss: 0.050   accuracy: 0.08\n",
      "[34]  loss: 0.049   accuracy: 0.08\n",
      "[35]  loss: 0.050   accuracy: 0.08\n",
      "[36]  loss: 0.050   accuracy: 0.07\n",
      "[37]  loss: 0.050   accuracy: 0.07\n",
      "[38]  loss: 0.050   accuracy: 0.07\n",
      "[39]  loss: 0.049   accuracy: 0.07\n",
      "[40]  loss: 0.049   accuracy: 0.07\n",
      "[41]  loss: 0.048   accuracy: 0.07\n",
      "[42]  loss: 0.048   accuracy: 0.07\n",
      "[43]  loss: 0.049   accuracy: 0.07\n",
      "[44]  loss: 0.049   accuracy: 0.07\n",
      "[45]  loss: 0.049   accuracy: 0.07\n",
      "[46]  loss: 0.049   accuracy: 0.07\n",
      "[47]  loss: 0.049   accuracy: 0.07\n",
      "[48]  loss: 0.049   accuracy: 0.07\n",
      "[49]  loss: 0.049   accuracy: 0.06\n",
      "[50]  loss: 0.050   accuracy: 0.07\n",
      "[51]  loss: 0.050   accuracy: 0.07\n",
      "[52]  loss: 0.050   accuracy: 0.07\n",
      "[53]  loss: 0.050   accuracy: 0.07\n",
      "[54]  loss: 0.050   accuracy: 0.07\n"
     ]
    }
   ],
   "source": [
    "data.train_model(net, n_epochs = 500, lr=0.01, accuracy_func = accuracy,\n",
    "                 loss_monitoring = running_loss_data,\n",
    "                 accuracy_monitoring = accuracy_data)"
   ]
  },
  {
   "cell_type": "code",
   "execution_count": null,
   "metadata": {},
   "outputs": [],
   "source": [
    "torch.save(net, 'models/Descartes.pt')"
   ]
  },
  {
   "cell_type": "code",
   "execution_count": null,
   "metadata": {},
   "outputs": [],
   "source": [
    "data.info()"
   ]
  },
  {
   "cell_type": "code",
   "execution_count": null,
   "metadata": {},
   "outputs": [],
   "source": [
    "plt.plot(running_loss_data, color='red')\n",
    "plt.xlabel('Epochs')\n",
    "plt.xlim(0, 199)\n",
    "plt.ylabel('Loss function (MSE)')\n",
    "plt.yscale('log')\n",
    "# plt.savefig('xxx.png', bbox_inches='tight')\n",
    "plt.show()"
   ]
  },
  {
   "cell_type": "code",
   "execution_count": null,
   "metadata": {},
   "outputs": [],
   "source": [
    "plt.plot(accuracy_data, color='blue')\n",
    "plt.xlabel('Epochs')\n",
    "plt.ylabel('Accuracy')\n",
    "plt.xlim(0, 199)\n",
    "plt.ylim(0.5, 1)\n",
    "# plt.savefig('xxx.png', bbox_inches='tight')\n",
    "plt.show()"
   ]
  },
  {
   "cell_type": "code",
   "execution_count": null,
   "metadata": {},
   "outputs": [],
   "source": [
    "error_data = [1.0 - x for x in accuracy_data]"
   ]
  },
  {
   "cell_type": "code",
   "execution_count": null,
   "metadata": {},
   "outputs": [],
   "source": [
    "plt.plot(error_data, color='lightblue')\n",
    "plt.xlabel('Epochs')\n",
    "plt.xlim(0, 199)\n",
    "plt.ylabel('Error')\n",
    "plt.yscale('log')\n",
    "plt.show()"
   ]
  },
  {
   "cell_type": "markdown",
   "metadata": {},
   "source": [
    "## Loading the model\n",
    "\n",
    "Once the model has been trained, this can be used to load its state dictionary:"
   ]
  },
  {
   "cell_type": "code",
   "execution_count": null,
   "metadata": {},
   "outputs": [
    {
     "data": {
      "text/plain": [
       "Sequential(\n",
       "  (0): Conv2d(1, 20, kernel_size=(3, 3), stride=(3, 3), padding=(1, 1))\n",
       "  (1): ReLU()\n",
       "  (2): Conv2d(20, 40, kernel_size=(2, 2), stride=(1, 1))\n",
       "  (3): ReLU()\n",
       "  (4): Conv2d(40, 40, kernel_size=(2, 2), stride=(1, 1))\n",
       "  (5): ReLU()\n",
       "  (6): Conv2d(40, 40, kernel_size=(2, 2), stride=(1, 1))\n",
       "  (7): ReLU()\n",
       "  (8): Conv2d(40, 10, kernel_size=(2, 2), stride=(1, 1))\n",
       "  (9): AdaptiveMaxPool2d(output_size=1)\n",
       "  (10): Flatten(start_dim=1, end_dim=-1)\n",
       "  (11): Linear(in_features=10, out_features=3, bias=True)\n",
       "  (12): ReLU()\n",
       "  (13): Linear(in_features=3, out_features=1, bias=True)\n",
       ")"
      ]
     },
     "execution_count": null,
     "metadata": {},
     "output_type": "execute_result"
    }
   ],
   "source": [
    "net2 = torch.load('models/Descartes_binary.pt')\n",
    "net2.eval()"
   ]
  },
  {
   "cell_type": "markdown",
   "metadata": {},
   "source": [
    "## Validation"
   ]
  },
  {
   "cell_type": "code",
   "execution_count": null,
   "metadata": {},
   "outputs": [],
   "source": [
    "x, y = generate_batch(1000)"
   ]
  },
  {
   "cell_type": "code",
   "execution_count": null,
   "metadata": {},
   "outputs": [],
   "source": [
    "y_preds = net2(x).data"
   ]
  },
  {
   "cell_type": "code",
   "execution_count": null,
   "metadata": {},
   "outputs": [
    {
     "data": {
      "text/plain": [
       "tensor(0.9890)"
      ]
     },
     "execution_count": null,
     "metadata": {},
     "output_type": "execute_result"
    }
   ],
   "source": [
    "accuracy(y_preds, y)"
   ]
  },
  {
   "cell_type": "code",
   "execution_count": null,
   "metadata": {},
   "outputs": [
    {
     "data": {
      "text/plain": [
       "(tensor(0.5000), tensor(0.5003), tensor(0.4742), tensor(0.4563))"
      ]
     },
     "execution_count": null,
     "metadata": {},
     "output_type": "execute_result"
    }
   ],
   "source": [
    "y.mean(), y.std(), y_preds.mean(), y_preds.std()"
   ]
  },
  {
   "cell_type": "code",
   "execution_count": null,
   "metadata": {},
   "outputs": [
    {
     "data": {
      "text/plain": [
       "[[35, 1.0, 0.14153707027435303],\n",
       " [135, 1.0, 0.38496291637420654],\n",
       " [285, 1.0, 0.38496291637420654],\n",
       " [338, 0.0, 0.8244150280952454],\n",
       " [454, 0.0, 0.8483152389526367],\n",
       " [509, 1.0, 0.28739964962005615],\n",
       " [552, 0.0, 0.8244150280952454],\n",
       " [606, 0.0, 0.8483152389526367],\n",
       " [683, 1.0, 0.0024511723313480616],\n",
       " [820, 0.0, 0.8483152389526367],\n",
       " [853, 1.0, 0.28739964962005615],\n",
       " [983, 1.0, 0.4784999489784241]]"
      ]
     },
     "execution_count": null,
     "metadata": {},
     "output_type": "execute_result"
    }
   ],
   "source": [
    "mistakes = []\n",
    "for i in range(y.shape[0]):\n",
    "    if (y_preds[i] > 0.5) != y[i]:\n",
    "        mistakes.append([i, y[i].item(), y_preds[i].item()])\n",
    "mistakes"
   ]
  },
  {
   "cell_type": "code",
   "execution_count": null,
   "metadata": {},
   "outputs": [
    {
     "data": {
      "image/png": "[encoded data removed]",
      "text/plain": [
       "<PIL.Image.Image image mode=1 size=94x94 at 0x7F6B31CF2370>"
      ]
     },
     "execution_count": null,
     "metadata": {},
     "output_type": "execute_result"
    }
   ],
   "source": [
    "MSvisualize(x[mistakes[0][0]])"
   ]
  },
  {
   "cell_type": "code",
   "execution_count": null,
   "metadata": {},
   "outputs": [],
   "source": []
  }
 ],
 "metadata": {
  "kernelspec": {
   "display_name": "Python 3",
   "language": "python",
   "name": "python3"
  }
 },
 "nbformat": 4,
 "nbformat_minor": 4
}
