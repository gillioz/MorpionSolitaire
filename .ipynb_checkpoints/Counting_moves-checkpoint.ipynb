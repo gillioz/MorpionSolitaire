{
 "cells": [
  {
   "cell_type": "markdown",
   "metadata": {},
   "source": [
    "# Counting legal moves\n"
   ]
  },
  {
   "cell_type": "markdown",
   "metadata": {},
   "source": [
    "**TO DO**\n",
    "- train model with max pooling on the binary problem, where I know it works, if possible all the way to 100% accuracy; this is a proof-of-principle showing that the model is good; maybe save intermediate versions at different accuracies?\n",
    "- try to solve the counting problem using *transfer learning*: copy the convolutional layers of the solution to the previous problem, then add a different tail with average instead of max pooling (might work better if we also strip off the last conv layer, or at least its bias)"
   ]
  },
  {
   "cell_type": "code",
   "execution_count": null,
   "metadata": {},
   "outputs": [],
   "source": [
    "from MorpionSolitaire import *\n",
    "from DeepLearningMS import *"
   ]
  },
  {
   "cell_type": "code",
   "execution_count": null,
   "metadata": {},
   "outputs": [
    {
     "name": "stderr",
     "output_type": "stream",
     "text": [
      "Process ForkPoolWorker-2:\n",
      "Process ForkPoolWorker-3:\n",
      "Process ForkPoolWorker-1:\n",
      "Process ForkPoolWorker-4:\n",
      "Traceback (most recent call last):\n",
      "Traceback (most recent call last):\n",
      "Traceback (most recent call last):\n",
      "Traceback (most recent call last):\n",
      "  File \"/home/marc/anaconda3/lib/python3.8/site-packages/multiprocess/process.py\", line 315, in _bootstrap\n",
      "    self.run()\n",
      "  File \"/home/marc/anaconda3/lib/python3.8/site-packages/multiprocess/process.py\", line 315, in _bootstrap\n",
      "    self.run()\n",
      "  File \"/home/marc/anaconda3/lib/python3.8/site-packages/multiprocess/process.py\", line 108, in run\n",
      "    self._target(*self._args, **self._kwargs)\n",
      "  File \"/home/marc/anaconda3/lib/python3.8/site-packages/multiprocess/process.py\", line 315, in _bootstrap\n",
      "    self.run()\n",
      "  File \"/home/marc/anaconda3/lib/python3.8/site-packages/multiprocess/pool.py\", line 114, in worker\n",
      "    task = get()\n",
      "  File \"/home/marc/anaconda3/lib/python3.8/site-packages/multiprocess/process.py\", line 108, in run\n",
      "    self._target(*self._args, **self._kwargs)\n",
      "  File \"/home/marc/anaconda3/lib/python3.8/site-packages/multiprocess/process.py\", line 108, in run\n",
      "    self._target(*self._args, **self._kwargs)\n",
      "  File \"/home/marc/anaconda3/lib/python3.8/site-packages/multiprocess/process.py\", line 315, in _bootstrap\n",
      "    self.run()\n",
      "  File \"/home/marc/anaconda3/lib/python3.8/site-packages/multiprocess/queues.py\", line 358, in get\n",
      "    with self._rlock:\n",
      "  File \"/home/marc/anaconda3/lib/python3.8/site-packages/multiprocess/pool.py\", line 114, in worker\n",
      "    task = get()\n",
      "  File \"/home/marc/anaconda3/lib/python3.8/site-packages/multiprocess/pool.py\", line 114, in worker\n",
      "    task = get()\n",
      "  File \"/home/marc/anaconda3/lib/python3.8/site-packages/multiprocess/process.py\", line 108, in run\n",
      "    self._target(*self._args, **self._kwargs)\n",
      "  File \"/home/marc/anaconda3/lib/python3.8/site-packages/multiprocess/queues.py\", line 359, in get\n",
      "    res = self._reader.recv_bytes()\n",
      "  File \"/home/marc/anaconda3/lib/python3.8/site-packages/multiprocess/synchronize.py\", line 101, in __enter__\n",
      "    return self._semlock.__enter__()\n",
      "  File \"/home/marc/anaconda3/lib/python3.8/site-packages/multiprocess/connection.py\", line 219, in recv_bytes\n",
      "    buf = self._recv_bytes(maxlength)\n",
      "KeyboardInterrupt\n",
      "  File \"/home/marc/anaconda3/lib/python3.8/site-packages/multiprocess/pool.py\", line 114, in worker\n",
      "    task = get()\n",
      "  File \"/home/marc/anaconda3/lib/python3.8/site-packages/multiprocess/queues.py\", line 358, in get\n",
      "    with self._rlock:\n",
      "  File \"/home/marc/anaconda3/lib/python3.8/site-packages/multiprocess/queues.py\", line 358, in get\n",
      "    with self._rlock:\n",
      "  File \"/home/marc/anaconda3/lib/python3.8/site-packages/multiprocess/connection.py\", line 417, in _recv_bytes\n",
      "    buf = self._recv(4)\n",
      "  File \"/home/marc/anaconda3/lib/python3.8/site-packages/multiprocess/synchronize.py\", line 101, in __enter__\n",
      "    return self._semlock.__enter__()\n",
      "  File \"/home/marc/anaconda3/lib/python3.8/site-packages/multiprocess/synchronize.py\", line 101, in __enter__\n",
      "    return self._semlock.__enter__()\n",
      "  File \"/home/marc/anaconda3/lib/python3.8/site-packages/multiprocess/connection.py\", line 382, in _recv\n",
      "    chunk = read(handle, remaining)\n",
      "KeyboardInterrupt\n",
      "KeyboardInterrupt\n",
      "KeyboardInterrupt\n"
     ]
    }
   ],
   "source": [
    "from multiprocess import Pool\n",
    "pool = Pool()"
   ]
  },
  {
   "cell_type": "markdown",
   "metadata": {},
   "source": [
    "## Mini-batches"
   ]
  },
  {
   "cell_type": "markdown",
   "metadata": {},
   "source": [
    "This function plays one game at random until there are no more moves, then rewinds the game to an arbitrary interemediate stage, and returns the final grid.\n",
    "\n",
    "When the score of the game played is $n$, the probability to rewind by $i$ steps ($i$ between 1 and $n$) is given by:\n",
    "$$\n",
    "    p_i = \\frac{6 (n-i)^2}{n (n+1) (2n+1)}\n",
    "$$\n",
    "i.e. it decreases with the square of $i$.\n",
    "\n",
    "The label $y$ is related to the number of legal moves $N$ by the equation\n",
    "$$\n",
    "    y = \\frac{N}{N + 5}\n",
    "$$\n",
    "so that it is equal to zero if there are no moves, and approaches one if there are many moves."
   ]
  },
  {
   "cell_type": "code",
   "execution_count": null,
   "metadata": {},
   "outputs": [],
   "source": [
    "def play_one_game(host = 0): # dummy argument needed for passing to pool.map\n",
    "    game = NewGame('cross').play()\n",
    "    n = game.score\n",
    "    m = n * (n + 1) * (2*n + 1) / 6.0\n",
    "    i = np.random.choice([i for i in range(n)],\n",
    "                         p = [(n-i)**2 / m for i in range(n)])\n",
    "    if i > 0:\n",
    "        game = game.unplay(i)\n",
    "    l = len(game.moves)\n",
    "    return game.grid.image(), l / (l + 5)"
   ]
  },
  {
   "cell_type": "markdown",
   "metadata": {},
   "source": [
    "Mini-batches contains a certain number of grids obtained in the way described above (computed in parallel to gain time), as well as a labels (0 for no legal moves, 1 for at least one legal move)."
   ]
  },
  {
   "cell_type": "code",
   "execution_count": null,
   "metadata": {},
   "outputs": [],
   "source": [
    "def generate_batch(batch_size = 200):\n",
    "    xy = pool.map(play_one_game, range(batch_size))\n",
    "    x = torch.tensor(np.array([e[0] for e in xy])).float().unsqueeze(1)\n",
    "    y = torch.tensor([e[1] for e in xy]).unsqueeze(1)\n",
    "    return x, y"
   ]
  },
  {
   "cell_type": "markdown",
   "metadata": {},
   "source": [
    "20,000 grids and labels computed in this way are saved once and for all:"
   ]
  },
  {
   "cell_type": "code",
   "execution_count": null,
   "metadata": {},
   "outputs": [],
   "source": [
    "# xy = pool.map(play_one_game, range(20000))\n",
    "# np.save('data/counting_problem_grids.npy', np.stack([e[0] for e in xy]))\n",
    "# np.save('data/counting_problem_labels.npy', np.stack([e[1] for e in xy]))"
   ]
  },
  {
   "cell_type": "markdown",
   "metadata": {},
   "source": [
    "## Data frame"
   ]
  },
  {
   "cell_type": "code",
   "execution_count": null,
   "metadata": {},
   "outputs": [
    {
     "name": "stdout",
     "output_type": "stream",
     "text": [
      "Number of mini-batches stored: 100\n",
      "Number of mini-batches created: 0\n"
     ]
    }
   ],
   "source": [
    "data = MSDataFrame(batch_size = 200, length = 100,\n",
    "                   batch_fct = generate_batch, repeat = 16,\n",
    "                   data = 'data/counting_problem_grids.npy',\n",
    "                   labels = 'data/counting_problem_labels.npy')\n",
    "data.info()"
   ]
  },
  {
   "cell_type": "code",
   "execution_count": null,
   "metadata": {},
   "outputs": [
    {
     "data": {
      "text/plain": [
       "(torch.Size([200, 1, 94, 94]), torch.Size([200, 1]))"
      ]
     },
     "execution_count": null,
     "metadata": {},
     "output_type": "execute_result"
    }
   ],
   "source": [
    "x, y = data.data[0]\n",
    "x.shape, y.shape"
   ]
  },
  {
   "cell_type": "code",
   "execution_count": null,
   "metadata": {},
   "outputs": [
    {
     "data": {
      "image/png": "[encoded data removed]",
      "text/plain": [
       "<PIL.Image.Image image mode=1 size=94x94 at 0x7FF3823005B0>"
      ]
     },
     "execution_count": null,
     "metadata": {},
     "output_type": "execute_result"
    }
   ],
   "source": [
    "MSvisualize(x[0])"
   ]
  },
  {
   "cell_type": "code",
   "execution_count": null,
   "metadata": {},
   "outputs": [
    {
     "data": {
      "text/plain": [
       "tensor([0.4444])"
      ]
     },
     "execution_count": null,
     "metadata": {},
     "output_type": "execute_result"
    }
   ],
   "source": [
    "y[0]"
   ]
  },
  {
   "cell_type": "markdown",
   "metadata": {},
   "source": [
    "Distribution of labels:"
   ]
  },
  {
   "cell_type": "code",
   "execution_count": null,
   "metadata": {},
   "outputs": [],
   "source": [
    "ydata = torch.cat([data.data[i][1].squeeze() for i in range(len(data.data))])\n",
    "ndata = torch.round(5.0 * ydata / (1.0 - ydata))\n",
    "nmax = ndata.max().int().item()\n",
    "ndistribution = [torch.where(ndata == i, 1.0, 0.0).mean().item() for i in range(nmax + 1)]"
   ]
  },
  {
   "cell_type": "code",
   "execution_count": null,
   "metadata": {},
   "outputs": [
    {
     "data": {
      "text/plain": [
       "(tensor(0.5009), tensor(0.2270), tensor(0.), tensor(0.8649))"
      ]
     },
     "execution_count": null,
     "metadata": {},
     "output_type": "execute_result"
    }
   ],
   "source": [
    "ydata.mean(), ydata.std(), ydata.min(), ydata.max()"
   ]
  },
  {
   "cell_type": "code",
   "execution_count": null,
   "metadata": {},
   "outputs": [
    {
     "data": {
      "image/png": "[encoded data removed]",
      "text/plain": [
       "<Figure size 432x288 with 1 Axes>"
      ]
     },
     "metadata": {
      "needs_background": "light"
     },
     "output_type": "display_data"
    }
   ],
   "source": [
    "plt.scatter([y / (y + 5) for y in range(nmax + 1)], ndistribution, color='green', marker = '+')\n",
    "plt.xlabel('Label')\n",
    "plt.ylabel('Frequency')\n",
    "plt.xlim(-0.03, 1)\n",
    "plt.ylim(0, 0.1)\n",
    "plt.show()"
   ]
  },
  {
   "cell_type": "code",
   "execution_count": null,
   "metadata": {},
   "outputs": [
    {
     "data": {
      "image/png": "[encoded data removed]",
      "text/plain": [
       "<Figure size 432x288 with 1 Axes>"
      ]
     },
     "metadata": {
      "needs_background": "light"
     },
     "output_type": "display_data"
    }
   ],
   "source": [
    "plt.step(np.array(range(nmax + 1)), ndistribution, where='mid', color='green')\n",
    "plt.xlabel('Label (number of moves)')\n",
    "plt.ylabel('Frequency')\n",
    "plt.xlim(0, nmax)\n",
    "plt.ylim(0, 0.1)\n",
    "# plt.savefig('labels_counting.png', bbox_inches='tight')\n",
    "plt.show()"
   ]
  },
  {
   "cell_type": "markdown",
   "metadata": {},
   "source": [
    "### Accuracy\n",
    "\n",
    "The accuracy is computed after inverting the relation between the label $y$ and the corresponding number of moves $N$:\n",
    "$$\n",
    "N = \\frac{5 y}{1 - y}\n",
    "$$"
   ]
  },
  {
   "cell_type": "code",
   "execution_count": null,
   "metadata": {},
   "outputs": [],
   "source": [
    "def accuracy(outputs, labels, plusminus = 0.0):\n",
    "    noutputs = torch.round(5.0 * outputs / (1.0 - outputs))\n",
    "    nlabels = torch.round(5.0 * labels / (1.0 - labels))\n",
    "    return torch.where(torch.abs(noutputs - nlabels) <= plusminus, 1.0, 0.0).mean()"
   ]
  },
  {
   "cell_type": "code",
   "execution_count": null,
   "metadata": {},
   "outputs": [],
   "source": [
    "def plusminusone(outputs, labels):\n",
    "    return accuracy(outputs, labels, plusminus = 1.0)\n",
    "def plusminustwo(outputs, labels):\n",
    "    return accuracy(outputs, labels, plusminus = 2.0)"
   ]
  },
  {
   "cell_type": "markdown",
   "metadata": {},
   "source": [
    "## Model and training"
   ]
  },
  {
   "cell_type": "markdown",
   "metadata": {},
   "source": [
    "**Transfer learning**: instead of training the model from scratch, use a template"
   ]
  },
  {
   "cell_type": "code",
   "execution_count": null,
   "metadata": {},
   "outputs": [
    {
     "data": {
      "text/plain": [
       "Sequential(\n",
       "  (0): Conv2d(1, 20, kernel_size=(3, 3), stride=(3, 3), padding=(1, 1))\n",
       "  (1): ReLU()\n",
       "  (2): Conv2d(20, 40, kernel_size=(2, 2), stride=(1, 1))\n",
       "  (3): ReLU()\n",
       "  (4): Conv2d(40, 40, kernel_size=(2, 2), stride=(1, 1))\n",
       "  (5): ReLU()\n",
       "  (6): Conv2d(40, 40, kernel_size=(2, 2), stride=(1, 1))\n",
       "  (7): ReLU()\n",
       "  (8): Conv2d(40, 40, kernel_size=(2, 2), stride=(1, 1))\n",
       "  (9): AdaptiveMaxPool2d(output_size=1)\n",
       "  (10): Flatten(start_dim=1, end_dim=-1)\n",
       "  (11): Linear(in_features=40, out_features=10, bias=True)\n",
       "  (12): ReLU()\n",
       "  (13): Linear(in_features=10, out_features=1, bias=True)\n",
       ")"
      ]
     },
     "execution_count": null,
     "metadata": {},
     "output_type": "execute_result"
    }
   ],
   "source": [
    "template = torch.load('models/Descartes_binary.pt')\n",
    "template.train()\n",
    "template"
   ]
  },
  {
   "cell_type": "markdown",
   "metadata": {},
   "source": [
    "**Possible idea**: freeze all parameters of the template except for the bias of the last conv layer!"
   ]
  },
  {
   "cell_type": "code",
   "execution_count": null,
   "metadata": {},
   "outputs": [],
   "source": [
    "# for i in range(8):\n",
    "#     for param in template[i].parameters():\n",
    "#         param.requires_grad = False\n",
    "# for param in template[8].parameters():\n",
    "#     param.requires_grad = False\n",
    "#     break # break before the bias is frozen\n",
    "# template"
   ]
  },
  {
   "cell_type": "code",
   "execution_count": null,
   "metadata": {},
   "outputs": [
    {
     "data": {
      "text/plain": [
       "Sequential(\n",
       "  (0): Conv2d(1, 20, kernel_size=(3, 3), stride=(3, 3), padding=(1, 1))\n",
       "  (1): ReLU()\n",
       "  (2): Conv2d(20, 40, kernel_size=(2, 2), stride=(1, 1))\n",
       "  (3): ReLU()\n",
       "  (4): Conv2d(40, 40, kernel_size=(2, 2), stride=(1, 1))\n",
       "  (5): ReLU()\n",
       "  (6): Conv2d(40, 40, kernel_size=(2, 2), stride=(1, 1))\n",
       "  (7): ReLU()\n",
       "  (8): Conv2d(40, 40, kernel_size=(2, 2), stride=(1, 1))\n",
       "  (9): ReLU()\n",
       "  (10): AdaptiveAvgPool2d(output_size=1)\n",
       "  (11): Flatten(start_dim=1, end_dim=-1)\n",
       "  (12): Linear(in_features=40, out_features=20, bias=True)\n",
       "  (13): ReLU()\n",
       "  (14): Linear(in_features=20, out_features=10, bias=True)\n",
       "  (15): ReLU()\n",
       "  (16): Linear(in_features=10, out_features=1, bias=True)\n",
       ")"
      ]
     },
     "execution_count": null,
     "metadata": {},
     "output_type": "execute_result"
    }
   ],
   "source": [
    "modules = [template[i] for i in range(9)]\n",
    "modules.extend([torch.nn.ReLU(),\n",
    "                torch.nn.AdaptiveAvgPool2d(1),\n",
    "                torch.nn.Flatten(),\n",
    "                torch.nn.Linear(40, 20),\n",
    "                torch.nn.ReLU(),\n",
    "                torch.nn.Linear(20, 10),\n",
    "                torch.nn.ReLU(),\n",
    "                torch.nn.Linear(10, 1)])\n",
    "net = torch.nn.Sequential(*modules)\n",
    "net"
   ]
  },
  {
   "cell_type": "code",
   "execution_count": null,
   "metadata": {},
   "outputs": [],
   "source": [
    "# modules = [template[i] for i in range(8)]\n",
    "# modules.extend([torch.nn.Conv2d(40, 40, stride = 1, kernel_size = 2, padding = 0),\n",
    "#                 torch.nn.ReLU(),\n",
    "#                 torch.nn.AdaptiveAvgPool2d(1),\n",
    "#                 torch.nn.Flatten(),\n",
    "#                 torch.nn.Linear(40, 1)])\n",
    "# net = torch.nn.Sequential(*modules)\n",
    "# net"
   ]
  },
  {
   "cell_type": "code",
   "execution_count": null,
   "metadata": {},
   "outputs": [],
   "source": [
    "# modules = [template[i] for i in range(8)]\n",
    "# modules.extend([torch.nn.Conv2d(40, 20, stride = 1, kernel_size = 2, padding = 0),\n",
    "#                 torch.nn.ReLU(),\n",
    "#                 torch.nn.AdaptiveAvgPool2d(1),\n",
    "#                 torch.nn.Flatten(),\n",
    "#                 torch.nn.Linear(20, 10),\n",
    "#                 torch.nn.ReLU(),\n",
    "#                 torch.nn.Linear(10, 1)])\n",
    "# net = torch.nn.Sequential(*modules)\n",
    "# net"
   ]
  },
  {
   "cell_type": "markdown",
   "metadata": {},
   "source": [
    "Number of parameters in the model:"
   ]
  },
  {
   "cell_type": "code",
   "execution_count": null,
   "metadata": {},
   "outputs": [
    {
     "data": {
      "text/plain": [
       "23801"
      ]
     },
     "execution_count": null,
     "metadata": {},
     "output_type": "execute_result"
    }
   ],
   "source": [
    "sum(p.numel() for p in net.parameters())"
   ]
  },
  {
   "cell_type": "code",
   "execution_count": null,
   "metadata": {},
   "outputs": [
    {
     "data": {
      "text/plain": [
       "torch.Size([200, 1])"
      ]
     },
     "execution_count": null,
     "metadata": {},
     "output_type": "execute_result"
    }
   ],
   "source": [
    "y_pred = net(x)\n",
    "y_pred.shape"
   ]
  },
  {
   "cell_type": "code",
   "execution_count": null,
   "metadata": {},
   "outputs": [
    {
     "data": {
      "text/plain": [
       "(tensor(0.), tensor(0.0900), tensor(0.1500))"
      ]
     },
     "execution_count": null,
     "metadata": {},
     "output_type": "execute_result"
    }
   ],
   "source": [
    "accuracy(y_pred, y), plusminusone(y_pred, y), plusminustwo(y_pred, y)"
   ]
  },
  {
   "cell_type": "markdown",
   "metadata": {},
   "source": [
    "## Training"
   ]
  },
  {
   "cell_type": "code",
   "execution_count": null,
   "metadata": {},
   "outputs": [],
   "source": [
    "running_loss_data = []\n",
    "accuracy_data = []"
   ]
  },
  {
   "cell_type": "markdown",
   "metadata": {},
   "source": [
    "**WARNING**: I'm trying a learning rate of 0.02, twice the value used in the previous case"
   ]
  },
  {
   "cell_type": "code",
   "execution_count": null,
   "metadata": {},
   "outputs": [
    {
     "data": {
      "application/vnd.jupyter.widget-view+json": {
       "model_id": "845c94b45c6f49008926bb2e8e7cb921",
       "version_major": 2,
       "version_minor": 0
      },
      "text/plain": [
       "HBox(children=(HTML(value=''), FloatProgress(value=0.0, max=300.0), HTML(value='')))"
      ]
     },
     "metadata": {},
     "output_type": "display_data"
    },
    {
     "name": "stderr",
     "output_type": "stream",
     "text": [
      "/home/marc/anaconda3/lib/python3.8/site-packages/torch/autograd/__init__.py:130: UserWarning: CUDA initialization: Found no NVIDIA driver on your system. Please check that you have an NVIDIA GPU and installed a driver from http://www.nvidia.com/Download/index.aspx (Triggered internally at  /pytorch/c10/cuda/CUDAFunctions.cpp:100.)\n",
      "  Variable._execution_engine.run_backward(\n"
     ]
    },
    {
     "name": "stdout",
     "output_type": "stream",
     "text": [
      "[0]  loss: 0.07864  accuracy: 0.06  0.19  0.32  \n",
      "[1]  loss: 0.05146  accuracy: 0.07  0.21  0.35  \n",
      "[2]  loss: 0.05154  accuracy: 0.07  0.21  0.35  \n",
      "[3]  loss: 0.05144  accuracy: 0.07  0.21  0.35  \n",
      "[4]  loss: 0.05128  accuracy: 0.07  0.21  0.35  \n",
      "[5]  loss: 0.05068  accuracy: 0.07  0.21  0.35  \n",
      "[6]  loss: 0.05080  accuracy: 0.07  0.21  0.35  \n",
      "[7]  loss: 0.05083  accuracy: 0.07  0.21  0.35  \n",
      "[8]  loss: 0.05069  accuracy: 0.07  0.21  0.35  \n",
      "[9]  loss: 0.05041  accuracy: 0.07  0.21  0.35  \n",
      "[10]  loss: 0.05047  accuracy: 0.07  0.21  0.34  \n",
      "[11]  loss: 0.05041  accuracy: 0.07  0.21  0.34  \n",
      "[12]  loss: 0.05021  accuracy: 0.07  0.21  0.35  \n",
      "[13]  loss: 0.04952  accuracy: 0.07  0.21  0.35  \n",
      "[14]  loss: 0.04947  accuracy: 0.07  0.20  0.34  \n",
      "[15]  loss: 0.04877  accuracy: 0.07  0.20  0.35  \n",
      "[16]  loss: 0.04771  accuracy: 0.07  0.20  0.35  \n",
      "[17]  loss: 0.04461  accuracy: 0.07  0.21  0.37  \n",
      "[18]  loss: 0.03611  accuracy: 0.08  0.25  0.42  \n",
      "[19]  loss: 0.02591  accuracy: 0.12  0.33  0.53  \n",
      "[20]  loss: 0.01946  accuracy: 0.14  0.39  0.59  \n",
      "[21]  loss: 0.01712  accuracy: 0.14  0.42  0.63  \n",
      "[22]  loss: 0.01577  accuracy: 0.16  0.43  0.64  \n",
      "[23]  loss: 0.01528  accuracy: 0.16  0.45  0.65  \n",
      "[24]  loss: 0.01478  accuracy: 0.16  0.45  0.66  \n",
      "[25]  loss: 0.01427  accuracy: 0.17  0.46  0.66  \n",
      "[26]  loss: 0.01398  accuracy: 0.16  0.46  0.66  \n",
      "[27]  loss: 0.01403  accuracy: 0.16  0.46  0.67  \n",
      "[28]  loss: 0.01328  accuracy: 0.18  0.47  0.68  \n",
      "[29]  loss: 0.01284  accuracy: 0.17  0.47  0.69  \n",
      "[30]  loss: 0.01261  accuracy: 0.17  0.49  0.70  \n",
      "[31]  loss: 0.01250  accuracy: 0.17  0.49  0.70  \n",
      "[32]  loss: 0.01218  accuracy: 0.18  0.50  0.71  \n",
      "[33]  loss: 0.01204  accuracy: 0.18  0.50  0.72  \n",
      "[34]  loss: 0.01180  accuracy: 0.19  0.51  0.72  \n",
      "[35]  loss: 0.01129  accuracy: 0.19  0.52  0.73  \n",
      "[36]  loss: 0.01101  accuracy: 0.19  0.52  0.73  \n",
      "[37]  loss: 0.01066  accuracy: 0.19  0.53  0.74  \n",
      "[38]  loss: 0.01072  accuracy: 0.19  0.52  0.73  \n",
      "[39]  loss: 0.01031  accuracy: 0.19  0.53  0.74  \n",
      "[40]  loss: 0.01006  accuracy: 0.19  0.54  0.75  \n",
      "[41]  loss: 0.00988  accuracy: 0.20  0.55  0.75  \n",
      "[42]  loss: 0.00972  accuracy: 0.20  0.55  0.75  \n",
      "[43]  loss: 0.00921  accuracy: 0.21  0.56  0.77  \n",
      "[44]  loss: 0.00921  accuracy: 0.20  0.56  0.76  \n",
      "[45]  loss: 0.00854  accuracy: 0.21  0.58  0.78  \n",
      "[46]  loss: 0.00813  accuracy: 0.22  0.59  0.78  \n",
      "[47]  loss: 0.00787  accuracy: 0.22  0.60  0.79  \n",
      "[48]  loss: 0.00777  accuracy: 0.23  0.59  0.79  \n",
      "[49]  loss: 0.00743  accuracy: 0.23  0.60  0.79  \n",
      "[50]  loss: 0.00721  accuracy: 0.24  0.61  0.79  \n",
      "[51]  loss: 0.00702  accuracy: 0.24  0.62  0.80  \n",
      "[52]  loss: 0.00683  accuracy: 0.25  0.62  0.81  \n",
      "[53]  loss: 0.00691  accuracy: 0.24  0.62  0.81  \n",
      "[54]  loss: 0.00667  accuracy: 0.25  0.62  0.81  \n",
      "[55]  loss: 0.00655  accuracy: 0.25  0.63  0.81  \n",
      "[56]  loss: 0.00667  accuracy: 0.25  0.62  0.81  \n",
      "[57]  loss: 0.00645  accuracy: 0.25  0.62  0.81  \n",
      "[58]  loss: 0.00669  accuracy: 0.25  0.62  0.81  \n",
      "[59]  loss: 0.00629  accuracy: 0.25  0.62  0.81  \n",
      "[60]  loss: 0.00634  accuracy: 0.25  0.62  0.81  \n",
      "[61]  loss: 0.00612  accuracy: 0.25  0.63  0.82  \n",
      "[62]  loss: 0.00626  accuracy: 0.25  0.63  0.82  \n",
      "[63]  loss: 0.00571  accuracy: 0.26  0.64  0.83  \n",
      "[64]  loss: 0.00621  accuracy: 0.26  0.63  0.81  \n",
      "[65]  loss: 0.00578  accuracy: 0.26  0.64  0.83  \n",
      "[66]  loss: 0.00573  accuracy: 0.26  0.64  0.82  \n",
      "[67]  loss: 0.00557  accuracy: 0.27  0.65  0.83  \n",
      "[68]  loss: 0.00569  accuracy: 0.26  0.65  0.82  \n",
      "[69]  loss: 0.00540  accuracy: 0.27  0.65  0.83  \n",
      "[70]  loss: 0.00553  accuracy: 0.27  0.65  0.83  \n",
      "[71]  loss: 0.00532  accuracy: 0.28  0.66  0.83  \n",
      "[72]  loss: 0.00528  accuracy: 0.28  0.66  0.84  \n",
      "[73]  loss: 0.00519  accuracy: 0.28  0.66  0.84  \n",
      "[74]  loss: 0.00516  accuracy: 0.28  0.66  0.83  \n",
      "[75]  loss: 0.00503  accuracy: 0.28  0.67  0.84  \n",
      "[76]  loss: 0.00516  accuracy: 0.28  0.67  0.83  \n",
      "[77]  loss: 0.00550  accuracy: 0.28  0.66  0.83  \n",
      "[78]  loss: 0.00557  accuracy: 0.27  0.65  0.82  \n",
      "[79]  loss: 0.00581  accuracy: 0.27  0.65  0.82  \n",
      "[80]  loss: 0.00545  accuracy: 0.28  0.66  0.83  \n",
      "[81]  loss: 0.00587  accuracy: 0.27  0.65  0.82  \n",
      "[82]  loss: 0.00561  accuracy: 0.28  0.66  0.82  \n",
      "[83]  loss: 0.00530  accuracy: 0.29  0.66  0.84  \n",
      "[84]  loss: 0.00521  accuracy: 0.29  0.67  0.84  \n",
      "[85]  loss: 0.00491  accuracy: 0.30  0.68  0.84  \n",
      "[86]  loss: 0.00506  accuracy: 0.29  0.67  0.84  \n",
      "[87]  loss: 0.00505  accuracy: 0.29  0.67  0.84  \n",
      "[88]  loss: 0.00501  accuracy: 0.30  0.67  0.84  \n",
      "[89]  loss: 0.00549  accuracy: 0.28  0.66  0.83  \n",
      "[90]  loss: 0.00496  accuracy: 0.30  0.68  0.84  \n",
      "[91]  loss: 0.00513  accuracy: 0.29  0.67  0.84  \n",
      "[92]  loss: 0.00517  accuracy: 0.29  0.66  0.83  \n",
      "[93]  loss: 0.00480  accuracy: 0.30  0.68  0.84  \n",
      "[94]  loss: 0.00444  accuracy: 0.32  0.69  0.85  \n",
      "[95]  loss: 0.00458  accuracy: 0.31  0.69  0.85  \n",
      "[96]  loss: 0.00435  accuracy: 0.32  0.69  0.85  \n",
      "[97]  loss: 0.00439  accuracy: 0.32  0.69  0.85  \n",
      "[98]  loss: 0.00440  accuracy: 0.31  0.69  0.85  \n",
      "[99]  loss: 0.00435  accuracy: 0.31  0.69  0.85  \n",
      "[100]  loss: 0.00425  accuracy: 0.31  0.70  0.85  \n",
      "[101]  loss: 0.00424  accuracy: 0.32  0.69  0.85  \n",
      "[102]  loss: 0.00418  accuracy: 0.32  0.70  0.85  \n",
      "[103]  loss: 0.00417  accuracy: 0.32  0.69  0.85  \n",
      "[104]  loss: 0.00415  accuracy: 0.31  0.69  0.85  \n",
      "[105]  loss: 0.00416  accuracy: 0.32  0.69  0.85  \n",
      "[106]  loss: 0.00412  accuracy: 0.32  0.69  0.86  \n",
      "[107]  loss: 0.00397  accuracy: 0.33  0.70  0.86  \n",
      "[108]  loss: 0.00408  accuracy: 0.32  0.70  0.86  \n",
      "[109]  loss: 0.00418  accuracy: 0.32  0.69  0.85  \n",
      "[110]  loss: 0.00396  accuracy: 0.33  0.70  0.86  \n",
      "[111]  loss: 0.00402  accuracy: 0.32  0.70  0.86  \n",
      "[112]  loss: 0.00389  accuracy: 0.33  0.70  0.86  \n",
      "[113]  loss: 0.00373  accuracy: 0.34  0.71  0.86  \n",
      "[114]  loss: 0.00383  accuracy: 0.34  0.71  0.86  \n",
      "[115]  loss: 0.00376  accuracy: 0.34  0.71  0.86  \n",
      "[116]  loss: 0.00378  accuracy: 0.34  0.71  0.86  \n",
      "[117]  loss: 0.00381  accuracy: 0.34  0.71  0.86  \n",
      "[118]  loss: 0.00373  accuracy: 0.34  0.72  0.86  \n",
      "[119]  loss: 0.00422  accuracy: 0.32  0.69  0.85  \n",
      "[120]  loss: 0.00409  accuracy: 0.32  0.70  0.85  \n",
      "[121]  loss: 0.00383  accuracy: 0.33  0.71  0.86  \n",
      "[122]  loss: 0.00369  accuracy: 0.34  0.71  0.86  \n",
      "[123]  loss: 0.00369  accuracy: 0.33  0.71  0.86  \n",
      "[124]  loss: 0.00381  accuracy: 0.32  0.70  0.86  \n",
      "[125]  loss: 0.00376  accuracy: 0.33  0.70  0.85  \n",
      "[126]  loss: 0.00384  accuracy: 0.32  0.70  0.85  \n",
      "[127]  loss: 0.00389  accuracy: 0.32  0.69  0.85  \n",
      "[128]  loss: 0.00402  accuracy: 0.31  0.69  0.84  \n",
      "[129]  loss: 0.00399  accuracy: 0.32  0.69  0.84  \n",
      "[130]  loss: 0.00393  accuracy: 0.32  0.69  0.84  \n",
      "[131]  loss: 0.00398  accuracy: 0.32  0.68  0.84  \n",
      "[132]  loss: 0.00364  accuracy: 0.33  0.70  0.85  \n",
      "[133]  loss: 0.00365  accuracy: 0.33  0.70  0.85  \n",
      "[134]  loss: 0.00355  accuracy: 0.33  0.70  0.85  \n",
      "[135]  loss: 0.00338  accuracy: 0.35  0.71  0.86  \n",
      "[136]  loss: 0.00344  accuracy: 0.34  0.71  0.86  \n",
      "[137]  loss: 0.00355  accuracy: 0.33  0.70  0.85  \n",
      "[138]  loss: 0.00365  accuracy: 0.34  0.70  0.85  \n",
      "[139]  loss: 0.00375  accuracy: 0.33  0.69  0.85  \n",
      "[140]  loss: 0.00339  accuracy: 0.35  0.72  0.86  \n",
      "[141]  loss: 0.00337  accuracy: 0.35  0.72  0.87  \n",
      "[142]  loss: 0.00328  accuracy: 0.36  0.72  0.87  \n",
      "[143]  loss: 0.00323  accuracy: 0.36  0.73  0.87  \n",
      "[144]  loss: 0.00325  accuracy: 0.36  0.72  0.87  \n",
      "[145]  loss: 0.00332  accuracy: 0.35  0.72  0.87  \n",
      "[146]  loss: 0.00323  accuracy: 0.36  0.73  0.87  \n",
      "[147]  loss: 0.00317  accuracy: 0.37  0.73  0.87  \n",
      "[148]  loss: 0.00319  accuracy: 0.37  0.73  0.87  \n",
      "[149]  loss: 0.00324  accuracy: 0.36  0.73  0.87  \n",
      "[150]  loss: 0.00314  accuracy: 0.38  0.74  0.87  \n",
      "[151]  loss: 0.00319  accuracy: 0.37  0.73  0.87  \n",
      "[152]  loss: 0.00330  accuracy: 0.36  0.72  0.87  \n",
      "[153]  loss: 0.00330  accuracy: 0.36  0.72  0.87  \n",
      "[154]  loss: 0.00328  accuracy: 0.36  0.72  0.86  \n",
      "[155]  loss: 0.00308  accuracy: 0.38  0.73  0.87  \n",
      "[156]  loss: 0.00300  accuracy: 0.39  0.74  0.87  \n",
      "[157]  loss: 0.00304  accuracy: 0.38  0.73  0.87  \n",
      "[158]  loss: 0.00298  accuracy: 0.38  0.74  0.87  \n",
      "[159]  loss: 0.00300  accuracy: 0.38  0.74  0.87  \n",
      "[160]  loss: 0.00291  accuracy: 0.38  0.74  0.87  \n",
      "[161]  loss: 0.00295  accuracy: 0.38  0.74  0.87  \n",
      "[162]  loss: 0.00290  accuracy: 0.38  0.74  0.87  \n"
     ]
    },
    {
     "name": "stdout",
     "output_type": "stream",
     "text": [
      "[163]  loss: 0.00284  accuracy: 0.39  0.74  0.87  \n",
      "[164]  loss: 0.00287  accuracy: 0.38  0.74  0.88  \n",
      "[165]  loss: 0.00290  accuracy: 0.39  0.74  0.87  \n",
      "[166]  loss: 0.00278  accuracy: 0.39  0.74  0.88  \n",
      "[167]  loss: 0.00273  accuracy: 0.39  0.74  0.87  \n",
      "[168]  loss: 0.00272  accuracy: 0.39  0.74  0.88  \n",
      "[169]  loss: 0.00259  accuracy: 0.40  0.75  0.88  \n",
      "[170]  loss: 0.00260  accuracy: 0.40  0.75  0.88  \n",
      "[171]  loss: 0.00260  accuracy: 0.40  0.75  0.88  \n",
      "[172]  loss: 0.00257  accuracy: 0.40  0.75  0.88  \n",
      "[173]  loss: 0.00264  accuracy: 0.40  0.75  0.88  \n",
      "[174]  loss: 0.00250  accuracy: 0.41  0.75  0.88  \n",
      "[175]  loss: 0.00258  accuracy: 0.40  0.75  0.88  \n",
      "[176]  loss: 0.00256  accuracy: 0.41  0.75  0.88  \n",
      "[177]  loss: 0.00250  accuracy: 0.41  0.75  0.89  \n",
      "[178]  loss: 0.00247  accuracy: 0.41  0.76  0.89  \n",
      "[179]  loss: 0.00253  accuracy: 0.41  0.76  0.88  \n",
      "[180]  loss: 0.00251  accuracy: 0.42  0.76  0.88  \n",
      "[181]  loss: 0.00253  accuracy: 0.41  0.75  0.88  \n",
      "[182]  loss: 0.00256  accuracy: 0.41  0.76  0.89  \n",
      "[183]  loss: 0.00257  accuracy: 0.42  0.76  0.89  \n",
      "[184]  loss: 0.00263  accuracy: 0.41  0.76  0.88  \n",
      "[185]  loss: 0.00253  accuracy: 0.42  0.76  0.89  \n",
      "[186]  loss: 0.00253  accuracy: 0.42  0.77  0.89  \n",
      "[187]  loss: 0.00254  accuracy: 0.41  0.76  0.89  \n",
      "[188]  loss: 0.00249  accuracy: 0.41  0.76  0.89  \n",
      "[189]  loss: 0.00251  accuracy: 0.41  0.76  0.89  \n",
      "[190]  loss: 0.00248  accuracy: 0.42  0.76  0.89  \n",
      "[191]  loss: 0.00247  accuracy: 0.42  0.76  0.89  \n",
      "[192]  loss: 0.00250  accuracy: 0.42  0.76  0.88  \n",
      "[193]  loss: 0.00252  accuracy: 0.42  0.76  0.88  \n",
      "[194]  loss: 0.00251  accuracy: 0.41  0.76  0.88  \n",
      "[195]  loss: 0.00253  accuracy: 0.41  0.75  0.88  \n",
      "\n"
     ]
    },
    {
     "ename": "KeyboardInterrupt",
     "evalue": "",
     "output_type": "error",
     "traceback": [
      "\u001b[0;31m---------------------------------------------------------------------------\u001b[0m",
      "\u001b[0;31mKeyboardInterrupt\u001b[0m                         Traceback (most recent call last)",
      "\u001b[0;32m<ipython-input-25-2adc9b4ee827>\u001b[0m in \u001b[0;36m<module>\u001b[0;34m\u001b[0m\n\u001b[0;32m----> 1\u001b[0;31m data.train_model(net, n_epochs = 300, lr=0.02,\n\u001b[0m\u001b[1;32m      2\u001b[0m                  \u001b[0maccuracy_func\u001b[0m \u001b[0;34m=\u001b[0m \u001b[0;34m[\u001b[0m\u001b[0maccuracy\u001b[0m\u001b[0;34m,\u001b[0m \u001b[0mplusminusone\u001b[0m\u001b[0;34m,\u001b[0m \u001b[0mplusminustwo\u001b[0m\u001b[0;34m]\u001b[0m\u001b[0;34m,\u001b[0m\u001b[0;34m\u001b[0m\u001b[0;34m\u001b[0m\u001b[0m\n\u001b[1;32m      3\u001b[0m                  \u001b[0mloss_monitoring\u001b[0m \u001b[0;34m=\u001b[0m \u001b[0mrunning_loss_data\u001b[0m\u001b[0;34m,\u001b[0m\u001b[0;34m\u001b[0m\u001b[0;34m\u001b[0m\u001b[0m\n\u001b[1;32m      4\u001b[0m                  accuracy_monitoring = accuracy_data)\n",
      "\u001b[0;32m~/Git/MorpionSolitaire/DeepLearningMS.py\u001b[0m in \u001b[0;36mtrain_model\u001b[0;34m(self, net, n_epochs, lr, momentum, loss_func, accuracy_func, loss_monitoring, accuracy_monitoring)\u001b[0m\n\u001b[1;32m    147\u001b[0m                 \u001b[0moutputs\u001b[0m \u001b[0;34m=\u001b[0m \u001b[0mnet\u001b[0m\u001b[0;34m(\u001b[0m\u001b[0minputs\u001b[0m\u001b[0;34m)\u001b[0m\u001b[0;34m\u001b[0m\u001b[0;34m\u001b[0m\u001b[0m\n\u001b[1;32m    148\u001b[0m                 \u001b[0mloss\u001b[0m \u001b[0;34m=\u001b[0m \u001b[0mloss_func\u001b[0m\u001b[0;34m(\u001b[0m\u001b[0moutputs\u001b[0m\u001b[0;34m,\u001b[0m \u001b[0mlabels\u001b[0m\u001b[0;34m)\u001b[0m\u001b[0;34m\u001b[0m\u001b[0;34m\u001b[0m\u001b[0m\n\u001b[0;32m--> 149\u001b[0;31m                 \u001b[0mloss\u001b[0m\u001b[0;34m.\u001b[0m\u001b[0mbackward\u001b[0m\u001b[0;34m(\u001b[0m\u001b[0;34m)\u001b[0m\u001b[0;34m\u001b[0m\u001b[0;34m\u001b[0m\u001b[0m\n\u001b[0m\u001b[1;32m    150\u001b[0m                 \u001b[0moptimizer\u001b[0m\u001b[0;34m.\u001b[0m\u001b[0mstep\u001b[0m\u001b[0;34m(\u001b[0m\u001b[0;34m)\u001b[0m\u001b[0;34m\u001b[0m\u001b[0;34m\u001b[0m\u001b[0m\n\u001b[1;32m    151\u001b[0m                 \u001b[0mself\u001b[0m\u001b[0;34m.\u001b[0m\u001b[0miterate\u001b[0m\u001b[0;34m(\u001b[0m\u001b[0;34m)\u001b[0m\u001b[0;34m\u001b[0m\u001b[0;34m\u001b[0m\u001b[0m\n",
      "\u001b[0;32m~/anaconda3/lib/python3.8/site-packages/torch/tensor.py\u001b[0m in \u001b[0;36mbackward\u001b[0;34m(self, gradient, retain_graph, create_graph)\u001b[0m\n\u001b[1;32m    219\u001b[0m                 \u001b[0mretain_graph\u001b[0m\u001b[0;34m=\u001b[0m\u001b[0mretain_graph\u001b[0m\u001b[0;34m,\u001b[0m\u001b[0;34m\u001b[0m\u001b[0;34m\u001b[0m\u001b[0m\n\u001b[1;32m    220\u001b[0m                 create_graph=create_graph)\n\u001b[0;32m--> 221\u001b[0;31m         \u001b[0mtorch\u001b[0m\u001b[0;34m.\u001b[0m\u001b[0mautograd\u001b[0m\u001b[0;34m.\u001b[0m\u001b[0mbackward\u001b[0m\u001b[0;34m(\u001b[0m\u001b[0mself\u001b[0m\u001b[0;34m,\u001b[0m \u001b[0mgradient\u001b[0m\u001b[0;34m,\u001b[0m \u001b[0mretain_graph\u001b[0m\u001b[0;34m,\u001b[0m \u001b[0mcreate_graph\u001b[0m\u001b[0;34m)\u001b[0m\u001b[0;34m\u001b[0m\u001b[0;34m\u001b[0m\u001b[0m\n\u001b[0m\u001b[1;32m    222\u001b[0m \u001b[0;34m\u001b[0m\u001b[0m\n\u001b[1;32m    223\u001b[0m     \u001b[0;32mdef\u001b[0m \u001b[0mregister_hook\u001b[0m\u001b[0;34m(\u001b[0m\u001b[0mself\u001b[0m\u001b[0;34m,\u001b[0m \u001b[0mhook\u001b[0m\u001b[0;34m)\u001b[0m\u001b[0;34m:\u001b[0m\u001b[0;34m\u001b[0m\u001b[0;34m\u001b[0m\u001b[0m\n",
      "\u001b[0;32m~/anaconda3/lib/python3.8/site-packages/torch/autograd/__init__.py\u001b[0m in \u001b[0;36mbackward\u001b[0;34m(tensors, grad_tensors, retain_graph, create_graph, grad_variables)\u001b[0m\n\u001b[1;32m    128\u001b[0m         \u001b[0mretain_graph\u001b[0m \u001b[0;34m=\u001b[0m \u001b[0mcreate_graph\u001b[0m\u001b[0;34m\u001b[0m\u001b[0;34m\u001b[0m\u001b[0m\n\u001b[1;32m    129\u001b[0m \u001b[0;34m\u001b[0m\u001b[0m\n\u001b[0;32m--> 130\u001b[0;31m     Variable._execution_engine.run_backward(\n\u001b[0m\u001b[1;32m    131\u001b[0m         \u001b[0mtensors\u001b[0m\u001b[0;34m,\u001b[0m \u001b[0mgrad_tensors_\u001b[0m\u001b[0;34m,\u001b[0m \u001b[0mretain_graph\u001b[0m\u001b[0;34m,\u001b[0m \u001b[0mcreate_graph\u001b[0m\u001b[0;34m,\u001b[0m\u001b[0;34m\u001b[0m\u001b[0;34m\u001b[0m\u001b[0m\n\u001b[1;32m    132\u001b[0m         allow_unreachable=True)  # allow_unreachable flag\n",
      "\u001b[0;31mKeyboardInterrupt\u001b[0m: "
     ]
    }
   ],
   "source": [
    "data.train_model(net, n_epochs = 300, lr=0.02,\n",
    "                 accuracy_func = [accuracy, plusminusone, plusminustwo],\n",
    "                 loss_monitoring = running_loss_data,\n",
    "                 accuracy_monitoring = accuracy_data)"
   ]
  },
  {
   "cell_type": "code",
   "execution_count": null,
   "metadata": {},
   "outputs": [],
   "source": [
    "# torch.save(net, 'models/Descartes_1.pt')"
   ]
  },
  {
   "cell_type": "code",
   "execution_count": null,
   "metadata": {},
   "outputs": [
    {
     "name": "stdout",
     "output_type": "stream",
     "text": [
      "Number of mini-batches stored: 100\n",
      "Number of mini-batches created: 1224\n"
     ]
    }
   ],
   "source": [
    "data.info()"
   ]
  },
  {
   "cell_type": "code",
   "execution_count": null,
   "metadata": {},
   "outputs": [
    {
     "data": {
      "image/png": "[encoded data removed]",
      "text/plain": [
       "<Figure size 432x288 with 1 Axes>"
      ]
     },
     "metadata": {
      "needs_background": "light"
     },
     "output_type": "display_data"
    }
   ],
   "source": [
    "plt.plot(running_loss_data, color='red')\n",
    "plt.xlabel('Epochs')\n",
    "plt.xlim(0, 199)\n",
    "plt.ylabel('Loss function (MSE)')\n",
    "plt.yscale('log')\n",
    "# plt.savefig('xxx.png', bbox_inches='tight')\n",
    "plt.show()"
   ]
  },
  {
   "cell_type": "code",
   "execution_count": null,
   "metadata": {},
   "outputs": [
    {
     "data": {
      "image/png": "[encoded data removed]",
      "text/plain": [
       "<Figure size 432x288 with 1 Axes>"
      ]
     },
     "metadata": {
      "needs_background": "light"
     },
     "output_type": "display_data"
    }
   ],
   "source": [
    "plt.plot(accuracy_data, color='blue')\n",
    "plt.xlabel('Epochs')\n",
    "plt.ylabel('Accuracy')\n",
    "plt.xlim(0, 199)\n",
    "plt.ylim(0, 1)\n",
    "# plt.savefig('xxx.png', bbox_inches='tight')\n",
    "plt.show()"
   ]
  },
  {
   "cell_type": "markdown",
   "metadata": {},
   "source": [
    "## Loading the model\n",
    "\n",
    "Once the model has been trained, this can be used to load its state dictionary:"
   ]
  },
  {
   "cell_type": "code",
   "execution_count": null,
   "metadata": {},
   "outputs": [],
   "source": [
    "# net2 = torch.load('models/Descartes_1.pt')\n",
    "# net2.eval()"
   ]
  },
  {
   "cell_type": "markdown",
   "metadata": {},
   "source": [
    "## Validation"
   ]
  },
  {
   "cell_type": "code",
   "execution_count": null,
   "metadata": {},
   "outputs": [],
   "source": [
    "x, y = generate_batch(1000)"
   ]
  },
  {
   "cell_type": "code",
   "execution_count": null,
   "metadata": {},
   "outputs": [],
   "source": [
    "y_preds = net(x).data"
   ]
  },
  {
   "cell_type": "code",
   "execution_count": null,
   "metadata": {},
   "outputs": [],
   "source": [
    "accuracy(y_preds, y)"
   ]
  },
  {
   "cell_type": "code",
   "execution_count": null,
   "metadata": {},
   "outputs": [],
   "source": [
    "plusminusone(y_preds, y)"
   ]
  },
  {
   "cell_type": "code",
   "execution_count": null,
   "metadata": {},
   "outputs": [],
   "source": [
    "plusminustwo(y_preds, y)"
   ]
  },
  {
   "cell_type": "code",
   "execution_count": null,
   "metadata": {},
   "outputs": [],
   "source": [
    "y.mean(), y.std(), y_preds.mean(), y_preds.std()"
   ]
  },
  {
   "cell_type": "code",
   "execution_count": null,
   "metadata": {},
   "outputs": [],
   "source": [
    "# mistakes = []\n",
    "# for i in range(y.shape[0]):\n",
    "#     if (y_preds[i] > 0.5) != y[i]:\n",
    "#         mistakes.append([i, y[i].item(), y_preds[i].item()])\n",
    "# mistakes"
   ]
  },
  {
   "cell_type": "code",
   "execution_count": null,
   "metadata": {},
   "outputs": [],
   "source": [
    "# MSvisualize(x[mistakes[0][0]])"
   ]
  },
  {
   "cell_type": "code",
   "execution_count": null,
   "metadata": {},
   "outputs": [],
   "source": []
  }
 ],
 "metadata": {
  "kernelspec": {
   "display_name": "Python 3",
   "language": "python",
   "name": "python3"
  }
 },
 "nbformat": 4,
 "nbformat_minor": 4
}
