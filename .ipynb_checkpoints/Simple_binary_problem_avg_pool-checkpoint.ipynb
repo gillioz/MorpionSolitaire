{
 "cells": [
  {
   "cell_type": "markdown",
   "metadata": {},
   "source": [
    "# A simple binary problem: is there a legal move or not? - Average pooling\n",
    "\n",
    "This is a simplified version in which the model only answers the question whether there is at least one legal move or not."
   ]
  },
  {
   "cell_type": "code",
   "execution_count": null,
   "metadata": {},
   "outputs": [],
   "source": [
    "from MorpionSolitaire import *\n",
    "from DeepLearningMS import *"
   ]
  },
  {
   "cell_type": "code",
   "execution_count": null,
   "metadata": {},
   "outputs": [],
   "source": [
    "from multiprocess import Pool\n",
    "pool = Pool()"
   ]
  },
  {
   "cell_type": "markdown",
   "metadata": {},
   "source": [
    "## Data generation"
   ]
  },
  {
   "cell_type": "markdown",
   "metadata": {},
   "source": [
    "This function plays one game at random until there are no more moves, stores the grid as `grid1`, then rewinds the game to an interemediate stage, and stores the resulting grid as `grid2`. The output of the function is a tensor containing the two grids. By construction the first grid has no legal moves and the second one has at least one legal move.\n",
    "\n",
    "1/3 of the time the game is taken back to an arbitrary intermediate step.\n",
    "The other 2/3 of the time we rewind the game by only one step, so that the network gets used to identify a single allowed move. If we did not do that the training process would result in a relatively high accuracy by only identifying some types of allowed moves instead of all of them."
   ]
  },
  {
   "cell_type": "code",
   "execution_count": null,
   "metadata": {},
   "outputs": [],
   "source": [
    "def play_one_game(host = 0): # dummy argument needed for passing to pool.map\n",
    "    game = NewGame('cross').play()\n",
    "    grid1 = game.grid.image()\n",
    "    if np.random.randint(3) == 0:\n",
    "        game = game.unplay(np.random.randint(game.score - 1) + 2)\n",
    "    else:\n",
    "        game = game.unplay(1)\n",
    "    grid2 = game.grid.image()\n",
    "    return np.stack((grid1, grid2))"
   ]
  },
  {
   "cell_type": "markdown",
   "metadata": {},
   "source": [
    "Mini-batches contains a certain number of grids obtained in the way described above (computed in parallel to gain time), as well as a labels (0 for no legal moves, 1 for at least one legal move)."
   ]
  },
  {
   "cell_type": "code",
   "execution_count": null,
   "metadata": {},
   "outputs": [],
   "source": [
    "def generate_batch(batch_size = 100):\n",
    "    x = torch.tensor(np.concatenate(pool.map(play_one_game, range(batch_size // 2)))).float().unsqueeze(1)\n",
    "    y = torch.tensor([0.,1.]).repeat(batch_size // 2).unsqueeze(1)\n",
    "    return x, y"
   ]
  },
  {
   "cell_type": "markdown",
   "metadata": {},
   "source": [
    "20,000 grids and labels computed in this way are saved once and for all:"
   ]
  },
  {
   "cell_type": "code",
   "execution_count": null,
   "metadata": {},
   "outputs": [],
   "source": [
    "# grids = np.concatenate(pool.map(play_one_game, range(10000)))\n",
    "# np.save('data/simple_problem_grids.npy', grids)\n",
    "# grids.shape"
   ]
  },
  {
   "cell_type": "code",
   "execution_count": null,
   "metadata": {},
   "outputs": [],
   "source": [
    "# labels = np.zeros(20000, dtype=bool)\n",
    "# labels[1::2] = True\n",
    "# np.save('data/simple_problem_labels.npy', labels)\n",
    "# labels.shape"
   ]
  },
  {
   "cell_type": "markdown",
   "metadata": {},
   "source": [
    "## Data frame"
   ]
  },
  {
   "cell_type": "code",
   "execution_count": null,
   "metadata": {},
   "outputs": [
    {
     "name": "stdout",
     "output_type": "stream",
     "text": [
      "Number of mini-batches stored: 100\n",
      "Number of mini-batches created: 0\n"
     ]
    }
   ],
   "source": [
    "data = MSDataFrame(batch_size = 200, length = 100,\n",
    "                   batch_fct = generate_batch, repeat = 16,\n",
    "                   data = 'data/simple_problem_grids.npy',\n",
    "                   labels = 'data/simple_problem_labels.npy')\n",
    "data.info()"
   ]
  },
  {
   "cell_type": "code",
   "execution_count": null,
   "metadata": {},
   "outputs": [],
   "source": [
    "x, y = data.data[0]"
   ]
  },
  {
   "cell_type": "code",
   "execution_count": null,
   "metadata": {},
   "outputs": [
    {
     "data": {
      "image/png": "[encoded data removed]",
      "text/plain": [
       "<PIL.Image.Image image mode=1 size=94x94 at 0x7F0D4CC6DC70>"
      ]
     },
     "execution_count": null,
     "metadata": {},
     "output_type": "execute_result"
    }
   ],
   "source": [
    "MSvisualize(x[0])"
   ]
  },
  {
   "cell_type": "code",
   "execution_count": null,
   "metadata": {},
   "outputs": [
    {
     "data": {
      "text/plain": [
       "tensor([0.])"
      ]
     },
     "execution_count": null,
     "metadata": {},
     "output_type": "execute_result"
    }
   ],
   "source": [
    "y[0]"
   ]
  },
  {
   "cell_type": "code",
   "execution_count": null,
   "metadata": {},
   "outputs": [
    {
     "data": {
      "image/png": "[encoded data removed]",
      "text/plain": [
       "<PIL.Image.Image image mode=1 size=94x94 at 0x7F0D4C3D8A30>"
      ]
     },
     "execution_count": null,
     "metadata": {},
     "output_type": "execute_result"
    }
   ],
   "source": [
    "MSvisualize(x[1])"
   ]
  },
  {
   "cell_type": "code",
   "execution_count": null,
   "metadata": {},
   "outputs": [
    {
     "data": {
      "text/plain": [
       "tensor([1.])"
      ]
     },
     "execution_count": null,
     "metadata": {},
     "output_type": "execute_result"
    }
   ],
   "source": [
    "y[1]"
   ]
  },
  {
   "cell_type": "code",
   "execution_count": null,
   "metadata": {},
   "outputs": [
    {
     "data": {
      "image/png": "[encoded data removed]",
      "text/plain": [
       "<PIL.Image.Image image mode=1 size=94x94 at 0x7F0D4C3D8610>"
      ]
     },
     "execution_count": null,
     "metadata": {},
     "output_type": "execute_result"
    }
   ],
   "source": [
    "MSvisualize(x[1]-x[0])"
   ]
  },
  {
   "cell_type": "markdown",
   "metadata": {},
   "source": [
    "## Accuracy function"
   ]
  },
  {
   "cell_type": "code",
   "execution_count": null,
   "metadata": {},
   "outputs": [],
   "source": [
    "def accuracy(outputs, labels):\n",
    "    return ((outputs > 0.5) == labels).float().mean()"
   ]
  },
  {
   "cell_type": "markdown",
   "metadata": {},
   "source": [
    "## Model"
   ]
  },
  {
   "cell_type": "markdown",
   "metadata": {},
   "source": [
    "We are going to use *transfer learning*: the convolutional layers are directly imported from a pre-trained model, while the rest of the network is initialized at random:"
   ]
  },
  {
   "cell_type": "code",
   "execution_count": null,
   "metadata": {},
   "outputs": [
    {
     "data": {
      "text/plain": [
       "Sequential(\n",
       "  (0): Conv2d(1, 20, kernel_size=(3, 3), stride=(3, 3), padding=(1, 1))\n",
       "  (1): ReLU()\n",
       "  (2): Conv2d(20, 40, kernel_size=(2, 2), stride=(1, 1))\n",
       "  (3): ReLU()\n",
       "  (4): Conv2d(40, 40, kernel_size=(2, 2), stride=(1, 1))\n",
       "  (5): ReLU()\n",
       "  (6): Conv2d(40, 40, kernel_size=(2, 2), stride=(1, 1))\n",
       "  (7): ReLU()\n",
       "  (8): Conv2d(40, 40, kernel_size=(2, 2), stride=(1, 1))\n",
       "  (9): AdaptiveMaxPool2d(output_size=1)\n",
       "  (10): Flatten(start_dim=1, end_dim=-1)\n",
       "  (11): Linear(in_features=40, out_features=10, bias=True)\n",
       "  (12): ReLU()\n",
       "  (13): Linear(in_features=10, out_features=1, bias=True)\n",
       ")"
      ]
     },
     "execution_count": null,
     "metadata": {},
     "output_type": "execute_result"
    }
   ],
   "source": [
    "template = torch.load('models/Bacon.pt')\n",
    "template.train()\n",
    "template"
   ]
  },
  {
   "cell_type": "code",
   "execution_count": null,
   "metadata": {},
   "outputs": [
    {
     "data": {
      "text/plain": [
       "Sequential(\n",
       "  (0): Conv2d(1, 20, kernel_size=(3, 3), stride=(3, 3), padding=(1, 1))\n",
       "  (1): ReLU()\n",
       "  (2): Conv2d(20, 40, kernel_size=(2, 2), stride=(1, 1))\n",
       "  (3): ReLU()\n",
       "  (4): Conv2d(40, 40, kernel_size=(2, 2), stride=(1, 1))\n",
       "  (5): ReLU()\n",
       "  (6): Conv2d(40, 40, kernel_size=(2, 2), stride=(1, 1))\n",
       "  (7): ReLU()\n",
       "  (8): Conv2d(40, 40, kernel_size=(2, 2), stride=(1, 1))\n",
       "  (9): ReLU()\n",
       "  (10): AdaptiveAvgPool2d(output_size=1)\n",
       "  (11): Flatten(start_dim=1, end_dim=-1)\n",
       "  (12): Linear(in_features=40, out_features=20, bias=True)\n",
       "  (13): ReLU()\n",
       "  (14): Linear(in_features=20, out_features=10, bias=True)\n",
       "  (15): ReLU()\n",
       "  (16): Linear(in_features=10, out_features=1, bias=True)\n",
       ")"
      ]
     },
     "execution_count": null,
     "metadata": {},
     "output_type": "execute_result"
    }
   ],
   "source": [
    "modules = [template[i] for i in range(9)]\n",
    "modules.extend([torch.nn.ReLU(),\n",
    "                torch.nn.AdaptiveAvgPool2d(1),\n",
    "                torch.nn.Flatten(),\n",
    "                torch.nn.Linear(40, 20),\n",
    "                torch.nn.ReLU(),\n",
    "                torch.nn.Linear(20, 10),\n",
    "                torch.nn.ReLU(),\n",
    "                torch.nn.Linear(10, 1)])\n",
    "net = torch.nn.Sequential(*modules)\n",
    "net"
   ]
  },
  {
   "cell_type": "markdown",
   "metadata": {},
   "source": [
    "Number of parameters in the model:"
   ]
  },
  {
   "cell_type": "code",
   "execution_count": null,
   "metadata": {},
   "outputs": [
    {
     "data": {
      "text/plain": [
       "23801"
      ]
     },
     "execution_count": null,
     "metadata": {},
     "output_type": "execute_result"
    }
   ],
   "source": [
    "sum(p.numel() for p in net.parameters())"
   ]
  },
  {
   "cell_type": "code",
   "execution_count": null,
   "metadata": {},
   "outputs": [
    {
     "data": {
      "text/plain": [
       "torch.Size([200, 1])"
      ]
     },
     "execution_count": null,
     "metadata": {},
     "output_type": "execute_result"
    }
   ],
   "source": [
    "y_pred = net(x)\n",
    "y_pred.shape"
   ]
  },
  {
   "cell_type": "code",
   "execution_count": null,
   "metadata": {},
   "outputs": [
    {
     "data": {
      "text/plain": [
       "tensor(0.5000)"
      ]
     },
     "execution_count": null,
     "metadata": {},
     "output_type": "execute_result"
    }
   ],
   "source": [
    "accuracy(y_pred, y)"
   ]
  },
  {
   "cell_type": "markdown",
   "metadata": {},
   "source": [
    "## Training"
   ]
  },
  {
   "cell_type": "code",
   "execution_count": null,
   "metadata": {},
   "outputs": [],
   "source": [
    "running_loss_data = []\n",
    "accuracy_data = []"
   ]
  },
  {
   "cell_type": "markdown",
   "metadata": {},
   "source": [
    "Since the model is partly pre-trained, using a large learning rate of 0.02 seems to work:"
   ]
  },
  {
   "cell_type": "code",
   "execution_count": null,
   "metadata": {},
   "outputs": [
    {
     "data": {
      "application/vnd.jupyter.widget-view+json": {
       "model_id": "3c050d5f67154063a2ea11f43d701cb9",
       "version_major": 2,
       "version_minor": 0
      },
      "text/plain": [
       "HBox(children=(HTML(value=''), FloatProgress(value=0.0, max=200.0), HTML(value='')))"
      ]
     },
     "metadata": {},
     "output_type": "display_data"
    },
    {
     "name": "stderr",
     "output_type": "stream",
     "text": [
      "/home/marc/anaconda3/lib/python3.8/site-packages/torch/autograd/__init__.py:130: UserWarning: CUDA initialization: Found no NVIDIA driver on your system. Please check that you have an NVIDIA GPU and installed a driver from http://www.nvidia.com/Download/index.aspx (Triggered internally at  /pytorch/c10/cuda/CUDAFunctions.cpp:100.)\n",
      "  Variable._execution_engine.run_backward(\n"
     ]
    },
    {
     "name": "stdout",
     "output_type": "stream",
     "text": [
      "[0]  loss: 0.26147  accuracy: 0.50  \n",
      "[1]  loss: 0.25000  accuracy: 0.52  \n",
      "[2]  loss: 0.24999  accuracy: 0.58  \n",
      "[3]  loss: 0.24999  accuracy: 0.59  \n",
      "[4]  loss: 0.24998  accuracy: 0.59  \n",
      "[5]  loss: 0.24998  accuracy: 0.60  \n",
      "[6]  loss: 0.24997  accuracy: 0.60  \n",
      "[7]  loss: 0.24997  accuracy: 0.61  \n",
      "[8]  loss: 0.24996  accuracy: 0.61  \n",
      "[9]  loss: 0.24996  accuracy: 0.61  \n",
      "[10]  loss: 0.24995  accuracy: 0.61  \n",
      "[11]  loss: 0.24994  accuracy: 0.61  \n",
      "[12]  loss: 0.24994  accuracy: 0.61  \n",
      "[13]  loss: 0.24993  accuracy: 0.61  \n",
      "[14]  loss: 0.24991  accuracy: 0.61  \n",
      "[15]  loss: 0.24990  accuracy: 0.61  \n",
      "[16]  loss: 0.24989  accuracy: 0.61  \n",
      "[17]  loss: 0.24987  accuracy: 0.61  \n",
      "[18]  loss: 0.24984  accuracy: 0.61  \n",
      "[19]  loss: 0.24981  accuracy: 0.61  \n",
      "[20]  loss: 0.24976  accuracy: 0.61  \n",
      "[21]  loss: 0.24971  accuracy: 0.60  \n",
      "[22]  loss: 0.24962  accuracy: 0.60  \n",
      "[23]  loss: 0.24950  accuracy: 0.60  \n",
      "[24]  loss: 0.24922  accuracy: 0.59  \n",
      "[25]  loss: 0.24851  accuracy: 0.59  \n",
      "[26]  loss: 0.24563  accuracy: 0.59  \n",
      "[27]  loss: 0.23833  accuracy: 0.59  \n",
      "[28]  loss: 0.23518  accuracy: 0.59  \n",
      "[29]  loss: 0.23362  accuracy: 0.59  \n",
      "[30]  loss: 0.23230  accuracy: 0.59  \n",
      "[31]  loss: 0.22958  accuracy: 0.59  \n",
      "[32]  loss: 0.22574  accuracy: 0.60  \n",
      "[33]  loss: 0.22184  accuracy: 0.62  \n",
      "[34]  loss: 0.21795  accuracy: 0.63  \n",
      "[35]  loss: 0.21440  accuracy: 0.65  \n",
      "[36]  loss: 0.21193  accuracy: 0.65  \n",
      "[37]  loss: 0.21283  accuracy: 0.64  \n",
      "[38]  loss: 0.20711  accuracy: 0.66  \n",
      "[39]  loss: 0.20292  accuracy: 0.67  \n",
      "[40]  loss: 0.19901  accuracy: 0.69  \n",
      "[41]  loss: 0.20120  accuracy: 0.68  \n",
      "[42]  loss: 0.19595  accuracy: 0.69  \n",
      "[43]  loss: 0.19716  accuracy: 0.69  \n",
      "[44]  loss: 0.19465  accuracy: 0.69  \n",
      "[45]  loss: 0.19477  accuracy: 0.70  \n",
      "[46]  loss: 0.18829  accuracy: 0.71  \n",
      "[47]  loss: 0.19150  accuracy: 0.70  \n",
      "[48]  loss: 0.18860  accuracy: 0.70  \n",
      "[49]  loss: 0.18660  accuracy: 0.71  \n",
      "[50]  loss: 0.18091  accuracy: 0.73  \n",
      "[51]  loss: 0.17842  accuracy: 0.73  \n",
      "[52]  loss: 0.16989  accuracy: 0.75  \n",
      "[53]  loss: 0.16881  accuracy: 0.75  \n",
      "[54]  loss: 0.16188  accuracy: 0.76  \n",
      "[55]  loss: 0.15964  accuracy: 0.76  \n",
      "[56]  loss: 0.16031  accuracy: 0.76  \n",
      "[57]  loss: 0.15163  accuracy: 0.78  \n",
      "[58]  loss: 0.18483  accuracy: 0.71  \n",
      "[59]  loss: 0.14673  accuracy: 0.79  \n",
      "[60]  loss: 0.13474  accuracy: 0.81  \n",
      "[61]  loss: 0.12706  accuracy: 0.82  \n",
      "[62]  loss: 0.12403  accuracy: 0.83  \n",
      "[63]  loss: 0.11470  accuracy: 0.85  \n",
      "[64]  loss: 0.14320  accuracy: 0.80  \n",
      "[65]  loss: 0.11474  accuracy: 0.84  \n",
      "[66]  loss: 0.09943  accuracy: 0.87  \n",
      "[67]  loss: 0.10777  accuracy: 0.86  \n",
      "[68]  loss: 0.10449  accuracy: 0.86  \n",
      "[69]  loss: 0.09996  accuracy: 0.87  \n",
      "[70]  loss: 0.09097  accuracy: 0.88  \n",
      "[71]  loss: 0.09006  accuracy: 0.89  \n",
      "[72]  loss: 0.07654  accuracy: 0.90  \n",
      "[73]  loss: 0.07264  accuracy: 0.91  \n",
      "[74]  loss: 0.08873  accuracy: 0.89  \n",
      "[75]  loss: 0.07313  accuracy: 0.91  \n",
      "[76]  loss: 0.07297  accuracy: 0.91  \n",
      "[77]  loss: 0.07538  accuracy: 0.91  \n",
      "[78]  loss: 0.06766  accuracy: 0.92  \n",
      "[79]  loss: 0.06681  accuracy: 0.92  \n",
      "[80]  loss: 0.06602  accuracy: 0.92  \n",
      "[81]  loss: 0.05652  accuracy: 0.93  \n",
      "[82]  loss: 0.05338  accuracy: 0.93  \n",
      "[83]  loss: 0.05929  accuracy: 0.93  \n",
      "[84]  loss: 0.04998  accuracy: 0.94  \n",
      "[85]  loss: 0.05382  accuracy: 0.93  \n",
      "[86]  loss: 0.05495  accuracy: 0.94  \n",
      "[87]  loss: 0.05189  accuracy: 0.94  \n",
      "[88]  loss: 0.05807  accuracy: 0.93  \n",
      "[89]  loss: 0.07181  accuracy: 0.91  \n",
      "[90]  loss: 0.03735  accuracy: 0.96  \n",
      "[91]  loss: 0.03764  accuracy: 0.96  \n",
      "[92]  loss: 0.04461  accuracy: 0.95  \n",
      "[93]  loss: 0.04523  accuracy: 0.95  \n",
      "[94]  loss: 0.04173  accuracy: 0.95  \n",
      "[95]  loss: 0.04978  accuracy: 0.94  \n",
      "[96]  loss: 0.03514  accuracy: 0.96  \n",
      "[97]  loss: 0.03311  accuracy: 0.96  \n",
      "[98]  loss: 0.04106  accuracy: 0.95  \n",
      "[99]  loss: 0.03689  accuracy: 0.96  \n",
      "[100]  loss: 0.03801  accuracy: 0.96  \n",
      "[101]  loss: 0.03501  accuracy: 0.96  \n",
      "[102]  loss: 0.03306  accuracy: 0.96  \n",
      "[103]  loss: 0.02985  accuracy: 0.97  \n",
      "[104]  loss: 0.02954  accuracy: 0.97  \n",
      "[105]  loss: 0.03620  accuracy: 0.96  \n",
      "[106]  loss: 0.03024  accuracy: 0.97  \n",
      "[107]  loss: 0.03108  accuracy: 0.97  \n",
      "[108]  loss: 0.03159  accuracy: 0.97  \n",
      "[109]  loss: 0.03366  accuracy: 0.96  \n",
      "[110]  loss: 0.03163  accuracy: 0.97  \n",
      "[111]  loss: 0.03221  accuracy: 0.96  \n",
      "[112]  loss: 0.04135  accuracy: 0.95  \n",
      "[113]  loss: 0.03464  accuracy: 0.96  \n",
      "[114]  loss: 0.03438  accuracy: 0.96  \n",
      "[115]  loss: 0.02980  accuracy: 0.97  \n",
      "[116]  loss: 0.03335  accuracy: 0.96  \n",
      "[117]  loss: 0.03033  accuracy: 0.96  \n",
      "[118]  loss: 0.03269  accuracy: 0.96  \n",
      "[119]  loss: 0.02600  accuracy: 0.97  \n",
      "[120]  loss: 0.02724  accuracy: 0.97  \n",
      "[121]  loss: 0.02301  accuracy: 0.97  \n",
      "[122]  loss: 0.02231  accuracy: 0.97  \n",
      "[123]  loss: 0.03038  accuracy: 0.97  \n",
      "[124]  loss: 0.02316  accuracy: 0.97  \n",
      "[125]  loss: 0.02663  accuracy: 0.97  \n",
      "[126]  loss: 0.03105  accuracy: 0.96  \n",
      "[127]  loss: 0.02338  accuracy: 0.97  \n",
      "[128]  loss: 0.02085  accuracy: 0.98  \n",
      "[129]  loss: 0.02492  accuracy: 0.97  \n",
      "[130]  loss: 0.01907  accuracy: 0.98  \n",
      "[131]  loss: 0.01678  accuracy: 0.98  \n",
      "[132]  loss: 0.01520  accuracy: 0.98  \n",
      "[133]  loss: 0.02012  accuracy: 0.98  \n",
      "[134]  loss: 0.02567  accuracy: 0.97  \n",
      "[135]  loss: 0.01329  accuracy: 0.98  \n",
      "[136]  loss: 0.01674  accuracy: 0.98  \n",
      "[137]  loss: 0.01369  accuracy: 0.98  \n",
      "[138]  loss: 0.01217  accuracy: 0.99  \n",
      "[139]  loss: 0.01093  accuracy: 0.99  \n",
      "[140]  loss: 0.01018  accuracy: 0.99  \n",
      "[141]  loss: 0.01007  accuracy: 0.99  \n",
      "[142]  loss: 0.01127  accuracy: 0.99  \n",
      "[143]  loss: 0.01042  accuracy: 0.99  \n",
      "[144]  loss: 0.01193  accuracy: 0.99  \n",
      "[145]  loss: 0.01092  accuracy: 0.99  \n",
      "[146]  loss: 0.00882  accuracy: 0.99  \n",
      "[147]  loss: 0.01465  accuracy: 0.98  \n",
      "[148]  loss: 0.01917  accuracy: 0.98  \n",
      "[149]  loss: 0.01444  accuracy: 0.98  \n",
      "[150]  loss: 0.00854  accuracy: 0.99  \n",
      "[151]  loss: 0.00723  accuracy: 0.99  \n",
      "[152]  loss: 0.00646  accuracy: 0.99  \n",
      "[153]  loss: 0.00711  accuracy: 0.99  \n",
      "[154]  loss: 0.00639  accuracy: 0.99  \n",
      "[155]  loss: 0.00872  accuracy: 0.99  \n",
      "[156]  loss: 0.00540  accuracy: 0.99  \n",
      "[157]  loss: 0.00647  accuracy: 0.99  \n",
      "[158]  loss: 0.00638  accuracy: 0.99  \n",
      "[159]  loss: 0.00603  accuracy: 0.99  \n",
      "[160]  loss: 0.00504  accuracy: 0.99  \n",
      "[161]  loss: 0.00400  accuracy: 1.00  \n",
      "[162]  loss: 0.01255  accuracy: 0.99  \n",
      "[163]  loss: 0.02299  accuracy: 0.97  \n",
      "[164]  loss: 0.00497  accuracy: 0.99  \n",
      "[165]  loss: 0.00528  accuracy: 0.99  \n",
      "[166]  loss: 0.00506  accuracy: 0.99  \n",
      "[167]  loss: 0.00675  accuracy: 0.99  \n",
      "[168]  loss: 0.00638  accuracy: 0.99  \n",
      "[169]  loss: 0.00466  accuracy: 0.99  \n",
      "[170]  loss: 0.00651  accuracy: 0.99  \n",
      "[171]  loss: 0.00534  accuracy: 0.99  \n",
      "[172]  loss: 0.00480  accuracy: 0.99  \n",
      "[173]  loss: 0.00458  accuracy: 1.00  \n",
      "[174]  loss: 0.00530  accuracy: 0.99  \n",
      "[175]  loss: 0.00427  accuracy: 1.00  \n",
      "[176]  loss: 0.00331  accuracy: 1.00  \n",
      "[177]  loss: 0.00402  accuracy: 1.00  \n",
      "[178]  loss: 0.00695  accuracy: 0.99  \n",
      "[179]  loss: 0.00458  accuracy: 1.00  \n",
      "[180]  loss: 0.00282  accuracy: 1.00  \n",
      "[181]  loss: 0.00262  accuracy: 1.00  \n",
      "[182]  loss: 0.00570  accuracy: 0.99  \n",
      "[183]  loss: 0.00308  accuracy: 1.00  \n",
      "[184]  loss: 0.00320  accuracy: 1.00  \n",
      "[185]  loss: 0.00348  accuracy: 1.00  \n",
      "[186]  loss: 0.00272  accuracy: 1.00  \n",
      "[187]  loss: 0.00366  accuracy: 1.00  \n",
      "[188]  loss: 0.00311  accuracy: 1.00  \n",
      "[189]  loss: 0.00306  accuracy: 1.00  \n",
      "[190]  loss: 0.00364  accuracy: 1.00  \n",
      "[191]  loss: 0.00347  accuracy: 1.00  \n",
      "[192]  loss: 0.00421  accuracy: 1.00  \n",
      "[193]  loss: 0.00420  accuracy: 1.00  \n",
      "[194]  loss: 0.00361  accuracy: 1.00  \n",
      "[195]  loss: 0.00390  accuracy: 1.00  \n",
      "[196]  loss: 0.00388  accuracy: 1.00  \n",
      "[197]  loss: 0.00322  accuracy: 1.00  \n",
      "[198]  loss: 0.00353  accuracy: 1.00  \n",
      "[199]  loss: 0.00388  accuracy: 1.00  \n",
      "\n"
     ]
    }
   ],
   "source": [
    "data.train_model(net, n_epochs = 200, lr=0.02,\n",
    "                 accuracy_func = accuracy,\n",
    "                 loss_monitoring = running_loss_data,\n",
    "                 accuracy_monitoring = accuracy_data)"
   ]
  },
  {
   "cell_type": "code",
   "execution_count": null,
   "metadata": {},
   "outputs": [],
   "source": [
    "torch.save(net, 'models/Descartes_binary.pt')"
   ]
  },
  {
   "cell_type": "code",
   "execution_count": null,
   "metadata": {},
   "outputs": [
    {
     "name": "stdout",
     "output_type": "stream",
     "text": [
      "Number of mini-batches stored: 100\n",
      "Number of mini-batches created: 1248\n"
     ]
    }
   ],
   "source": [
    "data.info()"
   ]
  },
  {
   "cell_type": "code",
   "execution_count": null,
   "metadata": {},
   "outputs": [
    {
     "data": {
      "image/png": "[encoded data removed]",
      "text/plain": [
       "<Figure size 432x288 with 1 Axes>"
      ]
     },
     "metadata": {
      "needs_background": "light"
     },
     "output_type": "display_data"
    }
   ],
   "source": [
    "plt.plot(running_loss_data, color='red')\n",
    "plt.xlabel('Epochs')\n",
    "plt.xlim(0, 200)\n",
    "plt.ylabel('Loss function (MSE)')\n",
    "plt.yscale('log')\n",
    "# plt.savefig('blog/Part_4_Counting_images/Descartes_binary_loss.png', bbox_inches='tight')\n",
    "plt.show()"
   ]
  },
  {
   "cell_type": "code",
   "execution_count": null,
   "metadata": {},
   "outputs": [
    {
     "data": {
      "image/png": "[encoded data removed]",
      "text/plain": [
       "<Figure size 432x288 with 1 Axes>"
      ]
     },
     "metadata": {
      "needs_background": "light"
     },
     "output_type": "display_data"
    }
   ],
   "source": [
    "plt.plot(accuracy_data, color='blue')\n",
    "plt.xlabel('Epochs')\n",
    "plt.ylabel('Accuracy')\n",
    "plt.xlim(0, 200)\n",
    "plt.ylim(0.5, 1)\n",
    "# plt.savefig('blog/Part_4_Counting_images/Descartes_binary_accuracy.png', bbox_inches='tight')\n",
    "plt.show()"
   ]
  },
  {
   "cell_type": "code",
   "execution_count": null,
   "metadata": {},
   "outputs": [],
   "source": [
    "error_data = [1.0 - x for x in accuracy_data]"
   ]
  },
  {
   "cell_type": "code",
   "execution_count": null,
   "metadata": {},
   "outputs": [
    {
     "data": {
      "image/png": "[encoded data removed]",
      "text/plain": [
       "<Figure size 432x288 with 1 Axes>"
      ]
     },
     "metadata": {
      "needs_background": "light"
     },
     "output_type": "display_data"
    }
   ],
   "source": [
    "plt.plot(error_data, color='green')\n",
    "plt.xlabel('Epochs')\n",
    "plt.xlim(0, 199)\n",
    "plt.ylim(0.001, 1)\n",
    "plt.ylabel('Error')\n",
    "plt.yscale('log')\n",
    "plt.show()"
   ]
  },
  {
   "cell_type": "markdown",
   "metadata": {},
   "source": [
    "## Loading the model\n",
    "\n",
    "Once the model has been trained, this can be used to load its state dictionary:"
   ]
  },
  {
   "cell_type": "code",
   "execution_count": null,
   "metadata": {},
   "outputs": [],
   "source": [
    "net2 = torch.load('models/Descartes_binary.pt')\n",
    "net2.eval()"
   ]
  },
  {
   "cell_type": "markdown",
   "metadata": {},
   "source": [
    "## Validation"
   ]
  },
  {
   "cell_type": "code",
   "execution_count": null,
   "metadata": {},
   "outputs": [],
   "source": [
    "x, y = generate_batch(1000)"
   ]
  },
  {
   "cell_type": "code",
   "execution_count": null,
   "metadata": {},
   "outputs": [],
   "source": [
    "y_preds = net2(x).data"
   ]
  },
  {
   "cell_type": "code",
   "execution_count": null,
   "metadata": {},
   "outputs": [
    {
     "data": {
      "text/plain": [
       "tensor(0.9980)"
      ]
     },
     "execution_count": null,
     "metadata": {},
     "output_type": "execute_result"
    }
   ],
   "source": [
    "accuracy(y_preds, y)"
   ]
  },
  {
   "cell_type": "code",
   "execution_count": null,
   "metadata": {},
   "outputs": [
    {
     "data": {
      "text/plain": [
       "(tensor(0.5000), tensor(0.5003), tensor(0.5078), tensor(0.4999))"
      ]
     },
     "execution_count": null,
     "metadata": {},
     "output_type": "execute_result"
    }
   ],
   "source": [
    "y.mean(), y.std(), y_preds.mean(), y_preds.std()"
   ]
  },
  {
   "cell_type": "code",
   "execution_count": null,
   "metadata": {},
   "outputs": [
    {
     "data": {
      "text/plain": [
       "[[468, 0.0, 0.6435277462005615], [648, 0.0, 0.6435277462005615]]"
      ]
     },
     "execution_count": null,
     "metadata": {},
     "output_type": "execute_result"
    }
   ],
   "source": [
    "mistakes = []\n",
    "for i in range(y.shape[0]):\n",
    "    if (y_preds[i] > 0.5) != y[i]:\n",
    "        mistakes.append([i, y[i].item(), y_preds[i].item()])\n",
    "mistakes"
   ]
  },
  {
   "cell_type": "code",
   "execution_count": null,
   "metadata": {},
   "outputs": [
    {
     "data": {
      "image/png": "[encoded data removed]",
      "text/plain": [
       "<PIL.Image.Image image mode=1 size=94x94 at 0x7F0D4CC6DE50>"
      ]
     },
     "execution_count": null,
     "metadata": {},
     "output_type": "execute_result"
    }
   ],
   "source": [
    "MSvisualize(x[mistakes[0][0]])"
   ]
  }
 ],
 "metadata": {
  "kernelspec": {
   "display_name": "Python 3",
   "language": "python",
   "name": "python3"
  }
 },
 "nbformat": 4,
 "nbformat_minor": 4
}
