{
 "cells": [
  {
   "cell_type": "markdown",
   "metadata": {},
   "source": [
    "# Learning to predict how many legal moves there are"
   ]
  },
  {
   "cell_type": "code",
   "execution_count": 1,
   "metadata": {},
   "outputs": [],
   "source": [
    "from MorpionSolitaire import *\n",
    "import numpy as np\n",
    "import torch\n",
    "from PIL import Image\n",
    "from tqdm.notebook import trange"
   ]
  },
  {
   "cell_type": "code",
   "execution_count": 2,
   "metadata": {},
   "outputs": [],
   "source": [
    "from multiprocess import Pool\n",
    "pool = Pool()"
   ]
  },
  {
   "cell_type": "markdown",
   "metadata": {},
   "source": [
    "## Global variables"
   ]
  },
  {
   "cell_type": "markdown",
   "metadata": {},
   "source": [
    "Function for visualization of a grid:"
   ]
  },
  {
   "cell_type": "code",
   "execution_count": 3,
   "metadata": {},
   "outputs": [],
   "source": [
    "def print_grid(grid):\n",
    "    size = 3 * grid.shape[2] - 2\n",
    "    im = np.empty((size, size), dtype=bool)\n",
    "    im[0::3,0::3] = grid[0,:,:]\n",
    "    im[1::3,0::3] = grid[1,:-1,:]\n",
    "    im[2::3,0::3] = grid[1,:-1,:]\n",
    "    im[0::3,1::3] = grid[2,:,:-1]\n",
    "    im[0::3,2::3] = grid[2,:,:-1]\n",
    "    im[1::3,1::3] = grid[3,:-1,:-1]\n",
    "    im[2::3,2::3] = grid[3,:-1,:-1]\n",
    "    im[1::3,2::3] = grid[4,1:,:-1]\n",
    "    im[2::3,1::3] = grid[4,1:,:-1]\n",
    "    return Image.fromarray(~im)"
   ]
  },
  {
   "cell_type": "markdown",
   "metadata": {},
   "source": [
    "## Generating the data"
   ]
  },
  {
   "cell_type": "markdown",
   "metadata": {},
   "source": [
    "Data is generated as follows.\n",
    "1. Play a game until the end, with a random starting grid and random moves\n",
    "1. Add this grid to the batch, with label `0` (= no legal moves)\n",
    "1. Rewind at random to an arbitrary intermediate step\n",
    "1. Add this grid to the batch, with label `1` (= at least one legal move)\n",
    "1. Repeat the process\n",
    "After `n` iterations, we are left with `2*n` grids, half of which have legal moves left."
   ]
  },
  {
   "cell_type": "code",
   "execution_count": 5,
   "metadata": {},
   "outputs": [],
   "source": [
    "# def randscore(score_max):\n",
    "#     x = score_max / (score_max + 1) * np.random.rand()\n",
    "#     return int(x / (1 - x))"
   ]
  },
  {
   "cell_type": "code",
   "execution_count": 6,
   "metadata": {},
   "outputs": [],
   "source": [
    "def play_one_game(index = 0): # dummy argument needed for passing to pool.map\n",
    "    game = StartingGame('cross').play()\n",
    "    x = game.score / (game.score + 1) * np.random.rand()\n",
    "    game = game.unplay(int(x / (1 - x)))\n",
    "#     game = game.unplay(randscore(game.score))\n",
    "    n = torch.tensor([len(game.moves)])\n",
    "    return torch.FloatTensor(game.grid), n/(n+1)"
   ]
  },
  {
   "cell_type": "code",
   "execution_count": 7,
   "metadata": {},
   "outputs": [],
   "source": [
    "def generate_batch(batch_size = 200):\n",
    "    xy = pool.map(play_one_game, range(batch_size))\n",
    "    return torch.stack([x[0] for x in xy]), torch.stack([y[1] for y in xy])"
   ]
  },
  {
   "cell_type": "code",
   "execution_count": 8,
   "metadata": {},
   "outputs": [],
   "source": [
    "x, y = generate_batch(20)"
   ]
  },
  {
   "cell_type": "code",
   "execution_count": 9,
   "metadata": {},
   "outputs": [
    {
     "data": {
      "text/plain": [
       "(torch.Size([20, 5, 32, 32]), torch.Size([20, 1]))"
      ]
     },
     "execution_count": 9,
     "metadata": {},
     "output_type": "execute_result"
    }
   ],
   "source": [
    "x.shape, y.shape"
   ]
  },
  {
   "cell_type": "code",
   "execution_count": 10,
   "metadata": {},
   "outputs": [
    {
     "data": {
      "image/png": "[encoded data removed]",
      "text/plain": [
       "<PIL.Image.Image image mode=1 size=94x94 at 0x7F317D50A040>"
      ]
     },
     "execution_count": 10,
     "metadata": {},
     "output_type": "execute_result"
    }
   ],
   "source": [
    "print_grid(x[0])"
   ]
  },
  {
   "cell_type": "code",
   "execution_count": 11,
   "metadata": {},
   "outputs": [
    {
     "data": {
      "image/png": "[encoded data removed]",
      "text/plain": [
       "<PIL.Image.Image image mode=1 size=94x94 at 0x7F317D4E5A30>"
      ]
     },
     "execution_count": 11,
     "metadata": {},
     "output_type": "execute_result"
    }
   ],
   "source": [
    "print_grid(x[1])"
   ]
  },
  {
   "cell_type": "code",
   "execution_count": 12,
   "metadata": {},
   "outputs": [
    {
     "data": {
      "text/plain": [
       "tensor([0.0000, 0.0000, 0.0000, 0.0000, 0.0000, 0.0000, 0.0000, 0.0000, 0.9091,\n",
       "        0.0000, 0.9091, 0.0000, 0.9091, 0.0000, 0.9091, 0.0000, 0.5000, 0.9091,\n",
       "        0.5000, 0.9091])"
      ]
     },
     "execution_count": 12,
     "metadata": {},
     "output_type": "execute_result"
    }
   ],
   "source": [
    "y.squeeze()"
   ]
  },
  {
   "cell_type": "markdown",
   "metadata": {},
   "source": [
    "## Convolutional neural network"
   ]
  },
  {
   "cell_type": "markdown",
   "metadata": {},
   "source": [
    "Define the network architecture:"
   ]
  },
  {
   "cell_type": "code",
   "execution_count": 13,
   "metadata": {},
   "outputs": [],
   "source": [
    "from Model_v1 import net"
   ]
  },
  {
   "cell_type": "code",
   "execution_count": 14,
   "metadata": {},
   "outputs": [],
   "source": [
    "y_pred = net(x)"
   ]
  },
  {
   "cell_type": "code",
   "execution_count": 15,
   "metadata": {},
   "outputs": [
    {
     "data": {
      "text/plain": [
       "torch.Size([20, 1])"
      ]
     },
     "execution_count": 15,
     "metadata": {},
     "output_type": "execute_result"
    }
   ],
   "source": [
    "y_pred.shape"
   ]
  },
  {
   "cell_type": "code",
   "execution_count": 16,
   "metadata": {},
   "outputs": [],
   "source": [
    "def accuracy_func(outputs, labels):\n",
    "    return (torch.round(outputs/(1.0 - outputs))\n",
    "            == torch.round(labels/(1.0 - labels))).float().mean()"
   ]
  },
  {
   "cell_type": "code",
   "execution_count": 17,
   "metadata": {},
   "outputs": [
    {
     "data": {
      "text/plain": [
       "tensor(0.6000)"
      ]
     },
     "execution_count": 17,
     "metadata": {},
     "output_type": "execute_result"
    }
   ],
   "source": [
    "accuracy_func(y_pred, y)"
   ]
  },
  {
   "cell_type": "markdown",
   "metadata": {},
   "source": [
    "## Training"
   ]
  },
  {
   "cell_type": "code",
   "execution_count": 18,
   "metadata": {},
   "outputs": [],
   "source": [
    "loss_func = torch.nn.MSELoss()"
   ]
  },
  {
   "cell_type": "code",
   "execution_count": 21,
   "metadata": {},
   "outputs": [],
   "source": [
    "optimizer = torch.optim.SGD(net.parameters(), lr=0.01, momentum=0.9)"
   ]
  },
  {
   "cell_type": "code",
   "execution_count": 22,
   "metadata": {},
   "outputs": [],
   "source": [
    "batch_size = 200\n",
    "n_batches = 25\n",
    "n_epochs = 200"
   ]
  },
  {
   "cell_type": "code",
   "execution_count": 23,
   "metadata": {},
   "outputs": [
    {
     "data": {
      "application/vnd.jupyter.widget-view+json": {
       "model_id": "34b76c30145e4ca8816988ea0582b2cb",
       "version_major": 2,
       "version_minor": 0
      },
      "text/plain": [
       "HBox(children=(HTML(value=''), FloatProgress(value=0.0, max=5000.0), HTML(value='')))"
      ]
     },
     "metadata": {},
     "output_type": "display_data"
    },
    {
     "name": "stderr",
     "output_type": "stream",
     "text": [
      "/home/marc/anaconda3/lib/python3.8/site-packages/torch/autograd/__init__.py:130: UserWarning: CUDA initialization: Found no NVIDIA driver on your system. Please check that you have an NVIDIA GPU and installed a driver from http://www.nvidia.com/Download/index.aspx (Triggered internally at  /pytorch/c10/cuda/CUDAFunctions.cpp:100.)\n",
      "  Variable._execution_engine.run_backward(\n"
     ]
    },
    {
     "name": "stdout",
     "output_type": "stream",
     "text": [
      "[1]  loss: 0.144   accuracy: 0.22\n",
      "[2]  loss: 0.127   accuracy: 0.59\n",
      "[3]  loss: 0.128   accuracy: 0.47\n",
      "[4]  loss: 0.131   accuracy: 0.21\n",
      "[5]  loss: 0.131   accuracy: 0.10\n",
      "[6]  loss: 0.127   accuracy: 0.60\n",
      "[7]  loss: 0.131   accuracy: 0.52\n",
      "[8]  loss: 0.127   accuracy: 0.47\n",
      "[9]  loss: 0.127   accuracy: 0.19\n",
      "[10]  loss: 0.128   accuracy: 0.19\n",
      "[11]  loss: 0.126   accuracy: 0.50\n",
      "[12]  loss: 0.129   accuracy: 0.12\n",
      "[13]  loss: 0.131   accuracy: 0.57\n",
      "[14]  loss: 0.126   accuracy: 0.17\n",
      "[15]  loss: 0.123   accuracy: 0.49\n",
      "[16]  loss: 0.123   accuracy: 0.17\n",
      "[17]  loss: 0.124   accuracy: 0.49\n",
      "[18]  loss: 0.126   accuracy: 0.18\n",
      "[19]  loss: 0.129   accuracy: 0.54\n",
      "[20]  loss: 0.126   accuracy: 0.51\n",
      "[21]  loss: 0.128   accuracy: 0.17\n",
      "[22]  loss: 0.128   accuracy: 0.51\n",
      "[23]  loss: 0.132   accuracy: 0.57\n",
      "[24]  loss: 0.126   accuracy: 0.56\n",
      "[25]  loss: 0.128   accuracy: 0.55\n",
      "[26]  loss: 0.127   accuracy: 0.44\n",
      "[27]  loss: 0.132   accuracy: 0.19\n",
      "[28]  loss: 0.131   accuracy: 0.23\n",
      "[29]  loss: 0.128   accuracy: 0.57\n",
      "[30]  loss: 0.129   accuracy: 0.22\n",
      "[31]  loss: 0.133   accuracy: 0.38\n",
      "[32]  loss: 0.129   accuracy: 0.56\n",
      "[33]  loss: 0.130   accuracy: 0.17\n",
      "[34]  loss: 0.127   accuracy: 0.43\n",
      "[35]  loss: 0.130   accuracy: 0.57\n",
      "[36]  loss: 0.126   accuracy: 0.54\n",
      "[37]  loss: 0.130   accuracy: 0.14\n",
      "[38]  loss: 0.126   accuracy: 0.56\n",
      "[39]  loss: 0.130   accuracy: 0.19\n",
      "[40]  loss: 0.130   accuracy: 0.20\n",
      "[41]  loss: 0.125   accuracy: 0.46\n",
      "[42]  loss: 0.129   accuracy: 0.17\n",
      "[43]  loss: 0.129   accuracy: 0.46\n",
      "[44]  loss: 0.130   accuracy: 0.34\n",
      "[45]  loss: 0.128   accuracy: 0.58\n",
      "[46]  loss: 0.127   accuracy: 0.16\n",
      "[47]  loss: 0.130   accuracy: 0.45\n",
      "[48]  loss: 0.126   accuracy: 0.22\n",
      "[49]  loss: 0.128   accuracy: 0.50\n",
      "[50]  loss: 0.131   accuracy: 0.41\n",
      "[51]  loss: 0.130   accuracy: 0.12\n",
      "[52]  loss: 0.125   accuracy: 0.40\n",
      "[53]  loss: 0.130   accuracy: 0.15\n",
      "[54]  loss: 0.128   accuracy: 0.46\n",
      "[55]  loss: 0.131   accuracy: 0.14\n",
      "[56]  loss: 0.130   accuracy: 0.40\n",
      "[57]  loss: 0.129   accuracy: 0.37\n",
      "[58]  loss: 0.125   accuracy: 0.47\n",
      "[59]  loss: 0.127   accuracy: 0.22\n",
      "[60]  loss: 0.126   accuracy: 0.44\n",
      "[61]  loss: 0.125   accuracy: 0.46\n",
      "[62]  loss: 0.130   accuracy: 0.37\n",
      "[63]  loss: 0.127   accuracy: 0.44\n",
      "[64]  loss: 0.123   accuracy: 0.34\n",
      "[65]  loss: 0.126   accuracy: 0.45\n",
      "[66]  loss: 0.124   accuracy: 0.46\n",
      "[67]  loss: 0.126   accuracy: 0.44\n",
      "[68]  loss: 0.129   accuracy: 0.43\n",
      "[69]  loss: 0.127   accuracy: 0.45\n",
      "[70]  loss: 0.125   accuracy: 0.45\n",
      "[71]  loss: 0.126   accuracy: 0.50\n",
      "[72]  loss: 0.125   accuracy: 0.40\n",
      "[73]  loss: 0.128   accuracy: 0.39\n",
      "[74]  loss: 0.128   accuracy: 0.48\n",
      "[75]  loss: 0.127   accuracy: 0.40\n",
      "[76]  loss: 0.124   accuracy: 0.43\n",
      "[77]  loss: 0.124   accuracy: 0.37\n",
      "[78]  loss: 0.126   accuracy: 0.44\n",
      "[79]  loss: 0.125   accuracy: 0.44\n",
      "[80]  loss: 0.125   accuracy: 0.36\n",
      "[81]  loss: 0.127   accuracy: 0.28\n",
      "[82]  loss: 0.123   accuracy: 0.45\n",
      "[83]  loss: 0.121   accuracy: 0.43\n",
      "[84]  loss: 0.125   accuracy: 0.38\n",
      "[85]  loss: 0.124   accuracy: 0.42\n",
      "[86]  loss: 0.122   accuracy: 0.45\n",
      "[87]  loss: 0.121   accuracy: 0.17\n",
      "[88]  loss: 0.124   accuracy: 0.43\n",
      "[89]  loss: 0.122   accuracy: 0.46\n",
      "[90]  loss: 0.120   accuracy: 0.42\n",
      "[91]  loss: 0.124   accuracy: 0.45\n",
      "[92]  loss: 0.120   accuracy: 0.46\n",
      "[93]  loss: 0.122   accuracy: 0.43\n",
      "[94]  loss: 0.120   accuracy: 0.21\n",
      "[95]  loss: 0.118   accuracy: 0.30\n",
      "[96]  loss: 0.122   accuracy: 0.34\n",
      "[97]  loss: 0.119   accuracy: 0.41\n",
      "[98]  loss: 0.118   accuracy: 0.41\n",
      "[99]  loss: 0.116   accuracy: 0.33\n",
      "[100]  loss: 0.121   accuracy: 0.41\n",
      "[101]  loss: 0.115   accuracy: 0.43\n",
      "[102]  loss: 0.119   accuracy: 0.31\n",
      "[103]  loss: 0.116   accuracy: 0.37\n",
      "[104]  loss: 0.115   accuracy: 0.45\n",
      "[105]  loss: 0.115   accuracy: 0.41\n",
      "[106]  loss: 0.117   accuracy: 0.19\n",
      "[107]  loss: 0.111   accuracy: 0.47\n",
      "[108]  loss: 0.110   accuracy: 0.50\n",
      "[109]  loss: 0.113   accuracy: 0.32\n",
      "[110]  loss: 0.113   accuracy: 0.42\n",
      "[111]  loss: 0.111   accuracy: 0.47\n",
      "[112]  loss: 0.108   accuracy: 0.52\n",
      "[113]  loss: 0.108   accuracy: 0.43\n",
      "[114]  loss: 0.112   accuracy: 0.47\n",
      "[115]  loss: 0.108   accuracy: 0.43\n",
      "[116]  loss: 0.109   accuracy: 0.48\n",
      "[117]  loss: 0.107   accuracy: 0.28\n",
      "[118]  loss: 0.105   accuracy: 0.47\n",
      "[119]  loss: 0.103   accuracy: 0.45\n",
      "[120]  loss: 0.107   accuracy: 0.55\n",
      "[121]  loss: 0.103   accuracy: 0.44\n",
      "[122]  loss: 0.105   accuracy: 0.43\n",
      "[123]  loss: 0.107   accuracy: 0.34\n",
      "[124]  loss: 0.101   accuracy: 0.43\n",
      "[125]  loss: 0.104   accuracy: 0.44\n",
      "[126]  loss: 0.096   accuracy: 0.55\n",
      "[127]  loss: 0.100   accuracy: 0.46\n",
      "[128]  loss: 0.098   accuracy: 0.48\n",
      "[129]  loss: 0.102   accuracy: 0.41\n",
      "[130]  loss: 0.101   accuracy: 0.56\n",
      "[131]  loss: 0.101   accuracy: 0.51\n",
      "[132]  loss: 0.099   accuracy: 0.47\n",
      "[133]  loss: 0.106   accuracy: 0.49\n",
      "[134]  loss: 0.104   accuracy: 0.41\n",
      "[135]  loss: 0.104   accuracy: 0.43\n",
      "[136]  loss: 0.102   accuracy: 0.40\n",
      "[137]  loss: 0.104   accuracy: 0.49\n",
      "[138]  loss: 0.097   accuracy: 0.49\n",
      "[139]  loss: 0.097   accuracy: 0.49\n",
      "[140]  loss: 0.099   accuracy: 0.50\n",
      "[141]  loss: 0.096   accuracy: 0.48\n",
      "[142]  loss: 0.095   accuracy: 0.43\n",
      "[143]  loss: 0.098   accuracy: 0.49\n",
      "[144]  loss: 0.100   accuracy: 0.55\n",
      "[145]  loss: 0.097   accuracy: 0.56\n",
      "[146]  loss: 0.094   accuracy: 0.47\n",
      "[147]  loss: 0.094   accuracy: 0.50\n",
      "[148]  loss: 0.095   accuracy: 0.47\n",
      "[149]  loss: 0.092   accuracy: 0.41\n",
      "[150]  loss: 0.100   accuracy: 0.39\n",
      "[151]  loss: 0.093   accuracy: 0.42\n",
      "[152]  loss: 0.086   accuracy: 0.52\n",
      "[153]  loss: 0.091   accuracy: 0.41\n",
      "[154]  loss: 0.087   accuracy: 0.47\n",
      "[155]  loss: 0.093   accuracy: 0.50\n",
      "[156]  loss: 0.089   accuracy: 0.52\n",
      "[157]  loss: 0.095   accuracy: 0.46\n",
      "[158]  loss: 0.087   accuracy: 0.49\n",
      "[159]  loss: 0.088   accuracy: 0.42\n",
      "[160]  loss: 0.090   accuracy: 0.50\n",
      "[161]  loss: 0.092   accuracy: 0.54\n",
      "[162]  loss: 0.094   accuracy: 0.43\n",
      "[163]  loss: 0.089   accuracy: 0.40\n",
      "[164]  loss: 0.095   accuracy: 0.41\n",
      "[165]  loss: 0.086   accuracy: 0.51\n",
      "[166]  loss: 0.086   accuracy: 0.53\n",
      "[167]  loss: 0.090   accuracy: 0.56\n",
      "[168]  loss: 0.087   accuracy: 0.44\n",
      "[169]  loss: 0.084   accuracy: 0.43\n",
      "[170]  loss: 0.087   accuracy: 0.45\n",
      "[171]  loss: 0.086   accuracy: 0.42\n",
      "[172]  loss: 0.085   accuracy: 0.52\n",
      "[173]  loss: 0.087   accuracy: 0.50\n",
      "[174]  loss: 0.081   accuracy: 0.42\n",
      "[175]  loss: 0.081   accuracy: 0.44\n",
      "[176]  loss: 0.082   accuracy: 0.41\n",
      "[177]  loss: 0.081   accuracy: 0.51\n",
      "[178]  loss: 0.079   accuracy: 0.52\n",
      "[179]  loss: 0.082   accuracy: 0.49\n",
      "[180]  loss: 0.082   accuracy: 0.51\n",
      "[181]  loss: 0.074   accuracy: 0.50\n",
      "[182]  loss: 0.086   accuracy: 0.43\n",
      "[183]  loss: 0.079   accuracy: 0.51\n",
      "[184]  loss: 0.079   accuracy: 0.40\n",
      "[185]  loss: 0.085   accuracy: 0.52\n",
      "[186]  loss: 0.091   accuracy: 0.56\n",
      "[187]  loss: 0.087   accuracy: 0.48\n",
      "[188]  loss: 0.090   accuracy: 0.51\n",
      "[189]  loss: 0.088   accuracy: 0.49\n",
      "[190]  loss: 0.079   accuracy: 0.55\n",
      "[191]  loss: 0.075   accuracy: 0.49\n",
      "[192]  loss: 0.083   accuracy: 0.54\n",
      "[193]  loss: 0.077   accuracy: 0.41\n",
      "[194]  loss: 0.085   accuracy: 0.56\n",
      "[195]  loss: 0.086   accuracy: 0.56\n",
      "[196]  loss: 0.078   accuracy: 0.50\n",
      "[197]  loss: 0.083   accuracy: 0.49\n",
      "[198]  loss: 0.082   accuracy: 0.49\n",
      "[199]  loss: 0.078   accuracy: 0.54\n",
      "[200]  loss: 0.075   accuracy: 0.38\n",
      "\n"
     ]
    }
   ],
   "source": [
    "running_loss = 0.0\n",
    "for epoch in trange(n_epochs * n_batches):\n",
    "    inputs, labels = generate_batch(batch_size)\n",
    "    optimizer.zero_grad()\n",
    "    outputs = net(inputs)\n",
    "    loss = loss_func(outputs, labels)\n",
    "    loss.backward()\n",
    "    optimizer.step()\n",
    "    running_loss += loss.item()\n",
    "    if (epoch + 1) % n_batches == 0:\n",
    "        print('[%d]  loss: %.3f   accuracy: %.2f' %\n",
    "              ((epoch + 1) // n_batches, running_loss / n_batches,\n",
    "               accuracy_func(outputs, labels)))\n",
    "        running_loss = 0.0"
   ]
  },
  {
   "cell_type": "markdown",
   "metadata": {},
   "source": [
    "## Validation"
   ]
  },
  {
   "cell_type": "code",
   "execution_count": 25,
   "metadata": {},
   "outputs": [],
   "source": [
    "x, y = generate_batch(1000)"
   ]
  },
  {
   "cell_type": "code",
   "execution_count": 26,
   "metadata": {},
   "outputs": [],
   "source": [
    "y_preds = net(x).data"
   ]
  },
  {
   "cell_type": "code",
   "execution_count": 27,
   "metadata": {},
   "outputs": [
    {
     "data": {
      "text/plain": [
       "tensor(0.5240)"
      ]
     },
     "execution_count": 27,
     "metadata": {},
     "output_type": "execute_result"
    }
   ],
   "source": [
    "accuracy_func(y_preds, y)"
   ]
  },
  {
   "cell_type": "code",
   "execution_count": 28,
   "metadata": {},
   "outputs": [
    {
     "data": {
      "text/plain": [
       "(tensor(0.3327), tensor(0.3625), tensor(0.3344), tensor(0.2312))"
      ]
     },
     "execution_count": 28,
     "metadata": {},
     "output_type": "execute_result"
    }
   ],
   "source": [
    "y.mean(), y.std(), y_preds.mean(), y_preds.std()"
   ]
  },
  {
   "cell_type": "code",
   "execution_count": null,
   "metadata": {},
   "outputs": [],
   "source": [
    "# torch.stack([y, y_preds]).T"
   ]
  },
  {
   "cell_type": "code",
   "execution_count": 29,
   "metadata": {},
   "outputs": [],
   "source": [
    "n = torch.round(y/(1.0 - y))\n",
    "n_preds = torch.round(y_preds/(1.0 - y_preds))"
   ]
  },
  {
   "cell_type": "code",
   "execution_count": 30,
   "metadata": {},
   "outputs": [
    {
     "data": {
      "text/plain": [
       "tensor([[2.],\n",
       "        [0.],\n",
       "        [0.],\n",
       "        [1.],\n",
       "        [0.],\n",
       "        [0.],\n",
       "        [0.],\n",
       "        [2.],\n",
       "        [0.],\n",
       "        [9.]])"
      ]
     },
     "execution_count": 30,
     "metadata": {},
     "output_type": "execute_result"
    }
   ],
   "source": [
    "n[0:10]"
   ]
  },
  {
   "cell_type": "code",
   "execution_count": 31,
   "metadata": {},
   "outputs": [
    {
     "data": {
      "text/plain": [
       "tensor([[0.],\n",
       "        [0.],\n",
       "        [0.],\n",
       "        [1.],\n",
       "        [0.],\n",
       "        [0.],\n",
       "        [0.],\n",
       "        [1.],\n",
       "        [0.],\n",
       "        [1.]])"
      ]
     },
     "execution_count": 31,
     "metadata": {},
     "output_type": "execute_result"
    }
   ],
   "source": [
    "n_preds[0:10]"
   ]
  },
  {
   "cell_type": "code",
   "execution_count": 32,
   "metadata": {},
   "outputs": [
    {
     "data": {
      "text/plain": [
       "[[2.0, 0.0],\n",
       " [2.0, 1.0],\n",
       " [9.0, 1.0],\n",
       " [8.0, 1.0],\n",
       " [2.0, 3.0],\n",
       " [3.0, 0.0],\n",
       " [1.0, 0.0],\n",
       " [4.0, 2.0],\n",
       " [0.0, 1.0],\n",
       " [3.0, 1.0],\n",
       " [5.0, 4.0],\n",
       " [2.0, 0.0],\n",
       " [1.0, 0.0],\n",
       " [2.0, 0.0],\n",
       " [4.0, 2.0],\n",
       " [2.0, 1.0],\n",
       " [1.0, 0.0],\n",
       " [9.0, 2.0],\n",
       " [5.0, 2.0],\n",
       " [25.0, 30.0],\n",
       " [5.0, 1.0],\n",
       " [1.0, 0.0],\n",
       " [6.0, 1.0],\n",
       " [10.0, 5.0],\n",
       " [3.0, 1.0],\n",
       " [7.0, 6.0],\n",
       " [0.0, 1.0],\n",
       " [1.0, 0.0],\n",
       " [0.0, 1.0],\n",
       " [6.0, 1.0],\n",
       " [4.0, 8.0],\n",
       " [14.0, 7.0],\n",
       " [3.0, 1.0],\n",
       " [6.0, 2.0],\n",
       " [1.0, 0.0],\n",
       " [2.0, 1.0],\n",
       " [2.0, 0.0],\n",
       " [9.0, 4.0],\n",
       " [16.0, 42.0],\n",
       " [0.0, 1.0],\n",
       " [7.0, 2.0],\n",
       " [7.0, 5.0],\n",
       " [1.0, 0.0],\n",
       " [1.0, 0.0],\n",
       " [1.0, 0.0],\n",
       " [1.0, 0.0],\n",
       " [3.0, 0.0],\n",
       " [4.0, 3.0],\n",
       " [2.0, 0.0],\n",
       " [2.0, 0.0],\n",
       " [2.0, 1.0],\n",
       " [1.0, 0.0],\n",
       " [0.0, 1.0],\n",
       " [9.0, 1.0],\n",
       " [4.0, 1.0],\n",
       " [3.0, 0.0],\n",
       " [1.0, 0.0],\n",
       " [9.0, 4.0],\n",
       " [2.0, 1.0],\n",
       " [3.0, 1.0],\n",
       " [1.0, 0.0],\n",
       " [2.0, 0.0],\n",
       " [20.0, 18.0],\n",
       " [0.0, 1.0],\n",
       " [2.0, 0.0],\n",
       " [8.0, 2.0],\n",
       " [11.0, 23.0],\n",
       " [5.0, 1.0],\n",
       " [1.0, 0.0],\n",
       " [5.0, 9.0],\n",
       " [2.0, 0.0],\n",
       " [8.0, 12.0],\n",
       " [0.0, 1.0],\n",
       " [0.0, 1.0],\n",
       " [1.0, 0.0],\n",
       " [1.0, 0.0],\n",
       " [6.0, 2.0],\n",
       " [0.0, 1.0],\n",
       " [3.0, 1.0],\n",
       " [5.0, 3.0],\n",
       " [2.0, 0.0],\n",
       " [0.0, 1.0],\n",
       " [2.0, 0.0],\n",
       " [1.0, 0.0],\n",
       " [8.0, 7.0],\n",
       " [1.0, 0.0],\n",
       " [7.0, 3.0],\n",
       " [0.0, 1.0],\n",
       " [2.0, 0.0],\n",
       " [3.0, 1.0],\n",
       " [3.0, 0.0],\n",
       " [16.0, -44.0],\n",
       " [4.0, 2.0],\n",
       " [2.0, 1.0],\n",
       " [2.0, 1.0],\n",
       " [0.0, 1.0],\n",
       " [0.0, 4.0],\n",
       " [10.0, 21.0],\n",
       " [15.0, 275.0],\n",
       " [0.0, 1.0],\n",
       " [1.0, 0.0],\n",
       " [9.0, 0.0],\n",
       " [1.0, 0.0],\n",
       " [3.0, 1.0],\n",
       " [2.0, 0.0],\n",
       " [2.0, 0.0],\n",
       " [1.0, 0.0],\n",
       " [4.0, 1.0],\n",
       " [3.0, 0.0],\n",
       " [2.0, 0.0],\n",
       " [0.0, 1.0],\n",
       " [1.0, 0.0],\n",
       " [2.0, 1.0],\n",
       " [0.0, 1.0],\n",
       " [2.0, 1.0],\n",
       " [2.0, 1.0],\n",
       " [11.0, 10.0],\n",
       " [1.0, 0.0],\n",
       " [0.0, 1.0],\n",
       " [1.0, 0.0],\n",
       " [7.0, 5.0],\n",
       " [1.0, 0.0],\n",
       " [1.0, 0.0],\n",
       " [1.0, 0.0],\n",
       " [3.0, 0.0],\n",
       " [15.0, 8.0],\n",
       " [1.0, 0.0],\n",
       " [2.0, 1.0],\n",
       " [3.0, 1.0],\n",
       " [4.0, 1.0],\n",
       " [4.0, 1.0],\n",
       " [1.0, 0.0],\n",
       " [2.0, 1.0],\n",
       " [4.0, 0.0],\n",
       " [3.0, 1.0],\n",
       " [1.0, 0.0],\n",
       " [2.0, 3.0],\n",
       " [0.0, 1.0],\n",
       " [3.0, 1.0],\n",
       " [10.0, 11.0],\n",
       " [7.0, 6.0],\n",
       " [3.0, 1.0],\n",
       " [7.0, 2.0],\n",
       " [7.0, 3.0],\n",
       " [3.0, 1.0],\n",
       " [1.0, 0.0],\n",
       " [5.0, 1.0],\n",
       " [1.0, 0.0],\n",
       " [5.0, 1.0],\n",
       " [3.0, 1.0],\n",
       " [1.0, 0.0],\n",
       " [6.0, 3.0],\n",
       " [6.0, 1.0],\n",
       " [4.0, 1.0],\n",
       " [11.0, 47.0],\n",
       " [1.0, 0.0],\n",
       " [2.0, 0.0],\n",
       " [2.0, 0.0],\n",
       " [1.0, 0.0],\n",
       " [6.0, 1.0],\n",
       " [4.0, 3.0],\n",
       " [4.0, 0.0],\n",
       " [1.0, 0.0],\n",
       " [2.0, 1.0],\n",
       " [3.0, 1.0],\n",
       " [6.0, 2.0],\n",
       " [1.0, 0.0],\n",
       " [1.0, 0.0],\n",
       " [5.0, 1.0],\n",
       " [5.0, 0.0],\n",
       " [2.0, 0.0],\n",
       " [2.0, 0.0],\n",
       " [0.0, 1.0],\n",
       " [21.0, 41.0],\n",
       " [1.0, 0.0],\n",
       " [2.0, 0.0],\n",
       " [0.0, 1.0],\n",
       " [4.0, 5.0],\n",
       " [0.0, 1.0],\n",
       " [2.0, 0.0],\n",
       " [1.0, 0.0],\n",
       " [8.0, 7.0],\n",
       " [1.0, 0.0],\n",
       " [25.0, -22.0],\n",
       " [2.0, 0.0],\n",
       " [12.0, 3.0],\n",
       " [2.0, 0.0],\n",
       " [0.0, 1.0],\n",
       " [3.0, 0.0],\n",
       " [0.0, 1.0],\n",
       " [8.0, 4.0],\n",
       " [4.0, 1.0],\n",
       " [0.0, 1.0],\n",
       " [3.0, 1.0],\n",
       " [2.0, 0.0],\n",
       " [6.0, 2.0],\n",
       " [12.0, 9.0],\n",
       " [1.0, 2.0],\n",
       " [1.0, 2.0],\n",
       " [1.0, 0.0],\n",
       " [10.0, 16.0],\n",
       " [9.0, 13.0],\n",
       " [1.0, 0.0],\n",
       " [11.0, 25.0],\n",
       " [12.0, 4.0],\n",
       " [2.0, 0.0],\n",
       " [2.0, 1.0],\n",
       " [1.0, 0.0],\n",
       " [0.0, 1.0],\n",
       " [1.0, 0.0],\n",
       " [1.0, 0.0],\n",
       " [1.0, 0.0],\n",
       " [13.0, 22.0],\n",
       " [0.0, 1.0],\n",
       " [0.0, 1.0],\n",
       " [1.0, 0.0],\n",
       " [5.0, 4.0],\n",
       " [2.0, 0.0],\n",
       " [2.0, 0.0],\n",
       " [6.0, 2.0],\n",
       " [2.0, 0.0],\n",
       " [2.0, 0.0],\n",
       " [0.0, 1.0],\n",
       " [0.0, 1.0],\n",
       " [5.0, 0.0],\n",
       " [5.0, 12.0],\n",
       " [3.0, 2.0],\n",
       " [0.0, 1.0],\n",
       " [11.0, 12.0],\n",
       " [0.0, 1.0],\n",
       " [4.0, 1.0],\n",
       " [8.0, 9.0],\n",
       " [1.0, 3.0],\n",
       " [4.0, 1.0],\n",
       " [2.0, 1.0],\n",
       " [1.0, 0.0],\n",
       " [2.0, 0.0],\n",
       " [2.0, 1.0],\n",
       " [26.0, -31.0],\n",
       " [7.0, 3.0],\n",
       " [0.0, 1.0],\n",
       " [2.0, 0.0],\n",
       " [3.0, 1.0],\n",
       " [3.0, 0.0],\n",
       " [16.0, -44.0],\n",
       " [4.0, 2.0],\n",
       " [2.0, 1.0],\n",
       " [2.0, 1.0],\n",
       " [0.0, 1.0],\n",
       " [0.0, 4.0],\n",
       " [10.0, 21.0],\n",
       " [15.0, 275.0],\n",
       " [0.0, 1.0],\n",
       " [1.0, 0.0],\n",
       " [9.0, 0.0],\n",
       " [1.0, 0.0],\n",
       " [3.0, 1.0],\n",
       " [2.0, 0.0],\n",
       " [2.0, 0.0],\n",
       " [1.0, 0.0],\n",
       " [4.0, 1.0],\n",
       " [3.0, 0.0],\n",
       " [2.0, 0.0],\n",
       " [0.0, 1.0],\n",
       " [1.0, 0.0],\n",
       " [1.0, 0.0],\n",
       " [1.0, 0.0],\n",
       " [1.0, 0.0],\n",
       " [13.0, 22.0],\n",
       " [0.0, 1.0],\n",
       " [0.0, 1.0],\n",
       " [0.0, 1.0],\n",
       " [0.0, 1.0],\n",
       " [6.0, 1.0],\n",
       " [6.0, 2.0],\n",
       " [0.0, 1.0],\n",
       " [3.0, 0.0],\n",
       " [0.0, 1.0],\n",
       " [1.0, 2.0],\n",
       " [1.0, 0.0],\n",
       " [2.0, 0.0],\n",
       " [7.0, 3.0],\n",
       " [0.0, 1.0],\n",
       " [11.0, 10.0],\n",
       " [2.0, 0.0],\n",
       " [0.0, 1.0],\n",
       " [2.0, 1.0],\n",
       " [4.0, 3.0],\n",
       " [1.0, 0.0],\n",
       " [3.0, 1.0],\n",
       " [7.0, 2.0],\n",
       " [2.0, 1.0],\n",
       " [2.0, 0.0],\n",
       " [2.0, 1.0],\n",
       " [9.0, 1.0],\n",
       " [8.0, 1.0],\n",
       " [2.0, 3.0],\n",
       " [3.0, 0.0],\n",
       " [1.0, 2.0],\n",
       " [3.0, 1.0],\n",
       " [3.0, 2.0],\n",
       " [0.0, 1.0],\n",
       " [1.0, 0.0],\n",
       " [2.0, 1.0],\n",
       " [1.0, 0.0],\n",
       " [2.0, 0.0],\n",
       " [3.0, 1.0],\n",
       " [1.0, 0.0],\n",
       " [6.0, 1.0],\n",
       " [2.0, 1.0],\n",
       " [1.0, 0.0],\n",
       " [0.0, 1.0],\n",
       " [9.0, 1.0],\n",
       " [4.0, 1.0],\n",
       " [3.0, 0.0],\n",
       " [1.0, 0.0],\n",
       " [9.0, 4.0],\n",
       " [2.0, 1.0],\n",
       " [3.0, 1.0],\n",
       " [1.0, 0.0],\n",
       " [2.0, 0.0],\n",
       " [20.0, 18.0],\n",
       " [0.0, 1.0],\n",
       " [2.0, 0.0],\n",
       " [8.0, 2.0],\n",
       " [11.0, 23.0],\n",
       " [5.0, 1.0],\n",
       " [1.0, 0.0],\n",
       " [5.0, 9.0],\n",
       " [1.0, 0.0],\n",
       " [11.0, 12.0],\n",
       " [0.0, 1.0],\n",
       " [5.0, 1.0],\n",
       " [4.0, 1.0],\n",
       " [3.0, 1.0],\n",
       " [3.0, 0.0],\n",
       " [2.0, 1.0],\n",
       " [10.0, 6.0],\n",
       " [0.0, 1.0],\n",
       " [1.0, 0.0],\n",
       " [4.0, 0.0],\n",
       " [0.0, 1.0],\n",
       " [4.0, 2.0],\n",
       " [2.0, 1.0],\n",
       " [2.0, 1.0],\n",
       " [0.0, 1.0],\n",
       " [2.0, 0.0],\n",
       " [3.0, 0.0],\n",
       " [14.0, 17.0],\n",
       " [3.0, 1.0],\n",
       " [1.0, 0.0],\n",
       " [1.0, 0.0],\n",
       " [4.0, 2.0],\n",
       " [1.0, 0.0],\n",
       " [4.0, 0.0],\n",
       " [12.0, 1.0],\n",
       " [1.0, 0.0],\n",
       " [0.0, 1.0],\n",
       " [2.0, 0.0],\n",
       " [9.0, 1.0],\n",
       " [1.0, 0.0],\n",
       " [2.0, 1.0],\n",
       " [1.0, 0.0],\n",
       " [6.0, 1.0],\n",
       " [1.0, 0.0],\n",
       " [4.0, 2.0],\n",
       " [0.0, 1.0],\n",
       " [3.0, 1.0],\n",
       " [5.0, 4.0],\n",
       " [2.0, 0.0],\n",
       " [1.0, 0.0],\n",
       " [2.0, 0.0],\n",
       " [4.0, 2.0],\n",
       " [2.0, 1.0],\n",
       " [1.0, 0.0],\n",
       " [9.0, 2.0],\n",
       " [5.0, 2.0],\n",
       " [25.0, 30.0],\n",
       " [5.0, 1.0],\n",
       " [1.0, 0.0],\n",
       " [6.0, 1.0],\n",
       " [2.0, 1.0],\n",
       " [0.0, 1.0],\n",
       " [2.0, 1.0],\n",
       " [2.0, 1.0],\n",
       " [11.0, 10.0],\n",
       " [1.0, 0.0],\n",
       " [0.0, 1.0],\n",
       " [1.0, 0.0],\n",
       " [7.0, 5.0],\n",
       " [1.0, 0.0],\n",
       " [1.0, 0.0],\n",
       " [0.0, 1.0],\n",
       " [0.0, 1.0],\n",
       " [1.0, 0.0],\n",
       " [5.0, 4.0],\n",
       " [2.0, 0.0],\n",
       " [2.0, 0.0],\n",
       " [6.0, 2.0],\n",
       " [2.0, 0.0],\n",
       " [2.0, 0.0],\n",
       " [0.0, 1.0],\n",
       " [0.0, 1.0],\n",
       " [5.0, 0.0],\n",
       " [5.0, 12.0],\n",
       " [3.0, 2.0],\n",
       " [0.0, 1.0],\n",
       " [11.0, 12.0],\n",
       " [0.0, 1.0],\n",
       " [4.0, 1.0],\n",
       " [8.0, 9.0],\n",
       " [1.0, 3.0],\n",
       " [4.0, 1.0],\n",
       " [2.0, 1.0],\n",
       " [1.0, 0.0],\n",
       " [2.0, 0.0],\n",
       " [2.0, 1.0],\n",
       " [26.0, -31.0],\n",
       " [1.0, 0.0],\n",
       " [11.0, 12.0],\n",
       " [0.0, 1.0],\n",
       " [2.0, 0.0],\n",
       " [8.0, 12.0],\n",
       " [0.0, 1.0],\n",
       " [0.0, 1.0],\n",
       " [1.0, 0.0],\n",
       " [1.0, 0.0],\n",
       " [6.0, 2.0],\n",
       " [0.0, 1.0],\n",
       " [3.0, 1.0],\n",
       " [5.0, 3.0],\n",
       " [2.0, 0.0],\n",
       " [5.0, 1.0],\n",
       " [3.0, 1.0],\n",
       " [1.0, 0.0],\n",
       " [6.0, 3.0],\n",
       " [6.0, 1.0],\n",
       " [4.0, 1.0],\n",
       " [11.0, 47.0],\n",
       " [1.0, 0.0],\n",
       " [2.0, 0.0],\n",
       " [2.0, 0.0],\n",
       " [1.0, 0.0],\n",
       " [6.0, 1.0],\n",
       " [4.0, 3.0],\n",
       " [4.0, 0.0],\n",
       " [1.0, 0.0],\n",
       " [2.0, 1.0],\n",
       " [3.0, 1.0],\n",
       " [6.0, 2.0],\n",
       " [1.0, 0.0],\n",
       " [1.0, 0.0],\n",
       " [5.0, 1.0],\n",
       " [5.0, 0.0],\n",
       " [2.0, 0.0],\n",
       " [1.0, 0.0],\n",
       " [1.0, 0.0],\n",
       " [14.0, 13.0],\n",
       " [10.0, 2.0],\n",
       " [5.0, 2.0],\n",
       " [0.0, 1.0],\n",
       " [2.0, 1.0],\n",
       " [3.0, 1.0],\n",
       " [6.0, 4.0],\n",
       " [2.0, 3.0],\n",
       " [2.0, 1.0],\n",
       " [0.0, 1.0],\n",
       " [7.0, 1.0],\n",
       " [3.0, 0.0],\n",
       " [17.0, 10.0],\n",
       " [5.0, 3.0],\n",
       " [3.0, 0.0],\n",
       " [1.0, 0.0],\n",
       " [3.0, 1.0],\n",
       " [1.0, 0.0],\n",
       " [0.0, 1.0]]"
      ]
     },
     "execution_count": 32,
     "metadata": {},
     "output_type": "execute_result"
    }
   ],
   "source": [
    "mistakes = []\n",
    "for i in range(y.shape[0]):\n",
    "    if n[i] != n_preds[i]:\n",
    "        mistakes.append([n[i].item(), n_preds[i].item()])\n",
    "mistakes"
   ]
  },
  {
   "cell_type": "markdown",
   "metadata": {},
   "source": [
    "## Save the model"
   ]
  },
  {
   "cell_type": "code",
   "execution_count": 26,
   "metadata": {},
   "outputs": [],
   "source": [
    "# for param_tensor in net.state_dict():\n",
    "#     print(param_tensor, \"\\t\", net.state_dict()[param_tensor].size())"
   ]
  },
  {
   "cell_type": "code",
   "execution_count": 24,
   "metadata": {},
   "outputs": [],
   "source": [
    "torch.save(net.state_dict(), 'models/AI_predict_count_v1.pkl')"
   ]
  },
  {
   "cell_type": "code",
   "execution_count": null,
   "metadata": {},
   "outputs": [],
   "source": []
  }
 ],
 "metadata": {
  "kernelspec": {
   "display_name": "Python 3",
   "language": "python",
   "name": "python3"
  },
  "language_info": {
   "codemirror_mode": {
    "name": "ipython",
    "version": 3
   },
   "file_extension": ".py",
   "mimetype": "text/x-python",
   "name": "python",
   "nbconvert_exporter": "python",
   "pygments_lexer": "ipython3",
   "version": "3.8.5"
  }
 },
 "nbformat": 4,
 "nbformat_minor": 4
}
