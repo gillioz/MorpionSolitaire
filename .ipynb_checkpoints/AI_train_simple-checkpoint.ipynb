{
 "cells": [
  {
   "cell_type": "markdown",
   "metadata": {},
   "source": [
    "# Deep learning Morpion Solitaire\n",
    "\n",
    "This is a simplified version in which the model only answers the question whether there is at least one legal move or not."
   ]
  },
  {
   "cell_type": "code",
   "execution_count": 1,
   "metadata": {},
   "outputs": [],
   "source": [
    "from tqdm.notebook import trange\n",
    "from pathlib import Path\n",
    "import numpy as np\n",
    "import pandas as pd\n",
    "import torch\n",
    "from PIL import Image"
   ]
  },
  {
   "cell_type": "markdown",
   "metadata": {},
   "source": [
    "In Google Colab, needs to upgrade `fastai` to newest version:"
   ]
  },
  {
   "cell_type": "code",
   "execution_count": 2,
   "metadata": {},
   "outputs": [],
   "source": [
    "# !pip install --upgrade fastai"
   ]
  },
  {
   "cell_type": "markdown",
   "metadata": {},
   "source": [
    "Load `fastai` library:"
   ]
  },
  {
   "cell_type": "code",
   "execution_count": 3,
   "metadata": {},
   "outputs": [
    {
     "name": "stderr",
     "output_type": "stream",
     "text": [
      "/home/marc/anaconda3/lib/python3.8/site-packages/torch/cuda/__init__.py:52: UserWarning: CUDA initialization: Found no NVIDIA driver on your system. Please check that you have an NVIDIA GPU and installed a driver from http://www.nvidia.com/Download/index.aspx (Triggered internally at  /pytorch/c10/cuda/CUDAFunctions.cpp:100.)\n",
      "  return torch._C._cuda_getDeviceCount() > 0\n"
     ]
    }
   ],
   "source": [
    "from fastai.vision.all import *\n",
    "from fastai.callback.hook import *"
   ]
  },
  {
   "cell_type": "markdown",
   "metadata": {},
   "source": [
    "## Load data"
   ]
  },
  {
   "cell_type": "markdown",
   "metadata": {},
   "source": [
    "Import data when running in Google Colab:"
   ]
  },
  {
   "cell_type": "code",
   "execution_count": 4,
   "metadata": {},
   "outputs": [],
   "source": [
    "# from google.colab import drive\n",
    "# drive.mount('/content/gdrive')"
   ]
  },
  {
   "cell_type": "code",
   "execution_count": 5,
   "metadata": {},
   "outputs": [],
   "source": [
    "# !ls -l 'gdrive/MyDrive/Colab Notebooks/'"
   ]
  },
  {
   "cell_type": "code",
   "execution_count": 6,
   "metadata": {},
   "outputs": [],
   "source": [
    "# !tar -xf 'gdrive/MyDrive/Colab Notebooks/data.tar.gz'\n",
    "# !ls -l"
   ]
  },
  {
   "cell_type": "markdown",
   "metadata": {},
   "source": [
    "Import the data:"
   ]
  },
  {
   "cell_type": "code",
   "execution_count": 25,
   "metadata": {},
   "outputs": [
    {
     "data": {
      "text/plain": [
       "((10000, 5, 18, 18), (10000, 5, 18, 18))"
      ]
     },
     "execution_count": 25,
     "metadata": {},
     "output_type": "execute_result"
    }
   ],
   "source": [
    "path = Path('data/simple_data')\n",
    "data_grids_open = np.load(path/'open.npy')\n",
    "data_grids_closed = np.load(path/'closed.npy')\n",
    "data_grids_open.shape, data_grids_closed.shape"
   ]
  },
  {
   "cell_type": "markdown",
   "metadata": {},
   "source": [
    "Visualization function for grid data:"
   ]
  },
  {
   "cell_type": "code",
   "execution_count": 26,
   "metadata": {},
   "outputs": [],
   "source": [
    "def visualize(grid):\n",
    "    size = 3 * grid.shape[2] - 2\n",
    "    im = np.empty((size, size), dtype=bool)\n",
    "    im[0::3,0::3] = grid[0,:,:]\n",
    "    im[1::3,0::3] = grid[1,:-1,:]\n",
    "    im[2::3,0::3] = grid[1,:-1,:]\n",
    "    im[0::3,1::3] = grid[2,:,:-1]\n",
    "    im[0::3,2::3] = grid[2,:,:-1]\n",
    "    im[1::3,1::3] = grid[3,:-1,:-1]\n",
    "    im[2::3,2::3] = grid[3,:-1,:-1]\n",
    "    im[1::3,2::3] = grid[4,1:,:-1]\n",
    "    im[2::3,1::3] = grid[4,1:,:-1]\n",
    "    return Image.fromarray(~im)"
   ]
  },
  {
   "cell_type": "code",
   "execution_count": 27,
   "metadata": {},
   "outputs": [
    {
     "data": {
      "image/png": "[encoded data removed]",
      "text/plain": [
       "<PIL.Image.Image image mode=1 size=52x52 at 0x7F3FEC38E0A0>"
      ]
     },
     "execution_count": 27,
     "metadata": {},
     "output_type": "execute_result"
    }
   ],
   "source": [
    "visualize(data_grids_open[0])"
   ]
  },
  {
   "cell_type": "code",
   "execution_count": 28,
   "metadata": {},
   "outputs": [
    {
     "data": {
      "image/png": "[encoded data removed]",
      "text/plain": [
       "<PIL.Image.Image image mode=1 size=52x52 at 0x7F3F6A234B20>"
      ]
     },
     "execution_count": 28,
     "metadata": {},
     "output_type": "execute_result"
    }
   ],
   "source": [
    "visualize(data_grids_closed[0])"
   ]
  },
  {
   "cell_type": "markdown",
   "metadata": {},
   "source": [
    "Create a Pandas dataframe:"
   ]
  },
  {
   "cell_type": "code",
   "execution_count": 91,
   "metadata": {},
   "outputs": [],
   "source": [
    "df_open = pd.DataFrame(zip(data_grids_open, np.ones(data_grids_open.shape[0])),\n",
    "                       columns = ['grid', 'label'])\n",
    "df_closed = pd.DataFrame(zip(data_grids_closed, np.zeros(data_grids_closed.shape[0])),\n",
    "                         columns = ['grid', 'label'])\n",
    "dataframe = pd.concat([df_open, df_closed])"
   ]
  },
  {
   "cell_type": "code",
   "execution_count": 87,
   "metadata": {},
   "outputs": [],
   "source": [
    "# data_grids = np.concatenate((data_grids_open, data_grids_closed))\n",
    "# labels = np.concatenate((np.ones(data_grids_open.shape[0]), np.zeros(data_grids_closed.shape[0])))\n",
    "# dataframe = pd.DataFrame(zip(data_grids, labels),\n",
    "#                          columns = ['grid', 'label'])"
   ]
  },
  {
   "cell_type": "markdown",
   "metadata": {},
   "source": [
    "Shuffle the data:"
   ]
  },
  {
   "cell_type": "code",
   "execution_count": 95,
   "metadata": {},
   "outputs": [],
   "source": [
    "dataframe = dataframe.sample(frac=1).reset_index(drop=True)"
   ]
  },
  {
   "cell_type": "markdown",
   "metadata": {},
   "source": [
    "# DataLoaders"
   ]
  },
  {
   "cell_type": "code",
   "execution_count": 99,
   "metadata": {},
   "outputs": [],
   "source": [
    "GRID_SIZE = 18"
   ]
  },
  {
   "cell_type": "markdown",
   "metadata": {},
   "source": [
    "The `x` value is a grid of size `GRID_SIZE x GRID_SIZE`, with the actual grid loaded from the dataframe inserted at a random position:"
   ]
  },
  {
   "cell_type": "code",
   "execution_count": 150,
   "metadata": {},
   "outputs": [],
   "source": [
    "def get_x(data): return torch.tensor(data['grid']).float()\n",
    "def get_y(data): return torch.tensor([data['label']]).float()"
   ]
  },
  {
   "cell_type": "code",
   "execution_count": 151,
   "metadata": {},
   "outputs": [
    {
     "data": {
      "image/png": "[encoded data removed]",
      "text/plain": [
       "<PIL.Image.Image image mode=1 size=52x52 at 0x7F3F5D3133A0>"
      ]
     },
     "execution_count": 151,
     "metadata": {},
     "output_type": "execute_result"
    }
   ],
   "source": [
    "visualize(dataframe['grid'].iloc[0])"
   ]
  },
  {
   "cell_type": "code",
   "execution_count": 152,
   "metadata": {},
   "outputs": [
    {
     "data": {
      "image/png": "[encoded data removed]",
      "text/plain": [
       "<PIL.Image.Image image mode=1 size=52x52 at 0x7F3F5D3110A0>"
      ]
     },
     "execution_count": 152,
     "metadata": {},
     "output_type": "execute_result"
    }
   ],
   "source": [
    "visualize(get_x(dataframe.iloc[0]))"
   ]
  },
  {
   "cell_type": "code",
   "execution_count": 153,
   "metadata": {},
   "outputs": [
    {
     "data": {
      "text/plain": [
       "(0.0, tensor([0.]))"
      ]
     },
     "execution_count": 153,
     "metadata": {},
     "output_type": "execute_result"
    }
   ],
   "source": [
    "dataframe['label'].iloc[0], get_y(dataframe.iloc[0])"
   ]
  },
  {
   "cell_type": "markdown",
   "metadata": {},
   "source": [
    "DataBlock and DataLoaders:"
   ]
  },
  {
   "cell_type": "code",
   "execution_count": 154,
   "metadata": {},
   "outputs": [],
   "source": [
    "dblock = DataBlock(get_x = get_x, get_y = get_y)"
   ]
  },
  {
   "cell_type": "code",
   "execution_count": 155,
   "metadata": {},
   "outputs": [],
   "source": [
    "dls = dblock.dataloaders(dataframe, bs = 200)"
   ]
  },
  {
   "cell_type": "markdown",
   "metadata": {},
   "source": [
    "Check one batch:"
   ]
  },
  {
   "cell_type": "code",
   "execution_count": 156,
   "metadata": {},
   "outputs": [
    {
     "data": {
      "text/plain": [
       "(torch.Size([200, 5, 18, 18]), torch.Size([200, 1]))"
      ]
     },
     "execution_count": 156,
     "metadata": {},
     "output_type": "execute_result"
    }
   ],
   "source": [
    "x_batch, y_batch = dls.one_batch()\n",
    "x_batch.shape, y_batch.shape"
   ]
  },
  {
   "cell_type": "code",
   "execution_count": 157,
   "metadata": {},
   "outputs": [
    {
     "data": {
      "text/plain": [
       "tensor(0.4600)"
      ]
     },
     "execution_count": 157,
     "metadata": {},
     "output_type": "execute_result"
    }
   ],
   "source": [
    "y_batch.mean()"
   ]
  },
  {
   "cell_type": "markdown",
   "metadata": {},
   "source": [
    "## Loss function and metrics"
   ]
  },
  {
   "cell_type": "code",
   "execution_count": 31,
   "metadata": {},
   "outputs": [],
   "source": [
    "# def sigmoid(x): return 1/(1 + torch.exp(-x))"
   ]
  },
  {
   "cell_type": "code",
   "execution_count": 32,
   "metadata": {},
   "outputs": [],
   "source": [
    "# def loss_fct(predictions, targets):\n",
    "#     predictions = sigmoid(predictions)\n",
    "#     return torch.where(targets == 1, 1 - predictions, predictions).mean()"
   ]
  },
  {
   "cell_type": "code",
   "execution_count": 158,
   "metadata": {},
   "outputs": [],
   "source": [
    "def accuracy_fct(inputs, targets):\n",
    "    return torch.where(inputs > 0.0, targets, 1 - targets).mean()"
   ]
  },
  {
   "cell_type": "markdown",
   "metadata": {},
   "source": [
    "## Convolutional neural network"
   ]
  },
  {
   "cell_type": "markdown",
   "metadata": {},
   "source": [
    "Define the network architecture:"
   ]
  },
  {
   "cell_type": "code",
   "execution_count": 159,
   "metadata": {},
   "outputs": [],
   "source": [
    "net = nn.Sequential(\n",
    "    nn.Conv2d(5, 20, stride = 1, kernel_size = 5, padding = 2),\n",
    "    nn.ReLU(),\n",
    "    nn.AdaptiveMaxPool2d(1),\n",
    "    Flatten(),\n",
    "    nn.Linear(20, 1),\n",
    "    nn.ReLU(),\n",
    "    nn.Linear(1, 1)\n",
    ")"
   ]
  },
  {
   "cell_type": "code",
   "execution_count": 37,
   "metadata": {},
   "outputs": [],
   "source": [
    "# net[0].weight.shape, net[0].bias.shape"
   ]
  },
  {
   "cell_type": "code",
   "execution_count": 38,
   "metadata": {},
   "outputs": [],
   "source": [
    "# net[0].weight[0]"
   ]
  },
  {
   "cell_type": "code",
   "execution_count": 39,
   "metadata": {},
   "outputs": [],
   "source": [
    "# net[4].weight.shape, net[4].bias.shape"
   ]
  },
  {
   "cell_type": "code",
   "execution_count": 160,
   "metadata": {},
   "outputs": [],
   "source": [
    "with torch.no_grad():\n",
    "    for i in range(20):\n",
    "        net[0].bias[i] = -3\n",
    "        net[0].weight[i] = torch.zeros(5,5,5)\n",
    "    for c in range(5):\n",
    "        net[0].weight[c,0,2] = torch.tensor([1,1,1,1,1])\n",
    "        net[0].weight[c,2,2] = torch.tensor([-1,-1,-1,-1,0])\n",
    "        net[0].weight[c,0,2,c] = -1\n",
    "        net[0].weight[5+c,0,:,2] = torch.tensor([1,1,1,1,1])\n",
    "        net[0].weight[5+c,1,:,2] = torch.tensor([-1,-1,-1,-1,0])\n",
    "        net[0].weight[5+c,0,c,2] = -1\n",
    "        for i in range(5):\n",
    "            net[0].weight[10+c,0,i,i] = 1\n",
    "        for i in range(4):\n",
    "            net[0].weight[10+c,3,i,i] = -1\n",
    "        net[0].weight[10+c,0,c,c] = -1\n",
    "        for i in range(5):\n",
    "            net[0].weight[15+c,0,i,4-i] = 1\n",
    "        for i in range(1,5):\n",
    "            net[0].weight[15+c,4,i,4-i] = -1\n",
    "        net[0].weight[15+c,0,c,4-c] = -1\n",
    "    net[4].weight[0] = torch.zeros(20) - 1\n",
    "    net[4].bias[0] = 1\n",
    "    net[6].weight[0] = -1\n",
    "    net[6].bias[0] = 1"
   ]
  },
  {
   "cell_type": "code",
   "execution_count": 162,
   "metadata": {},
   "outputs": [
    {
     "data": {
      "text/plain": [
       "(tensor(0.4600), tensor(0.4996))"
      ]
     },
     "execution_count": 162,
     "metadata": {},
     "output_type": "execute_result"
    }
   ],
   "source": [
    "x_batch_pred = net(x_batch).data\n",
    "x_batch_pred.mean(), x_batch_pred.std()"
   ]
  },
  {
   "cell_type": "code",
   "execution_count": 163,
   "metadata": {},
   "outputs": [
    {
     "data": {
      "text/plain": [
       "tensor([[0., 0.],\n",
       "        [0., 0.],\n",
       "        [0., 0.],\n",
       "        [1., 1.],\n",
       "        [0., 0.],\n",
       "        [0., 0.],\n",
       "        [1., 1.],\n",
       "        [1., 1.],\n",
       "        [0., 0.],\n",
       "        [0., 0.],\n",
       "        [0., 0.],\n",
       "        [1., 1.],\n",
       "        [0., 0.],\n",
       "        [0., 0.],\n",
       "        [0., 0.],\n",
       "        [1., 1.],\n",
       "        [0., 0.],\n",
       "        [0., 0.],\n",
       "        [1., 1.],\n",
       "        [1., 1.],\n",
       "        [1., 1.],\n",
       "        [0., 0.],\n",
       "        [1., 1.],\n",
       "        [1., 1.],\n",
       "        [1., 1.],\n",
       "        [0., 0.],\n",
       "        [0., 0.],\n",
       "        [0., 0.],\n",
       "        [0., 0.],\n",
       "        [1., 1.],\n",
       "        [1., 1.],\n",
       "        [0., 0.],\n",
       "        [1., 1.],\n",
       "        [1., 1.],\n",
       "        [1., 1.],\n",
       "        [1., 1.],\n",
       "        [0., 0.],\n",
       "        [0., 0.],\n",
       "        [1., 1.],\n",
       "        [0., 0.],\n",
       "        [1., 1.],\n",
       "        [0., 0.],\n",
       "        [1., 1.],\n",
       "        [0., 0.],\n",
       "        [1., 1.],\n",
       "        [0., 0.],\n",
       "        [0., 0.],\n",
       "        [0., 0.],\n",
       "        [0., 0.],\n",
       "        [0., 0.],\n",
       "        [1., 1.],\n",
       "        [1., 1.],\n",
       "        [1., 1.],\n",
       "        [1., 1.],\n",
       "        [1., 1.],\n",
       "        [1., 1.],\n",
       "        [0., 0.],\n",
       "        [0., 0.],\n",
       "        [1., 1.],\n",
       "        [0., 0.],\n",
       "        [0., 0.],\n",
       "        [1., 1.],\n",
       "        [1., 1.],\n",
       "        [1., 1.],\n",
       "        [0., 0.],\n",
       "        [0., 0.],\n",
       "        [0., 0.],\n",
       "        [1., 1.],\n",
       "        [1., 1.],\n",
       "        [0., 0.],\n",
       "        [0., 0.],\n",
       "        [0., 0.],\n",
       "        [0., 0.],\n",
       "        [0., 0.],\n",
       "        [0., 0.],\n",
       "        [0., 0.],\n",
       "        [1., 1.],\n",
       "        [0., 0.],\n",
       "        [0., 0.],\n",
       "        [0., 0.],\n",
       "        [0., 0.],\n",
       "        [1., 1.],\n",
       "        [0., 0.],\n",
       "        [0., 0.],\n",
       "        [1., 1.],\n",
       "        [0., 0.],\n",
       "        [0., 0.],\n",
       "        [0., 0.],\n",
       "        [0., 0.],\n",
       "        [0., 0.],\n",
       "        [1., 1.],\n",
       "        [0., 0.],\n",
       "        [0., 0.],\n",
       "        [1., 1.],\n",
       "        [1., 1.],\n",
       "        [1., 1.],\n",
       "        [0., 0.],\n",
       "        [1., 1.],\n",
       "        [1., 1.],\n",
       "        [1., 1.],\n",
       "        [1., 1.],\n",
       "        [1., 1.],\n",
       "        [1., 1.],\n",
       "        [1., 1.],\n",
       "        [0., 0.],\n",
       "        [1., 1.],\n",
       "        [1., 1.],\n",
       "        [0., 0.],\n",
       "        [1., 1.],\n",
       "        [1., 1.],\n",
       "        [1., 1.],\n",
       "        [1., 1.],\n",
       "        [0., 0.],\n",
       "        [1., 1.],\n",
       "        [1., 1.],\n",
       "        [1., 1.],\n",
       "        [1., 1.],\n",
       "        [0., 0.],\n",
       "        [0., 0.],\n",
       "        [1., 1.],\n",
       "        [0., 0.],\n",
       "        [1., 1.],\n",
       "        [0., 0.],\n",
       "        [1., 1.],\n",
       "        [0., 0.],\n",
       "        [0., 0.],\n",
       "        [1., 1.],\n",
       "        [0., 0.],\n",
       "        [0., 0.],\n",
       "        [1., 1.],\n",
       "        [1., 1.],\n",
       "        [1., 1.],\n",
       "        [0., 0.],\n",
       "        [0., 0.],\n",
       "        [1., 1.],\n",
       "        [1., 1.],\n",
       "        [0., 0.],\n",
       "        [1., 1.],\n",
       "        [1., 1.],\n",
       "        [0., 0.],\n",
       "        [1., 1.],\n",
       "        [0., 0.],\n",
       "        [1., 1.],\n",
       "        [1., 1.],\n",
       "        [0., 0.],\n",
       "        [0., 0.],\n",
       "        [0., 0.],\n",
       "        [0., 0.],\n",
       "        [0., 0.],\n",
       "        [0., 0.],\n",
       "        [0., 0.],\n",
       "        [1., 1.],\n",
       "        [1., 1.],\n",
       "        [1., 1.],\n",
       "        [1., 1.],\n",
       "        [0., 0.],\n",
       "        [0., 0.],\n",
       "        [0., 0.],\n",
       "        [0., 0.],\n",
       "        [0., 0.],\n",
       "        [1., 1.],\n",
       "        [0., 0.],\n",
       "        [1., 1.],\n",
       "        [0., 0.],\n",
       "        [1., 1.],\n",
       "        [0., 0.],\n",
       "        [1., 1.],\n",
       "        [0., 0.],\n",
       "        [1., 1.],\n",
       "        [1., 1.],\n",
       "        [0., 0.],\n",
       "        [0., 0.],\n",
       "        [1., 1.],\n",
       "        [0., 0.],\n",
       "        [0., 0.],\n",
       "        [0., 0.],\n",
       "        [0., 0.],\n",
       "        [1., 1.],\n",
       "        [0., 0.],\n",
       "        [1., 1.],\n",
       "        [1., 1.],\n",
       "        [0., 0.],\n",
       "        [0., 0.],\n",
       "        [1., 1.],\n",
       "        [0., 0.],\n",
       "        [1., 1.],\n",
       "        [0., 0.],\n",
       "        [0., 0.],\n",
       "        [1., 1.],\n",
       "        [0., 0.],\n",
       "        [0., 0.],\n",
       "        [1., 1.],\n",
       "        [0., 0.],\n",
       "        [0., 0.],\n",
       "        [1., 1.],\n",
       "        [0., 0.],\n",
       "        [0., 0.],\n",
       "        [1., 1.],\n",
       "        [1., 1.],\n",
       "        [0., 0.]])"
      ]
     },
     "execution_count": 163,
     "metadata": {},
     "output_type": "execute_result"
    }
   ],
   "source": [
    "torch.stack((x_batch_pred, y_batch)).squeeze().T"
   ]
  },
  {
   "cell_type": "markdown",
   "metadata": {},
   "source": [
    "We get 100% accuracy with this simple model!"
   ]
  },
  {
   "cell_type": "code",
   "execution_count": 164,
   "metadata": {},
   "outputs": [],
   "source": [
    "# loss_fct(x_batch_pred, y_batch)"
   ]
  },
  {
   "cell_type": "code",
   "execution_count": 165,
   "metadata": {},
   "outputs": [
    {
     "data": {
      "text/plain": [
       "tensor(1.)"
      ]
     },
     "execution_count": 165,
     "metadata": {},
     "output_type": "execute_result"
    }
   ],
   "source": [
    "accuracy_fct(x_batch_pred, y_batch)"
   ]
  },
  {
   "cell_type": "code",
   "execution_count": 34,
   "metadata": {},
   "outputs": [],
   "source": [
    "# net = nn.Sequential(\n",
    "#     nn.Conv2d(5, 64, stride = 1, kernel_size = 5, padding = 2),\n",
    "#     nn.AdaptiveMaxPool2d(1),\n",
    "#     Flatten(),\n",
    "#     nn.Linear(64, 64),\n",
    "#     nn.ReLU(),\n",
    "#     nn.Linear(64, 1),\n",
    "# )"
   ]
  },
  {
   "cell_type": "code",
   "execution_count": 35,
   "metadata": {},
   "outputs": [],
   "source": [
    "# net = nn.Sequential(\n",
    "#     nn.Conv2d(5, 30, stride = 1, kernel_size = 3, padding = 1),\n",
    "#     nn.ReLU(),\n",
    "#     nn.Conv2d(30, 60, stride = 1, kernel_size = 3, padding = 1),\n",
    "#     nn.ReLU(),\n",
    "#     nn.Conv2d(60, 120, stride = 1, kernel_size = 3, padding = 1),\n",
    "#     nn.ReLU(),\n",
    "#     nn.AdaptiveAvgPool2d(1),\n",
    "#     Flatten(),\n",
    "#     nn.Linear(120, 1),\n",
    "# )"
   ]
  },
  {
   "cell_type": "markdown",
   "metadata": {},
   "source": [
    "For a trainable model to reach the same result, one should probably have more parameters:"
   ]
  },
  {
   "cell_type": "code",
   "execution_count": 167,
   "metadata": {},
   "outputs": [],
   "source": [
    "net = nn.Sequential(\n",
    "    nn.Conv2d(5, 64, stride = 1, kernel_size = 5, padding = 2),\n",
    "    nn.ReLU(),\n",
    "    nn.AdaptiveMaxPool2d(1),\n",
    "    Flatten(),\n",
    "    nn.Linear(64, 128),\n",
    "    nn.ReLU(),\n",
    "    nn.Linear(128, 1)\n",
    ")"
   ]
  },
  {
   "cell_type": "markdown",
   "metadata": {},
   "source": [
    "Still, this does not seem to work... so let's try another model that seems more \"trainable\" (i.e. it does not require finding complicated patterns in the first layer):"
   ]
  },
  {
   "cell_type": "code",
   "execution_count": 172,
   "metadata": {},
   "outputs": [],
   "source": [
    "net = nn.Sequential(\n",
    "    # stem: use 3 layers with 3x3 kernel, and quite a few parameters\n",
    "    nn.Conv2d(5, 32, stride = 1, kernel_size = 3, padding = 1),\n",
    "    nn.ReLU(),\n",
    "    nn.Conv2d(32, 128, stride = 1, kernel_size = 3, padding = 1),\n",
    "    nn.ReLU(),\n",
    "    nn.Conv2d(128, 512, stride = 1, kernel_size = 3, padding = 1),\n",
    "    nn.ReLU(),\n",
    "    # flattening\n",
    "    nn.AdaptiveMaxPool2d(1),\n",
    "    Flatten(),\n",
    "    # another couple of linear layers to perform basic operations\n",
    "    nn.Linear(512, 256),\n",
    "    nn.ReLU(),\n",
    "    nn.Linear(256, 128),\n",
    "    nn.ReLU(),\n",
    "    nn.Linear(128, 64),\n",
    "    nn.ReLU(),\n",
    "    nn.Linear(64, 1)\n",
    ")"
   ]
  },
  {
   "cell_type": "markdown",
   "metadata": {},
   "source": [
    "## Training"
   ]
  },
  {
   "cell_type": "code",
   "execution_count": 173,
   "metadata": {},
   "outputs": [],
   "source": [
    "learn = Learner(dls, net, loss_func = nn.BCEWithLogitsLoss(),\n",
    "                #loss_func = nn.MSELoss(),\n",
    "                metrics = accuracy_fct,\n",
    "                cbs = ActivationStats(with_hist = True))"
   ]
  },
  {
   "cell_type": "code",
   "execution_count": 95,
   "metadata": {},
   "outputs": [],
   "source": [
    "# learn.summary()"
   ]
  },
  {
   "cell_type": "code",
   "execution_count": 174,
   "metadata": {},
   "outputs": [
    {
     "data": {
      "text/html": [],
      "text/plain": [
       "<IPython.core.display.HTML object>"
      ]
     },
     "metadata": {},
     "output_type": "display_data"
    },
    {
     "data": {
      "text/plain": [
       "SuggestedLRs(lr_min=0.0002511886414140463, lr_steep=0.013182567432522774)"
      ]
     },
     "execution_count": 174,
     "metadata": {},
     "output_type": "execute_result"
    },
    {
     "data": {
      "image/png": "[encoded data removed]",
      "text/plain": [
       "<Figure size 432x288 with 1 Axes>"
      ]
     },
     "metadata": {
      "needs_background": "light"
     },
     "output_type": "display_data"
    }
   ],
   "source": [
    "learn.lr_find()"
   ]
  },
  {
   "cell_type": "code",
   "execution_count": 176,
   "metadata": {},
   "outputs": [
    {
     "data": {
      "text/html": [
       "<table border=\"1\" class=\"dataframe\">\n",
       "  <thead>\n",
       "    <tr style=\"text-align: left;\">\n",
       "      <th>epoch</th>\n",
       "      <th>train_loss</th>\n",
       "      <th>valid_loss</th>\n",
       "      <th>accuracy_fct</th>\n",
       "      <th>time</th>\n",
       "    </tr>\n",
       "  </thead>\n",
       "  <tbody>\n",
       "    <tr>\n",
       "      <td>0</td>\n",
       "      <td>0.649412</td>\n",
       "      <td>0.612274</td>\n",
       "      <td>0.656500</td>\n",
       "      <td>03:32</td>\n",
       "    </tr>\n",
       "    <tr>\n",
       "      <td>1</td>\n",
       "      <td>0.623463</td>\n",
       "      <td>0.619536</td>\n",
       "      <td>0.671250</td>\n",
       "      <td>03:31</td>\n",
       "    </tr>\n",
       "    <tr>\n",
       "      <td>2</td>\n",
       "      <td>0.597636</td>\n",
       "      <td>0.564291</td>\n",
       "      <td>0.684000</td>\n",
       "      <td>03:26</td>\n",
       "    </tr>\n",
       "    <tr>\n",
       "      <td>3</td>\n",
       "      <td>0.536469</td>\n",
       "      <td>0.534466</td>\n",
       "      <td>0.709500</td>\n",
       "      <td>03:27</td>\n",
       "    </tr>\n",
       "    <tr>\n",
       "      <td>4</td>\n",
       "      <td>0.446171</td>\n",
       "      <td>0.419329</td>\n",
       "      <td>0.806500</td>\n",
       "      <td>03:27</td>\n",
       "    </tr>\n",
       "    <tr>\n",
       "      <td>5</td>\n",
       "      <td>0.344152</td>\n",
       "      <td>0.278483</td>\n",
       "      <td>0.882000</td>\n",
       "      <td>03:26</td>\n",
       "    </tr>\n",
       "    <tr>\n",
       "      <td>6</td>\n",
       "      <td>0.255832</td>\n",
       "      <td>0.223448</td>\n",
       "      <td>0.914250</td>\n",
       "      <td>03:28</td>\n",
       "    </tr>\n",
       "    <tr>\n",
       "      <td>7</td>\n",
       "      <td>0.199831</td>\n",
       "      <td>0.225180</td>\n",
       "      <td>0.914000</td>\n",
       "      <td>03:44</td>\n",
       "    </tr>\n",
       "    <tr>\n",
       "      <td>8</td>\n",
       "      <td>0.166875</td>\n",
       "      <td>0.211938</td>\n",
       "      <td>0.921000</td>\n",
       "      <td>03:40</td>\n",
       "    </tr>\n",
       "    <tr>\n",
       "      <td>9</td>\n",
       "      <td>0.149248</td>\n",
       "      <td>0.217293</td>\n",
       "      <td>0.918500</td>\n",
       "      <td>03:37</td>\n",
       "    </tr>\n",
       "  </tbody>\n",
       "</table>"
      ],
      "text/plain": [
       "<IPython.core.display.HTML object>"
      ]
     },
     "metadata": {},
     "output_type": "display_data"
    }
   ],
   "source": [
    "learn.fit_one_cycle(10, lr_max = 1.0e-2)"
   ]
  },
  {
   "cell_type": "code",
   "execution_count": 177,
   "metadata": {},
   "outputs": [
    {
     "data": {
      "image/png": "[encoded data removed]",
      "text/plain": [
       "<Figure size 864x216 with 3 Axes>"
      ]
     },
     "metadata": {
      "needs_background": "light"
     },
     "output_type": "display_data"
    }
   ],
   "source": [
    "learn.activation_stats.plot_layer_stats(0)"
   ]
  },
  {
   "cell_type": "code",
   "execution_count": 178,
   "metadata": {},
   "outputs": [
    {
     "data": {
      "image/png": "[encoded data removed]",
      "text/plain": [
       "<Figure size 864x216 with 3 Axes>"
      ]
     },
     "metadata": {
      "needs_background": "light"
     },
     "output_type": "display_data"
    }
   ],
   "source": [
    "learn.activation_stats.plot_layer_stats(-2)"
   ]
  },
  {
   "cell_type": "code",
   "execution_count": 179,
   "metadata": {},
   "outputs": [
    {
     "data": {
      "image/png": "[encoded data removed]",
      "text/plain": [
       "<Figure size 720x360 with 1 Axes>"
      ]
     },
     "metadata": {
      "needs_background": "light"
     },
     "output_type": "display_data"
    }
   ],
   "source": [
    "learn.activation_stats.color_dim(0)"
   ]
  },
  {
   "cell_type": "code",
   "execution_count": 180,
   "metadata": {},
   "outputs": [
    {
     "data": {
      "image/png": "[encoded data removed]",
      "text/plain": [
       "<Figure size 720x360 with 1 Axes>"
      ]
     },
     "metadata": {
      "needs_background": "light"
     },
     "output_type": "display_data"
    }
   ],
   "source": [
    "learn.activation_stats.color_dim(-2)"
   ]
  },
  {
   "cell_type": "code",
   "execution_count": 125,
   "metadata": {},
   "outputs": [],
   "source": [
    "# learn.export(fname = 'models/cross_5T_0.pkl')"
   ]
  },
  {
   "cell_type": "code",
   "execution_count": null,
   "metadata": {},
   "outputs": [],
   "source": [
    "# torch.save(net, 'models/test.pkl')"
   ]
  },
  {
   "cell_type": "markdown",
   "metadata": {},
   "source": [
    "## Inference"
   ]
  },
  {
   "cell_type": "code",
   "execution_count": 181,
   "metadata": {},
   "outputs": [],
   "source": [
    "x_valid, y_valid = dls.valid.one_batch()"
   ]
  },
  {
   "cell_type": "code",
   "execution_count": 182,
   "metadata": {},
   "outputs": [
    {
     "data": {
      "image/png": "[encoded data removed]",
      "text/plain": [
       "<PIL.Image.Image image mode=1 size=52x52 at 0x7F3F58DF1E80>"
      ]
     },
     "execution_count": 182,
     "metadata": {},
     "output_type": "execute_result"
    }
   ],
   "source": [
    "visualize(x_valid[0])"
   ]
  },
  {
   "cell_type": "code",
   "execution_count": 183,
   "metadata": {},
   "outputs": [
    {
     "data": {
      "text/plain": [
       "tensor([0.])"
      ]
     },
     "execution_count": 183,
     "metadata": {},
     "output_type": "execute_result"
    }
   ],
   "source": [
    "y_valid[0]"
   ]
  },
  {
   "cell_type": "code",
   "execution_count": 184,
   "metadata": {},
   "outputs": [],
   "source": [
    "y_preds = net(x_valid).data"
   ]
  },
  {
   "cell_type": "code",
   "execution_count": 185,
   "metadata": {},
   "outputs": [
    {
     "data": {
      "text/plain": [
       "tensor(0.9050)"
      ]
     },
     "execution_count": 185,
     "metadata": {},
     "output_type": "execute_result"
    }
   ],
   "source": [
    "accuracy_fct(y_preds, y_valid)"
   ]
  },
  {
   "cell_type": "code",
   "execution_count": 186,
   "metadata": {},
   "outputs": [
    {
     "data": {
      "text/plain": [
       "tensor(6.0471)"
      ]
     },
     "execution_count": 186,
     "metadata": {},
     "output_type": "execute_result"
    }
   ],
   "source": [
    "y_preds.mean()"
   ]
  },
  {
   "cell_type": "code",
   "execution_count": 189,
   "metadata": {},
   "outputs": [
    {
     "data": {
      "text/plain": [
       "tensor([[0.1385],\n",
       "        [0.0995],\n",
       "        [0.0159],\n",
       "        [1.0000],\n",
       "        [1.0000],\n",
       "        [1.0000],\n",
       "        [0.0584],\n",
       "        [0.0397],\n",
       "        [0.0421],\n",
       "        [1.0000],\n",
       "        [1.0000],\n",
       "        [0.3881],\n",
       "        [1.0000],\n",
       "        [0.0303],\n",
       "        [0.7005],\n",
       "        [1.0000],\n",
       "        [0.0170],\n",
       "        [1.0000],\n",
       "        [0.0350],\n",
       "        [0.2142],\n",
       "        [1.0000],\n",
       "        [0.9992],\n",
       "        [0.0940],\n",
       "        [1.0000],\n",
       "        [0.3870],\n",
       "        [1.0000],\n",
       "        [0.9288],\n",
       "        [0.4025],\n",
       "        [0.0599],\n",
       "        [0.9992],\n",
       "        [0.0869],\n",
       "        [0.1312],\n",
       "        [0.0173],\n",
       "        [0.9333],\n",
       "        [0.8743],\n",
       "        [0.1254],\n",
       "        [1.0000],\n",
       "        [0.2174],\n",
       "        [0.3170],\n",
       "        [0.9015],\n",
       "        [0.0767],\n",
       "        [0.1552],\n",
       "        [0.1088],\n",
       "        [1.0000],\n",
       "        [1.0000],\n",
       "        [0.9999],\n",
       "        [0.9989],\n",
       "        [1.0000],\n",
       "        [1.0000],\n",
       "        [1.0000],\n",
       "        [0.0895],\n",
       "        [0.1021],\n",
       "        [0.1756],\n",
       "        [0.0169],\n",
       "        [0.0917],\n",
       "        [0.1116],\n",
       "        [0.0145],\n",
       "        [0.0766],\n",
       "        [0.0511],\n",
       "        [0.0146],\n",
       "        [0.9997],\n",
       "        [1.0000],\n",
       "        [0.9992],\n",
       "        [1.0000],\n",
       "        [1.0000],\n",
       "        [1.0000],\n",
       "        [0.0661],\n",
       "        [0.0145],\n",
       "        [0.9999],\n",
       "        [0.9999],\n",
       "        [1.0000],\n",
       "        [0.8497],\n",
       "        [0.0134],\n",
       "        [0.0174],\n",
       "        [1.0000],\n",
       "        [0.0804],\n",
       "        [0.1651],\n",
       "        [0.0255],\n",
       "        [0.0966],\n",
       "        [0.1321],\n",
       "        [0.0223],\n",
       "        [0.8928],\n",
       "        [1.0000],\n",
       "        [0.0144],\n",
       "        [1.0000],\n",
       "        [1.0000],\n",
       "        [1.0000],\n",
       "        [0.0092],\n",
       "        [0.1739],\n",
       "        [0.3138],\n",
       "        [1.0000],\n",
       "        [1.0000],\n",
       "        [1.0000],\n",
       "        [0.6034],\n",
       "        [1.0000],\n",
       "        [0.0316],\n",
       "        [0.1158],\n",
       "        [0.0608],\n",
       "        [0.0051],\n",
       "        [0.9997],\n",
       "        [0.9999],\n",
       "        [1.0000],\n",
       "        [0.0177],\n",
       "        [1.0000],\n",
       "        [0.0602],\n",
       "        [0.9996],\n",
       "        [0.2542],\n",
       "        [1.0000],\n",
       "        [0.0067],\n",
       "        [0.0471],\n",
       "        [0.9995],\n",
       "        [0.1114],\n",
       "        [0.0202],\n",
       "        [0.2056],\n",
       "        [1.0000],\n",
       "        [0.0654],\n",
       "        [1.0000],\n",
       "        [0.0069],\n",
       "        [0.0289],\n",
       "        [0.9993],\n",
       "        [0.0567],\n",
       "        [0.0408],\n",
       "        [0.2778],\n",
       "        [0.0202],\n",
       "        [0.0618],\n",
       "        [0.0723],\n",
       "        [0.4779],\n",
       "        [0.1550],\n",
       "        [0.9999],\n",
       "        [0.0676],\n",
       "        [1.0000],\n",
       "        [0.0091],\n",
       "        [0.0603],\n",
       "        [0.0377],\n",
       "        [0.0633],\n",
       "        [0.9161],\n",
       "        [0.0055],\n",
       "        [1.0000],\n",
       "        [0.9999],\n",
       "        [0.1410],\n",
       "        [0.1443],\n",
       "        [0.9525],\n",
       "        [0.0889],\n",
       "        [0.1116],\n",
       "        [1.0000],\n",
       "        [1.0000],\n",
       "        [0.0553],\n",
       "        [1.0000],\n",
       "        [0.0072],\n",
       "        [1.0000],\n",
       "        [1.0000],\n",
       "        [1.0000],\n",
       "        [1.0000],\n",
       "        [0.0208],\n",
       "        [0.0468],\n",
       "        [1.0000],\n",
       "        [0.9992],\n",
       "        [0.1233],\n",
       "        [1.0000],\n",
       "        [0.0487],\n",
       "        [0.0185],\n",
       "        [1.0000],\n",
       "        [0.0542],\n",
       "        [1.0000],\n",
       "        [0.0829],\n",
       "        [0.1453],\n",
       "        [1.0000],\n",
       "        [0.9999],\n",
       "        [1.0000],\n",
       "        [0.0275],\n",
       "        [0.0403],\n",
       "        [0.1700],\n",
       "        [0.1411],\n",
       "        [0.1129],\n",
       "        [0.0358],\n",
       "        [0.2072],\n",
       "        [0.0864],\n",
       "        [1.0000],\n",
       "        [0.0808],\n",
       "        [0.9991],\n",
       "        [0.0604],\n",
       "        [0.0828],\n",
       "        [1.0000],\n",
       "        [0.4580],\n",
       "        [0.0343],\n",
       "        [1.0000],\n",
       "        [0.9903],\n",
       "        [0.0998],\n",
       "        [1.0000],\n",
       "        [0.0218],\n",
       "        [0.0603],\n",
       "        [0.0843],\n",
       "        [0.0623],\n",
       "        [0.0245],\n",
       "        [1.0000],\n",
       "        [0.0441],\n",
       "        [1.0000],\n",
       "        [0.0321],\n",
       "        [0.0414],\n",
       "        [1.0000]])"
      ]
     },
     "execution_count": 189,
     "metadata": {},
     "output_type": "execute_result"
    }
   ],
   "source": [
    "1/(1 + torch.exp(-y_preds))"
   ]
  },
  {
   "cell_type": "code",
   "execution_count": 187,
   "metadata": {},
   "outputs": [
    {
     "data": {
      "text/plain": [
       "tensor(12.6473)"
      ]
     },
     "execution_count": 187,
     "metadata": {},
     "output_type": "execute_result"
    }
   ],
   "source": [
    "y_preds.std()"
   ]
  },
  {
   "cell_type": "code",
   "execution_count": 188,
   "metadata": {},
   "outputs": [
    {
     "data": {
      "text/plain": [
       "tensor([[-1.8278,  0.0000],\n",
       "        [-2.2029,  0.0000],\n",
       "        [-4.1257,  0.0000],\n",
       "        [11.3169,  1.0000],\n",
       "        [17.2497,  1.0000],\n",
       "        [13.5975,  1.0000],\n",
       "        [-2.7796,  0.0000],\n",
       "        [-3.1855,  0.0000],\n",
       "        [-3.1243,  0.0000],\n",
       "        [17.7338,  1.0000],\n",
       "        [18.0145,  1.0000],\n",
       "        [-0.4554,  0.0000],\n",
       "        [17.5152,  1.0000],\n",
       "        [-3.4665,  0.0000],\n",
       "        [ 0.8498,  1.0000],\n",
       "        [42.7035,  1.0000],\n",
       "        [-4.0595,  0.0000],\n",
       "        [32.1728,  1.0000],\n",
       "        [-3.3164,  0.0000],\n",
       "        [-1.3001,  0.0000],\n",
       "        [17.3616,  1.0000],\n",
       "        [ 7.1617,  1.0000],\n",
       "        [-2.2654,  0.0000],\n",
       "        [27.0682,  1.0000],\n",
       "        [-0.4599,  1.0000],\n",
       "        [16.0702,  1.0000],\n",
       "        [ 2.5683,  1.0000],\n",
       "        [-0.3951,  0.0000],\n",
       "        [-2.7538,  0.0000],\n",
       "        [ 7.0824,  1.0000],\n",
       "        [-2.3516,  1.0000],\n",
       "        [-1.8907,  0.0000],\n",
       "        [-4.0378,  0.0000],\n",
       "        [ 2.6385,  1.0000],\n",
       "        [ 1.9396,  0.0000],\n",
       "        [-1.9425,  0.0000],\n",
       "        [23.8620,  1.0000],\n",
       "        [-1.2811,  0.0000],\n",
       "        [-0.7674,  0.0000],\n",
       "        [ 2.2138,  0.0000],\n",
       "        [-2.4875,  0.0000],\n",
       "        [-1.6944,  1.0000],\n",
       "        [-2.1028,  0.0000],\n",
       "        [30.6295,  1.0000],\n",
       "        [21.9892,  1.0000],\n",
       "        [ 8.8984,  1.0000],\n",
       "        [ 6.8295,  1.0000],\n",
       "        [23.7831,  1.0000],\n",
       "        [24.4778,  1.0000],\n",
       "        [41.3894,  1.0000],\n",
       "        [-2.3197,  0.0000],\n",
       "        [-2.1742,  0.0000],\n",
       "        [-1.5467,  1.0000],\n",
       "        [-4.0649,  0.0000],\n",
       "        [-2.2935,  0.0000],\n",
       "        [-2.0746,  0.0000],\n",
       "        [-4.2175,  0.0000],\n",
       "        [-2.4889,  0.0000],\n",
       "        [-2.9212,  0.0000],\n",
       "        [-4.2110,  1.0000],\n",
       "        [ 8.2170,  1.0000],\n",
       "        [44.1426,  1.0000],\n",
       "        [ 7.1781,  1.0000],\n",
       "        [11.5014,  1.0000],\n",
       "        [14.7100,  1.0000],\n",
       "        [14.6023,  1.0000],\n",
       "        [-2.6478,  0.0000],\n",
       "        [-4.2224,  0.0000],\n",
       "        [ 9.2216,  1.0000],\n",
       "        [ 9.8978,  1.0000],\n",
       "        [24.1887,  1.0000],\n",
       "        [ 1.7320,  1.0000],\n",
       "        [-4.2960,  0.0000],\n",
       "        [-4.0363,  0.0000],\n",
       "        [16.7075,  1.0000],\n",
       "        [-2.4375,  0.0000],\n",
       "        [-1.6210,  0.0000],\n",
       "        [-3.6418,  0.0000],\n",
       "        [-2.2353,  0.0000],\n",
       "        [-1.8824,  1.0000],\n",
       "        [-3.7824,  0.0000],\n",
       "        [ 2.1200,  1.0000],\n",
       "        [19.8045,  1.0000],\n",
       "        [-4.2260,  0.0000],\n",
       "        [17.4313,  1.0000],\n",
       "        [12.4178,  1.0000],\n",
       "        [37.6233,  1.0000],\n",
       "        [-4.6757,  1.0000],\n",
       "        [-1.5583,  0.0000],\n",
       "        [-0.7824,  0.0000],\n",
       "        [16.1762,  1.0000],\n",
       "        [37.1400,  1.0000],\n",
       "        [20.1653,  1.0000],\n",
       "        [ 0.4195,  1.0000],\n",
       "        [17.4004,  1.0000],\n",
       "        [-3.4237,  1.0000],\n",
       "        [-2.0328,  0.0000],\n",
       "        [-2.7383,  0.0000],\n",
       "        [-5.2694,  0.0000],\n",
       "        [ 8.0430,  1.0000],\n",
       "        [ 9.6973,  1.0000],\n",
       "        [29.2650,  1.0000],\n",
       "        [-4.0137,  0.0000],\n",
       "        [17.7501,  1.0000],\n",
       "        [-2.7472,  0.0000],\n",
       "        [ 7.9448,  1.0000],\n",
       "        [-1.0762,  0.0000],\n",
       "        [14.7609,  1.0000],\n",
       "        [-5.0024,  0.0000],\n",
       "        [-3.0077,  0.0000],\n",
       "        [ 7.6022,  1.0000],\n",
       "        [-2.0763,  0.0000],\n",
       "        [-3.8837,  0.0000],\n",
       "        [-1.3514,  0.0000],\n",
       "        [11.2094,  1.0000],\n",
       "        [-2.6592,  0.0000],\n",
       "        [43.0074,  1.0000],\n",
       "        [-4.9663,  0.0000],\n",
       "        [-3.5140,  1.0000],\n",
       "        [ 7.3127,  1.0000],\n",
       "        [-2.8116,  0.0000],\n",
       "        [-3.1565,  0.0000],\n",
       "        [-0.9555,  0.0000],\n",
       "        [-3.8814,  0.0000],\n",
       "        [-2.7205,  0.0000],\n",
       "        [-2.5517,  0.0000],\n",
       "        [-0.0883,  0.0000],\n",
       "        [-1.6959,  1.0000],\n",
       "        [ 9.0020,  1.0000],\n",
       "        [-2.6240,  0.0000],\n",
       "        [19.0857,  1.0000],\n",
       "        [-4.6940,  0.0000],\n",
       "        [-2.7459,  0.0000],\n",
       "        [-3.2396,  0.0000],\n",
       "        [-2.6938,  0.0000],\n",
       "        [ 2.3905,  1.0000],\n",
       "        [-5.1987,  0.0000],\n",
       "        [23.5446,  1.0000],\n",
       "        [ 9.0387,  1.0000],\n",
       "        [-1.8073,  1.0000],\n",
       "        [-1.7804,  1.0000],\n",
       "        [ 2.9979,  1.0000],\n",
       "        [-2.3273,  0.0000],\n",
       "        [-2.0743,  0.0000],\n",
       "        [22.2570,  1.0000],\n",
       "        [36.2416,  1.0000],\n",
       "        [-2.8390,  0.0000],\n",
       "        [19.2679,  1.0000],\n",
       "        [-4.9302,  0.0000],\n",
       "        [17.7897,  1.0000],\n",
       "        [17.4513,  1.0000],\n",
       "        [14.4607,  1.0000],\n",
       "        [35.9093,  1.0000],\n",
       "        [-3.8507,  0.0000],\n",
       "        [-3.0130,  0.0000],\n",
       "        [35.9615,  1.0000],\n",
       "        [ 7.0732,  1.0000],\n",
       "        [-1.9613,  0.0000],\n",
       "        [49.7392,  1.0000],\n",
       "        [-2.9719,  0.0000],\n",
       "        [-3.9687,  0.0000],\n",
       "        [37.7066,  1.0000],\n",
       "        [-2.8601,  0.0000],\n",
       "        [10.4737,  1.0000],\n",
       "        [-2.4038,  1.0000],\n",
       "        [-1.7717,  0.0000],\n",
       "        [22.0295,  1.0000],\n",
       "        [ 9.4413,  1.0000],\n",
       "        [14.5735,  1.0000],\n",
       "        [-3.5640,  0.0000],\n",
       "        [-3.1707,  0.0000],\n",
       "        [-1.5853,  0.0000],\n",
       "        [-1.8058,  0.0000],\n",
       "        [-2.0614,  0.0000],\n",
       "        [-3.2942,  0.0000],\n",
       "        [-1.3419,  0.0000],\n",
       "        [-2.3579,  0.0000],\n",
       "        [39.3937,  1.0000],\n",
       "        [-2.4321,  0.0000],\n",
       "        [ 6.9767,  1.0000],\n",
       "        [-2.7444,  0.0000],\n",
       "        [-2.4050,  0.0000],\n",
       "        [15.8513,  1.0000],\n",
       "        [-0.1686,  1.0000],\n",
       "        [-3.3387,  0.0000],\n",
       "        [13.7543,  1.0000],\n",
       "        [ 4.6225,  1.0000],\n",
       "        [-2.1997,  0.0000],\n",
       "        [19.8526,  1.0000],\n",
       "        [-3.8016,  0.0000],\n",
       "        [-2.7463,  1.0000],\n",
       "        [-2.3848,  1.0000],\n",
       "        [-2.7122,  0.0000],\n",
       "        [-3.6837,  0.0000],\n",
       "        [18.5050,  1.0000],\n",
       "        [-3.0751,  1.0000],\n",
       "        [22.7137,  1.0000],\n",
       "        [-3.4063,  0.0000],\n",
       "        [-3.1413,  0.0000],\n",
       "        [22.2339,  1.0000]])"
      ]
     },
     "execution_count": 188,
     "metadata": {},
     "output_type": "execute_result"
    }
   ],
   "source": [
    "torch.stack((y_preds.squeeze(), y_valid.squeeze())).T"
   ]
  },
  {
   "cell_type": "code",
   "execution_count": null,
   "metadata": {},
   "outputs": [],
   "source": []
  }
 ],
 "metadata": {
  "kernelspec": {
   "display_name": "Python 3",
   "language": "python",
   "name": "python3"
  },
  "language_info": {
   "codemirror_mode": {
    "name": "ipython",
    "version": 3
   },
   "file_extension": ".py",
   "mimetype": "text/x-python",
   "name": "python",
   "nbconvert_exporter": "python",
   "pygments_lexer": "ipython3",
   "version": "3.8.5"
  }
 },
 "nbformat": 4,
 "nbformat_minor": 4
}
