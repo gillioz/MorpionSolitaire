{
 "cells": [
  {
   "cell_type": "markdown",
   "metadata": {},
   "source": [
    "# Morpion Solitaire: random exploration"
   ]
  },
  {
   "cell_type": "code",
   "execution_count": null,
   "metadata": {},
   "outputs": [],
   "source": [
    "import torch\n",
    "from MorpionSolitaire import *\n",
    "from tqdm.notebook import trange\n",
    "import ipywidgets as widgets"
   ]
  },
  {
   "cell_type": "code",
   "execution_count": null,
   "metadata": {},
   "outputs": [],
   "source": [
    "# from multiprocess import Pool\n",
    "# pool = Pool()"
   ]
  },
  {
   "cell_type": "markdown",
   "metadata": {},
   "source": [
    "## Model"
   ]
  },
  {
   "cell_type": "code",
   "execution_count": null,
   "metadata": {},
   "outputs": [
    {
     "data": {
      "text/plain": [
       "Sequential(\n",
       "  (0): Conv2d(1, 20, kernel_size=(3, 3), stride=(3, 3), padding=(1, 1))\n",
       "  (1): ReLU()\n",
       "  (2): Conv2d(20, 40, kernel_size=(2, 2), stride=(1, 1))\n",
       "  (3): ReLU()\n",
       "  (4): Conv2d(40, 40, kernel_size=(2, 2), stride=(1, 1))\n",
       "  (5): ReLU()\n",
       "  (6): Conv2d(40, 40, kernel_size=(2, 2), stride=(1, 1))\n",
       "  (7): ReLU()\n",
       "  (8): Conv2d(40, 40, kernel_size=(2, 2), stride=(1, 1))\n",
       "  (9): ReLU()\n",
       "  (10): AdaptiveAvgPool2d(output_size=1)\n",
       "  (11): Flatten(start_dim=1, end_dim=-1)\n",
       "  (12): Linear(in_features=40, out_features=20, bias=True)\n",
       "  (13): ReLU()\n",
       "  (14): Linear(in_features=20, out_features=10, bias=True)\n",
       "  (15): ReLU()\n",
       "  (16): Linear(in_features=10, out_features=1, bias=True)\n",
       ")"
      ]
     },
     "execution_count": null,
     "metadata": {},
     "output_type": "execute_result"
    }
   ],
   "source": [
    "net = torch.load('models/Descartes.pt')\n",
    "net.eval()"
   ]
  },
  {
   "cell_type": "code",
   "execution_count": null,
   "metadata": {},
   "outputs": [],
   "source": [
    "def count_moves(grids):\n",
    "    with torch.no_grad():\n",
    "        y = net(torch.tensor(grids).unsqueeze(1).float())\n",
    "    return np.array(torch.round(5.0 * y / (1.0 - y)).squeeze())"
   ]
  },
  {
   "cell_type": "markdown",
   "metadata": {},
   "source": [
    "## Game"
   ]
  },
  {
   "cell_type": "code",
   "execution_count": null,
   "metadata": {},
   "outputs": [
    {
     "data": {
      "image/png": "[encoded data removed]",
      "text/plain": [
       "<Figure size 432x432 with 1 Axes>"
      ]
     },
     "metadata": {
      "needs_background": "light"
     },
     "output_type": "display_data"
    }
   ],
   "source": [
    "game = NewGame()\n",
    "game.print()"
   ]
  },
  {
   "cell_type": "code",
   "execution_count": null,
   "metadata": {},
   "outputs": [
    {
     "data": {
      "text/plain": [
       "28"
      ]
     },
     "execution_count": null,
     "metadata": {},
     "output_type": "execute_result"
    }
   ],
   "source": [
    "len(game.moves)"
   ]
  },
  {
   "cell_type": "code",
   "execution_count": null,
   "metadata": {},
   "outputs": [
    {
     "data": {
      "text/plain": [
       "[27.0,\n",
       " 27.0,\n",
       " 26.0,\n",
       " 26.0,\n",
       " 26.0,\n",
       " 27.0,\n",
       " 27.0,\n",
       " 26.0,\n",
       " 27.0,\n",
       " 27.0,\n",
       " 27.0,\n",
       " 27.0,\n",
       " 27.0,\n",
       " 27.0,\n",
       " 27.0,\n",
       " 27.0,\n",
       " 27.0,\n",
       " 27.0,\n",
       " 27.0,\n",
       " 27.0,\n",
       " 26.0,\n",
       " 27.0,\n",
       " 27.0,\n",
       " 26.0,\n",
       " 26.0,\n",
       " 26.0,\n",
       " 27.0,\n",
       " 27.0]"
      ]
     },
     "execution_count": null,
     "metadata": {},
     "output_type": "execute_result"
    }
   ],
   "source": [
    "game.compute_weights(count_moves).tolist()"
   ]
  },
  {
   "cell_type": "code",
   "execution_count": null,
   "metadata": {},
   "outputs": [
    {
     "data": {
      "image/png": "[encoded data removed]",
      "text/plain": [
       "<Figure size 432x432 with 1 Axes>"
      ]
     },
     "metadata": {
      "needs_background": "light"
     },
     "output_type": "display_data"
    }
   ],
   "source": [
    "game = game.play(17, depth = 20)\n",
    "game.print()"
   ]
  },
  {
   "cell_type": "code",
   "execution_count": null,
   "metadata": {},
   "outputs": [
    {
     "data": {
      "text/plain": [
       "[(13, 11, 1, 0),\n",
       " (13, 13, 4, 2),\n",
       " (18, 11, 1, 4),\n",
       " (16, 16, 4, 2),\n",
       " (18, 16, 4, 2),\n",
       " (19, 13, 2, 0),\n",
       " (19, 20, 2, 4)]"
      ]
     },
     "execution_count": null,
     "metadata": {},
     "output_type": "execute_result"
    }
   ],
   "source": [
    "game.moves"
   ]
  },
  {
   "cell_type": "code",
   "execution_count": null,
   "metadata": {},
   "outputs": [
    {
     "data": {
      "text/plain": [
       "[5.0, 6.0, 5.0, 9.0, 11.0, 6.0, 5.0]"
      ]
     },
     "execution_count": null,
     "metadata": {},
     "output_type": "execute_result"
    }
   ],
   "source": [
    "game.compute_weights(count_moves).tolist()"
   ]
  },
  {
   "cell_type": "markdown",
   "metadata": {},
   "source": [
    "## Exploration"
   ]
  },
  {
   "cell_type": "code",
   "execution_count": null,
   "metadata": {},
   "outputs": [],
   "source": [
    "best_game = NewGame()"
   ]
  },
  {
   "cell_type": "code",
   "execution_count": null,
   "metadata": {},
   "outputs": [],
   "source": [
    "def play_one_game(t):\n",
    "    global best_game\n",
    "    game = NewGame().play(model = count_moves, t = t)\n",
    "    if game.score > best_game.score:\n",
    "        best_game = game\n",
    "    return game.score"
   ]
  },
  {
   "cell_type": "code",
   "execution_count": null,
   "metadata": {},
   "outputs": [],
   "source": [
    "# def play_games(t, n):\n",
    "#     args = [t for _ in range(n)]\n",
    "#     return pool.map(play_one_game, args) # does not work!"
   ]
  },
  {
   "cell_type": "code",
   "execution_count": null,
   "metadata": {},
   "outputs": [],
   "source": [
    "def play_games(t, n):\n",
    "    return [play_one_game(t) for _ in range(n)]"
   ]
  },
  {
   "cell_type": "code",
   "execution_count": null,
   "metadata": {},
   "outputs": [],
   "source": [
    "def generate_data(trange, n):\n",
    "    for t in trange:\n",
    "        new_data = play_games(t, n)\n",
    "        if str(t) in data:\n",
    "            new_data.extend(data[str(t)])\n",
    "        data[str(t)] = new_data\n",
    "    return"
   ]
  },
  {
   "cell_type": "markdown",
   "metadata": {},
   "source": [
    "Loading the data:"
   ]
  },
  {
   "cell_type": "code",
   "execution_count": null,
   "metadata": {},
   "outputs": [],
   "source": [
    "files = [\n",
    "    ('exploration_data/Descartes_10.0.npy', 10.0),\n",
    "    ('exploration_data/Descartes_1.0.npy', 1.0),\n",
    "    ('exploration_data/Descartes_0.1.npy', 0.1),\n",
    "    ('exploration_data/Descartes_0.01.npy', 0.01),\n",
    "    ('exploration_data/Descartes_0.001.npy', 0.001),\n",
    "    ('exploration_data/Descartes_0.0001.npy', 0.0001)\n",
    "]\n",
    "data = {}\n",
    "for f in files:\n",
    "    data[str(f[1])] = np.load(f[0]).tolist()"
   ]
  },
  {
   "cell_type": "code",
   "execution_count": null,
   "metadata": {},
   "outputs": [],
   "source": [
    "# generate_data([0.001, 0.01, 0.1, 1.0, 10.0], 100)"
   ]
  },
  {
   "cell_type": "code",
   "execution_count": null,
   "metadata": {},
   "outputs": [],
   "source": [
    "generate_data([0.01], 5000)"
   ]
  },
  {
   "cell_type": "markdown",
   "metadata": {},
   "source": [
    "Number of games for each value of `t`:"
   ]
  },
  {
   "cell_type": "code",
   "execution_count": null,
   "metadata": {},
   "outputs": [
    {
     "data": {
      "text/plain": [
       "[('10.0', 500),\n",
       " ('1.0', 500),\n",
       " ('0.1', 1000),\n",
       " ('0.01', 5000),\n",
       " ('0.001', 1000),\n",
       " ('0.0001', 1000)]"
      ]
     },
     "execution_count": null,
     "metadata": {},
     "output_type": "execute_result"
    }
   ],
   "source": [
    "[(t, len(data[t])) for t in data]"
   ]
  },
  {
   "cell_type": "markdown",
   "metadata": {},
   "source": [
    "Saving the data:"
   ]
  },
  {
   "cell_type": "code",
   "execution_count": null,
   "metadata": {},
   "outputs": [
    {
     "name": "stdout",
     "output_type": "stream",
     "text": [
      "exploration_data/Descartes_10.0.npy\n",
      "exploration_data/Descartes_1.0.npy\n",
      "exploration_data/Descartes_0.1.npy\n",
      "exploration_data/Descartes_0.01.npy\n",
      "exploration_data/Descartes_0.001.npy\n",
      "exploration_data/Descartes_0.0001.npy\n"
     ]
    }
   ],
   "source": [
    "for t in data:\n",
    "    file = 'exploration_data/Descartes_' + t + '.npy'\n",
    "    np.save(file, np.array(data[t]))\n",
    "    print(file)"
   ]
  },
  {
   "cell_type": "markdown",
   "metadata": {},
   "source": [
    "## Statistics"
   ]
  },
  {
   "cell_type": "code",
   "execution_count": null,
   "metadata": {},
   "outputs": [],
   "source": [
    "def mean(list):\n",
    "    return np.mean(np.array(list))\n",
    "def maximum(list):\n",
    "    return np.max(np.array(list))\n",
    "def mean_above(list, cutoff):\n",
    "    return mean([x for x in list if x >= cutoff])\n",
    "def count_above(list, cutoff):\n",
    "    return mean([x >= cutoff for x in list])"
   ]
  },
  {
   "cell_type": "code",
   "execution_count": null,
   "metadata": {},
   "outputs": [
    {
     "data": {
      "text/plain": [
       "[(10.0, 55.986),\n",
       " (1.0, 61.194),\n",
       " (0.1, 64.748),\n",
       " (0.01, 64.43),\n",
       " (0.001, 64.576),\n",
       " (0.0001, 64.448)]"
      ]
     },
     "execution_count": null,
     "metadata": {},
     "output_type": "execute_result"
    }
   ],
   "source": [
    "data_avg = [(float(t), mean(data[t])) for t in data]\n",
    "data_avg"
   ]
  },
  {
   "cell_type": "code",
   "execution_count": null,
   "metadata": {},
   "outputs": [
    {
     "data": {
      "text/plain": [
       "[(10.0, 83), (1.0, 83), (0.1, 88), (0.01, 89), (0.001, 86), (0.0001, 86)]"
      ]
     },
     "execution_count": null,
     "metadata": {},
     "output_type": "execute_result"
    }
   ],
   "source": [
    "data_max = [(float(t), maximum(data[t])) for t in data]\n",
    "data_max"
   ]
  },
  {
   "cell_type": "code",
   "execution_count": null,
   "metadata": {},
   "outputs": [
    {
     "data": {
      "text/plain": [
       "[(10.0, 0.054),\n",
       " (1.0, 0.124),\n",
       " (0.1, 0.172),\n",
       " (0.01, 0.1778),\n",
       " (0.001, 0.17),\n",
       " (0.0001, 0.18)]"
      ]
     },
     "execution_count": null,
     "metadata": {},
     "output_type": "execute_result"
    }
   ],
   "source": [
    "data_above70 = [(float(t), count_above(data[t], 70)) for t in data]\n",
    "data_above70"
   ]
  },
  {
   "cell_type": "code",
   "execution_count": null,
   "metadata": {},
   "outputs": [],
   "source": [
    "rand_dist = np.load('random_exploration_data/rand_distribution.npy')\n",
    "data_above70_random = np.sum(rand_dist[70:]) / np.sum(rand_dist)"
   ]
  },
  {
   "cell_type": "code",
   "execution_count": null,
   "metadata": {},
   "outputs": [
    {
     "data": {
      "image/png": "[encoded data removed]",
      "text/plain": [
       "<Figure size 432x288 with 1 Axes>"
      ]
     },
     "metadata": {
      "needs_background": "light"
     },
     "output_type": "display_data"
    }
   ],
   "source": [
    "plt.scatter([x[0] for x in data_above70], [x[1] for x in data_above70])\n",
    "plt.scatter(20.0, data_above70_random)\n",
    "plt.xlabel('t')\n",
    "plt.xscale('log')\n",
    "plt.xlim(0.00007, 22.0)\n",
    "plt.ylabel('Percentage of scores above 70')\n",
    "plt.ylim(0, 0.25)\n",
    "# plt.savefig('blog/Part_5_Playing_model_images/Descartes_exploration_t.png', bbox_inches='tight')\n",
    "plt.show()"
   ]
  },
  {
   "cell_type": "code",
   "execution_count": null,
   "metadata": {},
   "outputs": [
    {
     "data": {
      "image/png": "[encoded data removed]",
      "text/plain": [
       "<Figure size 432x432 with 1 Axes>"
      ]
     },
     "metadata": {
      "needs_background": "light"
     },
     "output_type": "display_data"
    }
   ],
   "source": [
    "best_game.print(view = 24)"
   ]
  },
  {
   "cell_type": "markdown",
   "metadata": {},
   "source": [
    "## Figures"
   ]
  },
  {
   "cell_type": "code",
   "execution_count": null,
   "metadata": {},
   "outputs": [],
   "source": [
    "maxscore = 100\n",
    "frequency_x = np.array(range(maxscore + 1))"
   ]
  },
  {
   "cell_type": "code",
   "execution_count": null,
   "metadata": {},
   "outputs": [],
   "source": [
    "frequency_inf = np.load('random_exploration_data/rand_distribution.npy')\n",
    "if frequency_inf.shape[0] < maxscore + 1:\n",
    "    frequency_inf = np.concatenate((frequency_inf, np.zeros(maxscore + 1 - frequency_inf.shape[0])))"
   ]
  },
  {
   "cell_type": "code",
   "execution_count": null,
   "metadata": {},
   "outputs": [],
   "source": [
    "def frequency(scores):\n",
    "    f = np.histogram(scores, bins = maxscore + 1,\n",
    "                     range = (-0.5, maxscore + 0.5))[0]\n",
    "    return f / f.sum()"
   ]
  },
  {
   "cell_type": "code",
   "execution_count": null,
   "metadata": {},
   "outputs": [],
   "source": [
    "frequency_data = {}\n",
    "for t in data:\n",
    "    frequency_data[t] = frequency(data[t])"
   ]
  },
  {
   "cell_type": "code",
   "execution_count": null,
   "metadata": {},
   "outputs": [
    {
     "data": {
      "image/png": "[encoded data removed]",
      "text/plain": [
       "<Figure size 432x288 with 1 Axes>"
      ]
     },
     "metadata": {
      "needs_background": "light"
     },
     "output_type": "display_data"
    }
   ],
   "source": [
    "plt.step(frequency_x, frequency_inf, where='mid')\n",
    "plt.step(frequency_x, frequency_data['0.01'], where='mid')\n",
    "plt.xlabel('Score')\n",
    "plt.ylabel('Frequency')\n",
    "plt.xlim(0, 90)\n",
    "plt.ylim(0, 0.12)\n",
    "# plt.savefig('blog/Part_5_Playing_model_images/Descartes_exploration_0.01.png', bbox_inches='tight')\n",
    "plt.show()"
   ]
  },
  {
   "cell_type": "code",
   "execution_count": null,
   "metadata": {},
   "outputs": [
    {
     "data": {
      "text/plain": [
       "array([0.0034, 0.0034, 0.0032, 0.0018, 0.0016, 0.0002, 0.0002, 0.0002,\n",
       "       0.0002, 0.0002, 0.    , 0.    , 0.    , 0.    , 0.    , 0.    ,\n",
       "       0.    , 0.    , 0.    , 0.    , 0.    ])"
      ]
     },
     "execution_count": null,
     "metadata": {},
     "output_type": "execute_result"
    }
   ],
   "source": [
    "frequency_data['0.01'][80:]"
   ]
  },
  {
   "cell_type": "code",
   "execution_count": null,
   "metadata": {},
   "outputs": [
    {
     "data": {
      "image/png": "[encoded data removed]",
      "text/plain": [
       "<Figure size 432x288 with 1 Axes>"
      ]
     },
     "metadata": {
      "needs_background": "light"
     },
     "output_type": "display_data"
    }
   ],
   "source": [
    "xmin, xmax = 70, 89\n",
    "plt.step(frequency_x[xmin:xmax], frequency_inf[xmin:xmax], where='mid')\n",
    "plt.step(frequency_x[xmin:xmax], frequency_data['0.01'][xmin:xmax], where='mid')\n",
    "plt.yscale('log')\n",
    "plt.xlabel('Score')\n",
    "plt.ylabel('Frequency')\n",
    "plt.xlim(xmin, xmax - 1)\n",
    "plt.ylim(0.00002, 0.2)\n",
    "# plt.savefig('blog/Part_5_Playing_model_images/Descartes_exploration_0.01_log.png', bbox_inches='tight')\n",
    "plt.show()"
   ]
  },
  {
   "cell_type": "code",
   "execution_count": null,
   "metadata": {},
   "outputs": [],
   "source": [
    "# xmin, xmax = 70, 86\n",
    "# xyfit = np.polyfit(frequency_x[xmin:xmax], np.log(frequency_inf[xmin:xmax]), 1)\n",
    "# xyfit[0], xyfit[1]"
   ]
  },
  {
   "cell_type": "code",
   "execution_count": null,
   "metadata": {},
   "outputs": [
    {
     "data": {
      "text/plain": [
       "(-0.2671010790639041, 15.520018836615215)"
      ]
     },
     "execution_count": null,
     "metadata": {},
     "output_type": "execute_result"
    }
   ],
   "source": [
    "xmin, xmax = 70, 86\n",
    "xyfit = np.polyfit(frequency_x[xmin:xmax], np.log(frequency_data['0.01'][xmin:xmax]), 1)\n",
    "xyfit[0], xyfit[1]"
   ]
  },
  {
   "cell_type": "code",
   "execution_count": null,
   "metadata": {},
   "outputs": [],
   "source": [
    "x0 = np.array([xmin, xmax])\n",
    "y0 = np.exp(xyfit[0] * x0 + xyfit[1])"
   ]
  },
  {
   "cell_type": "code",
   "execution_count": null,
   "metadata": {},
   "outputs": [
    {
     "data": {
      "image/png": "[encoded data removed]",
      "text/plain": [
       "<Figure size 432x288 with 1 Axes>"
      ]
     },
     "metadata": {
      "needs_background": "light"
     },
     "output_type": "display_data"
    }
   ],
   "source": [
    "xmin, xmax = 70, 86\n",
    "plt.step(frequency_x[xmin:xmax], frequency_inf[xmin:xmax], where='mid')\n",
    "plt.step(frequency_x[xmin:xmax], frequency_data['0.01'][xmin:xmax], where='mid')\n",
    "plt.plot(x0, y0, '--', color='grey')\n",
    "plt.yscale('log')\n",
    "plt.xlabel('Score')\n",
    "plt.ylabel('Frequency')\n",
    "plt.xlim(xmin, xmax - 1)\n",
    "plt.ylim(0.00002, 0.2)\n",
    "# plt.savefig('blog/Part_5_Playing_model_images/Descartes_exploration_0.01_log.png', bbox_inches='tight')\n",
    "plt.show()"
   ]
  },
  {
   "cell_type": "markdown",
   "metadata": {},
   "source": [
    "This gives an estimate of how many games one needs to play to reach a given score:"
   ]
  },
  {
   "cell_type": "code",
   "execution_count": null,
   "metadata": {},
   "outputs": [],
   "source": [
    "def required_n(goal):\n",
    "    return np.round(1.0 / np.exp(xyfit[0] * goal + xyfit[1]))"
   ]
  },
  {
   "cell_type": "code",
   "execution_count": null,
   "metadata": {},
   "outputs": [
    {
     "data": {
      "text/plain": [
       "(24.0, 347.0, 5009.0, 72409.0)"
      ]
     },
     "execution_count": null,
     "metadata": {},
     "output_type": "execute_result"
    }
   ],
   "source": [
    "required_n(70), required_n(80), required_n(90), required_n(100)"
   ]
  },
  {
   "cell_type": "code",
   "execution_count": null,
   "metadata": {},
   "outputs": [],
   "source": []
  }
 ],
 "metadata": {
  "kernelspec": {
   "display_name": "Python 3",
   "language": "python",
   "name": "python3"
  }
 },
 "nbformat": 4,
 "nbformat_minor": 4
}
