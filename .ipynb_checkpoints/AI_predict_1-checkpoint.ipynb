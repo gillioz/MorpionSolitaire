{
 "cells": [
  {
   "cell_type": "markdown",
   "metadata": {},
   "source": [
    "# Learning to predict whether there is one legal move or not"
   ]
  },
  {
   "cell_type": "code",
   "execution_count": 1,
   "metadata": {},
   "outputs": [],
   "source": [
    "from MorpionSolitaire import *\n",
    "import numpy as np\n",
    "import torch\n",
    "from PIL import Image\n",
    "from tqdm.notebook import trange"
   ]
  },
  {
   "cell_type": "code",
   "execution_count": 2,
   "metadata": {},
   "outputs": [],
   "source": [
    "from multiprocess import Pool\n",
    "pool = Pool()"
   ]
  },
  {
   "cell_type": "code",
   "execution_count": 3,
   "metadata": {},
   "outputs": [],
   "source": [
    "# from fastai.vision.all import *\n",
    "# from fastai.callback.hook import *"
   ]
  },
  {
   "cell_type": "markdown",
   "metadata": {},
   "source": [
    "## Global variables"
   ]
  },
  {
   "cell_type": "markdown",
   "metadata": {},
   "source": [
    "Function for visualization of a grid:"
   ]
  },
  {
   "cell_type": "code",
   "execution_count": 4,
   "metadata": {},
   "outputs": [],
   "source": [
    "def visualize(grid):\n",
    "    size = 3 * grid.shape[2] - 2\n",
    "    im = np.empty((size, size), dtype=bool)\n",
    "    im[0::3,0::3] = grid[0,:,:]\n",
    "    im[1::3,0::3] = grid[1,:-1,:]\n",
    "    im[2::3,0::3] = grid[1,:-1,:]\n",
    "    im[0::3,1::3] = grid[2,:,:-1]\n",
    "    im[0::3,2::3] = grid[2,:,:-1]\n",
    "    im[1::3,1::3] = grid[3,:-1,:-1]\n",
    "    im[2::3,2::3] = grid[3,:-1,:-1]\n",
    "    im[1::3,2::3] = grid[4,1:,:-1]\n",
    "    im[2::3,1::3] = grid[4,1:,:-1]\n",
    "    return Image.fromarray(~im)"
   ]
  },
  {
   "cell_type": "markdown",
   "metadata": {},
   "source": [
    "## Generating the data"
   ]
  },
  {
   "cell_type": "markdown",
   "metadata": {},
   "source": [
    "Data is generated as follows.\n",
    "1. Play a game until the end, with a random starting grid and random moves\n",
    "1. Add this grid to the batch, with label `0` (= no legal moves)\n",
    "1. Rewind at random to an arbitrary intermediate step\n",
    "1. Add this grid to the batch, with label `1` (= at least one legal move)\n",
    "1. Repeat the process\n",
    "After `n` iterations, we are left with `2*n` grids, half of which have legal moves left."
   ]
  },
  {
   "cell_type": "code",
   "execution_count": 5,
   "metadata": {},
   "outputs": [],
   "source": [
    "def play_one_game(index = 0):\n",
    "    game = StartingGame('cross').play()\n",
    "    grid1 = torch.FloatTensor(game.grid)\n",
    "    game = game.unplay(np.random.randint(game.score) + 1)\n",
    "    grid2 = torch.FloatTensor(game.grid)\n",
    "    return torch.stack((grid1, grid2))"
   ]
  },
  {
   "cell_type": "code",
   "execution_count": 6,
   "metadata": {},
   "outputs": [],
   "source": [
    "def generate_batch(batch_size = 200):\n",
    "    x = torch.cat(pool.map(play_one_game, range(batch_size // 2)))\n",
    "    y = torch.tensor([0.,1.]).repeat(batch_size // 2).unsqueeze(1)\n",
    "    return x, y"
   ]
  },
  {
   "cell_type": "code",
   "execution_count": 7,
   "metadata": {},
   "outputs": [],
   "source": [
    "x, y = generate_batch()"
   ]
  },
  {
   "cell_type": "code",
   "execution_count": 8,
   "metadata": {},
   "outputs": [
    {
     "data": {
      "text/plain": [
       "(torch.Size([200, 5, 32, 32]), torch.Size([200, 1]))"
      ]
     },
     "execution_count": 8,
     "metadata": {},
     "output_type": "execute_result"
    }
   ],
   "source": [
    "x.shape, y.shape"
   ]
  },
  {
   "cell_type": "code",
   "execution_count": 9,
   "metadata": {},
   "outputs": [
    {
     "data": {
      "image/png": "[encoded data removed]",
      "text/plain": [
       "<PIL.Image.Image image mode=1 size=94x94 at 0x7FD6F84F3DF0>"
      ]
     },
     "execution_count": 9,
     "metadata": {},
     "output_type": "execute_result"
    }
   ],
   "source": [
    "visualize(x[0])"
   ]
  },
  {
   "cell_type": "code",
   "execution_count": 10,
   "metadata": {},
   "outputs": [
    {
     "data": {
      "image/png": "[encoded data removed]",
      "text/plain": [
       "<PIL.Image.Image image mode=1 size=94x94 at 0x7FD6F84F37F0>"
      ]
     },
     "execution_count": 10,
     "metadata": {},
     "output_type": "execute_result"
    }
   ],
   "source": [
    "visualize(x[1])"
   ]
  },
  {
   "cell_type": "code",
   "execution_count": 11,
   "metadata": {},
   "outputs": [
    {
     "data": {
      "text/plain": [
       "(tensor([0.]), tensor([1.]))"
      ]
     },
     "execution_count": 11,
     "metadata": {},
     "output_type": "execute_result"
    }
   ],
   "source": [
    "y[0], y[1]"
   ]
  },
  {
   "cell_type": "markdown",
   "metadata": {},
   "source": [
    "## Convolutional neural network"
   ]
  },
  {
   "cell_type": "markdown",
   "metadata": {},
   "source": [
    "Define the network architecture:"
   ]
  },
  {
   "cell_type": "code",
   "execution_count": 12,
   "metadata": {},
   "outputs": [],
   "source": [
    "net = torch.nn.Sequential(\n",
    "    torch.nn.Conv2d(5, 15, stride = 1, kernel_size = 2, padding = 0),\n",
    "    torch.nn.ReLU(),\n",
    "    torch.nn.Conv2d(15, 45, stride = 1, kernel_size = 2, padding = 0),\n",
    "    torch.nn.ReLU(),\n",
    "    torch.nn.Conv2d(45, 100, stride = 1, kernel_size = 2, padding = 0),\n",
    "    torch.nn.ReLU(),\n",
    "    torch.nn.Conv2d(100, 200, stride = 1, kernel_size = 2, padding = 0),\n",
    "    torch.nn.ReLU(),\n",
    "    torch.nn.AdaptiveMaxPool2d(1),\n",
    "    torch.nn.Flatten(),\n",
    "    torch.nn.Linear(200, 50),\n",
    "    torch.nn.ReLU(),\n",
    "    torch.nn.Linear(50, 10),\n",
    "    torch.nn.ReLU(),\n",
    "    torch.nn.Linear(10, 1)\n",
    ")"
   ]
  },
  {
   "cell_type": "code",
   "execution_count": 13,
   "metadata": {},
   "outputs": [],
   "source": [
    "y_pred = net(x)"
   ]
  },
  {
   "cell_type": "code",
   "execution_count": 14,
   "metadata": {},
   "outputs": [],
   "source": [
    "# net = torch.nn.Sequential(\n",
    "#     torch.nn.Conv2d(5, 20, stride = 1, kernel_size = 5, padding = 0),\n",
    "#     torch.nn.ReLU(),\n",
    "#     torch.nn.AdaptiveMaxPool2d(1),\n",
    "#     torch.nn.Flatten(),\n",
    "#     torch.nn.Linear(20, 1),\n",
    "#     torch.nn.ReLU(),\n",
    "#     torch.nn.Linear(1, 1)\n",
    "# )"
   ]
  },
  {
   "cell_type": "code",
   "execution_count": 15,
   "metadata": {},
   "outputs": [],
   "source": [
    "# net = torch.nn.Sequential(\n",
    "#     torch.nn.Conv2d(5, 20, stride = 1, kernel_size = 5, padding = 0),\n",
    "#     torch.nn.ReLU(),\n",
    "#     torch.nn.AdaptiveMaxPool2d(1),\n",
    "#     torch.nn.Flatten(),\n",
    "#     torch.nn.Linear(20, 1),\n",
    "#     torch.nn.ReLU(),\n",
    "#     torch.nn.Linear(1, 1),\n",
    "# )\n",
    "\n",
    "\n",
    "# with torch.no_grad():\n",
    "#     for i in range(20):\n",
    "#         net[0].bias[i] = -3\n",
    "#         net[0].weight[i] = torch.zeros(5,5,5)\n",
    "#     for c in range(5):\n",
    "#         net[0].weight[c,0,2] = torch.tensor([1,1,1,1,1])\n",
    "#         net[0].weight[c,2,2] = torch.tensor([-1,-1,-1,-1,0])\n",
    "#         net[0].weight[c,0,2,c] = -1\n",
    "#         net[0].weight[5+c,0,:,2] = torch.tensor([1,1,1,1,1])\n",
    "#         net[0].weight[5+c,1,:,2] = torch.tensor([-1,-1,-1,-1,0])\n",
    "#         net[0].weight[5+c,0,c,2] = -1\n",
    "#         for i in range(5):\n",
    "#             net[0].weight[10+c,0,i,i] = 1\n",
    "#         for i in range(4):\n",
    "#             net[0].weight[10+c,3,i,i] = -1\n",
    "#         net[0].weight[10+c,0,c,c] = -1\n",
    "#         for i in range(5):\n",
    "#             net[0].weight[15+c,0,i,4-i] = 1\n",
    "#         for i in range(1,5):\n",
    "#             net[0].weight[15+c,4,i,4-i] = -1\n",
    "#         net[0].weight[15+c,0,c,4-c] = -1\n",
    "#     net[4].weight[0] = torch.zeros(20) - 1\n",
    "#     net[4].bias[0] = 1\n",
    "#     net[6].weight[0] = -1\n",
    "#     net[6].bias[0] = 1"
   ]
  },
  {
   "cell_type": "markdown",
   "metadata": {},
   "source": [
    "## Training"
   ]
  },
  {
   "cell_type": "markdown",
   "metadata": {},
   "source": [
    "Number of batches in one 'epoch':"
   ]
  },
  {
   "cell_type": "code",
   "execution_count": 16,
   "metadata": {},
   "outputs": [],
   "source": [
    "loss_func = torch.nn.MSELoss()\n",
    "# loss_func = torch.nn.BCELoss()"
   ]
  },
  {
   "cell_type": "code",
   "execution_count": 17,
   "metadata": {},
   "outputs": [],
   "source": [
    "def accuracy_func(outputs, labels):\n",
    "    return ((outputs > 0.5) == labels).float().mean()"
   ]
  },
  {
   "cell_type": "code",
   "execution_count": 18,
   "metadata": {},
   "outputs": [],
   "source": [
    "optimizer = torch.optim.SGD(net.parameters(), lr=0.01, momentum=0.9)"
   ]
  },
  {
   "cell_type": "code",
   "execution_count": 19,
   "metadata": {},
   "outputs": [],
   "source": [
    "batch_size = 200\n",
    "n_batches = 25\n",
    "n_epochs = 200"
   ]
  },
  {
   "cell_type": "code",
   "execution_count": 20,
   "metadata": {},
   "outputs": [
    {
     "data": {
      "application/vnd.jupyter.widget-view+json": {
       "model_id": "e30aeca8700b4fd4af3c688f54e50030",
       "version_major": 2,
       "version_minor": 0
      },
      "text/plain": [
       "HBox(children=(HTML(value=''), FloatProgress(value=0.0, max=5000.0), HTML(value='')))"
      ]
     },
     "metadata": {},
     "output_type": "display_data"
    },
    {
     "name": "stderr",
     "output_type": "stream",
     "text": [
      "/home/marc/anaconda3/lib/python3.8/site-packages/torch/autograd/__init__.py:130: UserWarning: CUDA initialization: Found no NVIDIA driver on your system. Please check that you have an NVIDIA GPU and installed a driver from http://www.nvidia.com/Download/index.aspx (Triggered internally at  /pytorch/c10/cuda/CUDAFunctions.cpp:100.)\n",
      "  Variable._execution_engine.run_backward(\n"
     ]
    },
    {
     "name": "stdout",
     "output_type": "stream",
     "text": [
      "[1]  loss: 0.294   accuracy: 0.50\n",
      "[2]  loss: 0.252   accuracy: 0.50\n",
      "[3]  loss: 0.250   accuracy: 0.50\n",
      "[4]  loss: 0.250   accuracy: 0.57\n",
      "[5]  loss: 0.250   accuracy: 0.73\n",
      "[6]  loss: 0.250   accuracy: 0.73\n",
      "[7]  loss: 0.249   accuracy: 0.67\n",
      "[8]  loss: 0.249   accuracy: 0.67\n",
      "[9]  loss: 0.249   accuracy: 0.75\n",
      "[10]  loss: 0.249   accuracy: 0.70\n",
      "[11]  loss: 0.249   accuracy: 0.73\n",
      "[12]  loss: 0.248   accuracy: 0.64\n",
      "[13]  loss: 0.247   accuracy: 0.70\n",
      "[14]  loss: 0.245   accuracy: 0.72\n",
      "[15]  loss: 0.243   accuracy: 0.65\n",
      "[16]  loss: 0.236   accuracy: 0.74\n",
      "[17]  loss: 0.225   accuracy: 0.73\n",
      "[18]  loss: 0.208   accuracy: 0.66\n",
      "[19]  loss: 0.196   accuracy: 0.74\n",
      "[20]  loss: 0.182   accuracy: 0.67\n",
      "[21]  loss: 0.184   accuracy: 0.75\n",
      "[22]  loss: 0.184   accuracy: 0.63\n",
      "[23]  loss: 0.180   accuracy: 0.73\n",
      "[24]  loss: 0.177   accuracy: 0.74\n",
      "[25]  loss: 0.174   accuracy: 0.71\n",
      "[26]  loss: 0.175   accuracy: 0.69\n",
      "[27]  loss: 0.175   accuracy: 0.71\n",
      "[28]  loss: 0.175   accuracy: 0.66\n",
      "[29]  loss: 0.170   accuracy: 0.67\n",
      "[30]  loss: 0.167   accuracy: 0.74\n",
      "[31]  loss: 0.163   accuracy: 0.75\n",
      "[32]  loss: 0.155   accuracy: 0.77\n",
      "[33]  loss: 0.150   accuracy: 0.74\n",
      "[34]  loss: 0.149   accuracy: 0.79\n",
      "[35]  loss: 0.142   accuracy: 0.77\n",
      "[36]  loss: 0.132   accuracy: 0.81\n",
      "[37]  loss: 0.149   accuracy: 0.77\n",
      "[38]  loss: 0.137   accuracy: 0.86\n",
      "[39]  loss: 0.120   accuracy: 0.83\n",
      "[40]  loss: 0.115   accuracy: 0.87\n",
      "[41]  loss: 0.198   accuracy: 0.75\n",
      "[42]  loss: 0.166   accuracy: 0.74\n",
      "[43]  loss: 0.130   accuracy: 0.85\n",
      "[44]  loss: 0.099   accuracy: 0.89\n",
      "[45]  loss: 0.127   accuracy: 0.77\n",
      "[46]  loss: 0.118   accuracy: 0.87\n",
      "[47]  loss: 0.101   accuracy: 0.81\n",
      "[48]  loss: 0.102   accuracy: 0.87\n",
      "[49]  loss: 0.095   accuracy: 0.92\n",
      "[50]  loss: 0.103   accuracy: 0.88\n",
      "[51]  loss: 0.087   accuracy: 0.88\n",
      "[52]  loss: 0.112   accuracy: 0.83\n",
      "[53]  loss: 0.092   accuracy: 0.86\n",
      "[54]  loss: 0.120   accuracy: 0.87\n",
      "[55]  loss: 0.087   accuracy: 0.89\n",
      "[56]  loss: 0.092   accuracy: 0.86\n",
      "[57]  loss: 0.103   accuracy: 0.86\n",
      "[58]  loss: 0.107   accuracy: 0.84\n",
      "[59]  loss: 0.085   accuracy: 0.93\n",
      "[60]  loss: 0.093   accuracy: 0.87\n",
      "[61]  loss: 0.085   accuracy: 0.89\n",
      "[62]  loss: 0.075   accuracy: 0.85\n",
      "[63]  loss: 0.082   accuracy: 0.87\n",
      "[64]  loss: 0.090   accuracy: 0.91\n",
      "[65]  loss: 0.080   accuracy: 0.92\n",
      "[66]  loss: 0.075   accuracy: 0.91\n",
      "[67]  loss: 0.070   accuracy: 0.89\n",
      "[68]  loss: 0.079   accuracy: 0.94\n",
      "[69]  loss: 0.066   accuracy: 0.93\n",
      "[70]  loss: 0.077   accuracy: 0.92\n",
      "[71]  loss: 0.072   accuracy: 0.91\n",
      "[72]  loss: 0.064   accuracy: 0.94\n",
      "[73]  loss: 0.072   accuracy: 0.88\n",
      "[74]  loss: 0.069   accuracy: 0.90\n",
      "[75]  loss: 0.070   accuracy: 0.93\n",
      "[76]  loss: 0.064   accuracy: 0.91\n",
      "[77]  loss: 0.079   accuracy: 0.90\n",
      "[78]  loss: 0.076   accuracy: 0.89\n",
      "[79]  loss: 0.088   accuracy: 0.94\n",
      "[80]  loss: 0.067   accuracy: 0.92\n",
      "[81]  loss: 0.076   accuracy: 0.90\n",
      "[82]  loss: 0.073   accuracy: 0.91\n",
      "[83]  loss: 0.074   accuracy: 0.90\n",
      "[84]  loss: 0.070   accuracy: 0.93\n",
      "[85]  loss: 0.072   accuracy: 0.94\n",
      "[86]  loss: 0.086   accuracy: 0.90\n",
      "[87]  loss: 0.067   accuracy: 0.94\n",
      "[88]  loss: 0.064   accuracy: 0.93\n",
      "[89]  loss: 0.058   accuracy: 0.92\n",
      "[90]  loss: 0.057   accuracy: 0.90\n",
      "[91]  loss: 0.078   accuracy: 0.93\n",
      "[92]  loss: 0.075   accuracy: 0.90\n",
      "[93]  loss: 0.067   accuracy: 0.94\n",
      "[94]  loss: 0.060   accuracy: 0.92\n",
      "[95]  loss: 0.068   accuracy: 0.93\n",
      "[96]  loss: 0.060   accuracy: 0.92\n",
      "[97]  loss: 0.057   accuracy: 0.95\n",
      "[98]  loss: 0.054   accuracy: 0.91\n",
      "[99]  loss: 0.056   accuracy: 0.90\n",
      "[100]  loss: 0.059   accuracy: 0.92\n",
      "[101]  loss: 0.064   accuracy: 0.92\n",
      "[102]  loss: 0.056   accuracy: 0.93\n",
      "[103]  loss: 0.054   accuracy: 0.94\n",
      "[104]  loss: 0.054   accuracy: 0.96\n",
      "[105]  loss: 0.052   accuracy: 0.94\n",
      "[106]  loss: 0.067   accuracy: 0.94\n",
      "[107]  loss: 0.054   accuracy: 0.93\n",
      "[108]  loss: 0.059   accuracy: 0.94\n",
      "[109]  loss: 0.060   accuracy: 0.92\n",
      "[110]  loss: 0.052   accuracy: 0.95\n",
      "[111]  loss: 0.057   accuracy: 0.94\n",
      "[112]  loss: 0.057   accuracy: 0.94\n",
      "[113]  loss: 0.065   accuracy: 0.95\n",
      "[114]  loss: 0.064   accuracy: 0.89\n",
      "[115]  loss: 0.052   accuracy: 0.93\n",
      "[116]  loss: 0.049   accuracy: 0.94\n",
      "[117]  loss: 0.059   accuracy: 0.93\n",
      "[118]  loss: 0.058   accuracy: 0.94\n",
      "[119]  loss: 0.050   accuracy: 0.94\n",
      "[120]  loss: 0.064   accuracy: 0.93\n",
      "[121]  loss: 0.057   accuracy: 0.92\n",
      "[122]  loss: 0.059   accuracy: 0.93\n",
      "[123]  loss: 0.052   accuracy: 0.97\n",
      "[124]  loss: 0.040   accuracy: 0.94\n",
      "[125]  loss: 0.061   accuracy: 0.94\n",
      "[126]  loss: 0.051   accuracy: 0.96\n",
      "[127]  loss: 0.041   accuracy: 0.94\n",
      "[128]  loss: 0.048   accuracy: 0.96\n",
      "[129]  loss: 0.042   accuracy: 0.94\n",
      "[130]  loss: 0.047   accuracy: 0.98\n",
      "[131]  loss: 0.050   accuracy: 0.93\n",
      "[132]  loss: 0.041   accuracy: 0.94\n",
      "[133]  loss: 0.045   accuracy: 0.92\n",
      "[134]  loss: 0.060   accuracy: 0.93\n",
      "[135]  loss: 0.051   accuracy: 0.92\n",
      "[136]  loss: 0.050   accuracy: 0.92\n",
      "[137]  loss: 0.052   accuracy: 0.94\n",
      "[138]  loss: 0.048   accuracy: 0.94\n",
      "[139]  loss: 0.039   accuracy: 0.94\n",
      "[140]  loss: 0.040   accuracy: 0.97\n",
      "[141]  loss: 0.042   accuracy: 0.94\n",
      "[142]  loss: 0.050   accuracy: 0.96\n",
      "[143]  loss: 0.043   accuracy: 0.94\n",
      "[144]  loss: 0.040   accuracy: 0.96\n",
      "[145]  loss: 0.042   accuracy: 0.95\n",
      "[146]  loss: 0.045   accuracy: 0.94\n",
      "[147]  loss: 0.056   accuracy: 0.98\n",
      "[148]  loss: 0.070   accuracy: 0.91\n",
      "[149]  loss: 0.046   accuracy: 0.96\n",
      "[150]  loss: 0.039   accuracy: 0.94\n",
      "[151]  loss: 0.041   accuracy: 0.96\n",
      "[152]  loss: 0.052   accuracy: 0.95\n",
      "[153]  loss: 0.038   accuracy: 0.94\n",
      "[154]  loss: 0.039   accuracy: 0.95\n",
      "[155]  loss: 0.053   accuracy: 0.93\n",
      "[156]  loss: 0.052   accuracy: 0.93\n",
      "[157]  loss: 0.046   accuracy: 0.94\n",
      "[158]  loss: 0.043   accuracy: 0.94\n",
      "[159]  loss: 0.042   accuracy: 0.94\n",
      "[160]  loss: 0.040   accuracy: 0.96\n",
      "[161]  loss: 0.036   accuracy: 0.96\n",
      "[162]  loss: 0.040   accuracy: 0.96\n",
      "[163]  loss: 0.041   accuracy: 0.93\n",
      "[164]  loss: 0.036   accuracy: 0.95\n",
      "[165]  loss: 0.042   accuracy: 0.98\n",
      "[166]  loss: 0.034   accuracy: 0.95\n",
      "[167]  loss: 0.036   accuracy: 0.95\n",
      "[168]  loss: 0.042   accuracy: 0.95\n",
      "[169]  loss: 0.040   accuracy: 0.97\n",
      "[170]  loss: 0.047   accuracy: 0.95\n",
      "[171]  loss: 0.042   accuracy: 0.96\n",
      "[172]  loss: 0.035   accuracy: 0.95\n",
      "[173]  loss: 0.032   accuracy: 0.95\n",
      "[174]  loss: 0.038   accuracy: 0.94\n",
      "[175]  loss: 0.056   accuracy: 0.94\n",
      "[176]  loss: 0.045   accuracy: 0.95\n",
      "[177]  loss: 0.041   accuracy: 0.94\n",
      "[178]  loss: 0.044   accuracy: 0.94\n",
      "[179]  loss: 0.036   accuracy: 0.96\n",
      "[180]  loss: 0.033   accuracy: 0.94\n",
      "[181]  loss: 0.031   accuracy: 0.97\n",
      "[182]  loss: 0.040   accuracy: 0.94\n",
      "[183]  loss: 0.053   accuracy: 0.96\n",
      "[184]  loss: 0.043   accuracy: 0.94\n",
      "[185]  loss: 0.038   accuracy: 0.94\n",
      "[186]  loss: 0.036   accuracy: 0.96\n",
      "[187]  loss: 0.032   accuracy: 0.98\n",
      "[188]  loss: 0.026   accuracy: 0.97\n",
      "[189]  loss: 0.029   accuracy: 0.96\n",
      "[190]  loss: 0.029   accuracy: 0.98\n",
      "[191]  loss: 0.041   accuracy: 0.96\n",
      "[192]  loss: 0.043   accuracy: 0.92\n",
      "[193]  loss: 0.035   accuracy: 0.98\n",
      "[194]  loss: 0.031   accuracy: 0.96\n",
      "[195]  loss: 0.047   accuracy: 0.93\n",
      "[196]  loss: 0.032   accuracy: 0.98\n",
      "[197]  loss: 0.030   accuracy: 0.96\n",
      "[198]  loss: 0.032   accuracy: 0.96\n",
      "[199]  loss: 0.032   accuracy: 0.94\n",
      "[200]  loss: 0.044   accuracy: 0.96\n",
      "\n"
     ]
    }
   ],
   "source": [
    "running_loss = 0.0\n",
    "for epoch in trange(n_epochs * n_batches):\n",
    "    inputs, labels = generate_batch(batch_size)\n",
    "    optimizer.zero_grad()\n",
    "    outputs = net(inputs)\n",
    "    loss = loss_func(outputs, labels)\n",
    "    loss.backward()\n",
    "    optimizer.step()\n",
    "    running_loss += loss.item()\n",
    "    if (epoch + 1) % n_batches == 0:\n",
    "        print('[%d]  loss: %.3f   accuracy: %.2f' %\n",
    "              ((epoch + 1) // n_batches, running_loss / n_batches,\n",
    "               accuracy_func(outputs, labels)))\n",
    "        running_loss = 0.0"
   ]
  },
  {
   "cell_type": "markdown",
   "metadata": {},
   "source": [
    "## Validation"
   ]
  },
  {
   "cell_type": "code",
   "execution_count": 35,
   "metadata": {},
   "outputs": [],
   "source": [
    "x, y = generate_batch(100)"
   ]
  },
  {
   "cell_type": "code",
   "execution_count": 36,
   "metadata": {},
   "outputs": [],
   "source": [
    "y_preds = net(x).data"
   ]
  },
  {
   "cell_type": "code",
   "execution_count": 37,
   "metadata": {},
   "outputs": [
    {
     "data": {
      "text/plain": [
       "tensor(0.8800)"
      ]
     },
     "execution_count": 37,
     "metadata": {},
     "output_type": "execute_result"
    }
   ],
   "source": [
    "accuracy_func(y_preds, y)"
   ]
  },
  {
   "cell_type": "code",
   "execution_count": 38,
   "metadata": {},
   "outputs": [
    {
     "data": {
      "text/plain": [
       "(tensor(0.5000), tensor(0.5025), tensor(0.4071), tensor(0.4285))"
      ]
     },
     "execution_count": 38,
     "metadata": {},
     "output_type": "execute_result"
    }
   ],
   "source": [
    "y.mean(), y.std(), y_preds.mean(), y_preds.std()"
   ]
  },
  {
   "cell_type": "code",
   "execution_count": 39,
   "metadata": {},
   "outputs": [
    {
     "data": {
      "text/plain": [
       "tensor([[[0.0000, 0.0531],\n",
       "         [1.0000, 0.9730],\n",
       "         [0.0000, 0.0532],\n",
       "         [1.0000, 0.9562],\n",
       "         [0.0000, 0.0510],\n",
       "         [1.0000, 0.9484],\n",
       "         [0.0000, 0.0556],\n",
       "         [1.0000, 0.4007],\n",
       "         [0.0000, 0.0523],\n",
       "         [1.0000, 0.4730],\n",
       "         [0.0000, 0.0587],\n",
       "         [1.0000, 0.9227],\n",
       "         [0.0000, 0.0531],\n",
       "         [1.0000, 0.9539],\n",
       "         [0.0000, 0.0534],\n",
       "         [1.0000, 0.9589],\n",
       "         [0.0000, 0.0552],\n",
       "         [1.0000, 0.9610],\n",
       "         [0.0000, 0.0496],\n",
       "         [1.0000, 0.9935],\n",
       "         [0.0000, 0.0488],\n",
       "         [1.0000, 0.9571],\n",
       "         [0.0000, 0.0582],\n",
       "         [1.0000, 0.9384],\n",
       "         [0.0000, 0.0575],\n",
       "         [1.0000, 0.9311],\n",
       "         [0.0000, 0.0524],\n",
       "         [1.0000, 0.9604],\n",
       "         [0.0000, 0.0547],\n",
       "         [1.0000, 0.4135],\n",
       "         [0.0000, 0.0549],\n",
       "         [1.0000, 0.1273],\n",
       "         [0.0000, 0.0552],\n",
       "         [1.0000, 0.9420],\n",
       "         [0.0000, 0.0515],\n",
       "         [1.0000, 1.0258],\n",
       "         [0.0000, 0.0494],\n",
       "         [1.0000, 0.9591],\n",
       "         [0.0000, 0.0503],\n",
       "         [1.0000, 0.0584],\n",
       "         [0.0000, 0.0572],\n",
       "         [1.0000, 0.5639],\n",
       "         [0.0000, 0.0527],\n",
       "         [1.0000, 0.9735],\n",
       "         [0.0000, 0.0538],\n",
       "         [1.0000, 0.4509],\n",
       "         [0.0000, 0.0496],\n",
       "         [1.0000, 0.9697],\n",
       "         [0.0000, 0.0536],\n",
       "         [1.0000, 0.2221],\n",
       "         [0.0000, 0.0531],\n",
       "         [1.0000, 0.9364],\n",
       "         [0.0000, 0.0548],\n",
       "         [1.0000, 0.9554],\n",
       "         [0.0000, 0.0551],\n",
       "         [1.0000, 0.9974],\n",
       "         [0.0000, 0.0535],\n",
       "         [1.0000, 0.9699],\n",
       "         [0.0000, 0.0548],\n",
       "         [1.0000, 0.9918],\n",
       "         [0.0000, 0.0544],\n",
       "         [1.0000, 0.9388],\n",
       "         [0.0000, 0.0496],\n",
       "         [1.0000, 0.0494],\n",
       "         [0.0000, 0.0494],\n",
       "         [1.0000, 0.0538],\n",
       "         [0.0000, 0.0521],\n",
       "         [1.0000, 0.9793],\n",
       "         [0.0000, 0.0514],\n",
       "         [1.0000, 0.6402],\n",
       "         [0.0000, 0.0563],\n",
       "         [1.0000, 0.9662],\n",
       "         [0.0000, 0.0573],\n",
       "         [1.0000, 0.9570],\n",
       "         [0.0000, 0.0574],\n",
       "         [1.0000, 0.0556],\n",
       "         [0.0000, 0.0540],\n",
       "         [1.0000, 0.9947],\n",
       "         [0.0000, 0.0518],\n",
       "         [1.0000, 0.9763],\n",
       "         [0.0000, 0.0557],\n",
       "         [1.0000, 0.0575],\n",
       "         [0.0000, 0.0523],\n",
       "         [1.0000, 0.6444],\n",
       "         [0.0000, 0.0579],\n",
       "         [1.0000, 0.9840],\n",
       "         [0.0000, 0.0524],\n",
       "         [1.0000, 1.0104],\n",
       "         [0.0000, 0.0512],\n",
       "         [1.0000, 0.9733],\n",
       "         [0.0000, 0.0509],\n",
       "         [1.0000, 0.9413],\n",
       "         [0.0000, 0.0528],\n",
       "         [1.0000, 0.9407],\n",
       "         [0.0000, 0.0494],\n",
       "         [1.0000, 0.9622],\n",
       "         [0.0000, 0.0533],\n",
       "         [1.0000, 0.9803],\n",
       "         [0.0000, 0.0494],\n",
       "         [1.0000, 0.0537]]])"
      ]
     },
     "execution_count": 39,
     "metadata": {},
     "output_type": "execute_result"
    }
   ],
   "source": [
    "torch.stack([y, y_preds]).T"
   ]
  },
  {
   "cell_type": "code",
   "execution_count": 50,
   "metadata": {},
   "outputs": [
    {
     "data": {
      "text/plain": [
       "[[1.0, 0.4007423222064972],\n",
       " [1.0, 0.4730297029018402],\n",
       " [1.0, 0.4134567379951477],\n",
       " [1.0, 0.12733718752861023],\n",
       " [1.0, 0.058360662311315536],\n",
       " [1.0, 0.45089438557624817],\n",
       " [1.0, 0.22213813662528992],\n",
       " [1.0, 0.04942115396261215],\n",
       " [1.0, 0.053767602890729904],\n",
       " [1.0, 0.055632565170526505],\n",
       " [1.0, 0.05753723159432411],\n",
       " [1.0, 0.05371394008398056]]"
      ]
     },
     "execution_count": 50,
     "metadata": {},
     "output_type": "execute_result"
    }
   ],
   "source": [
    "mistakes = []\n",
    "for i in range(y.shape[0]):\n",
    "    if (y_preds[i] > 0.5) != y[i]:\n",
    "        mistakes.append([y[i].item(), y_preds[i].item()])\n",
    "mistakes"
   ]
  },
  {
   "cell_type": "code",
   "execution_count": 48,
   "metadata": {},
   "outputs": [
    {
     "data": {
      "text/plain": [
       "tensor([0.4007])"
      ]
     },
     "execution_count": 48,
     "metadata": {},
     "output_type": "execute_result"
    }
   ],
   "source": [
    "mistakes[0][0]"
   ]
  },
  {
   "cell_type": "markdown",
   "metadata": {},
   "source": [
    "## Info about the model"
   ]
  },
  {
   "cell_type": "code",
   "execution_count": 26,
   "metadata": {},
   "outputs": [],
   "source": [
    "# for param_tensor in net.state_dict():\n",
    "#     print(param_tensor, \"\\t\", net.state_dict()[param_tensor].size())"
   ]
  },
  {
   "cell_type": "code",
   "execution_count": 27,
   "metadata": {},
   "outputs": [],
   "source": [
    "torch.save(net.state_dict(), 'models/AI_predict_1_v1')"
   ]
  },
  {
   "cell_type": "markdown",
   "metadata": {},
   "source": [
    "The learning process is going quite well, but the model seems to be missing one of the allowed move\n",
    "(1 in 20 patterns is equivalent to 5%)\n",
    "\n",
    "Let's try with bigger batches!\n",
    "\n",
    "If not working, the next logical thing to do is to use a bigger model..."
   ]
  },
  {
   "cell_type": "code",
   "execution_count": null,
   "metadata": {},
   "outputs": [],
   "source": []
  }
 ],
 "metadata": {
  "kernelspec": {
   "display_name": "Python 3",
   "language": "python",
   "name": "python3"
  },
  "language_info": {
   "codemirror_mode": {
    "name": "ipython",
    "version": 3
   },
   "file_extension": ".py",
   "mimetype": "text/x-python",
   "name": "python",
   "nbconvert_exporter": "python",
   "pygments_lexer": "ipython3",
   "version": "3.8.5"
  }
 },
 "nbformat": 4,
 "nbformat_minor": 4
}
