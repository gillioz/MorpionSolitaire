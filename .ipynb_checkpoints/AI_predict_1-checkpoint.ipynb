{
 "cells": [
  {
   "cell_type": "markdown",
   "metadata": {},
   "source": [
    "# Learning to predict whether there is one legal move or not"
   ]
  },
  {
   "cell_type": "code",
   "execution_count": 1,
   "metadata": {},
   "outputs": [],
   "source": [
    "from MorpionSolitaire import *\n",
    "import numpy as np\n",
    "import torch\n",
    "from PIL import Image\n",
    "from tqdm.notebook import trange"
   ]
  },
  {
   "cell_type": "code",
   "execution_count": 2,
   "metadata": {},
   "outputs": [],
   "source": [
    "from multiprocess import Pool\n",
    "pool = Pool()"
   ]
  },
  {
   "cell_type": "code",
   "execution_count": 3,
   "metadata": {},
   "outputs": [],
   "source": [
    "# from fastai.vision.all import *\n",
    "# from fastai.callback.hook import *"
   ]
  },
  {
   "cell_type": "markdown",
   "metadata": {},
   "source": [
    "## Global variables"
   ]
  },
  {
   "cell_type": "markdown",
   "metadata": {},
   "source": [
    "Function for visualization of a grid:"
   ]
  },
  {
   "cell_type": "code",
   "execution_count": 4,
   "metadata": {},
   "outputs": [],
   "source": [
    "def print_grid(grid):\n",
    "    size = 3 * grid.shape[2] - 2\n",
    "    im = np.empty((size, size), dtype=bool)\n",
    "    im[0::3,0::3] = grid[0,:,:]\n",
    "    im[1::3,0::3] = grid[1,:-1,:]\n",
    "    im[2::3,0::3] = grid[1,:-1,:]\n",
    "    im[0::3,1::3] = grid[2,:,:-1]\n",
    "    im[0::3,2::3] = grid[2,:,:-1]\n",
    "    im[1::3,1::3] = grid[3,:-1,:-1]\n",
    "    im[2::3,2::3] = grid[3,:-1,:-1]\n",
    "    im[1::3,2::3] = grid[4,1:,:-1]\n",
    "    im[2::3,1::3] = grid[4,1:,:-1]\n",
    "    return Image.fromarray(~im)"
   ]
  },
  {
   "cell_type": "markdown",
   "metadata": {},
   "source": [
    "## Generating the data"
   ]
  },
  {
   "cell_type": "markdown",
   "metadata": {},
   "source": [
    "Data is generated as follows.\n",
    "1. Play a game until the end, with a random starting grid and random moves\n",
    "1. Add this grid to the batch, with label `0` (= no legal moves)\n",
    "1. Rewind at random to an arbitrary intermediate step\n",
    "1. Add this grid to the batch, with label `1` (= at least one legal move)\n",
    "1. Repeat the process\n",
    "After `n` iterations, we are left with `2*n` grids, half of which have legal moves left."
   ]
  },
  {
   "cell_type": "code",
   "execution_count": 5,
   "metadata": {},
   "outputs": [],
   "source": [
    "def play_one_game(index = 0): # dummy argument needed for passing to pool.map\n",
    "    game = StartingGame('cross').play()\n",
    "    grid1 = torch.FloatTensor(game.grid)\n",
    "    game = game.unplay(np.random.randint(0, game.score))\n",
    "    grid2 = torch.FloatTensor(game.grid)\n",
    "    return torch.stack((grid1, grid2))"
   ]
  },
  {
   "cell_type": "code",
   "execution_count": 6,
   "metadata": {},
   "outputs": [],
   "source": [
    "def generate_batch(batch_size = 200):\n",
    "    x = torch.cat(pool.map(play_one_game, range(batch_size // 2)))\n",
    "    y = torch.tensor([0.,1.]).repeat(batch_size // 2).unsqueeze(1)\n",
    "    return x, y"
   ]
  },
  {
   "cell_type": "code",
   "execution_count": 7,
   "metadata": {},
   "outputs": [],
   "source": [
    "x, y = generate_batch(20)"
   ]
  },
  {
   "cell_type": "code",
   "execution_count": 8,
   "metadata": {},
   "outputs": [
    {
     "data": {
      "text/plain": [
       "(torch.Size([20, 5, 32, 32]), torch.Size([20, 1]))"
      ]
     },
     "execution_count": 8,
     "metadata": {},
     "output_type": "execute_result"
    }
   ],
   "source": [
    "x.shape, y.shape"
   ]
  },
  {
   "cell_type": "code",
   "execution_count": 9,
   "metadata": {},
   "outputs": [
    {
     "data": {
      "image/png": "[encoded data removed]",
      "text/plain": [
       "<PIL.Image.Image image mode=1 size=94x94 at 0x7F8E7D7F9370>"
      ]
     },
     "execution_count": 9,
     "metadata": {},
     "output_type": "execute_result"
    }
   ],
   "source": [
    "print_grid(x[0])"
   ]
  },
  {
   "cell_type": "code",
   "execution_count": 10,
   "metadata": {},
   "outputs": [
    {
     "data": {
      "image/png": "[encoded data removed]",
      "text/plain": [
       "<PIL.Image.Image image mode=1 size=94x94 at 0x7F8EF87CC580>"
      ]
     },
     "execution_count": 10,
     "metadata": {},
     "output_type": "execute_result"
    }
   ],
   "source": [
    "print_grid(x[1])"
   ]
  },
  {
   "cell_type": "code",
   "execution_count": 11,
   "metadata": {},
   "outputs": [
    {
     "data": {
      "text/plain": [
       "tensor([0., 1., 0., 1., 0., 1., 0., 1., 0., 1., 0., 1., 0., 1., 0., 1., 0., 1.,\n",
       "        0., 1.])"
      ]
     },
     "execution_count": 11,
     "metadata": {},
     "output_type": "execute_result"
    }
   ],
   "source": [
    "y.squeeze()"
   ]
  },
  {
   "cell_type": "markdown",
   "metadata": {},
   "source": [
    "## Convolutional neural network"
   ]
  },
  {
   "cell_type": "markdown",
   "metadata": {},
   "source": [
    "Define the network architecture:"
   ]
  },
  {
   "cell_type": "code",
   "execution_count": 12,
   "metadata": {},
   "outputs": [],
   "source": [
    "from Model_v1 import net"
   ]
  },
  {
   "cell_type": "code",
   "execution_count": 13,
   "metadata": {},
   "outputs": [],
   "source": [
    "y_pred = net(x)"
   ]
  },
  {
   "cell_type": "code",
   "execution_count": 14,
   "metadata": {},
   "outputs": [
    {
     "data": {
      "text/plain": [
       "torch.Size([20, 1])"
      ]
     },
     "execution_count": 14,
     "metadata": {},
     "output_type": "execute_result"
    }
   ],
   "source": [
    "y_pred.shape"
   ]
  },
  {
   "cell_type": "code",
   "execution_count": 15,
   "metadata": {},
   "outputs": [],
   "source": [
    "def accuracy_func(outputs, labels):\n",
    "    return ((outputs > 0.5) == labels).float().mean()"
   ]
  },
  {
   "cell_type": "code",
   "execution_count": 16,
   "metadata": {},
   "outputs": [
    {
     "data": {
      "text/plain": [
       "tensor(0.5000)"
      ]
     },
     "execution_count": 16,
     "metadata": {},
     "output_type": "execute_result"
    }
   ],
   "source": [
    "accuracy_func(y_pred, y)"
   ]
  },
  {
   "cell_type": "markdown",
   "metadata": {},
   "source": [
    "## Training"
   ]
  },
  {
   "cell_type": "code",
   "execution_count": 17,
   "metadata": {},
   "outputs": [],
   "source": [
    "loss_func = torch.nn.MSELoss()"
   ]
  },
  {
   "cell_type": "code",
   "execution_count": 18,
   "metadata": {},
   "outputs": [],
   "source": [
    "optimizer = torch.optim.SGD(net.parameters(), lr=0.01, momentum=0.9)"
   ]
  },
  {
   "cell_type": "code",
   "execution_count": 19,
   "metadata": {},
   "outputs": [],
   "source": [
    "batch_size = 200\n",
    "n_batches = 25\n",
    "n_epochs = 200"
   ]
  },
  {
   "cell_type": "code",
   "execution_count": 20,
   "metadata": {},
   "outputs": [
    {
     "data": {
      "application/vnd.jupyter.widget-view+json": {
       "model_id": "f20585fcd3b945abaee740ccc6fa1f8a",
       "version_major": 2,
       "version_minor": 0
      },
      "text/plain": [
       "HBox(children=(HTML(value=''), FloatProgress(value=0.0, max=5000.0), HTML(value='')))"
      ]
     },
     "metadata": {},
     "output_type": "display_data"
    },
    {
     "name": "stderr",
     "output_type": "stream",
     "text": [
      "/home/marc/anaconda3/lib/python3.8/site-packages/torch/autograd/__init__.py:130: UserWarning: CUDA initialization: Found no NVIDIA driver on your system. Please check that you have an NVIDIA GPU and installed a driver from http://www.nvidia.com/Download/index.aspx (Triggered internally at  /pytorch/c10/cuda/CUDAFunctions.cpp:100.)\n",
      "  Variable._execution_engine.run_backward(\n"
     ]
    },
    {
     "name": "stdout",
     "output_type": "stream",
     "text": [
      "[1]  loss: 0.471   accuracy: 0.50\n",
      "[2]  loss: 0.262   accuracy: 0.50\n",
      "[3]  loss: 0.251   accuracy: 0.50\n",
      "[4]  loss: 0.250   accuracy: 0.50\n",
      "[5]  loss: 0.250   accuracy: 0.50\n",
      "[6]  loss: 0.250   accuracy: 0.58\n",
      "[7]  loss: 0.250   accuracy: 0.68\n",
      "[8]  loss: 0.250   accuracy: 0.69\n",
      "[9]  loss: 0.250   accuracy: 0.74\n",
      "[10]  loss: 0.250   accuracy: 0.69\n",
      "[11]  loss: 0.250   accuracy: 0.73\n",
      "[12]  loss: 0.250   accuracy: 0.69\n",
      "[13]  loss: 0.250   accuracy: 0.70\n",
      "[14]  loss: 0.250   accuracy: 0.74\n",
      "[15]  loss: 0.250   accuracy: 0.67\n",
      "[16]  loss: 0.250   accuracy: 0.70\n",
      "[17]  loss: 0.250   accuracy: 0.71\n",
      "[18]  loss: 0.250   accuracy: 0.66\n",
      "[19]  loss: 0.249   accuracy: 0.63\n",
      "[20]  loss: 0.249   accuracy: 0.70\n",
      "[21]  loss: 0.249   accuracy: 0.67\n",
      "[22]  loss: 0.249   accuracy: 0.73\n",
      "[23]  loss: 0.249   accuracy: 0.64\n",
      "[24]  loss: 0.249   accuracy: 0.63\n",
      "[25]  loss: 0.249   accuracy: 0.68\n",
      "[26]  loss: 0.249   accuracy: 0.69\n",
      "[27]  loss: 0.249   accuracy: 0.67\n",
      "[28]  loss: 0.248   accuracy: 0.70\n",
      "[29]  loss: 0.248   accuracy: 0.71\n",
      "[30]  loss: 0.248   accuracy: 0.75\n",
      "[31]  loss: 0.247   accuracy: 0.68\n",
      "[32]  loss: 0.247   accuracy: 0.69\n",
      "[33]  loss: 0.246   accuracy: 0.65\n",
      "[34]  loss: 0.245   accuracy: 0.68\n",
      "[35]  loss: 0.244   accuracy: 0.71\n",
      "[36]  loss: 0.242   accuracy: 0.70\n",
      "[37]  loss: 0.240   accuracy: 0.74\n",
      "[38]  loss: 0.237   accuracy: 0.68\n",
      "[39]  loss: 0.232   accuracy: 0.68\n",
      "[40]  loss: 0.226   accuracy: 0.64\n",
      "[41]  loss: 0.219   accuracy: 0.67\n",
      "[42]  loss: 0.206   accuracy: 0.72\n",
      "[43]  loss: 0.200   accuracy: 0.67\n",
      "[44]  loss: 0.194   accuracy: 0.73\n",
      "[45]  loss: 0.185   accuracy: 0.70\n",
      "[46]  loss: 0.186   accuracy: 0.71\n",
      "[47]  loss: 0.187   accuracy: 0.70\n",
      "[48]  loss: 0.188   accuracy: 0.70\n",
      "[49]  loss: 0.182   accuracy: 0.69\n",
      "[50]  loss: 0.183   accuracy: 0.71\n",
      "[51]  loss: 0.181   accuracy: 0.69\n",
      "[52]  loss: 0.182   accuracy: 0.69\n",
      "[53]  loss: 0.182   accuracy: 0.64\n",
      "[54]  loss: 0.181   accuracy: 0.73\n",
      "[55]  loss: 0.178   accuracy: 0.71\n",
      "[56]  loss: 0.177   accuracy: 0.75\n",
      "[57]  loss: 0.178   accuracy: 0.69\n",
      "[58]  loss: 0.170   accuracy: 0.75\n",
      "[59]  loss: 0.166   accuracy: 0.72\n",
      "[60]  loss: 0.161   accuracy: 0.75\n",
      "[61]  loss: 0.165   accuracy: 0.75\n",
      "[62]  loss: 0.162   accuracy: 0.73\n",
      "[63]  loss: 0.165   accuracy: 0.76\n",
      "[64]  loss: 0.154   accuracy: 0.75\n",
      "[65]  loss: 0.160   accuracy: 0.75\n",
      "[66]  loss: 0.155   accuracy: 0.81\n",
      "[67]  loss: 0.151   accuracy: 0.81\n",
      "[68]  loss: 0.145   accuracy: 0.85\n",
      "[69]  loss: 0.142   accuracy: 0.69\n",
      "[70]  loss: 0.146   accuracy: 0.80\n",
      "[71]  loss: 0.156   accuracy: 0.82\n",
      "[72]  loss: 0.140   accuracy: 0.85\n",
      "[73]  loss: 0.130   accuracy: 0.86\n",
      "[74]  loss: 0.137   accuracy: 0.74\n",
      "[75]  loss: 0.134   accuracy: 0.83\n",
      "[76]  loss: 0.134   accuracy: 0.81\n",
      "[77]  loss: 0.130   accuracy: 0.85\n",
      "[78]  loss: 0.126   accuracy: 0.88\n",
      "[79]  loss: 0.131   accuracy: 0.82\n",
      "[80]  loss: 0.122   accuracy: 0.87\n",
      "[81]  loss: 0.135   accuracy: 0.82\n",
      "[82]  loss: 0.126   accuracy: 0.87\n",
      "[83]  loss: 0.120   accuracy: 0.85\n",
      "[84]  loss: 0.127   accuracy: 0.83\n",
      "[85]  loss: 0.124   accuracy: 0.89\n",
      "[86]  loss: 0.136   accuracy: 0.87\n",
      "[87]  loss: 0.129   accuracy: 0.82\n",
      "[88]  loss: 0.110   accuracy: 0.89\n",
      "[89]  loss: 0.122   accuracy: 0.85\n",
      "[90]  loss: 0.107   accuracy: 0.86\n",
      "[91]  loss: 0.123   accuracy: 0.83\n",
      "[92]  loss: 0.117   accuracy: 0.82\n",
      "[93]  loss: 0.113   accuracy: 0.85\n",
      "[94]  loss: 0.112   accuracy: 0.85\n",
      "[95]  loss: 0.099   accuracy: 0.88\n",
      "[96]  loss: 0.110   accuracy: 0.84\n",
      "[97]  loss: 0.111   accuracy: 0.83\n",
      "[98]  loss: 0.108   accuracy: 0.81\n",
      "[99]  loss: 0.129   accuracy: 0.83\n",
      "[100]  loss: 0.121   accuracy: 0.77\n",
      "[101]  loss: 0.122   accuracy: 0.86\n",
      "[102]  loss: 0.112   accuracy: 0.82\n",
      "[103]  loss: 0.107   accuracy: 0.86\n",
      "[104]  loss: 0.104   accuracy: 0.89\n",
      "[105]  loss: 0.103   accuracy: 0.85\n",
      "[106]  loss: 0.097   accuracy: 0.87\n",
      "[107]  loss: 0.114   accuracy: 0.84\n",
      "[108]  loss: 0.100   accuracy: 0.86\n",
      "[109]  loss: 0.106   accuracy: 0.85\n",
      "[110]  loss: 0.106   accuracy: 0.86\n",
      "[111]  loss: 0.098   accuracy: 0.87\n",
      "[112]  loss: 0.097   accuracy: 0.85\n",
      "[113]  loss: 0.116   accuracy: 0.86\n",
      "[114]  loss: 0.111   accuracy: 0.85\n",
      "[115]  loss: 0.106   accuracy: 0.87\n",
      "[116]  loss: 0.098   accuracy: 0.83\n",
      "[117]  loss: 0.106   accuracy: 0.86\n",
      "[118]  loss: 0.098   accuracy: 0.93\n",
      "[119]  loss: 0.101   accuracy: 0.81\n",
      "[120]  loss: 0.105   accuracy: 0.83\n",
      "[121]  loss: 0.089   accuracy: 0.91\n",
      "[122]  loss: 0.111   accuracy: 0.86\n",
      "[123]  loss: 0.098   accuracy: 0.87\n",
      "[124]  loss: 0.102   accuracy: 0.88\n",
      "[125]  loss: 0.093   accuracy: 0.88\n",
      "[126]  loss: 0.102   accuracy: 0.83\n",
      "[127]  loss: 0.102   accuracy: 0.89\n",
      "[128]  loss: 0.091   accuracy: 0.87\n",
      "[129]  loss: 0.091   accuracy: 0.86\n",
      "[130]  loss: 0.097   accuracy: 0.87\n",
      "[131]  loss: 0.088   accuracy: 0.89\n",
      "[132]  loss: 0.087   accuracy: 0.88\n",
      "[133]  loss: 0.087   accuracy: 0.92\n",
      "[134]  loss: 0.089   accuracy: 0.90\n",
      "[135]  loss: 0.088   accuracy: 0.88\n",
      "[136]  loss: 0.102   accuracy: 0.89\n",
      "[137]  loss: 0.090   accuracy: 0.87\n",
      "[138]  loss: 0.087   accuracy: 0.91\n",
      "[139]  loss: 0.088   accuracy: 0.86\n",
      "[140]  loss: 0.085   accuracy: 0.90\n",
      "[141]  loss: 0.094   accuracy: 0.89\n",
      "[142]  loss: 0.086   accuracy: 0.91\n",
      "[143]  loss: 0.086   accuracy: 0.90\n",
      "[144]  loss: 0.087   accuracy: 0.85\n",
      "[145]  loss: 0.087   accuracy: 0.83\n",
      "[146]  loss: 0.097   accuracy: 0.89\n",
      "[147]  loss: 0.094   accuracy: 0.87\n",
      "[148]  loss: 0.081   accuracy: 0.90\n",
      "[149]  loss: 0.093   accuracy: 0.81\n",
      "[150]  loss: 0.093   accuracy: 0.93\n",
      "[151]  loss: 0.090   accuracy: 0.91\n",
      "[152]  loss: 0.088   accuracy: 0.88\n",
      "[153]  loss: 0.085   accuracy: 0.90\n",
      "[154]  loss: 0.086   accuracy: 0.87\n",
      "[155]  loss: 0.087   accuracy: 0.89\n",
      "[156]  loss: 0.080   accuracy: 0.90\n",
      "[157]  loss: 0.074   accuracy: 0.89\n",
      "[158]  loss: 0.084   accuracy: 0.88\n",
      "[159]  loss: 0.075   accuracy: 0.89\n",
      "[160]  loss: 0.076   accuracy: 0.92\n",
      "[161]  loss: 0.080   accuracy: 0.88\n",
      "[162]  loss: 0.081   accuracy: 0.87\n",
      "[163]  loss: 0.074   accuracy: 0.87\n",
      "[164]  loss: 0.077   accuracy: 0.89\n",
      "[165]  loss: 0.078   accuracy: 0.91\n",
      "[166]  loss: 0.077   accuracy: 0.86\n",
      "[167]  loss: 0.080   accuracy: 0.92\n",
      "[168]  loss: 0.088   accuracy: 0.94\n",
      "[169]  loss: 0.083   accuracy: 0.88\n",
      "[170]  loss: 0.080   accuracy: 0.88\n",
      "[171]  loss: 0.080   accuracy: 0.91\n",
      "[172]  loss: 0.081   accuracy: 0.90\n",
      "[173]  loss: 0.089   accuracy: 0.90\n",
      "[174]  loss: 0.087   accuracy: 0.92\n",
      "[175]  loss: 0.078   accuracy: 0.90\n",
      "[176]  loss: 0.077   accuracy: 0.90\n",
      "[177]  loss: 0.087   accuracy: 0.86\n",
      "[178]  loss: 0.078   accuracy: 0.91\n",
      "[179]  loss: 0.074   accuracy: 0.93\n",
      "[180]  loss: 0.089   accuracy: 0.90\n",
      "[181]  loss: 0.088   accuracy: 0.85\n",
      "[182]  loss: 0.086   accuracy: 0.92\n",
      "[183]  loss: 0.078   accuracy: 0.92\n",
      "[184]  loss: 0.071   accuracy: 0.92\n",
      "[185]  loss: 0.077   accuracy: 0.94\n",
      "[186]  loss: 0.083   accuracy: 0.88\n",
      "[187]  loss: 0.088   accuracy: 0.94\n",
      "[188]  loss: 0.077   accuracy: 0.90\n",
      "[189]  loss: 0.076   accuracy: 0.88\n",
      "[190]  loss: 0.086   accuracy: 0.88\n",
      "[191]  loss: 0.086   accuracy: 0.89\n",
      "[192]  loss: 0.072   accuracy: 0.92\n",
      "[193]  loss: 0.071   accuracy: 0.90\n",
      "[194]  loss: 0.078   accuracy: 0.90\n",
      "[195]  loss: 0.082   accuracy: 0.92\n",
      "[196]  loss: 0.068   accuracy: 0.92\n",
      "[197]  loss: 0.067   accuracy: 0.88\n",
      "[198]  loss: 0.078   accuracy: 0.90\n",
      "[199]  loss: 0.071   accuracy: 0.88\n",
      "[200]  loss: 0.070   accuracy: 0.93\n",
      "\n"
     ]
    }
   ],
   "source": [
    "running_loss = 0.0\n",
    "for epoch in trange(n_epochs * n_batches):\n",
    "    inputs, labels = generate_batch(batch_size)\n",
    "    optimizer.zero_grad()\n",
    "    outputs = net(inputs)\n",
    "    loss = loss_func(outputs, labels)\n",
    "    loss.backward()\n",
    "    optimizer.step()\n",
    "    running_loss += loss.item()\n",
    "    if (epoch + 1) % n_batches == 0:\n",
    "        print('[%d]  loss: %.3f   accuracy: %.2f' %\n",
    "              ((epoch + 1) // n_batches, running_loss / n_batches,\n",
    "               accuracy_func(outputs, labels)))\n",
    "        running_loss = 0.0"
   ]
  },
  {
   "cell_type": "markdown",
   "metadata": {},
   "source": [
    "## Validation"
   ]
  },
  {
   "cell_type": "code",
   "execution_count": 21,
   "metadata": {},
   "outputs": [],
   "source": [
    "x, y = generate_batch(1000)"
   ]
  },
  {
   "cell_type": "code",
   "execution_count": 22,
   "metadata": {},
   "outputs": [],
   "source": [
    "y_preds = net(x).data"
   ]
  },
  {
   "cell_type": "code",
   "execution_count": 23,
   "metadata": {},
   "outputs": [
    {
     "data": {
      "text/plain": [
       "tensor(0.9330)"
      ]
     },
     "execution_count": 23,
     "metadata": {},
     "output_type": "execute_result"
    }
   ],
   "source": [
    "accuracy_func(y_preds, y)"
   ]
  },
  {
   "cell_type": "code",
   "execution_count": 24,
   "metadata": {},
   "outputs": [
    {
     "data": {
      "text/plain": [
       "(tensor(0.5000), tensor(0.5003), tensor(0.5087), tensor(0.4175))"
      ]
     },
     "execution_count": 24,
     "metadata": {},
     "output_type": "execute_result"
    }
   ],
   "source": [
    "y.mean(), y.std(), y_preds.mean(), y_preds.std()"
   ]
  },
  {
   "cell_type": "code",
   "execution_count": 25,
   "metadata": {},
   "outputs": [],
   "source": [
    "# torch.stack([y, y_preds]).T"
   ]
  },
  {
   "cell_type": "code",
   "execution_count": 26,
   "metadata": {},
   "outputs": [
    {
     "data": {
      "text/plain": [
       "[[1.0, 0.42853862047195435],\n",
       " [1.0, 0.06840362399816513],\n",
       " [1.0, 0.08631018549203873],\n",
       " [1.0, 0.18481197953224182],\n",
       " [1.0, 0.08227770030498505],\n",
       " [1.0, 0.04901294782757759],\n",
       " [0.0, 0.5309894680976868],\n",
       " [1.0, 0.27750474214553833],\n",
       " [1.0, 0.23788805305957794],\n",
       " [1.0, 0.3813536763191223],\n",
       " [1.0, 0.3236137628555298],\n",
       " [1.0, 0.0860178992152214],\n",
       " [1.0, 0.10292121022939682],\n",
       " [1.0, 0.24312163889408112],\n",
       " [1.0, 0.04170024022459984],\n",
       " [1.0, 0.3177661895751953],\n",
       " [0.0, 0.5406751036643982],\n",
       " [1.0, 0.4191048741340637],\n",
       " [1.0, 0.09580668061971664],\n",
       " [1.0, 0.08904379606246948],\n",
       " [1.0, 0.4610323905944824],\n",
       " [0.0, 0.5608494877815247],\n",
       " [1.0, 0.04101564362645149],\n",
       " [1.0, 0.4935402274131775],\n",
       " [1.0, 0.04202152043581009],\n",
       " [1.0, 0.4965065121650696],\n",
       " [0.0, 0.6319834589958191],\n",
       " [1.0, 0.425229549407959],\n",
       " [1.0, 0.13983643054962158],\n",
       " [1.0, 0.3121874928474426],\n",
       " [0.0, 0.5840397477149963],\n",
       " [1.0, 0.4096575379371643],\n",
       " [1.0, 0.335271418094635],\n",
       " [1.0, 0.33212560415267944],\n",
       " [1.0, 0.42853862047195435],\n",
       " [1.0, 0.04297247529029846],\n",
       " [1.0, 0.2838084101676941],\n",
       " [0.0, 0.5255360007286072],\n",
       " [1.0, 0.41940033435821533],\n",
       " [1.0, 0.27918946743011475],\n",
       " [1.0, 0.37197232246398926],\n",
       " [1.0, 0.2936549186706543],\n",
       " [1.0, 0.4513692259788513],\n",
       " [1.0, 0.2232324630022049],\n",
       " [0.0, 0.611821174621582],\n",
       " [1.0, 0.1869131177663803],\n",
       " [1.0, 0.03723704814910889],\n",
       " [1.0, 0.13875511288642883],\n",
       " [1.0, 0.26040929555892944],\n",
       " [1.0, 0.3629288673400879],\n",
       " [1.0, 0.06840362399816513],\n",
       " [1.0, 0.08631018549203873],\n",
       " [1.0, 0.18481197953224182],\n",
       " [1.0, 0.08227770030498505],\n",
       " [1.0, 0.04901294782757759],\n",
       " [1.0, 0.04202152043581009],\n",
       " [1.0, 0.04578607901930809],\n",
       " [1.0, 0.3428076505661011],\n",
       " [1.0, 0.09699822217226028],\n",
       " [1.0, 0.09509690850973129],\n",
       " [0.0, 0.5082720518112183],\n",
       " [1.0, 0.2822601795196533],\n",
       " [1.0, 0.16036227345466614],\n",
       " [0.0, 0.5158467292785645],\n",
       " [1.0, 0.39445167779922485],\n",
       " [0.0, 0.5707067847251892],\n",
       " [1.0, 0.4965065121650696]]"
      ]
     },
     "execution_count": 26,
     "metadata": {},
     "output_type": "execute_result"
    }
   ],
   "source": [
    "mistakes = []\n",
    "for i in range(y.shape[0]):\n",
    "    if (y_preds[i] > 0.5) != y[i]:\n",
    "        mistakes.append([y[i].item(), y_preds[i].item()])\n",
    "mistakes"
   ]
  },
  {
   "cell_type": "markdown",
   "metadata": {},
   "source": [
    "## Info about the model"
   ]
  },
  {
   "cell_type": "code",
   "execution_count": 27,
   "metadata": {},
   "outputs": [],
   "source": [
    "# for param_tensor in net.state_dict():\n",
    "#     print(param_tensor, \"\\t\", net.state_dict()[param_tensor].size())"
   ]
  },
  {
   "cell_type": "code",
   "execution_count": 28,
   "metadata": {},
   "outputs": [],
   "source": [
    "torch.save(net.state_dict(), 'models/AI_predict_1_v1.pkl')"
   ]
  },
  {
   "cell_type": "code",
   "execution_count": null,
   "metadata": {},
   "outputs": [],
   "source": []
  }
 ],
 "metadata": {
  "kernelspec": {
   "display_name": "Python 3",
   "language": "python",
   "name": "python3"
  },
  "language_info": {
   "codemirror_mode": {
    "name": "ipython",
    "version": 3
   },
   "file_extension": ".py",
   "mimetype": "text/x-python",
   "name": "python",
   "nbconvert_exporter": "python",
   "pygments_lexer": "ipython3",
   "version": "3.8.5"
  }
 },
 "nbformat": 4,
 "nbformat_minor": 4
}
