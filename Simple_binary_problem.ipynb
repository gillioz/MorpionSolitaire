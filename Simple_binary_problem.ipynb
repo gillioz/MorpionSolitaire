{
 "cells": [
  {
   "cell_type": "markdown",
   "metadata": {},
   "source": [
    "# A simple binary problem: is there a legal move or not?\n",
    "\n",
    "This is a simplified version in which the model only answers the question whether there is at least one legal move or not."
   ]
  },
  {
   "cell_type": "code",
   "execution_count": null,
   "metadata": {},
   "outputs": [],
   "source": [
    "from MorpionSolitaire import *\n",
    "from DeepLearningMS import *"
   ]
  },
  {
   "cell_type": "code",
   "execution_count": null,
   "metadata": {},
   "outputs": [],
   "source": [
    "# from multiprocess import Pool\n",
    "# pool = Pool()"
   ]
  },
  {
   "cell_type": "markdown",
   "metadata": {},
   "source": [
    "## Data generation"
   ]
  },
  {
   "cell_type": "markdown",
   "metadata": {},
   "source": [
    "This function plays one game at random until there are no more moves, stores the grid as `grid1`, then rewinds the game to an interemediate stage, and stores the resulting grid as `grid2`. The output of the function is a tensor containing the two grids. By construction the first grid has no legal moves and the second one has at least one legal move.\n",
    "\n",
    "1/3 of the time the game is taken back to an arbitrary intermediate step.\n",
    "The other 2/3 of the time we rewind the game by only one step, so that the network gets used to identify a single allowed move. If we did not do that the training process would result in a relatively high accuracy by only identifying some types of allowed moves instead of all of them."
   ]
  },
  {
   "cell_type": "code",
   "execution_count": null,
   "metadata": {},
   "outputs": [],
   "source": [
    "def play_one_game(host = 0): # dummy argument needed for passing to pool.map\n",
    "    game = NewGame('cross').play()\n",
    "    grid1 = game.grid.image()\n",
    "    if np.random.randint(3) == 0:\n",
    "        game = game.unplay(np.random.randint(game.score - 1) + 2)\n",
    "    else:\n",
    "        game = game.unplay(1)\n",
    "    grid2 = game.grid.image()\n",
    "    return np.stack((grid1, grid2))"
   ]
  },
  {
   "cell_type": "markdown",
   "metadata": {},
   "source": [
    "Mini-batches contains a certain number of grids obtained in the way described above (computed in parallel to gain time), as well as a labels (0 for no legal moves, 1 for at least one legal move)."
   ]
  },
  {
   "cell_type": "code",
   "execution_count": null,
   "metadata": {},
   "outputs": [],
   "source": [
    "# def generate_batch(batch_size = 100):\n",
    "#     x = torch.tensor(np.concatenate(pool.map(play_one_game, range(batch_size // 2)))).float().unsqueeze(1)\n",
    "#     y = torch.tensor([0.,1.]).repeat(batch_size // 2).unsqueeze(1)\n",
    "#     return x, y"
   ]
  },
  {
   "cell_type": "code",
   "execution_count": null,
   "metadata": {},
   "outputs": [],
   "source": [
    "def generate_batch(batch_size = 100):\n",
    "    x = []\n",
    "    for _ in range(batch_size // 2):\n",
    "        x.append(play_one_game())\n",
    "    x = torch.tensor(np.concatenate(x)).float().unsqueeze(1)\n",
    "    y = torch.tensor([0.,1.]).repeat(batch_size // 2).unsqueeze(1)\n",
    "    return x, y"
   ]
  },
  {
   "cell_type": "markdown",
   "metadata": {},
   "source": [
    "20,000 grids and labels computed in this way are saved once and for all:"
   ]
  },
  {
   "cell_type": "code",
   "execution_count": null,
   "metadata": {},
   "outputs": [],
   "source": [
    "# grids = np.concatenate(pool.map(play_one_game, range(10000)))\n",
    "# np.save('data/simple_problem_grids.npy', grids)\n",
    "# grids.shape"
   ]
  },
  {
   "cell_type": "code",
   "execution_count": null,
   "metadata": {},
   "outputs": [],
   "source": [
    "# labels = np.zeros(20000, dtype=bool)\n",
    "# labels[1::2] = True\n",
    "# np.save('data/simple_problem_labels.npy', labels)\n",
    "# labels.shape"
   ]
  },
  {
   "cell_type": "markdown",
   "metadata": {},
   "source": [
    "## Data frame"
   ]
  },
  {
   "cell_type": "code",
   "execution_count": null,
   "metadata": {},
   "outputs": [],
   "source": [
    "# data = MSDataFrame(generate_batch, repeat = 1000, length = 200)\n",
    "# data.info()"
   ]
  },
  {
   "cell_type": "code",
   "execution_count": null,
   "metadata": {},
   "outputs": [
    {
     "name": "stdout",
     "output_type": "stream",
     "text": [
      "Number of mini-batches stored: 100\n",
      "Number of mini-batches created: 0\n"
     ]
    }
   ],
   "source": [
    "data = MSDataFrame(batch_size = 200, length = 100,\n",
    "                   data = 'data/simple_problem_grids.npy',\n",
    "                   labels = 'data/simple_problem_labels.npy')\n",
    "data.info()"
   ]
  },
  {
   "cell_type": "code",
   "execution_count": null,
   "metadata": {},
   "outputs": [],
   "source": [
    "x, y = data.data[0]"
   ]
  },
  {
   "cell_type": "code",
   "execution_count": null,
   "metadata": {},
   "outputs": [
    {
     "data": {
      "image/png": "[encoded data removed]",
      "text/plain": [
       "<PIL.Image.Image image mode=1 size=94x94 at 0x7FB7C83D0C10>"
      ]
     },
     "execution_count": null,
     "metadata": {},
     "output_type": "execute_result"
    }
   ],
   "source": [
    "MSvisualize(x[0])"
   ]
  },
  {
   "cell_type": "code",
   "execution_count": null,
   "metadata": {},
   "outputs": [
    {
     "data": {
      "text/plain": [
       "tensor([0.])"
      ]
     },
     "execution_count": null,
     "metadata": {},
     "output_type": "execute_result"
    }
   ],
   "source": [
    "y[0]"
   ]
  },
  {
   "cell_type": "code",
   "execution_count": null,
   "metadata": {},
   "outputs": [
    {
     "data": {
      "image/png": "[encoded data removed]",
      "text/plain": [
       "<PIL.Image.Image image mode=1 size=94x94 at 0x7FB74DC4D8B0>"
      ]
     },
     "execution_count": null,
     "metadata": {},
     "output_type": "execute_result"
    }
   ],
   "source": [
    "MSvisualize(x[1])"
   ]
  },
  {
   "cell_type": "code",
   "execution_count": null,
   "metadata": {},
   "outputs": [
    {
     "data": {
      "text/plain": [
       "tensor([1.])"
      ]
     },
     "execution_count": null,
     "metadata": {},
     "output_type": "execute_result"
    }
   ],
   "source": [
    "y[1]"
   ]
  },
  {
   "cell_type": "code",
   "execution_count": null,
   "metadata": {},
   "outputs": [
    {
     "data": {
      "image/png": "[encoded data removed]",
      "text/plain": [
       "<PIL.Image.Image image mode=1 size=94x94 at 0x7FB74DBDA1C0>"
      ]
     },
     "execution_count": null,
     "metadata": {},
     "output_type": "execute_result"
    }
   ],
   "source": [
    "MSvisualize(x[1]-x[0])"
   ]
  },
  {
   "cell_type": "markdown",
   "metadata": {},
   "source": [
    "## Model"
   ]
  },
  {
   "cell_type": "code",
   "execution_count": null,
   "metadata": {},
   "outputs": [],
   "source": [
    "net = torch.nn.Sequential(\n",
    "    torch.nn.Conv2d(1, 40, stride = 3, kernel_size = 13, padding = 0),\n",
    "    torch.nn.AdaptiveMaxPool2d(1),\n",
    "    torch.nn.Flatten(),\n",
    "    torch.nn.Linear(40, 4),\n",
    "    torch.nn.ReLU(),\n",
    "    torch.nn.Linear(4, 2),\n",
    "    torch.nn.ReLU(),\n",
    "    torch.nn.Linear(2, 1)\n",
    ")"
   ]
  },
  {
   "cell_type": "code",
   "execution_count": null,
   "metadata": {},
   "outputs": [
    {
     "data": {
      "text/plain": [
       "torch.Size([200, 1])"
      ]
     },
     "execution_count": null,
     "metadata": {},
     "output_type": "execute_result"
    }
   ],
   "source": [
    "y_pred = net(x)\n",
    "y_pred.shape"
   ]
  },
  {
   "cell_type": "code",
   "execution_count": null,
   "metadata": {},
   "outputs": [],
   "source": [
    "def accuracy(outputs, labels):\n",
    "    return ((outputs > 0.5) == labels).float().mean()"
   ]
  },
  {
   "cell_type": "code",
   "execution_count": null,
   "metadata": {},
   "outputs": [
    {
     "data": {
      "text/plain": [
       "tensor(0.5000)"
      ]
     },
     "execution_count": null,
     "metadata": {},
     "output_type": "execute_result"
    }
   ],
   "source": [
    "accuracy(y_pred, y)"
   ]
  },
  {
   "cell_type": "markdown",
   "metadata": {},
   "source": [
    "## Training"
   ]
  },
  {
   "cell_type": "code",
   "execution_count": null,
   "metadata": {},
   "outputs": [],
   "source": [
    "running_loss_data = []\n",
    "accuracy_data = []"
   ]
  },
  {
   "cell_type": "code",
   "execution_count": null,
   "metadata": {},
   "outputs": [
    {
     "data": {
      "application/vnd.jupyter.widget-view+json": {
       "model_id": "b8a0df6a4ba44d63a9b53d89ba106e92",
       "version_major": 2,
       "version_minor": 0
      },
      "text/plain": [
       "HBox(children=(HTML(value=''), FloatProgress(value=0.0), HTML(value='')))"
      ]
     },
     "metadata": {},
     "output_type": "display_data"
    },
    {
     "name": "stderr",
     "output_type": "stream",
     "text": [
      "/home/marc/anaconda3/lib/python3.8/site-packages/torch/autograd/__init__.py:130: UserWarning: CUDA initialization: Found no NVIDIA driver on your system. Please check that you have an NVIDIA GPU and installed a driver from http://www.nvidia.com/Download/index.aspx (Triggered internally at  /pytorch/c10/cuda/CUDAFunctions.cpp:100.)\n",
      "  Variable._execution_engine.run_backward(\n"
     ]
    },
    {
     "name": "stdout",
     "output_type": "stream",
     "text": [
      "[0]  loss: 0.249   accuracy: 0.55\n",
      "[1]  loss: 0.246   accuracy: 0.57\n",
      "[2]  loss: 0.241   accuracy: 0.57\n",
      "[3]  loss: 0.238   accuracy: 0.58\n",
      "[4]  loss: 0.235   accuracy: 0.58\n",
      "[5]  loss: 0.233   accuracy: 0.58\n",
      "[6]  loss: 0.230   accuracy: 0.59\n",
      "[7]  loss: 0.226   accuracy: 0.61\n",
      "[8]  loss: 0.222   accuracy: 0.63\n",
      "[9]  loss: 0.217   accuracy: 0.65\n",
      "[10]  loss: 0.213   accuracy: 0.65\n",
      "[11]  loss: 0.210   accuracy: 0.66\n",
      "[12]  loss: 0.207   accuracy: 0.66\n",
      "[13]  loss: 0.204   accuracy: 0.67\n",
      "[14]  loss: 0.201   accuracy: 0.68\n",
      "[15]  loss: 0.198   accuracy: 0.68\n",
      "[16]  loss: 0.200   accuracy: 0.68\n",
      "[17]  loss: 0.195   accuracy: 0.69\n",
      "[18]  loss: 0.193   accuracy: 0.70\n",
      "[19]  loss: 0.189   accuracy: 0.70\n",
      "[20]  loss: 0.189   accuracy: 0.71\n",
      "[21]  loss: 0.186   accuracy: 0.71\n",
      "[22]  loss: 0.183   accuracy: 0.72\n",
      "[23]  loss: 0.180   accuracy: 0.72\n",
      "[24]  loss: 0.179   accuracy: 0.73\n",
      "[25]  loss: 0.175   accuracy: 0.73\n",
      "[26]  loss: 0.174   accuracy: 0.73\n",
      "[27]  loss: 0.172   accuracy: 0.73\n",
      "[28]  loss: 0.170   accuracy: 0.74\n",
      "[29]  loss: 0.167   accuracy: 0.75\n",
      "[30]  loss: 0.169   accuracy: 0.74\n",
      "[31]  loss: 0.165   accuracy: 0.75\n",
      "[32]  loss: 0.164   accuracy: 0.75\n",
      "[33]  loss: 0.158   accuracy: 0.76\n",
      "[34]  loss: 0.169   accuracy: 0.74\n",
      "[35]  loss: 0.155   accuracy: 0.77\n",
      "[36]  loss: 0.151   accuracy: 0.78\n",
      "[37]  loss: 0.153   accuracy: 0.78\n",
      "[38]  loss: 0.147   accuracy: 0.78\n",
      "[39]  loss: 0.139   accuracy: 0.80\n",
      "[40]  loss: 0.122   accuracy: 0.84\n",
      "[41]  loss: 0.137   accuracy: 0.81\n",
      "[42]  loss: 0.125   accuracy: 0.83\n",
      "[43]  loss: 0.119   accuracy: 0.84\n",
      "[44]  loss: 0.117   accuracy: 0.84\n",
      "[45]  loss: 0.122   accuracy: 0.83\n",
      "[46]  loss: 0.112   accuracy: 0.85\n",
      "[47]  loss: 0.117   accuracy: 0.84\n",
      "[48]  loss: 0.109   accuracy: 0.86\n",
      "[49]  loss: 0.100   accuracy: 0.88\n",
      "[50]  loss: 0.100   accuracy: 0.87\n",
      "[51]  loss: 0.098   accuracy: 0.88\n",
      "[52]  loss: 0.100   accuracy: 0.88\n",
      "[53]  loss: 0.094   accuracy: 0.89\n",
      "[54]  loss: 0.087   accuracy: 0.90\n",
      "[55]  loss: 0.092   accuracy: 0.90\n",
      "[56]  loss: 0.092   accuracy: 0.89\n",
      "[57]  loss: 0.083   accuracy: 0.91\n",
      "[58]  loss: 0.091   accuracy: 0.89\n",
      "[59]  loss: 0.085   accuracy: 0.90\n",
      "[60]  loss: 0.082   accuracy: 0.91\n",
      "[61]  loss: 0.084   accuracy: 0.91\n",
      "[62]  loss: 0.074   accuracy: 0.92\n",
      "[63]  loss: 0.072   accuracy: 0.93\n",
      "[64]  loss: 0.074   accuracy: 0.92\n",
      "[65]  loss: 0.066   accuracy: 0.94\n",
      "[66]  loss: 0.070   accuracy: 0.93\n",
      "[67]  loss: 0.061   accuracy: 0.94\n",
      "[68]  loss: 0.053   accuracy: 0.96\n",
      "[69]  loss: 0.067   accuracy: 0.94\n",
      "[70]  loss: 0.053   accuracy: 0.96\n",
      "[71]  loss: 0.056   accuracy: 0.95\n",
      "[72]  loss: 0.053   accuracy: 0.96\n",
      "[73]  loss: 0.038   accuracy: 0.97\n",
      "[74]  loss: 0.051   accuracy: 0.96\n",
      "[75]  loss: 0.034   accuracy: 0.98\n",
      "[76]  loss: 0.040   accuracy: 0.98\n",
      "[77]  loss: 0.036   accuracy: 0.98\n",
      "[78]  loss: 0.021   accuracy: 0.99\n",
      "[79]  loss: 0.037   accuracy: 0.98\n",
      "[80]  loss: 0.035   accuracy: 0.98\n",
      "[81]  loss: 0.023   accuracy: 0.99\n",
      "[82]  loss: 0.033   accuracy: 0.99\n",
      "[83]  loss: 0.023   accuracy: 0.99\n",
      "[84]  loss: 0.023   accuracy: 0.99\n",
      "[85]  loss: 0.020   accuracy: 0.99\n",
      "[86]  loss: 0.022   accuracy: 0.99\n",
      "[87]  loss: 0.025   accuracy: 0.99\n",
      "[88]  loss: 0.022   accuracy: 0.99\n",
      "[89]  loss: 0.019   accuracy: 0.99\n",
      "[90]  loss: 0.015   accuracy: 0.99\n",
      "[91]  loss: 0.015   accuracy: 0.99\n",
      "[92]  loss: 0.014   accuracy: 0.99\n",
      "[93]  loss: 0.015   accuracy: 0.99\n",
      "[94]  loss: 0.014   accuracy: 0.99\n",
      "[95]  loss: 0.016   accuracy: 0.99\n",
      "[96]  loss: 0.015   accuracy: 0.99\n",
      "[97]  loss: 0.013   accuracy: 0.99\n",
      "[98]  loss: 0.013   accuracy: 0.99\n",
      "[99]  loss: 0.013   accuracy: 0.99\n",
      "\n"
     ]
    }
   ],
   "source": [
    "data.train_model(net, n_epochs = 100, lr=0.005, accuracy_func = accuracy,\n",
    "                 loss_monitoring = running_loss_data,\n",
    "                 accuracy_monitoring = accuracy_data)"
   ]
  },
  {
   "cell_type": "code",
   "execution_count": null,
   "metadata": {},
   "outputs": [],
   "source": [
    "# torch.save(net, 'models/Democritus.pt')"
   ]
  },
  {
   "cell_type": "code",
   "execution_count": null,
   "metadata": {},
   "outputs": [
    {
     "name": "stdout",
     "output_type": "stream",
     "text": [
      "Number of mini-batches stored: 100\n",
      "Number of mini-batches created: 0\n"
     ]
    }
   ],
   "source": [
    "data.info()"
   ]
  },
  {
   "cell_type": "code",
   "execution_count": null,
   "metadata": {},
   "outputs": [
    {
     "data": {
      "image/png": "[encoded data removed]",
      "text/plain": [
       "<Figure size 432x288 with 1 Axes>"
      ]
     },
     "metadata": {
      "needs_background": "light"
     },
     "output_type": "display_data"
    }
   ],
   "source": [
    "plt.plot(running_loss_data, color='red')\n",
    "plt.xlabel('Epochs')\n",
    "plt.xlim(0, 99)\n",
    "plt.ylabel('Loss function (MSE)')\n",
    "plt.yscale('log')\n",
    "# plt.savefig('Democritus_loss.png', bbox_inches='tight')\n",
    "plt.show()"
   ]
  },
  {
   "cell_type": "code",
   "execution_count": null,
   "metadata": {},
   "outputs": [
    {
     "data": {
      "image/png": "[encoded data removed]",
      "text/plain": [
       "<Figure size 432x288 with 1 Axes>"
      ]
     },
     "metadata": {
      "needs_background": "light"
     },
     "output_type": "display_data"
    }
   ],
   "source": [
    "plt.plot(accuracy_data, color='blue')\n",
    "plt.xlabel('Epochs')\n",
    "plt.ylabel('Accuracy')\n",
    "plt.xlim(0, 99)\n",
    "plt.ylim(0.5, 1)\n",
    "# plt.savefig('Democritus_accuracy.png', bbox_inches='tight')\n",
    "plt.show()"
   ]
  },
  {
   "cell_type": "code",
   "execution_count": null,
   "metadata": {},
   "outputs": [],
   "source": [
    "error_data = [1.0 - x for x in accuracy_data]"
   ]
  },
  {
   "cell_type": "code",
   "execution_count": null,
   "metadata": {},
   "outputs": [
    {
     "data": {
      "image/png": "[encoded data removed]",
      "text/plain": [
       "<Figure size 432x288 with 1 Axes>"
      ]
     },
     "metadata": {
      "needs_background": "light"
     },
     "output_type": "display_data"
    }
   ],
   "source": [
    "plt.plot(error_data)\n",
    "plt.xlabel('Epochs')\n",
    "plt.ylabel('Error')\n",
    "plt.yscale('log')\n",
    "plt.show()"
   ]
  },
  {
   "cell_type": "markdown",
   "metadata": {},
   "source": [
    "## Loading the model\n",
    "\n",
    "Once the model has been trained, this can be used to load its state dictionary:"
   ]
  },
  {
   "cell_type": "code",
   "execution_count": null,
   "metadata": {},
   "outputs": [],
   "source": [
    "# net = torch.load('models/Democritus.pt')\n",
    "# net.eval()"
   ]
  },
  {
   "cell_type": "markdown",
   "metadata": {},
   "source": [
    "## Validation"
   ]
  },
  {
   "cell_type": "code",
   "execution_count": null,
   "metadata": {},
   "outputs": [],
   "source": [
    "x, y = generate_batch(1000)"
   ]
  },
  {
   "cell_type": "code",
   "execution_count": null,
   "metadata": {},
   "outputs": [],
   "source": [
    "y_preds = net(x).data"
   ]
  },
  {
   "cell_type": "code",
   "execution_count": null,
   "metadata": {},
   "outputs": [
    {
     "data": {
      "text/plain": [
       "tensor(0.9910)"
      ]
     },
     "execution_count": null,
     "metadata": {},
     "output_type": "execute_result"
    }
   ],
   "source": [
    "accuracy(y_preds, y)"
   ]
  },
  {
   "cell_type": "code",
   "execution_count": null,
   "metadata": {},
   "outputs": [
    {
     "data": {
      "text/plain": [
       "(tensor(0.5000), tensor(0.5003), tensor(0.5172), tensor(0.4768))"
      ]
     },
     "execution_count": null,
     "metadata": {},
     "output_type": "execute_result"
    }
   ],
   "source": [
    "y.mean(), y.std(), y_preds.mean(), y_preds.std()"
   ]
  },
  {
   "cell_type": "code",
   "execution_count": null,
   "metadata": {},
   "outputs": [
    {
     "data": {
      "text/plain": [
       "[[0.0, 0.9490686655044556, 82],\n",
       " [0.0, 0.9476900696754456, 284],\n",
       " [0.0, 0.9520288705825806, 302],\n",
       " [0.0, 0.942275881767273, 364],\n",
       " [0.0, 0.9486956000328064, 366],\n",
       " [0.0, 0.9575375318527222, 468],\n",
       " [0.0, 0.9449511170387268, 522],\n",
       " [0.0, 0.947419285774231, 640],\n",
       " [0.0, 0.9446878433227539, 964]]"
      ]
     },
     "execution_count": null,
     "metadata": {},
     "output_type": "execute_result"
    }
   ],
   "source": [
    "mistakes = []\n",
    "for i in range(y.shape[0]):\n",
    "    if (y_preds[i] > 0.5) != y[i]:\n",
    "        mistakes.append([y[i].item(), y_preds[i].item(), i])\n",
    "mistakes"
   ]
  },
  {
   "cell_type": "code",
   "execution_count": null,
   "metadata": {},
   "outputs": [
    {
     "data": {
      "image/png": "[encoded data removed]",
      "text/plain": [
       "<PIL.Image.Image image mode=1 size=94x94 at 0x7FB74C970DC0>"
      ]
     },
     "execution_count": null,
     "metadata": {},
     "output_type": "execute_result"
    }
   ],
   "source": [
    "MSvisualize(x[mistakes[0][2]])"
   ]
  },
  {
   "cell_type": "code",
   "execution_count": null,
   "metadata": {},
   "outputs": [
    {
     "data": {
      "image/png": "[encoded data removed]",
      "text/plain": [
       "<PIL.Image.Image image mode=1 size=94x94 at 0x7FB74C5280A0>"
      ]
     },
     "execution_count": null,
     "metadata": {},
     "output_type": "execute_result"
    }
   ],
   "source": [
    "MSvisualize(x[mistakes[1][2]])"
   ]
  },
  {
   "cell_type": "code",
   "execution_count": null,
   "metadata": {},
   "outputs": [
    {
     "data": {
      "image/png": "[encoded data removed]",
      "text/plain": [
       "<PIL.Image.Image image mode=1 size=94x94 at 0x7FB74C53E0D0>"
      ]
     },
     "execution_count": null,
     "metadata": {},
     "output_type": "execute_result"
    }
   ],
   "source": [
    "MSvisualize(x[mistakes[2][2]])"
   ]
  },
  {
   "cell_type": "markdown",
   "metadata": {},
   "source": [
    "## Network state"
   ]
  },
  {
   "cell_type": "code",
   "execution_count": null,
   "metadata": {},
   "outputs": [
    {
     "name": "stdout",
     "output_type": "stream",
     "text": [
      "torch.Size([40, 1, 13, 13])\n",
      "torch.Size([40])\n",
      "torch.Size([4, 40])\n",
      "torch.Size([4])\n",
      "torch.Size([2, 4])\n",
      "torch.Size([2])\n",
      "torch.Size([1, 2])\n",
      "torch.Size([1])\n"
     ]
    }
   ],
   "source": [
    "params = []\n",
    "for param in net.parameters():\n",
    "    params.append(param.data)\n",
    "    print(param.size())"
   ]
  },
  {
   "cell_type": "code",
   "execution_count": null,
   "metadata": {},
   "outputs": [],
   "source": [
    "def divisors(x):\n",
    "    i = np.round(np.sqrt(x)).astype(int)\n",
    "    for j in range(i - 1):\n",
    "        if x % (i - j) == 0:\n",
    "            n = x // (i - j)\n",
    "            return (n, x // n)\n",
    "    return (x, 1)"
   ]
  },
  {
   "cell_type": "code",
   "execution_count": null,
   "metadata": {},
   "outputs": [],
   "source": [
    "# par = np.array(params[0].squeeze())\n",
    "# par *= -1.0\n",
    "# par = par - np.min(par)\n",
    "# par = par / np.max(par)\n",
    "# par = np.round(255 * par)\n",
    "# w, h = divisors(par.shape[0])\n",
    "# im = np.zeros((15 * h, 15 * w), dtype = int)\n",
    "# for i in range(h):\n",
    "#     for j in range(w):\n",
    "#         im[15*i+1:15*i+14,15*j+1:15*j+14] = par[w*i + j]\n",
    "# image = Image.fromarray(np.uint8(im), 'L').resize((w*60, h*60), resample=0, box=None)\n",
    "# image"
   ]
  },
  {
   "cell_type": "code",
   "execution_count": null,
   "metadata": {},
   "outputs": [
    {
     "data": {
      "image/png": "[encoded data removed]",
      "text/plain": [
       "<PIL.Image.Image image mode=RGB size=480x300 at 0x7FB74C53E9D0>"
      ]
     },
     "execution_count": null,
     "metadata": {},
     "output_type": "execute_result"
    }
   ],
   "source": [
    "par = params[0].squeeze()\n",
    "par /= torch.max(torch.abs(par))\n",
    "blue = torch.tensor([1,1,0]).unsqueeze(1).unsqueeze(2)\n",
    "red = torch.tensor([0,1,1]).unsqueeze(1).unsqueeze(2)\n",
    "par = (blue * torch.where(par > 0, par, 0.0 * par).unsqueeze(1)\n",
    "       + red * torch.where(par < 0, -1.0 * par, 0.0 * par).unsqueeze(1))\n",
    "par = np.round(255 * par)\n",
    "par = np.array(par).astype(int)\n",
    "w, h = divisors(par.shape[0])\n",
    "im = np.zeros((15 * h, 15 * w, 3), dtype = int)\n",
    "for i in range(h):\n",
    "    for j in range(w):\n",
    "        for c in range(3):\n",
    "            im[15*i+1:15*i+14,15*j+1:15*j+14,c] = 255 - par[w*i + j, c]\n",
    "image = Image.fromarray(np.uint8(im), 'RGB').resize((w*60, h*60), resample=0, box=None)\n",
    "image"
   ]
  },
  {
   "cell_type": "code",
   "execution_count": null,
   "metadata": {},
   "outputs": [],
   "source": [
    "# image.save('Democritus_convlayer.png')"
   ]
  },
  {
   "cell_type": "code",
   "execution_count": null,
   "metadata": {},
   "outputs": [],
   "source": [
    "kernel = params[0][37].squeeze()"
   ]
  },
  {
   "cell_type": "code",
   "execution_count": null,
   "metadata": {},
   "outputs": [
    {
     "data": {
      "text/plain": [
       "tensor([ 0.8419, -0.8200, -0.8803,  0.8365,  0.0042, -0.0134,  0.8313,  0.0803,\n",
       "        -0.0823,  0.8359, -0.8455, -0.8557,  0.8421])"
      ]
     },
     "execution_count": null,
     "metadata": {},
     "output_type": "execute_result"
    }
   ],
   "source": [
    "segment = kernel[9]\n",
    "segment"
   ]
  },
  {
   "cell_type": "code",
   "execution_count": null,
   "metadata": {},
   "outputs": [
    {
     "data": {
      "text/plain": [
       "tensor(4.1877)"
      ]
     },
     "execution_count": null,
     "metadata": {},
     "output_type": "execute_result"
    }
   ],
   "source": [
    "val = segment * torch.tensor([1, 0, 0, 1, 0, 0, 1, 0, 0, 1, 0, 0, 1])\n",
    "val = val.sum()\n",
    "val"
   ]
  },
  {
   "cell_type": "markdown",
   "metadata": {},
   "source": [
    "## Remarks\n",
    "\n",
    "- The same network has been trained with dynamical data (using new grids after 8 iterations). Results are identical. This shows that the pool of data used here is sufficiently large.\n",
    "\n",
    "- Training with smaller mini-batches means quicker learning, but often saturation at accuracies way below 99%. With batch size 50 I got up to around 90% accuracy at best, with batch size 100 up to 95-98%.\n",
    "\n",
    "- Most of the first layer is ends up unused, but working with fewer channels does not work: either some features are missing in the end, resulting in low accuracy, or the neural net gets stuck in a state where it always returns 0.5 after the first few training steps, yielding a loss function 0.25 and accuracy 0.5. "
   ]
  },
  {
   "cell_type": "code",
   "execution_count": null,
   "metadata": {},
   "outputs": [],
   "source": []
  },
  {
   "cell_type": "code",
   "execution_count": null,
   "metadata": {},
   "outputs": [],
   "source": []
  },
  {
   "cell_type": "code",
   "execution_count": null,
   "metadata": {},
   "outputs": [],
   "source": []
  }
 ],
 "metadata": {
  "kernelspec": {
   "display_name": "Python 3",
   "language": "python",
   "name": "python3"
  }
 },
 "nbformat": 4,
 "nbformat_minor": 4
}
