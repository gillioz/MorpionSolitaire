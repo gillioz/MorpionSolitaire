{
 "cells": [
  {
   "cell_type": "markdown",
   "metadata": {},
   "source": [
    "# A simple binary problem: is there a legal move or not?\n",
    "\n",
    "This is a simplified version in which the model only answers the question whether there is at least one legal move or not."
   ]
  },
  {
   "cell_type": "code",
   "execution_count": null,
   "metadata": {},
   "outputs": [],
   "source": [
    "from MorpionSolitaire import *\n",
    "from DeepLearningMS import *"
   ]
  },
  {
   "cell_type": "code",
   "execution_count": null,
   "metadata": {},
   "outputs": [],
   "source": [
    "# from multiprocess import Pool\n",
    "# pool = Pool()"
   ]
  },
  {
   "cell_type": "markdown",
   "metadata": {},
   "source": [
    "## Data generation"
   ]
  },
  {
   "cell_type": "markdown",
   "metadata": {},
   "source": [
    "This function plays one game at random until there are no more moves, stores the grid as `grid1`, then rewinds the game to an interemediate stage, and stores the resulting grid as `grid2`. The output of the function is a tensor containing the two grids. By construction the first grid has no legal moves and the second one has at least one legal move.\n",
    "\n",
    "1/3 of the time the game is taken back to an arbitrary intermediate step.\n",
    "The other 2/3 of the time we rewind the game by only one step, so that the network gets used to identify a single allowed move. If we did not do that the training process would result in a relatively high accuracy by only identifying some types of allowed moves instead of all of them."
   ]
  },
  {
   "cell_type": "code",
   "execution_count": null,
   "metadata": {},
   "outputs": [],
   "source": [
    "def play_one_game(host = 0): # dummy argument needed for passing to pool.map\n",
    "    game = NewGame('cross').play()\n",
    "    grid1 = game.grid.image()\n",
    "    if np.random.randint(3) == 0:\n",
    "        game = game.unplay(np.random.randint(game.score - 1) + 2)\n",
    "    else:\n",
    "        game = game.unplay(1)\n",
    "    grid2 = game.grid.image()\n",
    "    return np.stack((grid1, grid2))"
   ]
  },
  {
   "cell_type": "markdown",
   "metadata": {},
   "source": [
    "Mini-batches contains a certain number of grids obtained in the way described above (computed in parallel to gain time), as well as a labels (0 for no legal moves, 1 for at least one legal move)."
   ]
  },
  {
   "cell_type": "code",
   "execution_count": null,
   "metadata": {},
   "outputs": [],
   "source": [
    "# def generate_batch(batch_size = 100):\n",
    "#     x = torch.tensor(np.concatenate(pool.map(play_one_game, range(batch_size // 2)))).float().unsqueeze(1)\n",
    "#     y = torch.tensor([0.,1.]).repeat(batch_size // 2).unsqueeze(1)\n",
    "#     return x, y"
   ]
  },
  {
   "cell_type": "code",
   "execution_count": null,
   "metadata": {},
   "outputs": [],
   "source": [
    "def generate_batch(batch_size = 100):\n",
    "    x = []\n",
    "    for _ in range(batch_size // 2):\n",
    "        x.append(play_one_game())\n",
    "    x = torch.tensor(np.concatenate(x)).float().unsqueeze(1)\n",
    "    y = torch.tensor([0.,1.]).repeat(batch_size // 2).unsqueeze(1)\n",
    "    return x, y"
   ]
  },
  {
   "cell_type": "markdown",
   "metadata": {},
   "source": [
    "20,000 grids and labels computed in this way are saved once and for all:"
   ]
  },
  {
   "cell_type": "code",
   "execution_count": null,
   "metadata": {},
   "outputs": [],
   "source": [
    "# grids = np.concatenate(pool.map(play_one_game, range(10000)))\n",
    "# np.save('data/simple_problem_grids.npy', grids)\n",
    "# grids.shape"
   ]
  },
  {
   "cell_type": "code",
   "execution_count": null,
   "metadata": {},
   "outputs": [],
   "source": [
    "# labels = np.zeros(20000, dtype=bool)\n",
    "# labels[1::2] = True\n",
    "# np.save('data/simple_problem_labels.npy', labels)\n",
    "# labels.shape"
   ]
  },
  {
   "cell_type": "markdown",
   "metadata": {},
   "source": [
    "## Data frame"
   ]
  },
  {
   "cell_type": "code",
   "execution_count": null,
   "metadata": {},
   "outputs": [],
   "source": [
    "# data = MSDataFrame(generate_batch, repeat = 1000, length = 200)\n",
    "# data.info()"
   ]
  },
  {
   "cell_type": "code",
   "execution_count": null,
   "metadata": {},
   "outputs": [
    {
     "name": "stdout",
     "output_type": "stream",
     "text": [
      "Number of mini-batches stored: 100\n",
      "Number of mini-batches created: 0\n"
     ]
    }
   ],
   "source": [
    "data = MSDataFrame(batch_size = 200, length = 100,\n",
    "                   data = 'data/simple_problem_grids.npy',\n",
    "                   labels = 'data/simple_problem_labels.npy')\n",
    "data.info()"
   ]
  },
  {
   "cell_type": "code",
   "execution_count": null,
   "metadata": {},
   "outputs": [],
   "source": [
    "x, y = data.data[0]"
   ]
  },
  {
   "cell_type": "code",
   "execution_count": null,
   "metadata": {},
   "outputs": [
    {
     "data": {
      "image/png": "[encoded data removed]",
      "text/plain": [
       "<PIL.Image.Image image mode=1 size=94x94 at 0x7FA5351F50D0>"
      ]
     },
     "execution_count": null,
     "metadata": {},
     "output_type": "execute_result"
    }
   ],
   "source": [
    "MSvisualize(x[0])"
   ]
  },
  {
   "cell_type": "code",
   "execution_count": null,
   "metadata": {},
   "outputs": [
    {
     "data": {
      "text/plain": [
       "tensor([0.])"
      ]
     },
     "execution_count": null,
     "metadata": {},
     "output_type": "execute_result"
    }
   ],
   "source": [
    "y[0]"
   ]
  },
  {
   "cell_type": "code",
   "execution_count": null,
   "metadata": {},
   "outputs": [
    {
     "data": {
      "image/png": "[encoded data removed]",
      "text/plain": [
       "<PIL.Image.Image image mode=1 size=94x94 at 0x7FA535253E80>"
      ]
     },
     "execution_count": null,
     "metadata": {},
     "output_type": "execute_result"
    }
   ],
   "source": [
    "MSvisualize(x[1])"
   ]
  },
  {
   "cell_type": "code",
   "execution_count": null,
   "metadata": {},
   "outputs": [
    {
     "data": {
      "text/plain": [
       "tensor([1.])"
      ]
     },
     "execution_count": null,
     "metadata": {},
     "output_type": "execute_result"
    }
   ],
   "source": [
    "y[1]"
   ]
  },
  {
   "cell_type": "code",
   "execution_count": null,
   "metadata": {},
   "outputs": [
    {
     "data": {
      "image/png": "[encoded data removed]",
      "text/plain": [
       "<PIL.Image.Image image mode=1 size=94x94 at 0x7FA5351C4FA0>"
      ]
     },
     "execution_count": null,
     "metadata": {},
     "output_type": "execute_result"
    }
   ],
   "source": [
    "MSvisualize(x[1]-x[0])"
   ]
  },
  {
   "cell_type": "markdown",
   "metadata": {},
   "source": [
    "## Accuracy function"
   ]
  },
  {
   "cell_type": "code",
   "execution_count": null,
   "metadata": {},
   "outputs": [],
   "source": [
    "def accuracy(outputs, labels):\n",
    "    return ((outputs > 0.5) == labels).float().mean()"
   ]
  },
  {
   "cell_type": "markdown",
   "metadata": {},
   "source": [
    "## Model"
   ]
  },
  {
   "cell_type": "code",
   "execution_count": null,
   "metadata": {},
   "outputs": [],
   "source": [
    "# net = torch.nn.Sequential(\n",
    "#     torch.nn.Conv2d(1, 5, stride = 3, kernel_size = 3, padding = 1, bias = False), # output 32 x 32 pixels\n",
    "#     torch.nn.Conv2d(5, 40, stride = 1, kernel_size = 5, padding = 2), # output 32 x 32 pixels\n",
    "#     torch.nn.ReLU(),\n",
    "#     torch.nn.Conv2d(40, 10, stride = 1, kernel_size = 1, padding = 0), # output 32 x 32 pixels\n",
    "#     torch.nn.AdaptiveMaxPool2d(1),\n",
    "#     torch.nn.Flatten(),\n",
    "#     torch.nn.Linear(10, 3),\n",
    "#     torch.nn.ReLU(),\n",
    "#     torch.nn.Linear(3, 1)\n",
    "# )"
   ]
  },
  {
   "cell_type": "markdown",
   "metadata": {},
   "source": [
    "Set the first layer to be non-trainable, and initialize to nice values:"
   ]
  },
  {
   "cell_type": "code",
   "execution_count": null,
   "metadata": {},
   "outputs": [],
   "source": [
    "# for param in net.parameters():\n",
    "#     firstlayer = param\n",
    "#     break\n",
    "# firstlayer.requires_grad = False\n",
    "# for c in range(5):\n",
    "#     firstlayer[c,0] = torch.zeros(3,3)\n",
    "# firstlayer[0,0,1,1] = 1.0\n",
    "# firstlayer[1,0,0,1] = 1.0\n",
    "# firstlayer[2,0,1,0] = 1.0\n",
    "# firstlayer[3,0,0,0] = 1.0\n",
    "# firstlayer[4,0,0,2] = 1.0\n",
    "# firstlayer"
   ]
  },
  {
   "cell_type": "code",
   "execution_count": null,
   "metadata": {},
   "outputs": [],
   "source": [
    "net = torch.nn.Sequential(\n",
    "    torch.nn.Conv2d(1, 20, stride = 3, kernel_size = 3, padding = 1), # output 32 x 32 pixels\n",
    "    torch.nn.ReLU(),\n",
    "    torch.nn.Conv2d(20, 40, stride = 1, kernel_size = 2, padding = 0), # output 31 x 31 pixels\n",
    "    torch.nn.ReLU(),\n",
    "    torch.nn.Conv2d(40, 40, stride = 1, kernel_size = 2, padding = 0), # output 30 x 30 pixels\n",
    "    torch.nn.ReLU(),\n",
    "    torch.nn.Conv2d(40, 40, stride = 1, kernel_size = 2, padding = 0), # output 29 x 29 pixels\n",
    "    torch.nn.ReLU(),\n",
    "    torch.nn.Conv2d(40, 10, stride = 1, kernel_size = 2, padding = 0), # output 28 x 28 pixels\n",
    "    torch.nn.AdaptiveMaxPool2d(1),\n",
    "    torch.nn.Flatten(),\n",
    "    torch.nn.Linear(10, 3),\n",
    "    torch.nn.ReLU(),\n",
    "    torch.nn.Linear(3, 1)\n",
    ")"
   ]
  },
  {
   "cell_type": "code",
   "execution_count": null,
   "metadata": {},
   "outputs": [
    {
     "data": {
      "text/plain": [
       "torch.Size([200, 1])"
      ]
     },
     "execution_count": null,
     "metadata": {},
     "output_type": "execute_result"
    }
   ],
   "source": [
    "y_pred = net(x)\n",
    "y_pred.shape"
   ]
  },
  {
   "cell_type": "code",
   "execution_count": null,
   "metadata": {},
   "outputs": [
    {
     "data": {
      "text/plain": [
       "tensor(0.5000)"
      ]
     },
     "execution_count": null,
     "metadata": {},
     "output_type": "execute_result"
    }
   ],
   "source": [
    "accuracy(y_pred, y)"
   ]
  },
  {
   "cell_type": "markdown",
   "metadata": {},
   "source": [
    "## Training"
   ]
  },
  {
   "cell_type": "code",
   "execution_count": null,
   "metadata": {},
   "outputs": [],
   "source": [
    "running_loss_data = []\n",
    "accuracy_data = []"
   ]
  },
  {
   "cell_type": "code",
   "execution_count": null,
   "metadata": {},
   "outputs": [
    {
     "data": {
      "application/vnd.jupyter.widget-view+json": {
       "model_id": "60e7ed087b2e4ba4abd52b4cfd1f6997",
       "version_major": 2,
       "version_minor": 0
      },
      "text/plain": [
       "HBox(children=(HTML(value=''), FloatProgress(value=0.0, max=200.0), HTML(value='')))"
      ]
     },
     "metadata": {},
     "output_type": "display_data"
    },
    {
     "name": "stderr",
     "output_type": "stream",
     "text": [
      "/home/marc/anaconda3/lib/python3.8/site-packages/torch/autograd/__init__.py:130: UserWarning: CUDA initialization: Found no NVIDIA driver on your system. Please check that you have an NVIDIA GPU and installed a driver from http://www.nvidia.com/Download/index.aspx (Triggered internally at  /pytorch/c10/cuda/CUDAFunctions.cpp:100.)\n",
      "  Variable._execution_engine.run_backward(\n"
     ]
    },
    {
     "name": "stdout",
     "output_type": "stream",
     "text": [
      "[0]  loss: 0.282   accuracy: 0.50\n",
      "[1]  loss: 0.250   accuracy: 0.55\n",
      "[2]  loss: 0.250   accuracy: 0.58\n",
      "[3]  loss: 0.250   accuracy: 0.58\n",
      "[4]  loss: 0.249   accuracy: 0.58\n",
      "[5]  loss: 0.249   accuracy: 0.58\n",
      "[6]  loss: 0.248   accuracy: 0.57\n",
      "[7]  loss: 0.243   accuracy: 0.58\n",
      "[8]  loss: 0.239   accuracy: 0.58\n",
      "[9]  loss: 0.236   accuracy: 0.58\n",
      "[10]  loss: 0.235   accuracy: 0.58\n",
      "[11]  loss: 0.233   accuracy: 0.59\n",
      "[12]  loss: 0.231   accuracy: 0.59\n",
      "[13]  loss: 0.230   accuracy: 0.59\n",
      "[14]  loss: 0.229   accuracy: 0.60\n",
      "[15]  loss: 0.228   accuracy: 0.60\n",
      "[16]  loss: 0.228   accuracy: 0.60\n",
      "[17]  loss: 0.227   accuracy: 0.60\n",
      "[18]  loss: 0.226   accuracy: 0.61\n",
      "[19]  loss: 0.226   accuracy: 0.61\n",
      "[20]  loss: 0.226   accuracy: 0.61\n",
      "[21]  loss: 0.225   accuracy: 0.61\n",
      "[22]  loss: 0.224   accuracy: 0.61\n",
      "[23]  loss: 0.224   accuracy: 0.62\n",
      "[24]  loss: 0.223   accuracy: 0.61\n",
      "[25]  loss: 0.223   accuracy: 0.62\n",
      "[26]  loss: 0.222   accuracy: 0.62\n",
      "[27]  loss: 0.221   accuracy: 0.62\n",
      "[28]  loss: 0.219   accuracy: 0.63\n",
      "[29]  loss: 0.219   accuracy: 0.63\n",
      "[30]  loss: 0.216   accuracy: 0.64\n",
      "[31]  loss: 0.217   accuracy: 0.64\n",
      "[32]  loss: 0.215   accuracy: 0.64\n",
      "[33]  loss: 0.213   accuracy: 0.65\n",
      "[34]  loss: 0.212   accuracy: 0.65\n",
      "[35]  loss: 0.209   accuracy: 0.66\n",
      "[36]  loss: 0.210   accuracy: 0.66\n",
      "[37]  loss: 0.207   accuracy: 0.67\n",
      "[38]  loss: 0.207   accuracy: 0.66\n",
      "[39]  loss: 0.202   accuracy: 0.68\n",
      "[40]  loss: 0.199   accuracy: 0.69\n",
      "[41]  loss: 0.198   accuracy: 0.69\n",
      "[42]  loss: 0.195   accuracy: 0.70\n",
      "[43]  loss: 0.194   accuracy: 0.70\n",
      "[44]  loss: 0.189   accuracy: 0.71\n",
      "[45]  loss: 0.187   accuracy: 0.71\n",
      "[46]  loss: 0.186   accuracy: 0.71\n",
      "[47]  loss: 0.181   accuracy: 0.73\n",
      "[48]  loss: 0.178   accuracy: 0.73\n",
      "[49]  loss: 0.175   accuracy: 0.74\n",
      "[50]  loss: 0.175   accuracy: 0.74\n",
      "[51]  loss: 0.168   accuracy: 0.75\n",
      "[52]  loss: 0.170   accuracy: 0.74\n",
      "[53]  loss: 0.165   accuracy: 0.76\n",
      "[54]  loss: 0.167   accuracy: 0.75\n",
      "[55]  loss: 0.160   accuracy: 0.76\n",
      "[56]  loss: 0.163   accuracy: 0.76\n",
      "[57]  loss: 0.157   accuracy: 0.77\n",
      "[58]  loss: 0.159   accuracy: 0.77\n",
      "[59]  loss: 0.153   accuracy: 0.78\n",
      "[60]  loss: 0.154   accuracy: 0.78\n",
      "[61]  loss: 0.150   accuracy: 0.79\n",
      "[62]  loss: 0.151   accuracy: 0.78\n",
      "[63]  loss: 0.145   accuracy: 0.80\n",
      "[64]  loss: 0.145   accuracy: 0.79\n",
      "[65]  loss: 0.144   accuracy: 0.79\n",
      "[66]  loss: 0.144   accuracy: 0.80\n",
      "[67]  loss: 0.139   accuracy: 0.81\n",
      "[68]  loss: 0.138   accuracy: 0.80\n",
      "[69]  loss: 0.139   accuracy: 0.80\n",
      "[70]  loss: 0.137   accuracy: 0.81\n",
      "[71]  loss: 0.133   accuracy: 0.82\n",
      "[72]  loss: 0.132   accuracy: 0.82\n",
      "[73]  loss: 0.132   accuracy: 0.82\n",
      "[74]  loss: 0.130   accuracy: 0.82\n",
      "[75]  loss: 0.125   accuracy: 0.83\n",
      "[76]  loss: 0.127   accuracy: 0.83\n",
      "[77]  loss: 0.123   accuracy: 0.84\n",
      "[78]  loss: 0.123   accuracy: 0.84\n",
      "[79]  loss: 0.119   accuracy: 0.84\n",
      "[80]  loss: 0.117   accuracy: 0.85\n",
      "[81]  loss: 0.114   accuracy: 0.85\n",
      "[82]  loss: 0.115   accuracy: 0.85\n",
      "[83]  loss: 0.110   accuracy: 0.86\n",
      "[84]  loss: 0.109   accuracy: 0.86\n",
      "[85]  loss: 0.106   accuracy: 0.87\n",
      "[86]  loss: 0.105   accuracy: 0.87\n",
      "[87]  loss: 0.104   accuracy: 0.87\n",
      "[88]  loss: 0.098   accuracy: 0.88\n",
      "[89]  loss: 0.097   accuracy: 0.88\n",
      "[90]  loss: 0.095   accuracy: 0.89\n",
      "[91]  loss: 0.101   accuracy: 0.88\n",
      "[92]  loss: 0.091   accuracy: 0.89\n",
      "[93]  loss: 0.088   accuracy: 0.90\n",
      "[94]  loss: 0.084   accuracy: 0.91\n",
      "[95]  loss: 0.090   accuracy: 0.90\n",
      "[96]  loss: 0.083   accuracy: 0.91\n",
      "[97]  loss: 0.088   accuracy: 0.90\n",
      "[98]  loss: 0.077   accuracy: 0.92\n",
      "[99]  loss: 0.092   accuracy: 0.89\n",
      "[100]  loss: 0.077   accuracy: 0.92\n",
      "[101]  loss: 0.081   accuracy: 0.91\n",
      "[102]  loss: 0.071   accuracy: 0.92\n",
      "[103]  loss: 0.102   accuracy: 0.88\n",
      "[104]  loss: 0.094   accuracy: 0.89\n",
      "[105]  loss: 0.081   accuracy: 0.91\n",
      "[106]  loss: 0.087   accuracy: 0.90\n",
      "[107]  loss: 0.086   accuracy: 0.90\n",
      "[108]  loss: 0.084   accuracy: 0.90\n",
      "[109]  loss: 0.071   accuracy: 0.92\n",
      "[110]  loss: 0.076   accuracy: 0.92\n",
      "[111]  loss: 0.071   accuracy: 0.92\n",
      "[112]  loss: 0.068   accuracy: 0.93\n",
      "[113]  loss: 0.061   accuracy: 0.94\n",
      "[114]  loss: 0.062   accuracy: 0.94\n",
      "[115]  loss: 0.062   accuracy: 0.94\n",
      "[116]  loss: 0.057   accuracy: 0.94\n",
      "[117]  loss: 0.054   accuracy: 0.95\n",
      "[118]  loss: 0.057   accuracy: 0.94\n",
      "[119]  loss: 0.066   accuracy: 0.93\n",
      "[120]  loss: 0.059   accuracy: 0.94\n",
      "[121]  loss: 0.054   accuracy: 0.95\n",
      "[122]  loss: 0.059   accuracy: 0.94\n",
      "[123]  loss: 0.056   accuracy: 0.94\n",
      "[124]  loss: 0.055   accuracy: 0.95\n",
      "[125]  loss: 0.047   accuracy: 0.95\n",
      "[126]  loss: 0.056   accuracy: 0.94\n",
      "[127]  loss: 0.053   accuracy: 0.95\n",
      "[128]  loss: 0.048   accuracy: 0.96\n",
      "[129]  loss: 0.049   accuracy: 0.95\n",
      "[130]  loss: 0.046   accuracy: 0.96\n",
      "[131]  loss: 0.044   accuracy: 0.96\n",
      "[132]  loss: 0.044   accuracy: 0.96\n",
      "[133]  loss: 0.044   accuracy: 0.96\n",
      "[134]  loss: 0.042   accuracy: 0.96\n",
      "[135]  loss: 0.041   accuracy: 0.96\n",
      "[136]  loss: 0.037   accuracy: 0.97\n",
      "[137]  loss: 0.050   accuracy: 0.95\n",
      "[138]  loss: 0.038   accuracy: 0.97\n",
      "[139]  loss: 0.039   accuracy: 0.96\n",
      "[140]  loss: 0.035   accuracy: 0.97\n",
      "[141]  loss: 0.041   accuracy: 0.96\n",
      "[142]  loss: 0.035   accuracy: 0.97\n",
      "[143]  loss: 0.039   accuracy: 0.97\n",
      "[144]  loss: 0.037   accuracy: 0.97\n",
      "[145]  loss: 0.035   accuracy: 0.97\n",
      "[146]  loss: 0.037   accuracy: 0.97\n",
      "[147]  loss: 0.039   accuracy: 0.97\n",
      "[148]  loss: 0.035   accuracy: 0.97\n",
      "[149]  loss: 0.035   accuracy: 0.97\n",
      "[150]  loss: 0.029   accuracy: 0.98\n",
      "[151]  loss: 0.034   accuracy: 0.97\n",
      "[152]  loss: 0.030   accuracy: 0.98\n",
      "[153]  loss: 0.036   accuracy: 0.97\n",
      "[154]  loss: 0.026   accuracy: 0.98\n",
      "[155]  loss: 0.028   accuracy: 0.98\n",
      "[156]  loss: 0.024   accuracy: 0.98\n",
      "[157]  loss: 0.030   accuracy: 0.98\n",
      "[158]  loss: 0.026   accuracy: 0.98\n",
      "[159]  loss: 0.026   accuracy: 0.98\n",
      "[160]  loss: 0.026   accuracy: 0.98\n",
      "[161]  loss: 0.033   accuracy: 0.97\n",
      "[162]  loss: 0.023   accuracy: 0.98\n",
      "[163]  loss: 0.027   accuracy: 0.98\n",
      "[164]  loss: 0.029   accuracy: 0.98\n",
      "[165]  loss: 0.028   accuracy: 0.98\n",
      "[166]  loss: 0.026   accuracy: 0.98\n",
      "[167]  loss: 0.026   accuracy: 0.98\n",
      "[168]  loss: 0.026   accuracy: 0.98\n",
      "[169]  loss: 0.024   accuracy: 0.98\n",
      "[170]  loss: 0.020   accuracy: 0.99\n",
      "[171]  loss: 0.022   accuracy: 0.98\n",
      "[172]  loss: 0.019   accuracy: 0.99\n",
      "[173]  loss: 0.018   accuracy: 0.99\n",
      "[174]  loss: 0.019   accuracy: 0.99\n",
      "[175]  loss: 0.023   accuracy: 0.98\n",
      "[176]  loss: 0.018   accuracy: 0.99\n",
      "[177]  loss: 0.018   accuracy: 0.99\n",
      "[178]  loss: 0.019   accuracy: 0.99\n",
      "[179]  loss: 0.021   accuracy: 0.98\n",
      "[180]  loss: 0.017   accuracy: 0.99\n",
      "[181]  loss: 0.019   accuracy: 0.99\n",
      "[182]  loss: 0.023   accuracy: 0.99\n",
      "[183]  loss: 0.029   accuracy: 0.98\n",
      "[184]  loss: 0.019   accuracy: 0.99\n",
      "[185]  loss: 0.020   accuracy: 0.99\n",
      "[186]  loss: 0.018   accuracy: 0.99\n",
      "[187]  loss: 0.020   accuracy: 0.99\n",
      "[188]  loss: 0.015   accuracy: 0.99\n",
      "[189]  loss: 0.023   accuracy: 0.99\n",
      "[190]  loss: 0.017   accuracy: 0.99\n",
      "[191]  loss: 0.023   accuracy: 0.98\n",
      "[192]  loss: 0.018   accuracy: 0.99\n",
      "[193]  loss: 0.014   accuracy: 0.99\n",
      "[194]  loss: 0.018   accuracy: 0.99\n",
      "[195]  loss: 0.020   accuracy: 0.99\n",
      "[196]  loss: 0.016   accuracy: 0.99\n",
      "[197]  loss: 0.018   accuracy: 0.99\n",
      "[198]  loss: 0.016   accuracy: 0.99\n",
      "[199]  loss: 0.016   accuracy: 0.99\n",
      "\n"
     ]
    }
   ],
   "source": [
    "data.train_model(net, n_epochs = 200, lr=0.01, accuracy_func = accuracy,\n",
    "                 loss_monitoring = running_loss_data,\n",
    "                 accuracy_monitoring = accuracy_data)"
   ]
  },
  {
   "cell_type": "code",
   "execution_count": null,
   "metadata": {},
   "outputs": [],
   "source": [
    "torch.save(net, 'models/Descartes.pt')"
   ]
  },
  {
   "cell_type": "code",
   "execution_count": null,
   "metadata": {},
   "outputs": [
    {
     "name": "stdout",
     "output_type": "stream",
     "text": [
      "Number of mini-batches stored: 100\n",
      "Number of mini-batches created: 0\n"
     ]
    }
   ],
   "source": [
    "data.info()"
   ]
  },
  {
   "cell_type": "code",
   "execution_count": null,
   "metadata": {},
   "outputs": [
    {
     "data": {
      "image/png": "[encoded data removed]",
      "text/plain": [
       "<Figure size 432x288 with 1 Axes>"
      ]
     },
     "metadata": {
      "needs_background": "light"
     },
     "output_type": "display_data"
    }
   ],
   "source": [
    "plt.plot(running_loss_data, color='red')\n",
    "plt.xlabel('Epochs')\n",
    "plt.xlim(0, 199)\n",
    "plt.ylabel('Loss function (MSE)')\n",
    "plt.yscale('log')\n",
    "# plt.savefig('Democritus_loss.png', bbox_inches='tight')\n",
    "plt.show()"
   ]
  },
  {
   "cell_type": "code",
   "execution_count": null,
   "metadata": {},
   "outputs": [
    {
     "data": {
      "image/png": "[encoded data removed]",
      "text/plain": [
       "<Figure size 432x288 with 1 Axes>"
      ]
     },
     "metadata": {
      "needs_background": "light"
     },
     "output_type": "display_data"
    }
   ],
   "source": [
    "plt.plot(accuracy_data, color='blue')\n",
    "plt.xlabel('Epochs')\n",
    "plt.ylabel('Accuracy')\n",
    "plt.xlim(0, 199)\n",
    "plt.ylim(0.5, 1)\n",
    "# plt.savefig('Democritus_accuracy.png', bbox_inches='tight')\n",
    "plt.show()"
   ]
  },
  {
   "cell_type": "code",
   "execution_count": null,
   "metadata": {},
   "outputs": [],
   "source": [
    "error_data = [1.0 - x for x in accuracy_data]"
   ]
  },
  {
   "cell_type": "code",
   "execution_count": null,
   "metadata": {},
   "outputs": [
    {
     "data": {
      "image/png": "[encoded data removed]",
      "text/plain": [
       "<Figure size 432x288 with 1 Axes>"
      ]
     },
     "metadata": {
      "needs_background": "light"
     },
     "output_type": "display_data"
    }
   ],
   "source": [
    "plt.plot(error_data)\n",
    "plt.xlabel('Epochs')\n",
    "plt.xlim(0, 199)\n",
    "plt.ylabel('Error')\n",
    "plt.yscale('log')\n",
    "plt.show()"
   ]
  },
  {
   "cell_type": "markdown",
   "metadata": {},
   "source": [
    "## Loading the model\n",
    "\n",
    "Once the model has been trained, this can be used to load its state dictionary:"
   ]
  },
  {
   "cell_type": "code",
   "execution_count": null,
   "metadata": {},
   "outputs": [],
   "source": [
    "# net = torch.load('models/Descartes.pt')\n",
    "# net.eval()"
   ]
  },
  {
   "cell_type": "markdown",
   "metadata": {},
   "source": [
    "## Validation"
   ]
  },
  {
   "cell_type": "code",
   "execution_count": null,
   "metadata": {},
   "outputs": [],
   "source": [
    "x, y = generate_batch(1000)"
   ]
  },
  {
   "cell_type": "code",
   "execution_count": null,
   "metadata": {},
   "outputs": [],
   "source": [
    "y_preds = net(x).data"
   ]
  },
  {
   "cell_type": "code",
   "execution_count": null,
   "metadata": {},
   "outputs": [
    {
     "data": {
      "text/plain": [
       "tensor(0.9290)"
      ]
     },
     "execution_count": null,
     "metadata": {},
     "output_type": "execute_result"
    }
   ],
   "source": [
    "accuracy(y_preds, y)"
   ]
  },
  {
   "cell_type": "code",
   "execution_count": null,
   "metadata": {},
   "outputs": [
    {
     "data": {
      "text/plain": [
       "(tensor(0.5000), tensor(0.5003), tensor(0.4951), tensor(0.4928))"
      ]
     },
     "execution_count": null,
     "metadata": {},
     "output_type": "execute_result"
    }
   ],
   "source": [
    "y.mean(), y.std(), y_preds.mean(), y_preds.std()"
   ]
  },
  {
   "cell_type": "code",
   "execution_count": null,
   "metadata": {},
   "outputs": [
    {
     "data": {
      "text/plain": [
       "[[0.0, 0.5418478846549988, 4],\n",
       " [1.0, 0.008833842352032661, 11],\n",
       " [1.0, 0.3089838922023773, 13],\n",
       " [1.0, 0.008833842352032661, 21],\n",
       " [1.0, 0.008099665865302086, 33],\n",
       " [0.0, 0.8488755822181702, 34],\n",
       " [1.0, 0.41219326853752136, 79],\n",
       " [1.0, 0.3845060467720032, 89],\n",
       " [0.0, 0.7861790657043457, 114],\n",
       " [1.0, 0.010350837372243404, 119],\n",
       " [1.0, 0.2546718418598175, 135],\n",
       " [1.0, 0.010893154889345169, 141],\n",
       " [1.0, 0.11137676984071732, 171],\n",
       " [0.0, 0.6363637447357178, 180],\n",
       " [1.0, 0.008833842352032661, 201],\n",
       " [1.0, 0.45707517862319946, 205],\n",
       " [0.0, 0.5800541043281555, 206],\n",
       " [1.0, 0.30113252997398376, 211],\n",
       " [1.0, 0.008833842352032661, 235],\n",
       " [1.0, 0.008833842352032661, 253],\n",
       " [1.0, 0.27804556488990784, 277],\n",
       " [0.0, 0.7949172854423523, 288],\n",
       " [1.0, 0.008833842352032661, 297],\n",
       " [1.0, 0.061484195291996, 311],\n",
       " [1.0, 0.008833842352032661, 315],\n",
       " [1.0, 0.008833842352032661, 345],\n",
       " [1.0, 0.446890652179718, 349],\n",
       " [1.0, 0.008833842352032661, 369],\n",
       " [1.0, 0.18659071624279022, 373],\n",
       " [1.0, 0.008833842352032661, 375],\n",
       " [1.0, 0.008833842352032661, 377],\n",
       " [1.0, 0.008268674835562706, 379],\n",
       " [0.0, 0.977875828742981, 390],\n",
       " [1.0, 0.2213398665189743, 417],\n",
       " [1.0, 0.008833842352032661, 421],\n",
       " [1.0, 0.01862657442688942, 449],\n",
       " [0.0, 1.0117748975753784, 450],\n",
       " [1.0, 0.4279956519603729, 453],\n",
       " [1.0, 0.008833842352032661, 459],\n",
       " [0.0, 0.9639447927474976, 488],\n",
       " [1.0, 0.3270304203033447, 503],\n",
       " [1.0, 0.02767561748623848, 515],\n",
       " [1.0, 0.3095167577266693, 523],\n",
       " [1.0, 0.4883051812648773, 549],\n",
       " [1.0, 0.21174322068691254, 563],\n",
       " [0.0, 0.9197255373001099, 578],\n",
       " [1.0, 0.1686662882566452, 595],\n",
       " [0.0, 0.7258410453796387, 620],\n",
       " [1.0, 0.3262575566768646, 623],\n",
       " [1.0, 0.4908289313316345, 633],\n",
       " [1.0, 0.4930003881454468, 637],\n",
       " [1.0, 0.2969689667224884, 645],\n",
       " [1.0, 0.059773385524749756, 663],\n",
       " [1.0, 0.008833842352032661, 667],\n",
       " [1.0, 0.011157883331179619, 689],\n",
       " [0.0, 1.0218000411987305, 698],\n",
       " [0.0, 0.5392734408378601, 738],\n",
       " [1.0, 0.48795872926712036, 759],\n",
       " [0.0, 0.6306169629096985, 772],\n",
       " [1.0, 0.008833842352032661, 789],\n",
       " [1.0, 0.008833842352032661, 791],\n",
       " [1.0, 0.008306803181767464, 803],\n",
       " [1.0, 0.3470887839794159, 821],\n",
       " [1.0, 0.008833842352032661, 833],\n",
       " [0.0, 0.6321572661399841, 838],\n",
       " [1.0, 0.11771607398986816, 841],\n",
       " [1.0, 0.008833842352032661, 867],\n",
       " [1.0, 0.3236028552055359, 903],\n",
       " [0.0, 0.6900114417076111, 908],\n",
       " [1.0, 0.008833842352032661, 913],\n",
       " [1.0, 0.48827049136161804, 953]]"
      ]
     },
     "execution_count": null,
     "metadata": {},
     "output_type": "execute_result"
    }
   ],
   "source": [
    "mistakes = []\n",
    "for i in range(y.shape[0]):\n",
    "    if (y_preds[i] > 0.5) != y[i]:\n",
    "        mistakes.append([y[i].item(), y_preds[i].item(), i])\n",
    "mistakes"
   ]
  },
  {
   "cell_type": "code",
   "execution_count": null,
   "metadata": {},
   "outputs": [
    {
     "data": {
      "image/png": "[encoded data removed]",
      "text/plain": [
       "<PIL.Image.Image image mode=1 size=94x94 at 0x7FA533FBF610>"
      ]
     },
     "execution_count": null,
     "metadata": {},
     "output_type": "execute_result"
    }
   ],
   "source": [
    "MSvisualize(x[mistakes[0][2]])"
   ]
  },
  {
   "cell_type": "markdown",
   "metadata": {},
   "source": [
    "To test the network we create a fake grid for which there should not be any possible move:"
   ]
  },
  {
   "cell_type": "code",
   "execution_count": null,
   "metadata": {},
   "outputs": [
    {
     "data": {
      "image/png": "[encoded data removed]",
      "text/plain": [
       "<PIL.Image.Image image mode=1 size=94x94 at 0x7FA533FBF040>"
      ]
     },
     "execution_count": null,
     "metadata": {},
     "output_type": "execute_result"
    }
   ],
   "source": [
    "testgrid = torch.zeros([1,1,94,94])\n",
    "testgrid[0,0, 48, 39:58] = torch.tensor([1,1,1,1,0,0,1,0,0,1,0,0,1,0,0,1,1,1,1]).float()\n",
    "MSvisualize(testgrid)"
   ]
  },
  {
   "cell_type": "markdown",
   "metadata": {},
   "source": [
    "The answer of the network is however that there is a move"
   ]
  },
  {
   "cell_type": "code",
   "execution_count": null,
   "metadata": {},
   "outputs": [
    {
     "data": {
      "text/plain": [
       "tensor([[0.9483]], grad_fn=<AddmmBackward>)"
      ]
     },
     "execution_count": null,
     "metadata": {},
     "output_type": "execute_result"
    }
   ],
   "source": [
    "net(testgrid)"
   ]
  },
  {
   "cell_type": "code",
   "execution_count": null,
   "metadata": {},
   "outputs": [],
   "source": []
  }
 ],
 "metadata": {
  "kernelspec": {
   "display_name": "Python 3",
   "language": "python",
   "name": "python3"
  }
 },
 "nbformat": 4,
 "nbformat_minor": 4
}
