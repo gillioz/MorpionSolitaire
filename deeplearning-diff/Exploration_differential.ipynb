{
 "cells": [
  {
   "cell_type": "markdown",
   "metadata": {},
   "source": [
    "# Morpion Solitaire: exploration with a model"
   ]
  },
  {
   "cell_type": "code",
   "execution_count": 1,
   "metadata": {},
   "outputs": [],
   "source": [
    "import sys, os\n",
    "sys.path.append(os.getcwd() + '/../cpp/bin')\n",
    "\n",
    "import PyMorpionSolitaire"
   ]
  },
  {
   "cell_type": "code",
   "execution_count": 2,
   "metadata": {},
   "outputs": [
    {
     "data": {
      "text/plain": [
       "device(type='cpu')"
      ]
     },
     "execution_count": 2,
     "metadata": {},
     "output_type": "execute_result"
    }
   ],
   "source": [
    "import torch\n",
    "\n",
    "device = torch.device('cuda' if torch.cuda.is_available() else 'cpu')\n",
    "device"
   ]
  },
  {
   "cell_type": "code",
   "execution_count": 3,
   "metadata": {},
   "outputs": [],
   "source": [
    "import numpy as np\n",
    "import matplotlib.pyplot as plt\n",
    "from tqdm.notebook import tqdm, trange"
   ]
  },
  {
   "cell_type": "code",
   "execution_count": 4,
   "metadata": {},
   "outputs": [],
   "source": [
    "# from multiprocess import Pool\n",
    "# pool = Pool(10)"
   ]
  },
  {
   "cell_type": "markdown",
   "metadata": {},
   "source": [
    "## Model"
   ]
  },
  {
   "cell_type": "code",
   "execution_count": 5,
   "metadata": {},
   "outputs": [],
   "source": [
    "class ResNet(torch.nn.Module):\n",
    "    def __init__(self, module):\n",
    "        super().__init__()\n",
    "        self.module = module\n",
    "\n",
    "    def forward(self, inputs):\n",
    "        return self.module(inputs) + inputs"
   ]
  },
  {
   "cell_type": "code",
   "execution_count": 6,
   "metadata": {},
   "outputs": [
    {
     "data": {
      "text/plain": [
       "Sequential(\n",
       "  (0): Conv2d(2, 32, kernel_size=(3, 3), stride=(3, 3))\n",
       "  (1): ReLU()\n",
       "  (2): Conv2d(32, 64, kernel_size=(2, 2), stride=(1, 1))\n",
       "  (3): ReLU()\n",
       "  (4): Conv2d(64, 128, kernel_size=(2, 2), stride=(1, 1))\n",
       "  (5): ReLU()\n",
       "  (6): Conv2d(128, 128, kernel_size=(2, 2), stride=(1, 1))\n",
       "  (7): ReLU()\n",
       "  (8): Conv2d(128, 128, kernel_size=(2, 2), stride=(1, 1))\n",
       "  (9): ReLU()\n",
       "  (10): AdaptiveAvgPool2d(output_size=1)\n",
       "  (11): Flatten(start_dim=1, end_dim=-1)\n",
       "  (12): Linear(in_features=128, out_features=32, bias=True)\n",
       "  (13): ReLU()\n",
       "  (14): Linear(in_features=32, out_features=8, bias=True)\n",
       "  (15): ReLU()\n",
       "  (16): Linear(in_features=8, out_features=1, bias=True)\n",
       ")"
      ]
     },
     "execution_count": 6,
     "metadata": {},
     "output_type": "execute_result"
    }
   ],
   "source": [
    "# net = torch.load('models/model-32.pt', map_location=device)\n",
    "net = torch.load('models/model-128.pt', map_location=device)\n",
    "net.eval()"
   ]
  },
  {
   "cell_type": "markdown",
   "metadata": {},
   "source": [
    "## Game"
   ]
  },
  {
   "cell_type": "code",
   "execution_count": 7,
   "metadata": {},
   "outputs": [],
   "source": [
    "game = PyMorpionSolitaire.Game5T('c')"
   ]
  },
  {
   "cell_type": "code",
   "execution_count": 8,
   "metadata": {},
   "outputs": [
    {
     "data": {
      "text/plain": [
       "torch.Size([28, 2, 96, 96])"
      ]
     },
     "execution_count": 8,
     "metadata": {},
     "output_type": "execute_result"
    }
   ],
   "source": [
    "state = game.image()[48:144, 48:144]\n",
    "actions = game.getMoveImages()[:, 48:144, 48:144]\n",
    "\n",
    "state = np.expand_dims(state, 0).repeat(actions.shape[0], axis=0)\n",
    "actions = actions ^ state\n",
    "\n",
    "x = torch.tensor(np.concatenate([np.expand_dims(state, 1), np.expand_dims(actions, 1)], axis = 1)).float()\n",
    "x.shape"
   ]
  },
  {
   "cell_type": "code",
   "execution_count": 9,
   "metadata": {},
   "outputs": [],
   "source": [
    "with torch.no_grad():\n",
    "    y = net(x).data"
   ]
  },
  {
   "cell_type": "code",
   "execution_count": 10,
   "metadata": {},
   "outputs": [
    {
     "data": {
      "text/plain": [
       "(-0.0028589963912963867, 0.0030934747774153948, 0.007987916469573975)"
      ]
     },
     "execution_count": 10,
     "metadata": {},
     "output_type": "execute_result"
    }
   ],
   "source": [
    "y.min().item(), y.mean().item(), y.max().item()"
   ]
  },
  {
   "cell_type": "code",
   "execution_count": 11,
   "metadata": {},
   "outputs": [
    {
     "name": "stdout",
     "output_type": "stream",
     "text": [
      "  0  -0.003   0.003   0.008\n",
      "  1  -0.004   0.003   0.008\n",
      "  2  -0.004   0.003   0.008\n",
      "  3  -0.002   0.004   0.009\n",
      "  4  -0.003   0.002   0.006\n",
      "  5  -0.004   0.004   0.010\n",
      "  6  -0.001   0.003   0.005\n",
      "  7  -0.001   0.003   0.008\n",
      "  8  -0.001   0.004   0.007\n",
      "  9  -0.001   0.003   0.007\n",
      " 10  -0.004   0.002   0.006\n",
      " 11  -0.002   0.002   0.006\n",
      " 12  -0.001   0.002   0.005\n",
      " 13  -0.001   0.002   0.004\n",
      " 14  -0.008   0.002   0.007\n",
      " 15  -0.007   0.002   0.006\n",
      " 16  -0.004   0.001   0.006\n",
      " 17  -0.009  -0.000   0.007\n",
      " 18  -0.006  -0.000   0.006\n",
      " 19  -0.009  -0.001   0.012\n",
      " 20  -0.007  -0.000   0.007\n",
      " 21  -0.005   0.001   0.010\n",
      " 22  -0.004   0.002   0.010\n",
      " 23  -0.004   0.001   0.008\n",
      " 24  -0.001   0.003   0.007\n",
      " 25  -0.005   0.004   0.010\n",
      " 26  -0.004   0.004   0.010\n",
      " 27  -0.001   0.003   0.009\n",
      " 28  -0.001   0.003   0.005\n",
      " 29  -0.001   0.001   0.002\n",
      " 30  -0.001   0.000   0.002\n",
      " 31  -0.005   0.001   0.008\n",
      " 32  -0.005   0.002   0.009\n",
      " 33  -0.005   0.003   0.008\n",
      " 34  -0.005   0.004   0.010\n",
      " 35  -0.003   0.003   0.009\n",
      " 36  -0.007   0.002   0.007\n",
      " 37  -0.007   0.002   0.006\n",
      " 38  -0.007  -0.001   0.003\n",
      " 39  -0.017  -0.006   0.001\n",
      " 40  -0.017  -0.004   0.006\n",
      " 41  -0.012  -0.002   0.014\n",
      " 42  -0.014  -0.004   0.003\n",
      " 43  -0.012  -0.004   0.007\n",
      " 44  -0.011  -0.004   0.005\n",
      " 45  -0.036  -0.005   0.026\n",
      " 46  -0.039  -0.008   0.002\n",
      " 47  -0.016  -0.005   0.010\n",
      " 48  -0.014  -0.005   0.008\n",
      " 49  -0.017  -0.009   0.007\n",
      " 50  -0.131  -0.014   0.055\n",
      " 51  -0.013  -0.009  -0.004\n",
      " 52  -0.014  -0.009  -0.001\n",
      " 53  -0.016  -0.002   0.046\n",
      " 54  -0.051  -0.015  -0.002\n",
      " 55  -0.017  -0.008   0.006\n",
      " 56  -0.019  -0.011  -0.004\n",
      " 57  -0.022  -0.014  -0.007\n",
      " 58  -0.025  -0.006   0.069\n",
      " 59  -0.024  -0.012   0.039\n",
      " 60  -0.024  -0.017  -0.012\n",
      " 61  -0.024  -0.003   0.067\n",
      " 62  -0.024  -0.015   0.003\n",
      " 63  -0.121  -0.022   0.097\n",
      " 64  -0.116  -0.057  -0.023\n",
      " 65  -0.101  -0.017   0.099\n",
      " 66  -0.064  -0.039  -0.023\n",
      " 67  -0.095   0.058   0.197\n",
      " 68  -0.057   0.011   0.144\n",
      " 69  -0.094  -0.088  -0.081\n"
     ]
    }
   ],
   "source": [
    "game = PyMorpionSolitaire.Game5T('c')\n",
    "\n",
    "with torch.no_grad():\n",
    "    while game.getNumberOfMoves() > 0:\n",
    "        state = game.image()[48:144, 48:144]\n",
    "        actions = game.getMoveImages()[:, 48:144, 48:144]\n",
    "        \n",
    "        state = np.expand_dims(state, 0).repeat(actions.shape[0], axis=0)\n",
    "        actions = actions ^ state\n",
    "        \n",
    "        x = torch.tensor(np.concatenate([np.expand_dims(state, 1), np.expand_dims(actions, 1)], axis = 1)).float()\n",
    "        y = net(x).data.squeeze(1)\n",
    "        i = np.argmax(y).item()\n",
    "        s = game.getScore()\n",
    "        game.playByIndex(i)\n",
    "        print(\"%3d %7.3f %7.3f %7.3f\" % (s, y.min().item(), y.mean().item(), y[i].item()))"
   ]
  },
  {
   "cell_type": "code",
   "execution_count": 12,
   "metadata": {},
   "outputs": [
    {
     "data": {
      "image/png": "[encoded data removed]",
      "text/plain": [
       "<Figure size 500x500 with 1 Axes>"
      ]
     },
     "metadata": {},
     "output_type": "display_data"
    }
   ],
   "source": [
    "game.print()"
   ]
  },
  {
   "cell_type": "code",
   "execution_count": 13,
   "metadata": {},
   "outputs": [],
   "source": [
    "def play(t):\n",
    "    game = PyMorpionSolitaire.Game5T('c')\n",
    "    while True:\n",
    "        n = game.getNumberOfMoves()\n",
    "        if n == 0:\n",
    "            return game.getScore()\n",
    "        if n == 1:\n",
    "            game.playByIndex(0)\n",
    "        else:\n",
    "            state = game.image()[48:144, 48:144]\n",
    "            actions = game.getMoveImages()[:, 48:144, 48:144]\n",
    "            \n",
    "            state = np.expand_dims(state, 0).repeat(actions.shape[0], axis=0)\n",
    "            actions = actions ^ state\n",
    "            \n",
    "            x = torch.tensor(np.concatenate([np.expand_dims(state, 1), np.expand_dims(actions, 1)], axis = 1)).float()\n",
    "            y = net(x).data.squeeze()\n",
    "            p = torch.exp(y / t)\n",
    "            p /= p.sum()\n",
    "            index = np.random.choice(range(len(p)), p=np.array(p))\n",
    "            game.playByIndex(index)"
   ]
  },
  {
   "cell_type": "code",
   "execution_count": 14,
   "metadata": {},
   "outputs": [],
   "source": [
    "# def play_parallel(t, n):\n",
    "#     return pool.map(play, [t for _ in range(n)])"
   ]
  },
  {
   "cell_type": "code",
   "execution_count": 15,
   "metadata": {},
   "outputs": [
    {
     "data": {
      "application/vnd.jupyter.widget-view+json": {
       "model_id": "8a0577ca75324c46b8fffc5b625e88b0",
       "version_major": 2,
       "version_minor": 0
      },
      "text/plain": [
       "  0%|          | 0/9 [00:00<?, ?it/s]"
      ]
     },
     "metadata": {},
     "output_type": "display_data"
    },
    {
     "data": {
      "application/vnd.jupyter.widget-view+json": {
       "model_id": "",
       "version_major": 2,
       "version_minor": 0
      },
      "text/plain": [
       "  0%|          | 0/100 [00:00<?, ?it/s]"
      ]
     },
     "metadata": {},
     "output_type": "display_data"
    },
    {
     "data": {
      "application/vnd.jupyter.widget-view+json": {
       "model_id": "",
       "version_major": 2,
       "version_minor": 0
      },
      "text/plain": [
       "  0%|          | 0/100 [00:00<?, ?it/s]"
      ]
     },
     "metadata": {},
     "output_type": "display_data"
    },
    {
     "data": {
      "application/vnd.jupyter.widget-view+json": {
       "model_id": "",
       "version_major": 2,
       "version_minor": 0
      },
      "text/plain": [
       "  0%|          | 0/100 [00:00<?, ?it/s]"
      ]
     },
     "metadata": {},
     "output_type": "display_data"
    },
    {
     "data": {
      "application/vnd.jupyter.widget-view+json": {
       "model_id": "",
       "version_major": 2,
       "version_minor": 0
      },
      "text/plain": [
       "  0%|          | 0/100 [00:00<?, ?it/s]"
      ]
     },
     "metadata": {},
     "output_type": "display_data"
    },
    {
     "data": {
      "application/vnd.jupyter.widget-view+json": {
       "model_id": "",
       "version_major": 2,
       "version_minor": 0
      },
      "text/plain": [
       "  0%|          | 0/100 [00:00<?, ?it/s]"
      ]
     },
     "metadata": {},
     "output_type": "display_data"
    },
    {
     "data": {
      "application/vnd.jupyter.widget-view+json": {
       "model_id": "",
       "version_major": 2,
       "version_minor": 0
      },
      "text/plain": [
       "  0%|          | 0/100 [00:00<?, ?it/s]"
      ]
     },
     "metadata": {},
     "output_type": "display_data"
    },
    {
     "data": {
      "application/vnd.jupyter.widget-view+json": {
       "model_id": "",
       "version_major": 2,
       "version_minor": 0
      },
      "text/plain": [
       "  0%|          | 0/100 [00:00<?, ?it/s]"
      ]
     },
     "metadata": {},
     "output_type": "display_data"
    },
    {
     "data": {
      "application/vnd.jupyter.widget-view+json": {
       "model_id": "",
       "version_major": 2,
       "version_minor": 0
      },
      "text/plain": [
       "  0%|          | 0/100 [00:00<?, ?it/s]"
      ]
     },
     "metadata": {},
     "output_type": "display_data"
    },
    {
     "data": {
      "application/vnd.jupyter.widget-view+json": {
       "model_id": "",
       "version_major": 2,
       "version_minor": 0
      },
      "text/plain": [
       "  0%|          | 0/100 [00:00<?, ?it/s]"
      ]
     },
     "metadata": {},
     "output_type": "display_data"
    }
   ],
   "source": [
    "scores = {\n",
    "    t: [play(t) for _ in tqdm(range(100), position=1, leave=False)] for t in tqdm([0.02, 0.05, 0.1, 0.2, 0.5, 1, 2, 5, 10], position=0)\n",
    "}"
   ]
  },
  {
   "cell_type": "code",
   "execution_count": 16,
   "metadata": {},
   "outputs": [],
   "source": [
    "def play_random():\n",
    "    game = PyMorpionSolitaire.Game5T('c')\n",
    "    game.playAtRandom()\n",
    "    return game.getScore()"
   ]
  },
  {
   "cell_type": "code",
   "execution_count": 17,
   "metadata": {},
   "outputs": [
    {
     "data": {
      "application/vnd.jupyter.widget-view+json": {
       "model_id": "7770854f2aa74a53b351e36eac7cc038",
       "version_major": 2,
       "version_minor": 0
      },
      "text/plain": [
       "  0%|          | 0/100000 [00:00<?, ?it/s]"
      ]
     },
     "metadata": {},
     "output_type": "display_data"
    }
   ],
   "source": [
    "scores[100] = [play_random() for _ in trange(100000)]"
   ]
  },
  {
   "cell_type": "code",
   "execution_count": 18,
   "metadata": {},
   "outputs": [
    {
     "data": {
      "text/plain": [
       "{0.02: 63.0,\n",
       " 0.05: 64.01,\n",
       " 0.1: 63.16,\n",
       " 0.2: 61.91,\n",
       " 0.5: 59.92,\n",
       " 1: 56.65,\n",
       " 2: 53.46,\n",
       " 5: 52.12,\n",
       " 10: 54.45,\n",
       " 100: 53.61866}"
      ]
     },
     "execution_count": 18,
     "metadata": {},
     "output_type": "execute_result"
    }
   ],
   "source": [
    "scores_mean = {t: np.mean(score).item() for t, score in scores.items()}\n",
    "scores_mean"
   ]
  },
  {
   "cell_type": "code",
   "execution_count": 19,
   "metadata": {},
   "outputs": [
    {
     "data": {
      "text/plain": [
       "{0.02: 78,\n",
       " 0.05: 80,\n",
       " 0.1: 75,\n",
       " 0.2: 78,\n",
       " 0.5: 74,\n",
       " 1: 82,\n",
       " 2: 80,\n",
       " 5: 72,\n",
       " 10: 76,\n",
       " 100: 88}"
      ]
     },
     "execution_count": 19,
     "metadata": {},
     "output_type": "execute_result"
    }
   ],
   "source": [
    "scores_max = {t: np.max(score).item() for t, score in scores.items()}\n",
    "scores_max"
   ]
  },
  {
   "cell_type": "code",
   "execution_count": 20,
   "metadata": {},
   "outputs": [],
   "source": [
    "x = list(scores_mean.keys())"
   ]
  },
  {
   "cell_type": "code",
   "execution_count": 21,
   "metadata": {},
   "outputs": [
    {
     "data": {
      "image/png": "[encoded data removed]",
      "text/plain": [
       "<Figure size 640x480 with 1 Axes>"
      ]
     },
     "metadata": {},
     "output_type": "display_data"
    }
   ],
   "source": [
    "plt.plot(x, [scores_mean[i] for i in x], label=\"mean\")\n",
    "plt.plot(x, [scores_max[i] for i in x], label=\"max\")\n",
    "plt.xscale('log')\n",
    "plt.show()"
   ]
  },
  {
   "cell_type": "code",
   "execution_count": 24,
   "metadata": {},
   "outputs": [],
   "source": [
    "# scores[0.1] = scores[0.1] + [play(0.1) for _ in trange(900)]"
   ]
  },
  {
   "cell_type": "code",
   "execution_count": 25,
   "metadata": {},
   "outputs": [
    {
     "data": {
      "image/png": "[encoded data removed]",
      "text/plain": [
       "<Figure size 640x480 with 1 Axes>"
      ]
     },
     "metadata": {},
     "output_type": "display_data"
    }
   ],
   "source": [
    "bins = [i - 0.5 for i in range(100)]\n",
    "\n",
    "dist_0, bins = np.histogram(scores[100], bins, density=True)\n",
    "dist, bins = np.histogram(scores[0.1], bins, density=True)\n",
    "\n",
    "plt.step(bins[:-1], dist_0)\n",
    "plt.step(bins[:-1], dist)\n",
    "plt.xlim(0)\n",
    "plt.ylim(0)\n",
    "plt.show()"
   ]
  },
  {
   "cell_type": "code",
   "execution_count": null,
   "metadata": {},
   "outputs": [],
   "source": []
  }
 ],
 "metadata": {
  "kernelspec": {
   "display_name": "Python 3 (ipykernel)",
   "language": "python",
   "name": "python3"
  },
  "language_info": {
   "codemirror_mode": {
    "name": "ipython",
    "version": 3
   },
   "file_extension": ".py",
   "mimetype": "text/x-python",
   "name": "python",
   "nbconvert_exporter": "python",
   "pygments_lexer": "ipython3",
   "version": "3.12.4"
  }
 },
 "nbformat": 4,
 "nbformat_minor": 4
}
