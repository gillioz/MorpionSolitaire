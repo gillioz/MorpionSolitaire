{
 "cells": [
  {
   "cell_type": "markdown",
   "metadata": {},
   "source": [
    "# Morpion Solitaire: exploration with a model"
   ]
  },
  {
   "cell_type": "code",
   "execution_count": 1,
   "metadata": {},
   "outputs": [],
   "source": [
    "import sys, os\n",
    "sys.path.append(os.getcwd() + '/../cpp/bin')\n",
    "\n",
    "import PyMorpionSolitaire"
   ]
  },
  {
   "cell_type": "code",
   "execution_count": 2,
   "metadata": {},
   "outputs": [
    {
     "data": {
      "text/plain": [
       "device(type='cpu')"
      ]
     },
     "execution_count": 2,
     "metadata": {},
     "output_type": "execute_result"
    }
   ],
   "source": [
    "import torch\n",
    "\n",
    "device = torch.device('cuda' if torch.cuda.is_available() else 'cpu')\n",
    "device"
   ]
  },
  {
   "cell_type": "code",
   "execution_count": 3,
   "metadata": {},
   "outputs": [],
   "source": [
    "import numpy as np\n",
    "import matplotlib.pyplot as plt\n",
    "from tqdm.notebook import tqdm, trange"
   ]
  },
  {
   "cell_type": "markdown",
   "metadata": {},
   "source": [
    "## Model"
   ]
  },
  {
   "cell_type": "code",
   "execution_count": 4,
   "metadata": {},
   "outputs": [],
   "source": [
    "class ResNet(torch.nn.Module):\n",
    "    def __init__(self, module):\n",
    "        super().__init__()\n",
    "        self.module = module\n",
    "\n",
    "    def forward(self, inputs):\n",
    "        return self.module(inputs) + inputs"
   ]
  },
  {
   "cell_type": "code",
   "execution_count": 5,
   "metadata": {},
   "outputs": [
    {
     "data": {
      "text/plain": [
       "Sequential(\n",
       "  (0): Conv2d(2, 32, kernel_size=(3, 3), stride=(3, 3))\n",
       "  (1): ReLU()\n",
       "  (2): Conv2d(32, 64, kernel_size=(2, 2), stride=(1, 1))\n",
       "  (3): ReLU()\n",
       "  (4): Conv2d(64, 128, kernel_size=(2, 2), stride=(1, 1))\n",
       "  (5): ReLU()\n",
       "  (6): Conv2d(128, 128, kernel_size=(2, 2), stride=(1, 1))\n",
       "  (7): ReLU()\n",
       "  (8): Conv2d(128, 128, kernel_size=(2, 2), stride=(1, 1))\n",
       "  (9): ReLU()\n",
       "  (10): ResNet(\n",
       "    (module): Sequential(\n",
       "      (0): Conv2d(128, 128, kernel_size=(3, 3), stride=(1, 1), padding=(1, 1))\n",
       "      (1): BatchNorm2d(128, eps=1e-05, momentum=0.1, affine=True, track_running_stats=True)\n",
       "      (2): ReLU()\n",
       "      (3): Conv2d(128, 128, kernel_size=(3, 3), stride=(1, 1), padding=(1, 1))\n",
       "      (4): BatchNorm2d(128, eps=1e-05, momentum=0.1, affine=True, track_running_stats=True)\n",
       "      (5): ReLU()\n",
       "    )\n",
       "  )\n",
       "  (11): ResNet(\n",
       "    (module): Sequential(\n",
       "      (0): Conv2d(128, 128, kernel_size=(3, 3), stride=(1, 1), padding=(1, 1))\n",
       "      (1): BatchNorm2d(128, eps=1e-05, momentum=0.1, affine=True, track_running_stats=True)\n",
       "      (2): ReLU()\n",
       "      (3): Conv2d(128, 128, kernel_size=(3, 3), stride=(1, 1), padding=(1, 1))\n",
       "      (4): BatchNorm2d(128, eps=1e-05, momentum=0.1, affine=True, track_running_stats=True)\n",
       "      (5): ReLU()\n",
       "    )\n",
       "  )\n",
       "  (12): ResNet(\n",
       "    (module): Sequential(\n",
       "      (0): Conv2d(128, 128, kernel_size=(3, 3), stride=(1, 1), padding=(1, 1))\n",
       "      (1): BatchNorm2d(128, eps=1e-05, momentum=0.1, affine=True, track_running_stats=True)\n",
       "      (2): ReLU()\n",
       "      (3): Conv2d(128, 128, kernel_size=(3, 3), stride=(1, 1), padding=(1, 1))\n",
       "      (4): BatchNorm2d(128, eps=1e-05, momentum=0.1, affine=True, track_running_stats=True)\n",
       "      (5): ReLU()\n",
       "    )\n",
       "  )\n",
       "  (13): ResNet(\n",
       "    (module): Sequential(\n",
       "      (0): Conv2d(128, 128, kernel_size=(3, 3), stride=(1, 1), padding=(1, 1))\n",
       "      (1): BatchNorm2d(128, eps=1e-05, momentum=0.1, affine=True, track_running_stats=True)\n",
       "      (2): ReLU()\n",
       "      (3): Conv2d(128, 128, kernel_size=(3, 3), stride=(1, 1), padding=(1, 1))\n",
       "      (4): BatchNorm2d(128, eps=1e-05, momentum=0.1, affine=True, track_running_stats=True)\n",
       "      (5): ReLU()\n",
       "    )\n",
       "  )\n",
       "  (14): AdaptiveAvgPool2d(output_size=1)\n",
       "  (15): Flatten(start_dim=1, end_dim=-1)\n",
       "  (16): Linear(in_features=128, out_features=64, bias=True)\n",
       "  (17): ReLU()\n",
       "  (18): Linear(in_features=64, out_features=32, bias=True)\n",
       "  (19): ReLU()\n",
       "  (20): Linear(in_features=32, out_features=1, bias=True)\n",
       ")"
      ]
     },
     "execution_count": 5,
     "metadata": {},
     "output_type": "execute_result"
    }
   ],
   "source": [
    "net = torch.load('models/model-128-res-4.pt', map_location=device)\n",
    "net.eval()"
   ]
  },
  {
   "cell_type": "markdown",
   "metadata": {},
   "source": [
    "## Game"
   ]
  },
  {
   "cell_type": "code",
   "execution_count": 6,
   "metadata": {},
   "outputs": [],
   "source": [
    "game = PyMorpionSolitaire.Game5T('c')"
   ]
  },
  {
   "cell_type": "code",
   "execution_count": 7,
   "metadata": {},
   "outputs": [
    {
     "data": {
      "text/plain": [
       "torch.Size([28, 2, 96, 96])"
      ]
     },
     "execution_count": 7,
     "metadata": {},
     "output_type": "execute_result"
    }
   ],
   "source": [
    "state = game.image()[48:144, 48:144]\n",
    "actions = game.getMoveImages()[:, 48:144, 48:144]\n",
    "\n",
    "state = np.expand_dims(state, 0).repeat(actions.shape[0], axis=0)\n",
    "actions = actions ^ state\n",
    "\n",
    "x = torch.tensor(np.concatenate([np.expand_dims(state, 1), np.expand_dims(actions, 1)], axis = 1)).float()\n",
    "x.shape"
   ]
  },
  {
   "cell_type": "code",
   "execution_count": 8,
   "metadata": {},
   "outputs": [],
   "source": [
    "with torch.no_grad():\n",
    "    y = net(x).data"
   ]
  },
  {
   "cell_type": "code",
   "execution_count": 9,
   "metadata": {},
   "outputs": [
    {
     "data": {
      "text/plain": [
       "(-0.0034290533512830734, -0.0009462749003432691, -0.0007722005248069763)"
      ]
     },
     "execution_count": 9,
     "metadata": {},
     "output_type": "execute_result"
    }
   ],
   "source": [
    "y.min().item(), y.mean().item(), y.max().item()"
   ]
  },
  {
   "cell_type": "code",
   "execution_count": 10,
   "metadata": {},
   "outputs": [
    {
     "name": "stdout",
     "output_type": "stream",
     "text": [
      "  0  -0.003  -0.001  -0.001\n",
      "  1  -0.002  -0.001  -0.000\n",
      "  2  -0.006  -0.001  -0.000\n",
      "  3  -0.009  -0.002  -0.001\n",
      "  4  -0.006  -0.002  -0.001\n",
      "  5  -0.011  -0.002  -0.001\n",
      "  6  -0.013  -0.003  -0.000\n",
      "  7  -0.013  -0.003  -0.000\n",
      "  8  -0.013  -0.003  -0.001\n",
      "  9  -0.016  -0.006  -0.001\n",
      " 10  -0.010  -0.002  -0.001\n",
      " 11  -0.011  -0.003  -0.001\n",
      " 12  -0.013  -0.004  -0.001\n",
      " 13  -0.011  -0.004  -0.001\n",
      " 14  -0.009  -0.003  -0.001\n",
      " 15  -0.007  -0.001  -0.001\n",
      " 16  -0.007  -0.001  -0.001\n",
      " 17  -0.012  -0.004  -0.000\n",
      " 18  -0.012  -0.003   0.013\n",
      " 19  -0.009  -0.003  -0.001\n",
      " 20  -0.010  -0.002   0.013\n",
      " 21  -0.007  -0.002  -0.001\n",
      " 22  -0.006  -0.002  -0.001\n",
      " 23  -0.006  -0.001   0.013\n",
      " 24  -0.006  -0.000   0.013\n",
      " 25  -0.005   0.004   0.032\n",
      " 26  -0.008   0.003   0.039\n",
      " 27  -0.006   0.001   0.013\n",
      " 28  -0.050   0.002   0.065\n",
      " 29  -0.039   0.006   0.046\n",
      " 30  -0.009   0.001   0.015\n",
      " 31  -0.012   0.001   0.014\n",
      " 32  -0.013   0.003   0.029\n",
      " 33  -0.009   0.003   0.013\n",
      " 34  -0.007  -0.001   0.013\n",
      " 35  -0.008  -0.001   0.013\n",
      " 36  -0.008   0.001   0.013\n",
      " 37  -0.006  -0.001   0.013\n",
      " 38  -0.007  -0.002  -0.000\n",
      " 39  -0.007  -0.000   0.013\n",
      " 40  -0.007  -0.001   0.013\n",
      " 41  -0.004   0.000   0.013\n",
      " 42  -0.005   0.002   0.021\n",
      " 43  -0.005   0.000   0.013\n",
      " 44  -0.047  -0.001   0.124\n",
      " 45  -0.052  -0.008   0.045\n",
      " 46  -0.062  -0.017   0.013\n",
      " 47  -0.071  -0.012   0.035\n",
      " 48  -0.062  -0.011   0.037\n",
      " 49  -0.050   0.003   0.067\n",
      " 50  -0.063   0.007   0.094\n",
      " 51  -0.063   0.007   0.115\n",
      " 52  -0.062   0.000   0.073\n",
      " 53  -0.075  -0.007   0.053\n",
      " 54  -0.072  -0.011   0.032\n",
      " 55  -0.226  -0.016   0.070\n",
      " 56  -0.087  -0.008   0.046\n",
      " 57  -0.147  -0.021   0.022\n",
      " 58  -0.185  -0.031  -0.001\n",
      " 59  -0.212  -0.031   0.067\n",
      " 60  -0.228  -0.054  -0.001\n",
      " 61  -0.188  -0.067  -0.007\n",
      " 62  -0.001   0.051   0.153\n",
      " 63  -0.001  -0.001  -0.001\n",
      " 64  -0.015  -0.013  -0.012\n",
      " 65   0.698   0.698   0.698\n",
      " 66   0.623   0.623   0.623\n",
      " 67   0.616   0.616   0.616\n",
      " 68   0.443   0.443   0.443\n"
     ]
    },
    {
     "data": {
      "image/png": "[encoded data removed]",
      "text/plain": [
       "<Figure size 500x500 with 1 Axes>"
      ]
     },
     "metadata": {},
     "output_type": "display_data"
    }
   ],
   "source": [
    "game = PyMorpionSolitaire.Game5T('c')\n",
    "\n",
    "with torch.no_grad():\n",
    "    while game.getNumberOfMoves() > 0:\n",
    "        state = game.image()[48:144, 48:144]\n",
    "        actions = game.getMoveImages()[:, 48:144, 48:144]\n",
    "        \n",
    "        state = np.expand_dims(state, 0).repeat(actions.shape[0], axis=0)\n",
    "        actions = actions ^ state\n",
    "        \n",
    "        x = torch.tensor(np.concatenate([np.expand_dims(state, 1), np.expand_dims(actions, 1)], axis = 1)).float()\n",
    "        y = net(x).data.squeeze(1)\n",
    "        i = np.argmax(y).item()\n",
    "        s = game.getScore()\n",
    "        game.playByIndex(i)\n",
    "        print(\"%3d %7.3f %7.3f %7.3f\" % (s, y.min().item(), y.mean().item(), y[i].item()))\n",
    "\n",
    "game.print()"
   ]
  },
  {
   "cell_type": "code",
   "execution_count": 11,
   "metadata": {},
   "outputs": [],
   "source": [
    "scores = {1e-4: [game.getScore()]}"
   ]
  },
  {
   "cell_type": "code",
   "execution_count": 12,
   "metadata": {},
   "outputs": [],
   "source": [
    "def play_random():\n",
    "    game = PyMorpionSolitaire.Game5T('c')\n",
    "    game.playAtRandom()\n",
    "    return game.getScore()"
   ]
  },
  {
   "cell_type": "code",
   "execution_count": 13,
   "metadata": {},
   "outputs": [
    {
     "data": {
      "application/vnd.jupyter.widget-view+json": {
       "model_id": "e9c34e543996408abb224f4dadef6ee9",
       "version_major": 2,
       "version_minor": 0
      },
      "text/plain": [
       "  0%|          | 0/100000 [00:00<?, ?it/s]"
      ]
     },
     "metadata": {},
     "output_type": "display_data"
    }
   ],
   "source": [
    "scores[100] = [play_random() for _ in trange(100000)]"
   ]
  },
  {
   "cell_type": "code",
   "execution_count": 14,
   "metadata": {},
   "outputs": [],
   "source": [
    "def play(t):\n",
    "    game = PyMorpionSolitaire.Game5T('c')\n",
    "    while True:\n",
    "        n = game.getNumberOfMoves()\n",
    "        if n == 0:\n",
    "            return game.getScore()\n",
    "        if n == 1:\n",
    "            game.playByIndex(0)\n",
    "        else:\n",
    "            state = game.image()[48:144, 48:144]\n",
    "            actions = game.getMoveImages()[:, 48:144, 48:144]\n",
    "            \n",
    "            state = np.expand_dims(state, 0).repeat(actions.shape[0], axis=0)\n",
    "            actions = actions ^ state\n",
    "            \n",
    "            x = torch.tensor(np.concatenate([np.expand_dims(state, 1), np.expand_dims(actions, 1)], axis = 1)).float()\n",
    "            y = net(x).data.squeeze()\n",
    "            p = torch.exp((y - y.max()) / t)\n",
    "            p /= p.sum()\n",
    "            index = np.random.choice(range(len(p)), p=np.array(p))\n",
    "            game.playByIndex(index)"
   ]
  },
  {
   "cell_type": "code",
   "execution_count": 15,
   "metadata": {},
   "outputs": [
    {
     "data": {
      "application/vnd.jupyter.widget-view+json": {
       "model_id": "908bed8f04564e58823470629f2d63c8",
       "version_major": 2,
       "version_minor": 0
      },
      "text/plain": [
       "  0%|          | 0/8 [00:00<?, ?it/s]"
      ]
     },
     "metadata": {},
     "output_type": "display_data"
    },
    {
     "data": {
      "application/vnd.jupyter.widget-view+json": {
       "model_id": "",
       "version_major": 2,
       "version_minor": 0
      },
      "text/plain": [
       "  0%|          | 0/50 [00:00<?, ?it/s]"
      ]
     },
     "metadata": {},
     "output_type": "display_data"
    },
    {
     "data": {
      "application/vnd.jupyter.widget-view+json": {
       "model_id": "",
       "version_major": 2,
       "version_minor": 0
      },
      "text/plain": [
       "  0%|          | 0/50 [00:00<?, ?it/s]"
      ]
     },
     "metadata": {},
     "output_type": "display_data"
    },
    {
     "data": {
      "application/vnd.jupyter.widget-view+json": {
       "model_id": "",
       "version_major": 2,
       "version_minor": 0
      },
      "text/plain": [
       "  0%|          | 0/50 [00:00<?, ?it/s]"
      ]
     },
     "metadata": {},
     "output_type": "display_data"
    },
    {
     "data": {
      "application/vnd.jupyter.widget-view+json": {
       "model_id": "",
       "version_major": 2,
       "version_minor": 0
      },
      "text/plain": [
       "  0%|          | 0/50 [00:00<?, ?it/s]"
      ]
     },
     "metadata": {},
     "output_type": "display_data"
    },
    {
     "data": {
      "application/vnd.jupyter.widget-view+json": {
       "model_id": "",
       "version_major": 2,
       "version_minor": 0
      },
      "text/plain": [
       "  0%|          | 0/50 [00:00<?, ?it/s]"
      ]
     },
     "metadata": {},
     "output_type": "display_data"
    },
    {
     "data": {
      "application/vnd.jupyter.widget-view+json": {
       "model_id": "",
       "version_major": 2,
       "version_minor": 0
      },
      "text/plain": [
       "  0%|          | 0/50 [00:00<?, ?it/s]"
      ]
     },
     "metadata": {},
     "output_type": "display_data"
    },
    {
     "data": {
      "application/vnd.jupyter.widget-view+json": {
       "model_id": "",
       "version_major": 2,
       "version_minor": 0
      },
      "text/plain": [
       "  0%|          | 0/50 [00:00<?, ?it/s]"
      ]
     },
     "metadata": {},
     "output_type": "display_data"
    },
    {
     "data": {
      "application/vnd.jupyter.widget-view+json": {
       "model_id": "",
       "version_major": 2,
       "version_minor": 0
      },
      "text/plain": [
       "  0%|          | 0/50 [00:00<?, ?it/s]"
      ]
     },
     "metadata": {},
     "output_type": "display_data"
    }
   ],
   "source": [
    "t_list = [0.001, 0.003, 0.01, 0.03, 0.1, 0.3, 1, 3]\n",
    "for t in tqdm(t_list):\n",
    "    if t not in scores:\n",
    "        scores[t] = []\n",
    "    for _ in tqdm(range(50), leave=False):\n",
    "        s = play(t)\n",
    "        # print(s)\n",
    "        scores[t] = scores[t] + [s]"
   ]
  },
  {
   "cell_type": "code",
   "execution_count": 16,
   "metadata": {},
   "outputs": [
    {
     "data": {
      "text/plain": [
       "[(0.0001, 69.0),\n",
       " (0.001, 72.32),\n",
       " (0.003, 71.58),\n",
       " (0.01, 69.86),\n",
       " (0.03, 68.42857142857143),\n",
       " (0.1, 64.97826086956522),\n",
       " (0.3, 65.54545454545455),\n",
       " (1, 63.54761904761905),\n",
       " (3, 63.87096774193548),\n",
       " (100, 63.78009643826735)]"
      ]
     },
     "execution_count": 16,
     "metadata": {},
     "output_type": "execute_result"
    }
   ],
   "source": [
    "scores_mean = {t: np.mean(score, where = np.array(score) > 45).item() for t, score in scores.items()}\n",
    "sorted(scores_mean.items())"
   ]
  },
  {
   "cell_type": "code",
   "execution_count": 17,
   "metadata": {},
   "outputs": [
    {
     "data": {
      "text/plain": [
       "[(0.0001, 0.0),\n",
       " (0.001, 5.077164563021372),\n",
       " (0.003, 5.628818703777907),\n",
       " (0.01, 4.833259769555118),\n",
       " (0.03, 4.508495382302715),\n",
       " (0.1, 4.265580802671657),\n",
       " (0.3, 4.6732047863545),\n",
       " (1, 4.2717364649874945),\n",
       " (3, 4.688640600043767),\n",
       " (100, 4.494662414754991)]"
      ]
     },
     "execution_count": 17,
     "metadata": {},
     "output_type": "execute_result"
    }
   ],
   "source": [
    "scores_std = {t: np.std(score, where = np.array(score) > 45).item() for t, score in scores.items()}\n",
    "sorted(scores_std.items())"
   ]
  },
  {
   "cell_type": "code",
   "execution_count": 18,
   "metadata": {},
   "outputs": [
    {
     "data": {
      "text/plain": [
       "[(0.0001, 69),\n",
       " (0.001, 85),\n",
       " (0.003, 83),\n",
       " (0.01, 82),\n",
       " (0.03, 79),\n",
       " (0.1, 73),\n",
       " (0.3, 76),\n",
       " (1, 72),\n",
       " (3, 76),\n",
       " (100, 87)]"
      ]
     },
     "execution_count": 18,
     "metadata": {},
     "output_type": "execute_result"
    }
   ],
   "source": [
    "scores_max = {t: np.max(score).item() for t, score in scores.items()}\n",
    "sorted(scores_max.items())"
   ]
  },
  {
   "cell_type": "code",
   "execution_count": 19,
   "metadata": {},
   "outputs": [
    {
     "data": {
      "image/png": "[encoded data removed]",
      "text/plain": [
       "<Figure size 640x480 with 1 Axes>"
      ]
     },
     "metadata": {},
     "output_type": "display_data"
    }
   ],
   "source": [
    "x = sorted(list(scores_mean.keys()))\n",
    "\n",
    "plt.errorbar(x, [scores_mean[i] for i in x], [scores_std[i] for i in x], capsize = 3)\n",
    "plt.plot(x, [scores_max[i] for i in x], label=\"max\")\n",
    "plt.xscale('log')\n",
    "plt.show()"
   ]
  },
  {
   "cell_type": "code",
   "execution_count": 24,
   "metadata": {},
   "outputs": [
    {
     "data": {
      "image/png": "[encoded data removed]",
      "text/plain": [
       "<Figure size 640x480 with 1 Axes>"
      ]
     },
     "metadata": {},
     "output_type": "display_data"
    }
   ],
   "source": [
    "bins = [i - 0.5 for i in range(100)]\n",
    "\n",
    "dist_0, bins = np.histogram(scores[100], bins, density=True)\n",
    "dist, bins = np.histogram(scores[0.001], bins, density=True)\n",
    "\n",
    "plt.step(bins[:-1], dist_0)\n",
    "plt.step(bins[:-1], dist)\n",
    "plt.xlim(0)\n",
    "plt.ylim(0)\n",
    "plt.show()"
   ]
  },
  {
   "cell_type": "code",
   "execution_count": null,
   "metadata": {},
   "outputs": [],
   "source": []
  }
 ],
 "metadata": {
  "kernelspec": {
   "display_name": "Python 3 (ipykernel)",
   "language": "python",
   "name": "python3"
  },
  "language_info": {
   "codemirror_mode": {
    "name": "ipython",
    "version": 3
   },
   "file_extension": ".py",
   "mimetype": "text/x-python",
   "name": "python",
   "nbconvert_exporter": "python",
   "pygments_lexer": "ipython3",
   "version": "3.12.4"
  }
 },
 "nbformat": 4,
 "nbformat_minor": 4
}
