{
 "cells": [
  {
   "cell_type": "code",
   "execution_count": 1,
   "id": "947fdaf7",
   "metadata": {},
   "outputs": [],
   "source": [
    "import sys, os\n",
    "sys.path.append(os.getcwd() + '/../cpp/bin')\n",
    "\n",
    "import PyMorpionSolitaire"
   ]
  },
  {
   "cell_type": "code",
   "execution_count": 2,
   "id": "9f81d971",
   "metadata": {},
   "outputs": [],
   "source": [
    "import numpy as np\n",
    "import matplotlib.pyplot as plt\n",
    "\n",
    "from random import randrange, random\n",
    "from tqdm import tqdm"
   ]
  },
  {
   "cell_type": "code",
   "execution_count": 3,
   "id": "f0477414-56d8-4b3e-bfc1-297595323f52",
   "metadata": {},
   "outputs": [],
   "source": [
    "def get_random_state():\n",
    "    game = PyMorpionSolitaire.Game5T('c')\n",
    "    game.playAtRandom()\n",
    "    max_score = game.getScore()\n",
    "    score = randrange(max_score)\n",
    "    game.revertToScore(score)\n",
    "    return game"
   ]
  },
  {
   "cell_type": "code",
   "execution_count": 4,
   "id": "977e55e9-89a9-4561-a390-bbdb02e6db16",
   "metadata": {},
   "outputs": [],
   "source": [
    "def get_random_action():\n",
    "    game = get_random_state()\n",
    "    number_of_moves = game.getNumberOfMoves()\n",
    "    return game, randrange(number_of_moves)"
   ]
  },
  {
   "cell_type": "code",
   "execution_count": 12,
   "id": "4dc55ae1-7907-4ef9-8ee9-a7491f11e846",
   "metadata": {},
   "outputs": [],
   "source": [
    "def evaluate(game, move_id):\n",
    "    game.playByIndex(move_id)\n",
    "    yes = game.estimateDepth() + 1\n",
    "    game.undo()\n",
    "    game.deleteMoveByIndex(move_id)\n",
    "    no = game.estimateDepth()\n",
    "    return (yes - no) / (yes + no)"
   ]
  },
  {
   "cell_type": "code",
   "execution_count": 6,
   "id": "a32d41f1-3ea3-427d-a763-137a2d4961e0",
   "metadata": {},
   "outputs": [],
   "source": [
    "# game, move = get_random_action()\n",
    "# game.printMove(move)\n",
    "# neutral = estimate_value(game)\n",
    "# game.playByIndex(move)\n",
    "# yes = estimate_value(game) + 1\n",
    "# game.undo()\n",
    "# game.deleteMoveByIndex(move)\n",
    "# no = estimate_value(game)\n",
    "# neutral, yes, no, (yes - no) / (yes + no)"
   ]
  },
  {
   "cell_type": "code",
   "execution_count": 7,
   "id": "11e121cc-97cd-4d73-a644-d0862a03e565",
   "metadata": {},
   "outputs": [],
   "source": [
    "def sample(reject_single_move = True):\n",
    "    game, move = get_random_action()\n",
    "    if reject_single_move and game.getNumberOfMoves() == 1:\n",
    "        return sample()\n",
    "    state = game.image()[48:144, 48:144]\n",
    "    game.playByIndex(move)\n",
    "    action = game.image()[48:144, 48:144] ^ state\n",
    "    game.undo()\n",
    "    label = evaluate(game, move)\n",
    "    feature = np.concatenate([np.expand_dims(state, axis=0), np.expand_dims(action, axis=0)])\n",
    "    return feature, label"
   ]
  },
  {
   "cell_type": "code",
   "execution_count": 8,
   "id": "ace18a51-1583-42e3-8150-5cd8ca2079b9",
   "metadata": {},
   "outputs": [],
   "source": [
    "def batch(size = 200):\n",
    "    features, labels = list(zip(*[sample() for _ in range(size)]))\n",
    "    return np.array(features), np.array(labels)"
   ]
  },
  {
   "cell_type": "code",
   "execution_count": 9,
   "id": "c8b0923d-4f53-4486-b32d-9b2b4a13ef67",
   "metadata": {},
   "outputs": [],
   "source": [
    "def normalized_sample():\n",
    "    feature, label = sample()\n",
    "    if (random() < np.abs(label) + 0.01):\n",
    "        return feature, label\n",
    "    return normalized_sample()"
   ]
  },
  {
   "cell_type": "code",
   "execution_count": 10,
   "id": "91350394-b7ac-4fa3-a7ef-17071ea8c0c8",
   "metadata": {},
   "outputs": [],
   "source": [
    "def normalized_batch(size = 200):\n",
    "    features, labels = list(zip(*[normalized_sample() for _ in range(size)]))\n",
    "    return np.array(features), np.array(labels)"
   ]
  },
  {
   "cell_type": "markdown",
   "id": "1b373cae",
   "metadata": {},
   "source": [
    "# Analyze one big batch"
   ]
  },
  {
   "cell_type": "code",
   "execution_count": 13,
   "id": "09df9621",
   "metadata": {},
   "outputs": [],
   "source": [
    "features, labels = batch(1000)"
   ]
  },
  {
   "cell_type": "code",
   "execution_count": 14,
   "id": "8c741c26-738a-4342-b9ef-b9e387ed384e",
   "metadata": {},
   "outputs": [
    {
     "data": {
      "image/png": "[encoded data removed]",
      "text/plain": [
       "<Figure size 640x480 with 1 Axes>"
      ]
     },
     "metadata": {},
     "output_type": "display_data"
    }
   ],
   "source": [
    "plt.hist(labels, bins=40, range=(-1,1), histtype='step')\n",
    "plt.show()"
   ]
  },
  {
   "cell_type": "code",
   "execution_count": 15,
   "id": "b32cd823-46f4-4925-9e69-2ef052f40c41",
   "metadata": {},
   "outputs": [],
   "source": [
    "normalized_features, normalized_labels = normalized_batch(1000)"
   ]
  },
  {
   "cell_type": "code",
   "execution_count": 16,
   "id": "a2d555b8-1b10-4726-8de0-b19fd17bd3d5",
   "metadata": {},
   "outputs": [
    {
     "data": {
      "image/png": "[encoded data removed]",
      "text/plain": [
       "<Figure size 640x480 with 1 Axes>"
      ]
     },
     "metadata": {},
     "output_type": "display_data"
    }
   ],
   "source": [
    "plt.hist(normalized_labels, bins=40, range=(-1,1), histtype='step')\n",
    "plt.show()"
   ]
  },
  {
   "cell_type": "markdown",
   "id": "6a936e87",
   "metadata": {},
   "source": [
    "# Store data"
   ]
  },
  {
   "cell_type": "code",
   "execution_count": 17,
   "id": "4b992d4e",
   "metadata": {},
   "outputs": [
    {
     "name": "stderr",
     "output_type": "stream",
     "text": [
      "100%|███████████████████████████████████| 11000/11000 [1:46:05<00:00,  1.73it/s]\n"
     ]
    }
   ],
   "source": [
    "for i in tqdm(range(0, 11000)):\n",
    "    features, labels = batch()\n",
    "    np.save(\"data/features_%05d.npy\" % i, features)\n",
    "    np.save(\"data/labels_%05d.npy\" % i, labels)"
   ]
  },
  {
   "cell_type": "markdown",
   "id": "939cfb7d",
   "metadata": {},
   "source": [
    "Compress the data using the following commands in a terminal:\n",
    "\n",
    "`cd <repo>/deeplearning/data`\n",
    "\n",
    "`tar -czf labels.tar.gz labels_*.npy`\n",
    "\n",
    "`tar -czf features.tar.gz features_*.npy`"
   ]
  },
  {
   "cell_type": "code",
   "execution_count": null,
   "id": "c7d79f9d",
   "metadata": {},
   "outputs": [],
   "source": []
  }
 ],
 "metadata": {
  "kernelspec": {
   "display_name": "Python 3 (ipykernel)",
   "language": "python",
   "name": "python3"
  },
  "language_info": {
   "codemirror_mode": {
    "name": "ipython",
    "version": 3
   },
   "file_extension": ".py",
   "mimetype": "text/x-python",
   "name": "python",
   "nbconvert_exporter": "python",
   "pygments_lexer": "ipython3",
   "version": "3.12.4"
  }
 },
 "nbformat": 4,
 "nbformat_minor": 5
}
