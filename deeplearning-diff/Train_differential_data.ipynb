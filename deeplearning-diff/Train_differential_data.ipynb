{
 "cells": [
  {
   "cell_type": "code",
   "execution_count": null,
   "id": "eb2095ec-a95c-476a-b684-8cd0959b68b8",
   "metadata": {},
   "outputs": [],
   "source": [
    "import numpy as np\n",
    "import torch\n",
    "import torchvision\n",
    "from datetime import datetime\n",
    "from tqdm.auto import tqdm\n",
    "from torch.utils.tensorboard import SummaryWriter\n",
    "from PIL import Image"
   ]
  },
  {
   "cell_type": "code",
   "execution_count": null,
   "id": "7177a6b9-66a9-43c7-aca7-35be20c2b931",
   "metadata": {},
   "outputs": [],
   "source": [
    "device = torch.device('cuda' if torch.cuda.is_available() else 'cpu')\n",
    "device"
   ]
  },
  {
   "cell_type": "code",
   "execution_count": null,
   "id": "d8a41bdd-c952-4e8d-8907-38d938c4ae02",
   "metadata": {},
   "outputs": [],
   "source": [
    "# drive_folder = '/content/drive'\n",
    "# from google.colab import drive\n",
    "# drive.mount(drive_folder)"
   ]
  },
  {
   "cell_type": "code",
   "execution_count": null,
   "id": "d7dcb971-75e7-406f-aae7-5844706fec18",
   "metadata": {},
   "outputs": [],
   "source": [
    "# !mkdir data\n",
    "# !tar -xf /content/drive/MyDrive/Colab/data/features.tar.gz -C data/\n",
    "# !tar -xf /content/drive/MyDrive/Colab/data/labels.tar.gz -C data/"
   ]
  },
  {
   "cell_type": "code",
   "execution_count": null,
   "id": "f228c3c5-9af8-400b-9afc-45717f774137",
   "metadata": {},
   "outputs": [],
   "source": [
    "log_dir = \"runs/\" + datetime.now().strftime('%Y-%m-%d_%Hh%M')\n",
    "writer = SummaryWriter(log_dir)"
   ]
  },
  {
   "cell_type": "markdown",
   "id": "54a3468c-6c33-49ac-a29c-053a6c32844e",
   "metadata": {},
   "source": [
    "## Data"
   ]
  },
  {
   "cell_type": "code",
   "execution_count": null,
   "id": "d0f1de05-05fd-4d5c-b65a-0fe50830cabd",
   "metadata": {},
   "outputs": [],
   "source": [
    "data_dir = 'data'"
   ]
  },
  {
   "cell_type": "code",
   "execution_count": null,
   "id": "125f966c-05c9-4809-a16d-cb2ae5583939",
   "metadata": {},
   "outputs": [],
   "source": [
    "def get_batch(index):\n",
    "    x = torch.from_numpy(np.load('%s/features_%05d.npy' % (data_dir, index))).float().to(device)\n",
    "    y = torch.from_numpy(np.load('%s/labels_%05d.npy' % (data_dir, index))).unsqueeze(1).float().to(device)\n",
    "    return x, y"
   ]
  },
  {
   "cell_type": "code",
   "execution_count": null,
   "id": "9fcc649d-a2af-4533-b263-e432784cad8e",
   "metadata": {},
   "outputs": [],
   "source": [
    "def image(x):\n",
    "    return np.array([1 - x[0], 1 - x[0] - x[1], 1 - x[0] - x[1]])"
   ]
  },
  {
   "cell_type": "code",
   "execution_count": null,
   "id": "c6be7927-ecce-416b-8f0b-7df1b17239eb",
   "metadata": {},
   "outputs": [],
   "source": [
    "def imshow(x):\n",
    "    return Image.fromarray(np.transpose(255 * image(x), (1, 2, 0)).astype(np.uint8))"
   ]
  },
  {
   "cell_type": "code",
   "execution_count": null,
   "id": "90b588dc-f8d1-4139-bf95-e72134abfa96",
   "metadata": {},
   "outputs": [],
   "source": [
    "x, y = get_batch(0)\n",
    "x.shape, y.shape"
   ]
  },
  {
   "cell_type": "code",
   "execution_count": null,
   "id": "c555e232-5154-435d-aeb3-32261d574eae",
   "metadata": {},
   "outputs": [],
   "source": [
    "imshow(x[0].cpu())"
   ]
  },
  {
   "cell_type": "code",
   "execution_count": null,
   "id": "7210eff5-fffd-4bce-8ac6-990c6b1775c5",
   "metadata": {},
   "outputs": [],
   "source": [
    "x_grid = torchvision.utils.make_grid(x).cpu()"
   ]
  },
  {
   "cell_type": "code",
   "execution_count": null,
   "id": "c63e1051-2f70-4fd5-89b8-8433ef64cb62",
   "metadata": {},
   "outputs": [],
   "source": [
    "imshow(x_grid)"
   ]
  },
  {
   "cell_type": "code",
   "execution_count": null,
   "id": "836bcac3-88ae-49fd-9994-461af67e8e90",
   "metadata": {},
   "outputs": [],
   "source": [
    "writer.add_image('one batch', image(x_grid))"
   ]
  },
  {
   "cell_type": "markdown",
   "id": "cdd825db-d245-40a6-b0c5-a2b1c37e0891",
   "metadata": {},
   "source": [
    "### Data augmentation"
   ]
  },
  {
   "cell_type": "code",
   "execution_count": null,
   "id": "067ade70-e880-48ea-8176-e8d8a910ab9b",
   "metadata": {},
   "outputs": [],
   "source": [
    "def flip_grids(grids):\n",
    "    return torch.flip(grids, dims=[-1])"
   ]
  },
  {
   "cell_type": "code",
   "execution_count": null,
   "id": "010d5a8a-23ce-49c6-8d80-bdb87f364cdd",
   "metadata": {},
   "outputs": [],
   "source": [
    "def rotate_grids(grids, quarter_turns=1):\n",
    "    match quarter_turns % 4:\n",
    "        case 1:\n",
    "            return torch.rot90(grids, dims=[-2,-1])\n",
    "        case 2:\n",
    "            return torch.flip(grids, dims=[-2,-1])\n",
    "        case 3:\n",
    "            return torch.rot90(grids, dims=[-1,-2])\n",
    "        case _:\n",
    "            return grids"
   ]
  },
  {
   "cell_type": "code",
   "execution_count": null,
   "id": "556bb142-37f6-4e3f-aa3e-a59c0b5dc5f3",
   "metadata": {},
   "outputs": [],
   "source": [
    "def transform_grids(grids, seed):\n",
    "    return rotate_grids(grids if seed % 8 < 4 else flip_grids(grids), seed)"
   ]
  },
  {
   "cell_type": "code",
   "execution_count": null,
   "id": "2be15616-00fe-426d-bfcc-9dc7a5e08197",
   "metadata": {},
   "outputs": [],
   "source": [
    "imshow(torchvision.utils.make_grid(torch.tensor(\n",
    "    np.array([transform_grids(x[0].cpu(), seed).numpy() for seed in range(8)]))))"
   ]
  },
  {
   "cell_type": "markdown",
   "id": "81a201f4-e4fa-4d48-afef-775b7e59d805",
   "metadata": {},
   "source": [
    "Projector:"
   ]
  },
  {
   "cell_type": "code",
   "execution_count": null,
   "id": "a91ee799-a72f-475d-b76d-c1fdbe66cf1e",
   "metadata": {},
   "outputs": [],
   "source": [
    "# writer.add_embedding(x.view(-1, 2*96*96), metadata=y, label_img=torch.tensor(np.array([image(grid) for grid in x])).mean(1).unsqueeze(1))\n",
    "# writer.close()"
   ]
  },
  {
   "cell_type": "markdown",
   "id": "2ced7814-bcf1-4986-957d-2c9ce9623525",
   "metadata": {},
   "source": [
    "## Model"
   ]
  },
  {
   "cell_type": "code",
   "execution_count": null,
   "id": "87fde1ab-e60c-4b53-ae92-a6dea9fab3c0",
   "metadata": {},
   "outputs": [],
   "source": [
    "class ResNet(torch.nn.Module):\n",
    "    def __init__(self, module):\n",
    "        super().__init__()\n",
    "        self.module = module\n",
    "\n",
    "    def forward(self, inputs):\n",
    "        return self.module(inputs) + inputs"
   ]
  },
  {
   "cell_type": "code",
   "execution_count": null,
   "id": "f17f0669-e4e1-45d3-a109-63a22a140b2b",
   "metadata": {},
   "outputs": [],
   "source": [
    "def ResNetBlock():\n",
    "    return ResNet(\n",
    "        torch.nn.Sequential(\n",
    "            torch.nn.Conv2d(32, 32, stride = 1, kernel_size = 3, padding = 1),\n",
    "            torch.nn.BatchNorm2d(32, eps=1e-05, momentum=0.1),\n",
    "            torch.nn.ReLU(),\n",
    "            torch.nn.Conv2d(32, 32, stride = 1, kernel_size = 3, padding = 1),\n",
    "            torch.nn.BatchNorm2d(32, eps=1e-05, momentum=0.1),\n",
    "            torch.nn.ReLU()\n",
    "        )\n",
    "    )"
   ]
  },
  {
   "cell_type": "code",
   "execution_count": null,
   "id": "34357c31-5b75-4d3c-9e0a-754e9d676d3f",
   "metadata": {},
   "outputs": [],
   "source": [
    "net = torch.nn.Sequential(\n",
    "    torch.nn.Conv2d(2, 16, stride = 3, kernel_size = 3, padding = 0), # output 32 x 32 pixels\n",
    "    torch.nn.ReLU(),\n",
    "    torch.nn.Conv2d(16, 32, stride = 1, kernel_size = 2, padding = 0), # output 31 x 31 pixels\n",
    "    torch.nn.ReLU(),\n",
    "    torch.nn.Conv2d(32, 32, stride = 1, kernel_size = 2, padding = 0), # output 30 x 30 pixels\n",
    "    torch.nn.ReLU(),\n",
    "    torch.nn.Conv2d(32, 32, stride = 1, kernel_size = 2, padding = 0), # output 29 x 29 pixels\n",
    "    torch.nn.ReLU(),\n",
    "    torch.nn.Conv2d(32, 32, stride = 1, kernel_size = 2, padding = 0), # output 28 x 28 pixels\n",
    "    torch.nn.ReLU(),\n",
    "#    ResNetBlock(),\n",
    "#    ResNetBlock(),\n",
    "    torch.nn.AdaptiveAvgPool2d(1),\n",
    "    torch.nn.Flatten(),\n",
    "    torch.nn.Linear(32, 16),\n",
    "    torch.nn.ReLU(),\n",
    "    torch.nn.Linear(16, 8),\n",
    "    torch.nn.ReLU(),\n",
    "    torch.nn.Linear(8, 1)\n",
    ").to(device)"
   ]
  },
  {
   "cell_type": "code",
   "execution_count": null,
   "id": "73ea243d-be44-4948-9f62-329bc7750aa7",
   "metadata": {},
   "outputs": [],
   "source": [
    "writer.add_graph(net, x)\n",
    "writer.close()"
   ]
  },
  {
   "cell_type": "markdown",
   "id": "e0d2fcc7-c6ac-4738-84da-c1507441f450",
   "metadata": {},
   "source": [
    "## Training"
   ]
  },
  {
   "cell_type": "code",
   "execution_count": null,
   "id": "9dd9984b-9d2a-40e0-90bf-6774656049ed",
   "metadata": {},
   "outputs": [],
   "source": [
    "loss_fct = torch.nn.MSELoss()"
   ]
  },
  {
   "cell_type": "code",
   "execution_count": null,
   "id": "bc1de6c7-fcce-4ea1-ad03-d26cf106e4af",
   "metadata": {},
   "outputs": [],
   "source": [
    "optimizer = torch.optim.Adam(net.parameters(), lr=0.001)"
   ]
  },
  {
   "cell_type": "code",
   "execution_count": null,
   "id": "a4015723-2cd3-48da-9bc5-110af523774c",
   "metadata": {},
   "outputs": [],
   "source": [
    "n_train = 5000"
   ]
  },
  {
   "cell_type": "code",
   "execution_count": null,
   "id": "d1006e79-8f44-49e4-90f0-a232050af786",
   "metadata": {},
   "outputs": [],
   "source": [
    "running_loss = 0.0\n",
    "for epoch in tqdm(range(200), position=0):\n",
    "\n",
    "    for i in tqdm(range(n_train), position=1, leave=False):\n",
    "\n",
    "        # get the inputs;\n",
    "        inputs, labels = get_batch(i)\n",
    "        inputs = transform_grids(inputs, epoch)\n",
    "\n",
    "        # zero the parameter gradients\n",
    "        optimizer.zero_grad()\n",
    "\n",
    "        # forward + backward + optimize\n",
    "        outputs = net(inputs)\n",
    "        loss = loss_fct(outputs, labels)\n",
    "        loss.backward()\n",
    "        optimizer.step()\n",
    "\n",
    "        running_loss += loss.item()\n",
    "        if i % 100 == 99:    # every 1000 mini-batches...\n",
    "\n",
    "            # ...log the running loss\n",
    "            writer.add_scalar('training loss', running_loss / 100,\n",
    "                              epoch * n_train + i)\n",
    "            running_loss = 0.0"
   ]
  },
  {
   "cell_type": "code",
   "execution_count": null,
   "id": "32714d09-3de7-4d8e-9b56-808ecd9df563",
   "metadata": {},
   "outputs": [],
   "source": []
  }
 ],
 "metadata": {
  "kernelspec": {
   "display_name": "Python 3 (ipykernel)",
   "language": "python",
   "name": "python3"
  },
  "language_info": {
   "codemirror_mode": {
    "name": "ipython",
    "version": 3
   },
   "file_extension": ".py",
   "mimetype": "text/x-python",
   "name": "python",
   "nbconvert_exporter": "python",
   "pygments_lexer": "ipython3",
   "version": "3.12.4"
  }
 },
 "nbformat": 4,
 "nbformat_minor": 5
}
