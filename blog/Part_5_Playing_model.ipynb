{
 "cells": [
  {
   "cell_type": "markdown",
   "metadata": {},
   "source": [
    "# Part 5: Playing with a model"
   ]
  },
  {
   "cell_type": "markdown",
   "metadata": {},
   "source": [
    "Make use of a model to better play\n",
    "\n",
    "At each stage of the game, choose the next move based on weighted probability distribution;\n",
    "Weight more if it creates more possibilities;\n",
    "But we want to preserve some randomness; use statistical physics \n",
    "Compare distribution of game outcomes as a function of a \"temperature\"\n",
    "\n",
    "\n",
    "use equivalent of temperature in statistical physics\n",
    "\n",
    "- if $\\beta$ is very large, then choose only the best move at each step (show the output)\n",
    "- if $\\beta$ is close to zero, play at random\n",
    "\n",
    "optimal value somewhere in between: sufficiently random to explore many different possibilities, yet favor the ones that give more options \n",
    "$\\beta \\approx$"
   ]
  },
  {
   "cell_type": "code",
   "execution_count": null,
   "metadata": {},
   "outputs": [],
   "source": []
  }
 ],
 "metadata": {
  "kernelspec": {
   "display_name": "Python 3",
   "language": "python",
   "name": "python3"
  }
 },
 "nbformat": 4,
 "nbformat_minor": 4
}
