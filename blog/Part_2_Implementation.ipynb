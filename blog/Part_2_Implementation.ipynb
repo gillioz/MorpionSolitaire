{
 "cells": [
  {
   "cell_type": "markdown",
   "metadata": {},
   "source": [
    "Deep Learning Morpion Solitaire\n",
    "===============================\n",
    "\n",
    "Part 2: Implementation\n",
    "======================"
   ]
  },
  {
   "cell_type": "markdown",
   "metadata": {},
   "source": []
  },
  {
   "cell_type": "markdown",
   "metadata": {},
   "source": [
    "### Game implementation\n",
    "\n",
    "describe bascially `MorpionSolitaire.py`"
   ]
  },
  {
   "cell_type": "markdown",
   "metadata": {},
   "source": [
    "### Image\n",
    "\n",
    "what is being passed to the neural net;\n",
    "\n",
    "why use redundant 9-bit implementation instead of 5-channel one-bit implementation\n",
    "\n",
    "batch transformations"
   ]
  },
  {
   "cell_type": "markdown",
   "metadata": {},
   "source": [
    "### Data\n",
    "\n",
    "how we deal with data: store mini-batches and apply transformations"
   ]
  },
  {
   "cell_type": "markdown",
   "metadata": {},
   "source": [
    "### The neural network\n",
    "\n",
    "use convnets\n",
    "first layer: stride multiple of 3, no padding\n",
    "\n",
    "then max or average pool: naturally implement invariance under translations\n",
    "\n"
   ]
  }
 ],
 "metadata": {
  "kernelspec": {
   "display_name": "Python 3",
   "language": "python",
   "name": "python3"
  }
 },
 "nbformat": 4,
 "nbformat_minor": 4
}
