{
 "cells": [
  {
   "cell_type": "markdown",
   "metadata": {},
   "source": [
    "# Part 4: Going deeper with a counting problem"
   ]
  },
  {
   "cell_type": "code",
   "execution_count": null,
   "metadata": {},
   "outputs": [],
   "source": [
    "#hide\n",
    "from graphviz import Digraph"
   ]
  },
  {
   "cell_type": "markdown",
   "metadata": {},
   "source": [
    "To cover:\n",
    "- regression problem instead of classification\n",
    "- how to evaluate accuracy?\n",
    "- how to generate well-normalized data? i.e. check the frequency of labels\n",
    "- use deeper network but with smaller kernel size: better learning?"
   ]
  },
  {
   "cell_type": "markdown",
   "metadata": {},
   "source": [
    "### A deeper neural network\n",
    "\n",
    "In the [last part](/2022/01/07/Part_3_Binary_problem.html) we addressed the simple binary problem with a network that was not very deep. This was useful to understand what was going on, but to address more interesting problems we will need to go deeper.\n",
    "\n",
    "first layer: 3 x 3 kernel, stride 3\n",
    "\n",
    "then four more convolutional layer, \"nearest-neighbor\"\n",
    "\n",
    "followed by max pooling and two linear layers to bring the output in the form wanted \n",
    "(fewer linear layers are needed because most of the computation is done in the convolutional layers)\n",
    "\n",
    "network architecture:"
   ]
  },
  {
   "cell_type": "code",
   "execution_count": null,
   "metadata": {},
   "outputs": [],
   "source": [
    "# hide\n",
    "# graph = Digraph('Descartes architecture', format='png')\n",
    "# graph.attr('node', fontsize='12')\n",
    "# graph.attr('edge', fontsize='10', arrowsize='0.7')\n",
    "# graph.node('0', label='Grid image')\n",
    "# graph.node('1', label='Convolutional layer, 3 x 3 kernel, stride 3 \\n + ReLu', shape='box', \n",
    "#            style='filled', fillcolor='lightpink')\n",
    "# graph.node('2', label='Convolutional layer, 2 x 2 kernel, stride 1 \\n + ReLu', shape='box', \n",
    "#            style='filled', fillcolor='lightpink')\n",
    "# graph.node('3', label='Convolutional layer, 2 x 2 kernel, stride 1 \\n + ReLu', shape='box', \n",
    "#            style='filled', fillcolor='lightpink')\n",
    "# graph.node('4', label='Convolutional layer, 2 x 2 kernel, stride 1 \\n + ReLu', shape='box', \n",
    "#            style='filled', fillcolor='lightpink')\n",
    "# graph.node('5', label='Convolutional layer, 2 x 2 kernel, stride 1 \\n + ReLu', shape='box', \n",
    "#            style='filled', fillcolor='lightpink')\n",
    "# graph.node('6', label='Average pool', shape='invhouse', \n",
    "#            style='filled', fillcolor='gray90')\n",
    "# graph.node('7', label='Linear layer + ReLu', shape='box', \n",
    "#            style='filled', fillcolor='aquamarine')\n",
    "# graph.node('8', label='Linear layer + Sigmoid', shape='box', \n",
    "#            style='filled', fillcolor='aquamarine')\n",
    "# graph.node('9', label='Output')\n",
    "# graph.edge('0','1', label='  1 x  94 x 94')\n",
    "# graph.edge('1','2', label='  20 x  32 x 32')\n",
    "# graph.edge('2','3', label='  40 x  31 x 31')\n",
    "# graph.edge('3','4', label='  40 x  30 x 30')\n",
    "# graph.edge('4','5', label='  40 x  29 x 29')\n",
    "# graph.edge('5','6', label='  10 x  28 x 28')\n",
    "# graph.edge('6','7', label='  10')\n",
    "# graph.edge('7','8', label='  3')\n",
    "# graph.edge('8','9', label='  1')\n",
    "# graph.render('Part_4_Counting_images/Descartes_architecture')\n",
    "# graph"
   ]
  },
  {
   "cell_type": "markdown",
   "metadata": {},
   "source": [
    "![png](Part_4_Counting_images/Descartes_architecture.png 'Network architecture')"
   ]
  },
  {
   "cell_type": "markdown",
   "metadata": {},
   "source": [
    "how many parameters? how big is this number compared with previous, shallow network?"
   ]
  },
  {
   "cell_type": "markdown",
   "metadata": {},
   "source": [
    "### Preparing the data\n",
    "\n",
    "play game at random.\n",
    "let's say the final score is $n$.\n",
    "then rewind by $i$ moves, where $i$ is a random number between $0$ and $n$, chosen with probablity\n",
    "$$\n",
    "p_i = \\frac{6}{n (n + 1) (2n + 1)} (n - i)^2\n",
    "$$\n",
    "this probability decreases with the square of $i$: \n",
    "gives a high chance of rewinding by only a few moves, a much smaller chance of rewinding by many moves\n",
    "\n",
    "for each final game, the label is given by the number of allowed moves to be found at that stage.\n",
    "this is something that is part of the implementation, so no additional computation needed.\n",
    "this is the frequency of labels that we obtain"
   ]
  },
  {
   "cell_type": "markdown",
   "metadata": {},
   "source": [
    "![png](Part_4_Counting_images/labels_counting.png 'legend')"
   ]
  },
  {
   "cell_type": "markdown",
   "metadata": {},
   "source": [
    "computed on 20,000 games, gives a pretty smooth distribution of labels\n",
    "\n",
    "then, we turn this integer number of possible moves (let's call it $N$) into a real number $y$ in the interval $[0,1]$ using\n",
    "$$\n",
    "y = \\frac{N}{N + 5}\n",
    "$$\n",
    "$y$ is zero if there are no possible moves, and it approaches 1 if there are many possible moves\n",
    "\n",
    "this choice gives a mean value $\\mu(y) \\approx 0.5$, and a standard deviation $\\sigma(y) \\approx 0.25$\n",
    "\n",
    "this is the value that the network will try to match;\n",
    "from the output, we can recove the number of possible moves using the inverse relation\n",
    "$$\n",
    "N = \\frac{5 y}{1 - y}\n",
    "$$"
   ]
  },
  {
   "cell_type": "markdown",
   "metadata": {},
   "source": [
    "### Training the model\n",
    "\n",
    "deeper model *and* regression requires much more data for training\n",
    "\n",
    "more epochs\n",
    "\n",
    "dynamical data: play games as we train; otherwise easy to overfit the data with this deeper network and many parameters\n",
    "\n",
    "show loss functions"
   ]
  },
  {
   "cell_type": "markdown",
   "metadata": {},
   "source": [
    "### Using the model to play Morpion Solitaire\n",
    "\n",
    "next: play the game, this time not at random but using the output of the model\n",
    "\n",
    "use equivalent of temperature in statistical physics\n",
    "\n",
    "- if $\\beta$ is very large, then choose only the best move at each step (show the output)\n",
    "- if $\\beta$ is close to zero, play at random\n",
    "\n",
    "optimal value somewhere in between: sufficiently random to explore many different possibilities, yet favor the ones that give more options \n",
    "$\\beta \\approx$"
   ]
  },
  {
   "cell_type": "markdown",
   "metadata": {},
   "source": [
    "### Looking forward\n",
    "\n",
    "so far this problem does not need deep learing; computing the number of possible moves for a given computation is something that can easily be programmed by hand;\n",
    "already here it is nice that the network can check the number for many grids at once, hence slightly improving the efficiency; but also not quite as precise as an explicit computation\n",
    "\n",
    "but we are making big progress towards our goal:\n",
    "all ingredients are here! deep neural network, complicated distribution of labels, regression problem\n",
    "\n",
    "ready to apply these methods to the actual problem"
   ]
  },
  {
   "cell_type": "code",
   "execution_count": null,
   "metadata": {},
   "outputs": [],
   "source": []
  }
 ],
 "metadata": {
  "kernelspec": {
   "display_name": "Python 3",
   "language": "python",
   "name": "python3"
  }
 },
 "nbformat": 4,
 "nbformat_minor": 4
}
