{
 "cells": [
  {
   "cell_type": "markdown",
   "metadata": {},
   "source": [
    "# Part 2: The data"
   ]
  },
  {
   "cell_type": "code",
   "execution_count": null,
   "metadata": {},
   "outputs": [],
   "source": [
    "#hide\n",
    "import sys\n",
    "sys.path.append(\"../\")\n",
    "from MorpionSolitaire import *\n",
    "import matplotlib.pyplot as plt\n",
    "from matplotlib.patches import Rectangle\n",
    "from PIL import Image"
   ]
  },
  {
   "cell_type": "markdown",
   "metadata": {},
   "source": [
    "The goal of my project is to train a neural network to play Morpion Solitaire by itself. For this, a lot of data is needed. This piece describes how the data is gathered, how it is organized, and how it will later be fed into the neural network."
   ]
  },
  {
   "cell_type": "markdown",
   "metadata": {},
   "source": [
    "### Game implementation\n",
    "\n",
    "In [the first part](2021/11/29/Part_1_Game.html), I told you about the game. I showed some statistics and a few pretty pictures of different stages of the game. All of these were obtained from my own implementation of the game that you can find in [one of my GitHub repositories](https://github.com/gillioz/MorpionSolitaire). \n",
    "The Python package `MorpionSolitaire.py` contains a few classes that let you play the game either following a random sequence of moves, using a model (this is what we want to develop), or manually step-by-step. It also provides simple methods to visualize the result in pictures.\n",
    "[A Jupyter notebook](https://github.com/gillioz/MorpionSolitaire/blob/main/Documentation.ipynb) documenting the package is available in the same repository.\n",
    "\n",
    "The Python object corresponding to a game of Morpion Solitaire (either a finished game or an on-going one) contains information about the game process: what succession of moves was used to get there, what are the allowed moves to do next, and so on. But this type of information will not be fed to the neural network. Our logic is to give as a sole input a snapshot of the grid, exactly as you would do with a human friend who is expert at the game: you show them the grid, and they tell you how many more moves you can hope to make if you play well."
   ]
  },
  {
   "cell_type": "markdown",
   "metadata": {},
   "source": [
    "### The grid\n",
    "\n",
    "The grid is essentially a 2-dimensional lattice, which for simplicity we will take to have dimensions 32 x 32. This is sufficiently large to fit in the world-record grid, and yet sufficiently small to be passed to the neural network. Each lattice site contains 5 boolean variables, describing the presence of a point and of vertical, horizontal or diagonal lines. If we distinguish these 5 variables with different colors, a piece of the lattice would look like this:"
   ]
  },
  {
   "cell_type": "code",
   "execution_count": null,
   "metadata": {},
   "outputs": [],
   "source": [
    "#hide\n",
    "# for x in range(9):\n",
    "#     for y in range(4):\n",
    "#         plt.plot([x+1,x], [y,y+1], color = 'orange')\n",
    "#         plt.plot([x,x+1], [y,y+1], color = 'red')\n",
    "#     for y in range(5):\n",
    "#         plt.plot([x,x+1], [y,y], color = 'green')\n",
    "# for x in range(10):\n",
    "#     for y in range(4):\n",
    "#         plt.plot([x,x], [y,y+1], color = 'blue')\n",
    "#     for y in range(5):\n",
    "#         plt.plot(x, y, marker = 'o', color = 'black')\n",
    "# plt.axis('equal')\n",
    "# plt.axis('off')\n",
    "# plt.savefig('Part_2_Data_images/grid_1.png', bbox_inches='tight')\n",
    "# plt.show()"
   ]
  },
  {
   "cell_type": "markdown",
   "metadata": {},
   "source": [
    "![png](Part_2_Data_images/grid_1.png 'A piece of the grid, each colored line and dot corresponding to one boolean variable.')"
   ]
  },
  {
   "cell_type": "markdown",
   "metadata": {},
   "source": [
    "More precisely, there are 32 x 32 = 1024 unit cells that look like this:"
   ]
  },
  {
   "cell_type": "code",
   "execution_count": null,
   "metadata": {},
   "outputs": [],
   "source": [
    "#hide\n",
    "# plt.plot([0,0], [0,1], color = 'blue')\n",
    "# plt.plot([0,1], [0,0], color = 'green')\n",
    "# plt.plot([1,0], [0,1], color = 'orange')\n",
    "# plt.plot([0,1], [0,1], color = 'red')\n",
    "# plt.plot(0, 0, marker = 'o', color = 'black')\n",
    "# plt.axis('equal')\n",
    "# plt.axis('off')\n",
    "# plt.savefig('Part_2_Data_images/unit_cell_1.png', bbox_inches='tight')\n",
    "# plt.show()"
   ]
  },
  {
   "cell_type": "markdown",
   "metadata": {},
   "source": [
    "![png](Part_2_Data_images/unit_cell_1.png 'The unit cell is formed by one dot and four lines.')"
   ]
  },
  {
   "cell_type": "markdown",
   "metadata": {},
   "source": [
    "This is how the grid is coded in my Python code. In machine learning language, it could be viewed as a five-channel image of 32 x 32 pixels. But this way of encoding the data is a bit annoying. For instance, the image cannot be easily rotated by 90 degrees: after rotating all five layers, one needs to shift some of the layers to make sure that a line connecting two points still connects the same pair of points. In short, this representation does not take into account the fact that the lines sit *between* the points.\n",
    "\n",
    "For this and other reasons, I found it more convenient to describe the grid as a *single-channel* image in which each unit cell is represented by 3 x 3 = 9 pixels, as follows:"
   ]
  },
  {
   "cell_type": "code",
   "execution_count": null,
   "metadata": {},
   "outputs": [],
   "source": [
    "#hide\n",
    "# plt.gca().add_patch(Rectangle((0,0),1,1, edgecolor='none',facecolor='black'))\n",
    "# plt.gca().add_patch(Rectangle((1,0),2,1, edgecolor='none',facecolor='green'))\n",
    "# plt.gca().add_patch(Rectangle((0,1),1,2, edgecolor='none',facecolor='blue'))\n",
    "# plt.gca().add_patch(Rectangle((1,1),1,1, edgecolor='none',facecolor='red'))\n",
    "# plt.gca().add_patch(Rectangle((2,2),1,1, edgecolor='none',facecolor='red'))\n",
    "# plt.gca().add_patch(Rectangle((1,2),1,1, edgecolor='none',facecolor='orange'))\n",
    "# plt.gca().add_patch(Rectangle((2,1),1,1, edgecolor='none',facecolor='orange'))\n",
    "# for i in range(4):\n",
    "#     plt.plot([i,i], [0,3], color = 'white', linestyle='dashed')\n",
    "#     plt.plot([0,3], [i,i], color = 'white', linestyle='dashed')\n",
    "# plt.axis('equal')\n",
    "# plt.axis('off')\n",
    "# plt.savefig('Part_2_Data_images/unit_cell_2.png', bbox_inches='tight')\n",
    "# plt.show()"
   ]
  },
  {
   "cell_type": "markdown",
   "metadata": {},
   "source": [
    "![png](Part_2_Data_images/unit_cell_2.png 'The same unit cell represented by 3 x 3 pixels, with matching colors.')"
   ]
  },
  {
   "cell_type": "markdown",
   "metadata": {},
   "source": [
    "Note that the colors are matching: the vertical blue line above is replaced here by *two* blue pixels, and so on so forth.\n",
    "When the cells are put next to each other again, the piece of grid shown above now looks like this:"
   ]
  },
  {
   "cell_type": "code",
   "execution_count": null,
   "metadata": {},
   "outputs": [],
   "source": [
    "#hide\n",
    "# for x in range(9):\n",
    "#     for y in range(4):\n",
    "#         plt.gca().add_patch(Rectangle((3*x+1,3*y+1),1,1, edgecolor='none',facecolor='red'))\n",
    "#         plt.gca().add_patch(Rectangle((3*x+2,3*y+2),1,1, edgecolor='none',facecolor='red'))\n",
    "#         plt.gca().add_patch(Rectangle((3*x+1,3*y+2),1,1, edgecolor='none',facecolor='orange'))\n",
    "#         plt.gca().add_patch(Rectangle((3*x+2,3*y+1),1,1, edgecolor='none',facecolor='orange'))\n",
    "#     for y in range(5):\n",
    "#         plt.gca().add_patch(Rectangle((3*x+1,3*y),2,1, edgecolor='none',facecolor='green'))\n",
    "# for x in range(10):\n",
    "#     for y in range(4):\n",
    "#         plt.gca().add_patch(Rectangle((3*x,3*y+1),1,2, edgecolor='none',facecolor='blue'))\n",
    "#     for y in range(5):\n",
    "#         plt.gca().add_patch(Rectangle((3*x,3*y),1,1, edgecolor='none',facecolor='black'))\n",
    "# for x in range(29):\n",
    "#     plt.plot([x,x], [0,13], color = 'white', linestyle='dotted')\n",
    "# for y in range(14):\n",
    "#     plt.plot([0,28], [y,y], color = 'white', linestyle='dotted')\n",
    "# plt.axis('equal')\n",
    "# plt.axis('off')\n",
    "# plt.savefig('Part_2_Data_images/grid_2.png', bbox_inches='tight')\n",
    "# plt.show()"
   ]
  },
  {
   "cell_type": "markdown",
   "metadata": {},
   "source": [
    "![png](Part_2_Data_images/grid_2.png '')"
   ]
  },
  {
   "cell_type": "markdown",
   "metadata": {},
   "source": [
    "Obviously this representation is redundant: it uses 9 bits of data where there were originally 5 bits. But this is not so bad in terms of volume of data: each grid is now a single-channel 94 x 94 pixel image (in this process I cropped the edge of the lattice so that its boundary is made of points, vertical and horizontal lines, just like in the image above).\n",
    "\n",
    "As an example, this is series of 5 images corresponding to intermediate steps of one of the games described in [part I](2021/11/29/Part_1_Game.html):"
   ]
  },
  {
   "cell_type": "code",
   "execution_count": null,
   "metadata": {},
   "outputs": [],
   "source": [
    "#hide\n",
    "# table = np.zeros([100,488]).astype('bool')\n",
    "# game = NewGame()\n",
    "# for i in range(5):\n",
    "#     table[3:97, (3 + 97*i):(97 + 97*i)] = ~np.rot90(game.grid.image())\n",
    "#     game = game.play(index = 17, depth = 8)\n",
    "# image = Image.fromarray(table)\n",
    "# image.save('Part_2_Data_images/five_grids.png')"
   ]
  },
  {
   "cell_type": "markdown",
   "metadata": {},
   "source": [
    "![png](Part_2_Data_images/five_grids.png '')"
   ]
  },
  {
   "cell_type": "markdown",
   "metadata": {},
   "source": [
    "This representation is not only nice for humans (a glance at the image gives you a good impression of the game), but it is also very convenient in the learning process as it allows simple transformations for data augmentations:\n",
    "the image can be rotated by 90, 180 or 270 degrees, flipped horizontally or vertically, and this always gives \"new\" input to feed in the neural network."
   ]
  },
  {
   "cell_type": "markdown",
   "metadata": {},
   "source": [
    "### The neural network\n",
    "\n",
    "At this stage, it is too early to define the architecture of the model that we will use.\n",
    "For one, this architecture will depend on the exact problem that we want to solve, and we will only gradually increase the complexity of the task, starting with a simple problem in [Part 3]().\n",
    "\n",
    "However, some of the features of the neural network are already dictated by properties of the data.\n",
    "\n",
    "- translation symmetry implies convnet, first layer with stride 3, followed by max of average pooling\n",
    "\n",
    "- independence of image size implies max pooling\n",
    "\n",
    "\n",
    "\n",
    "typical structure\n",
    "\n",
    "1. a convolutional layer with stride 3 (or a multiple thereof) and no padding\n",
    "\n",
    "1. some more convolutional layers, with stride one; this is were the relationship between neighboring \n",
    "\n",
    "1. max or average pooling\n",
    "\n",
    "1. some more linear layers\n",
    "\n",
    "resnet\n",
    "\n"
   ]
  },
  {
   "cell_type": "markdown",
   "metadata": {},
   "source": [
    "Other things to cover:\n",
    "- pay attention to normalizing the data properly (next posts)"
   ]
  },
  {
   "cell_type": "markdown",
   "metadata": {},
   "source": [
    "### Data frame\n",
    "\n",
    "\n",
    "playing the game is time-consuming\n",
    "\n",
    "two options:\n",
    "- static: generate a large data set once and for all, with the risk to overfit the data\n",
    "- dynamic: each time \n",
    "\n",
    "follow something in between\n",
    "\n",
    "how we deal with data: store mini-batches and apply transformations\n",
    "\n",
    "\n",
    "how many times a single grid is being used?\n",
    "\n",
    "obviously fewer times improves accuracy; but more improves efficiency\n",
    "\n",
    "typically: work with high value of repeat for experimenting, then \n",
    "\n",
    "\n",
    "labels? more on this will be added later"
   ]
  },
  {
   "cell_type": "markdown",
   "metadata": {},
   "source": [
    "### Labelling the data"
   ]
  },
  {
   "cell_type": "code",
   "execution_count": null,
   "metadata": {},
   "outputs": [],
   "source": []
  }
 ],
 "metadata": {
  "kernelspec": {
   "display_name": "Python 3",
   "language": "python",
   "name": "python3"
  }
 },
 "nbformat": 4,
 "nbformat_minor": 4
}
