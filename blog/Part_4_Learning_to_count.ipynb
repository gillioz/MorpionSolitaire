{
 "cells": [
  {
   "cell_type": "markdown",
   "metadata": {},
   "source": [
    "# Deep Learning Morpion Solitaire\n",
    "\n",
    "# Part 4: Learning to count"
   ]
  },
  {
   "cell_type": "markdown",
   "metadata": {},
   "source": [
    "To cover:\n",
    "- regression problem instead of classification\n",
    "- how to evaluate accuracy?\n",
    "- how to generate well-normalized data? i.e. check the frequency of labels\n",
    "- use deeper network but with smaller kernel size: better learning?"
   ]
  },
  {
   "cell_type": "code",
   "execution_count": null,
   "metadata": {},
   "outputs": [],
   "source": []
  }
 ],
 "metadata": {
  "kernelspec": {
   "display_name": "Python 3",
   "language": "python",
   "name": "python3"
  }
 },
 "nbformat": 4,
 "nbformat_minor": 4
}
