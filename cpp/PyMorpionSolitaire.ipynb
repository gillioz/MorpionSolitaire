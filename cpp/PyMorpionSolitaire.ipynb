{
 "cells": [
  {
   "cell_type": "code",
   "execution_count": 1,
   "id": "37272a16",
   "metadata": {},
   "outputs": [],
   "source": [
    "import sys\n",
    "sys.path.append(sys.path[0] + '/bin')"
   ]
  },
  {
   "cell_type": "code",
   "execution_count": 2,
   "id": "b5e86b0b",
   "metadata": {},
   "outputs": [],
   "source": [
    "import PyMorpionSolitaire"
   ]
  },
  {
   "cell_type": "code",
   "execution_count": 3,
   "id": "12eda9a9",
   "metadata": {},
   "outputs": [],
   "source": [
    "import numpy as np\n",
    "import matplotlib.pyplot as plt\n",
    "from tqdm import tqdm"
   ]
  },
  {
   "cell_type": "markdown",
   "id": "ec76305c",
   "metadata": {},
   "source": [
    "Display module information:"
   ]
  },
  {
   "cell_type": "code",
   "execution_count": 4,
   "id": "019e6e90",
   "metadata": {},
   "outputs": [],
   "source": [
    "# help(PyMorpionSolitaire)"
   ]
  },
  {
   "cell_type": "markdown",
   "id": "e5a8b37f",
   "metadata": {},
   "source": [
    "Create a new game with default type (segment length 4, touching allowed, starting configuration 'cross'):"
   ]
  },
  {
   "cell_type": "code",
   "execution_count": 5,
   "id": "27bd1d8f",
   "metadata": {},
   "outputs": [
    {
     "name": "stdout",
     "output_type": "stream",
     "text": [
      "\n",
      "XXXXXXXXXXXXXXXXXXXXXXXXXXXXXXXXXXXXXX\n",
      "X                                    X\n",
      "X                                    X\n",
      "X                                    X\n",
      "X                                    X\n",
      "X             O  O  O  O             X\n",
      "X                                    X\n",
      "X                                    X\n",
      "X             O        O             X\n",
      "X                                    X\n",
      "X                                    X\n",
      "X             O        O             X\n",
      "X                                    X\n",
      "X                                    X\n",
      "X    O  O  O  O        O  O  O  O    X\n",
      "X                                    X\n",
      "X                                    X\n",
      "X    O                          O    X\n",
      "X                                    X\n",
      "X                                    X\n",
      "X    O                          O    X\n",
      "X                                    X\n",
      "X                                    X\n",
      "X    O  O  O  O        O  O  O  O    X\n",
      "X                                    X\n",
      "X                                    X\n",
      "X             O        O             X\n",
      "X                                    X\n",
      "X                                    X\n",
      "X             O        O             X\n",
      "X                                    X\n",
      "X                                    X\n",
      "X             O  O  O  O             X\n",
      "X                                    X\n",
      "X                                    X\n",
      "X                                    X\n",
      "X                                    X\n",
      "XXXXXXXXXXXXXXXXXXXXXXXXXXXXXXXXXXXXXX\n",
      "\n",
      "Score: 0\n",
      "Number of possible moves: 28\n"
     ]
    }
   ],
   "source": [
    "# game = PyMorpionSolitaire.Game('c', 4, False)\n",
    "game = PyMorpionSolitaire.Game()\n",
    "game.print()"
   ]
  },
  {
   "cell_type": "code",
   "execution_count": 6,
   "id": "f2995f61",
   "metadata": {},
   "outputs": [
    {
     "data": {
      "text/plain": [
       "0"
      ]
     },
     "execution_count": 6,
     "metadata": {},
     "output_type": "execute_result"
    }
   ],
   "source": [
    "game.getScore()"
   ]
  },
  {
   "cell_type": "markdown",
   "id": "aef21d47",
   "metadata": {},
   "source": [
    "Play a specific move:"
   ]
  },
  {
   "cell_type": "code",
   "execution_count": 7,
   "id": "86328fa5",
   "metadata": {},
   "outputs": [
    {
     "name": "stdout",
     "output_type": "stream",
     "text": [
      "\n",
      "XXXXXXXXXXXXXXXXXXXXXXXXXXXXXXXXXXXXXX\n",
      "X                                    X\n",
      "X                                    X\n",
      "X                                    X\n",
      "X                                    X\n",
      "X             O  O  O  O             X\n",
      "X               /                    X\n",
      "X              /                     X\n",
      "X             O        O             X\n",
      "X            /                       X\n",
      "X           /                        X\n",
      "X          O  O        O             X\n",
      "X         /                          X\n",
      "X        /                           X\n",
      "X    O  O  O  O        O  O  O  O    X\n",
      "X      /                             X\n",
      "X     /                              X\n",
      "X    O                          O    X\n",
      "X                                    X\n",
      "X                                    X\n",
      "X    O                          O    X\n",
      "X                                    X\n",
      "X                                    X\n",
      "X    O  O  O  O        O  O  O  O    X\n",
      "X                                    X\n",
      "X                                    X\n",
      "X             O        O             X\n",
      "X                                    X\n",
      "X                                    X\n",
      "X             O        O             X\n",
      "X                                    X\n",
      "X                                    X\n",
      "X             O  O  O  O             X\n",
      "X                                    X\n",
      "X                                    X\n",
      "X                                    X\n",
      "X                                    X\n",
      "XXXXXXXXXXXXXXXXXXXXXXXXXXXXXXXXXXXXXX\n",
      "\n",
      "Score: 1\n",
      "Number of possible moves: 27\n"
     ]
    }
   ],
   "source": [
    "game.playByIndex(24)\n",
    "game.print()"
   ]
  },
  {
   "cell_type": "markdown",
   "id": "8f2f3957",
   "metadata": {},
   "source": [
    "Play a move at random:"
   ]
  },
  {
   "cell_type": "code",
   "execution_count": 8,
   "id": "4d5c13ec",
   "metadata": {},
   "outputs": [
    {
     "name": "stdout",
     "output_type": "stream",
     "text": [
      "\n",
      "XXXXXXXXXXXXXXXXXXXXXXXXXXXXXXXXXXXXXX\n",
      "X                                    X\n",
      "X                                    X\n",
      "X                                    X\n",
      "X                                    X\n",
      "X             O  O  O  O             X\n",
      "X               /                    X\n",
      "X              /                     X\n",
      "X             O        O             X\n",
      "X            /                       X\n",
      "X           /                        X\n",
      "X          O  O        O             X\n",
      "X         /                          X\n",
      "X        /                           X\n",
      "X    O  O  O  O        O  O  O  O    X\n",
      "X      /                             X\n",
      "X     /                              X\n",
      "X    O                          O    X\n",
      "X                                    X\n",
      "X                                    X\n",
      "X    O                          O    X\n",
      "X                                    X\n",
      "X                                    X\n",
      "X    O  O  O  O        O  O  O  O    X\n",
      "X                      |             X\n",
      "X                      |             X\n",
      "X             O        O             X\n",
      "X                      |             X\n",
      "X                      |             X\n",
      "X             O        O             X\n",
      "X                      |             X\n",
      "X                      |             X\n",
      "X             O  O  O  O             X\n",
      "X                      |             X\n",
      "X                      |             X\n",
      "X                      O             X\n",
      "X                                    X\n",
      "X                                    X\n",
      "X                                    X\n",
      "X                                    X\n",
      "XXXXXXXXXXXXXXXXXXXXXXXXXXXXXXXXXXXXXX\n",
      "\n",
      "Score: 2\n",
      "Number of possible moves: 26\n"
     ]
    }
   ],
   "source": [
    "game.playAtRandom(1)\n",
    "game.print()"
   ]
  },
  {
   "cell_type": "markdown",
   "id": "fef5d647",
   "metadata": {},
   "source": [
    "Play several moves at random:"
   ]
  },
  {
   "cell_type": "code",
   "execution_count": 9,
   "id": "c2cc550c",
   "metadata": {},
   "outputs": [
    {
     "name": "stdout",
     "output_type": "stream",
     "text": [
      "\n",
      "XXXXXXXXXXXXXXXXXXXXXXXXXXXXXXXXXXXXXXXXX\n",
      "X                                       X\n",
      "X                                       X\n",
      "X                                       X\n",
      "X                                       X\n",
      "X                         O             X\n",
      "X                        /|             X\n",
      "X                       / |             X\n",
      "X                O--O--O--O--O          X\n",
      "X                  /  /   |             X\n",
      "X                 /  /    |             X\n",
      "X                O  O     O             X\n",
      "X               /  /      |             X\n",
      "X              /  /       |             X\n",
      "X             O  O        O             X\n",
      "X            /  /         |             X\n",
      "X           /  /          |             X\n",
      "X       O  O  O  O        O  O  O  O    X\n",
      "X       | /                        |    X\n",
      "X       |/                         |    X\n",
      "X       O                          O    X\n",
      "X       |                          |    X\n",
      "X       |                          |    X\n",
      "X       O                          O    X\n",
      "X       |                         /|    X\n",
      "X       |                        / |    X\n",
      "X    O--O--O--O--O        O  O  O  O    X\n",
      "X       |      \\ |        |    /   |    X\n",
      "X       |       \\|        |   /    |    X\n",
      "X       O        O        O  O     O    X\n",
      "X                |\\       | /           X\n",
      "X                | \\      |/            X\n",
      "X                O  O     O             X\n",
      "X                |   \\   /|             X\n",
      "X                |    \\ / |             X\n",
      "X                O--O--O--O--O          X\n",
      "X                |      \\ |             X\n",
      "X                |       \\|             X\n",
      "X                O        O             X\n",
      "X                                       X\n",
      "X                                       X\n",
      "X                                       X\n",
      "X                                       X\n",
      "XXXXXXXXXXXXXXXXXXXXXXXXXXXXXXXXXXXXXXXXX\n",
      "\n",
      "Score: 12\n",
      "Number of possible moves: 11\n"
     ]
    }
   ],
   "source": [
    "game.playAtRandom(10)\n",
    "game.print()"
   ]
  },
  {
   "cell_type": "markdown",
   "id": "cc0bfd3c",
   "metadata": {},
   "source": [
    "Play at random until no more moves are possible:"
   ]
  },
  {
   "cell_type": "code",
   "execution_count": 10,
   "id": "352803ee",
   "metadata": {},
   "outputs": [
    {
     "name": "stdout",
     "output_type": "stream",
     "text": [
      "\n",
      "XXXXXXXXXXXXXXXXXXXXXXXXXXXXXXXXXXXXXXXXXXXX\n",
      "X                                          X\n",
      "X                                          X\n",
      "X                                          X\n",
      "X                                          X\n",
      "X                         O                X\n",
      "X                        /|                X\n",
      "X                       / |                X\n",
      "X                O--O--O--O--O             X\n",
      "X                | /  / \\ |                X\n",
      "X                |/  /   \\|                X\n",
      "X                O  O     O                X\n",
      "X               /| /      |\\               X\n",
      "X              / |/       | \\              X\n",
      "X             O  O        O  O             X\n",
      "X            /  /|        |   \\            X\n",
      "X           /  / |        |    \\           X\n",
      "X    O--O--O--O--O        O--O--O--O--O    X\n",
      "X       | /    \\ |       /       \\ |       X\n",
      "X       |/      \\|      /         \\|       X\n",
      "X       O        O     O           O       X\n",
      "X       |         \\   /            |       X\n",
      "X       |          \\ /             |       X\n",
      "X       O           O              O       X\n",
      "X       |\\         / \\            /|       X\n",
      "X       | \\       /   \\          / |       X\n",
      "X    O--O--O--O--O     O--O--O--O--O       X\n",
      "X       |   \\  \\/|      \\ | /  /   |       X\n",
      "X       |    \\ /\\|       \\|/  /    |       X\n",
      "X       O     O  O        O  O     O       X\n",
      "X              \\ |\\      /| /              X\n",
      "X               \\| \\    / |/               X\n",
      "X             O--O--O--O--O                X\n",
      "X                |\\  \\/  /|                X\n",
      "X                | \\ /\\ / |                X\n",
      "X                O--O--O--O--O             X\n",
      "X                | /    \\ |                X\n",
      "X                |/      \\|                X\n",
      "X                O        O                X\n",
      "X                                          X\n",
      "X                                          X\n",
      "X                                          X\n",
      "X                                          X\n",
      "XXXXXXXXXXXXXXXXXXXXXXXXXXXXXXXXXXXXXXXXXXXX\n",
      "\n",
      "Score: 22\n",
      "Number of possible moves: 0\n"
     ]
    }
   ],
   "source": [
    "game.playAtRandom()\n",
    "game.print()"
   ]
  },
  {
   "cell_type": "markdown",
   "id": "aefac8e6",
   "metadata": {},
   "source": [
    "Undo one move:"
   ]
  },
  {
   "cell_type": "code",
   "execution_count": 11,
   "id": "5e4e0580",
   "metadata": {},
   "outputs": [
    {
     "name": "stdout",
     "output_type": "stream",
     "text": [
      "\n",
      "XXXXXXXXXXXXXXXXXXXXXXXXXXXXXXXXXXXXXXXXXXXX\n",
      "X                                          X\n",
      "X                                          X\n",
      "X                                          X\n",
      "X                                          X\n",
      "X                         O                X\n",
      "X                        /|                X\n",
      "X                       / |                X\n",
      "X                O--O--O--O--O             X\n",
      "X                | /  / \\ |                X\n",
      "X                |/  /   \\|                X\n",
      "X                O  O     O                X\n",
      "X               /| /      |\\               X\n",
      "X              / |/       | \\              X\n",
      "X             O  O        O  O             X\n",
      "X            /  /|        |   \\            X\n",
      "X           /  / |        |    \\           X\n",
      "X    O--O--O--O--O        O--O--O--O--O    X\n",
      "X       | /    \\ |               \\ |       X\n",
      "X       |/      \\|                \\|       X\n",
      "X       O        O                 O       X\n",
      "X       |         \\                |       X\n",
      "X       |          \\               |       X\n",
      "X       O           O              O       X\n",
      "X       |\\           \\            /|       X\n",
      "X       | \\           \\          / |       X\n",
      "X    O--O--O--O--O     O--O--O--O--O       X\n",
      "X       |   \\  \\ |      \\ | /  /   |       X\n",
      "X       |    \\  \\|       \\|/  /    |       X\n",
      "X       O     O  O        O  O     O       X\n",
      "X              \\ |\\      /| /              X\n",
      "X               \\| \\    / |/               X\n",
      "X             O--O--O--O--O                X\n",
      "X                |\\  \\/  /|                X\n",
      "X                | \\ /\\ / |                X\n",
      "X                O--O--O--O--O             X\n",
      "X                | /    \\ |                X\n",
      "X                |/      \\|                X\n",
      "X                O        O                X\n",
      "X                                          X\n",
      "X                                          X\n",
      "X                                          X\n",
      "X                                          X\n",
      "XXXXXXXXXXXXXXXXXXXXXXXXXXXXXXXXXXXXXXXXXXXX\n",
      "\n",
      "Score: 21\n",
      "Number of possible moves: 2\n"
     ]
    }
   ],
   "source": [
    "game.undo()\n",
    "game.print()"
   ]
  },
  {
   "cell_type": "markdown",
   "id": "b8d3595d",
   "metadata": {},
   "source": [
    "Undo more moves:"
   ]
  },
  {
   "cell_type": "code",
   "execution_count": 12,
   "id": "1780d574",
   "metadata": {},
   "outputs": [
    {
     "name": "stdout",
     "output_type": "stream",
     "text": [
      "\n",
      "XXXXXXXXXXXXXXXXXXXXXXXXXXXXXXXXXXXXXX\n",
      "X                                    X\n",
      "X                                    X\n",
      "X                                    X\n",
      "X                                    X\n",
      "X                      O             X\n",
      "X                     /|             X\n",
      "X                    / |             X\n",
      "X             O--O--O--O--O          X\n",
      "X               /  /   |             X\n",
      "X              /  /    |             X\n",
      "X             O  O     O             X\n",
      "X            /  /      |             X\n",
      "X           /  /       |             X\n",
      "X          O  O        O             X\n",
      "X         /  /         |             X\n",
      "X        /  /          |             X\n",
      "X    O  O  O  O        O  O  O  O    X\n",
      "X    | /                             X\n",
      "X    |/                              X\n",
      "X    O                          O    X\n",
      "X    |                               X\n",
      "X    |                               X\n",
      "X    O                          O    X\n",
      "X    |                               X\n",
      "X    |                               X\n",
      "X    O  O  O  O        O  O  O  O    X\n",
      "X    |                 |             X\n",
      "X    |                 |             X\n",
      "X    O        O        O             X\n",
      "X                      |             X\n",
      "X                      |             X\n",
      "X             O        O             X\n",
      "X                      |             X\n",
      "X                      |             X\n",
      "X             O  O  O  O             X\n",
      "X                      |             X\n",
      "X                      |             X\n",
      "X                      O             X\n",
      "X                                    X\n",
      "X                                    X\n",
      "X                                    X\n",
      "X                                    X\n",
      "XXXXXXXXXXXXXXXXXXXXXXXXXXXXXXXXXXXXXX\n",
      "\n",
      "Score: 6\n",
      "Number of possible moves: 20\n"
     ]
    }
   ],
   "source": [
    "game.undo(15)\n",
    "game.print()"
   ]
  },
  {
   "cell_type": "markdown",
   "id": "050e631b",
   "metadata": {},
   "source": [
    "Generate several games and plot the distribution of scores using defferent algorithms:"
   ]
  },
  {
   "cell_type": "code",
   "execution_count": 13,
   "id": "6e9c5bb0",
   "metadata": {},
   "outputs": [
    {
     "name": "stderr",
     "output_type": "stream",
     "text": [
      "100%|█████████████████████████████████| 100000/100000 [00:23<00:00, 4269.53it/s]\n"
     ]
    }
   ],
   "source": [
    "n = 100000\n",
    "mc_score_count = np.array([0 for _ in range(150)])\n",
    "for _ in tqdm(range(n)):\n",
    "    game.restart()\n",
    "    game.playAtRandom()\n",
    "    mc_score_count[game.getScore()] += 1\n",
    "assert n == mc_score_count.sum()\n",
    "mc_freq = mc_score_count / n"
   ]
  },
  {
   "cell_type": "code",
   "execution_count": 14,
   "id": "1134b8ad",
   "metadata": {},
   "outputs": [
    {
     "name": "stderr",
     "output_type": "stream",
     "text": [
      "100%|███████████████████████████████████████| 1000/1000 [01:48<00:00,  9.24it/s]\n"
     ]
    }
   ],
   "source": [
    "n = 1000\n",
    "nested_mc_score_count = np.array([0 for _ in range(150)])\n",
    "for _ in tqdm(range(n)):\n",
    "    game.restart()\n",
    "    game.playNestedMC(1)\n",
    "    nested_mc_score_count[game.getScore()] += 1\n",
    "assert n == nested_mc_score_count.sum()\n",
    "nested_mc_freq = nested_mc_score_count / n"
   ]
  },
  {
   "cell_type": "code",
   "execution_count": 15,
   "id": "30155270",
   "metadata": {},
   "outputs": [
    {
     "data": {
      "image/png": "[encoded data removed]",
      "text/plain": [
       "<Figure size 640x480 with 1 Axes>"
      ]
     },
     "metadata": {},
     "output_type": "display_data"
    }
   ],
   "source": [
    "bins = [i - 0.5 for i in range(150)]\n",
    "plt.step(bins, mc_freq)\n",
    "plt.step(bins, nested_mc_freq)\n",
    "plt.xlim(0, 120)\n",
    "plt.ylim(0)\n",
    "plt.xlabel(\"Score\")\n",
    "plt.ylabel(\"Frequency\")\n",
    "plt.show()"
   ]
  },
  {
   "cell_type": "code",
   "execution_count": 17,
   "id": "63264d18",
   "metadata": {},
   "outputs": [
    {
     "name": "stdout",
     "output_type": "stream",
     "text": [
      "\n",
      "XXXXXXXXXXXXXXXXXXXXXXXXXXXXXXXXXXXXXXXXXXXXXXXXXX\n",
      "X                                                X\n",
      "X                                                X\n",
      "X                                                X\n",
      "X                                                X\n",
      "X                O  O--O--O--O--O                X\n",
      "X                 \\/|\\/   |\\/ \\/|                X\n",
      "X                 /\\|/\\   |/\\ /\\|                X\n",
      "X                O--O--O--O--O  O                X\n",
      "X               /|\\/|\\/|\\/|\\/|\\/|\\               X\n",
      "X              / |/\\|/\\|/\\|/\\|/\\| \\              X\n",
      "X             O--O--O--O--O--O--O--O--O          X\n",
      "X            /| /|\\/|\\/|\\/|\\/|\\ |\\  \\            X\n",
      "X           / |/ |/\\|/\\|/\\|/\\| \\| \\  \\           X\n",
      "X       O--O--O--O--O--O--O--O--O--O--O--O--O    X\n",
      "X        \\/|\\/| /|\\/|\\/|\\/|\\/|\\ |\\  \\/|\\/  /     X\n",
      "X        /\\|/\\|/ |/\\|/\\|/\\|/\\| \\| \\ /\\|/\\ /      X\n",
      "X       O--O--O--O--O  O  O--O--O--O--O  O       X\n",
      "X        \\ |\\/|\\ |\\/ \\/|\\/|\\/|\\/|\\/|\\/| /        X\n",
      "X         \\|/\\| \\|/\\ /\\|/\\|/\\|/\\|/\\|/\\|/         X\n",
      "X          O--O--O--O--O  O--O--O--O--O          X\n",
      "X          |\\ |\\/|\\/ \\/|\\/|\\/ \\/|\\/|\\/|          X\n",
      "X          | \\|/\\|/\\ /\\|/\\|/\\ /\\|/\\|/\\|          X\n",
      "X          O  O--O--O--O--O--O--O--O--O  O       X\n",
      "X          |\\/|\\/|\\/ \\/|\\/|\\/ \\/|\\/|\\/|\\ |       X\n",
      "X          |/\\|/\\|/\\ /\\|/\\|/\\ /\\|/\\|/\\| \\|       X\n",
      "X    O     O--O--O--O--O  O  O--O--O--O--O       X\n",
      "X     \\   /  /|\\ |\\/|\\/|\\/|\\/|\\/|\\/|\\/|\\ |\\      X\n",
      "X      \\ /  / | \\|/\\|/\\|/\\|/\\|/\\|/\\|/\\| \\| \\     X\n",
      "X       O--O--O--O--O--O--O--O--O--O--O--O--O    X\n",
      "X        \\/ \\ |\\ |\\ |\\/|\\/|\\/|\\/|\\/|\\/|\\/| /     X\n",
      "X        /\\  \\| \\| \\|/\\|/\\|/\\|/\\|/\\|/\\|/\\|/      X\n",
      "X       O--O--O--O--O--O--O--O--O--O--O--O--O    X\n",
      "X           \\ |\\  \\/|\\/|\\/|\\/|\\/|\\/|\\/|\\/| /     X\n",
      "X            \\| \\ /\\|/\\|/\\|/\\|/\\|/\\|/\\|/\\|/      X\n",
      "X             O  O--O--O--O--O--O--O--O--O       X\n",
      "X              \\/ \\/|\\/|\\ |\\/|\\/|\\/|\\/|\\/        X\n",
      "X              /\\ /\\|/\\| \\|/\\|/\\|/\\|/\\|/\\        X\n",
      "X             O--O--O--O--O--O--O--O--O  O       X\n",
      "X                    \\ |\\ |\\/ \\/| /| / \\         X\n",
      "X                     \\| \\|/\\ /\\|/ |/   \\        X\n",
      "X                      O--O--O--O--O     O       X\n",
      "X                      |      \\   /              X\n",
      "X                      |       \\ /               X\n",
      "X                      O        O                X\n",
      "X                                \\               X\n",
      "X                                 \\              X\n",
      "X                                  O             X\n",
      "X                                                X\n",
      "X                                                X\n",
      "X                                                X\n",
      "X                                                X\n",
      "XXXXXXXXXXXXXXXXXXXXXXXXXXXXXXXXXXXXXXXXXXXXXXXXXX\n",
      "\n",
      "Score: 98\n",
      "Number of possible moves: 0\n"
     ]
    }
   ],
   "source": [
    "game.restart()\n",
    "game.playNestedMC(2)\n",
    "game.print()"
   ]
  },
  {
   "cell_type": "code",
   "execution_count": null,
   "id": "1490a4fa",
   "metadata": {},
   "outputs": [],
   "source": []
  },
  {
   "cell_type": "code",
   "execution_count": null,
   "id": "70359e0e",
   "metadata": {},
   "outputs": [],
   "source": []
  },
  {
   "cell_type": "code",
   "execution_count": null,
   "id": "d4701434",
   "metadata": {},
   "outputs": [],
   "source": []
  }
 ],
 "metadata": {
  "kernelspec": {
   "display_name": "Python 3 (ipykernel)",
   "language": "python",
   "name": "python3"
  },
  "language_info": {
   "codemirror_mode": {
    "name": "ipython",
    "version": 3
   },
   "file_extension": ".py",
   "mimetype": "text/x-python",
   "name": "python",
   "nbconvert_exporter": "python",
   "pygments_lexer": "ipython3",
   "version": "3.10.11"
  }
 },
 "nbformat": 4,
 "nbformat_minor": 5
}
