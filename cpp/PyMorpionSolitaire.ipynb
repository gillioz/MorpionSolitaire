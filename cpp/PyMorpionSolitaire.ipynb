{
 "cells": [
  {
   "cell_type": "code",
   "execution_count": 15,
   "id": "37272a16",
   "metadata": {},
   "outputs": [],
   "source": [
    "import sys\n",
    "sys.path.append(sys.path[0] + '/bin')"
   ]
  },
  {
   "cell_type": "code",
   "execution_count": 16,
   "id": "b5e86b0b",
   "metadata": {},
   "outputs": [],
   "source": [
    "import PyMorpionSolitaire"
   ]
  },
  {
   "cell_type": "markdown",
   "id": "ec76305c",
   "metadata": {},
   "source": [
    "Display module information:"
   ]
  },
  {
   "cell_type": "code",
   "execution_count": 17,
   "id": "019e6e90",
   "metadata": {},
   "outputs": [],
   "source": [
    "# help(PyMorpionSolitaire)"
   ]
  },
  {
   "cell_type": "markdown",
   "id": "e5a8b37f",
   "metadata": {},
   "source": [
    "Create a new game with default type (segment length 4, touching allowed, starting configuration 'cross'):"
   ]
  },
  {
   "cell_type": "code",
   "execution_count": 36,
   "id": "27bd1d8f",
   "metadata": {},
   "outputs": [
    {
     "name": "stdout",
     "output_type": "stream",
     "text": [
      "\n",
      "XXXXXXXXXXXXXXXXXXXXXXXXXXXXXXXXXXXXXX\n",
      "X                                    X\n",
      "X                                    X\n",
      "X                                    X\n",
      "X                                    X\n",
      "X             O  O  O  O             X\n",
      "X                                    X\n",
      "X                                    X\n",
      "X             O        O             X\n",
      "X                                    X\n",
      "X                                    X\n",
      "X             O        O             X\n",
      "X                                    X\n",
      "X                                    X\n",
      "X    O  O  O  O        O  O  O  O    X\n",
      "X                                    X\n",
      "X                                    X\n",
      "X    O                          O    X\n",
      "X                                    X\n",
      "X                                    X\n",
      "X    O                          O    X\n",
      "X                                    X\n",
      "X                                    X\n",
      "X    O  O  O  O        O  O  O  O    X\n",
      "X                                    X\n",
      "X                                    X\n",
      "X             O        O             X\n",
      "X                                    X\n",
      "X                                    X\n",
      "X             O        O             X\n",
      "X                                    X\n",
      "X                                    X\n",
      "X             O  O  O  O             X\n",
      "X                                    X\n",
      "X                                    X\n",
      "X                                    X\n",
      "X                                    X\n",
      "XXXXXXXXXXXXXXXXXXXXXXXXXXXXXXXXXXXXXX\n",
      "\n",
      "Score: 0\n",
      "Number of possible moves: 28\n"
     ]
    }
   ],
   "source": [
    "game = PyMorpionSolitaire.Game('c', 4, False)\n",
    "game.print()"
   ]
  },
  {
   "cell_type": "markdown",
   "id": "aef21d47",
   "metadata": {},
   "source": [
    "Play a specific move:"
   ]
  },
  {
   "cell_type": "code",
   "execution_count": 37,
   "id": "86328fa5",
   "metadata": {},
   "outputs": [
    {
     "name": "stdout",
     "output_type": "stream",
     "text": [
      "\n",
      "XXXXXXXXXXXXXXXXXXXXXXXXXXXXXXXXXXXXXX\n",
      "X                                    X\n",
      "X                                    X\n",
      "X                                    X\n",
      "X                                    X\n",
      "X             O  O  O  O             X\n",
      "X                                    X\n",
      "X                                    X\n",
      "X             O        O             X\n",
      "X                                    X\n",
      "X                                    X\n",
      "X    O        O        O             X\n",
      "X    |                               X\n",
      "X    |                               X\n",
      "X    O  O  O  O        O  O  O  O    X\n",
      "X    |                               X\n",
      "X    |                               X\n",
      "X    O                          O    X\n",
      "X    |                               X\n",
      "X    |                               X\n",
      "X    O                          O    X\n",
      "X    |                               X\n",
      "X    |                               X\n",
      "X    O  O  O  O        O  O  O  O    X\n",
      "X                                    X\n",
      "X                                    X\n",
      "X             O        O             X\n",
      "X                                    X\n",
      "X                                    X\n",
      "X             O        O             X\n",
      "X                                    X\n",
      "X                                    X\n",
      "X             O  O  O  O             X\n",
      "X                                    X\n",
      "X                                    X\n",
      "X                                    X\n",
      "X                                    X\n",
      "XXXXXXXXXXXXXXXXXXXXXXXXXXXXXXXXXXXXXX\n",
      "\n",
      "Score: 1\n",
      "Number of possible moves: 26\n"
     ]
    }
   ],
   "source": [
    "game.playByIndex(0)\n",
    "game.print()"
   ]
  },
  {
   "cell_type": "markdown",
   "id": "8f2f3957",
   "metadata": {},
   "source": [
    "Play a move at random:"
   ]
  },
  {
   "cell_type": "code",
   "execution_count": 38,
   "id": "4d5c13ec",
   "metadata": {},
   "outputs": [
    {
     "name": "stdout",
     "output_type": "stream",
     "text": [
      "\n",
      "XXXXXXXXXXXXXXXXXXXXXXXXXXXXXXXXXXXXXX\n",
      "X                                    X\n",
      "X                                    X\n",
      "X                                    X\n",
      "X                                    X\n",
      "X             O  O  O  O             X\n",
      "X               /                    X\n",
      "X              /                     X\n",
      "X             O        O             X\n",
      "X            /                       X\n",
      "X           /                        X\n",
      "X    O     O  O        O             X\n",
      "X    |    /                          X\n",
      "X    |   /                           X\n",
      "X    O  O  O  O        O  O  O  O    X\n",
      "X    | /                             X\n",
      "X    |/                              X\n",
      "X    O                          O    X\n",
      "X    |                               X\n",
      "X    |                               X\n",
      "X    O                          O    X\n",
      "X    |                               X\n",
      "X    |                               X\n",
      "X    O  O  O  O        O  O  O  O    X\n",
      "X                                    X\n",
      "X                                    X\n",
      "X             O        O             X\n",
      "X                                    X\n",
      "X                                    X\n",
      "X             O        O             X\n",
      "X                                    X\n",
      "X                                    X\n",
      "X             O  O  O  O             X\n",
      "X                                    X\n",
      "X                                    X\n",
      "X                                    X\n",
      "X                                    X\n",
      "XXXXXXXXXXXXXXXXXXXXXXXXXXXXXXXXXXXXXX\n",
      "\n",
      "Score: 2\n",
      "Number of possible moves: 25\n"
     ]
    }
   ],
   "source": [
    "game.playAtRandom(1)\n",
    "game.print()"
   ]
  },
  {
   "cell_type": "markdown",
   "id": "fef5d647",
   "metadata": {},
   "source": [
    "Play several moves at random:"
   ]
  },
  {
   "cell_type": "code",
   "execution_count": 39,
   "id": "c2cc550c",
   "metadata": {},
   "outputs": [
    {
     "name": "stdout",
     "output_type": "stream",
     "text": [
      "\n",
      "XXXXXXXXXXXXXXXXXXXXXXXXXXXXXXXXXXXXXXXXX\n",
      "X                                       X\n",
      "X                                       X\n",
      "X                                       X\n",
      "X                                       X\n",
      "X             O                         X\n",
      "X             |                         X\n",
      "X             |                         X\n",
      "X          O--O--O--O--O                X\n",
      "X             | /                       X\n",
      "X             |/                        X\n",
      "X             O        O                X\n",
      "X            /|                         X\n",
      "X           / |                         X\n",
      "X    O     O  O        O                X\n",
      "X    |    /   |                         X\n",
      "X    |   /    |                         X\n",
      "X    O--O--O--O--O     O--O--O--O--O    X\n",
      "X    | /                        |       X\n",
      "X    |/                         |       X\n",
      "X    O                          O       X\n",
      "X    |                          |       X\n",
      "X    |                          |       X\n",
      "X    O                 O        O       X\n",
      "X    |\\                |        |       X\n",
      "X    | \\               |        |       X\n",
      "X    O--O--O--O--O     O  O  O  O       X\n",
      "X        \\    |        |        |       X\n",
      "X         \\   |        |        |       X\n",
      "X          O  O        O        O       X\n",
      "X           \\ |        |                X\n",
      "X            \\|        |                X\n",
      "X             O        O                X\n",
      "X             |\\       |                X\n",
      "X             | \\      |                X\n",
      "X             O--O--O--O--O             X\n",
      "X             |                         X\n",
      "X             |                         X\n",
      "X             O                         X\n",
      "X                                       X\n",
      "X                                       X\n",
      "X                                       X\n",
      "X                                       X\n",
      "XXXXXXXXXXXXXXXXXXXXXXXXXXXXXXXXXXXXXXXXX\n",
      "\n",
      "Score: 12\n",
      "Number of possible moves: 12\n"
     ]
    }
   ],
   "source": [
    "game.playAtRandom(10)\n",
    "game.print()"
   ]
  },
  {
   "cell_type": "markdown",
   "id": "cc0bfd3c",
   "metadata": {},
   "source": [
    "Play at random until no more moves are possible:"
   ]
  },
  {
   "cell_type": "code",
   "execution_count": 40,
   "id": "352803ee",
   "metadata": {},
   "outputs": [
    {
     "name": "stdout",
     "output_type": "stream",
     "text": [
      "\n",
      "XXXXXXXXXXXXXXXXXXXXXXXXXXXXXXXXXXXXXXXXXXXX\n",
      "X                                          X\n",
      "X                                          X\n",
      "X                                          X\n",
      "X                                          X\n",
      "X             O                            X\n",
      "X             |                            X\n",
      "X             |                            X\n",
      "X          O  O--O--O--O--O  O             X\n",
      "X           \\ |\\ |\\/   |\\/  /              X\n",
      "X            \\| \\|/\\   |/\\ /               X\n",
      "X             O--O--O--O--O                X\n",
      "X             |\\/|\\/ \\/|\\/ \\               X\n",
      "X             |/\\|/\\ /\\|/\\  \\              X\n",
      "X             O  O--O--O--O--O  O          X\n",
      "X            /| /|\\/|\\/|\\/|\\  \\ |          X\n",
      "X           / |/ |/\\|/\\|/\\| \\  \\|          X\n",
      "X    O--O--O--O--O--O--O--O--O  O          X\n",
      "X     \\ |\\/  /|\\/|\\/|\\/|\\/|\\/|\\ |\\         X\n",
      "X      \\|/\\ / |/\\|/\\|/\\|/\\|/\\| \\| \\        X\n",
      "X       O--O--O--O--O  O  O--O--O--O--O    X\n",
      "X       |\\/|\\ |\\/ \\/|\\/|\\/|\\/|  |\\/| /     X\n",
      "X       |/\\| \\|/\\ /\\|/\\|/\\|/\\|  |/\\|/      X\n",
      "X       O  O--O--O--O--O  O--O--O--O--O    X\n",
      "X       |  |\\/|\\/ \\/|\\/|\\/|\\ |\\/| /| /     X\n",
      "X       |  |/\\|/\\ /\\|/\\|/\\| \\|/\\|/ |/      X\n",
      "X       O  O--O--O--O--O--O--O--O--O       X\n",
      "X       |\\/|  |\\/ \\/|\\/|\\/|\\/|\\/ \\/|       X\n",
      "X       |/\\|  |/\\ /\\|/\\|/\\|/\\|/\\ /\\|       X\n",
      "X       O--O--O--O--O--O--O--O--O  O       X\n",
      "X      /   |\\  \\ | /|\\/|\\/| /  / \\ |\\      X\n",
      "X     /    | \\  \\|/ |/\\|/\\|/  /   \\| \\     X\n",
      "X    O     O  O--O--O--O--O--O--O--O--O    X\n",
      "X              \\ |\\/|   \\ | /              X\n",
      "X               \\|/\\|    \\|/               X\n",
      "X                O  O     O                X\n",
      "X               /|\\ |\\    |\\               X\n",
      "X              / | \\| \\   | \\              X\n",
      "X             O  O--O--O--O--O             X\n",
      "X                |      \\     \\            X\n",
      "X                |       \\     \\           X\n",
      "X                O        O     O          X\n",
      "X                                          X\n",
      "X                                          X\n",
      "X                                          X\n",
      "X                                          X\n",
      "XXXXXXXXXXXXXXXXXXXXXXXXXXXXXXXXXXXXXXXXXXXX\n",
      "\n",
      "Score: 59\n",
      "Number of possible moves: 0\n"
     ]
    }
   ],
   "source": [
    "game.playAtRandom()\n",
    "game.print()"
   ]
  },
  {
   "cell_type": "markdown",
   "id": "aefac8e6",
   "metadata": {},
   "source": [
    "Undo one move:"
   ]
  },
  {
   "cell_type": "code",
   "execution_count": 41,
   "id": "5e4e0580",
   "metadata": {},
   "outputs": [
    {
     "name": "stdout",
     "output_type": "stream",
     "text": [
      "\n",
      "XXXXXXXXXXXXXXXXXXXXXXXXXXXXXXXXXXXXXXXXXXXX\n",
      "X                                          X\n",
      "X                                          X\n",
      "X                                          X\n",
      "X                                          X\n",
      "X             O                            X\n",
      "X             |                            X\n",
      "X             |                            X\n",
      "X          O  O--O--O--O--O  O             X\n",
      "X           \\ |\\ |\\/   |\\/  /              X\n",
      "X            \\| \\|/\\   |/\\ /               X\n",
      "X             O--O--O--O--O                X\n",
      "X             |\\/|\\/ \\/|\\/ \\               X\n",
      "X             |/\\|/\\ /\\|/\\  \\              X\n",
      "X             O  O--O--O--O--O  O          X\n",
      "X            /| /|\\/|\\/|\\/|\\  \\ |          X\n",
      "X           / |/ |/\\|/\\|/\\| \\  \\|          X\n",
      "X    O--O--O--O--O--O--O--O--O  O          X\n",
      "X     \\ |\\/  /|\\/|\\/|\\/|\\/|\\/|\\ |\\         X\n",
      "X      \\|/\\ / |/\\|/\\|/\\|/\\|/\\| \\| \\        X\n",
      "X       O--O--O--O--O  O  O--O--O--O--O    X\n",
      "X       |\\/|\\ |\\/ \\/|\\/|\\/|\\/|  |\\/| /     X\n",
      "X       |/\\| \\|/\\ /\\|/\\|/\\|/\\|  |/\\|/      X\n",
      "X       O  O--O--O--O--O  O--O--O--O--O    X\n",
      "X       |  |\\/|\\/ \\/|\\/|\\/|\\ |\\/| /| /     X\n",
      "X       |  |/\\|/\\ /\\|/\\|/\\| \\|/\\|/ |/      X\n",
      "X       O  O--O--O--O--O--O--O--O--O       X\n",
      "X       |\\/|  |\\/ \\/|\\/|\\/|\\/|\\/ \\/|       X\n",
      "X       |/\\|  |/\\ /\\|/\\|/\\|/\\|/\\ /\\|       X\n",
      "X       O--O--O--O--O--O--O--O--O  O       X\n",
      "X      /   |\\  \\ | /|\\/|\\/| /  / \\ |\\      X\n",
      "X     /    | \\  \\|/ |/\\|/\\|/  /   \\| \\     X\n",
      "X    O     O  O--O--O--O--O  O     O  O    X\n",
      "X              \\ |\\/|   \\ | /              X\n",
      "X               \\|/\\|    \\|/               X\n",
      "X                O  O     O                X\n",
      "X               /|\\ |\\    |\\               X\n",
      "X              / | \\| \\   | \\              X\n",
      "X             O  O--O--O--O--O             X\n",
      "X                |      \\     \\            X\n",
      "X                |       \\     \\           X\n",
      "X                O        O     O          X\n",
      "X                                          X\n",
      "X                                          X\n",
      "X                                          X\n",
      "X                                          X\n",
      "XXXXXXXXXXXXXXXXXXXXXXXXXXXXXXXXXXXXXXXXXXXX\n",
      "\n",
      "Score: 58\n",
      "Number of possible moves: 1\n"
     ]
    }
   ],
   "source": [
    "game.undo()\n",
    "game.print()"
   ]
  },
  {
   "cell_type": "markdown",
   "id": "b8d3595d",
   "metadata": {},
   "source": [
    "Undo more moves:"
   ]
  },
  {
   "cell_type": "code",
   "execution_count": 42,
   "id": "1780d574",
   "metadata": {},
   "outputs": [
    {
     "name": "stdout",
     "output_type": "stream",
     "text": [
      "\n",
      "XXXXXXXXXXXXXXXXXXXXXXXXXXXXXXXXXXXXXXXXXXXX\n",
      "X                                          X\n",
      "X                                          X\n",
      "X                                          X\n",
      "X                                          X\n",
      "X             O  O     O                   X\n",
      "X              \\ |\\    |                   X\n",
      "X               \\| \\   |                   X\n",
      "X             O--O--O--O--O                X\n",
      "X                |\\/ \\ |\\                  X\n",
      "X                |/\\  \\| \\                 X\n",
      "X                O  O  O  O                X\n",
      "X               /|  |\\ |\\/|\\               X\n",
      "X              / |  | \\|/\\| \\              X\n",
      "X    O  O     O  O--O--O--O--O             X\n",
      "X     \\ |\\   /|\\ |\\ | /|\\/|\\/|\\            X\n",
      "X      \\| \\ / | \\| \\|/ |/\\|/\\| \\           X\n",
      "X       O--O--O--O--O  O  O--O--O--O--O    X\n",
      "X       |\\/ \\ |\\  \\/|\\/|\\/|\\/|   \\/| /     X\n",
      "X       |/\\  \\| \\ /\\|/\\|/\\|/\\|   /\\|/      X\n",
      "X       O  O--O--O--O--O  O  O  O  O       X\n",
      "X       |   \\ |\\/ \\/|\\/|\\/|\\ |\\/  /|       X\n",
      "X       |    \\|/\\ /\\|/\\|/\\| \\|/\\ / |       X\n",
      "X       O  O--O--O--O--O--O--O--O--O       X\n",
      "X       |\\    |\\/ \\/|\\/|\\/|\\/|\\/ \\ |       X\n",
      "X       | \\   |/\\ /\\|/\\|/\\|/\\|/\\  \\|       X\n",
      "X       O--O--O--O--O--O--O--O--O  O       X\n",
      "X           \\    | /|\\/|\\/| /    \\ |\\      X\n",
      "X            \\   |/ |/\\|/\\|/      \\| \\     X\n",
      "X             O--O--O--O--O        O  O    X\n",
      "X              \\ | /|   \\ |                X\n",
      "X               \\|/ |    \\|                X\n",
      "X                O  O     O                X\n",
      "X               /|\\ |     |\\               X\n",
      "X              / | \\|     | \\              X\n",
      "X             O  O--O--O--O--O             X\n",
      "X                |            \\            X\n",
      "X                |             \\           X\n",
      "X                O              O          X\n",
      "X                                          X\n",
      "X                                          X\n",
      "X                                          X\n",
      "X                                          X\n",
      "XXXXXXXXXXXXXXXXXXXXXXXXXXXXXXXXXXXXXXXXXXXX\n",
      "\n",
      "Score: 43\n",
      "Number of possible moves: 16\n"
     ]
    }
   ],
   "source": [
    "game.undo(15)\n",
    "game.print()"
   ]
  }
 ],
 "metadata": {
  "kernelspec": {
   "display_name": "Python 3 (ipykernel)",
   "language": "python",
   "name": "python3"
  },
  "language_info": {
   "codemirror_mode": {
    "name": "ipython",
    "version": 3
   },
   "file_extension": ".py",
   "mimetype": "text/x-python",
   "name": "python",
   "nbconvert_exporter": "python",
   "pygments_lexer": "ipython3",
   "version": "3.10.11"
  }
 },
 "nbformat": 4,
 "nbformat_minor": 5
}
