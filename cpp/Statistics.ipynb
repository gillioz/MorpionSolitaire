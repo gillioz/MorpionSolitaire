{
 "cells": [
  {
   "cell_type": "markdown",
   "id": "2d21e56f",
   "metadata": {},
   "source": [
    "## Load packages"
   ]
  },
  {
   "cell_type": "code",
   "execution_count": 1,
   "id": "37272a16",
   "metadata": {},
   "outputs": [],
   "source": [
    "import sys\n",
    "sys.path.append(sys.path[0] + '/bin')"
   ]
  },
  {
   "cell_type": "code",
   "execution_count": 2,
   "id": "b5e86b0b",
   "metadata": {},
   "outputs": [],
   "source": [
    "import PyMorpionSolitaire"
   ]
  },
  {
   "cell_type": "code",
   "execution_count": 3,
   "id": "12eda9a9",
   "metadata": {},
   "outputs": [],
   "source": [
    "import numpy as np\n",
    "import matplotlib.pyplot as plt\n",
    "from tqdm import tqdm\n",
    "import os.path"
   ]
  },
  {
   "cell_type": "markdown",
   "id": "f67632d5",
   "metadata": {},
   "source": [
    "## Define game type"
   ]
  },
  {
   "cell_type": "markdown",
   "id": "fa9ffd3e",
   "metadata": {},
   "source": [
    "Define the game type:\n",
    "- starting configuration ('c' for cross or 'p' for pipe)\n",
    "- length of line (4 or 5)\n",
    "- touching or disjoint"
   ]
  },
  {
   "cell_type": "code",
   "execution_count": 15,
   "id": "71abe304",
   "metadata": {},
   "outputs": [],
   "source": [
    "game_type = 'c'\n",
    "line_length = 4\n",
    "disjoint = False"
   ]
  },
  {
   "cell_type": "code",
   "execution_count": 16,
   "id": "4d995fc7",
   "metadata": {},
   "outputs": [
    {
     "data": {
      "text/plain": [
       "'cross5T'"
      ]
     },
     "execution_count": 16,
     "metadata": {},
     "output_type": "execute_result"
    }
   ],
   "source": [
    "prefix = '{}{}{}'.format('cross' if game_type == 'c' else 'pipe', line_length + 1, 'D' if disjoint else 'T')\n",
    "prefix"
   ]
  },
  {
   "cell_type": "code",
   "execution_count": 17,
   "id": "a991ed00",
   "metadata": {},
   "outputs": [],
   "source": [
    "mc_file = 'data/' + prefix + '_mc.npy'\n",
    "nested_file = 'data/' + prefix + '_nested.npy'\n",
    "nested2_file = 'data/' + prefix + '_nested2.npy'"
   ]
  },
  {
   "cell_type": "markdown",
   "id": "af76ca79",
   "metadata": {},
   "source": [
    "## Generate data"
   ]
  },
  {
   "cell_type": "markdown",
   "id": "e5a8b37f",
   "metadata": {},
   "source": [
    "Create a new game:"
   ]
  },
  {
   "cell_type": "code",
   "execution_count": 8,
   "id": "27bd1d8f",
   "metadata": {},
   "outputs": [],
   "source": [
    "game = PyMorpionSolitaire.Game(game_type, line_length, disjoint)"
   ]
  },
  {
   "cell_type": "markdown",
   "id": "050e631b",
   "metadata": {},
   "source": [
    "Play several games at random and plot the distribution of scores:"
   ]
  },
  {
   "cell_type": "code",
   "execution_count": 144,
   "id": "6e9c5bb0",
   "metadata": {},
   "outputs": [
    {
     "name": "stderr",
     "output_type": "stream",
     "text": [
      "100%|███████████████████████████████| 1000000/1000000 [03:47<00:00, 4390.93it/s]\n"
     ]
    }
   ],
   "source": [
    "n = 1000000\n",
    "mc_score_count = np.array([0 for _ in range(250)])\n",
    "for _ in tqdm(range(n)):\n",
    "    game.restart()\n",
    "    game.playAtRandom()\n",
    "    mc_score_count[game.getScore()] += 1\n",
    "mc_score_count = np.trim_zeros(mc_score_count, 'b')\n",
    "assert n == mc_score_count.sum()"
   ]
  },
  {
   "cell_type": "code",
   "execution_count": 145,
   "id": "c9e3e4ca",
   "metadata": {},
   "outputs": [],
   "source": [
    "np.save(mc_file, mc_score_count)"
   ]
  },
  {
   "cell_type": "markdown",
   "id": "cda65f91",
   "metadata": {},
   "source": [
    "Use the nested Monte-Carlo algorithm at level 1:"
   ]
  },
  {
   "cell_type": "code",
   "execution_count": 146,
   "id": "1134b8ad",
   "metadata": {},
   "outputs": [
    {
     "name": "stderr",
     "output_type": "stream",
     "text": [
      "100%|█████████████████████████████████████| 10000/10000 [17:57<00:00,  9.28it/s]\n"
     ]
    }
   ],
   "source": [
    "n = 10000\n",
    "nested_score_count = np.array([0 for _ in range(250)])\n",
    "for _ in tqdm(range(n)):\n",
    "    game.restart()\n",
    "    game.playNestedMC(1)\n",
    "    nested_score_count[game.getScore()] += 1\n",
    "nested_score_count = np.trim_zeros(nested_score_count, 'b')\n",
    "assert n == nested_score_count.sum()"
   ]
  },
  {
   "cell_type": "code",
   "execution_count": 147,
   "id": "7e90f828",
   "metadata": {},
   "outputs": [],
   "source": [
    "np.save(nested_file, nested_score_count)"
   ]
  },
  {
   "cell_type": "markdown",
   "id": "93b7d5d9",
   "metadata": {},
   "source": [
    "Use the nested Monte-Carlo algorithm at level 2:"
   ]
  },
  {
   "cell_type": "code",
   "execution_count": 10,
   "id": "c3ef29bc",
   "metadata": {},
   "outputs": [
    {
     "name": "stderr",
     "output_type": "stream",
     "text": [
      "100%|█████████████████████████████████████████| 100/100 [19:20<00:00, 11.60s/it]\n"
     ]
    }
   ],
   "source": [
    "n = 100\n",
    "nested2_score_count = np.array([0 for _ in range(250)])\n",
    "for _ in tqdm(range(n)):\n",
    "    game.restart()\n",
    "    game.playNestedMC(2)\n",
    "    nested2_score_count[game.getScore()] += 1\n",
    "nested2_score_count = np.trim_zeros(nested2_score_count, 'b')\n",
    "assert n == nested2_score_count.sum()"
   ]
  },
  {
   "cell_type": "code",
   "execution_count": 11,
   "id": "c78d6d5f",
   "metadata": {},
   "outputs": [],
   "source": [
    "np.save(nested2_file, nested2_score_count)"
   ]
  },
  {
   "cell_type": "markdown",
   "id": "dd363d82",
   "metadata": {},
   "source": [
    "## Figures"
   ]
  },
  {
   "cell_type": "code",
   "execution_count": 18,
   "id": "81347674",
   "metadata": {},
   "outputs": [],
   "source": [
    "def plot_frequency(file, label):\n",
    "    if os.path.isfile(file):\n",
    "        score_count = np.append(np.load(file), 0)\n",
    "        freq = score_count / score_count.sum()\n",
    "        bins = [i + 0.5 for i in range(len(freq))]\n",
    "        plt.step(bins, freq, label='{} ({:,.0f} games)'.format(label, score_count.sum()))"
   ]
  },
  {
   "cell_type": "code",
   "execution_count": 19,
   "id": "30155270",
   "metadata": {},
   "outputs": [
    {
     "data": {
      "image/png": "[encoded data removed]",
      "text/plain": [
       "<Figure size 640x480 with 1 Axes>"
      ]
     },
     "metadata": {},
     "output_type": "display_data"
    }
   ],
   "source": [
    "plot_frequency(mc_file, 'Monte-Carlo')\n",
    "plot_frequency(nested_file, 'Nested MC, level 1')\n",
    "plot_frequency(nested2_file, 'Nested MC, level 2')\n",
    "plt.xlim(0)\n",
    "plt.ylim(0)\n",
    "plt.xlabel(\"Score\")\n",
    "plt.ylabel(\"Frequency\")\n",
    "plt.title(prefix)\n",
    "plt.legend()\n",
    "plt.savefig('data/' + prefix + '.png')\n",
    "plt.show()"
   ]
  }
 ],
 "metadata": {
  "kernelspec": {
   "display_name": "Python 3 (ipykernel)",
   "language": "python",
   "name": "python3"
  },
  "language_info": {
   "codemirror_mode": {
    "name": "ipython",
    "version": 3
   },
   "file_extension": ".py",
   "mimetype": "text/x-python",
   "name": "python",
   "nbconvert_exporter": "python",
   "pygments_lexer": "ipython3",
   "version": "3.10.11"
  }
 },
 "nbformat": 4,
 "nbformat_minor": 5
}
