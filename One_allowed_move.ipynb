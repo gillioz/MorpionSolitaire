{
 "cells": [
  {
   "cell_type": "markdown",
   "metadata": {},
   "source": [
    "# Simplest problem: is there a legal move or not?\n",
    "\n",
    "This is a simplified version in which the model only answers the question whether there is at least one legal move or not."
   ]
  },
  {
   "cell_type": "code",
   "execution_count": null,
   "metadata": {},
   "outputs": [],
   "source": [
    "from MorpionSolitaire import *\n",
    "from DeepLearningMS import *"
   ]
  },
  {
   "cell_type": "code",
   "execution_count": null,
   "metadata": {},
   "outputs": [],
   "source": [
    "from multiprocess import Pool\n",
    "pool = Pool()"
   ]
  },
  {
   "cell_type": "markdown",
   "metadata": {},
   "source": [
    "## Mini-batches"
   ]
  },
  {
   "cell_type": "markdown",
   "metadata": {},
   "source": [
    "This function plays one game at random until there are no more moves, stores the grid as `grid1`, then rewinds the game (half of the time rewind just one move, half of the time rewind to an arbitrary interemediate stage), and stores the final grid as `grid2`. The output of the function is a tensor containing the two grids. By construction the first grid has no legal moves and the second one has at least one legal move."
   ]
  },
  {
   "cell_type": "code",
   "execution_count": null,
   "metadata": {},
   "outputs": [],
   "source": [
    "# def play_one_game(index = 0): # dummy argument needed for passing to pool.map\n",
    "#     game = NewGame('cross').play()\n",
    "#     grid1 = torch.FloatTensor(game.grid.image())\n",
    "#     game = game.unplay(np.random.randint(0, 2) * np.random.randint(0, game.score) + 1)\n",
    "#     grid2 = torch.FloatTensor(game.grid.image())\n",
    "#     return torch.unsqueeze(torch.stack((grid1, grid2)), 1)"
   ]
  },
  {
   "cell_type": "code",
   "execution_count": null,
   "metadata": {},
   "outputs": [],
   "source": [
    "def play_one_game(index = 0): # dummy argument needed for passing to pool.map\n",
    "    game = NewGame('cross').play()\n",
    "    grid1 = torch.FloatTensor(game.grid.image())\n",
    "    game = game.unplay(1)\n",
    "    grid2 = torch.FloatTensor(game.grid.image())\n",
    "    return torch.unsqueeze(torch.stack((grid1, grid2)), 1)"
   ]
  },
  {
   "cell_type": "markdown",
   "metadata": {},
   "source": [
    "Mini-batches contains a certain number of grids obtained in the way described above (computed in parallel to gain time), as well as a labels (0 for no legal moves, 1 for at least one legal move)."
   ]
  },
  {
   "cell_type": "code",
   "execution_count": null,
   "metadata": {},
   "outputs": [],
   "source": [
    "def generate_batch(batch_size = 200):\n",
    "    x = torch.cat(pool.map(play_one_game, range(batch_size // 2)))\n",
    "    y = torch.tensor([0.,1.]).repeat(batch_size // 2).unsqueeze(1)\n",
    "    return x, y"
   ]
  },
  {
   "cell_type": "code",
   "execution_count": null,
   "metadata": {},
   "outputs": [
    {
     "data": {
      "text/plain": [
       "(torch.Size([10, 1, 94, 94]), torch.Size([10, 1]))"
      ]
     },
     "execution_count": null,
     "metadata": {},
     "output_type": "execute_result"
    }
   ],
   "source": [
    "x, y = generate_batch(10)\n",
    "x.shape, y.shape"
   ]
  },
  {
   "cell_type": "code",
   "execution_count": null,
   "metadata": {},
   "outputs": [
    {
     "data": {
      "image/png": "[encoded data removed]",
      "text/plain": [
       "<PIL.Image.Image image mode=1 size=94x94 at 0x7F905B94A2B0>"
      ]
     },
     "execution_count": null,
     "metadata": {},
     "output_type": "execute_result"
    }
   ],
   "source": [
    "MSvisualize(x[0])"
   ]
  },
  {
   "cell_type": "code",
   "execution_count": null,
   "metadata": {},
   "outputs": [
    {
     "data": {
      "text/plain": [
       "tensor([0.])"
      ]
     },
     "execution_count": null,
     "metadata": {},
     "output_type": "execute_result"
    }
   ],
   "source": [
    "y[0]"
   ]
  },
  {
   "cell_type": "code",
   "execution_count": null,
   "metadata": {},
   "outputs": [
    {
     "data": {
      "image/png": "[encoded data removed]",
      "text/plain": [
       "<PIL.Image.Image image mode=1 size=94x94 at 0x7F905B94AAF0>"
      ]
     },
     "execution_count": null,
     "metadata": {},
     "output_type": "execute_result"
    }
   ],
   "source": [
    "MSvisualize(x[1])"
   ]
  },
  {
   "cell_type": "code",
   "execution_count": null,
   "metadata": {},
   "outputs": [
    {
     "data": {
      "text/plain": [
       "tensor([1.])"
      ]
     },
     "execution_count": null,
     "metadata": {},
     "output_type": "execute_result"
    }
   ],
   "source": [
    "y[1]"
   ]
  },
  {
   "cell_type": "code",
   "execution_count": null,
   "metadata": {},
   "outputs": [
    {
     "data": {
      "image/png": "[encoded data removed]",
      "text/plain": [
       "<PIL.Image.Image image mode=1 size=94x94 at 0x7F905B94A640>"
      ]
     },
     "execution_count": null,
     "metadata": {},
     "output_type": "execute_result"
    }
   ],
   "source": [
    "MSvisualize(x[1]-x[0])"
   ]
  },
  {
   "cell_type": "markdown",
   "metadata": {},
   "source": [
    "## Data frame"
   ]
  },
  {
   "cell_type": "code",
   "execution_count": null,
   "metadata": {},
   "outputs": [],
   "source": [
    "# data = MSDataFrame(generate_batch, repeat = 3, size = 100)\n",
    "# data.info()"
   ]
  },
  {
   "cell_type": "code",
   "execution_count": null,
   "metadata": {},
   "outputs": [
    {
     "name": "stdout",
     "output_type": "stream",
     "text": [
      "Number of mini-batches stored: 97\n",
      "Number of times a mini-batch is used: 8\n",
      "Number of mini-batches created: 97\n"
     ]
    }
   ],
   "source": [
    "data = MSDataFrame(generate_batch, repeat = 1, size = 100)\n",
    "data.info()"
   ]
  },
  {
   "cell_type": "code",
   "execution_count": null,
   "metadata": {},
   "outputs": [],
   "source": [
    "# data = MSDataFrame(generate_batch, repeat = 1, size = 25)\n",
    "# data.info()"
   ]
  },
  {
   "cell_type": "markdown",
   "metadata": {},
   "source": [
    "## Model and training"
   ]
  },
  {
   "cell_type": "code",
   "execution_count": null,
   "metadata": {},
   "outputs": [],
   "source": [
    "net = torch.nn.Sequential(\n",
    "    torch.nn.Conv2d(1, 40, stride = 3, kernel_size = 13, padding = 0),\n",
    "    torch.nn.AdaptiveMaxPool2d(1),\n",
    "    torch.nn.Flatten(),\n",
    "    torch.nn.ReLU(),\n",
    "    torch.nn.Linear(40, 1)\n",
    ")"
   ]
  },
  {
   "cell_type": "code",
   "execution_count": null,
   "metadata": {},
   "outputs": [],
   "source": [
    "# net = torch.nn.Sequential(\n",
    "#     torch.nn.Conv2d(1, 20, stride = 3, kernel_size = 13, padding = 0),\n",
    "#     torch.nn.AdaptiveMaxPool2d(1),\n",
    "#     torch.nn.Flatten(),\n",
    "#     torch.nn.ReLU(),\n",
    "#     torch.nn.Linear(20, 5),\n",
    "#     torch.nn.ReLU(),\n",
    "#     torch.nn.Linear(5, 1)\n",
    "# )"
   ]
  },
  {
   "cell_type": "code",
   "execution_count": null,
   "metadata": {},
   "outputs": [],
   "source": [
    "# net = torch.nn.Sequential(\n",
    "#     torch.nn.Conv2d(1, 30, stride = 3, kernel_size = 7, padding = 0),\n",
    "#     torch.nn.ReLU(),\n",
    "#     torch.nn.Conv2d(30, 30, stride = 1, kernel_size = 2, padding = 0),\n",
    "#     torch.nn.AdaptiveMaxPool2d(1),\n",
    "#     torch.nn.Flatten(),\n",
    "#     torch.nn.ReLU(),\n",
    "#     torch.nn.Linear(30, 1)\n",
    "# )"
   ]
  },
  {
   "cell_type": "code",
   "execution_count": null,
   "metadata": {},
   "outputs": [],
   "source": [
    "y_pred = net(x)"
   ]
  },
  {
   "cell_type": "code",
   "execution_count": null,
   "metadata": {},
   "outputs": [
    {
     "data": {
      "text/plain": [
       "torch.Size([10, 1])"
      ]
     },
     "execution_count": null,
     "metadata": {},
     "output_type": "execute_result"
    }
   ],
   "source": [
    "y_pred.shape"
   ]
  },
  {
   "cell_type": "code",
   "execution_count": null,
   "metadata": {},
   "outputs": [],
   "source": [
    "def accuracy(outputs, labels):\n",
    "    return ((outputs > 0.5) == labels).float().mean()"
   ]
  },
  {
   "cell_type": "code",
   "execution_count": null,
   "metadata": {},
   "outputs": [
    {
     "data": {
      "text/plain": [
       "tensor(0.5000)"
      ]
     },
     "execution_count": null,
     "metadata": {},
     "output_type": "execute_result"
    }
   ],
   "source": [
    "accuracy(y_pred, y)"
   ]
  },
  {
   "cell_type": "code",
   "execution_count": null,
   "metadata": {},
   "outputs": [],
   "source": [
    "running_loss_data = []\n",
    "accuracy_data = []"
   ]
  },
  {
   "cell_type": "code",
   "execution_count": null,
   "metadata": {},
   "outputs": [
    {
     "data": {
      "application/vnd.jupyter.widget-view+json": {
       "model_id": "19eca128277c454aaff216b391721456",
       "version_major": 2,
       "version_minor": 0
      },
      "text/plain": [
       "HBox(children=(HTML(value=''), FloatProgress(value=0.0), HTML(value='')))"
      ]
     },
     "metadata": {},
     "output_type": "display_data"
    },
    {
     "name": "stderr",
     "output_type": "stream",
     "text": [
      "/home/marc/anaconda3/lib/python3.8/site-packages/torch/autograd/__init__.py:130: UserWarning: CUDA initialization: Found no NVIDIA driver on your system. Please check that you have an NVIDIA GPU and installed a driver from http://www.nvidia.com/Download/index.aspx (Triggered internally at  /pytorch/c10/cuda/CUDAFunctions.cpp:100.)\n",
      "  Variable._execution_engine.run_backward(\n"
     ]
    },
    {
     "name": "stdout",
     "output_type": "stream",
     "text": [
      "[0]  loss: 0.277   accuracy: 0.49\n",
      "[1]  loss: 0.250   accuracy: 0.56\n",
      "[2]  loss: 0.249   accuracy: 0.55\n",
      "[3]  loss: 0.249   accuracy: 0.55\n",
      "[4]  loss: 0.248   accuracy: 0.56\n",
      "[5]  loss: 0.247   accuracy: 0.56\n",
      "[6]  loss: 0.246   accuracy: 0.55\n",
      "[7]  loss: 0.245   accuracy: 0.54\n",
      "[8]  loss: 0.244   accuracy: 0.58\n",
      "[9]  loss: 0.242   accuracy: 0.58\n",
      "[10]  loss: 0.240   accuracy: 0.60\n",
      "[11]  loss: 0.237   accuracy: 0.60\n",
      "[12]  loss: 0.234   accuracy: 0.63\n",
      "[13]  loss: 0.232   accuracy: 0.63\n",
      "[14]  loss: 0.230   accuracy: 0.62\n",
      "[15]  loss: 0.226   accuracy: 0.68\n",
      "[16]  loss: 0.222   accuracy: 0.66\n",
      "[17]  loss: 0.215   accuracy: 0.70\n",
      "[18]  loss: 0.212   accuracy: 0.67\n",
      "[19]  loss: 0.205   accuracy: 0.74\n",
      "[20]  loss: 0.201   accuracy: 0.72\n",
      "[21]  loss: 0.205   accuracy: 0.75\n",
      "[22]  loss: 0.198   accuracy: 0.69\n",
      "[23]  loss: 0.198   accuracy: 0.74\n",
      "[24]  loss: 0.201   accuracy: 0.70\n",
      "[25]  loss: 0.197   accuracy: 0.69\n",
      "[26]  loss: 0.192   accuracy: 0.69\n",
      "[27]  loss: 0.194   accuracy: 0.69\n",
      "[28]  loss: 0.185   accuracy: 0.73\n",
      "[29]  loss: 0.186   accuracy: 0.75\n",
      "[30]  loss: 0.164   accuracy: 0.74\n",
      "[31]  loss: 0.160   accuracy: 0.78\n",
      "[32]  loss: 0.136   accuracy: 0.88\n",
      "[33]  loss: 0.149   accuracy: 0.86\n",
      "[34]  loss: 0.130   accuracy: 0.86\n",
      "[35]  loss: 0.128   accuracy: 0.88\n",
      "[36]  loss: 0.136   accuracy: 0.72\n",
      "[37]  loss: 0.124   accuracy: 0.82\n",
      "[38]  loss: 0.118   accuracy: 0.86\n",
      "[39]  loss: 0.113   accuracy: 0.93\n",
      "[40]  loss: 0.115   accuracy: 0.94\n",
      "[41]  loss: 0.105   accuracy: 0.95\n",
      "[42]  loss: 0.103   accuracy: 0.94\n",
      "[43]  loss: 0.121   accuracy: 0.85\n",
      "[44]  loss: 0.105   accuracy: 0.95\n",
      "[45]  loss: 0.115   accuracy: 0.88\n",
      "[46]  loss: 0.103   accuracy: 0.91\n",
      "[47]  loss: 0.095   accuracy: 0.78\n",
      "[48]  loss: 0.107   accuracy: 0.88\n",
      "[49]  loss: 0.095   accuracy: 0.93\n",
      "[50]  loss: 0.090   accuracy: 0.96\n",
      "[51]  loss: 0.091   accuracy: 0.94\n",
      "[52]  loss: 0.084   accuracy: 0.95\n",
      "[53]  loss: 0.089   accuracy: 0.92\n",
      "[54]  loss: 0.081   accuracy: 0.90\n",
      "[55]  loss: 0.078   accuracy: 0.95\n",
      "[56]  loss: 0.082   accuracy: 0.95\n",
      "[57]  loss: 0.085   accuracy: 0.94\n",
      "[58]  loss: 0.079   accuracy: 0.95\n",
      "[59]  loss: 0.083   accuracy: 0.89\n",
      "[60]  loss: 0.084   accuracy: 0.94\n",
      "[61]  loss: 0.078   accuracy: 0.92\n",
      "[62]  loss: 0.080   accuracy: 0.95\n",
      "[63]  loss: 0.083   accuracy: 0.94\n",
      "[64]  loss: 0.079   accuracy: 0.97\n",
      "[65]  loss: 0.080   accuracy: 0.99\n",
      "[66]  loss: 0.088   accuracy: 0.96\n",
      "[67]  loss: 0.084   accuracy: 0.97\n",
      "[68]  loss: 0.076   accuracy: 0.95\n",
      "[69]  loss: 0.086   accuracy: 0.99\n",
      "[70]  loss: 0.077   accuracy: 0.95\n",
      "[71]  loss: 0.090   accuracy: 0.99\n",
      "[72]  loss: 0.083   accuracy: 0.95\n",
      "[73]  loss: 0.091   accuracy: 0.93\n",
      "[74]  loss: 0.077   accuracy: 0.95\n",
      "[75]  loss: 0.084   accuracy: 0.94\n",
      "[76]  loss: 0.073   accuracy: 0.94\n",
      "[77]  loss: 0.075   accuracy: 0.92\n",
      "[78]  loss: 0.077   accuracy: 0.96\n",
      "[79]  loss: 0.073   accuracy: 0.95\n",
      "[80]  loss: 0.068   accuracy: 0.94\n",
      "[81]  loss: 0.070   accuracy: 0.96\n",
      "[82]  loss: 0.073   accuracy: 0.93\n",
      "[83]  loss: 0.079   accuracy: 0.98\n",
      "[84]  loss: 0.076   accuracy: 0.94\n",
      "[85]  loss: 0.075   accuracy: 0.98\n",
      "[86]  loss: 0.086   accuracy: 0.94\n",
      "[87]  loss: 0.079   accuracy: 0.98\n",
      "[88]  loss: 0.077   accuracy: 0.98\n",
      "[89]  loss: 0.072   accuracy: 0.98\n",
      "[90]  loss: 0.076   accuracy: 0.99\n",
      "[91]  loss: 0.071   accuracy: 0.98\n",
      "[92]  loss: 0.076   accuracy: 0.98\n",
      "[93]  loss: 0.079   accuracy: 0.98\n",
      "[94]  loss: 0.084   accuracy: 0.98\n",
      "[95]  loss: 0.078   accuracy: 0.99\n",
      "[96]  loss: 0.078   accuracy: 0.95\n",
      "[97]  loss: 0.075   accuracy: 0.98\n",
      "[98]  loss: 0.073   accuracy: 0.93\n",
      "[99]  loss: 0.070   accuracy: 0.92\n",
      "\n"
     ]
    }
   ],
   "source": [
    "data.train_model(net, n_epochs = 100, accuracy_func = accuracy,\n",
    "                 running_loss_data = running_loss_data,\n",
    "                 accuracy_data = accuracy_data)"
   ]
  },
  {
   "cell_type": "code",
   "execution_count": null,
   "metadata": {},
   "outputs": [],
   "source": [
    "# torch.save(net.state_dict(), 'models/AI_predict_1_v1.pkl')"
   ]
  },
  {
   "cell_type": "code",
   "execution_count": null,
   "metadata": {},
   "outputs": [
    {
     "name": "stdout",
     "output_type": "stream",
     "text": [
      "Number of mini-batches stored: 97\n",
      "Number of times a mini-batch is used: 8\n",
      "Number of mini-batches created: 1309\n"
     ]
    }
   ],
   "source": [
    "data.info()"
   ]
  },
  {
   "cell_type": "code",
   "execution_count": null,
   "metadata": {},
   "outputs": [
    {
     "data": {
      "image/png": "[encoded data removed]",
      "text/plain": [
       "<Figure size 432x288 with 1 Axes>"
      ]
     },
     "metadata": {
      "needs_background": "light"
     },
     "output_type": "display_data"
    }
   ],
   "source": [
    "plt.plot(running_loss_data)\n",
    "plt.plot(accuracy_data)\n",
    "plt.xlabel('Epochs')\n",
    "plt.ylabel('Loss & Accuracy')\n",
    "plt.show()"
   ]
  },
  {
   "cell_type": "code",
   "execution_count": null,
   "metadata": {},
   "outputs": [
    {
     "data": {
      "image/png": "[encoded data removed]",
      "text/plain": [
       "<Figure size 432x288 with 1 Axes>"
      ]
     },
     "metadata": {
      "needs_background": "light"
     },
     "output_type": "display_data"
    }
   ],
   "source": [
    "plt.plot(running_loss_data)\n",
    "plt.yscale('log')"
   ]
  },
  {
   "cell_type": "markdown",
   "metadata": {},
   "source": [
    "## Validation"
   ]
  },
  {
   "cell_type": "code",
   "execution_count": null,
   "metadata": {},
   "outputs": [],
   "source": [
    "x, y = generate_batch(1000)"
   ]
  },
  {
   "cell_type": "code",
   "execution_count": null,
   "metadata": {},
   "outputs": [],
   "source": [
    "y_preds = net(x).data"
   ]
  },
  {
   "cell_type": "code",
   "execution_count": null,
   "metadata": {},
   "outputs": [
    {
     "data": {
      "text/plain": [
       "tensor(0.9190)"
      ]
     },
     "execution_count": null,
     "metadata": {},
     "output_type": "execute_result"
    }
   ],
   "source": [
    "accuracy(y_preds, y)"
   ]
  },
  {
   "cell_type": "code",
   "execution_count": null,
   "metadata": {},
   "outputs": [
    {
     "data": {
      "text/plain": [
       "(tensor(0.5000), tensor(0.5003), tensor(0.3665), tensor(0.4133))"
      ]
     },
     "execution_count": null,
     "metadata": {},
     "output_type": "execute_result"
    }
   ],
   "source": [
    "y.mean(), y.std(), y_preds.mean(), y_preds.std()"
   ]
  },
  {
   "cell_type": "code",
   "execution_count": null,
   "metadata": {},
   "outputs": [
    {
     "data": {
      "text/plain": [
       "[[1.0, 0.15034818649291992],\n",
       " [1.0, 0.4812028408050537],\n",
       " [1.0, 0.05117928981781006],\n",
       " [1.0, -0.006139874458312988],\n",
       " [1.0, 0.30682480335235596],\n",
       " [1.0, 0.3741947412490845],\n",
       " [1.0, 0.0577540397644043],\n",
       " [1.0, 0.48459959030151367],\n",
       " [0.0, 0.5785470008850098],\n",
       " [1.0, 0.455865740776062],\n",
       " [1.0, 0.3856574296951294],\n",
       " [1.0, 0.44179749488830566],\n",
       " [1.0, 0.046601176261901855],\n",
       " [1.0, -0.013930201530456543],\n",
       " [1.0, 0.16471338272094727],\n",
       " [1.0, 0.23805677890777588],\n",
       " [1.0, 0.44654011726379395],\n",
       " [0.0, 0.6295959949493408],\n",
       " [1.0, 0.03780698776245117],\n",
       " [1.0, 0.2838350534439087],\n",
       " [1.0, 0.053723812103271484],\n",
       " [1.0, 0.35196924209594727],\n",
       " [1.0, -0.028864741325378418],\n",
       " [1.0, 0.0014667510986328125],\n",
       " [1.0, 0.059633493423461914],\n",
       " [1.0, 0.3555333614349365],\n",
       " [1.0, 0.3851449489593506],\n",
       " [1.0, 0.4322645664215088],\n",
       " [1.0, 0.4864286184310913],\n",
       " [1.0, -0.1577010154724121],\n",
       " [1.0, 0.2923774719238281],\n",
       " [1.0, 0.38957643508911133],\n",
       " [1.0, 0.452350378036499],\n",
       " [1.0, 0.2954353094100952],\n",
       " [1.0, 0.46886980533599854],\n",
       " [1.0, 0.32660937309265137],\n",
       " [1.0, 0.39560461044311523],\n",
       " [1.0, 0.3856574296951294],\n",
       " [1.0, 0.44179749488830566],\n",
       " [1.0, 0.046601176261901855],\n",
       " [1.0, -0.013930201530456543],\n",
       " [1.0, 0.16471338272094727],\n",
       " [1.0, 0.23805677890777588],\n",
       " [1.0, 0.4839259386062622],\n",
       " [1.0, 0.4300975799560547],\n",
       " [1.0, 0.1487189531326294],\n",
       " [1.0, 0.4110419750213623],\n",
       " [1.0, 0.48773324489593506],\n",
       " [1.0, 0.4855213165283203],\n",
       " [1.0, 0.2833406925201416],\n",
       " [1.0, 0.4705207347869873],\n",
       " [1.0, 0.2672879695892334],\n",
       " [1.0, 0.09428346157073975],\n",
       " [1.0, -0.08478069305419922],\n",
       " [1.0, 0.4738105535507202],\n",
       " [0.0, 0.9154150485992432],\n",
       " [1.0, 0.42310142517089844],\n",
       " [0.0, 0.752495288848877],\n",
       " [1.0, 0.00865185260772705],\n",
       " [1.0, 0.34551799297332764],\n",
       " [1.0, 0.23383307456970215],\n",
       " [1.0, 0.40860140323638916],\n",
       " [1.0, 0.44654011726379395],\n",
       " [1.0, 0.35196924209594727],\n",
       " [1.0, -0.028864741325378418],\n",
       " [1.0, 0.0014667510986328125],\n",
       " [1.0, 0.059633493423461914],\n",
       " [1.0, 0.38607490062713623],\n",
       " [1.0, 0.4890148639678955],\n",
       " [1.0, 0.2905622720718384],\n",
       " [1.0, 0.16681766510009766],\n",
       " [1.0, 0.3953120708465576],\n",
       " [1.0, 0.349995493888855],\n",
       " [1.0, -0.04160141944885254],\n",
       " [1.0, 0.48240017890930176],\n",
       " [1.0, 0.0577540397644043],\n",
       " [1.0, 0.48459959030151367],\n",
       " [1.0, 0.3555333614349365],\n",
       " [1.0, 0.3851449489593506],\n",
       " [1.0, 0.4738105535507202],\n",
       " [0.0, 0.9154150485992432]]"
      ]
     },
     "execution_count": null,
     "metadata": {},
     "output_type": "execute_result"
    }
   ],
   "source": [
    "mistakes = []\n",
    "for i in range(y.shape[0]):\n",
    "    if (y_preds[i] > 0.5) != y[i]:\n",
    "        mistakes.append([y[i].item(), y_preds[i].item()])\n",
    "mistakes"
   ]
  },
  {
   "cell_type": "code",
   "execution_count": null,
   "metadata": {},
   "outputs": [
    {
     "name": "stdout",
     "output_type": "stream",
     "text": [
      "label: 1  prediction: 0.1503\n"
     ]
    },
    {
     "data": {
      "image/png": "[encoded data removed]",
      "text/plain": [
       "<PIL.Image.Image image mode=1 size=94x94 at 0x7F905A005940>"
      ]
     },
     "execution_count": null,
     "metadata": {},
     "output_type": "execute_result"
    }
   ],
   "source": [
    "for i in range(y.shape[0]):\n",
    "    if (y_preds[i] > 0.5) != y[i]:\n",
    "        xmistake = x[i]\n",
    "        print('label: %d  prediction: %.4f' %\n",
    "              (y[i], y_preds[i]))\n",
    "        break\n",
    "MSvisualize(xmistake)"
   ]
  },
  {
   "cell_type": "markdown",
   "metadata": {},
   "source": [
    "## Network details"
   ]
  },
  {
   "cell_type": "code",
   "execution_count": null,
   "metadata": {},
   "outputs": [],
   "source": [
    "params = net.parameters()"
   ]
  },
  {
   "cell_type": "code",
   "execution_count": null,
   "metadata": {},
   "outputs": [
    {
     "name": "stdout",
     "output_type": "stream",
     "text": [
      "torch.Size([40, 1, 13, 13])\n",
      "torch.Size([40])\n",
      "torch.Size([1, 40])\n",
      "torch.Size([1])\n"
     ]
    }
   ],
   "source": [
    "params = []\n",
    "for param in net.parameters():\n",
    "    params.append(param.data)\n",
    "    print(param.size())"
   ]
  },
  {
   "cell_type": "code",
   "execution_count": null,
   "metadata": {},
   "outputs": [],
   "source": [
    "def divisors(x):\n",
    "    i = np.round(np.sqrt(x)).astype(int)\n",
    "    for j in range(i - 1):\n",
    "        if x % (i - j) == 0:\n",
    "            n = x // (i - j)\n",
    "            return (n, x // n)\n",
    "    return (x, 1)"
   ]
  },
  {
   "cell_type": "code",
   "execution_count": null,
   "metadata": {},
   "outputs": [
    {
     "data": {
      "image/png": "[encoded data removed]",
      "text/plain": [
       "<PIL.Image.Image image mode=L size=480x300 at 0x7F905A005FA0>"
      ]
     },
     "execution_count": null,
     "metadata": {},
     "output_type": "execute_result"
    }
   ],
   "source": [
    "par = np.array(params[0].squeeze())\n",
    "par *= -1.0\n",
    "par = par - np.min(par)\n",
    "par = par / np.max(par)\n",
    "par = np.round(255 * par)\n",
    "w, h = divisors(par.shape[0])\n",
    "im = np.zeros((15 * h, 15 * w), dtype = int)\n",
    "for i in range(h):\n",
    "    for j in range(w):\n",
    "        im[15*i+1:15*i+14,15*j+1:15*j+14] = par[w*i + j]\n",
    "Image.fromarray(np.uint8(im), 'L').resize((w*60, h*60), resample=0, box=None)"
   ]
  },
  {
   "cell_type": "code",
   "execution_count": null,
   "metadata": {},
   "outputs": [
    {
     "data": {
      "image/png": "[encoded data removed]",
      "text/plain": [
       "<PIL.Image.Image image mode=RGB size=480x300 at 0x7F905A005430>"
      ]
     },
     "execution_count": null,
     "metadata": {},
     "output_type": "execute_result"
    }
   ],
   "source": [
    "par = params[0].squeeze()\n",
    "par /= torch.max(torch.abs(par))\n",
    "blue = torch.tensor([1,1,0]).unsqueeze(1).unsqueeze(2)\n",
    "red = torch.tensor([0,1,1]).unsqueeze(1).unsqueeze(2)\n",
    "par = (blue * torch.where(par > 0, par, 0.0 * par).unsqueeze(1)\n",
    "       + red * torch.where(par < 0, -1.0 * par, 0.0 * par).unsqueeze(1))\n",
    "par = np.round(255 * par)\n",
    "par = np.array(par).astype(int)\n",
    "w, h = divisors(par.shape[0])\n",
    "im = np.zeros((15 * h, 15 * w, 3), dtype = int)\n",
    "for i in range(h):\n",
    "    for j in range(w):\n",
    "        for c in range(3):\n",
    "            im[15*i+1:15*i+14,15*j+1:15*j+14,c] = 255 - par[w*i + j, c]\n",
    "Image.fromarray(np.uint8(im), 'RGB').resize((w*60, h*60), resample=0, box=None)"
   ]
  },
  {
   "cell_type": "code",
   "execution_count": null,
   "metadata": {},
   "outputs": [],
   "source": []
  }
 ],
 "metadata": {
  "kernelspec": {
   "display_name": "Python 3",
   "language": "python",
   "name": "python3"
  }
 },
 "nbformat": 4,
 "nbformat_minor": 4
}
