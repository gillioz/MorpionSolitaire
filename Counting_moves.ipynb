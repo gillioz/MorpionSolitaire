{
 "cells": [
  {
   "cell_type": "markdown",
   "metadata": {},
   "source": [
    "# Counting legal moves\n"
   ]
  },
  {
   "cell_type": "markdown",
   "metadata": {},
   "source": [
    "**TO DO**\n",
    "- train model with max pooling on the binary problem, where I know it works, if possible all the way to 100% accuracy; this is a proof-of-principle showing that the model is good; maybe save intermediate versions at different accuracies?\n",
    "- try to solve the counting problem using *transfer learning*: copy the convolutional layers of the solution to the previous problem, then add a different tail with average instead of max pooling (might work better if we also strip off the last conv layer, or at least its bias)"
   ]
  },
  {
   "cell_type": "code",
   "execution_count": null,
   "metadata": {},
   "outputs": [],
   "source": [
    "from MorpionSolitaire import *\n",
    "from DeepLearningMS import *"
   ]
  },
  {
   "cell_type": "code",
   "execution_count": null,
   "metadata": {},
   "outputs": [],
   "source": [
    "from multiprocess import Pool\n",
    "pool = Pool()"
   ]
  },
  {
   "cell_type": "markdown",
   "metadata": {},
   "source": [
    "## Mini-batches"
   ]
  },
  {
   "cell_type": "markdown",
   "metadata": {},
   "source": [
    "This function plays one game at random until there are no more moves, then rewinds the game to an arbitrary interemediate stage, and returns the final grid.\n",
    "\n",
    "The label $y$ is related to the number of legal moves $N$ by the equation\n",
    "$$\n",
    "    y = \\frac{N}{N + 5}\n",
    "$$\n",
    "so that it is equal to zero if there are no moves, and approaches one if there are many moves."
   ]
  },
  {
   "cell_type": "code",
   "execution_count": null,
   "metadata": {},
   "outputs": [],
   "source": [
    "def play_one_game(host = 0): # dummy argument needed for passing to pool.map\n",
    "    game = NewGame('cross').play()\n",
    "    game = game.unplay(np.random.randint(game.score + 1))\n",
    "    n = len(game.moves)\n",
    "    return game.grid.image(), n / (n + 5)"
   ]
  },
  {
   "cell_type": "markdown",
   "metadata": {},
   "source": [
    "Mini-batches contains a certain number of grids obtained in the way described above (computed in parallel to gain time), as well as a labels (0 for no legal moves, 1 for at least one legal move)."
   ]
  },
  {
   "cell_type": "code",
   "execution_count": null,
   "metadata": {},
   "outputs": [],
   "source": [
    "def generate_batch(batch_size = 200):\n",
    "    xy = pool.map(play_one_game, range(batch_size))\n",
    "    x = torch.tensor(np.array([e[0] for e in xy])).float().unsqueeze(1)\n",
    "    y = torch.tensor([e[1] for e in xy]).unsqueeze(1)\n",
    "    return x, y"
   ]
  },
  {
   "cell_type": "markdown",
   "metadata": {},
   "source": [
    "20,000 grids and labels computed in this way are saved once and for all:"
   ]
  },
  {
   "cell_type": "code",
   "execution_count": null,
   "metadata": {},
   "outputs": [],
   "source": [
    "# xy = pool.map(play_one_game, range(20000))\n",
    "# np.save('data/counting_problem_grids.npy', np.stack([e[0] for e in xy]))\n",
    "# np.save('data/counting_problem_labels.npy', np.stack([e[1] for e in xy]))"
   ]
  },
  {
   "cell_type": "markdown",
   "metadata": {},
   "source": [
    "## Data frame"
   ]
  },
  {
   "cell_type": "markdown",
   "metadata": {},
   "source": [
    "**Possible improvement (?):** reduce the value of `repeat` to 8 (or even lower).\n",
    "This slows down the training process but it might increase its accuracy."
   ]
  },
  {
   "cell_type": "code",
   "execution_count": null,
   "metadata": {},
   "outputs": [
    {
     "name": "stdout",
     "output_type": "stream",
     "text": [
      "Number of mini-batches stored: 100\n",
      "Number of mini-batches created: 0\n"
     ]
    }
   ],
   "source": [
    "data = MSDataFrame(batch_size = 200, length = 100,\n",
    "                   batch_fct = generate_batch, repeat = 16,\n",
    "                   data = 'data/counting_problem_grids.npy',\n",
    "                   labels = 'data/counting_problem_labels.npy')\n",
    "data.info()"
   ]
  },
  {
   "cell_type": "code",
   "execution_count": null,
   "metadata": {},
   "outputs": [
    {
     "data": {
      "text/plain": [
       "(torch.Size([200, 1, 94, 94]), torch.Size([200, 1]))"
      ]
     },
     "execution_count": null,
     "metadata": {},
     "output_type": "execute_result"
    }
   ],
   "source": [
    "x, y = data.data[0]\n",
    "x.shape, y.shape"
   ]
  },
  {
   "cell_type": "code",
   "execution_count": null,
   "metadata": {},
   "outputs": [
    {
     "data": {
      "image/png": "[encoded data removed]",
      "text/plain": [
       "<PIL.Image.Image image mode=1 size=94x94 at 0x7F75AB6FFA30>"
      ]
     },
     "execution_count": null,
     "metadata": {},
     "output_type": "execute_result"
    }
   ],
   "source": [
    "MSvisualize(x[0])"
   ]
  },
  {
   "cell_type": "code",
   "execution_count": null,
   "metadata": {},
   "outputs": [
    {
     "data": {
      "text/plain": [
       "tensor([0.7917])"
      ]
     },
     "execution_count": null,
     "metadata": {},
     "output_type": "execute_result"
    }
   ],
   "source": [
    "y[0]"
   ]
  },
  {
   "cell_type": "code",
   "execution_count": null,
   "metadata": {},
   "outputs": [
    {
     "data": {
      "text/plain": [
       "tensor([19.0000])"
      ]
     },
     "execution_count": null,
     "metadata": {},
     "output_type": "execute_result"
    }
   ],
   "source": [
    "5.0 * y[0] / (1.0 - y[0])"
   ]
  },
  {
   "cell_type": "markdown",
   "metadata": {},
   "source": [
    "Distribution of labels:"
   ]
  },
  {
   "cell_type": "code",
   "execution_count": null,
   "metadata": {},
   "outputs": [],
   "source": [
    "ydata = torch.cat([data.data[i][1].squeeze() for i in range(len(data.data))])\n",
    "ndata = torch.round(5.0 * ydata / (1.0 - ydata))\n",
    "nmax = ndata.max().int().item()\n",
    "ndistribution = [torch.where(ndata == i, 1.0, 0.0).mean().item() for i in range(nmax + 1)]"
   ]
  },
  {
   "cell_type": "code",
   "execution_count": null,
   "metadata": {},
   "outputs": [
    {
     "data": {
      "text/plain": [
       "(tensor(0.6357), tensor(0.1900), tensor(0.), tensor(0.8684))"
      ]
     },
     "execution_count": null,
     "metadata": {},
     "output_type": "execute_result"
    }
   ],
   "source": [
    "ydata.mean(), ydata.std(), ydata.min(), ydata.max()"
   ]
  },
  {
   "cell_type": "code",
   "execution_count": null,
   "metadata": {},
   "outputs": [
    {
     "data": {
      "image/png": "[encoded data removed]",
      "text/plain": [
       "<Figure size 432x288 with 1 Axes>"
      ]
     },
     "metadata": {
      "needs_background": "light"
     },
     "output_type": "display_data"
    }
   ],
   "source": [
    "plt.scatter([y / (y + 5) for y in range(nmax + 1)], ndistribution, color='green', marker = '+')\n",
    "plt.xlabel('Label')\n",
    "plt.ylabel('Frequency')\n",
    "plt.xlim(-0.03, 1)\n",
    "plt.ylim(0, 0.1)\n",
    "plt.show()"
   ]
  },
  {
   "cell_type": "code",
   "execution_count": null,
   "metadata": {},
   "outputs": [
    {
     "data": {
      "image/png": "[encoded data removed]",
      "text/plain": [
       "<Figure size 432x288 with 1 Axes>"
      ]
     },
     "metadata": {
      "needs_background": "light"
     },
     "output_type": "display_data"
    }
   ],
   "source": [
    "plt.step(np.array(range(nmax + 1)), ndistribution, where='mid', color='green')\n",
    "plt.xlabel('Label (number of possible moves)')\n",
    "plt.ylabel('Frequency')\n",
    "plt.xlim(0, nmax)\n",
    "plt.ylim(0, 0.07)\n",
    "# plt.savefig('blog/Part_4_Counting_images/labels_counting.png', bbox_inches='tight')\n",
    "plt.show()"
   ]
  },
  {
   "cell_type": "markdown",
   "metadata": {},
   "source": [
    "### Accuracy\n",
    "\n",
    "The accuracy is computed after inverting the relation between the label $y$ and the corresponding number of moves $N$:\n",
    "$$\n",
    "N = \\frac{5 y}{1 - y}\n",
    "$$\n",
    "The value $N_\\text{output}$ computed from the network output is rounded to the nearest integer, and compared with the label $N_\\text{label}$ (also rounded to nearest integer to avoid numerical inaccuracies). The function `accuracy` counts how many times the two integer match. The functions `plusminusone` and `plusminustwo` count how many times $N_\\text{output}$ and $N_\\text{label}$ differ at most by one or two units."
   ]
  },
  {
   "cell_type": "code",
   "execution_count": null,
   "metadata": {},
   "outputs": [],
   "source": [
    "def accuracy(outputs, labels, plusminus = 0.0):\n",
    "    noutputs = torch.round(5.0 * outputs / (1.0 - outputs))\n",
    "    nlabels = torch.round(5.0 * labels / (1.0 - labels))\n",
    "    return torch.where(torch.abs(noutputs - nlabels) <= plusminus, 1.0, 0.0).mean()"
   ]
  },
  {
   "cell_type": "code",
   "execution_count": null,
   "metadata": {},
   "outputs": [],
   "source": [
    "def plusminusone(outputs, labels):\n",
    "    return accuracy(outputs, labels, plusminus = 1.0)\n",
    "def plusminustwo(outputs, labels):\n",
    "    return accuracy(outputs, labels, plusminus = 2.0)"
   ]
  },
  {
   "cell_type": "markdown",
   "metadata": {},
   "source": [
    "## Model and training"
   ]
  },
  {
   "cell_type": "markdown",
   "metadata": {},
   "source": [
    "We use *transfer learning*: instead of training the model from scratch (which seems nearly impossible), we use a model pre-trained on the binary problem:"
   ]
  },
  {
   "cell_type": "code",
   "execution_count": null,
   "metadata": {},
   "outputs": [
    {
     "data": {
      "text/plain": [
       "Sequential(\n",
       "  (0): Conv2d(1, 20, kernel_size=(3, 3), stride=(3, 3), padding=(1, 1))\n",
       "  (1): ReLU()\n",
       "  (2): Conv2d(20, 40, kernel_size=(2, 2), stride=(1, 1))\n",
       "  (3): ReLU()\n",
       "  (4): Conv2d(40, 40, kernel_size=(2, 2), stride=(1, 1))\n",
       "  (5): ReLU()\n",
       "  (6): Conv2d(40, 40, kernel_size=(2, 2), stride=(1, 1))\n",
       "  (7): ReLU()\n",
       "  (8): Conv2d(40, 40, kernel_size=(2, 2), stride=(1, 1))\n",
       "  (9): ReLU()\n",
       "  (10): AdaptiveAvgPool2d(output_size=1)\n",
       "  (11): Flatten(start_dim=1, end_dim=-1)\n",
       "  (12): Linear(in_features=40, out_features=20, bias=True)\n",
       "  (13): ReLU()\n",
       "  (14): Linear(in_features=20, out_features=10, bias=True)\n",
       "  (15): ReLU()\n",
       "  (16): Linear(in_features=10, out_features=1, bias=True)\n",
       ")"
      ]
     },
     "execution_count": null,
     "metadata": {},
     "output_type": "execute_result"
    }
   ],
   "source": [
    "net = torch.load('models/Descartes_binary.pt')\n",
    "net.train()\n",
    "net"
   ]
  },
  {
   "cell_type": "markdown",
   "metadata": {},
   "source": [
    "**Possible modification:** we could also try to freeze all parameters of the convolutional layers and only train the last 3 linear layers (this does not seem to work though)"
   ]
  },
  {
   "cell_type": "code",
   "execution_count": null,
   "metadata": {},
   "outputs": [],
   "source": [
    "# for i in range(10):\n",
    "#     for param in net[i].parameters():\n",
    "#         param.requires_grad = False"
   ]
  },
  {
   "cell_type": "markdown",
   "metadata": {},
   "source": [
    "**Other possible modification:** we could also modify the linear layer part of the network:"
   ]
  },
  {
   "cell_type": "code",
   "execution_count": null,
   "metadata": {},
   "outputs": [],
   "source": [
    "# modules = [net[i] for i in range(12)]\n",
    "# modules.extend([torch.nn.Linear(40, 10),\n",
    "#                 torch.nn.ReLU(),\n",
    "#                 torch.nn.Linear(10, 4),\n",
    "#                 torch.nn.ReLU(),\n",
    "#                 torch.nn.Linear(4, 1)])\n",
    "# net = torch.nn.Sequential(*modules)\n",
    "# net"
   ]
  },
  {
   "cell_type": "markdown",
   "metadata": {},
   "source": [
    "Number of parameters in the model:"
   ]
  },
  {
   "cell_type": "code",
   "execution_count": null,
   "metadata": {},
   "outputs": [
    {
     "data": {
      "text/plain": [
       "23801"
      ]
     },
     "execution_count": null,
     "metadata": {},
     "output_type": "execute_result"
    }
   ],
   "source": [
    "sum(p.numel() for p in net.parameters())"
   ]
  },
  {
   "cell_type": "markdown",
   "metadata": {},
   "source": [
    "Number of trainable parameters in the model (only relevant with freezing):"
   ]
  },
  {
   "cell_type": "code",
   "execution_count": null,
   "metadata": {},
   "outputs": [],
   "source": [
    "# sum(p.numel() for p in net.parameters() if p.requires_grad)"
   ]
  },
  {
   "cell_type": "code",
   "execution_count": null,
   "metadata": {},
   "outputs": [
    {
     "data": {
      "text/plain": [
       "torch.Size([200, 1])"
      ]
     },
     "execution_count": null,
     "metadata": {},
     "output_type": "execute_result"
    }
   ],
   "source": [
    "y_pred = net(x)\n",
    "y_pred.shape"
   ]
  },
  {
   "cell_type": "code",
   "execution_count": null,
   "metadata": {},
   "outputs": [
    {
     "data": {
      "text/plain": [
       "(tensor(0.0250), tensor(0.0300), tensor(0.0300))"
      ]
     },
     "execution_count": null,
     "metadata": {},
     "output_type": "execute_result"
    }
   ],
   "source": [
    "accuracy(y_pred, y), plusminusone(y_pred, y), plusminustwo(y_pred, y)"
   ]
  },
  {
   "cell_type": "markdown",
   "metadata": {},
   "source": [
    "## Training"
   ]
  },
  {
   "cell_type": "code",
   "execution_count": null,
   "metadata": {},
   "outputs": [],
   "source": [
    "running_loss_data = []\n",
    "accuracy_data = []"
   ]
  },
  {
   "cell_type": "markdown",
   "metadata": {},
   "source": [
    "Remark: in this case we changed optimizer from SGD to Adam"
   ]
  },
  {
   "cell_type": "code",
   "execution_count": null,
   "metadata": {},
   "outputs": [
    {
     "data": {
      "application/vnd.jupyter.widget-view+json": {
       "model_id": "8e7f4f1923804455a230201a0dba45b2",
       "version_major": 2,
       "version_minor": 0
      },
      "text/plain": [
       "HBox(children=(HTML(value=''), FloatProgress(value=0.0, max=300.0), HTML(value='')))"
      ]
     },
     "metadata": {},
     "output_type": "display_data"
    },
    {
     "name": "stdout",
     "output_type": "stream",
     "text": [
      "[0]  loss: 0.00008  accuracy: 0.81  0.98  0.99  \n",
      "[1]  loss: 0.00004  accuracy: 0.88  1.00  1.00  \n",
      "[2]  loss: 0.00004  accuracy: 0.86  0.99  1.00  \n",
      "[3]  loss: 0.00004  accuracy: 0.87  1.00  1.00  \n",
      "[4]  loss: 0.00004  accuracy: 0.86  0.99  1.00  \n",
      "[5]  loss: 0.00004  accuracy: 0.82  0.99  1.00  \n",
      "[6]  loss: 0.00004  accuracy: 0.86  0.99  1.00  \n",
      "[7]  loss: 0.00004  accuracy: 0.87  0.99  1.00  \n",
      "[8]  loss: 0.00004  accuracy: 0.85  0.99  1.00  \n",
      "[9]  loss: 0.00003  accuracy: 0.87  1.00  1.00  \n",
      "[10]  loss: 0.00004  accuracy: 0.85  0.99  1.00  \n",
      "[11]  loss: 0.00003  accuracy: 0.89  1.00  1.00  \n",
      "[12]  loss: 0.00003  accuracy: 0.88  0.99  1.00  \n",
      "[13]  loss: 0.00003  accuracy: 0.89  1.00  1.00  \n",
      "[14]  loss: 0.00003  accuracy: 0.88  0.99  1.00  \n",
      "[15]  loss: 0.00003  accuracy: 0.88  1.00  1.00  \n",
      "[16]  loss: 0.00003  accuracy: 0.89  1.00  1.00  \n",
      "[17]  loss: 0.00003  accuracy: 0.88  1.00  1.00  \n",
      "[18]  loss: 0.00003  accuracy: 0.88  1.00  1.00  \n",
      "[19]  loss: 0.00013  accuracy: 0.74  0.95  0.98  \n",
      "[20]  loss: 0.00004  accuracy: 0.88  0.99  1.00  \n",
      "[21]  loss: 0.00003  accuracy: 0.91  1.00  1.00  \n",
      "[22]  loss: 0.00003  accuracy: 0.90  1.00  1.00  \n",
      "[23]  loss: 0.00002  accuracy: 0.91  1.00  1.00  \n",
      "[24]  loss: 0.00002  accuracy: 0.91  1.00  1.00  \n",
      "[25]  loss: 0.00003  accuracy: 0.88  1.00  1.00  \n",
      "[26]  loss: 0.00002  accuracy: 0.90  1.00  1.00  \n",
      "[27]  loss: 0.00003  accuracy: 0.86  1.00  1.00  \n",
      "[28]  loss: 0.00002  accuracy: 0.91  1.00  1.00  \n",
      "[29]  loss: 0.00002  accuracy: 0.90  1.00  1.00  \n",
      "[30]  loss: 0.00002  accuracy: 0.89  1.00  1.00  \n",
      "[31]  loss: 0.00003  accuracy: 0.89  1.00  1.00  \n",
      "[32]  loss: 0.00002  accuracy: 0.90  1.00  1.00  \n",
      "[33]  loss: 0.00003  accuracy: 0.89  1.00  1.00  \n",
      "[34]  loss: 0.00002  accuracy: 0.90  1.00  1.00  \n",
      "[35]  loss: 0.00002  accuracy: 0.90  1.00  1.00  \n",
      "[36]  loss: 0.00003  accuracy: 0.86  0.99  1.00  \n",
      "[37]  loss: 0.00004  accuracy: 0.85  0.99  1.00  \n",
      "[38]  loss: 0.00002  accuracy: 0.91  1.00  1.00  \n",
      "[39]  loss: 0.00002  accuracy: 0.89  1.00  1.00  \n",
      "[40]  loss: 0.00002  accuracy: 0.92  1.00  1.00  \n",
      "[41]  loss: 0.00003  accuracy: 0.88  1.00  1.00  \n",
      "[42]  loss: 0.00003  accuracy: 0.88  0.99  1.00  \n",
      "[43]  loss: 0.00002  accuracy: 0.90  1.00  1.00  \n",
      "[44]  loss: 0.00003  accuracy: 0.86  0.99  1.00  \n",
      "[45]  loss: 0.00002  accuracy: 0.90  1.00  1.00  \n",
      "[46]  loss: 0.00002  accuracy: 0.91  1.00  1.00  \n",
      "[47]  loss: 0.00002  accuracy: 0.90  1.00  1.00  \n",
      "[48]  loss: 0.00002  accuracy: 0.91  1.00  1.00  \n",
      "[49]  loss: 0.00002  accuracy: 0.92  1.00  1.00  \n",
      "[50]  loss: 0.00003  accuracy: 0.88  0.99  1.00  \n",
      "[51]  loss: 0.00002  accuracy: 0.91  1.00  1.00  \n",
      "[52]  loss: 0.00002  accuracy: 0.90  1.00  1.00  \n",
      "[53]  loss: 0.00002  accuracy: 0.91  1.00  1.00  \n",
      "[54]  loss: 0.00003  accuracy: 0.87  0.99  1.00  \n",
      "[55]  loss: 0.00002  accuracy: 0.92  1.00  1.00  \n",
      "[56]  loss: 0.00002  accuracy: 0.89  1.00  1.00  \n",
      "[57]  loss: 0.00002  accuracy: 0.92  1.00  1.00  \n",
      "[58]  loss: 0.00003  accuracy: 0.85  0.99  1.00  \n",
      "[59]  loss: 0.00002  accuracy: 0.91  1.00  1.00  \n",
      "[60]  loss: 0.00002  accuracy: 0.89  1.00  1.00  \n",
      "[61]  loss: 0.00002  accuracy: 0.91  1.00  1.00  \n",
      "[62]  loss: 0.00002  accuracy: 0.91  1.00  1.00  \n",
      "[63]  loss: 0.00002  accuracy: 0.93  1.00  1.00  \n",
      "[64]  loss: 0.00002  accuracy: 0.88  0.99  1.00  \n",
      "[65]  loss: 0.00002  accuracy: 0.91  1.00  1.00  \n",
      "[66]  loss: 0.00002  accuracy: 0.90  1.00  1.00  \n",
      "[67]  loss: 0.00002  accuracy: 0.92  1.00  1.00  \n",
      "[68]  loss: 0.00002  accuracy: 0.90  1.00  1.00  \n",
      "[69]  loss: 0.00004  accuracy: 0.84  0.99  1.00  \n",
      "[70]  loss: 0.00002  accuracy: 0.90  1.00  1.00  \n",
      "[71]  loss: 0.00002  accuracy: 0.94  1.00  1.00  \n",
      "[72]  loss: 0.00002  accuracy: 0.94  1.00  1.00  \n",
      "[73]  loss: 0.00002  accuracy: 0.89  1.00  1.00  \n",
      "[74]  loss: 0.00002  accuracy: 0.93  1.00  1.00  \n",
      "[75]  loss: 0.00002  accuracy: 0.90  1.00  1.00  \n",
      "[76]  loss: 0.00002  accuracy: 0.92  1.00  1.00  \n",
      "[77]  loss: 0.00002  accuracy: 0.92  1.00  1.00  \n",
      "[78]  loss: 0.00002  accuracy: 0.93  1.00  1.00  \n",
      "[79]  loss: 0.00002  accuracy: 0.90  1.00  1.00  \n",
      "[80]  loss: 0.00002  accuracy: 0.93  1.00  1.00  \n",
      "[81]  loss: 0.00002  accuracy: 0.90  1.00  1.00  \n",
      "[82]  loss: 0.00002  accuracy: 0.89  1.00  1.00  \n",
      "[83]  loss: 0.00002  accuracy: 0.93  1.00  1.00  \n",
      "[84]  loss: 0.00002  accuracy: 0.93  1.00  1.00  \n",
      "[85]  loss: 0.00002  accuracy: 0.90  1.00  1.00  \n",
      "[86]  loss: 0.00002  accuracy: 0.91  1.00  1.00  \n",
      "[87]  loss: 0.00002  accuracy: 0.92  1.00  1.00  \n",
      "[88]  loss: 0.00080  accuracy: 0.61  0.86  0.93  \n",
      "[89]  loss: 0.00004  accuracy: 0.88  1.00  1.00  \n",
      "[90]  loss: 0.00003  accuracy: 0.92  1.00  1.00  \n",
      "[91]  loss: 0.00002  accuracy: 0.93  1.00  1.00  \n",
      "[92]  loss: 0.00002  accuracy: 0.92  1.00  1.00  \n",
      "[93]  loss: 0.00002  accuracy: 0.93  1.00  1.00  \n",
      "[94]  loss: 0.00002  accuracy: 0.92  1.00  1.00  \n",
      "[95]  loss: 0.00002  accuracy: 0.93  1.00  1.00  \n",
      "[96]  loss: 0.00002  accuracy: 0.93  1.00  1.00  \n",
      "[97]  loss: 0.00002  accuracy: 0.93  1.00  1.00  \n",
      "[98]  loss: 0.00002  accuracy: 0.93  1.00  1.00  \n",
      "[99]  loss: 0.00002  accuracy: 0.92  1.00  1.00  \n",
      "[100]  loss: 0.00002  accuracy: 0.91  1.00  1.00  \n",
      "[101]  loss: 0.00002  accuracy: 0.93  1.00  1.00  \n",
      "[102]  loss: 0.00002  accuracy: 0.93  1.00  1.00  \n",
      "[103]  loss: 0.00002  accuracy: 0.93  1.00  1.00  \n",
      "[104]  loss: 0.00002  accuracy: 0.94  1.00  1.00  \n",
      "[105]  loss: 0.00002  accuracy: 0.92  1.00  1.00  \n",
      "[106]  loss: 0.00002  accuracy: 0.93  1.00  1.00  \n",
      "[107]  loss: 0.00002  accuracy: 0.92  1.00  1.00  \n",
      "[108]  loss: 0.00002  accuracy: 0.93  1.00  1.00  \n",
      "[109]  loss: 0.00002  accuracy: 0.92  1.00  1.00  \n",
      "[110]  loss: 0.00002  accuracy: 0.94  1.00  1.00  \n",
      "[111]  loss: 0.00002  accuracy: 0.92  1.00  1.00  \n",
      "[112]  loss: 0.00002  accuracy: 0.92  1.00  1.00  \n",
      "[113]  loss: 0.00002  accuracy: 0.92  1.00  1.00  \n",
      "[114]  loss: 0.00002  accuracy: 0.92  1.00  1.00  \n",
      "[115]  loss: 0.00002  accuracy: 0.92  1.00  1.00  \n",
      "[116]  loss: 0.00002  accuracy: 0.90  1.00  1.00  \n",
      "[117]  loss: 0.00002  accuracy: 0.91  1.00  1.00  \n",
      "[118]  loss: 0.00002  accuracy: 0.93  1.00  1.00  \n",
      "[119]  loss: 0.00002  accuracy: 0.93  1.00  1.00  \n",
      "[120]  loss: 0.00002  accuracy: 0.87  0.99  1.00  \n",
      "[121]  loss: 0.00002  accuracy: 0.92  1.00  1.00  \n",
      "[122]  loss: 0.00002  accuracy: 0.92  1.00  1.00  \n",
      "[123]  loss: 0.00002  accuracy: 0.93  1.00  1.00  \n",
      "[124]  loss: 0.00001  accuracy: 0.93  1.00  1.00  \n",
      "[125]  loss: 0.00001  accuracy: 0.93  1.00  1.00  \n",
      "[126]  loss: 0.00002  accuracy: 0.90  1.00  1.00  \n",
      "[127]  loss: 0.00002  accuracy: 0.92  1.00  1.00  \n",
      "[128]  loss: 0.00002  accuracy: 0.88  1.00  1.00  \n",
      "[129]  loss: 0.00002  accuracy: 0.91  1.00  1.00  \n",
      "[130]  loss: 0.00001  accuracy: 0.93  1.00  1.00  \n",
      "[131]  loss: 0.00002  accuracy: 0.91  1.00  1.00  \n",
      "[132]  loss: 0.00001  accuracy: 0.93  1.00  1.00  \n",
      "[133]  loss: 0.00001  accuracy: 0.93  1.00  1.00  \n",
      "[134]  loss: 0.00002  accuracy: 0.92  1.00  1.00  \n",
      "[135]  loss: 0.00001  accuracy: 0.93  1.00  1.00  \n",
      "[136]  loss: 0.00002  accuracy: 0.91  1.00  1.00  \n",
      "[137]  loss: 0.00002  accuracy: 0.92  1.00  1.00  \n",
      "[138]  loss: 0.00001  accuracy: 0.93  1.00  1.00  \n",
      "[139]  loss: 0.00002  accuracy: 0.90  1.00  1.00  \n",
      "[140]  loss: 0.00002  accuracy: 0.92  1.00  1.00  \n",
      "[141]  loss: 0.00001  accuracy: 0.93  1.00  1.00  \n",
      "[142]  loss: 0.00001  accuracy: 0.94  1.00  1.00  \n",
      "[143]  loss: 0.00002  accuracy: 0.92  1.00  1.00  \n",
      "[144]  loss: 0.00002  accuracy: 0.90  1.00  1.00  \n",
      "[145]  loss: 0.00002  accuracy: 0.90  1.00  1.00  \n",
      "[146]  loss: 0.00001  accuracy: 0.93  1.00  1.00  \n",
      "[147]  loss: 0.00002  accuracy: 0.87  1.00  1.00  \n",
      "[148]  loss: 0.00002  accuracy: 0.92  1.00  1.00  \n",
      "[149]  loss: 0.00001  accuracy: 0.93  1.00  1.00  \n",
      "[150]  loss: 0.00001  accuracy: 0.93  1.00  1.00  \n",
      "[151]  loss: 0.00001  accuracy: 0.93  1.00  1.00  \n",
      "[152]  loss: 0.00002  accuracy: 0.89  1.00  1.00  \n",
      "[153]  loss: 0.00001  accuracy: 0.93  1.00  1.00  \n",
      "[154]  loss: 0.00001  accuracy: 0.94  1.00  1.00  \n",
      "[155]  loss: 0.00001  accuracy: 0.94  1.00  1.00  \n",
      "[156]  loss: 0.00002  accuracy: 0.91  1.00  1.00  \n",
      "[157]  loss: 0.00001  accuracy: 0.93  1.00  1.00  \n",
      "[158]  loss: 0.00002  accuracy: 0.92  1.00  1.00  \n",
      "[159]  loss: 0.00002  accuracy: 0.91  1.00  1.00  \n",
      "[160]  loss: 0.00002  accuracy: 0.90  1.00  1.00  \n",
      "[161]  loss: 0.00002  accuracy: 0.91  1.00  1.00  \n",
      "[162]  loss: 0.00002  accuracy: 0.92  1.00  1.00  \n"
     ]
    },
    {
     "name": "stdout",
     "output_type": "stream",
     "text": [
      "[163]  loss: 0.00001  accuracy: 0.94  1.00  1.00  \n",
      "[164]  loss: 0.00002  accuracy: 0.89  1.00  1.00  \n",
      "[165]  loss: 0.00002  accuracy: 0.92  1.00  1.00  \n",
      "[166]  loss: 0.00002  accuracy: 0.92  1.00  1.00  \n",
      "[167]  loss: 0.00002  accuracy: 0.92  1.00  1.00  \n",
      "[168]  loss: 0.00002  accuracy: 0.92  1.00  1.00  \n",
      "[169]  loss: 0.00002  accuracy: 0.93  1.00  1.00  \n",
      "[170]  loss: 0.00002  accuracy: 0.91  1.00  1.00  \n",
      "[171]  loss: 0.00002  accuracy: 0.92  1.00  1.00  \n",
      "[172]  loss: 0.00002  accuracy: 0.91  1.00  1.00  \n",
      "[173]  loss: 0.00002  accuracy: 0.91  1.00  1.00  \n",
      "[174]  loss: 0.00002  accuracy: 0.90  1.00  1.00  \n",
      "[175]  loss: 0.00002  accuracy: 0.91  1.00  1.00  \n",
      "[176]  loss: 0.00001  accuracy: 0.93  1.00  1.00  \n",
      "[177]  loss: 0.00001  accuracy: 0.94  1.00  1.00  \n",
      "[178]  loss: 0.00002  accuracy: 0.91  1.00  1.00  \n",
      "[179]  loss: 0.00002  accuracy: 0.91  1.00  1.00  \n",
      "[180]  loss: 0.00002  accuracy: 0.92  1.00  1.00  \n",
      "[181]  loss: 0.00001  accuracy: 0.94  1.00  1.00  \n",
      "[182]  loss: 0.00001  accuracy: 0.93  1.00  1.00  \n",
      "[183]  loss: 0.00001  accuracy: 0.95  1.00  1.00  \n",
      "[184]  loss: 0.00001  accuracy: 0.94  1.00  1.00  \n",
      "[185]  loss: 0.00001  accuracy: 0.94  1.00  1.00  \n",
      "[186]  loss: 0.00001  accuracy: 0.94  1.00  1.00  \n",
      "[187]  loss: 0.00002  accuracy: 0.91  1.00  1.00  \n",
      "[188]  loss: 0.00002  accuracy: 0.88  1.00  1.00  \n",
      "[189]  loss: 0.00002  accuracy: 0.91  1.00  1.00  \n",
      "[190]  loss: 0.00001  accuracy: 0.94  1.00  1.00  \n",
      "[191]  loss: 0.00001  accuracy: 0.92  1.00  1.00  \n",
      "[192]  loss: 0.00001  accuracy: 0.95  1.00  1.00  \n",
      "[193]  loss: 0.00001  accuracy: 0.94  1.00  1.00  \n",
      "[194]  loss: 0.00001  accuracy: 0.92  1.00  1.00  \n",
      "[195]  loss: 0.00001  accuracy: 0.94  1.00  1.00  \n",
      "[196]  loss: 0.00001  accuracy: 0.94  1.00  1.00  \n",
      "[197]  loss: 0.00002  accuracy: 0.91  1.00  1.00  \n",
      "[198]  loss: 0.00002  accuracy: 0.92  1.00  1.00  \n",
      "[199]  loss: 0.00001  accuracy: 0.94  1.00  1.00  \n",
      "[200]  loss: 0.00001  accuracy: 0.94  1.00  1.00  \n",
      "[201]  loss: 0.00002  accuracy: 0.89  0.99  1.00  \n",
      "[202]  loss: 0.00001  accuracy: 0.93  1.00  1.00  \n",
      "[203]  loss: 0.00001  accuracy: 0.92  1.00  1.00  \n",
      "[204]  loss: 0.00001  accuracy: 0.94  1.00  1.00  \n",
      "[205]  loss: 0.00002  accuracy: 0.90  1.00  1.00  \n",
      "[206]  loss: 0.00002  accuracy: 0.92  1.00  1.00  \n",
      "[207]  loss: 0.00002  accuracy: 0.92  1.00  1.00  \n",
      "[208]  loss: 0.00002  accuracy: 0.92  1.00  1.00  \n",
      "[209]  loss: 0.00001  accuracy: 0.94  1.00  1.00  \n",
      "[210]  loss: 0.00002  accuracy: 0.92  1.00  1.00  \n",
      "[211]  loss: 0.00002  accuracy: 0.91  1.00  1.00  \n",
      "[212]  loss: 0.00002  accuracy: 0.90  1.00  1.00  \n",
      "[213]  loss: 0.00001  accuracy: 0.93  1.00  1.00  \n",
      "[214]  loss: 0.00002  accuracy: 0.92  1.00  1.00  \n",
      "[215]  loss: 0.00001  accuracy: 0.94  1.00  1.00  \n",
      "[216]  loss: 0.00001  accuracy: 0.95  1.00  1.00  \n",
      "[217]  loss: 0.00001  accuracy: 0.94  1.00  1.00  \n",
      "[218]  loss: 0.00002  accuracy: 0.90  1.00  1.00  \n",
      "[219]  loss: 0.00002  accuracy: 0.89  1.00  1.00  \n",
      "[220]  loss: 0.00002  accuracy: 0.91  1.00  1.00  \n",
      "[221]  loss: 0.00002  accuracy: 0.92  1.00  1.00  \n",
      "[222]  loss: 0.00001  accuracy: 0.93  1.00  1.00  \n",
      "[223]  loss: 0.00001  accuracy: 0.93  1.00  1.00  \n",
      "[224]  loss: 0.00001  accuracy: 0.93  1.00  1.00  \n",
      "[225]  loss: 0.00001  accuracy: 0.94  1.00  1.00  \n",
      "[226]  loss: 0.00001  accuracy: 0.93  1.00  1.00  \n",
      "[227]  loss: 0.00001  accuracy: 0.92  1.00  1.00  \n",
      "[228]  loss: 0.00002  accuracy: 0.90  1.00  1.00  \n",
      "[229]  loss: 0.00001  accuracy: 0.93  1.00  1.00  \n",
      "[230]  loss: 0.00001  accuracy: 0.93  1.00  1.00  \n",
      "[231]  loss: 0.00001  accuracy: 0.94  1.00  1.00  \n",
      "[232]  loss: 0.00001  accuracy: 0.93  1.00  1.00  \n",
      "[233]  loss: 0.00001  accuracy: 0.92  1.00  1.00  \n",
      "[234]  loss: 0.00001  accuracy: 0.93  1.00  1.00  \n",
      "[235]  loss: 0.00001  accuracy: 0.93  1.00  1.00  \n",
      "[236]  loss: 0.00001  accuracy: 0.92  1.00  1.00  \n",
      "[237]  loss: 0.00001  accuracy: 0.92  1.00  1.00  \n",
      "[238]  loss: 0.00001  accuracy: 0.94  1.00  1.00  \n",
      "[239]  loss: 0.00001  accuracy: 0.93  1.00  1.00  \n",
      "[240]  loss: 0.00002  accuracy: 0.90  1.00  1.00  \n",
      "[241]  loss: 0.00001  accuracy: 0.93  1.00  1.00  \n",
      "[242]  loss: 0.00001  accuracy: 0.95  1.00  1.00  \n",
      "[243]  loss: 0.00001  accuracy: 0.93  1.00  1.00  \n",
      "[244]  loss: 0.00001  accuracy: 0.92  1.00  1.00  \n",
      "[245]  loss: 0.00001  accuracy: 0.92  1.00  1.00  \n",
      "[246]  loss: 0.00001  accuracy: 0.95  1.00  1.00  \n",
      "[247]  loss: 0.00001  accuracy: 0.94  1.00  1.00  \n",
      "[248]  loss: 0.00002  accuracy: 0.88  1.00  1.00  \n",
      "[249]  loss: 0.00001  accuracy: 0.94  1.00  1.00  \n",
      "[250]  loss: 0.00001  accuracy: 0.93  1.00  1.00  \n",
      "[251]  loss: 0.00001  accuracy: 0.92  1.00  1.00  \n",
      "[252]  loss: 0.00001  accuracy: 0.96  1.00  1.00  \n",
      "[253]  loss: 0.00001  accuracy: 0.95  1.00  1.00  \n",
      "[254]  loss: 0.00001  accuracy: 0.94  1.00  1.00  \n",
      "[255]  loss: 0.00001  accuracy: 0.92  1.00  1.00  \n",
      "[256]  loss: 0.00001  accuracy: 0.94  1.00  1.00  \n",
      "[257]  loss: 0.00001  accuracy: 0.94  1.00  1.00  \n",
      "[258]  loss: 0.00001  accuracy: 0.93  1.00  1.00  \n",
      "[259]  loss: 0.00001  accuracy: 0.94  1.00  1.00  \n",
      "[260]  loss: 0.00001  accuracy: 0.95  1.00  1.00  \n",
      "[261]  loss: 0.00001  accuracy: 0.93  1.00  1.00  \n",
      "[262]  loss: 0.00001  accuracy: 0.94  1.00  1.00  \n",
      "[263]  loss: 0.00001  accuracy: 0.95  1.00  1.00  \n",
      "[264]  loss: 0.00001  accuracy: 0.94  1.00  1.00  \n",
      "[265]  loss: 0.00001  accuracy: 0.92  1.00  1.00  \n",
      "[266]  loss: 0.00002  accuracy: 0.90  1.00  1.00  \n",
      "[267]  loss: 0.00002  accuracy: 0.90  1.00  1.00  \n",
      "[268]  loss: 0.00001  accuracy: 0.94  1.00  1.00  \n",
      "[269]  loss: 0.00001  accuracy: 0.96  1.00  1.00  \n",
      "[270]  loss: 0.00001  accuracy: 0.96  1.00  1.00  \n",
      "[271]  loss: 0.00001  accuracy: 0.96  1.00  1.00  \n",
      "[272]  loss: 0.00001  accuracy: 0.91  1.00  1.00  \n",
      "[273]  loss: 0.00001  accuracy: 0.93  1.00  1.00  \n",
      "[274]  loss: 0.00001  accuracy: 0.94  1.00  1.00  \n",
      "[275]  loss: 0.00001  accuracy: 0.94  1.00  1.00  \n",
      "[276]  loss: 0.00001  accuracy: 0.96  1.00  1.00  \n",
      "[277]  loss: 0.00001  accuracy: 0.94  1.00  1.00  \n",
      "[278]  loss: 0.00001  accuracy: 0.94  1.00  1.00  \n",
      "[279]  loss: 0.00001  accuracy: 0.94  1.00  1.00  \n",
      "[280]  loss: 0.00001  accuracy: 0.91  1.00  1.00  \n",
      "[281]  loss: 0.00001  accuracy: 0.94  1.00  1.00  \n",
      "[282]  loss: 0.00001  accuracy: 0.94  1.00  1.00  \n",
      "[283]  loss: 0.00001  accuracy: 0.95  1.00  1.00  \n",
      "[284]  loss: 0.00001  accuracy: 0.94  1.00  1.00  \n",
      "[285]  loss: 0.00001  accuracy: 0.94  1.00  1.00  \n",
      "[286]  loss: 0.00001  accuracy: 0.94  1.00  1.00  \n",
      "[287]  loss: 0.00001  accuracy: 0.92  1.00  1.00  \n",
      "[288]  loss: 0.00001  accuracy: 0.95  1.00  1.00  \n",
      "[289]  loss: 0.00001  accuracy: 0.95  1.00  1.00  \n",
      "[290]  loss: 0.00001  accuracy: 0.95  1.00  1.00  \n",
      "[291]  loss: 0.00001  accuracy: 0.95  1.00  1.00  \n",
      "[292]  loss: 0.00001  accuracy: 0.92  1.00  1.00  \n",
      "[293]  loss: 0.00001  accuracy: 0.94  1.00  1.00  \n",
      "[294]  loss: 0.00001  accuracy: 0.96  1.00  1.00  \n",
      "[295]  loss: 0.00001  accuracy: 0.96  1.00  1.00  \n",
      "[296]  loss: 0.00001  accuracy: 0.95  1.00  1.00  \n",
      "[297]  loss: 0.00001  accuracy: 0.93  1.00  1.00  \n",
      "[298]  loss: 0.00001  accuracy: 0.94  1.00  1.00  \n",
      "[299]  loss: 0.00001  accuracy: 0.95  1.00  1.00  \n",
      "\n"
     ]
    }
   ],
   "source": [
    "data.train_model(net, n_epochs = 300, lr=0.001, optim = 'Adam',\n",
    "                 accuracy_func = [accuracy, plusminusone, plusminustwo],\n",
    "                 loss_monitoring = running_loss_data,\n",
    "                 accuracy_monitoring = accuracy_data)"
   ]
  },
  {
   "cell_type": "code",
   "execution_count": null,
   "metadata": {},
   "outputs": [],
   "source": [
    "# torch.save(net, 'models/Descartes_improved.pt')"
   ]
  },
  {
   "cell_type": "code",
   "execution_count": null,
   "metadata": {},
   "outputs": [
    {
     "name": "stdout",
     "output_type": "stream",
     "text": [
      "Number of mini-batches stored: 100\n",
      "Number of mini-batches created: 3748\n"
     ]
    }
   ],
   "source": [
    "data.info()"
   ]
  },
  {
   "cell_type": "code",
   "execution_count": null,
   "metadata": {},
   "outputs": [
    {
     "data": {
      "image/png": "[encoded data removed]",
      "text/plain": [
       "<Figure size 432x288 with 1 Axes>"
      ]
     },
     "metadata": {
      "needs_background": "light"
     },
     "output_type": "display_data"
    }
   ],
   "source": [
    "plt.plot(running_loss_data, color='red')\n",
    "plt.xlabel('Epochs')\n",
    "plt.xlim(0, 600)\n",
    "plt.ylabel('Loss function (MSE)')\n",
    "plt.yscale('log')\n",
    "# plt.savefig('blog/Part_4_Counting_images/Descartes_loss.png', bbox_inches='tight')\n",
    "plt.show()"
   ]
  },
  {
   "cell_type": "code",
   "execution_count": null,
   "metadata": {},
   "outputs": [],
   "source": [
    "accuracy_data = np.array(accuracy_data)"
   ]
  },
  {
   "cell_type": "code",
   "execution_count": null,
   "metadata": {},
   "outputs": [
    {
     "data": {
      "text/plain": [
       "array([[0.8751 , 0.9946 , 0.99955],\n",
       "       [0.60715, 0.85825, 0.9254 ],\n",
       "       [0.79235, 0.9828 , 0.99715],\n",
       "       [0.8636 , 0.9963 , 0.99945],\n",
       "       [0.862  , 0.9963 , 0.9994 ]])"
      ]
     },
     "execution_count": null,
     "metadata": {},
     "output_type": "execute_result"
    }
   ],
   "source": [
    "accuracy_data[295:300]"
   ]
  },
  {
   "cell_type": "code",
   "execution_count": null,
   "metadata": {},
   "outputs": [
    {
     "data": {
      "image/png": "[encoded data removed]",
      "text/plain": [
       "<Figure size 432x288 with 1 Axes>"
      ]
     },
     "metadata": {
      "needs_background": "light"
     },
     "output_type": "display_data"
    }
   ],
   "source": [
    "plt.plot(accuracy_data[:,2], color='lightblue')\n",
    "plt.plot(accuracy_data[:,1], color='blue')\n",
    "plt.plot(accuracy_data[:,0], color='darkblue')\n",
    "plt.xlabel('Epochs')\n",
    "plt.ylabel('Accuracy')\n",
    "plt.xlim(0, 600)\n",
    "plt.ylim(0, 1)\n",
    "# plt.savefig('blog/Part_4_Counting_images/Descartes_accuracy.png', bbox_inches='tight')\n",
    "plt.show()"
   ]
  },
  {
   "cell_type": "code",
   "execution_count": null,
   "metadata": {},
   "outputs": [],
   "source": [
    "error_data = 1.0 - accuracy_data"
   ]
  },
  {
   "cell_type": "code",
   "execution_count": null,
   "metadata": {},
   "outputs": [
    {
     "data": {
      "image/png": "[encoded data removed]",
      "text/plain": [
       "<Figure size 432x288 with 1 Axes>"
      ]
     },
     "metadata": {
      "needs_background": "light"
     },
     "output_type": "display_data"
    }
   ],
   "source": [
    "plt.plot(error_data[:,2], color='lightgreen')\n",
    "plt.plot(error_data[:,1], color='green')\n",
    "plt.plot(error_data[:,0], color='darkgreen')\n",
    "plt.xlabel('Epochs')\n",
    "plt.xlim(0, 600)\n",
    "plt.ylabel('Error')\n",
    "plt.ylim(0.001,1)\n",
    "plt.yscale('log')\n",
    "plt.show()"
   ]
  },
  {
   "cell_type": "markdown",
   "metadata": {},
   "source": [
    "## Loading the model\n",
    "\n",
    "Once the model has been trained, this can be used to load its state dictionary:"
   ]
  },
  {
   "cell_type": "code",
   "execution_count": null,
   "metadata": {},
   "outputs": [
    {
     "data": {
      "text/plain": [
       "Sequential(\n",
       "  (0): Conv2d(1, 20, kernel_size=(3, 3), stride=(3, 3), padding=(1, 1))\n",
       "  (1): ReLU()\n",
       "  (2): Conv2d(20, 40, kernel_size=(2, 2), stride=(1, 1))\n",
       "  (3): ReLU()\n",
       "  (4): Conv2d(40, 40, kernel_size=(2, 2), stride=(1, 1))\n",
       "  (5): ReLU()\n",
       "  (6): Conv2d(40, 40, kernel_size=(2, 2), stride=(1, 1))\n",
       "  (7): ReLU()\n",
       "  (8): Conv2d(40, 40, kernel_size=(2, 2), stride=(1, 1))\n",
       "  (9): ReLU()\n",
       "  (10): AdaptiveAvgPool2d(output_size=1)\n",
       "  (11): Flatten(start_dim=1, end_dim=-1)\n",
       "  (12): Linear(in_features=40, out_features=20, bias=True)\n",
       "  (13): ReLU()\n",
       "  (14): Linear(in_features=20, out_features=10, bias=True)\n",
       "  (15): ReLU()\n",
       "  (16): Linear(in_features=10, out_features=1, bias=True)\n",
       ")"
      ]
     },
     "execution_count": null,
     "metadata": {},
     "output_type": "execute_result"
    }
   ],
   "source": [
    "net2 = torch.load('models/Descartes_improved.pt')\n",
    "net2.eval()"
   ]
  },
  {
   "cell_type": "markdown",
   "metadata": {},
   "source": [
    "## Validation"
   ]
  },
  {
   "cell_type": "code",
   "execution_count": null,
   "metadata": {},
   "outputs": [],
   "source": [
    "x, y = generate_batch(1000)"
   ]
  },
  {
   "cell_type": "code",
   "execution_count": null,
   "metadata": {},
   "outputs": [],
   "source": [
    "y_preds = net2(x).data"
   ]
  },
  {
   "cell_type": "code",
   "execution_count": null,
   "metadata": {},
   "outputs": [
    {
     "data": {
      "text/plain": [
       "tensor(0.9390)"
      ]
     },
     "execution_count": null,
     "metadata": {},
     "output_type": "execute_result"
    }
   ],
   "source": [
    "accuracy(y_preds, y)"
   ]
  },
  {
   "cell_type": "code",
   "execution_count": null,
   "metadata": {},
   "outputs": [
    {
     "data": {
      "text/plain": [
       "tensor(1.)"
      ]
     },
     "execution_count": null,
     "metadata": {},
     "output_type": "execute_result"
    }
   ],
   "source": [
    "plusminusone(y_preds, y)"
   ]
  },
  {
   "cell_type": "code",
   "execution_count": null,
   "metadata": {},
   "outputs": [
    {
     "data": {
      "text/plain": [
       "tensor(1.)"
      ]
     },
     "execution_count": null,
     "metadata": {},
     "output_type": "execute_result"
    }
   ],
   "source": [
    "plusminustwo(y_preds, y)"
   ]
  },
  {
   "cell_type": "code",
   "execution_count": null,
   "metadata": {},
   "outputs": [
    {
     "data": {
      "text/plain": [
       "(tensor(0.6334), tensor(0.1834), tensor(0.6343), tensor(0.1837))"
      ]
     },
     "execution_count": null,
     "metadata": {},
     "output_type": "execute_result"
    }
   ],
   "source": [
    "y.mean(), y.std(), y_preds.mean(), y_preds.std()"
   ]
  },
  {
   "cell_type": "code",
   "execution_count": null,
   "metadata": {},
   "outputs": [
    {
     "data": {
      "text/plain": [
       "(tensor([[12.0000],\n",
       "         [24.0000],\n",
       "         [17.0000],\n",
       "         [ 5.0000],\n",
       "         [ 8.0000],\n",
       "         [22.0000],\n",
       "         [21.0000],\n",
       "         [ 2.0000],\n",
       "         [ 7.0000],\n",
       "         [ 5.0000]]),\n",
       " tensor([[11.9209],\n",
       "         [24.2866],\n",
       "         [17.3069],\n",
       "         [ 4.9040],\n",
       "         [ 8.1319],\n",
       "         [21.9331],\n",
       "         [21.0416],\n",
       "         [ 2.0186],\n",
       "         [ 7.0359],\n",
       "         [ 4.9282]]))"
      ]
     },
     "execution_count": null,
     "metadata": {},
     "output_type": "execute_result"
    }
   ],
   "source": [
    "n = 5.0 * y / (1.0 - y)\n",
    "n_preds = 5.0 * y_preds / (1.0 - y_preds)\n",
    "n[0:10], n_preds[0:10]"
   ]
  },
  {
   "cell_type": "code",
   "execution_count": null,
   "metadata": {},
   "outputs": [],
   "source": [
    "mistakes = [i for i in range(y.shape[0])\n",
    "            if torch.abs(n[i] - n_preds[i]) >= 0.5]"
   ]
  },
  {
   "cell_type": "code",
   "execution_count": null,
   "metadata": {},
   "outputs": [
    {
     "data": {
      "image/png": "[encoded data removed]",
      "text/plain": [
       "<PIL.Image.Image image mode=1 size=94x94 at 0x7F75A8DBCC70>"
      ]
     },
     "execution_count": null,
     "metadata": {},
     "output_type": "execute_result"
    }
   ],
   "source": [
    "MSvisualize(x[mistakes[0]])"
   ]
  },
  {
   "cell_type": "code",
   "execution_count": null,
   "metadata": {},
   "outputs": [
    {
     "data": {
      "text/plain": [
       "[tensor([27.]),\n",
       " tensor([25.0000]),\n",
       " tensor([16.0000]),\n",
       " tensor([27.]),\n",
       " tensor([27.]),\n",
       " tensor([17.0000]),\n",
       " tensor([26.0000]),\n",
       " tensor([26.0000]),\n",
       " tensor([28.0000]),\n",
       " tensor([28.0000]),\n",
       " tensor([28.0000]),\n",
       " tensor([25.0000]),\n",
       " tensor([17.0000]),\n",
       " tensor([28.0000]),\n",
       " tensor([27.]),\n",
       " tensor([17.0000]),\n",
       " tensor([27.]),\n",
       " tensor([16.0000]),\n",
       " tensor([28.0000]),\n",
       " tensor([26.0000]),\n",
       " tensor([27.]),\n",
       " tensor([16.0000]),\n",
       " tensor([18.]),\n",
       " tensor([27.]),\n",
       " tensor([28.0000]),\n",
       " tensor([28.0000]),\n",
       " tensor([16.0000]),\n",
       " tensor([27.]),\n",
       " tensor([27.]),\n",
       " tensor([24.0000]),\n",
       " tensor([24.0000]),\n",
       " tensor([28.0000]),\n",
       " tensor([27.]),\n",
       " tensor([27.]),\n",
       " tensor([27.]),\n",
       " tensor([28.0000]),\n",
       " tensor([28.0000]),\n",
       " tensor([28.0000]),\n",
       " tensor([27.]),\n",
       " tensor([27.]),\n",
       " tensor([28.0000]),\n",
       " tensor([16.0000]),\n",
       " tensor([28.0000]),\n",
       " tensor([26.0000]),\n",
       " tensor([27.]),\n",
       " tensor([28.0000]),\n",
       " tensor([28.0000]),\n",
       " tensor([25.0000]),\n",
       " tensor([17.0000]),\n",
       " tensor([28.0000]),\n",
       " tensor([16.0000]),\n",
       " tensor([16.0000]),\n",
       " tensor([17.0000]),\n",
       " tensor([27.]),\n",
       " tensor([28.0000]),\n",
       " tensor([16.0000]),\n",
       " tensor([26.0000]),\n",
       " tensor([28.0000]),\n",
       " tensor([28.0000]),\n",
       " tensor([24.0000]),\n",
       " tensor([28.0000])]"
      ]
     },
     "execution_count": null,
     "metadata": {},
     "output_type": "execute_result"
    }
   ],
   "source": [
    "[n[i] for i in mistakes]"
   ]
  },
  {
   "cell_type": "markdown",
   "metadata": {},
   "source": [
    "## Inference\n",
    "\n",
    "To verify how good the model is, we can test it on a type of grid that it has never seen before:"
   ]
  },
  {
   "cell_type": "code",
   "execution_count": null,
   "metadata": {},
   "outputs": [],
   "source": [
    "game = NewGame('pipe')\n",
    "x = torch.tensor(game.grid.image()).float().unsqueeze(0).unsqueeze(0)\n",
    "n = len(game.moves)"
   ]
  },
  {
   "cell_type": "code",
   "execution_count": null,
   "metadata": {},
   "outputs": [
    {
     "data": {
      "image/png": "[encoded data removed]",
      "text/plain": [
       "<PIL.Image.Image image mode=1 size=94x94 at 0x7F75A9DB1910>"
      ]
     },
     "execution_count": null,
     "metadata": {},
     "output_type": "execute_result"
    }
   ],
   "source": [
    "MSvisualize(x)"
   ]
  },
  {
   "cell_type": "code",
   "execution_count": null,
   "metadata": {},
   "outputs": [
    {
     "data": {
      "text/plain": [
       "24"
      ]
     },
     "execution_count": null,
     "metadata": {},
     "output_type": "execute_result"
    }
   ],
   "source": [
    "n"
   ]
  },
  {
   "cell_type": "code",
   "execution_count": null,
   "metadata": {},
   "outputs": [
    {
     "data": {
      "text/plain": [
       "tensor([[23.3625]])"
      ]
     },
     "execution_count": null,
     "metadata": {},
     "output_type": "execute_result"
    }
   ],
   "source": [
    "y = net2(x).data\n",
    "5.0 * y / (1.0 - y)"
   ]
  },
  {
   "cell_type": "code",
   "execution_count": null,
   "metadata": {},
   "outputs": [],
   "source": [
    "game = game.play(depth = 10)\n",
    "x = torch.tensor(game.grid.image()).float().unsqueeze(0).unsqueeze(0)\n",
    "n = len(game.moves)"
   ]
  },
  {
   "cell_type": "code",
   "execution_count": null,
   "metadata": {},
   "outputs": [
    {
     "data": {
      "image/png": "[encoded data removed]",
      "text/plain": [
       "<PIL.Image.Image image mode=1 size=94x94 at 0x7F75A8CF9460>"
      ]
     },
     "execution_count": null,
     "metadata": {},
     "output_type": "execute_result"
    }
   ],
   "source": [
    "MSvisualize(x)"
   ]
  },
  {
   "cell_type": "code",
   "execution_count": null,
   "metadata": {},
   "outputs": [
    {
     "data": {
      "text/plain": [
       "5"
      ]
     },
     "execution_count": null,
     "metadata": {},
     "output_type": "execute_result"
    }
   ],
   "source": [
    "n"
   ]
  },
  {
   "cell_type": "code",
   "execution_count": null,
   "metadata": {},
   "outputs": [
    {
     "data": {
      "text/plain": [
       "tensor([[4.7883]])"
      ]
     },
     "execution_count": null,
     "metadata": {},
     "output_type": "execute_result"
    }
   ],
   "source": [
    "y = net2(x).data\n",
    "5.0 * y / (1.0 - y)"
   ]
  },
  {
   "cell_type": "code",
   "execution_count": null,
   "metadata": {},
   "outputs": [],
   "source": []
  }
 ],
 "metadata": {
  "kernelspec": {
   "display_name": "Python 3",
   "language": "python",
   "name": "python3"
  }
 },
 "nbformat": 4,
 "nbformat_minor": 4
}
