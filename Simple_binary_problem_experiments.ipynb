{
 "cells": [
  {
   "cell_type": "markdown",
   "metadata": {},
   "source": [
    "# A simple binary problem: is there a legal move or not?\n",
    "\n",
    "This is a simplified version in which the model only answers the question whether there is at least one legal move or not."
   ]
  },
  {
   "cell_type": "code",
   "execution_count": null,
   "metadata": {},
   "outputs": [],
   "source": [
    "from MorpionSolitaire import *\n",
    "from DeepLearningMS import *"
   ]
  },
  {
   "cell_type": "code",
   "execution_count": null,
   "metadata": {},
   "outputs": [],
   "source": [
    "from multiprocess import Pool\n",
    "pool = Pool()"
   ]
  },
  {
   "cell_type": "markdown",
   "metadata": {},
   "source": [
    "## Data generation"
   ]
  },
  {
   "cell_type": "markdown",
   "metadata": {},
   "source": [
    "This function plays one game at random until there are no more moves, stores the grid as `grid1`, then rewinds the game to an interemediate stage, and stores the resulting grid as `grid2`. The output of the function is a tensor containing the two grids. By construction the first grid has no legal moves and the second one has at least one legal move.\n",
    "\n",
    "1/3 of the time the game is taken back to an arbitrary intermediate step.\n",
    "The other 2/3 of the time we rewind the game by only one step, so that the network gets used to identify a single allowed move. If we did not do that the training process would result in a relatively high accuracy by only identifying some types of allowed moves instead of all of them."
   ]
  },
  {
   "cell_type": "code",
   "execution_count": null,
   "metadata": {},
   "outputs": [],
   "source": [
    "def play_one_game(host = 0): # dummy argument needed for passing to pool.map\n",
    "    game = NewGame('cross').play()\n",
    "    grid1 = game.grid.image()\n",
    "    if np.random.randint(3) == 0:\n",
    "        game = game.unplay(np.random.randint(game.score - 1) + 2)\n",
    "    else:\n",
    "        game = game.unplay(1)\n",
    "    grid2 = game.grid.image()\n",
    "    return np.stack((grid1, grid2))"
   ]
  },
  {
   "cell_type": "markdown",
   "metadata": {},
   "source": [
    "Mini-batches contains a certain number of grids obtained in the way described above (computed in parallel to gain time), as well as a labels (0 for no legal moves, 1 for at least one legal move)."
   ]
  },
  {
   "cell_type": "code",
   "execution_count": null,
   "metadata": {},
   "outputs": [],
   "source": [
    "def generate_batch(batch_size = 100):\n",
    "    x = torch.tensor(np.concatenate(pool.map(play_one_game, range(batch_size // 2)))).float().unsqueeze(1)\n",
    "    y = torch.tensor([0.,1.]).repeat(batch_size // 2).unsqueeze(1)\n",
    "    return x, y"
   ]
  },
  {
   "cell_type": "code",
   "execution_count": null,
   "metadata": {},
   "outputs": [],
   "source": [
    "# def generate_batch(batch_size = 100):\n",
    "#     x = []\n",
    "#     for _ in range(batch_size // 2):\n",
    "#         x.append(play_one_game())\n",
    "#     x = torch.tensor(np.concatenate(x)).float().unsqueeze(1)\n",
    "#     y = torch.tensor([0.,1.]).repeat(batch_size // 2).unsqueeze(1)\n",
    "#     return x, y"
   ]
  },
  {
   "cell_type": "markdown",
   "metadata": {},
   "source": [
    "20,000 grids and labels computed in this way are saved once and for all:"
   ]
  },
  {
   "cell_type": "code",
   "execution_count": null,
   "metadata": {},
   "outputs": [],
   "source": [
    "# grids = np.concatenate(pool.map(play_one_game, range(10000)))\n",
    "# np.save('data/simple_problem_grids.npy', grids)\n",
    "# grids.shape"
   ]
  },
  {
   "cell_type": "code",
   "execution_count": null,
   "metadata": {},
   "outputs": [],
   "source": [
    "# labels = np.zeros(20000, dtype=bool)\n",
    "# labels[1::2] = True\n",
    "# np.save('data/simple_problem_labels.npy', labels)\n",
    "# labels.shape"
   ]
  },
  {
   "cell_type": "markdown",
   "metadata": {},
   "source": [
    "## Data frame"
   ]
  },
  {
   "cell_type": "code",
   "execution_count": null,
   "metadata": {},
   "outputs": [],
   "source": [
    "# data = MSDataFrame(generate_batch, repeat = 1000, length = 200)\n",
    "# data.info()"
   ]
  },
  {
   "cell_type": "code",
   "execution_count": null,
   "metadata": {},
   "outputs": [
    {
     "name": "stdout",
     "output_type": "stream",
     "text": [
      "Number of mini-batches stored: 100\n",
      "Number of mini-batches created: 0\n"
     ]
    }
   ],
   "source": [
    "data = MSDataFrame(batch_size = 200, length = 100,\n",
    "                   batch_fct = generate_batch, repeat = 16,\n",
    "                   data = 'data/simple_problem_grids.npy',\n",
    "                   labels = 'data/simple_problem_labels.npy')\n",
    "data.info()"
   ]
  },
  {
   "cell_type": "code",
   "execution_count": null,
   "metadata": {},
   "outputs": [],
   "source": [
    "x, y = data.data[0]"
   ]
  },
  {
   "cell_type": "code",
   "execution_count": null,
   "metadata": {},
   "outputs": [
    {
     "data": {
      "image/png": "[encoded data removed]",
      "text/plain": [
       "<PIL.Image.Image image mode=1 size=94x94 at 0x7F6B4265BFD0>"
      ]
     },
     "execution_count": null,
     "metadata": {},
     "output_type": "execute_result"
    }
   ],
   "source": [
    "MSvisualize(x[0])"
   ]
  },
  {
   "cell_type": "code",
   "execution_count": null,
   "metadata": {},
   "outputs": [
    {
     "data": {
      "text/plain": [
       "tensor([0.])"
      ]
     },
     "execution_count": null,
     "metadata": {},
     "output_type": "execute_result"
    }
   ],
   "source": [
    "y[0]"
   ]
  },
  {
   "cell_type": "code",
   "execution_count": null,
   "metadata": {},
   "outputs": [
    {
     "data": {
      "image/png": "[encoded data removed]",
      "text/plain": [
       "<PIL.Image.Image image mode=1 size=94x94 at 0x7F6B4265BC10>"
      ]
     },
     "execution_count": null,
     "metadata": {},
     "output_type": "execute_result"
    }
   ],
   "source": [
    "MSvisualize(x[1])"
   ]
  },
  {
   "cell_type": "code",
   "execution_count": null,
   "metadata": {},
   "outputs": [
    {
     "data": {
      "text/plain": [
       "tensor([1.])"
      ]
     },
     "execution_count": null,
     "metadata": {},
     "output_type": "execute_result"
    }
   ],
   "source": [
    "y[1]"
   ]
  },
  {
   "cell_type": "code",
   "execution_count": null,
   "metadata": {},
   "outputs": [
    {
     "data": {
      "image/png": "[encoded data removed]",
      "text/plain": [
       "<PIL.Image.Image image mode=1 size=94x94 at 0x7F6B40DC0F40>"
      ]
     },
     "execution_count": null,
     "metadata": {},
     "output_type": "execute_result"
    }
   ],
   "source": [
    "MSvisualize(x[1]-x[0])"
   ]
  },
  {
   "cell_type": "markdown",
   "metadata": {},
   "source": [
    "## Accuracy function"
   ]
  },
  {
   "cell_type": "code",
   "execution_count": null,
   "metadata": {},
   "outputs": [],
   "source": [
    "def accuracy(outputs, labels):\n",
    "    return ((outputs > 0.5) == labels).float().mean()"
   ]
  },
  {
   "cell_type": "markdown",
   "metadata": {},
   "source": [
    "## Model"
   ]
  },
  {
   "cell_type": "code",
   "execution_count": null,
   "metadata": {},
   "outputs": [],
   "source": [
    "# net = torch.nn.Sequential(\n",
    "#     torch.nn.Conv2d(1, 5, stride = 3, kernel_size = 3, padding = 1, bias = False), # output 32 x 32 pixels\n",
    "#     torch.nn.Conv2d(5, 40, stride = 1, kernel_size = 5, padding = 2), # output 32 x 32 pixels\n",
    "#     torch.nn.ReLU(),\n",
    "#     torch.nn.Conv2d(40, 10, stride = 1, kernel_size = 1, padding = 0), # output 32 x 32 pixels\n",
    "#     torch.nn.AdaptiveMaxPool2d(1),\n",
    "#     torch.nn.Flatten(),\n",
    "#     torch.nn.Linear(10, 3),\n",
    "#     torch.nn.ReLU(),\n",
    "#     torch.nn.Linear(3, 1)\n",
    "# )"
   ]
  },
  {
   "cell_type": "markdown",
   "metadata": {},
   "source": [
    "Set the first layer to be non-trainable, and initialize to nice values:"
   ]
  },
  {
   "cell_type": "code",
   "execution_count": null,
   "metadata": {},
   "outputs": [],
   "source": [
    "# for param in net.parameters():\n",
    "#     firstlayer = param\n",
    "#     break\n",
    "# firstlayer.requires_grad = False\n",
    "# for c in range(5):\n",
    "#     firstlayer[c,0] = torch.zeros(3,3)\n",
    "# firstlayer[0,0,1,1] = 1.0\n",
    "# firstlayer[1,0,0,1] = 1.0\n",
    "# firstlayer[2,0,1,0] = 1.0\n",
    "# firstlayer[3,0,0,0] = 1.0\n",
    "# firstlayer[4,0,0,2] = 1.0\n",
    "# firstlayer"
   ]
  },
  {
   "cell_type": "code",
   "execution_count": null,
   "metadata": {},
   "outputs": [],
   "source": [
    "net = torch.nn.Sequential(\n",
    "    torch.nn.Conv2d(1, 20, stride = 3, kernel_size = 3, padding = 1), # output 32 x 32 pixels\n",
    "    torch.nn.ReLU(),\n",
    "    torch.nn.Conv2d(20, 40, stride = 1, kernel_size = 2, padding = 0), # output 31 x 31 pixels\n",
    "    torch.nn.ReLU(),\n",
    "    torch.nn.Conv2d(40, 40, stride = 1, kernel_size = 2, padding = 0), # output 30 x 30 pixels\n",
    "    torch.nn.ReLU(),\n",
    "    torch.nn.Conv2d(40, 40, stride = 1, kernel_size = 2, padding = 0), # output 29 x 29 pixels\n",
    "    torch.nn.ReLU(),\n",
    "    torch.nn.Conv2d(40, 10, stride = 1, kernel_size = 2, padding = 0), # output 28 x 28 pixels\n",
    "    torch.nn.AdaptiveMaxPool2d(1),\n",
    "    torch.nn.Flatten(),\n",
    "    torch.nn.Linear(10, 3),\n",
    "    torch.nn.ReLU(),\n",
    "    torch.nn.Linear(3, 1)\n",
    ")"
   ]
  },
  {
   "cell_type": "code",
   "execution_count": null,
   "metadata": {},
   "outputs": [
    {
     "data": {
      "text/plain": [
       "torch.Size([200, 1])"
      ]
     },
     "execution_count": null,
     "metadata": {},
     "output_type": "execute_result"
    }
   ],
   "source": [
    "y_pred = net(x)\n",
    "y_pred.shape"
   ]
  },
  {
   "cell_type": "code",
   "execution_count": null,
   "metadata": {},
   "outputs": [
    {
     "data": {
      "text/plain": [
       "tensor(0.5000)"
      ]
     },
     "execution_count": null,
     "metadata": {},
     "output_type": "execute_result"
    }
   ],
   "source": [
    "accuracy(y_pred, y)"
   ]
  },
  {
   "cell_type": "markdown",
   "metadata": {},
   "source": [
    "## Training"
   ]
  },
  {
   "cell_type": "code",
   "execution_count": null,
   "metadata": {},
   "outputs": [],
   "source": [
    "running_loss_data = []\n",
    "accuracy_data = []"
   ]
  },
  {
   "cell_type": "code",
   "execution_count": null,
   "metadata": {},
   "outputs": [
    {
     "data": {
      "application/vnd.jupyter.widget-view+json": {
       "model_id": "0fb44c1991044b669f45b08e7a1787d8",
       "version_major": 2,
       "version_minor": 0
      },
      "text/plain": [
       "HBox(children=(HTML(value=''), FloatProgress(value=0.0, max=200.0), HTML(value='')))"
      ]
     },
     "metadata": {},
     "output_type": "display_data"
    },
    {
     "name": "stderr",
     "output_type": "stream",
     "text": [
      "/home/marc/anaconda3/lib/python3.8/site-packages/torch/autograd/__init__.py:130: UserWarning: CUDA initialization: Found no NVIDIA driver on your system. Please check that you have an NVIDIA GPU and installed a driver from http://www.nvidia.com/Download/index.aspx (Triggered internally at  /pytorch/c10/cuda/CUDAFunctions.cpp:100.)\n",
      "  Variable._execution_engine.run_backward(\n"
     ]
    },
    {
     "name": "stdout",
     "output_type": "stream",
     "text": [
      "[0]  loss: 0.318   accuracy: 0.50\n",
      "[1]  loss: 0.250   accuracy: 0.51\n",
      "[2]  loss: 0.250   accuracy: 0.57\n",
      "[3]  loss: 0.250   accuracy: 0.58\n",
      "[4]  loss: 0.250   accuracy: 0.58\n",
      "[5]  loss: 0.250   accuracy: 0.58\n",
      "[6]  loss: 0.249   accuracy: 0.58\n",
      "[7]  loss: 0.249   accuracy: 0.58\n",
      "[8]  loss: 0.248   accuracy: 0.57\n",
      "[9]  loss: 0.245   accuracy: 0.57\n",
      "[10]  loss: 0.241   accuracy: 0.57\n",
      "[11]  loss: 0.240   accuracy: 0.58\n",
      "[12]  loss: 0.239   accuracy: 0.58\n",
      "[13]  loss: 0.239   accuracy: 0.58\n",
      "[14]  loss: 0.239   accuracy: 0.57\n",
      "[15]  loss: 0.238   accuracy: 0.57\n",
      "[16]  loss: 0.238   accuracy: 0.57\n",
      "[17]  loss: 0.236   accuracy: 0.57\n",
      "[18]  loss: 0.233   accuracy: 0.58\n",
      "[19]  loss: 0.231   accuracy: 0.58\n",
      "[20]  loss: 0.230   accuracy: 0.59\n",
      "[21]  loss: 0.229   accuracy: 0.59\n",
      "[22]  loss: 0.230   accuracy: 0.59\n",
      "[23]  loss: 0.227   accuracy: 0.60\n",
      "[24]  loss: 0.228   accuracy: 0.59\n",
      "[25]  loss: 0.226   accuracy: 0.60\n",
      "[26]  loss: 0.228   accuracy: 0.59\n",
      "[27]  loss: 0.226   accuracy: 0.60\n",
      "[28]  loss: 0.227   accuracy: 0.60\n",
      "[29]  loss: 0.225   accuracy: 0.61\n",
      "[30]  loss: 0.227   accuracy: 0.60\n",
      "[31]  loss: 0.225   accuracy: 0.60\n",
      "[32]  loss: 0.226   accuracy: 0.60\n",
      "[33]  loss: 0.222   accuracy: 0.62\n",
      "[34]  loss: 0.222   accuracy: 0.62\n",
      "[35]  loss: 0.223   accuracy: 0.62\n",
      "[36]  loss: 0.224   accuracy: 0.61\n",
      "[37]  loss: 0.222   accuracy: 0.62\n",
      "[38]  loss: 0.222   accuracy: 0.62\n",
      "[39]  loss: 0.222   accuracy: 0.62\n",
      "[40]  loss: 0.223   accuracy: 0.61\n",
      "[41]  loss: 0.222   accuracy: 0.62\n",
      "[42]  loss: 0.224   accuracy: 0.62\n",
      "[43]  loss: 0.222   accuracy: 0.62\n",
      "[44]  loss: 0.223   accuracy: 0.62\n",
      "[45]  loss: 0.220   accuracy: 0.63\n",
      "[46]  loss: 0.220   accuracy: 0.63\n",
      "[47]  loss: 0.219   accuracy: 0.63\n",
      "[48]  loss: 0.222   accuracy: 0.62\n",
      "[49]  loss: 0.219   accuracy: 0.63\n",
      "[50]  loss: 0.219   accuracy: 0.63\n",
      "[51]  loss: 0.217   accuracy: 0.64\n",
      "[52]  loss: 0.223   accuracy: 0.62\n",
      "[53]  loss: 0.217   accuracy: 0.63\n",
      "[54]  loss: 0.217   accuracy: 0.63\n",
      "[55]  loss: 0.217   accuracy: 0.64\n",
      "[56]  loss: 0.216   accuracy: 0.64\n",
      "[57]  loss: 0.216   accuracy: 0.64\n",
      "[58]  loss: 0.214   accuracy: 0.64\n",
      "[59]  loss: 0.213   accuracy: 0.64\n",
      "[60]  loss: 0.213   accuracy: 0.64\n",
      "[61]  loss: 0.212   accuracy: 0.65\n",
      "[62]  loss: 0.213   accuracy: 0.64\n",
      "[63]  loss: 0.213   accuracy: 0.65\n",
      "[64]  loss: 0.210   accuracy: 0.66\n",
      "[65]  loss: 0.212   accuracy: 0.65\n",
      "[66]  loss: 0.210   accuracy: 0.66\n",
      "[67]  loss: 0.210   accuracy: 0.66\n",
      "[68]  loss: 0.209   accuracy: 0.65\n",
      "[69]  loss: 0.211   accuracy: 0.65\n",
      "[70]  loss: 0.207   accuracy: 0.66\n",
      "[71]  loss: 0.208   accuracy: 0.66\n",
      "[72]  loss: 0.205   accuracy: 0.67\n",
      "[73]  loss: 0.204   accuracy: 0.67\n",
      "[74]  loss: 0.202   accuracy: 0.68\n",
      "[75]  loss: 0.204   accuracy: 0.67\n",
      "[76]  loss: 0.200   accuracy: 0.68\n",
      "[77]  loss: 0.201   accuracy: 0.68\n",
      "[78]  loss: 0.199   accuracy: 0.68\n",
      "[79]  loss: 0.198   accuracy: 0.69\n",
      "[80]  loss: 0.199   accuracy: 0.69\n",
      "[81]  loss: 0.196   accuracy: 0.69\n",
      "[82]  loss: 0.193   accuracy: 0.70\n",
      "[83]  loss: 0.191   accuracy: 0.70\n",
      "[84]  loss: 0.186   accuracy: 0.71\n",
      "[85]  loss: 0.186   accuracy: 0.72\n",
      "[86]  loss: 0.184   accuracy: 0.72\n",
      "[87]  loss: 0.182   accuracy: 0.72\n",
      "[88]  loss: 0.178   accuracy: 0.73\n",
      "[89]  loss: 0.175   accuracy: 0.74\n",
      "[90]  loss: 0.175   accuracy: 0.74\n",
      "[91]  loss: 0.174   accuracy: 0.74\n",
      "[92]  loss: 0.171   accuracy: 0.75\n",
      "[93]  loss: 0.169   accuracy: 0.75\n",
      "[94]  loss: 0.171   accuracy: 0.74\n",
      "[95]  loss: 0.168   accuracy: 0.75\n",
      "[96]  loss: 0.168   accuracy: 0.75\n",
      "[97]  loss: 0.167   accuracy: 0.75\n",
      "[98]  loss: 0.167   accuracy: 0.75\n",
      "[99]  loss: 0.166   accuracy: 0.76\n",
      "[100]  loss: 0.165   accuracy: 0.76\n",
      "[101]  loss: 0.165   accuracy: 0.75\n",
      "[102]  loss: 0.164   accuracy: 0.76\n",
      "[103]  loss: 0.164   accuracy: 0.76\n",
      "[104]  loss: 0.163   accuracy: 0.76\n",
      "[105]  loss: 0.162   accuracy: 0.76\n",
      "[106]  loss: 0.159   accuracy: 0.77\n",
      "[107]  loss: 0.158   accuracy: 0.77\n",
      "[108]  loss: 0.156   accuracy: 0.77\n",
      "[109]  loss: 0.157   accuracy: 0.77\n",
      "[110]  loss: 0.156   accuracy: 0.77\n",
      "[111]  loss: 0.151   accuracy: 0.78\n",
      "[112]  loss: 0.153   accuracy: 0.78\n",
      "[113]  loss: 0.149   accuracy: 0.78\n",
      "[114]  loss: 0.150   accuracy: 0.78\n",
      "[115]  loss: 0.147   accuracy: 0.79\n",
      "[116]  loss: 0.147   accuracy: 0.79\n",
      "[117]  loss: 0.145   accuracy: 0.79\n",
      "[118]  loss: 0.147   accuracy: 0.79\n",
      "[119]  loss: 0.141   accuracy: 0.80\n",
      "[120]  loss: 0.144   accuracy: 0.80\n",
      "[121]  loss: 0.140   accuracy: 0.81\n",
      "[122]  loss: 0.141   accuracy: 0.80\n",
      "[123]  loss: 0.137   accuracy: 0.81\n",
      "[124]  loss: 0.138   accuracy: 0.81\n",
      "[125]  loss: 0.138   accuracy: 0.81\n",
      "[126]  loss: 0.136   accuracy: 0.81\n",
      "[127]  loss: 0.128   accuracy: 0.83\n",
      "[128]  loss: 0.126   accuracy: 0.84\n",
      "[129]  loss: 0.119   accuracy: 0.85\n",
      "[130]  loss: 0.114   accuracy: 0.86\n",
      "[131]  loss: 0.112   accuracy: 0.86\n",
      "[132]  loss: 0.110   accuracy: 0.87\n",
      "[133]  loss: 0.105   accuracy: 0.88\n",
      "[134]  loss: 0.099   accuracy: 0.89\n",
      "[135]  loss: 0.096   accuracy: 0.89\n",
      "[136]  loss: 0.089   accuracy: 0.90\n",
      "[137]  loss: 0.087   accuracy: 0.91\n",
      "[138]  loss: 0.085   accuracy: 0.91\n",
      "[139]  loss: 0.086   accuracy: 0.91\n",
      "[140]  loss: 0.080   accuracy: 0.92\n",
      "[141]  loss: 0.083   accuracy: 0.91\n",
      "[142]  loss: 0.081   accuracy: 0.91\n",
      "[143]  loss: 0.076   accuracy: 0.92\n",
      "[144]  loss: 0.071   accuracy: 0.93\n",
      "[145]  loss: 0.067   accuracy: 0.94\n",
      "[146]  loss: 0.067   accuracy: 0.93\n",
      "[147]  loss: 0.075   accuracy: 0.92\n",
      "[148]  loss: 0.067   accuracy: 0.93\n",
      "[149]  loss: 0.057   accuracy: 0.95\n",
      "[150]  loss: 0.064   accuracy: 0.94\n",
      "[151]  loss: 0.062   accuracy: 0.94\n",
      "[152]  loss: 0.060   accuracy: 0.94\n",
      "[153]  loss: 0.054   accuracy: 0.95\n",
      "[154]  loss: 0.055   accuracy: 0.95\n",
      "[155]  loss: 0.050   accuracy: 0.95\n",
      "[156]  loss: 0.050   accuracy: 0.95\n",
      "[157]  loss: 0.045   accuracy: 0.96\n",
      "[158]  loss: 0.047   accuracy: 0.96\n",
      "[159]  loss: 0.043   accuracy: 0.96\n",
      "[160]  loss: 0.043   accuracy: 0.96\n",
      "[161]  loss: 0.040   accuracy: 0.96\n",
      "[162]  loss: 0.040   accuracy: 0.96\n",
      "[163]  loss: 0.036   accuracy: 0.97\n",
      "[164]  loss: 0.040   accuracy: 0.96\n",
      "[165]  loss: 0.037   accuracy: 0.96\n",
      "[166]  loss: 0.034   accuracy: 0.97\n",
      "[167]  loss: 0.033   accuracy: 0.97\n",
      "[168]  loss: 0.035   accuracy: 0.97\n",
      "[169]  loss: 0.034   accuracy: 0.97\n",
      "[170]  loss: 0.031   accuracy: 0.97\n",
      "[171]  loss: 0.032   accuracy: 0.97\n",
      "[172]  loss: 0.031   accuracy: 0.97\n",
      "[173]  loss: 0.034   accuracy: 0.97\n",
      "[174]  loss: 0.032   accuracy: 0.97\n",
      "[175]  loss: 0.032   accuracy: 0.97\n",
      "[176]  loss: 0.030   accuracy: 0.97\n",
      "[177]  loss: 0.032   accuracy: 0.97\n",
      "[178]  loss: 0.030   accuracy: 0.97\n",
      "[179]  loss: 0.031   accuracy: 0.97\n",
      "[180]  loss: 0.031   accuracy: 0.97\n",
      "[181]  loss: 0.032   accuracy: 0.97\n",
      "[182]  loss: 0.030   accuracy: 0.97\n",
      "[183]  loss: 0.029   accuracy: 0.97\n",
      "[184]  loss: 0.025   accuracy: 0.98\n",
      "[185]  loss: 0.026   accuracy: 0.97\n",
      "[186]  loss: 0.028   accuracy: 0.97\n",
      "[187]  loss: 0.028   accuracy: 0.97\n",
      "[188]  loss: 0.024   accuracy: 0.98\n",
      "[189]  loss: 0.024   accuracy: 0.98\n",
      "[190]  loss: 0.022   accuracy: 0.98\n",
      "[191]  loss: 0.021   accuracy: 0.98\n",
      "[192]  loss: 0.022   accuracy: 0.98\n",
      "[193]  loss: 0.021   accuracy: 0.98\n",
      "[194]  loss: 0.021   accuracy: 0.98\n",
      "[195]  loss: 0.019   accuracy: 0.98\n",
      "[196]  loss: 0.018   accuracy: 0.98\n",
      "[197]  loss: 0.017   accuracy: 0.99\n",
      "[198]  loss: 0.016   accuracy: 0.99\n",
      "[199]  loss: 0.015   accuracy: 0.99\n",
      "\n"
     ]
    }
   ],
   "source": [
    "data.train_model(net, n_epochs = 200, lr=0.01, accuracy_func = accuracy,\n",
    "                 loss_monitoring = running_loss_data,\n",
    "                 accuracy_monitoring = accuracy_data)"
   ]
  },
  {
   "cell_type": "code",
   "execution_count": null,
   "metadata": {},
   "outputs": [],
   "source": [
    "# torch.save(net, 'models/Descartes.pt')"
   ]
  },
  {
   "cell_type": "code",
   "execution_count": null,
   "metadata": {},
   "outputs": [
    {
     "name": "stdout",
     "output_type": "stream",
     "text": [
      "Number of mini-batches stored: 100\n",
      "Number of mini-batches created: 1248\n"
     ]
    }
   ],
   "source": [
    "data.info()"
   ]
  },
  {
   "cell_type": "code",
   "execution_count": null,
   "metadata": {},
   "outputs": [
    {
     "data": {
      "image/png": "[encoded data removed]",
      "text/plain": [
       "<Figure size 432x288 with 1 Axes>"
      ]
     },
     "metadata": {
      "needs_background": "light"
     },
     "output_type": "display_data"
    }
   ],
   "source": [
    "plt.plot(running_loss_data, color='red')\n",
    "plt.xlabel('Epochs')\n",
    "plt.xlim(0, 199)\n",
    "plt.ylabel('Loss function (MSE)')\n",
    "plt.yscale('log')\n",
    "# plt.savefig('Democritus_loss.png', bbox_inches='tight')\n",
    "plt.show()"
   ]
  },
  {
   "cell_type": "code",
   "execution_count": null,
   "metadata": {},
   "outputs": [
    {
     "data": {
      "image/png": "[encoded data removed]",
      "text/plain": [
       "<Figure size 432x288 with 1 Axes>"
      ]
     },
     "metadata": {
      "needs_background": "light"
     },
     "output_type": "display_data"
    }
   ],
   "source": [
    "plt.plot(accuracy_data, color='blue')\n",
    "plt.xlabel('Epochs')\n",
    "plt.ylabel('Accuracy')\n",
    "plt.xlim(0, 199)\n",
    "plt.ylim(0.5, 1)\n",
    "# plt.savefig('Democritus_accuracy.png', bbox_inches='tight')\n",
    "plt.show()"
   ]
  },
  {
   "cell_type": "code",
   "execution_count": null,
   "metadata": {},
   "outputs": [],
   "source": [
    "error_data = [1.0 - x for x in accuracy_data]"
   ]
  },
  {
   "cell_type": "code",
   "execution_count": null,
   "metadata": {},
   "outputs": [
    {
     "data": {
      "image/png": "[encoded data removed]",
      "text/plain": [
       "<Figure size 432x288 with 1 Axes>"
      ]
     },
     "metadata": {
      "needs_background": "light"
     },
     "output_type": "display_data"
    }
   ],
   "source": [
    "plt.plot(error_data, color='green')\n",
    "plt.xlabel('Epochs')\n",
    "plt.xlim(0, 199)\n",
    "plt.ylabel('Error')\n",
    "plt.yscale('log')\n",
    "plt.show()"
   ]
  },
  {
   "cell_type": "markdown",
   "metadata": {},
   "source": [
    "## Loading the model\n",
    "\n",
    "Once the model has been trained, this can be used to load its state dictionary:"
   ]
  },
  {
   "cell_type": "code",
   "execution_count": null,
   "metadata": {},
   "outputs": [
    {
     "data": {
      "text/plain": [
       "Sequential(\n",
       "  (0): Conv2d(1, 20, kernel_size=(3, 3), stride=(3, 3), padding=(1, 1))\n",
       "  (1): ReLU()\n",
       "  (2): Conv2d(20, 40, kernel_size=(2, 2), stride=(1, 1))\n",
       "  (3): ReLU()\n",
       "  (4): Conv2d(40, 40, kernel_size=(2, 2), stride=(1, 1))\n",
       "  (5): ReLU()\n",
       "  (6): Conv2d(40, 40, kernel_size=(2, 2), stride=(1, 1))\n",
       "  (7): ReLU()\n",
       "  (8): Conv2d(40, 10, kernel_size=(2, 2), stride=(1, 1))\n",
       "  (9): AdaptiveMaxPool2d(output_size=1)\n",
       "  (10): Flatten(start_dim=1, end_dim=-1)\n",
       "  (11): Linear(in_features=10, out_features=3, bias=True)\n",
       "  (12): ReLU()\n",
       "  (13): Linear(in_features=3, out_features=1, bias=True)\n",
       ")"
      ]
     },
     "execution_count": null,
     "metadata": {},
     "output_type": "execute_result"
    }
   ],
   "source": [
    "net2 = torch.load('models/Descartes.pt')\n",
    "net2.eval()"
   ]
  },
  {
   "cell_type": "markdown",
   "metadata": {},
   "source": [
    "## Validation"
   ]
  },
  {
   "cell_type": "code",
   "execution_count": null,
   "metadata": {},
   "outputs": [],
   "source": [
    "x, y = generate_batch(1000)"
   ]
  },
  {
   "cell_type": "code",
   "execution_count": null,
   "metadata": {},
   "outputs": [],
   "source": [
    "y_preds = net2(x).data"
   ]
  },
  {
   "cell_type": "code",
   "execution_count": null,
   "metadata": {},
   "outputs": [
    {
     "data": {
      "text/plain": [
       "tensor(0.9890)"
      ]
     },
     "execution_count": null,
     "metadata": {},
     "output_type": "execute_result"
    }
   ],
   "source": [
    "accuracy(y_preds, y)"
   ]
  },
  {
   "cell_type": "code",
   "execution_count": null,
   "metadata": {},
   "outputs": [
    {
     "data": {
      "text/plain": [
       "(tensor(0.5000), tensor(0.5003), tensor(0.4742), tensor(0.4563))"
      ]
     },
     "execution_count": null,
     "metadata": {},
     "output_type": "execute_result"
    }
   ],
   "source": [
    "y.mean(), y.std(), y_preds.mean(), y_preds.std()"
   ]
  },
  {
   "cell_type": "code",
   "execution_count": null,
   "metadata": {},
   "outputs": [
    {
     "data": {
      "text/plain": [
       "[[35, 1.0, 0.14153707027435303],\n",
       " [135, 1.0, 0.38496291637420654],\n",
       " [285, 1.0, 0.38496291637420654],\n",
       " [338, 0.0, 0.8244150280952454],\n",
       " [454, 0.0, 0.8483152389526367],\n",
       " [509, 1.0, 0.28739964962005615],\n",
       " [552, 0.0, 0.8244150280952454],\n",
       " [606, 0.0, 0.8483152389526367],\n",
       " [683, 1.0, 0.0024511723313480616],\n",
       " [820, 0.0, 0.8483152389526367],\n",
       " [853, 1.0, 0.28739964962005615],\n",
       " [983, 1.0, 0.4784999489784241]]"
      ]
     },
     "execution_count": null,
     "metadata": {},
     "output_type": "execute_result"
    }
   ],
   "source": [
    "mistakes = []\n",
    "for i in range(y.shape[0]):\n",
    "    if (y_preds[i] > 0.5) != y[i]:\n",
    "        mistakes.append([i, y[i].item(), y_preds[i].item()])\n",
    "mistakes"
   ]
  },
  {
   "cell_type": "code",
   "execution_count": null,
   "metadata": {},
   "outputs": [
    {
     "data": {
      "image/png": "[encoded data removed]",
      "text/plain": [
       "<PIL.Image.Image image mode=1 size=94x94 at 0x7F6B31CF2370>"
      ]
     },
     "execution_count": null,
     "metadata": {},
     "output_type": "execute_result"
    }
   ],
   "source": [
    "MSvisualize(x[mistakes[0][0]])"
   ]
  },
  {
   "cell_type": "markdown",
   "metadata": {},
   "source": [
    "## Remarks\n",
    "\n",
    "- It is crucial to use dynamical data here, otherwise the model finds a way of overfitting the training data. With 20,000 grids, after fitting to 99% accuracy in 200 epochs, the validation only gives 92% accuracy. This shows that while the model found some features, it also overfitted the data."
   ]
  },
  {
   "cell_type": "code",
   "execution_count": null,
   "metadata": {},
   "outputs": [],
   "source": []
  }
 ],
 "metadata": {
  "kernelspec": {
   "display_name": "Python 3",
   "language": "python",
   "name": "python3"
  }
 },
 "nbformat": 4,
 "nbformat_minor": 4
}
